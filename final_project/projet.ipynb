{
 "cells": [
  {
   "cell_type": "markdown",
   "metadata": {},
   "source": [
    "# Projet Final"
   ]
  },
  {
   "cell_type": "code",
   "execution_count": 2,
   "metadata": {},
   "outputs": [],
   "source": [
    "import requests\n",
    "import datetime\n",
    "import pandas as pd\n",
    "from bs4 import BeautifulSoup\n",
    "import os\n",
    "import numpy as np\n",
    "import plotly.graph_objects as go\n",
    "import plotly.express as px\n",
    "import unicodedata"
   ]
  },
  {
   "cell_type": "markdown",
   "metadata": {},
   "source": [
    "### Aquisition des données\n"
   ]
  },
  {
   "cell_type": "markdown",
   "metadata": {},
   "source": [
    "##### Acquisition des classements journaliers. "
   ]
  },
  {
   "cell_type": "code",
   "execution_count": null,
   "metadata": {},
   "outputs": [],
   "source": [
    "\n",
    "url_template = \"https://www.vendeeglobe.org/download-race-data/vendeeglobe_{}_{}.xlsx\"\n",
    "\n",
    "begin_datetime = datetime.datetime(year=2020, month=11, day=8, hour=14)\n",
    "end_datetime = datetime.datetime(year=2021, month=3, day=5, hour=8)\n",
    "time_delta = datetime.timedelta(hours=1)\n",
    "\n",
    "files_count = 0\n",
    "while begin_datetime <= end_datetime:\n",
    "    try:\n",
    "        url = url_template.format(begin_datetime.date().strftime(\"%Y%m%d\"), begin_datetime.time().strftime(\"%H%M%S\"))\n",
    "        r = requests.get(url)\n",
    "        if r.status_code == requests.codes.ok:\n",
    "            files_count +=1\n",
    "            with open(\"./datasets/\"+url.split('/')[-1], 'wb') as f:\n",
    "                f.write(r.content)\n",
    "    except:\n",
    "        pass\n",
    "    begin_datetime += time_delta\n",
    "\n",
    "print(\"{} files downloaded\".format(files_count))\n"
   ]
  },
  {
   "cell_type": "markdown",
   "metadata": {},
   "source": [
    "##### Aquisition des spécifications des voiliers"
   ]
  },
  {
   "cell_type": "code",
   "execution_count": 3,
   "metadata": {},
   "outputs": [
    {
     "data": {
      "text/html": [
       "<div>\n",
       "<style scoped>\n",
       "    .dataframe tbody tr th:only-of-type {\n",
       "        vertical-align: middle;\n",
       "    }\n",
       "\n",
       "    .dataframe tbody tr th {\n",
       "        vertical-align: top;\n",
       "    }\n",
       "\n",
       "    .dataframe thead th {\n",
       "        text-align: right;\n",
       "    }\n",
       "</style>\n",
       "<table border=\"1\" class=\"dataframe\">\n",
       "  <thead>\n",
       "    <tr style=\"text-align: right;\">\n",
       "      <th></th>\n",
       "      <th>Skipper</th>\n",
       "      <th>Bateau</th>\n",
       "      <th>Numéro de voile</th>\n",
       "      <th>Anciens noms du bateau</th>\n",
       "      <th>Architecte</th>\n",
       "      <th>Chantier</th>\n",
       "      <th>Date de lancement</th>\n",
       "      <th>Longeur (m)</th>\n",
       "      <th>Largeur (m)</th>\n",
       "      <th>Tirant d'eau (m)</th>\n",
       "      <th>Déplacement (poids en tonne)</th>\n",
       "      <th>Nombre de dérives</th>\n",
       "      <th>Hauteur mât (m)</th>\n",
       "      <th>Voile quille</th>\n",
       "      <th>Surface de voiles au près (m2)</th>\n",
       "      <th>Surface de voiles au portant (m2)</th>\n",
       "    </tr>\n",
       "  </thead>\n",
       "  <tbody>\n",
       "    <tr>\n",
       "      <th>0</th>\n",
       "      <td>Fabrice AMEDEO</td>\n",
       "      <td>NEWREST - ART &amp; FENÊTRES</td>\n",
       "      <td>FRA 56</td>\n",
       "      <td>No Way Back, Vento di Sardegna</td>\n",
       "      <td>VPLP/Verdier</td>\n",
       "      <td>Persico Marine</td>\n",
       "      <td>01 Août 2015</td>\n",
       "      <td>18.28</td>\n",
       "      <td>5.85</td>\n",
       "      <td>4.5</td>\n",
       "      <td>7.0</td>\n",
       "      <td>foils</td>\n",
       "      <td>29.0</td>\n",
       "      <td>monotype</td>\n",
       "      <td>320</td>\n",
       "      <td>570</td>\n",
       "    </tr>\n",
       "    <tr>\n",
       "      <th>1</th>\n",
       "      <td>Romain ATTANASIO</td>\n",
       "      <td>PURE - Best Western®</td>\n",
       "      <td>FRA 49</td>\n",
       "      <td>Gitana Eighty, Synerciel, Newrest-Matmut</td>\n",
       "      <td>Bruce Farr Design</td>\n",
       "      <td>Southern Ocean Marine (Nouvelle Zélande)</td>\n",
       "      <td>08 Mars 2007</td>\n",
       "      <td>18.28</td>\n",
       "      <td>5.80</td>\n",
       "      <td>4.5</td>\n",
       "      <td>9.0</td>\n",
       "      <td>2</td>\n",
       "      <td>28.0</td>\n",
       "      <td>acier forgé</td>\n",
       "      <td>280</td>\n",
       "      <td>560</td>\n",
       "    </tr>\n",
       "    <tr>\n",
       "      <th>2</th>\n",
       "      <td>Alexia BARRIER</td>\n",
       "      <td>TSE -  4MYPLANET</td>\n",
       "      <td>FRA72</td>\n",
       "      <td>Famille Mary-Etamine du Lys, Initiatives Coeur...</td>\n",
       "      <td>Marc Lombard</td>\n",
       "      <td>MAG France</td>\n",
       "      <td>01 Mars 1998</td>\n",
       "      <td>18.28</td>\n",
       "      <td>5.54</td>\n",
       "      <td>4.5</td>\n",
       "      <td>9.0</td>\n",
       "      <td>2</td>\n",
       "      <td>29.0</td>\n",
       "      <td>acier</td>\n",
       "      <td>260</td>\n",
       "      <td>580</td>\n",
       "    </tr>\n",
       "    <tr>\n",
       "      <th>3</th>\n",
       "      <td>Yannick BESTAVEN</td>\n",
       "      <td>Maître CoQ IV</td>\n",
       "      <td>17</td>\n",
       "      <td>Safran 2 - Des Voiles et Vous</td>\n",
       "      <td>Verdier - VPLP</td>\n",
       "      <td>CDK Technologies</td>\n",
       "      <td>12 Mars 2015</td>\n",
       "      <td>18.28</td>\n",
       "      <td>5.80</td>\n",
       "      <td>4.5</td>\n",
       "      <td>8.0</td>\n",
       "      <td>foils</td>\n",
       "      <td>29.0</td>\n",
       "      <td>acier mécano soudé</td>\n",
       "      <td>310</td>\n",
       "      <td>550</td>\n",
       "    </tr>\n",
       "    <tr>\n",
       "      <th>4</th>\n",
       "      <td>Jérémie BEYOU</td>\n",
       "      <td>CHARAL</td>\n",
       "      <td>08</td>\n",
       "      <td>NaN</td>\n",
       "      <td>VPLP</td>\n",
       "      <td>CDK Technologies</td>\n",
       "      <td>18 Août 2018</td>\n",
       "      <td>18.28</td>\n",
       "      <td>5.85</td>\n",
       "      <td>4.5</td>\n",
       "      <td>8.0</td>\n",
       "      <td>foils</td>\n",
       "      <td>29.0</td>\n",
       "      <td>acier</td>\n",
       "      <td>320</td>\n",
       "      <td>600</td>\n",
       "    </tr>\n",
       "  </tbody>\n",
       "</table>\n",
       "</div>"
      ],
      "text/plain": [
       "            Skipper                    Bateau Numéro de voile  \\\n",
       "0    Fabrice AMEDEO  NEWREST - ART & FENÊTRES          FRA 56   \n",
       "1  Romain ATTANASIO      PURE - Best Western®          FRA 49   \n",
       "2    Alexia BARRIER          TSE -  4MYPLANET           FRA72   \n",
       "3  Yannick BESTAVEN             Maître CoQ IV              17   \n",
       "4     Jérémie BEYOU                    CHARAL              08   \n",
       "\n",
       "                              Anciens noms du bateau         Architecte  \\\n",
       "0                     No Way Back, Vento di Sardegna       VPLP/Verdier   \n",
       "1           Gitana Eighty, Synerciel, Newrest-Matmut  Bruce Farr Design   \n",
       "2  Famille Mary-Etamine du Lys, Initiatives Coeur...       Marc Lombard   \n",
       "3                      Safran 2 - Des Voiles et Vous     Verdier - VPLP   \n",
       "4                                                NaN               VPLP   \n",
       "\n",
       "                                   Chantier Date de lancement  Longeur (m)  \\\n",
       "0                            Persico Marine      01 Août 2015        18.28   \n",
       "1  Southern Ocean Marine (Nouvelle Zélande)      08 Mars 2007        18.28   \n",
       "2                                MAG France      01 Mars 1998        18.28   \n",
       "3                          CDK Technologies      12 Mars 2015        18.28   \n",
       "4                          CDK Technologies      18 Août 2018        18.28   \n",
       "\n",
       "   Largeur (m)  Tirant d'eau (m)  Déplacement (poids en tonne)  \\\n",
       "0         5.85               4.5                           7.0   \n",
       "1         5.80               4.5                           9.0   \n",
       "2         5.54               4.5                           9.0   \n",
       "3         5.80               4.5                           8.0   \n",
       "4         5.85               4.5                           8.0   \n",
       "\n",
       "  Nombre de dérives  Hauteur mât (m)        Voile quille  \\\n",
       "0             foils             29.0            monotype   \n",
       "1                 2             28.0         acier forgé   \n",
       "2                 2             29.0               acier   \n",
       "3             foils             29.0  acier mécano soudé   \n",
       "4             foils             29.0               acier   \n",
       "\n",
       "   Surface de voiles au près (m2)  Surface de voiles au portant (m2)  \n",
       "0                             320                                570  \n",
       "1                             280                                560  \n",
       "2                             260                                580  \n",
       "3                             310                                550  \n",
       "4                             320                                600  "
      ]
     },
     "execution_count": 3,
     "metadata": {},
     "output_type": "execute_result"
    }
   ],
   "source": [
    "def remove_unit(s, u):\n",
    "    return s.replace(u,'').strip()\n",
    "\n",
    "r = requests.get(\"https://www.vendeeglobe.org/fr/glossaire\")\n",
    "soup = BeautifulSoup(r.content, \"html.parser\")\n",
    "soup.prettify()\n",
    "specs = []\n",
    "for s in soup.find_all(\"div\", {\"class\": \"boats-list__popup-infos\"}):\n",
    "    d = {}\n",
    "    d[\"Skipper\"] = s.find_previous(\"span\").text\n",
    "    d[\"Bateau\"] = s.find(\"h3\", {\"class\": \"boats-list__popup-title\"}).text\n",
    "    for l in s.find_all(\"li\"):\n",
    "        text = l.text.split(':')\n",
    "        d[text[0].strip()] = text[1].strip()\n",
    "    specs.append(d)\n",
    "df_spec = pd.DataFrame(specs)\n",
    "#df_spec[\"Date de lancement\"] = pd.to_datetime(df_spec[\"Date de lancement\"] , format=\"%d %B %Y\")\n",
    "df_spec[\"Longueur\"] = df_spec[\"Longueur\"].apply(lambda x: x.split('m')[0].replace(',', '.').strip()).astype(float)\n",
    "df_spec[\"Largeur\"] = df_spec[\"Largeur\"].apply(lambda x: x.split('m')[0].replace(',', '.').strip()).astype(float)\n",
    "df_spec[\"Tirant d'eau\"] = df_spec[\"Tirant d'eau\"].apply(lambda x: x.split('m')[0].replace(',', '.').strip()).astype(float)\n",
    "df_spec[\"Déplacement (poids)\"] = pd.to_numeric(df_spec[\"Déplacement (poids)\"].apply(lambda x: x.split('t')[0].replace(',', '.').strip()), errors=\"coerce\")\n",
    "df_spec[\"Hauteur mât\"] = pd.to_numeric(df_spec[\"Hauteur mât\"].apply(lambda x: x.replace('m','').replace(',', '.').strip()), errors=\"coerce\")\n",
    "df_spec[\"Surface de voiles au près\"] = pd.to_numeric(df_spec[\"Surface de voiles au près\"].apply(lambda x: x.split('m')[0].replace(',', '.').strip()), errors=\"coerce\")\n",
    "df_spec[\"Surface de voiles au portant\"] = pd.to_numeric(df_spec[\"Surface de voiles au portant\"].apply(lambda x: x.split('m')[0].replace(',', '.').strip()), errors=\"coerce\")\n",
    "df_spec = df_spec.rename(columns={\"Longueur\": \"Longeur (m)\", \"Largeur\": \"Largeur (m)\", \"Tirant d'eau\": \"Tirant d'eau (m)\", \"Déplacement (poids)\": \"Déplacement (poids en tonne)\",\\\n",
    "     \"Hauteur mât\":\"Hauteur mât (m)\", \"Surface de voiles au près\": \"Surface de voiles au près (m2)\", \"Surface de voiles au portant\": \"Surface de voiles au portant (m2)\"})\n",
    "\n",
    "df_spec.head()"
   ]
  },
  {
   "cell_type": "markdown",
   "metadata": {},
   "source": [
    "##### N.B: Nous traitons uniquement les données du 8 novembre 2020 au 27 janvier 2021"
   ]
  },
  {
   "cell_type": "code",
   "execution_count": 5,
   "metadata": {},
   "outputs": [
    {
     "name": "stderr",
     "output_type": "stream",
     "text": [
      "/home/vsoking/anaconda3/envs/geo_env/lib/python3.8/site-packages/IPython/core/interactiveshell.py:2901: PerformanceWarning: indexing past lexsort depth may impact performance.\n",
      "  result = self._run_cell(\n",
      "/home/vsoking/anaconda3/envs/geo_env/lib/python3.8/site-packages/IPython/core/async_helpers.py:68: PerformanceWarning: indexing past lexsort depth may impact performance.\n",
      "  coro.send(None)\n",
      "/home/vsoking/anaconda3/envs/geo_env/lib/python3.8/site-packages/IPython/core/interactiveshell.py:3172: PerformanceWarning: indexing past lexsort depth may impact performance.\n",
      "  has_raised = await self.run_ast_nodes(code_ast.body, cell_name,\n",
      "/home/vsoking/anaconda3/envs/geo_env/lib/python3.8/site-packages/IPython/core/interactiveshell.py:2947: PerformanceWarning: indexing past lexsort depth may impact performance.\n",
      "  return runner(coro)\n"
     ]
    },
    {
     "data": {
      "text/html": [
       "<div>\n",
       "<style scoped>\n",
       "    .dataframe tbody tr th:only-of-type {\n",
       "        vertical-align: middle;\n",
       "    }\n",
       "\n",
       "    .dataframe tbody tr th {\n",
       "        vertical-align: top;\n",
       "    }\n",
       "\n",
       "    .dataframe thead tr th {\n",
       "        text-align: left;\n",
       "    }\n",
       "\n",
       "    .dataframe thead tr:last-of-type th {\n",
       "        text-align: right;\n",
       "    }\n",
       "</style>\n",
       "<table border=\"1\" class=\"dataframe\">\n",
       "  <thead>\n",
       "    <tr>\n",
       "      <th></th>\n",
       "      <th></th>\n",
       "      <th>Rang</th>\n",
       "      <th>Skipper / Bateau</th>\n",
       "      <th>Heure FR</th>\n",
       "      <th>Latitude</th>\n",
       "      <th>Longitude</th>\n",
       "      <th colspan=\"4\" halign=\"left\">Depuis 30 minutes</th>\n",
       "      <th colspan=\"4\" halign=\"left\">Depuis le dernier classement</th>\n",
       "      <th colspan=\"4\" halign=\"left\">Depuis 24 heures</th>\n",
       "      <th>DTF</th>\n",
       "      <th>DTL</th>\n",
       "    </tr>\n",
       "    <tr>\n",
       "      <th></th>\n",
       "      <th></th>\n",
       "      <th></th>\n",
       "      <th></th>\n",
       "      <th></th>\n",
       "      <th></th>\n",
       "      <th></th>\n",
       "      <th>Cap</th>\n",
       "      <th>Vitesse</th>\n",
       "      <th>VMG</th>\n",
       "      <th>Distance</th>\n",
       "      <th>Cap</th>\n",
       "      <th>Vitesse</th>\n",
       "      <th>VMG</th>\n",
       "      <th>Distance</th>\n",
       "      <th>Cap</th>\n",
       "      <th>Vitesse</th>\n",
       "      <th>VMG</th>\n",
       "      <th>Distance</th>\n",
       "      <th></th>\n",
       "      <th></th>\n",
       "    </tr>\n",
       "    <tr>\n",
       "      <th>Date</th>\n",
       "      <th>Nat. / Voile</th>\n",
       "      <th></th>\n",
       "      <th></th>\n",
       "      <th></th>\n",
       "      <th></th>\n",
       "      <th></th>\n",
       "      <th></th>\n",
       "      <th></th>\n",
       "      <th></th>\n",
       "      <th></th>\n",
       "      <th></th>\n",
       "      <th></th>\n",
       "      <th></th>\n",
       "      <th></th>\n",
       "      <th></th>\n",
       "      <th></th>\n",
       "      <th></th>\n",
       "      <th></th>\n",
       "      <th></th>\n",
       "      <th></th>\n",
       "    </tr>\n",
       "  </thead>\n",
       "  <tbody>\n",
       "    <tr>\n",
       "      <th rowspan=\"5\" valign=\"top\">2020-11-08 14:00:00</th>\n",
       "      <th>ESP 33</th>\n",
       "      <td>24</td>\n",
       "      <td>Didac Costa / One Planet One Ocean</td>\n",
       "      <td>15:30 FR\\n</td>\n",
       "      <td>46°25.59'N</td>\n",
       "      <td>01°48.85'W</td>\n",
       "      <td>238°</td>\n",
       "      <td>13.4 kts</td>\n",
       "      <td>13.4 kts</td>\n",
       "      <td>0.2 nm</td>\n",
       "      <td>357°</td>\n",
       "      <td>0.0 kts</td>\n",
       "      <td>0.0 kts</td>\n",
       "      <td>2789.1 nm</td>\n",
       "      <td>193°</td>\n",
       "      <td>0.7 kts</td>\n",
       "      <td>0.6 kts</td>\n",
       "      <td>4.7 nm</td>\n",
       "      <td>24295.4 nm</td>\n",
       "      <td>1.5 nm</td>\n",
       "    </tr>\n",
       "    <tr>\n",
       "      <th>FIN 222</th>\n",
       "      <td>31</td>\n",
       "      <td>Ari Huusela / Stark</td>\n",
       "      <td>15:30 FR\\n</td>\n",
       "      <td>46°25.65'N</td>\n",
       "      <td>01°48.21'W</td>\n",
       "      <td>234°</td>\n",
       "      <td>12.1 kts</td>\n",
       "      <td>12.0 kts</td>\n",
       "      <td>0.2 nm</td>\n",
       "      <td>358°</td>\n",
       "      <td>0.0 kts</td>\n",
       "      <td>0.0 kts</td>\n",
       "      <td>2789.1 nm</td>\n",
       "      <td>188°</td>\n",
       "      <td>0.2 kts</td>\n",
       "      <td>0.2 kts</td>\n",
       "      <td>4.6 nm</td>\n",
       "      <td>24295.8 nm</td>\n",
       "      <td>1.9 nm</td>\n",
       "    </tr>\n",
       "    <tr>\n",
       "      <th>FRA 01</th>\n",
       "      <td>7</td>\n",
       "      <td>Jean Le Cam / Yes we Cam !</td>\n",
       "      <td>15:30 FR\\n</td>\n",
       "      <td>46°24.90'N</td>\n",
       "      <td>01°49.49'W</td>\n",
       "      <td>247°</td>\n",
       "      <td>10.7 kts</td>\n",
       "      <td>10.7 kts</td>\n",
       "      <td>0.2 nm</td>\n",
       "      <td>357°</td>\n",
       "      <td>0.0 kts</td>\n",
       "      <td>0.0 kts</td>\n",
       "      <td>2788.4 nm</td>\n",
       "      <td>196°</td>\n",
       "      <td>0.2 kts</td>\n",
       "      <td>0.2 kts</td>\n",
       "      <td>5.5 nm</td>\n",
       "      <td>24294.7 nm</td>\n",
       "      <td>0.8 nm</td>\n",
       "    </tr>\n",
       "    <tr>\n",
       "      <th>FRA 09</th>\n",
       "      <td>25</td>\n",
       "      <td>Benjamin Dutreux / OMIA - Water Family</td>\n",
       "      <td>15:29 FR\\n-1min</td>\n",
       "      <td>46°25.47'N</td>\n",
       "      <td>01°48.74'W</td>\n",
       "      <td>247°</td>\n",
       "      <td>11.6 kts</td>\n",
       "      <td>11.6 kts</td>\n",
       "      <td>0.4 nm</td>\n",
       "      <td>357°</td>\n",
       "      <td>0.0 kts</td>\n",
       "      <td>0.0 kts</td>\n",
       "      <td>2789.0 nm</td>\n",
       "      <td>192°</td>\n",
       "      <td>0.2 kts</td>\n",
       "      <td>0.2 kts</td>\n",
       "      <td>4.8 nm</td>\n",
       "      <td>24295.4 nm</td>\n",
       "      <td>1.5 nm</td>\n",
       "    </tr>\n",
       "    <tr>\n",
       "      <th>FRA 1000</th>\n",
       "      <td>14</td>\n",
       "      <td>Damien Seguin / Groupe APICIL</td>\n",
       "      <td>15:28 FR\\n-2min</td>\n",
       "      <td>46°24.84'N</td>\n",
       "      <td>01°49.02'W</td>\n",
       "      <td>232°</td>\n",
       "      <td>7.5 kts</td>\n",
       "      <td>7.2 kts</td>\n",
       "      <td>2.7 nm</td>\n",
       "      <td>357°</td>\n",
       "      <td>0.0 kts</td>\n",
       "      <td>0.0 kts</td>\n",
       "      <td>2788.4 nm</td>\n",
       "      <td>192°</td>\n",
       "      <td>0.2 kts</td>\n",
       "      <td>0.2 kts</td>\n",
       "      <td>5.4 nm</td>\n",
       "      <td>24294.9 nm</td>\n",
       "      <td>1.1 nm</td>\n",
       "    </tr>\n",
       "  </tbody>\n",
       "</table>\n",
       "</div>"
      ],
      "text/plain": [
       "                                 Rang                        Skipper / Bateau  \\\n",
       "                                                                                \n",
       "Date                Nat. / Voile                                                \n",
       "2020-11-08 14:00:00 ESP 33         24      Didac Costa / One Planet One Ocean   \n",
       "                    FIN 222        31                     Ari Huusela / Stark   \n",
       "                    FRA 01          7              Jean Le Cam / Yes we Cam !   \n",
       "                    FRA 09         25  Benjamin Dutreux / OMIA - Water Family   \n",
       "                    FRA 1000       14           Damien Seguin / Groupe APICIL   \n",
       "\n",
       "                                         Heure FR    Latitude   Longitude  \\\n",
       "                                                                            \n",
       "Date                Nat. / Voile                                            \n",
       "2020-11-08 14:00:00 ESP 33             15:30 FR\\n  46°25.59'N  01°48.85'W   \n",
       "                    FIN 222            15:30 FR\\n  46°25.65'N  01°48.21'W   \n",
       "                    FRA 01             15:30 FR\\n  46°24.90'N  01°49.49'W   \n",
       "                    FRA 09        15:29 FR\\n-1min  46°25.47'N  01°48.74'W   \n",
       "                    FRA 1000      15:28 FR\\n-2min  46°24.84'N  01°49.02'W   \n",
       "\n",
       "                                 Depuis 30 minutes                      \\\n",
       "                                               Cap   Vitesse       VMG   \n",
       "Date                Nat. / Voile                                         \n",
       "2020-11-08 14:00:00 ESP 33                    238°  13.4 kts  13.4 kts   \n",
       "                    FIN 222                   234°  12.1 kts  12.0 kts   \n",
       "                    FRA 01                    247°  10.7 kts  10.7 kts   \n",
       "                    FRA 09                    247°  11.6 kts  11.6 kts   \n",
       "                    FRA 1000                  232°   7.5 kts   7.2 kts   \n",
       "\n",
       "                                          Depuis le dernier classement  \\\n",
       "                                 Distance                          Cap   \n",
       "Date                Nat. / Voile                                         \n",
       "2020-11-08 14:00:00 ESP 33         0.2 nm                         357°   \n",
       "                    FIN 222        0.2 nm                         358°   \n",
       "                    FRA 01         0.2 nm                         357°   \n",
       "                    FRA 09         0.4 nm                         357°   \n",
       "                    FRA 1000       2.7 nm                         357°   \n",
       "\n",
       "                                                               \\\n",
       "                                  Vitesse      VMG   Distance   \n",
       "Date                Nat. / Voile                                \n",
       "2020-11-08 14:00:00 ESP 33        0.0 kts  0.0 kts  2789.1 nm   \n",
       "                    FIN 222       0.0 kts  0.0 kts  2789.1 nm   \n",
       "                    FRA 01        0.0 kts  0.0 kts  2788.4 nm   \n",
       "                    FRA 09        0.0 kts  0.0 kts  2789.0 nm   \n",
       "                    FRA 1000      0.0 kts  0.0 kts  2788.4 nm   \n",
       "\n",
       "                                 Depuis 24 heures                             \\\n",
       "                                              Cap  Vitesse      VMG Distance   \n",
       "Date                Nat. / Voile                                               \n",
       "2020-11-08 14:00:00 ESP 33                   193°  0.7 kts  0.6 kts   4.7 nm   \n",
       "                    FIN 222                  188°  0.2 kts  0.2 kts   4.6 nm   \n",
       "                    FRA 01                   196°  0.2 kts  0.2 kts   5.5 nm   \n",
       "                    FRA 09                   192°  0.2 kts  0.2 kts   4.8 nm   \n",
       "                    FRA 1000                 192°  0.2 kts  0.2 kts   5.4 nm   \n",
       "\n",
       "                                         DTF     DTL  \n",
       "                                                      \n",
       "Date                Nat. / Voile                      \n",
       "2020-11-08 14:00:00 ESP 33        24295.4 nm  1.5 nm  \n",
       "                    FIN 222       24295.8 nm  1.9 nm  \n",
       "                    FRA 01        24294.7 nm  0.8 nm  \n",
       "                    FRA 09        24295.4 nm  1.5 nm  \n",
       "                    FRA 1000      24294.9 nm  1.1 nm  "
      ]
     },
     "execution_count": 5,
     "metadata": {},
     "output_type": "execute_result"
    }
   ],
   "source": [
    "df_ranks = pd.DataFrame()\n",
    "count = 0\n",
    "for f_name in os.listdir(\"datasets/\"):\n",
    "    try:\n",
    "        df = pd.read_excel(\"datasets/\"+f_name, header=None, usecols=\"B:U\", skiprows=lambda x: x>37)\n",
    "        df.iloc[3,[3,4,5]] = df.iloc[4,[3,4,5]]\n",
    "        df.iloc[4,5] = df.iloc[4,3] =  df.iloc[4,4] = ''\n",
    "        df.iloc[3:5] = df.iloc[3:5].fillna('')\n",
    "        df.iloc[3, [7,8,9]] = df.iloc[3,6]\n",
    "        df.iloc[3, [11,12,13]] = df.iloc[3,10]\n",
    "        df.iloc[3, [15,16,17]] = df.iloc[3,14]\n",
    "        df.iloc[3] = df.iloc[3].apply(lambda x: x.split('\\n')[0])\n",
    "        df.iloc[4] = df.iloc[4].apply(lambda x: x.split('\\n')[0])\n",
    "        df.columns= pd.MultiIndex.from_tuples(zip(*df.iloc[3:5].to_records(index=False).tolist()))\n",
    "        df = df.iloc[5:]\n",
    "        df[(\"Nat. / Voile\",)] = df[(\"Nat. / Voile\",)].str.replace('\\n', '', regex=True)\n",
    "        df[(\"Skipper / Bateau\",)] = df[(\"Skipper / Bateau\",)].str.replace('\\n', ' / ', regex=True)\n",
    "        #df[(\"Depuis 30 minutes\", \"Vitesse\")] = df[(\"Depuis 30 minutes\", \"Vitesse\")].apply(lambda x: remove_unit(x, \"kts\"))\n",
    "        date_t = ''.join([f_name.split('_')[1], f_name.split('_')[-1].split('.')[0]])\n",
    "        df[\"Date\"] = pd.to_datetime(datetime.datetime.strptime(date_t, \"%Y%m%d%H%M%S\"))\n",
    "        df_ranks = pd.concat([df_ranks, df])\n",
    "    except:\n",
    "        print(f_name)\n",
    "        break\n",
    " \n",
    " \n",
    "df_ranks = df_ranks.set_index([\"Date\", \"Nat. / Voile\"]).sort_index(level=\"Date\")\n",
    "df_ranks.head()\n"
   ]
  },
  {
   "cell_type": "markdown",
   "metadata": {},
   "source": [
    "### Liste des abandons"
   ]
  },
  {
   "cell_type": "code",
   "execution_count": 6,
   "metadata": {},
   "outputs": [
    {
     "data": {
      "text/html": [
       "<div>\n",
       "<style scoped>\n",
       "    .dataframe tbody tr th:only-of-type {\n",
       "        vertical-align: middle;\n",
       "    }\n",
       "\n",
       "    .dataframe tbody tr th {\n",
       "        vertical-align: top;\n",
       "    }\n",
       "\n",
       "    .dataframe thead th {\n",
       "        text-align: right;\n",
       "    }\n",
       "</style>\n",
       "<table border=\"1\" class=\"dataframe\">\n",
       "  <thead>\n",
       "    <tr style=\"text-align: right;\">\n",
       "      <th></th>\n",
       "      <th>Nat. / Voile</th>\n",
       "      <th>Skipper / Bateau</th>\n",
       "    </tr>\n",
       "    <tr>\n",
       "      <th>Date</th>\n",
       "      <th></th>\n",
       "      <th></th>\n",
       "    </tr>\n",
       "  </thead>\n",
       "  <tbody>\n",
       "    <tr>\n",
       "      <th>2020-11-16 17:00:00</th>\n",
       "      <td>FRA 6</td>\n",
       "      <td>Nicolas Troussel / CORUM L'Épargne</td>\n",
       "    </tr>\n",
       "    <tr>\n",
       "      <th>2020-12-01 11:00:00</th>\n",
       "      <td>FRA 85</td>\n",
       "      <td>Kevin Escoffier / PRB</td>\n",
       "    </tr>\n",
       "    <tr>\n",
       "      <th>2020-12-04 11:00:00</th>\n",
       "      <td>GBR 99</td>\n",
       "      <td>Alex Thomson / HUGO BOSS</td>\n",
       "    </tr>\n",
       "    <tr>\n",
       "      <th>2020-12-04 17:00:00</th>\n",
       "      <td>FRA 4</td>\n",
       "      <td>Sébastien Simon / ARKEA PAPREC</td>\n",
       "    </tr>\n",
       "    <tr>\n",
       "      <th>2020-12-05 14:00:00</th>\n",
       "      <td>FRA 109</td>\n",
       "      <td>Samantha Davies / Initiatives - Coeur</td>\n",
       "    </tr>\n",
       "    <tr>\n",
       "      <th>2020-12-11 17:00:00</th>\n",
       "      <td>FRA 56</td>\n",
       "      <td>Fabrice Amedeo / Newrest - Art et Fenetres</td>\n",
       "    </tr>\n",
       "    <tr>\n",
       "      <th>2021-01-10 04:00:00</th>\n",
       "      <td>FRA 27</td>\n",
       "      <td>Isabelle Joschke / MACSF</td>\n",
       "    </tr>\n",
       "    <tr>\n",
       "      <th>2021-01-16 21:00:00</th>\n",
       "      <td>FRFRA 69</td>\n",
       "      <td>Sébastien Destremau / Merci</td>\n",
       "    </tr>\n",
       "  </tbody>\n",
       "</table>\n",
       "</div>"
      ],
      "text/plain": [
       "                    Nat. / Voile                            Skipper / Bateau\n",
       "Date                                                                        \n",
       "2020-11-16 17:00:00        FRA 6          Nicolas Troussel / CORUM L'Épargne\n",
       "2020-12-01 11:00:00       FRA 85                       Kevin Escoffier / PRB\n",
       "2020-12-04 11:00:00       GBR 99                    Alex Thomson / HUGO BOSS\n",
       "2020-12-04 17:00:00        FRA 4              Sébastien Simon / ARKEA PAPREC\n",
       "2020-12-05 14:00:00      FRA 109       Samantha Davies / Initiatives - Coeur\n",
       "2020-12-11 17:00:00       FRA 56  Fabrice Amedeo / Newrest - Art et Fenetres\n",
       "2021-01-10 04:00:00       FRA 27                    Isabelle Joschke / MACSF\n",
       "2021-01-16 21:00:00     FRFRA 69                 Sébastien Destremau / Merci"
      ]
     },
     "execution_count": 6,
     "metadata": {},
     "output_type": "execute_result"
    }
   ],
   "source": [
    "df_ranks.loc[df_ranks[\"Rang\"]=='RET', \"Skipper / Bateau\"].reset_index(level=1).drop_duplicates(keep=\"first\")"
   ]
  },
  {
   "cell_type": "markdown",
   "metadata": {},
   "source": [
    "### Nettoyage des données"
   ]
  },
  {
   "cell_type": "code",
   "execution_count": 7,
   "metadata": {},
   "outputs": [],
   "source": [
    "df_ranks = df_ranks.dropna()\n",
    "df_ranks['Rang'] = df_ranks['Rang'].astype(int)\n",
    "df_ranks[(\"Depuis le dernier classement\", \"Distance\")] = df_ranks[(\"Depuis le dernier classement\", \"Distance\")].apply(lambda x: remove_unit(x, \"nm\")).astype(float)\n",
    "df_ranks[(\"Depuis 24 heures\", \"VMG\")] = df_ranks[(\"Depuis 24 heures\", \"VMG\")].apply(lambda x: remove_unit(x, \"kts\")).astype(float)\n",
    "df_ranks[(\"Depuis 24 heures\", \"Vitesse\")] = df_ranks[(\"Depuis 24 heures\", \"Vitesse\")].apply(lambda x: remove_unit(x, \"kts\")).astype(float)\n",
    "df_ranks[(\"Depuis 24 heures\", \"Distance\")] = df_ranks[(\"Depuis 24 heures\", \"Distance\")].apply(lambda x: remove_unit(x, \"nm\")).astype(float)\n",
    "df_ranks[[(\"Skipper\", ''), (\"Bateau\", '')]] = df_ranks[(\"Skipper / Bateau\")].str.split('/', expand=True)\n",
    "df_ranks[\"Skipper\"] = df_ranks[\"Skipper\"].str.lower().str.strip()\n",
    "df_ranks[\"Skipper\"] = df_ranks[\"Skipper\"].apply(lambda x: \" \".join(unicodedata.normalize(\"NFD\", x).encode(\"ascii\", \"ignore\").decode(\"utf\").split()))\n",
    "df_spec[\"Skipper\"] = df_spec[\"Skipper\"].str.lower().str.strip()\n",
    "df_spec[\"Skipper\"] = df_spec[\"Skipper\"].apply(lambda x: \" \".join(unicodedata.normalize(\"NFD\", x).encode(\"ascii\", \"ignore\").decode(\"utf\").split()))#.apply(lambda x: x = \"samantha davies\" if \"davies\" in x else x).unique()\n",
    "df_spec.loc[df_spec[\"Skipper\"].str.contains(\"davies\"), \"Skipper\"] = \"samantha davies\"\n",
    "\n",
    "ind = [i[0]+i[1] for i in df_ranks.columns.tolist()]\n",
    "df_ranks_flatten = df_ranks.copy()\n",
    "df_ranks_flatten.columns = pd.Index(ind)\n",
    "\n",
    "df_merged = df_ranks_flatten.merge(df_spec[[\"Skipper\", \"Nombre de dérives\"]], left_on=\"Skipper\", right_on=\"Skipper\", how=\"left\")#[\"Nombre de dérives\"]\n",
    "df_merged = df_merged.set_index(df_ranks.index)\n",
    "\n",
    "#df_ranks"
   ]
  },
  {
   "cell_type": "markdown",
   "metadata": {},
   "source": [
    "### Evolution du classement des voiliers durant la course"
   ]
  },
  {
   "cell_type": "code",
   "execution_count": 9,
   "metadata": {},
   "outputs": [
    {
     "data": {
      "application/vnd.plotly.v1+json": {
       "config": {
        "plotlyServerURL": "https://plot.ly"
       },
       "data": [
        {
         "hovertemplate": "Skipper=didac costa<br>Date=%{x}<br>Rang=%{y}<extra></extra>",
         "legendgroup": "didac costa",
         "line": {
          "color": "#636efa",
          "dash": "solid"
         },
         "marker": {
          "symbol": "circle"
         },
         "mode": "lines",
         "name": "didac costa",
         "showlegend": true,
         "type": "scattergl",
         "x": [
          "2020-11-16T14:00:00",
          "2020-11-17T14:00:00",
          "2020-11-18T14:00:00",
          "2020-11-19T14:00:00",
          "2020-11-20T14:00:00",
          "2020-11-21T14:00:00",
          "2020-11-22T14:00:00",
          "2020-11-23T14:00:00",
          "2020-11-24T14:00:00",
          "2020-11-25T14:00:00",
          "2020-11-26T14:00:00",
          "2020-11-27T14:00:00",
          "2020-11-28T14:00:00",
          "2020-11-29T14:00:00",
          "2020-11-30T14:00:00",
          "2020-12-01T14:00:00",
          "2020-12-02T14:00:00",
          "2020-12-03T14:00:00",
          "2020-12-04T14:00:00",
          "2020-12-05T14:00:00",
          "2020-12-06T14:00:00",
          "2020-12-07T14:00:00",
          "2020-12-08T14:00:00",
          "2020-12-09T14:00:00",
          "2020-12-10T14:00:00",
          "2020-12-11T14:00:00",
          "2020-12-12T14:00:00",
          "2020-12-13T14:00:00",
          "2020-12-14T14:00:00",
          "2020-12-15T14:00:00",
          "2020-12-16T14:00:00",
          "2020-12-17T14:00:00",
          "2020-12-18T14:00:00",
          "2020-12-19T14:00:00",
          "2020-12-20T14:00:00",
          "2020-12-21T14:00:00",
          "2020-12-22T14:00:00",
          "2020-12-23T14:00:00",
          "2020-12-24T14:00:00",
          "2020-12-25T14:00:00",
          "2020-12-26T14:00:00",
          "2020-12-27T14:00:00",
          "2020-12-28T14:00:00",
          "2020-12-29T14:00:00",
          "2020-12-30T14:00:00",
          "2020-12-31T14:00:00",
          "2021-01-01T14:00:00",
          "2021-01-02T14:00:00",
          "2021-01-03T14:00:00",
          "2021-01-04T14:00:00",
          "2021-01-05T14:00:00",
          "2021-01-06T14:00:00",
          "2021-01-07T14:00:00",
          "2021-01-08T14:00:00",
          "2021-01-09T14:00:00",
          "2021-01-10T14:00:00",
          "2021-01-11T14:00:00",
          "2021-01-12T14:00:00",
          "2021-01-13T14:00:00",
          "2021-01-14T14:00:00",
          "2021-01-15T14:00:00",
          "2021-01-16T14:00:00",
          "2021-01-17T14:00:00",
          "2021-01-18T14:00:00",
          "2021-01-19T14:00:00",
          "2021-01-20T14:00:00",
          "2021-01-21T14:00:00",
          "2021-01-22T14:00:00",
          "2021-01-23T14:00:00",
          "2021-01-24T14:00:00",
          "2021-01-25T14:00:00",
          "2021-01-26T14:00:00",
          "2021-01-27T14:00:00"
         ],
         "xaxis": "x",
         "y": [
          22,
          20,
          20,
          20,
          20,
          20,
          21,
          21,
          22,
          21,
          22,
          22,
          22,
          22,
          23,
          22,
          22,
          22,
          21,
          19,
          19,
          19,
          19,
          19,
          19,
          18,
          18,
          19,
          18,
          19,
          19,
          19,
          19,
          19,
          19,
          19,
          19,
          19,
          19,
          20,
          20,
          20,
          20,
          20,
          20,
          20,
          20,
          20,
          20,
          20,
          20,
          20,
          20,
          20,
          20,
          19,
          19,
          19,
          19,
          19,
          19,
          19,
          19,
          19,
          19,
          19,
          20,
          20,
          20,
          20,
          20,
          20,
          20
         ],
         "yaxis": "y"
        },
        {
         "hovertemplate": "Skipper=ari huusela<br>Date=%{x}<br>Rang=%{y}<extra></extra>",
         "legendgroup": "ari huusela",
         "line": {
          "color": "#EF553B",
          "dash": "solid"
         },
         "marker": {
          "symbol": "circle"
         },
         "mode": "lines",
         "name": "ari huusela",
         "showlegend": true,
         "type": "scattergl",
         "x": [
          "2020-11-16T14:00:00",
          "2020-11-17T14:00:00",
          "2020-11-18T14:00:00",
          "2020-11-19T14:00:00",
          "2020-11-20T14:00:00",
          "2020-11-21T14:00:00",
          "2020-11-22T14:00:00",
          "2020-11-23T14:00:00",
          "2020-11-24T14:00:00",
          "2020-11-25T14:00:00",
          "2020-11-26T14:00:00",
          "2020-11-27T14:00:00",
          "2020-11-28T14:00:00",
          "2020-11-29T14:00:00",
          "2020-11-30T14:00:00",
          "2020-12-01T14:00:00",
          "2020-12-02T14:00:00",
          "2020-12-03T14:00:00",
          "2020-12-04T14:00:00",
          "2020-12-05T14:00:00",
          "2020-12-06T14:00:00",
          "2020-12-07T14:00:00",
          "2020-12-08T14:00:00",
          "2020-12-09T14:00:00",
          "2020-12-10T14:00:00",
          "2020-12-11T14:00:00",
          "2020-12-12T14:00:00",
          "2020-12-13T14:00:00",
          "2020-12-14T14:00:00",
          "2020-12-15T14:00:00",
          "2020-12-16T14:00:00",
          "2020-12-17T14:00:00",
          "2020-12-18T14:00:00",
          "2020-12-19T14:00:00",
          "2020-12-20T14:00:00",
          "2020-12-21T14:00:00",
          "2020-12-22T14:00:00",
          "2020-12-23T14:00:00",
          "2020-12-24T14:00:00",
          "2020-12-25T14:00:00",
          "2020-12-26T14:00:00",
          "2020-12-27T14:00:00",
          "2020-12-28T14:00:00",
          "2020-12-29T14:00:00",
          "2020-12-30T14:00:00",
          "2020-12-31T14:00:00",
          "2021-01-01T14:00:00",
          "2021-01-02T14:00:00",
          "2021-01-03T14:00:00",
          "2021-01-04T14:00:00",
          "2021-01-05T14:00:00",
          "2021-01-06T14:00:00",
          "2021-01-07T14:00:00",
          "2021-01-08T14:00:00",
          "2021-01-09T14:00:00",
          "2021-01-10T14:00:00",
          "2021-01-11T14:00:00",
          "2021-01-12T14:00:00",
          "2021-01-13T14:00:00",
          "2021-01-14T14:00:00",
          "2021-01-15T14:00:00",
          "2021-01-16T14:00:00",
          "2021-01-17T14:00:00",
          "2021-01-18T14:00:00",
          "2021-01-19T14:00:00",
          "2021-01-20T14:00:00",
          "2021-01-21T14:00:00",
          "2021-01-22T14:00:00",
          "2021-01-23T14:00:00",
          "2021-01-24T14:00:00",
          "2021-01-25T14:00:00",
          "2021-01-26T14:00:00",
          "2021-01-27T14:00:00"
         ],
         "xaxis": "x",
         "y": [
          28,
          26,
          25,
          26,
          26,
          27,
          28,
          28,
          29,
          29,
          29,
          29,
          29,
          29,
          29,
          29,
          29,
          28,
          27,
          25,
          25,
          25,
          26,
          27,
          27,
          28,
          27,
          27,
          27,
          27,
          27,
          26,
          26,
          26,
          26,
          26,
          26,
          26,
          26,
          26,
          26,
          26,
          26,
          26,
          26,
          26,
          26,
          26,
          26,
          26,
          26,
          26,
          26,
          26,
          26,
          25,
          25,
          25,
          25,
          25,
          25,
          25,
          25,
          25,
          25,
          25,
          25,
          25,
          25,
          25,
          25,
          25,
          25
         ],
         "yaxis": "y"
        },
        {
         "hovertemplate": "Skipper=jean le cam<br>Date=%{x}<br>Rang=%{y}<extra></extra>",
         "legendgroup": "jean le cam",
         "line": {
          "color": "#00cc96",
          "dash": "solid"
         },
         "marker": {
          "symbol": "circle"
         },
         "mode": "lines",
         "name": "jean le cam",
         "showlegend": true,
         "type": "scattergl",
         "x": [
          "2020-11-16T14:00:00",
          "2020-11-17T14:00:00",
          "2020-11-18T14:00:00",
          "2020-11-19T14:00:00",
          "2020-11-20T14:00:00",
          "2020-11-21T14:00:00",
          "2020-11-22T14:00:00",
          "2020-11-23T14:00:00",
          "2020-11-24T14:00:00",
          "2020-11-25T14:00:00",
          "2020-11-26T14:00:00",
          "2020-11-27T14:00:00",
          "2020-11-28T14:00:00",
          "2020-11-29T14:00:00",
          "2020-11-30T14:00:00",
          "2020-12-01T14:00:00",
          "2020-12-02T14:00:00",
          "2020-12-03T14:00:00",
          "2020-12-04T14:00:00",
          "2020-12-05T14:00:00",
          "2020-12-06T14:00:00",
          "2020-12-07T14:00:00",
          "2020-12-08T14:00:00",
          "2020-12-09T14:00:00",
          "2020-12-10T14:00:00",
          "2020-12-11T14:00:00",
          "2020-12-12T14:00:00",
          "2020-12-13T14:00:00",
          "2020-12-14T14:00:00",
          "2020-12-15T14:00:00",
          "2020-12-16T14:00:00",
          "2020-12-17T14:00:00",
          "2020-12-18T14:00:00",
          "2020-12-19T14:00:00",
          "2020-12-20T14:00:00",
          "2020-12-21T14:00:00",
          "2020-12-22T14:00:00",
          "2020-12-23T14:00:00",
          "2020-12-24T14:00:00",
          "2020-12-25T14:00:00",
          "2020-12-26T14:00:00",
          "2020-12-27T14:00:00",
          "2020-12-28T14:00:00",
          "2020-12-29T14:00:00",
          "2020-12-30T14:00:00",
          "2020-12-31T14:00:00",
          "2021-01-01T14:00:00",
          "2021-01-02T14:00:00",
          "2021-01-03T14:00:00",
          "2021-01-04T14:00:00",
          "2021-01-05T14:00:00",
          "2021-01-06T14:00:00",
          "2021-01-07T14:00:00",
          "2021-01-08T14:00:00",
          "2021-01-09T14:00:00",
          "2021-01-10T14:00:00",
          "2021-01-11T14:00:00",
          "2021-01-12T14:00:00",
          "2021-01-13T14:00:00",
          "2021-01-14T14:00:00",
          "2021-01-15T14:00:00",
          "2021-01-16T14:00:00",
          "2021-01-17T14:00:00",
          "2021-01-18T14:00:00",
          "2021-01-19T14:00:00",
          "2021-01-20T14:00:00",
          "2021-01-21T14:00:00",
          "2021-01-22T14:00:00",
          "2021-01-23T14:00:00",
          "2021-01-24T14:00:00",
          "2021-01-25T14:00:00",
          "2021-01-26T14:00:00",
          "2021-01-27T14:00:00"
         ],
         "xaxis": "x",
         "y": [
          2,
          3,
          4,
          4,
          4,
          4,
          4,
          3,
          3,
          3,
          3,
          3,
          3,
          3,
          4,
          7,
          7,
          6,
          6,
          6,
          6,
          6,
          6,
          6,
          6,
          5,
          4,
          5,
          5,
          4,
          4,
          4,
          4,
          5,
          5,
          5,
          5,
          6,
          5,
          4,
          3,
          5,
          5,
          5,
          5,
          7,
          7,
          6,
          6,
          7,
          7,
          7,
          7,
          6,
          7,
          7,
          9,
          9,
          8,
          9,
          9,
          9,
          9,
          9,
          9,
          8,
          8,
          8,
          8,
          8,
          8,
          8,
          8
         ],
         "yaxis": "y"
        },
        {
         "hovertemplate": "Skipper=benjamin dutreux<br>Date=%{x}<br>Rang=%{y}<extra></extra>",
         "legendgroup": "benjamin dutreux",
         "line": {
          "color": "#ab63fa",
          "dash": "solid"
         },
         "marker": {
          "symbol": "circle"
         },
         "mode": "lines",
         "name": "benjamin dutreux",
         "showlegend": true,
         "type": "scattergl",
         "x": [
          "2020-11-16T14:00:00",
          "2020-11-17T14:00:00",
          "2020-11-18T14:00:00",
          "2020-11-19T14:00:00",
          "2020-11-20T14:00:00",
          "2020-11-21T14:00:00",
          "2020-11-22T14:00:00",
          "2020-11-23T14:00:00",
          "2020-11-24T14:00:00",
          "2020-11-25T14:00:00",
          "2020-11-26T14:00:00",
          "2020-11-27T14:00:00",
          "2020-11-28T14:00:00",
          "2020-11-29T14:00:00",
          "2020-11-30T14:00:00",
          "2020-12-01T14:00:00",
          "2020-12-02T14:00:00",
          "2020-12-03T14:00:00",
          "2020-12-04T14:00:00",
          "2020-12-05T14:00:00",
          "2020-12-06T14:00:00",
          "2020-12-07T14:00:00",
          "2020-12-08T14:00:00",
          "2020-12-09T14:00:00",
          "2020-12-10T14:00:00",
          "2020-12-11T14:00:00",
          "2020-12-12T14:00:00",
          "2020-12-13T14:00:00",
          "2020-12-14T14:00:00",
          "2020-12-15T14:00:00",
          "2020-12-16T14:00:00",
          "2020-12-17T14:00:00",
          "2020-12-18T14:00:00",
          "2020-12-19T14:00:00",
          "2020-12-20T14:00:00",
          "2020-12-21T14:00:00",
          "2020-12-22T14:00:00",
          "2020-12-23T14:00:00",
          "2020-12-24T14:00:00",
          "2020-12-25T14:00:00",
          "2020-12-26T14:00:00",
          "2020-12-27T14:00:00",
          "2020-12-28T14:00:00",
          "2020-12-29T14:00:00",
          "2020-12-30T14:00:00",
          "2020-12-31T14:00:00",
          "2021-01-01T14:00:00",
          "2021-01-02T14:00:00",
          "2021-01-03T14:00:00",
          "2021-01-04T14:00:00",
          "2021-01-05T14:00:00",
          "2021-01-06T14:00:00",
          "2021-01-07T14:00:00",
          "2021-01-08T14:00:00",
          "2021-01-09T14:00:00",
          "2021-01-10T14:00:00",
          "2021-01-11T14:00:00",
          "2021-01-12T14:00:00",
          "2021-01-13T14:00:00",
          "2021-01-14T14:00:00",
          "2021-01-15T14:00:00",
          "2021-01-16T14:00:00",
          "2021-01-17T14:00:00",
          "2021-01-18T14:00:00",
          "2021-01-19T14:00:00",
          "2021-01-20T14:00:00",
          "2021-01-21T14:00:00",
          "2021-01-22T14:00:00",
          "2021-01-23T14:00:00",
          "2021-01-24T14:00:00",
          "2021-01-25T14:00:00",
          "2021-01-26T14:00:00",
          "2021-01-27T14:00:00"
         ],
         "xaxis": "x",
         "y": [
          6,
          8,
          7,
          10,
          11,
          11,
          11,
          11,
          11,
          11,
          12,
          13,
          12,
          12,
          11,
          10,
          9,
          8,
          7,
          7,
          8,
          7,
          5,
          5,
          5,
          4,
          7,
          6,
          6,
          7,
          6,
          7,
          8,
          6,
          6,
          6,
          6,
          5,
          6,
          8,
          10,
          10,
          10,
          6,
          6,
          5,
          5,
          5,
          5,
          5,
          5,
          6,
          6,
          7,
          6,
          6,
          7,
          7,
          7,
          7,
          7,
          8,
          8,
          8,
          8,
          9,
          9,
          9,
          9,
          9,
          9,
          9,
          9
         ],
         "yaxis": "y"
        },
        {
         "hovertemplate": "Skipper=damien seguin<br>Date=%{x}<br>Rang=%{y}<extra></extra>",
         "legendgroup": "damien seguin",
         "line": {
          "color": "#FFA15A",
          "dash": "solid"
         },
         "marker": {
          "symbol": "circle"
         },
         "mode": "lines",
         "name": "damien seguin",
         "showlegend": true,
         "type": "scattergl",
         "x": [
          "2020-11-16T14:00:00",
          "2020-11-17T14:00:00",
          "2020-11-18T14:00:00",
          "2020-11-19T14:00:00",
          "2020-11-20T14:00:00",
          "2020-11-21T14:00:00",
          "2020-11-22T14:00:00",
          "2020-11-23T14:00:00",
          "2020-11-24T14:00:00",
          "2020-11-25T14:00:00",
          "2020-11-26T14:00:00",
          "2020-11-27T14:00:00",
          "2020-11-28T14:00:00",
          "2020-11-29T14:00:00",
          "2020-11-30T14:00:00",
          "2020-12-01T14:00:00",
          "2020-12-02T14:00:00",
          "2020-12-03T14:00:00",
          "2020-12-04T14:00:00",
          "2020-12-05T14:00:00",
          "2020-12-06T14:00:00",
          "2020-12-07T14:00:00",
          "2020-12-08T14:00:00",
          "2020-12-09T14:00:00",
          "2020-12-10T14:00:00",
          "2020-12-11T14:00:00",
          "2020-12-12T14:00:00",
          "2020-12-13T14:00:00",
          "2020-12-14T14:00:00",
          "2020-12-15T14:00:00",
          "2020-12-16T14:00:00",
          "2020-12-17T14:00:00",
          "2020-12-18T14:00:00",
          "2020-12-19T14:00:00",
          "2020-12-20T14:00:00",
          "2020-12-21T14:00:00",
          "2020-12-22T14:00:00",
          "2020-12-23T14:00:00",
          "2020-12-24T14:00:00",
          "2020-12-25T14:00:00",
          "2020-12-26T14:00:00",
          "2020-12-27T14:00:00",
          "2020-12-28T14:00:00",
          "2020-12-29T14:00:00",
          "2020-12-30T14:00:00",
          "2020-12-31T14:00:00",
          "2021-01-01T14:00:00",
          "2021-01-02T14:00:00",
          "2021-01-03T14:00:00",
          "2021-01-04T14:00:00",
          "2021-01-05T14:00:00",
          "2021-01-06T14:00:00",
          "2021-01-07T14:00:00",
          "2021-01-08T14:00:00",
          "2021-01-09T14:00:00",
          "2021-01-10T14:00:00",
          "2021-01-11T14:00:00",
          "2021-01-12T14:00:00",
          "2021-01-13T14:00:00",
          "2021-01-14T14:00:00",
          "2021-01-15T14:00:00",
          "2021-01-16T14:00:00",
          "2021-01-17T14:00:00",
          "2021-01-18T14:00:00",
          "2021-01-19T14:00:00",
          "2021-01-20T14:00:00",
          "2021-01-21T14:00:00",
          "2021-01-22T14:00:00",
          "2021-01-23T14:00:00",
          "2021-01-24T14:00:00",
          "2021-01-25T14:00:00",
          "2021-01-26T14:00:00",
          "2021-01-27T14:00:00"
         ],
         "xaxis": "x",
         "y": [
          9,
          11,
          12,
          12,
          12,
          12,
          12,
          12,
          12,
          12,
          11,
          12,
          10,
          9,
          9,
          5,
          6,
          4,
          5,
          4,
          4,
          5,
          8,
          7,
          7,
          7,
          5,
          4,
          4,
          8,
          5,
          6,
          6,
          7,
          7,
          7,
          7,
          7,
          7,
          5,
          5,
          4,
          4,
          3,
          4,
          3,
          4,
          4,
          3,
          4,
          4,
          3,
          4,
          4,
          4,
          3,
          4,
          3,
          5,
          4,
          5,
          5,
          6,
          3,
          2,
          5,
          6,
          5,
          6,
          7,
          6,
          6,
          6
         ],
         "yaxis": "y"
        },
        {
         "hovertemplate": "Skipper=samantha davies<br>Date=%{x}<br>Rang=%{y}<extra></extra>",
         "legendgroup": "samantha davies",
         "line": {
          "color": "#19d3f3",
          "dash": "solid"
         },
         "marker": {
          "symbol": "circle"
         },
         "mode": "lines",
         "name": "samantha davies",
         "showlegend": true,
         "type": "scattergl",
         "x": [
          "2020-11-16T14:00:00",
          "2020-11-17T14:00:00",
          "2020-11-18T14:00:00",
          "2020-11-19T14:00:00",
          "2020-11-20T14:00:00",
          "2020-11-21T14:00:00",
          "2020-11-22T14:00:00",
          "2020-11-23T14:00:00",
          "2020-11-24T14:00:00",
          "2020-11-25T14:00:00",
          "2020-11-26T14:00:00",
          "2020-11-27T14:00:00",
          "2020-11-28T14:00:00",
          "2020-11-29T14:00:00",
          "2020-11-30T14:00:00",
          "2020-12-01T14:00:00",
          "2020-12-02T14:00:00",
          "2020-12-03T14:00:00",
          "2020-12-04T14:00:00"
         ],
         "xaxis": "x",
         "y": [
          8,
          9,
          8,
          9,
          9,
          10,
          10,
          10,
          10,
          9,
          10,
          9,
          9,
          11,
          12,
          11,
          11,
          13,
          15
         ],
         "yaxis": "y"
        },
        {
         "hovertemplate": "Skipper=arnaud boissieres<br>Date=%{x}<br>Rang=%{y}<extra></extra>",
         "legendgroup": "arnaud boissieres",
         "line": {
          "color": "#FF6692",
          "dash": "solid"
         },
         "marker": {
          "symbol": "circle"
         },
         "mode": "lines",
         "name": "arnaud boissieres",
         "showlegend": true,
         "type": "scattergl",
         "x": [
          "2020-11-16T14:00:00",
          "2020-11-17T14:00:00",
          "2020-11-18T14:00:00",
          "2020-11-19T14:00:00",
          "2020-11-20T14:00:00",
          "2020-11-21T14:00:00",
          "2020-11-22T14:00:00",
          "2020-11-23T14:00:00",
          "2020-11-24T14:00:00",
          "2020-11-25T14:00:00",
          "2020-11-26T14:00:00",
          "2020-11-27T14:00:00",
          "2020-11-28T14:00:00",
          "2020-11-29T14:00:00",
          "2020-11-30T14:00:00",
          "2020-12-01T14:00:00",
          "2020-12-02T14:00:00",
          "2020-12-03T14:00:00",
          "2020-12-04T14:00:00",
          "2020-12-05T14:00:00",
          "2020-12-06T14:00:00",
          "2020-12-07T14:00:00",
          "2020-12-08T14:00:00",
          "2020-12-09T14:00:00",
          "2020-12-10T14:00:00",
          "2020-12-11T14:00:00",
          "2020-12-12T14:00:00",
          "2020-12-13T14:00:00",
          "2020-12-14T14:00:00",
          "2020-12-15T14:00:00",
          "2020-12-16T14:00:00",
          "2020-12-17T14:00:00",
          "2020-12-18T14:00:00",
          "2020-12-19T14:00:00",
          "2020-12-20T14:00:00",
          "2020-12-21T14:00:00",
          "2020-12-22T14:00:00",
          "2020-12-23T14:00:00",
          "2020-12-24T14:00:00",
          "2020-12-25T14:00:00",
          "2020-12-26T14:00:00",
          "2020-12-27T14:00:00",
          "2020-12-28T14:00:00",
          "2020-12-29T14:00:00",
          "2020-12-30T14:00:00",
          "2020-12-31T14:00:00",
          "2021-01-01T14:00:00",
          "2021-01-02T14:00:00",
          "2021-01-03T14:00:00",
          "2021-01-04T14:00:00",
          "2021-01-05T14:00:00",
          "2021-01-06T14:00:00",
          "2021-01-07T14:00:00",
          "2021-01-08T14:00:00",
          "2021-01-09T14:00:00",
          "2021-01-10T14:00:00",
          "2021-01-11T14:00:00",
          "2021-01-12T14:00:00",
          "2021-01-13T14:00:00",
          "2021-01-14T14:00:00",
          "2021-01-15T14:00:00",
          "2021-01-16T14:00:00",
          "2021-01-17T14:00:00",
          "2021-01-18T14:00:00",
          "2021-01-19T14:00:00",
          "2021-01-20T14:00:00",
          "2021-01-21T14:00:00",
          "2021-01-22T14:00:00",
          "2021-01-23T14:00:00",
          "2021-01-24T14:00:00",
          "2021-01-25T14:00:00",
          "2021-01-26T14:00:00",
          "2021-01-27T14:00:00"
         ],
         "xaxis": "x",
         "y": [
          23,
          23,
          21,
          21,
          21,
          22,
          22,
          22,
          21,
          20,
          20,
          20,
          20,
          20,
          20,
          20,
          20,
          20,
          19,
          17,
          17,
          17,
          17,
          16,
          16,
          17,
          16,
          16,
          16,
          16,
          16,
          16,
          16,
          16,
          16,
          16,
          16,
          16,
          16,
          16,
          16,
          16,
          16,
          16,
          16,
          17,
          17,
          17,
          17,
          17,
          17,
          17,
          17,
          16,
          16,
          14,
          14,
          14,
          14,
          16,
          16,
          16,
          15,
          15,
          15,
          15,
          15,
          15,
          15,
          15,
          15,
          15,
          15
         ],
         "yaxis": "y"
        },
        {
         "hovertemplate": "Skipper=yannick bestaven<br>Date=%{x}<br>Rang=%{y}<extra></extra>",
         "legendgroup": "yannick bestaven",
         "line": {
          "color": "#B6E880",
          "dash": "solid"
         },
         "marker": {
          "symbol": "circle"
         },
         "mode": "lines",
         "name": "yannick bestaven",
         "showlegend": true,
         "type": "scattergl",
         "x": [
          "2020-11-16T14:00:00",
          "2020-11-17T14:00:00",
          "2020-11-18T14:00:00",
          "2020-11-19T14:00:00",
          "2020-11-20T14:00:00",
          "2020-11-21T14:00:00",
          "2020-11-22T14:00:00",
          "2020-11-23T14:00:00",
          "2020-11-24T14:00:00",
          "2020-11-25T14:00:00",
          "2020-11-26T14:00:00",
          "2020-11-27T14:00:00",
          "2020-11-28T14:00:00",
          "2020-11-29T14:00:00",
          "2020-11-30T14:00:00",
          "2020-12-01T14:00:00",
          "2020-12-02T14:00:00",
          "2020-12-03T14:00:00",
          "2020-12-04T14:00:00",
          "2020-12-05T14:00:00",
          "2020-12-06T14:00:00",
          "2020-12-07T14:00:00",
          "2020-12-08T14:00:00",
          "2020-12-09T14:00:00",
          "2020-12-10T14:00:00",
          "2020-12-11T14:00:00",
          "2020-12-12T14:00:00",
          "2020-12-13T14:00:00",
          "2020-12-14T14:00:00",
          "2020-12-15T14:00:00",
          "2020-12-16T14:00:00",
          "2020-12-17T14:00:00",
          "2020-12-18T14:00:00",
          "2020-12-19T14:00:00",
          "2020-12-20T14:00:00",
          "2020-12-21T14:00:00",
          "2020-12-22T14:00:00",
          "2020-12-23T14:00:00",
          "2020-12-24T14:00:00",
          "2020-12-25T14:00:00",
          "2020-12-26T14:00:00",
          "2020-12-27T14:00:00",
          "2020-12-28T14:00:00",
          "2020-12-29T14:00:00",
          "2020-12-30T14:00:00",
          "2020-12-31T14:00:00",
          "2021-01-01T14:00:00",
          "2021-01-02T14:00:00",
          "2021-01-03T14:00:00",
          "2021-01-04T14:00:00",
          "2021-01-05T14:00:00",
          "2021-01-06T14:00:00",
          "2021-01-07T14:00:00",
          "2021-01-08T14:00:00",
          "2021-01-09T14:00:00",
          "2021-01-10T14:00:00",
          "2021-01-11T14:00:00",
          "2021-01-12T14:00:00",
          "2021-01-13T14:00:00",
          "2021-01-14T14:00:00",
          "2021-01-15T14:00:00",
          "2021-01-16T14:00:00",
          "2021-01-17T14:00:00",
          "2021-01-18T14:00:00",
          "2021-01-19T14:00:00",
          "2021-01-20T14:00:00",
          "2021-01-21T14:00:00",
          "2021-01-22T14:00:00",
          "2021-01-23T14:00:00",
          "2021-01-24T14:00:00",
          "2021-01-25T14:00:00",
          "2021-01-26T14:00:00",
          "2021-01-27T14:00:00"
         ],
         "xaxis": "x",
         "y": [
          10,
          10,
          10,
          8,
          8,
          8,
          7,
          7,
          5,
          6,
          6,
          4,
          5,
          5,
          6,
          8,
          8,
          5,
          4,
          5,
          5,
          4,
          3,
          4,
          3,
          3,
          3,
          3,
          3,
          2,
          1,
          1,
          1,
          1,
          1,
          1,
          1,
          1,
          1,
          2,
          1,
          1,
          1,
          1,
          1,
          1,
          1,
          1,
          1,
          1,
          1,
          1,
          1,
          1,
          1,
          1,
          1,
          2,
          2,
          6,
          6,
          6,
          5,
          5,
          5,
          6,
          5,
          6,
          5,
          5,
          5,
          5,
          5
         ],
         "yaxis": "y"
        },
        {
         "hovertemplate": "Skipper=louis burton<br>Date=%{x}<br>Rang=%{y}<extra></extra>",
         "legendgroup": "louis burton",
         "line": {
          "color": "#FF97FF",
          "dash": "solid"
         },
         "marker": {
          "symbol": "circle"
         },
         "mode": "lines",
         "name": "louis burton",
         "showlegend": true,
         "type": "scattergl",
         "x": [
          "2020-11-16T14:00:00",
          "2020-11-17T14:00:00",
          "2020-11-18T14:00:00",
          "2020-11-19T14:00:00",
          "2020-11-20T14:00:00",
          "2020-11-21T14:00:00",
          "2020-11-22T14:00:00",
          "2020-11-23T14:00:00",
          "2020-11-24T14:00:00",
          "2020-11-25T14:00:00",
          "2020-11-26T14:00:00",
          "2020-11-27T14:00:00",
          "2020-11-28T14:00:00",
          "2020-11-29T14:00:00",
          "2020-11-30T14:00:00",
          "2020-12-01T14:00:00",
          "2020-12-02T14:00:00",
          "2020-12-03T14:00:00",
          "2020-12-04T14:00:00",
          "2020-12-05T14:00:00",
          "2020-12-06T14:00:00",
          "2020-12-07T14:00:00",
          "2020-12-08T14:00:00",
          "2020-12-09T14:00:00",
          "2020-12-10T14:00:00",
          "2020-12-11T14:00:00",
          "2020-12-12T14:00:00",
          "2020-12-13T14:00:00",
          "2020-12-14T14:00:00",
          "2020-12-15T14:00:00",
          "2020-12-16T14:00:00",
          "2020-12-17T14:00:00",
          "2020-12-18T14:00:00",
          "2020-12-19T14:00:00",
          "2020-12-20T14:00:00",
          "2020-12-21T14:00:00",
          "2020-12-22T14:00:00",
          "2020-12-23T14:00:00",
          "2020-12-24T14:00:00",
          "2020-12-25T14:00:00",
          "2020-12-26T14:00:00",
          "2020-12-27T14:00:00",
          "2020-12-28T14:00:00",
          "2020-12-29T14:00:00",
          "2020-12-30T14:00:00",
          "2020-12-31T14:00:00",
          "2021-01-01T14:00:00",
          "2021-01-02T14:00:00",
          "2021-01-03T14:00:00",
          "2021-01-04T14:00:00",
          "2021-01-05T14:00:00",
          "2021-01-06T14:00:00",
          "2021-01-07T14:00:00",
          "2021-01-08T14:00:00",
          "2021-01-09T14:00:00",
          "2021-01-10T14:00:00",
          "2021-01-11T14:00:00",
          "2021-01-12T14:00:00",
          "2021-01-13T14:00:00",
          "2021-01-14T14:00:00",
          "2021-01-15T14:00:00",
          "2021-01-16T14:00:00",
          "2021-01-17T14:00:00",
          "2021-01-18T14:00:00",
          "2021-01-19T14:00:00",
          "2021-01-20T14:00:00",
          "2021-01-21T14:00:00",
          "2021-01-22T14:00:00",
          "2021-01-23T14:00:00",
          "2021-01-24T14:00:00",
          "2021-01-25T14:00:00",
          "2021-01-26T14:00:00",
          "2021-01-27T14:00:00"
         ],
         "xaxis": "x",
         "y": [
          7,
          6,
          6,
          6,
          5,
          6,
          9,
          8,
          9,
          10,
          9,
          8,
          6,
          6,
          5,
          3,
          2,
          2,
          2,
          3,
          2,
          3,
          4,
          3,
          4,
          6,
          6,
          7,
          7,
          5,
          8,
          8,
          7,
          8,
          10,
          11,
          11,
          11,
          11,
          11,
          11,
          11,
          11,
          11,
          11,
          10,
          11,
          9,
          8,
          6,
          6,
          5,
          5,
          5,
          5,
          5,
          5,
          5,
          3,
          2,
          2,
          2,
          2,
          2,
          4,
          4,
          4,
          2,
          2,
          1,
          2,
          3,
          2
         ],
         "yaxis": "y"
        },
        {
         "hovertemplate": "Skipper=isabelle joschke<br>Date=%{x}<br>Rang=%{y}<extra></extra>",
         "legendgroup": "isabelle joschke",
         "line": {
          "color": "#FECB52",
          "dash": "solid"
         },
         "marker": {
          "symbol": "circle"
         },
         "mode": "lines",
         "name": "isabelle joschke",
         "showlegend": true,
         "type": "scattergl",
         "x": [
          "2020-11-16T14:00:00",
          "2020-11-17T14:00:00",
          "2020-11-18T14:00:00",
          "2020-11-19T14:00:00",
          "2020-11-20T14:00:00",
          "2020-11-21T14:00:00",
          "2020-11-22T14:00:00",
          "2020-11-23T14:00:00",
          "2020-11-24T14:00:00",
          "2020-11-25T14:00:00",
          "2020-11-26T14:00:00",
          "2020-11-27T14:00:00",
          "2020-11-28T14:00:00",
          "2020-11-29T14:00:00",
          "2020-11-30T14:00:00",
          "2020-12-01T14:00:00",
          "2020-12-02T14:00:00",
          "2020-12-03T14:00:00",
          "2020-12-04T14:00:00",
          "2020-12-05T14:00:00",
          "2020-12-06T14:00:00",
          "2020-12-07T14:00:00",
          "2020-12-08T14:00:00",
          "2020-12-09T14:00:00",
          "2020-12-10T14:00:00",
          "2020-12-11T14:00:00",
          "2020-12-12T14:00:00",
          "2020-12-13T14:00:00",
          "2020-12-14T14:00:00",
          "2020-12-15T14:00:00",
          "2020-12-16T14:00:00",
          "2020-12-17T14:00:00",
          "2020-12-18T14:00:00",
          "2020-12-19T14:00:00",
          "2020-12-20T14:00:00",
          "2020-12-21T14:00:00",
          "2020-12-22T14:00:00",
          "2020-12-23T14:00:00",
          "2020-12-24T14:00:00",
          "2020-12-25T14:00:00",
          "2020-12-26T14:00:00",
          "2020-12-27T14:00:00",
          "2020-12-28T14:00:00",
          "2020-12-29T14:00:00",
          "2020-12-30T14:00:00",
          "2020-12-31T14:00:00",
          "2021-01-01T14:00:00",
          "2021-01-02T14:00:00",
          "2021-01-03T14:00:00",
          "2021-01-04T14:00:00",
          "2021-01-05T14:00:00",
          "2021-01-06T14:00:00",
          "2021-01-07T14:00:00",
          "2021-01-08T14:00:00",
          "2021-01-09T14:00:00"
         ],
         "xaxis": "x",
         "y": [
          17,
          16,
          16,
          15,
          15,
          15,
          15,
          15,
          14,
          15,
          15,
          15,
          14,
          13,
          13,
          12,
          12,
          9,
          9,
          9,
          10,
          9,
          9,
          9,
          9,
          9,
          9,
          9,
          9,
          9,
          9,
          9,
          9,
          9,
          8,
          8,
          8,
          8,
          8,
          6,
          6,
          7,
          6,
          8,
          8,
          8,
          8,
          8,
          9,
          11,
          11,
          9,
          11,
          11,
          11
         ],
         "yaxis": "y"
        },
        {
         "hovertemplate": "Skipper=clarisse cremer<br>Date=%{x}<br>Rang=%{y}<extra></extra>",
         "legendgroup": "clarisse cremer",
         "line": {
          "color": "#636efa",
          "dash": "solid"
         },
         "marker": {
          "symbol": "circle"
         },
         "mode": "lines",
         "name": "clarisse cremer",
         "showlegend": true,
         "type": "scattergl",
         "x": [
          "2020-11-16T14:00:00",
          "2020-11-17T14:00:00",
          "2020-11-18T14:00:00",
          "2020-11-19T14:00:00",
          "2020-11-20T14:00:00",
          "2020-11-21T14:00:00",
          "2020-11-22T14:00:00",
          "2020-11-23T14:00:00",
          "2020-11-24T14:00:00",
          "2020-11-25T14:00:00",
          "2020-11-26T14:00:00",
          "2020-11-27T14:00:00",
          "2020-11-28T14:00:00",
          "2020-11-29T14:00:00",
          "2020-11-30T14:00:00",
          "2020-12-01T14:00:00",
          "2020-12-02T14:00:00",
          "2020-12-03T14:00:00",
          "2020-12-04T14:00:00",
          "2020-12-05T14:00:00",
          "2020-12-06T14:00:00",
          "2020-12-07T14:00:00",
          "2020-12-08T14:00:00",
          "2020-12-09T14:00:00",
          "2020-12-10T14:00:00",
          "2020-12-11T14:00:00",
          "2020-12-12T14:00:00",
          "2020-12-13T14:00:00",
          "2020-12-14T14:00:00",
          "2020-12-15T14:00:00",
          "2020-12-16T14:00:00",
          "2020-12-17T14:00:00",
          "2020-12-18T14:00:00",
          "2020-12-19T14:00:00",
          "2020-12-20T14:00:00",
          "2020-12-21T14:00:00",
          "2020-12-22T14:00:00",
          "2020-12-23T14:00:00",
          "2020-12-24T14:00:00",
          "2020-12-25T14:00:00",
          "2020-12-26T14:00:00",
          "2020-12-27T14:00:00",
          "2020-12-28T14:00:00",
          "2020-12-29T14:00:00",
          "2020-12-30T14:00:00",
          "2020-12-31T14:00:00",
          "2021-01-01T14:00:00",
          "2021-01-02T14:00:00",
          "2021-01-03T14:00:00",
          "2021-01-04T14:00:00",
          "2021-01-05T14:00:00",
          "2021-01-06T14:00:00",
          "2021-01-07T14:00:00",
          "2021-01-08T14:00:00",
          "2021-01-09T14:00:00",
          "2021-01-10T14:00:00",
          "2021-01-11T14:00:00",
          "2021-01-12T14:00:00",
          "2021-01-13T14:00:00",
          "2021-01-14T14:00:00",
          "2021-01-15T14:00:00",
          "2021-01-16T14:00:00",
          "2021-01-17T14:00:00",
          "2021-01-18T14:00:00",
          "2021-01-19T14:00:00",
          "2021-01-20T14:00:00",
          "2021-01-21T14:00:00",
          "2021-01-22T14:00:00",
          "2021-01-23T14:00:00",
          "2021-01-24T14:00:00",
          "2021-01-25T14:00:00",
          "2021-01-26T14:00:00",
          "2021-01-27T14:00:00"
         ],
         "xaxis": "x",
         "y": [
          18,
          18,
          18,
          17,
          17,
          16,
          16,
          16,
          16,
          16,
          17,
          17,
          17,
          17,
          17,
          16,
          15,
          15,
          13,
          13,
          13,
          13,
          13,
          13,
          13,
          13,
          13,
          13,
          12,
          12,
          12,
          12,
          12,
          12,
          12,
          12,
          12,
          12,
          12,
          12,
          12,
          12,
          12,
          12,
          12,
          12,
          12,
          12,
          12,
          12,
          12,
          12,
          12,
          12,
          12,
          12,
          12,
          12,
          12,
          12,
          12,
          12,
          12,
          12,
          12,
          12,
          12,
          12,
          12,
          12,
          12,
          12,
          12
         ],
         "yaxis": "y"
        },
        {
         "hovertemplate": "Skipper=sebastien simon<br>Date=%{x}<br>Rang=%{y}<extra></extra>",
         "legendgroup": "sebastien simon",
         "line": {
          "color": "#EF553B",
          "dash": "solid"
         },
         "marker": {
          "symbol": "circle"
         },
         "mode": "lines",
         "name": "sebastien simon",
         "showlegend": true,
         "type": "scattergl",
         "x": [
          "2020-11-16T14:00:00",
          "2020-11-17T14:00:00",
          "2020-11-18T14:00:00",
          "2020-11-19T14:00:00",
          "2020-11-20T14:00:00",
          "2020-11-21T14:00:00",
          "2020-11-22T14:00:00",
          "2020-11-23T14:00:00",
          "2020-11-24T14:00:00",
          "2020-11-25T14:00:00",
          "2020-11-26T14:00:00",
          "2020-11-27T14:00:00",
          "2020-11-28T14:00:00",
          "2020-11-29T14:00:00",
          "2020-11-30T14:00:00",
          "2020-12-01T14:00:00",
          "2020-12-02T14:00:00",
          "2020-12-03T14:00:00",
          "2020-12-04T14:00:00"
         ],
         "xaxis": "x",
         "y": [
          13,
          12,
          11,
          11,
          10,
          9,
          8,
          9,
          7,
          7,
          7,
          7,
          7,
          7,
          7,
          4,
          4,
          12,
          14
         ],
         "yaxis": "y"
        },
        {
         "hovertemplate": "Skipper=romain attanasio<br>Date=%{x}<br>Rang=%{y}<extra></extra>",
         "legendgroup": "romain attanasio",
         "line": {
          "color": "#00cc96",
          "dash": "solid"
         },
         "marker": {
          "symbol": "circle"
         },
         "mode": "lines",
         "name": "romain attanasio",
         "showlegend": true,
         "type": "scattergl",
         "x": [
          "2020-11-16T14:00:00",
          "2020-11-17T14:00:00",
          "2020-11-18T14:00:00",
          "2020-11-19T14:00:00",
          "2020-11-20T14:00:00",
          "2020-11-21T14:00:00",
          "2020-11-22T14:00:00",
          "2020-11-23T14:00:00",
          "2020-11-24T14:00:00",
          "2020-11-25T14:00:00",
          "2020-11-26T14:00:00",
          "2020-11-27T14:00:00",
          "2020-11-28T14:00:00",
          "2020-11-29T14:00:00",
          "2020-11-30T14:00:00",
          "2020-12-01T14:00:00",
          "2020-12-02T14:00:00",
          "2020-12-03T14:00:00",
          "2020-12-04T14:00:00",
          "2020-12-05T14:00:00",
          "2020-12-06T14:00:00",
          "2020-12-07T14:00:00",
          "2020-12-08T14:00:00",
          "2020-12-09T14:00:00",
          "2020-12-10T14:00:00",
          "2020-12-11T14:00:00",
          "2020-12-12T14:00:00",
          "2020-12-13T14:00:00",
          "2020-12-14T14:00:00",
          "2020-12-15T14:00:00",
          "2020-12-16T14:00:00",
          "2020-12-17T14:00:00",
          "2020-12-18T14:00:00",
          "2020-12-19T14:00:00",
          "2020-12-20T14:00:00",
          "2020-12-21T14:00:00",
          "2020-12-22T14:00:00",
          "2020-12-23T14:00:00",
          "2020-12-24T14:00:00",
          "2020-12-25T14:00:00",
          "2020-12-26T14:00:00",
          "2020-12-27T14:00:00",
          "2020-12-28T14:00:00",
          "2020-12-29T14:00:00",
          "2020-12-30T14:00:00",
          "2020-12-31T14:00:00",
          "2021-01-01T14:00:00",
          "2021-01-02T14:00:00",
          "2021-01-03T14:00:00",
          "2021-01-04T14:00:00",
          "2021-01-05T14:00:00",
          "2021-01-06T14:00:00",
          "2021-01-07T14:00:00",
          "2021-01-08T14:00:00",
          "2021-01-09T14:00:00",
          "2021-01-10T14:00:00",
          "2021-01-11T14:00:00",
          "2021-01-12T14:00:00",
          "2021-01-13T14:00:00",
          "2021-01-14T14:00:00",
          "2021-01-15T14:00:00",
          "2021-01-16T14:00:00",
          "2021-01-17T14:00:00",
          "2021-01-18T14:00:00",
          "2021-01-19T14:00:00",
          "2021-01-20T14:00:00",
          "2021-01-21T14:00:00",
          "2021-01-22T14:00:00",
          "2021-01-23T14:00:00",
          "2021-01-24T14:00:00",
          "2021-01-25T14:00:00",
          "2021-01-26T14:00:00",
          "2021-01-27T14:00:00"
         ],
         "xaxis": "x",
         "y": [
          14,
          13,
          15,
          16,
          16,
          17,
          17,
          17,
          17,
          17,
          16,
          16,
          16,
          16,
          16,
          15,
          14,
          14,
          12,
          12,
          12,
          12,
          12,
          12,
          12,
          12,
          12,
          12,
          13,
          13,
          13,
          13,
          13,
          13,
          13,
          13,
          13,
          13,
          13,
          13,
          13,
          14,
          14,
          14,
          14,
          14,
          14,
          14,
          14,
          14,
          14,
          14,
          14,
          14,
          14,
          13,
          13,
          13,
          13,
          13,
          13,
          13,
          13,
          13,
          13,
          13,
          13,
          13,
          13,
          13,
          13,
          13,
          13
         ],
         "yaxis": "y"
        },
        {
         "hovertemplate": "Skipper=miranda merron<br>Date=%{x}<br>Rang=%{y}<extra></extra>",
         "legendgroup": "miranda merron",
         "line": {
          "color": "#ab63fa",
          "dash": "solid"
         },
         "marker": {
          "symbol": "circle"
         },
         "mode": "lines",
         "name": "miranda merron",
         "showlegend": true,
         "type": "scattergl",
         "x": [
          "2020-11-16T14:00:00",
          "2020-11-17T14:00:00",
          "2020-11-18T14:00:00",
          "2020-11-19T14:00:00",
          "2020-11-20T14:00:00",
          "2020-11-21T14:00:00",
          "2020-11-22T14:00:00",
          "2020-11-23T14:00:00",
          "2020-11-24T14:00:00",
          "2020-11-25T14:00:00",
          "2020-11-26T14:00:00",
          "2020-11-27T14:00:00",
          "2020-11-28T14:00:00",
          "2020-11-29T14:00:00",
          "2020-11-30T14:00:00",
          "2020-12-01T14:00:00",
          "2020-12-02T14:00:00",
          "2020-12-03T14:00:00",
          "2020-12-04T14:00:00",
          "2020-12-05T14:00:00",
          "2020-12-06T14:00:00",
          "2020-12-07T14:00:00",
          "2020-12-08T14:00:00",
          "2020-12-09T14:00:00",
          "2020-12-10T14:00:00",
          "2020-12-11T14:00:00",
          "2020-12-12T14:00:00",
          "2020-12-13T14:00:00",
          "2020-12-14T14:00:00",
          "2020-12-15T14:00:00",
          "2020-12-16T14:00:00",
          "2020-12-17T14:00:00",
          "2020-12-18T14:00:00",
          "2020-12-19T14:00:00",
          "2020-12-20T14:00:00",
          "2020-12-21T14:00:00",
          "2020-12-22T14:00:00",
          "2020-12-23T14:00:00",
          "2020-12-24T14:00:00",
          "2020-12-25T14:00:00",
          "2020-12-26T14:00:00",
          "2020-12-27T14:00:00",
          "2020-12-28T14:00:00",
          "2020-12-29T14:00:00",
          "2020-12-30T14:00:00",
          "2020-12-31T14:00:00",
          "2021-01-01T14:00:00",
          "2021-01-02T14:00:00",
          "2021-01-03T14:00:00",
          "2021-01-04T14:00:00",
          "2021-01-05T14:00:00",
          "2021-01-06T14:00:00",
          "2021-01-07T14:00:00",
          "2021-01-08T14:00:00",
          "2021-01-09T14:00:00",
          "2021-01-10T14:00:00",
          "2021-01-11T14:00:00",
          "2021-01-12T14:00:00",
          "2021-01-13T14:00:00",
          "2021-01-14T14:00:00",
          "2021-01-15T14:00:00",
          "2021-01-16T14:00:00",
          "2021-01-17T14:00:00",
          "2021-01-18T14:00:00",
          "2021-01-19T14:00:00",
          "2021-01-20T14:00:00",
          "2021-01-21T14:00:00",
          "2021-01-22T14:00:00",
          "2021-01-23T14:00:00",
          "2021-01-24T14:00:00",
          "2021-01-25T14:00:00",
          "2021-01-26T14:00:00",
          "2021-01-27T14:00:00"
         ],
         "xaxis": "x",
         "y": [
          27,
          27,
          28,
          27,
          25,
          26,
          27,
          26,
          27,
          26,
          27,
          27,
          28,
          28,
          28,
          27,
          27,
          27,
          24,
          23,
          23,
          22,
          22,
          23,
          23,
          22,
          21,
          23,
          24,
          24,
          23,
          23,
          23,
          23,
          23,
          23,
          23,
          23,
          23,
          23,
          23,
          23,
          23,
          23,
          23,
          23,
          23,
          23,
          23,
          23,
          23,
          23,
          23,
          23,
          23,
          22,
          22,
          22,
          22,
          22,
          22,
          22,
          22,
          22,
          22,
          22,
          22,
          22,
          22,
          23,
          22,
          23,
          22
         ],
         "yaxis": "y"
        },
        {
         "hovertemplate": "Skipper=maxime sorel<br>Date=%{x}<br>Rang=%{y}<extra></extra>",
         "legendgroup": "maxime sorel",
         "line": {
          "color": "#FFA15A",
          "dash": "solid"
         },
         "marker": {
          "symbol": "circle"
         },
         "mode": "lines",
         "name": "maxime sorel",
         "showlegend": true,
         "type": "scattergl",
         "x": [
          "2020-11-16T14:00:00",
          "2020-11-17T14:00:00",
          "2020-11-18T14:00:00",
          "2020-11-19T14:00:00",
          "2020-11-20T14:00:00",
          "2020-11-21T14:00:00",
          "2020-11-22T14:00:00",
          "2020-11-23T14:00:00",
          "2020-11-24T14:00:00",
          "2020-11-25T14:00:00",
          "2020-11-26T14:00:00",
          "2020-11-27T14:00:00",
          "2020-11-28T14:00:00",
          "2020-11-29T14:00:00",
          "2020-11-30T14:00:00",
          "2020-12-01T14:00:00",
          "2020-12-02T14:00:00",
          "2020-12-03T14:00:00",
          "2020-12-04T14:00:00",
          "2020-12-05T14:00:00",
          "2020-12-06T14:00:00",
          "2020-12-07T14:00:00",
          "2020-12-08T14:00:00",
          "2020-12-09T14:00:00",
          "2020-12-10T14:00:00",
          "2020-12-11T14:00:00",
          "2020-12-12T14:00:00",
          "2020-12-13T14:00:00",
          "2020-12-14T14:00:00",
          "2020-12-15T14:00:00",
          "2020-12-16T14:00:00",
          "2020-12-17T14:00:00",
          "2020-12-18T14:00:00",
          "2020-12-19T14:00:00",
          "2020-12-20T14:00:00",
          "2020-12-21T14:00:00",
          "2020-12-22T14:00:00",
          "2020-12-23T14:00:00",
          "2020-12-24T14:00:00",
          "2020-12-25T14:00:00",
          "2020-12-26T14:00:00",
          "2020-12-27T14:00:00",
          "2020-12-28T14:00:00",
          "2020-12-29T14:00:00",
          "2020-12-30T14:00:00",
          "2020-12-31T14:00:00",
          "2021-01-01T14:00:00",
          "2021-01-02T14:00:00",
          "2021-01-03T14:00:00",
          "2021-01-04T14:00:00",
          "2021-01-05T14:00:00",
          "2021-01-06T14:00:00",
          "2021-01-07T14:00:00",
          "2021-01-08T14:00:00",
          "2021-01-09T14:00:00",
          "2021-01-10T14:00:00",
          "2021-01-11T14:00:00",
          "2021-01-12T14:00:00",
          "2021-01-13T14:00:00",
          "2021-01-14T14:00:00",
          "2021-01-15T14:00:00",
          "2021-01-16T14:00:00",
          "2021-01-17T14:00:00",
          "2021-01-18T14:00:00",
          "2021-01-19T14:00:00",
          "2021-01-20T14:00:00",
          "2021-01-21T14:00:00",
          "2021-01-22T14:00:00",
          "2021-01-23T14:00:00",
          "2021-01-24T14:00:00",
          "2021-01-25T14:00:00",
          "2021-01-26T14:00:00",
          "2021-01-27T14:00:00"
         ],
         "xaxis": "x",
         "y": [
          15,
          14,
          14,
          14,
          14,
          14,
          14,
          14,
          15,
          14,
          14,
          14,
          13,
          14,
          14,
          13,
          13,
          11,
          11,
          11,
          11,
          11,
          11,
          11,
          11,
          11,
          11,
          11,
          11,
          11,
          11,
          11,
          11,
          11,
          11,
          10,
          10,
          10,
          10,
          10,
          7,
          8,
          8,
          9,
          9,
          9,
          9,
          10,
          10,
          9,
          8,
          10,
          10,
          10,
          10,
          10,
          10,
          10,
          10,
          10,
          10,
          10,
          10,
          10,
          10,
          10,
          10,
          10,
          10,
          10,
          10,
          10,
          10
         ],
         "yaxis": "y"
        },
        {
         "hovertemplate": "Skipper=fabrice amedeo<br>Date=%{x}<br>Rang=%{y}<extra></extra>",
         "legendgroup": "fabrice amedeo",
         "line": {
          "color": "#19d3f3",
          "dash": "solid"
         },
         "marker": {
          "symbol": "circle"
         },
         "mode": "lines",
         "name": "fabrice amedeo",
         "showlegend": true,
         "type": "scattergl",
         "x": [
          "2020-11-16T14:00:00",
          "2020-11-17T14:00:00",
          "2020-11-18T14:00:00",
          "2020-11-19T14:00:00",
          "2020-11-20T14:00:00",
          "2020-11-21T14:00:00",
          "2020-11-22T14:00:00",
          "2020-11-23T14:00:00",
          "2020-11-24T14:00:00",
          "2020-11-25T14:00:00",
          "2020-11-26T14:00:00",
          "2020-11-27T14:00:00",
          "2020-11-28T14:00:00",
          "2020-11-29T14:00:00",
          "2020-11-30T14:00:00",
          "2020-12-01T14:00:00",
          "2020-12-02T14:00:00",
          "2020-12-03T14:00:00",
          "2020-12-04T14:00:00",
          "2020-12-05T14:00:00",
          "2020-12-06T14:00:00",
          "2020-12-07T14:00:00",
          "2020-12-08T14:00:00",
          "2020-12-09T14:00:00",
          "2020-12-10T14:00:00",
          "2020-12-11T14:00:00"
         ],
         "xaxis": "x",
         "y": [
          32,
          31,
          31,
          31,
          31,
          30,
          29,
          30,
          25,
          27,
          25,
          25,
          25,
          25,
          25,
          24,
          24,
          24,
          23,
          21,
          21,
          21,
          21,
          21,
          21,
          26
         ],
         "yaxis": "y"
        },
        {
         "hovertemplate": "Skipper=thomas ruyant<br>Date=%{x}<br>Rang=%{y}<extra></extra>",
         "legendgroup": "thomas ruyant",
         "line": {
          "color": "#FF6692",
          "dash": "solid"
         },
         "marker": {
          "symbol": "circle"
         },
         "mode": "lines",
         "name": "thomas ruyant",
         "showlegend": true,
         "type": "scattergl",
         "x": [
          "2020-11-16T14:00:00",
          "2020-11-17T14:00:00",
          "2020-11-18T14:00:00",
          "2020-11-19T14:00:00",
          "2020-11-20T14:00:00",
          "2020-11-21T14:00:00",
          "2020-11-22T14:00:00",
          "2020-11-23T14:00:00",
          "2020-11-24T14:00:00",
          "2020-11-25T14:00:00",
          "2020-11-26T14:00:00",
          "2020-11-27T14:00:00",
          "2020-11-28T14:00:00",
          "2020-11-29T14:00:00",
          "2020-11-30T14:00:00",
          "2020-12-01T14:00:00",
          "2020-12-02T14:00:00",
          "2020-12-03T14:00:00",
          "2020-12-04T14:00:00",
          "2020-12-05T14:00:00",
          "2020-12-06T14:00:00",
          "2020-12-07T14:00:00",
          "2020-12-08T14:00:00",
          "2020-12-09T14:00:00",
          "2020-12-10T14:00:00",
          "2020-12-11T14:00:00",
          "2020-12-12T14:00:00",
          "2020-12-13T14:00:00",
          "2020-12-14T14:00:00",
          "2020-12-15T14:00:00",
          "2020-12-16T14:00:00",
          "2020-12-17T14:00:00",
          "2020-12-18T14:00:00",
          "2020-12-19T14:00:00",
          "2020-12-20T14:00:00",
          "2020-12-21T14:00:00",
          "2020-12-22T14:00:00",
          "2020-12-23T14:00:00",
          "2020-12-24T14:00:00",
          "2020-12-25T14:00:00",
          "2020-12-26T14:00:00",
          "2020-12-27T14:00:00",
          "2020-12-28T14:00:00",
          "2020-12-29T14:00:00",
          "2020-12-30T14:00:00",
          "2020-12-31T14:00:00",
          "2021-01-01T14:00:00",
          "2021-01-02T14:00:00",
          "2021-01-03T14:00:00",
          "2021-01-04T14:00:00",
          "2021-01-05T14:00:00",
          "2021-01-06T14:00:00",
          "2021-01-07T14:00:00",
          "2021-01-08T14:00:00",
          "2021-01-09T14:00:00",
          "2021-01-10T14:00:00",
          "2021-01-11T14:00:00",
          "2021-01-12T14:00:00",
          "2021-01-13T14:00:00",
          "2021-01-14T14:00:00",
          "2021-01-15T14:00:00",
          "2021-01-16T14:00:00",
          "2021-01-17T14:00:00",
          "2021-01-18T14:00:00",
          "2021-01-19T14:00:00",
          "2021-01-20T14:00:00",
          "2021-01-21T14:00:00",
          "2021-01-22T14:00:00",
          "2021-01-23T14:00:00",
          "2021-01-24T14:00:00",
          "2021-01-25T14:00:00",
          "2021-01-26T14:00:00",
          "2021-01-27T14:00:00"
         ],
         "xaxis": "x",
         "y": [
          3,
          2,
          2,
          2,
          2,
          1,
          1,
          2,
          2,
          2,
          2,
          2,
          2,
          2,
          2,
          2,
          3,
          3,
          3,
          2,
          3,
          2,
          2,
          2,
          2,
          2,
          2,
          2,
          2,
          1,
          2,
          2,
          3,
          3,
          3,
          3,
          3,
          3,
          3,
          7,
          9,
          3,
          3,
          4,
          3,
          4,
          3,
          3,
          4,
          3,
          3,
          4,
          2,
          3,
          3,
          4,
          3,
          4,
          4,
          3,
          4,
          4,
          3,
          4,
          3,
          2,
          3,
          4,
          4,
          4,
          4,
          4,
          4
         ],
         "yaxis": "y"
        },
        {
         "hovertemplate": "Skipper=nicolas troussel<br>Date=%{x}<br>Rang=%{y}<extra></extra>",
         "legendgroup": "nicolas troussel",
         "line": {
          "color": "#B6E880",
          "dash": "solid"
         },
         "marker": {
          "symbol": "circle"
         },
         "mode": "lines",
         "name": "nicolas troussel",
         "showlegend": true,
         "type": "scattergl",
         "x": [
          "2020-11-16T14:00:00"
         ],
         "xaxis": "x",
         "y": [
          12
         ],
         "yaxis": "y"
        },
        {
         "hovertemplate": "Skipper=manuel cousin<br>Date=%{x}<br>Rang=%{y}<extra></extra>",
         "legendgroup": "manuel cousin",
         "line": {
          "color": "#FF97FF",
          "dash": "solid"
         },
         "marker": {
          "symbol": "circle"
         },
         "mode": "lines",
         "name": "manuel cousin",
         "showlegend": true,
         "type": "scattergl",
         "x": [
          "2020-11-16T14:00:00",
          "2020-11-17T14:00:00",
          "2020-11-18T14:00:00",
          "2020-11-19T14:00:00",
          "2020-11-20T14:00:00",
          "2020-11-21T14:00:00",
          "2020-11-22T14:00:00",
          "2020-11-23T14:00:00",
          "2020-11-24T14:00:00",
          "2020-11-25T14:00:00",
          "2020-11-26T14:00:00",
          "2020-11-27T14:00:00",
          "2020-11-28T14:00:00",
          "2020-11-29T14:00:00",
          "2020-11-30T14:00:00",
          "2020-12-01T14:00:00",
          "2020-12-02T14:00:00",
          "2020-12-03T14:00:00",
          "2020-12-04T14:00:00",
          "2020-12-05T14:00:00",
          "2020-12-06T14:00:00",
          "2020-12-07T14:00:00",
          "2020-12-08T14:00:00",
          "2020-12-09T14:00:00",
          "2020-12-10T14:00:00",
          "2020-12-11T14:00:00",
          "2020-12-12T14:00:00",
          "2020-12-13T14:00:00",
          "2020-12-14T14:00:00",
          "2020-12-15T14:00:00",
          "2020-12-16T14:00:00",
          "2020-12-17T14:00:00",
          "2020-12-18T14:00:00",
          "2020-12-19T14:00:00",
          "2020-12-20T14:00:00",
          "2020-12-21T14:00:00",
          "2020-12-22T14:00:00",
          "2020-12-23T14:00:00",
          "2020-12-24T14:00:00",
          "2020-12-25T14:00:00",
          "2020-12-26T14:00:00",
          "2020-12-27T14:00:00",
          "2020-12-28T14:00:00",
          "2020-12-29T14:00:00",
          "2020-12-30T14:00:00",
          "2020-12-31T14:00:00",
          "2021-01-01T14:00:00",
          "2021-01-02T14:00:00",
          "2021-01-03T14:00:00",
          "2021-01-04T14:00:00",
          "2021-01-05T14:00:00",
          "2021-01-06T14:00:00",
          "2021-01-07T14:00:00",
          "2021-01-08T14:00:00",
          "2021-01-09T14:00:00",
          "2021-01-10T14:00:00",
          "2021-01-11T14:00:00",
          "2021-01-12T14:00:00",
          "2021-01-13T14:00:00",
          "2021-01-14T14:00:00",
          "2021-01-15T14:00:00",
          "2021-01-16T14:00:00",
          "2021-01-17T14:00:00",
          "2021-01-18T14:00:00",
          "2021-01-19T14:00:00",
          "2021-01-20T14:00:00",
          "2021-01-21T14:00:00",
          "2021-01-22T14:00:00",
          "2021-01-23T14:00:00",
          "2021-01-24T14:00:00",
          "2021-01-25T14:00:00",
          "2021-01-26T14:00:00",
          "2021-01-27T14:00:00"
         ],
         "xaxis": "x",
         "y": [
          24,
          22,
          23,
          23,
          23,
          23,
          23,
          23,
          23,
          22,
          21,
          21,
          21,
          21,
          22,
          21,
          21,
          21,
          20,
          18,
          18,
          18,
          18,
          18,
          18,
          20,
          20,
          20,
          20,
          20,
          20,
          20,
          20,
          20,
          20,
          20,
          20,
          20,
          21,
          22,
          22,
          22,
          22,
          22,
          22,
          22,
          22,
          22,
          22,
          22,
          22,
          22,
          22,
          22,
          22,
          21,
          21,
          21,
          21,
          21,
          21,
          21,
          21,
          21,
          21,
          21,
          21,
          21,
          21,
          21,
          21,
          21,
          21
         ],
         "yaxis": "y"
        },
        {
         "hovertemplate": "Skipper=alexia barrier<br>Date=%{x}<br>Rang=%{y}<extra></extra>",
         "legendgroup": "alexia barrier",
         "line": {
          "color": "#FECB52",
          "dash": "solid"
         },
         "marker": {
          "symbol": "circle"
         },
         "mode": "lines",
         "name": "alexia barrier",
         "showlegend": true,
         "type": "scattergl",
         "x": [
          "2020-11-16T14:00:00",
          "2020-11-17T14:00:00",
          "2020-11-18T14:00:00",
          "2020-11-19T14:00:00",
          "2020-11-20T14:00:00",
          "2020-11-21T14:00:00",
          "2020-11-22T14:00:00",
          "2020-11-23T14:00:00",
          "2020-11-24T14:00:00",
          "2020-11-25T14:00:00",
          "2020-11-26T14:00:00",
          "2020-11-27T14:00:00",
          "2020-11-28T14:00:00",
          "2020-11-29T14:00:00",
          "2020-11-30T14:00:00",
          "2020-12-01T14:00:00",
          "2020-12-02T14:00:00",
          "2020-12-03T14:00:00",
          "2020-12-04T14:00:00",
          "2020-12-05T14:00:00",
          "2020-12-06T14:00:00",
          "2020-12-07T14:00:00",
          "2020-12-08T14:00:00",
          "2020-12-09T14:00:00",
          "2020-12-10T14:00:00",
          "2020-12-11T14:00:00",
          "2020-12-12T14:00:00",
          "2020-12-13T14:00:00",
          "2020-12-14T14:00:00",
          "2020-12-15T14:00:00",
          "2020-12-16T14:00:00",
          "2020-12-17T14:00:00",
          "2020-12-18T14:00:00",
          "2020-12-19T14:00:00",
          "2020-12-20T14:00:00",
          "2020-12-21T14:00:00",
          "2020-12-22T14:00:00",
          "2020-12-23T14:00:00",
          "2020-12-24T14:00:00",
          "2020-12-25T14:00:00",
          "2020-12-26T14:00:00",
          "2020-12-27T14:00:00",
          "2020-12-28T14:00:00",
          "2020-12-29T14:00:00",
          "2020-12-30T14:00:00",
          "2020-12-31T14:00:00",
          "2021-01-01T14:00:00",
          "2021-01-02T14:00:00",
          "2021-01-03T14:00:00",
          "2021-01-04T14:00:00",
          "2021-01-05T14:00:00",
          "2021-01-06T14:00:00",
          "2021-01-07T14:00:00",
          "2021-01-08T14:00:00",
          "2021-01-09T14:00:00",
          "2021-01-10T14:00:00",
          "2021-01-11T14:00:00",
          "2021-01-12T14:00:00",
          "2021-01-13T14:00:00",
          "2021-01-14T14:00:00",
          "2021-01-15T14:00:00",
          "2021-01-16T14:00:00",
          "2021-01-17T14:00:00",
          "2021-01-18T14:00:00",
          "2021-01-19T14:00:00",
          "2021-01-20T14:00:00",
          "2021-01-21T14:00:00",
          "2021-01-22T14:00:00",
          "2021-01-23T14:00:00",
          "2021-01-24T14:00:00",
          "2021-01-25T14:00:00",
          "2021-01-26T14:00:00",
          "2021-01-27T14:00:00"
         ],
         "xaxis": "x",
         "y": [
          29,
          28,
          27,
          28,
          27,
          25,
          25,
          25,
          26,
          25,
          26,
          26,
          26,
          27,
          27,
          26,
          26,
          25,
          25,
          22,
          22,
          23,
          23,
          22,
          22,
          21,
          22,
          22,
          23,
          23,
          24,
          25,
          24,
          25,
          25,
          25,
          25,
          25,
          25,
          25,
          25,
          25,
          25,
          25,
          25,
          25,
          25,
          25,
          25,
          25,
          25,
          25,
          25,
          25,
          25,
          24,
          24,
          24,
          24,
          24,
          24,
          24,
          24,
          24,
          24,
          24,
          24,
          24,
          24,
          24,
          24,
          24,
          24
         ],
         "yaxis": "y"
        },
        {
         "hovertemplate": "Skipper=charlie dalin<br>Date=%{x}<br>Rang=%{y}<extra></extra>",
         "legendgroup": "charlie dalin",
         "line": {
          "color": "#636efa",
          "dash": "solid"
         },
         "marker": {
          "symbol": "circle"
         },
         "mode": "lines",
         "name": "charlie dalin",
         "showlegend": true,
         "type": "scattergl",
         "x": [
          "2020-11-16T14:00:00",
          "2020-11-17T14:00:00",
          "2020-11-18T14:00:00",
          "2020-11-19T14:00:00",
          "2020-11-20T14:00:00",
          "2020-11-21T14:00:00",
          "2020-11-22T14:00:00",
          "2020-11-23T14:00:00",
          "2020-11-24T14:00:00",
          "2020-11-25T14:00:00",
          "2020-11-26T14:00:00",
          "2020-11-27T14:00:00",
          "2020-11-28T14:00:00",
          "2020-11-29T14:00:00",
          "2020-11-30T14:00:00",
          "2020-12-01T14:00:00",
          "2020-12-02T14:00:00",
          "2020-12-03T14:00:00",
          "2020-12-04T14:00:00",
          "2020-12-05T14:00:00",
          "2020-12-06T14:00:00",
          "2020-12-07T14:00:00",
          "2020-12-08T14:00:00",
          "2020-12-09T14:00:00",
          "2020-12-10T14:00:00",
          "2020-12-11T14:00:00",
          "2020-12-12T14:00:00",
          "2020-12-13T14:00:00",
          "2020-12-14T14:00:00",
          "2020-12-15T14:00:00",
          "2020-12-16T14:00:00",
          "2020-12-17T14:00:00",
          "2020-12-18T14:00:00",
          "2020-12-19T14:00:00",
          "2020-12-20T14:00:00",
          "2020-12-21T14:00:00",
          "2020-12-22T14:00:00",
          "2020-12-23T14:00:00",
          "2020-12-24T14:00:00",
          "2020-12-25T14:00:00",
          "2020-12-26T14:00:00",
          "2020-12-27T14:00:00",
          "2020-12-28T14:00:00",
          "2020-12-29T14:00:00",
          "2020-12-30T14:00:00",
          "2020-12-31T14:00:00",
          "2021-01-01T14:00:00",
          "2021-01-02T14:00:00",
          "2021-01-03T14:00:00",
          "2021-01-04T14:00:00",
          "2021-01-05T14:00:00",
          "2021-01-06T14:00:00",
          "2021-01-07T14:00:00",
          "2021-01-08T14:00:00",
          "2021-01-09T14:00:00",
          "2021-01-10T14:00:00",
          "2021-01-11T14:00:00",
          "2021-01-12T14:00:00",
          "2021-01-13T14:00:00",
          "2021-01-14T14:00:00",
          "2021-01-15T14:00:00",
          "2021-01-16T14:00:00",
          "2021-01-17T14:00:00",
          "2021-01-18T14:00:00",
          "2021-01-19T14:00:00",
          "2021-01-20T14:00:00",
          "2021-01-21T14:00:00",
          "2021-01-22T14:00:00",
          "2021-01-23T14:00:00",
          "2021-01-24T14:00:00",
          "2021-01-25T14:00:00",
          "2021-01-26T14:00:00",
          "2021-01-27T14:00:00"
         ],
         "xaxis": "x",
         "y": [
          4,
          4,
          3,
          3,
          3,
          3,
          2,
          1,
          1,
          1,
          1,
          1,
          1,
          1,
          1,
          1,
          1,
          1,
          1,
          1,
          1,
          1,
          1,
          1,
          1,
          1,
          1,
          1,
          1,
          3,
          3,
          3,
          2,
          2,
          2,
          2,
          2,
          2,
          2,
          1,
          2,
          2,
          2,
          2,
          2,
          2,
          2,
          2,
          2,
          2,
          2,
          2,
          3,
          2,
          2,
          2,
          2,
          1,
          1,
          1,
          1,
          1,
          1,
          1,
          1,
          1,
          1,
          1,
          1,
          2,
          1,
          1,
          1
         ],
         "yaxis": "y"
        },
        {
         "hovertemplate": "Skipper=jeremie beyou<br>Date=%{x}<br>Rang=%{y}<extra></extra>",
         "legendgroup": "jeremie beyou",
         "line": {
          "color": "#EF553B",
          "dash": "solid"
         },
         "marker": {
          "symbol": "circle"
         },
         "mode": "lines",
         "name": "jeremie beyou",
         "showlegend": true,
         "type": "scattergl",
         "x": [
          "2020-11-16T14:00:00",
          "2020-11-17T14:00:00",
          "2020-11-18T14:00:00",
          "2020-11-19T14:00:00",
          "2020-11-20T14:00:00",
          "2020-11-21T14:00:00",
          "2020-11-22T14:00:00",
          "2020-11-23T14:00:00",
          "2020-11-24T14:00:00",
          "2020-11-25T14:00:00",
          "2020-11-26T14:00:00",
          "2020-11-27T14:00:00",
          "2020-11-28T14:00:00",
          "2020-11-29T14:00:00",
          "2020-11-30T14:00:00",
          "2020-12-01T14:00:00",
          "2020-12-02T14:00:00",
          "2020-12-03T14:00:00",
          "2020-12-04T14:00:00",
          "2020-12-05T14:00:00",
          "2020-12-06T14:00:00",
          "2020-12-07T14:00:00",
          "2020-12-08T14:00:00",
          "2020-12-09T14:00:00",
          "2020-12-10T14:00:00",
          "2020-12-11T14:00:00",
          "2020-12-12T14:00:00",
          "2020-12-13T14:00:00",
          "2020-12-14T14:00:00",
          "2020-12-15T14:00:00",
          "2020-12-16T14:00:00",
          "2020-12-17T14:00:00",
          "2020-12-18T14:00:00",
          "2020-12-19T14:00:00",
          "2020-12-20T14:00:00",
          "2020-12-21T14:00:00",
          "2020-12-22T14:00:00",
          "2020-12-23T14:00:00",
          "2020-12-24T14:00:00",
          "2020-12-25T14:00:00",
          "2020-12-26T14:00:00",
          "2020-12-27T14:00:00",
          "2020-12-28T14:00:00",
          "2020-12-29T14:00:00",
          "2020-12-30T14:00:00",
          "2020-12-31T14:00:00",
          "2021-01-01T14:00:00",
          "2021-01-02T14:00:00",
          "2021-01-03T14:00:00",
          "2021-01-04T14:00:00",
          "2021-01-05T14:00:00",
          "2021-01-06T14:00:00",
          "2021-01-07T14:00:00",
          "2021-01-08T14:00:00",
          "2021-01-09T14:00:00",
          "2021-01-10T14:00:00",
          "2021-01-11T14:00:00",
          "2021-01-12T14:00:00",
          "2021-01-13T14:00:00",
          "2021-01-14T14:00:00",
          "2021-01-15T14:00:00",
          "2021-01-16T14:00:00",
          "2021-01-17T14:00:00",
          "2021-01-18T14:00:00",
          "2021-01-19T14:00:00",
          "2021-01-20T14:00:00",
          "2021-01-21T14:00:00",
          "2021-01-22T14:00:00",
          "2021-01-23T14:00:00",
          "2021-01-24T14:00:00",
          "2021-01-25T14:00:00",
          "2021-01-26T14:00:00",
          "2021-01-27T14:00:00"
         ],
         "xaxis": "x",
         "y": [
          33,
          32,
          32,
          32,
          32,
          32,
          32,
          32,
          32,
          32,
          32,
          32,
          32,
          32,
          32,
          31,
          31,
          31,
          30,
          28,
          28,
          28,
          28,
          28,
          28,
          27,
          25,
          25,
          22,
          22,
          21,
          21,
          21,
          21,
          21,
          21,
          21,
          21,
          20,
          19,
          18,
          18,
          18,
          18,
          18,
          18,
          18,
          18,
          18,
          18,
          18,
          18,
          18,
          18,
          18,
          16,
          16,
          16,
          15,
          14,
          14,
          14,
          14,
          14,
          14,
          14,
          14,
          14,
          14,
          14,
          14,
          14,
          14
         ],
         "yaxis": "y"
        },
        {
         "hovertemplate": "Skipper=clement giraud<br>Date=%{x}<br>Rang=%{y}<extra></extra>",
         "legendgroup": "clement giraud",
         "line": {
          "color": "#00cc96",
          "dash": "solid"
         },
         "marker": {
          "symbol": "circle"
         },
         "mode": "lines",
         "name": "clement giraud",
         "showlegend": true,
         "type": "scattergl",
         "x": [
          "2020-11-16T14:00:00",
          "2020-11-17T14:00:00",
          "2020-11-18T14:00:00",
          "2020-11-19T14:00:00",
          "2020-11-20T14:00:00",
          "2020-11-21T14:00:00",
          "2020-11-22T14:00:00",
          "2020-11-23T14:00:00",
          "2020-11-24T14:00:00",
          "2020-11-25T14:00:00",
          "2020-11-26T14:00:00",
          "2020-11-27T14:00:00",
          "2020-11-28T14:00:00",
          "2020-11-29T14:00:00",
          "2020-11-30T14:00:00",
          "2020-12-01T14:00:00",
          "2020-12-02T14:00:00",
          "2020-12-03T14:00:00",
          "2020-12-04T14:00:00",
          "2020-12-05T14:00:00",
          "2020-12-06T14:00:00",
          "2020-12-07T14:00:00",
          "2020-12-08T14:00:00",
          "2020-12-09T14:00:00",
          "2020-12-10T14:00:00",
          "2020-12-11T14:00:00",
          "2020-12-12T14:00:00",
          "2020-12-13T14:00:00",
          "2020-12-14T14:00:00",
          "2020-12-15T14:00:00",
          "2020-12-16T14:00:00",
          "2020-12-17T14:00:00",
          "2020-12-18T14:00:00",
          "2020-12-19T14:00:00",
          "2020-12-20T14:00:00",
          "2020-12-21T14:00:00",
          "2020-12-22T14:00:00",
          "2020-12-23T14:00:00",
          "2020-12-24T14:00:00",
          "2020-12-25T14:00:00",
          "2020-12-26T14:00:00",
          "2020-12-27T14:00:00",
          "2020-12-28T14:00:00",
          "2020-12-29T14:00:00",
          "2020-12-30T14:00:00",
          "2020-12-31T14:00:00",
          "2021-01-01T14:00:00",
          "2021-01-02T14:00:00",
          "2021-01-03T14:00:00",
          "2021-01-04T14:00:00",
          "2021-01-05T14:00:00",
          "2021-01-06T14:00:00",
          "2021-01-07T14:00:00",
          "2021-01-08T14:00:00",
          "2021-01-09T14:00:00",
          "2021-01-10T14:00:00",
          "2021-01-11T14:00:00",
          "2021-01-12T14:00:00",
          "2021-01-13T14:00:00",
          "2021-01-14T14:00:00",
          "2021-01-15T14:00:00",
          "2021-01-16T14:00:00",
          "2021-01-17T14:00:00",
          "2021-01-18T14:00:00",
          "2021-01-19T14:00:00",
          "2021-01-20T14:00:00",
          "2021-01-21T14:00:00",
          "2021-01-22T14:00:00",
          "2021-01-23T14:00:00",
          "2021-01-24T14:00:00",
          "2021-01-25T14:00:00",
          "2021-01-26T14:00:00",
          "2021-01-27T14:00:00"
         ],
         "xaxis": "x",
         "y": [
          31,
          30,
          30,
          30,
          29,
          28,
          26,
          27,
          28,
          28,
          28,
          28,
          27,
          26,
          26,
          25,
          25,
          26,
          26,
          24,
          24,
          24,
          24,
          24,
          24,
          24,
          24,
          24,
          25,
          25,
          25,
          24,
          25,
          24,
          24,
          24,
          24,
          24,
          24,
          24,
          24,
          24,
          24,
          24,
          24,
          24,
          24,
          24,
          24,
          24,
          24,
          24,
          24,
          24,
          24,
          23,
          23,
          23,
          23,
          23,
          23,
          23,
          23,
          23,
          23,
          23,
          23,
          23,
          23,
          22,
          23,
          22,
          23
         ],
         "yaxis": "y"
        },
        {
         "hovertemplate": "Skipper=kevin escoffier<br>Date=%{x}<br>Rang=%{y}<extra></extra>",
         "legendgroup": "kevin escoffier",
         "line": {
          "color": "#ab63fa",
          "dash": "solid"
         },
         "marker": {
          "symbol": "circle"
         },
         "mode": "lines",
         "name": "kevin escoffier",
         "showlegend": true,
         "type": "scattergl",
         "x": [
          "2020-11-16T14:00:00",
          "2020-11-17T14:00:00",
          "2020-11-18T14:00:00",
          "2020-11-19T14:00:00",
          "2020-11-20T14:00:00",
          "2020-11-21T14:00:00",
          "2020-11-22T14:00:00",
          "2020-11-23T14:00:00",
          "2020-11-24T14:00:00",
          "2020-11-25T14:00:00",
          "2020-11-26T14:00:00",
          "2020-11-27T14:00:00",
          "2020-11-28T14:00:00",
          "2020-11-29T14:00:00",
          "2020-11-30T14:00:00"
         ],
         "xaxis": "x",
         "y": [
          5,
          5,
          5,
          5,
          6,
          5,
          5,
          4,
          4,
          4,
          4,
          5,
          4,
          4,
          3
         ],
         "yaxis": "y"
        },
        {
         "hovertemplate": "Skipper=stephane le diraison<br>Date=%{x}<br>Rang=%{y}<extra></extra>",
         "legendgroup": "stephane le diraison",
         "line": {
          "color": "#FFA15A",
          "dash": "solid"
         },
         "marker": {
          "symbol": "circle"
         },
         "mode": "lines",
         "name": "stephane le diraison",
         "showlegend": true,
         "type": "scattergl",
         "x": [
          "2020-11-16T14:00:00",
          "2020-11-17T14:00:00",
          "2020-11-18T14:00:00",
          "2020-11-19T14:00:00",
          "2020-11-20T14:00:00",
          "2020-11-21T14:00:00",
          "2020-11-22T14:00:00",
          "2020-11-23T14:00:00",
          "2020-11-24T14:00:00",
          "2020-11-25T14:00:00",
          "2020-11-26T14:00:00",
          "2020-11-27T14:00:00",
          "2020-11-28T14:00:00",
          "2020-11-29T14:00:00",
          "2020-11-30T14:00:00",
          "2020-12-01T14:00:00",
          "2020-12-02T14:00:00",
          "2020-12-03T14:00:00",
          "2020-12-04T14:00:00",
          "2020-12-05T14:00:00",
          "2020-12-06T14:00:00",
          "2020-12-07T14:00:00",
          "2020-12-08T14:00:00",
          "2020-12-09T14:00:00",
          "2020-12-10T14:00:00",
          "2020-12-11T14:00:00",
          "2020-12-12T14:00:00",
          "2020-12-13T14:00:00",
          "2020-12-14T14:00:00",
          "2020-12-15T14:00:00",
          "2020-12-16T14:00:00",
          "2020-12-17T14:00:00",
          "2020-12-18T14:00:00",
          "2020-12-19T14:00:00",
          "2020-12-20T14:00:00",
          "2020-12-21T14:00:00",
          "2020-12-22T14:00:00",
          "2020-12-23T14:00:00",
          "2020-12-24T14:00:00",
          "2020-12-25T14:00:00",
          "2020-12-26T14:00:00",
          "2020-12-27T14:00:00",
          "2020-12-28T14:00:00",
          "2020-12-29T14:00:00",
          "2020-12-30T14:00:00",
          "2020-12-31T14:00:00",
          "2021-01-01T14:00:00",
          "2021-01-02T14:00:00",
          "2021-01-03T14:00:00",
          "2021-01-04T14:00:00",
          "2021-01-05T14:00:00",
          "2021-01-06T14:00:00",
          "2021-01-07T14:00:00",
          "2021-01-08T14:00:00",
          "2021-01-09T14:00:00",
          "2021-01-10T14:00:00",
          "2021-01-11T14:00:00",
          "2021-01-12T14:00:00",
          "2021-01-13T14:00:00",
          "2021-01-14T14:00:00",
          "2021-01-15T14:00:00",
          "2021-01-16T14:00:00",
          "2021-01-17T14:00:00",
          "2021-01-18T14:00:00",
          "2021-01-19T14:00:00",
          "2021-01-20T14:00:00",
          "2021-01-21T14:00:00",
          "2021-01-22T14:00:00",
          "2021-01-23T14:00:00",
          "2021-01-24T14:00:00",
          "2021-01-25T14:00:00",
          "2021-01-26T14:00:00",
          "2021-01-27T14:00:00"
         ],
         "xaxis": "x",
         "y": [
          20,
          19,
          19,
          19,
          19,
          19,
          19,
          19,
          19,
          19,
          19,
          19,
          19,
          19,
          19,
          18,
          18,
          17,
          17,
          16,
          15,
          16,
          16,
          17,
          17,
          16,
          17,
          17,
          17,
          17,
          17,
          17,
          17,
          17,
          18,
          18,
          18,
          18,
          18,
          18,
          19,
          19,
          19,
          19,
          19,
          19,
          19,
          19,
          19,
          19,
          19,
          19,
          19,
          19,
          19,
          18,
          18,
          18,
          18,
          18,
          18,
          18,
          18,
          18,
          18,
          18,
          18,
          18,
          18,
          17,
          17,
          18,
          18
         ],
         "yaxis": "y"
        },
        {
         "hovertemplate": "Skipper=armel tripon<br>Date=%{x}<br>Rang=%{y}<extra></extra>",
         "legendgroup": "armel tripon",
         "line": {
          "color": "#19d3f3",
          "dash": "solid"
         },
         "marker": {
          "symbol": "circle"
         },
         "mode": "lines",
         "name": "armel tripon",
         "showlegend": true,
         "type": "scattergl",
         "x": [
          "2020-11-16T14:00:00",
          "2020-11-17T14:00:00",
          "2020-11-18T14:00:00",
          "2020-11-19T14:00:00",
          "2020-11-20T14:00:00",
          "2020-11-21T14:00:00",
          "2020-11-22T14:00:00",
          "2020-11-23T14:00:00",
          "2020-11-24T14:00:00",
          "2020-11-25T14:00:00",
          "2020-11-26T14:00:00",
          "2020-11-27T14:00:00",
          "2020-11-28T14:00:00",
          "2020-11-29T14:00:00",
          "2020-11-30T14:00:00",
          "2020-12-01T14:00:00",
          "2020-12-02T14:00:00",
          "2020-12-03T14:00:00",
          "2020-12-04T14:00:00",
          "2020-12-05T14:00:00",
          "2020-12-06T14:00:00",
          "2020-12-07T14:00:00",
          "2020-12-08T14:00:00",
          "2020-12-09T14:00:00",
          "2020-12-10T14:00:00",
          "2020-12-11T14:00:00",
          "2020-12-12T14:00:00",
          "2020-12-13T14:00:00",
          "2020-12-14T14:00:00",
          "2020-12-15T14:00:00",
          "2020-12-16T14:00:00",
          "2020-12-17T14:00:00",
          "2020-12-18T14:00:00",
          "2020-12-19T14:00:00",
          "2020-12-20T14:00:00",
          "2020-12-21T14:00:00",
          "2020-12-22T14:00:00",
          "2020-12-23T14:00:00",
          "2020-12-24T14:00:00",
          "2020-12-25T14:00:00",
          "2020-12-26T14:00:00",
          "2020-12-27T14:00:00",
          "2020-12-28T14:00:00",
          "2020-12-29T14:00:00",
          "2020-12-30T14:00:00",
          "2020-12-31T14:00:00",
          "2021-01-01T14:00:00",
          "2021-01-02T14:00:00",
          "2021-01-03T14:00:00",
          "2021-01-04T14:00:00",
          "2021-01-05T14:00:00",
          "2021-01-06T14:00:00",
          "2021-01-07T14:00:00",
          "2021-01-08T14:00:00",
          "2021-01-09T14:00:00",
          "2021-01-10T14:00:00",
          "2021-01-11T14:00:00",
          "2021-01-12T14:00:00",
          "2021-01-13T14:00:00",
          "2021-01-14T14:00:00",
          "2021-01-15T14:00:00",
          "2021-01-16T14:00:00",
          "2021-01-17T14:00:00",
          "2021-01-18T14:00:00",
          "2021-01-19T14:00:00",
          "2021-01-20T14:00:00",
          "2021-01-21T14:00:00",
          "2021-01-22T14:00:00",
          "2021-01-23T14:00:00",
          "2021-01-24T14:00:00",
          "2021-01-25T14:00:00",
          "2021-01-26T14:00:00",
          "2021-01-27T14:00:00"
         ],
         "xaxis": "x",
         "y": [
          26,
          24,
          26,
          24,
          24,
          24,
          24,
          24,
          24,
          24,
          24,
          23,
          23,
          23,
          21,
          19,
          19,
          19,
          18,
          15,
          16,
          14,
          14,
          14,
          14,
          14,
          14,
          14,
          14,
          14,
          14,
          14,
          14,
          14,
          14,
          14,
          14,
          14,
          14,
          14,
          14,
          13,
          13,
          13,
          13,
          13,
          13,
          13,
          13,
          13,
          13,
          13,
          13,
          13,
          13,
          11,
          11,
          11,
          11,
          11,
          11,
          11,
          11,
          11,
          11,
          11,
          11,
          11,
          11,
          11,
          11,
          11,
          11
         ],
         "yaxis": "y"
        },
        {
         "hovertemplate": "Skipper=sebastien destremau<br>Date=%{x}<br>Rang=%{y}<extra></extra>",
         "legendgroup": "sebastien destremau",
         "line": {
          "color": "#FF6692",
          "dash": "solid"
         },
         "marker": {
          "symbol": "circle"
         },
         "mode": "lines",
         "name": "sebastien destremau",
         "showlegend": true,
         "type": "scattergl",
         "x": [
          "2020-11-16T14:00:00",
          "2020-11-17T14:00:00",
          "2020-11-18T14:00:00",
          "2020-11-19T14:00:00",
          "2020-11-20T14:00:00",
          "2020-11-21T14:00:00",
          "2020-11-22T14:00:00",
          "2020-11-23T14:00:00",
          "2020-11-24T14:00:00",
          "2020-11-25T14:00:00",
          "2020-11-26T14:00:00",
          "2020-11-27T14:00:00",
          "2020-11-28T14:00:00",
          "2020-11-29T14:00:00",
          "2020-11-30T14:00:00",
          "2020-12-01T14:00:00",
          "2020-12-02T14:00:00",
          "2020-12-03T14:00:00",
          "2020-12-04T14:00:00",
          "2020-12-05T14:00:00",
          "2020-12-06T14:00:00",
          "2020-12-07T14:00:00",
          "2020-12-08T14:00:00",
          "2020-12-09T14:00:00",
          "2020-12-10T14:00:00",
          "2020-12-11T14:00:00",
          "2020-12-12T14:00:00",
          "2020-12-13T14:00:00",
          "2020-12-14T14:00:00",
          "2020-12-15T14:00:00",
          "2020-12-16T14:00:00",
          "2020-12-17T14:00:00",
          "2020-12-18T14:00:00",
          "2020-12-19T14:00:00",
          "2020-12-20T14:00:00",
          "2020-12-21T14:00:00",
          "2020-12-22T14:00:00",
          "2020-12-23T14:00:00",
          "2020-12-24T14:00:00",
          "2020-12-25T14:00:00",
          "2020-12-26T14:00:00",
          "2020-12-27T14:00:00",
          "2020-12-28T14:00:00",
          "2020-12-29T14:00:00",
          "2020-12-30T14:00:00",
          "2020-12-31T14:00:00",
          "2021-01-01T14:00:00",
          "2021-01-02T14:00:00",
          "2021-01-03T14:00:00",
          "2021-01-04T14:00:00",
          "2021-01-05T14:00:00",
          "2021-01-06T14:00:00",
          "2021-01-07T14:00:00",
          "2021-01-08T14:00:00",
          "2021-01-09T14:00:00",
          "2021-01-10T14:00:00",
          "2021-01-11T14:00:00",
          "2021-01-12T14:00:00",
          "2021-01-13T14:00:00",
          "2021-01-14T14:00:00",
          "2021-01-15T14:00:00",
          "2021-01-16T14:00:00"
         ],
         "xaxis": "x",
         "y": [
          30,
          29,
          29,
          29,
          28,
          29,
          30,
          29,
          30,
          30,
          30,
          30,
          30,
          30,
          31,
          30,
          30,
          30,
          29,
          27,
          27,
          27,
          27,
          26,
          26,
          25,
          26,
          26,
          26,
          26,
          26,
          27,
          27,
          27,
          27,
          27,
          27,
          27,
          27,
          27,
          27,
          27,
          27,
          27,
          27,
          27,
          27,
          27,
          27,
          27,
          27,
          27,
          27,
          27,
          27,
          26,
          26,
          26,
          26,
          26,
          26,
          26
         ],
         "yaxis": "y"
        },
        {
         "hovertemplate": "Skipper=pip hare<br>Date=%{x}<br>Rang=%{y}<extra></extra>",
         "legendgroup": "pip hare",
         "line": {
          "color": "#B6E880",
          "dash": "solid"
         },
         "marker": {
          "symbol": "circle"
         },
         "mode": "lines",
         "name": "pip hare",
         "showlegend": true,
         "type": "scattergl",
         "x": [
          "2020-11-16T14:00:00",
          "2020-11-17T14:00:00",
          "2020-11-18T14:00:00",
          "2020-11-19T14:00:00",
          "2020-11-20T14:00:00",
          "2020-11-21T14:00:00",
          "2020-11-22T14:00:00",
          "2020-11-23T14:00:00",
          "2020-11-24T14:00:00",
          "2020-11-25T14:00:00",
          "2020-11-26T14:00:00",
          "2020-11-27T14:00:00",
          "2020-11-28T14:00:00",
          "2020-11-29T14:00:00",
          "2020-11-30T14:00:00",
          "2020-12-01T14:00:00",
          "2020-12-02T14:00:00",
          "2020-12-03T14:00:00",
          "2020-12-04T14:00:00",
          "2020-12-05T14:00:00",
          "2020-12-06T14:00:00",
          "2020-12-07T14:00:00",
          "2020-12-08T14:00:00",
          "2020-12-09T14:00:00",
          "2020-12-10T14:00:00",
          "2020-12-11T14:00:00",
          "2020-12-12T14:00:00",
          "2020-12-13T14:00:00",
          "2020-12-14T14:00:00",
          "2020-12-15T14:00:00",
          "2020-12-16T14:00:00",
          "2020-12-17T14:00:00",
          "2020-12-18T14:00:00",
          "2020-12-19T14:00:00",
          "2020-12-20T14:00:00",
          "2020-12-21T14:00:00",
          "2020-12-22T14:00:00",
          "2020-12-23T14:00:00",
          "2020-12-24T14:00:00",
          "2020-12-25T14:00:00",
          "2020-12-26T14:00:00",
          "2020-12-27T14:00:00",
          "2020-12-28T14:00:00",
          "2020-12-29T14:00:00",
          "2020-12-30T14:00:00",
          "2020-12-31T14:00:00",
          "2021-01-01T14:00:00",
          "2021-01-02T14:00:00",
          "2021-01-03T14:00:00",
          "2021-01-04T14:00:00",
          "2021-01-05T14:00:00",
          "2021-01-06T14:00:00",
          "2021-01-07T14:00:00",
          "2021-01-08T14:00:00",
          "2021-01-09T14:00:00",
          "2021-01-10T14:00:00",
          "2021-01-11T14:00:00",
          "2021-01-12T14:00:00",
          "2021-01-13T14:00:00",
          "2021-01-14T14:00:00",
          "2021-01-15T14:00:00",
          "2021-01-16T14:00:00",
          "2021-01-17T14:00:00",
          "2021-01-18T14:00:00",
          "2021-01-19T14:00:00",
          "2021-01-20T14:00:00",
          "2021-01-21T14:00:00",
          "2021-01-22T14:00:00",
          "2021-01-23T14:00:00",
          "2021-01-24T14:00:00",
          "2021-01-25T14:00:00",
          "2021-01-26T14:00:00",
          "2021-01-27T14:00:00"
         ],
         "xaxis": "x",
         "y": [
          21,
          21,
          22,
          22,
          22,
          21,
          20,
          20,
          20,
          23,
          23,
          24,
          24,
          24,
          24,
          23,
          23,
          23,
          22,
          20,
          20,
          20,
          20,
          20,
          20,
          19,
          19,
          18,
          19,
          18,
          18,
          18,
          18,
          18,
          17,
          17,
          17,
          17,
          17,
          17,
          17,
          17,
          17,
          17,
          17,
          16,
          15,
          16,
          15,
          15,
          15,
          15,
          15,
          17,
          17,
          17,
          17,
          17,
          17,
          17,
          17,
          17,
          17,
          17,
          17,
          17,
          17,
          17,
          17,
          18,
          19,
          19,
          19
         ],
         "yaxis": "y"
        },
        {
         "hovertemplate": "Skipper=alex thomson<br>Date=%{x}<br>Rang=%{y}<extra></extra>",
         "legendgroup": "alex thomson",
         "line": {
          "color": "#FF97FF",
          "dash": "solid"
         },
         "marker": {
          "symbol": "circle"
         },
         "mode": "lines",
         "name": "alex thomson",
         "showlegend": true,
         "type": "scattergl",
         "x": [
          "2020-11-16T14:00:00",
          "2020-11-17T14:00:00",
          "2020-11-18T14:00:00",
          "2020-11-19T14:00:00",
          "2020-11-20T14:00:00",
          "2020-11-21T14:00:00",
          "2020-11-22T14:00:00",
          "2020-11-23T14:00:00",
          "2020-11-24T14:00:00",
          "2020-11-25T14:00:00",
          "2020-11-26T14:00:00",
          "2020-11-27T14:00:00",
          "2020-11-28T14:00:00",
          "2020-11-29T14:00:00",
          "2020-11-30T14:00:00",
          "2020-12-01T14:00:00",
          "2020-12-02T14:00:00",
          "2020-12-03T14:00:00"
         ],
         "xaxis": "x",
         "y": [
          1,
          1,
          1,
          1,
          1,
          2,
          3,
          5,
          8,
          8,
          8,
          11,
          15,
          15,
          15,
          14,
          16,
          16
         ],
         "yaxis": "y"
        },
        {
         "hovertemplate": "Skipper=giancarlo pedote<br>Date=%{x}<br>Rang=%{y}<extra></extra>",
         "legendgroup": "giancarlo pedote",
         "line": {
          "color": "#FECB52",
          "dash": "solid"
         },
         "marker": {
          "symbol": "circle"
         },
         "mode": "lines",
         "name": "giancarlo pedote",
         "showlegend": true,
         "type": "scattergl",
         "x": [
          "2020-11-16T14:00:00",
          "2020-11-17T14:00:00",
          "2020-11-18T14:00:00",
          "2020-11-19T14:00:00",
          "2020-11-20T14:00:00",
          "2020-11-21T14:00:00",
          "2020-11-22T14:00:00",
          "2020-11-23T14:00:00",
          "2020-11-24T14:00:00",
          "2020-11-25T14:00:00",
          "2020-11-26T14:00:00",
          "2020-11-27T14:00:00",
          "2020-11-28T14:00:00",
          "2020-11-29T14:00:00",
          "2020-11-30T14:00:00",
          "2020-12-01T14:00:00",
          "2020-12-02T14:00:00",
          "2020-12-03T14:00:00",
          "2020-12-04T14:00:00",
          "2020-12-05T14:00:00",
          "2020-12-06T14:00:00",
          "2020-12-07T14:00:00",
          "2020-12-08T14:00:00",
          "2020-12-09T14:00:00",
          "2020-12-10T14:00:00",
          "2020-12-11T14:00:00",
          "2020-12-12T14:00:00",
          "2020-12-13T14:00:00",
          "2020-12-14T14:00:00",
          "2020-12-15T14:00:00",
          "2020-12-16T14:00:00",
          "2020-12-17T14:00:00",
          "2020-12-18T14:00:00",
          "2020-12-19T14:00:00",
          "2020-12-20T14:00:00",
          "2020-12-21T14:00:00",
          "2020-12-22T14:00:00",
          "2020-12-23T14:00:00",
          "2020-12-24T14:00:00",
          "2020-12-25T14:00:00",
          "2020-12-26T14:00:00",
          "2020-12-27T14:00:00",
          "2020-12-28T14:00:00",
          "2020-12-29T14:00:00",
          "2020-12-30T14:00:00",
          "2020-12-31T14:00:00",
          "2021-01-01T14:00:00",
          "2021-01-02T14:00:00",
          "2021-01-03T14:00:00",
          "2021-01-04T14:00:00",
          "2021-01-05T14:00:00",
          "2021-01-06T14:00:00",
          "2021-01-07T14:00:00",
          "2021-01-08T14:00:00",
          "2021-01-09T14:00:00",
          "2021-01-10T14:00:00",
          "2021-01-11T14:00:00",
          "2021-01-12T14:00:00",
          "2021-01-13T14:00:00",
          "2021-01-14T14:00:00",
          "2021-01-15T14:00:00",
          "2021-01-16T14:00:00",
          "2021-01-17T14:00:00",
          "2021-01-18T14:00:00",
          "2021-01-19T14:00:00",
          "2021-01-20T14:00:00",
          "2021-01-21T14:00:00",
          "2021-01-22T14:00:00",
          "2021-01-23T14:00:00",
          "2021-01-24T14:00:00",
          "2021-01-25T14:00:00",
          "2021-01-26T14:00:00",
          "2021-01-27T14:00:00"
         ],
         "xaxis": "x",
         "y": [
          16,
          15,
          13,
          13,
          13,
          13,
          13,
          13,
          13,
          13,
          13,
          10,
          11,
          10,
          10,
          9,
          10,
          10,
          10,
          10,
          9,
          10,
          10,
          10,
          10,
          10,
          10,
          10,
          10,
          10,
          10,
          10,
          10,
          10,
          9,
          9,
          9,
          9,
          9,
          9,
          8,
          9,
          9,
          10,
          10,
          11,
          10,
          11,
          11,
          10,
          9,
          8,
          8,
          8,
          8,
          9,
          8,
          8,
          9,
          8,
          8,
          7,
          7,
          7,
          7,
          7,
          7,
          7,
          7,
          6,
          7,
          7,
          7
         ],
         "yaxis": "y"
        },
        {
         "hovertemplate": "Skipper=kojiro shiraishi<br>Date=%{x}<br>Rang=%{y}<extra></extra>",
         "legendgroup": "kojiro shiraishi",
         "line": {
          "color": "#636efa",
          "dash": "solid"
         },
         "marker": {
          "symbol": "circle"
         },
         "mode": "lines",
         "name": "kojiro shiraishi",
         "showlegend": true,
         "type": "scattergl",
         "x": [
          "2020-11-16T14:00:00",
          "2020-11-17T14:00:00",
          "2020-11-18T14:00:00",
          "2020-11-19T14:00:00",
          "2020-11-20T14:00:00",
          "2020-11-21T14:00:00",
          "2020-11-22T14:00:00",
          "2020-11-23T14:00:00",
          "2020-11-24T14:00:00",
          "2020-11-25T14:00:00",
          "2020-11-26T14:00:00",
          "2020-11-27T14:00:00",
          "2020-11-28T14:00:00",
          "2020-11-29T14:00:00",
          "2020-11-30T14:00:00",
          "2020-12-01T14:00:00",
          "2020-12-02T14:00:00",
          "2020-12-03T14:00:00",
          "2020-12-04T14:00:00",
          "2020-12-05T14:00:00",
          "2020-12-06T14:00:00",
          "2020-12-07T14:00:00",
          "2020-12-08T14:00:00",
          "2020-12-09T14:00:00",
          "2020-12-10T14:00:00",
          "2020-12-11T14:00:00",
          "2020-12-12T14:00:00",
          "2020-12-13T14:00:00",
          "2020-12-14T14:00:00",
          "2020-12-15T14:00:00",
          "2020-12-16T14:00:00",
          "2020-12-17T14:00:00",
          "2020-12-18T14:00:00",
          "2020-12-19T14:00:00",
          "2020-12-20T14:00:00",
          "2020-12-21T14:00:00",
          "2020-12-22T14:00:00",
          "2020-12-23T14:00:00",
          "2020-12-24T14:00:00",
          "2020-12-25T14:00:00",
          "2020-12-26T14:00:00",
          "2020-12-27T14:00:00",
          "2020-12-28T14:00:00",
          "2020-12-29T14:00:00",
          "2020-12-30T14:00:00",
          "2020-12-31T14:00:00",
          "2021-01-01T14:00:00",
          "2021-01-02T14:00:00",
          "2021-01-03T14:00:00",
          "2021-01-04T14:00:00",
          "2021-01-05T14:00:00",
          "2021-01-06T14:00:00",
          "2021-01-07T14:00:00",
          "2021-01-08T14:00:00",
          "2021-01-09T14:00:00",
          "2021-01-10T14:00:00",
          "2021-01-11T14:00:00",
          "2021-01-12T14:00:00",
          "2021-01-13T14:00:00",
          "2021-01-14T14:00:00",
          "2021-01-15T14:00:00",
          "2021-01-16T14:00:00",
          "2021-01-17T14:00:00",
          "2021-01-18T14:00:00",
          "2021-01-19T14:00:00",
          "2021-01-20T14:00:00",
          "2021-01-21T14:00:00",
          "2021-01-22T14:00:00",
          "2021-01-23T14:00:00",
          "2021-01-24T14:00:00",
          "2021-01-25T14:00:00",
          "2021-01-26T14:00:00",
          "2021-01-27T14:00:00"
         ],
         "xaxis": "x",
         "y": [
          25,
          25,
          24,
          25,
          30,
          31,
          31,
          31,
          31,
          31,
          31,
          31,
          31,
          31,
          30,
          28,
          28,
          29,
          28,
          26,
          26,
          26,
          25,
          25,
          25,
          23,
          23,
          21,
          21,
          21,
          22,
          22,
          22,
          22,
          22,
          22,
          22,
          22,
          22,
          21,
          21,
          21,
          21,
          21,
          21,
          21,
          21,
          21,
          21,
          21,
          21,
          21,
          21,
          21,
          21,
          20,
          20,
          20,
          20,
          20,
          20,
          20,
          20,
          20,
          20,
          20,
          19,
          19,
          19,
          19,
          18,
          17,
          17
         ],
         "yaxis": "y"
        },
        {
         "hovertemplate": "Skipper=boris herrmann<br>Date=%{x}<br>Rang=%{y}<extra></extra>",
         "legendgroup": "boris herrmann",
         "line": {
          "color": "#EF553B",
          "dash": "solid"
         },
         "marker": {
          "symbol": "circle"
         },
         "mode": "lines",
         "name": "boris herrmann",
         "showlegend": true,
         "type": "scattergl",
         "x": [
          "2020-11-16T14:00:00",
          "2020-11-17T14:00:00",
          "2020-11-18T14:00:00",
          "2020-11-19T14:00:00",
          "2020-11-20T14:00:00",
          "2020-11-21T14:00:00",
          "2020-11-22T14:00:00",
          "2020-11-23T14:00:00",
          "2020-11-24T14:00:00",
          "2020-11-25T14:00:00",
          "2020-11-26T14:00:00",
          "2020-11-27T14:00:00",
          "2020-11-28T14:00:00",
          "2020-11-29T14:00:00",
          "2020-11-30T14:00:00",
          "2020-12-01T14:00:00",
          "2020-12-02T14:00:00",
          "2020-12-03T14:00:00",
          "2020-12-04T14:00:00",
          "2020-12-05T14:00:00",
          "2020-12-06T14:00:00",
          "2020-12-07T14:00:00",
          "2020-12-08T14:00:00",
          "2020-12-09T14:00:00",
          "2020-12-10T14:00:00",
          "2020-12-11T14:00:00",
          "2020-12-12T14:00:00",
          "2020-12-13T14:00:00",
          "2020-12-14T14:00:00",
          "2020-12-15T14:00:00",
          "2020-12-16T14:00:00",
          "2020-12-17T14:00:00",
          "2020-12-18T14:00:00",
          "2020-12-19T14:00:00",
          "2020-12-20T14:00:00",
          "2020-12-21T14:00:00",
          "2020-12-22T14:00:00",
          "2020-12-23T14:00:00",
          "2020-12-24T14:00:00",
          "2020-12-25T14:00:00",
          "2020-12-26T14:00:00",
          "2020-12-27T14:00:00",
          "2020-12-28T14:00:00",
          "2020-12-29T14:00:00",
          "2020-12-30T14:00:00",
          "2020-12-31T14:00:00",
          "2021-01-01T14:00:00",
          "2021-01-02T14:00:00",
          "2021-01-03T14:00:00",
          "2021-01-04T14:00:00",
          "2021-01-05T14:00:00",
          "2021-01-06T14:00:00",
          "2021-01-07T14:00:00",
          "2021-01-08T14:00:00",
          "2021-01-09T14:00:00",
          "2021-01-10T14:00:00",
          "2021-01-11T14:00:00",
          "2021-01-12T14:00:00",
          "2021-01-13T14:00:00",
          "2021-01-14T14:00:00",
          "2021-01-15T14:00:00",
          "2021-01-16T14:00:00",
          "2021-01-17T14:00:00",
          "2021-01-18T14:00:00",
          "2021-01-19T14:00:00",
          "2021-01-20T14:00:00",
          "2021-01-21T14:00:00",
          "2021-01-22T14:00:00",
          "2021-01-23T14:00:00",
          "2021-01-24T14:00:00",
          "2021-01-25T14:00:00",
          "2021-01-26T14:00:00",
          "2021-01-27T14:00:00"
         ],
         "xaxis": "x",
         "y": [
          11,
          7,
          9,
          7,
          7,
          7,
          6,
          6,
          6,
          5,
          5,
          6,
          8,
          8,
          8,
          6,
          5,
          7,
          8,
          8,
          7,
          8,
          7,
          8,
          8,
          8,
          8,
          8,
          8,
          6,
          7,
          5,
          5,
          4,
          4,
          4,
          4,
          4,
          4,
          3,
          4,
          6,
          7,
          7,
          7,
          6,
          6,
          7,
          7,
          8,
          10,
          11,
          9,
          9,
          9,
          8,
          6,
          6,
          6,
          5,
          3,
          3,
          4,
          6,
          6,
          3,
          2,
          3,
          3,
          3,
          3,
          2,
          3
         ],
         "yaxis": "y"
        },
        {
         "hovertemplate": "Skipper=alan roura<br>Date=%{x}<br>Rang=%{y}<extra></extra>",
         "legendgroup": "alan roura",
         "line": {
          "color": "#00cc96",
          "dash": "solid"
         },
         "marker": {
          "symbol": "circle"
         },
         "mode": "lines",
         "name": "alan roura",
         "showlegend": true,
         "type": "scattergl",
         "x": [
          "2020-11-16T14:00:00",
          "2020-11-17T14:00:00",
          "2020-11-18T14:00:00",
          "2020-11-19T14:00:00",
          "2020-11-20T14:00:00",
          "2020-11-21T14:00:00",
          "2020-11-22T14:00:00",
          "2020-11-23T14:00:00",
          "2020-11-24T14:00:00",
          "2020-11-25T14:00:00",
          "2020-11-26T14:00:00",
          "2020-11-27T14:00:00",
          "2020-11-28T14:00:00",
          "2020-11-29T14:00:00",
          "2020-11-30T14:00:00",
          "2020-12-01T14:00:00",
          "2020-12-02T14:00:00",
          "2020-12-03T14:00:00",
          "2020-12-04T14:00:00",
          "2020-12-05T14:00:00",
          "2020-12-06T14:00:00",
          "2020-12-07T14:00:00",
          "2020-12-08T14:00:00",
          "2020-12-09T14:00:00",
          "2020-12-10T14:00:00",
          "2020-12-11T14:00:00",
          "2020-12-12T14:00:00",
          "2020-12-13T14:00:00",
          "2020-12-14T14:00:00",
          "2020-12-15T14:00:00",
          "2020-12-16T14:00:00",
          "2020-12-17T14:00:00",
          "2020-12-18T14:00:00",
          "2020-12-19T14:00:00",
          "2020-12-20T14:00:00",
          "2020-12-21T14:00:00",
          "2020-12-22T14:00:00",
          "2020-12-23T14:00:00",
          "2020-12-24T14:00:00",
          "2020-12-25T14:00:00",
          "2020-12-26T14:00:00",
          "2020-12-27T14:00:00",
          "2020-12-28T14:00:00",
          "2020-12-29T14:00:00",
          "2020-12-30T14:00:00",
          "2020-12-31T14:00:00",
          "2021-01-01T14:00:00",
          "2021-01-02T14:00:00",
          "2021-01-03T14:00:00",
          "2021-01-04T14:00:00",
          "2021-01-05T14:00:00",
          "2021-01-06T14:00:00",
          "2021-01-07T14:00:00",
          "2021-01-08T14:00:00",
          "2021-01-09T14:00:00",
          "2021-01-10T14:00:00",
          "2021-01-11T14:00:00",
          "2021-01-12T14:00:00",
          "2021-01-13T14:00:00",
          "2021-01-14T14:00:00",
          "2021-01-15T14:00:00",
          "2021-01-16T14:00:00",
          "2021-01-17T14:00:00",
          "2021-01-18T14:00:00",
          "2021-01-19T14:00:00",
          "2021-01-20T14:00:00",
          "2021-01-21T14:00:00",
          "2021-01-22T14:00:00",
          "2021-01-23T14:00:00",
          "2021-01-24T14:00:00",
          "2021-01-25T14:00:00",
          "2021-01-26T14:00:00",
          "2021-01-27T14:00:00"
         ],
         "xaxis": "x",
         "y": [
          19,
          17,
          17,
          18,
          18,
          18,
          18,
          18,
          18,
          18,
          18,
          18,
          18,
          18,
          18,
          17,
          17,
          18,
          16,
          14,
          14,
          15,
          15,
          15,
          15,
          15,
          15,
          15,
          15,
          15,
          15,
          15,
          15,
          15,
          15,
          15,
          15,
          15,
          15,
          15,
          15,
          15,
          15,
          15,
          15,
          15,
          16,
          15,
          16,
          16,
          16,
          16,
          16,
          15,
          15,
          15,
          15,
          15,
          16,
          15,
          15,
          15,
          16,
          16,
          16,
          16,
          16,
          16,
          16,
          16,
          16,
          16,
          16
         ],
         "yaxis": "y"
        }
       ],
       "layout": {
        "legend": {
         "title": {
          "text": "Skipper"
         },
         "tracegroupgap": 0
        },
        "margin": {
         "t": 60
        },
        "template": {
         "data": {
          "bar": [
           {
            "error_x": {
             "color": "#2a3f5f"
            },
            "error_y": {
             "color": "#2a3f5f"
            },
            "marker": {
             "line": {
              "color": "#E5ECF6",
              "width": 0.5
             },
             "pattern": {
              "fillmode": "overlay",
              "size": 10,
              "solidity": 0.2
             }
            },
            "type": "bar"
           }
          ],
          "barpolar": [
           {
            "marker": {
             "line": {
              "color": "#E5ECF6",
              "width": 0.5
             },
             "pattern": {
              "fillmode": "overlay",
              "size": 10,
              "solidity": 0.2
             }
            },
            "type": "barpolar"
           }
          ],
          "carpet": [
           {
            "aaxis": {
             "endlinecolor": "#2a3f5f",
             "gridcolor": "white",
             "linecolor": "white",
             "minorgridcolor": "white",
             "startlinecolor": "#2a3f5f"
            },
            "baxis": {
             "endlinecolor": "#2a3f5f",
             "gridcolor": "white",
             "linecolor": "white",
             "minorgridcolor": "white",
             "startlinecolor": "#2a3f5f"
            },
            "type": "carpet"
           }
          ],
          "choropleth": [
           {
            "colorbar": {
             "outlinewidth": 0,
             "ticks": ""
            },
            "type": "choropleth"
           }
          ],
          "contour": [
           {
            "colorbar": {
             "outlinewidth": 0,
             "ticks": ""
            },
            "colorscale": [
             [
              0,
              "#0d0887"
             ],
             [
              0.1111111111111111,
              "#46039f"
             ],
             [
              0.2222222222222222,
              "#7201a8"
             ],
             [
              0.3333333333333333,
              "#9c179e"
             ],
             [
              0.4444444444444444,
              "#bd3786"
             ],
             [
              0.5555555555555556,
              "#d8576b"
             ],
             [
              0.6666666666666666,
              "#ed7953"
             ],
             [
              0.7777777777777778,
              "#fb9f3a"
             ],
             [
              0.8888888888888888,
              "#fdca26"
             ],
             [
              1,
              "#f0f921"
             ]
            ],
            "type": "contour"
           }
          ],
          "contourcarpet": [
           {
            "colorbar": {
             "outlinewidth": 0,
             "ticks": ""
            },
            "type": "contourcarpet"
           }
          ],
          "heatmap": [
           {
            "colorbar": {
             "outlinewidth": 0,
             "ticks": ""
            },
            "colorscale": [
             [
              0,
              "#0d0887"
             ],
             [
              0.1111111111111111,
              "#46039f"
             ],
             [
              0.2222222222222222,
              "#7201a8"
             ],
             [
              0.3333333333333333,
              "#9c179e"
             ],
             [
              0.4444444444444444,
              "#bd3786"
             ],
             [
              0.5555555555555556,
              "#d8576b"
             ],
             [
              0.6666666666666666,
              "#ed7953"
             ],
             [
              0.7777777777777778,
              "#fb9f3a"
             ],
             [
              0.8888888888888888,
              "#fdca26"
             ],
             [
              1,
              "#f0f921"
             ]
            ],
            "type": "heatmap"
           }
          ],
          "heatmapgl": [
           {
            "colorbar": {
             "outlinewidth": 0,
             "ticks": ""
            },
            "colorscale": [
             [
              0,
              "#0d0887"
             ],
             [
              0.1111111111111111,
              "#46039f"
             ],
             [
              0.2222222222222222,
              "#7201a8"
             ],
             [
              0.3333333333333333,
              "#9c179e"
             ],
             [
              0.4444444444444444,
              "#bd3786"
             ],
             [
              0.5555555555555556,
              "#d8576b"
             ],
             [
              0.6666666666666666,
              "#ed7953"
             ],
             [
              0.7777777777777778,
              "#fb9f3a"
             ],
             [
              0.8888888888888888,
              "#fdca26"
             ],
             [
              1,
              "#f0f921"
             ]
            ],
            "type": "heatmapgl"
           }
          ],
          "histogram": [
           {
            "marker": {
             "pattern": {
              "fillmode": "overlay",
              "size": 10,
              "solidity": 0.2
             }
            },
            "type": "histogram"
           }
          ],
          "histogram2d": [
           {
            "colorbar": {
             "outlinewidth": 0,
             "ticks": ""
            },
            "colorscale": [
             [
              0,
              "#0d0887"
             ],
             [
              0.1111111111111111,
              "#46039f"
             ],
             [
              0.2222222222222222,
              "#7201a8"
             ],
             [
              0.3333333333333333,
              "#9c179e"
             ],
             [
              0.4444444444444444,
              "#bd3786"
             ],
             [
              0.5555555555555556,
              "#d8576b"
             ],
             [
              0.6666666666666666,
              "#ed7953"
             ],
             [
              0.7777777777777778,
              "#fb9f3a"
             ],
             [
              0.8888888888888888,
              "#fdca26"
             ],
             [
              1,
              "#f0f921"
             ]
            ],
            "type": "histogram2d"
           }
          ],
          "histogram2dcontour": [
           {
            "colorbar": {
             "outlinewidth": 0,
             "ticks": ""
            },
            "colorscale": [
             [
              0,
              "#0d0887"
             ],
             [
              0.1111111111111111,
              "#46039f"
             ],
             [
              0.2222222222222222,
              "#7201a8"
             ],
             [
              0.3333333333333333,
              "#9c179e"
             ],
             [
              0.4444444444444444,
              "#bd3786"
             ],
             [
              0.5555555555555556,
              "#d8576b"
             ],
             [
              0.6666666666666666,
              "#ed7953"
             ],
             [
              0.7777777777777778,
              "#fb9f3a"
             ],
             [
              0.8888888888888888,
              "#fdca26"
             ],
             [
              1,
              "#f0f921"
             ]
            ],
            "type": "histogram2dcontour"
           }
          ],
          "mesh3d": [
           {
            "colorbar": {
             "outlinewidth": 0,
             "ticks": ""
            },
            "type": "mesh3d"
           }
          ],
          "parcoords": [
           {
            "line": {
             "colorbar": {
              "outlinewidth": 0,
              "ticks": ""
             }
            },
            "type": "parcoords"
           }
          ],
          "pie": [
           {
            "automargin": true,
            "type": "pie"
           }
          ],
          "scatter": [
           {
            "marker": {
             "colorbar": {
              "outlinewidth": 0,
              "ticks": ""
             }
            },
            "type": "scatter"
           }
          ],
          "scatter3d": [
           {
            "line": {
             "colorbar": {
              "outlinewidth": 0,
              "ticks": ""
             }
            },
            "marker": {
             "colorbar": {
              "outlinewidth": 0,
              "ticks": ""
             }
            },
            "type": "scatter3d"
           }
          ],
          "scattercarpet": [
           {
            "marker": {
             "colorbar": {
              "outlinewidth": 0,
              "ticks": ""
             }
            },
            "type": "scattercarpet"
           }
          ],
          "scattergeo": [
           {
            "marker": {
             "colorbar": {
              "outlinewidth": 0,
              "ticks": ""
             }
            },
            "type": "scattergeo"
           }
          ],
          "scattergl": [
           {
            "marker": {
             "colorbar": {
              "outlinewidth": 0,
              "ticks": ""
             }
            },
            "type": "scattergl"
           }
          ],
          "scattermapbox": [
           {
            "marker": {
             "colorbar": {
              "outlinewidth": 0,
              "ticks": ""
             }
            },
            "type": "scattermapbox"
           }
          ],
          "scatterpolar": [
           {
            "marker": {
             "colorbar": {
              "outlinewidth": 0,
              "ticks": ""
             }
            },
            "type": "scatterpolar"
           }
          ],
          "scatterpolargl": [
           {
            "marker": {
             "colorbar": {
              "outlinewidth": 0,
              "ticks": ""
             }
            },
            "type": "scatterpolargl"
           }
          ],
          "scatterternary": [
           {
            "marker": {
             "colorbar": {
              "outlinewidth": 0,
              "ticks": ""
             }
            },
            "type": "scatterternary"
           }
          ],
          "surface": [
           {
            "colorbar": {
             "outlinewidth": 0,
             "ticks": ""
            },
            "colorscale": [
             [
              0,
              "#0d0887"
             ],
             [
              0.1111111111111111,
              "#46039f"
             ],
             [
              0.2222222222222222,
              "#7201a8"
             ],
             [
              0.3333333333333333,
              "#9c179e"
             ],
             [
              0.4444444444444444,
              "#bd3786"
             ],
             [
              0.5555555555555556,
              "#d8576b"
             ],
             [
              0.6666666666666666,
              "#ed7953"
             ],
             [
              0.7777777777777778,
              "#fb9f3a"
             ],
             [
              0.8888888888888888,
              "#fdca26"
             ],
             [
              1,
              "#f0f921"
             ]
            ],
            "type": "surface"
           }
          ],
          "table": [
           {
            "cells": {
             "fill": {
              "color": "#EBF0F8"
             },
             "line": {
              "color": "white"
             }
            },
            "header": {
             "fill": {
              "color": "#C8D4E3"
             },
             "line": {
              "color": "white"
             }
            },
            "type": "table"
           }
          ]
         },
         "layout": {
          "annotationdefaults": {
           "arrowcolor": "#2a3f5f",
           "arrowhead": 0,
           "arrowwidth": 1
          },
          "autotypenumbers": "strict",
          "coloraxis": {
           "colorbar": {
            "outlinewidth": 0,
            "ticks": ""
           }
          },
          "colorscale": {
           "diverging": [
            [
             0,
             "#8e0152"
            ],
            [
             0.1,
             "#c51b7d"
            ],
            [
             0.2,
             "#de77ae"
            ],
            [
             0.3,
             "#f1b6da"
            ],
            [
             0.4,
             "#fde0ef"
            ],
            [
             0.5,
             "#f7f7f7"
            ],
            [
             0.6,
             "#e6f5d0"
            ],
            [
             0.7,
             "#b8e186"
            ],
            [
             0.8,
             "#7fbc41"
            ],
            [
             0.9,
             "#4d9221"
            ],
            [
             1,
             "#276419"
            ]
           ],
           "sequential": [
            [
             0,
             "#0d0887"
            ],
            [
             0.1111111111111111,
             "#46039f"
            ],
            [
             0.2222222222222222,
             "#7201a8"
            ],
            [
             0.3333333333333333,
             "#9c179e"
            ],
            [
             0.4444444444444444,
             "#bd3786"
            ],
            [
             0.5555555555555556,
             "#d8576b"
            ],
            [
             0.6666666666666666,
             "#ed7953"
            ],
            [
             0.7777777777777778,
             "#fb9f3a"
            ],
            [
             0.8888888888888888,
             "#fdca26"
            ],
            [
             1,
             "#f0f921"
            ]
           ],
           "sequentialminus": [
            [
             0,
             "#0d0887"
            ],
            [
             0.1111111111111111,
             "#46039f"
            ],
            [
             0.2222222222222222,
             "#7201a8"
            ],
            [
             0.3333333333333333,
             "#9c179e"
            ],
            [
             0.4444444444444444,
             "#bd3786"
            ],
            [
             0.5555555555555556,
             "#d8576b"
            ],
            [
             0.6666666666666666,
             "#ed7953"
            ],
            [
             0.7777777777777778,
             "#fb9f3a"
            ],
            [
             0.8888888888888888,
             "#fdca26"
            ],
            [
             1,
             "#f0f921"
            ]
           ]
          },
          "colorway": [
           "#636efa",
           "#EF553B",
           "#00cc96",
           "#ab63fa",
           "#FFA15A",
           "#19d3f3",
           "#FF6692",
           "#B6E880",
           "#FF97FF",
           "#FECB52"
          ],
          "font": {
           "color": "#2a3f5f"
          },
          "geo": {
           "bgcolor": "white",
           "lakecolor": "white",
           "landcolor": "#E5ECF6",
           "showlakes": true,
           "showland": true,
           "subunitcolor": "white"
          },
          "hoverlabel": {
           "align": "left"
          },
          "hovermode": "closest",
          "mapbox": {
           "style": "light"
          },
          "paper_bgcolor": "white",
          "plot_bgcolor": "#E5ECF6",
          "polar": {
           "angularaxis": {
            "gridcolor": "white",
            "linecolor": "white",
            "ticks": ""
           },
           "bgcolor": "#E5ECF6",
           "radialaxis": {
            "gridcolor": "white",
            "linecolor": "white",
            "ticks": ""
           }
          },
          "scene": {
           "xaxis": {
            "backgroundcolor": "#E5ECF6",
            "gridcolor": "white",
            "gridwidth": 2,
            "linecolor": "white",
            "showbackground": true,
            "ticks": "",
            "zerolinecolor": "white"
           },
           "yaxis": {
            "backgroundcolor": "#E5ECF6",
            "gridcolor": "white",
            "gridwidth": 2,
            "linecolor": "white",
            "showbackground": true,
            "ticks": "",
            "zerolinecolor": "white"
           },
           "zaxis": {
            "backgroundcolor": "#E5ECF6",
            "gridcolor": "white",
            "gridwidth": 2,
            "linecolor": "white",
            "showbackground": true,
            "ticks": "",
            "zerolinecolor": "white"
           }
          },
          "shapedefaults": {
           "line": {
            "color": "#2a3f5f"
           }
          },
          "ternary": {
           "aaxis": {
            "gridcolor": "white",
            "linecolor": "white",
            "ticks": ""
           },
           "baxis": {
            "gridcolor": "white",
            "linecolor": "white",
            "ticks": ""
           },
           "bgcolor": "#E5ECF6",
           "caxis": {
            "gridcolor": "white",
            "linecolor": "white",
            "ticks": ""
           }
          },
          "title": {
           "x": 0.05
          },
          "xaxis": {
           "automargin": true,
           "gridcolor": "white",
           "linecolor": "white",
           "ticks": "",
           "title": {
            "standoff": 15
           },
           "zerolinecolor": "white",
           "zerolinewidth": 2
          },
          "yaxis": {
           "automargin": true,
           "gridcolor": "white",
           "linecolor": "white",
           "ticks": "",
           "title": {
            "standoff": 15
           },
           "zerolinecolor": "white",
           "zerolinewidth": 2
          }
         }
        },
        "xaxis": {
         "anchor": "y",
         "domain": [
          0,
          1
         ],
         "title": {
          "text": "Date"
         }
        },
        "yaxis": {
         "anchor": "x",
         "autorange": "reversed",
         "domain": [
          0,
          1
         ],
         "title": {
          "text": "Rang"
         }
        }
       }
      },
      "text/html": [
       "<div>                            <div id=\"24b3000a-a668-42ba-a2d5-612ca3371631\" class=\"plotly-graph-div\" style=\"height:525px; width:100%;\"></div>            <script type=\"text/javascript\">                require([\"plotly\"], function(Plotly) {                    window.PLOTLYENV=window.PLOTLYENV || {};                                    if (document.getElementById(\"24b3000a-a668-42ba-a2d5-612ca3371631\")) {                    Plotly.newPlot(                        \"24b3000a-a668-42ba-a2d5-612ca3371631\",                        [{\"hovertemplate\":\"Skipper=didac costa<br>Date=%{x}<br>Rang=%{y}<extra></extra>\",\"legendgroup\":\"didac costa\",\"line\":{\"color\":\"#636efa\",\"dash\":\"solid\"},\"marker\":{\"symbol\":\"circle\"},\"mode\":\"lines\",\"name\":\"didac costa\",\"showlegend\":true,\"type\":\"scattergl\",\"x\":[\"2020-11-16T14:00:00\",\"2020-11-17T14:00:00\",\"2020-11-18T14:00:00\",\"2020-11-19T14:00:00\",\"2020-11-20T14:00:00\",\"2020-11-21T14:00:00\",\"2020-11-22T14:00:00\",\"2020-11-23T14:00:00\",\"2020-11-24T14:00:00\",\"2020-11-25T14:00:00\",\"2020-11-26T14:00:00\",\"2020-11-27T14:00:00\",\"2020-11-28T14:00:00\",\"2020-11-29T14:00:00\",\"2020-11-30T14:00:00\",\"2020-12-01T14:00:00\",\"2020-12-02T14:00:00\",\"2020-12-03T14:00:00\",\"2020-12-04T14:00:00\",\"2020-12-05T14:00:00\",\"2020-12-06T14:00:00\",\"2020-12-07T14:00:00\",\"2020-12-08T14:00:00\",\"2020-12-09T14:00:00\",\"2020-12-10T14:00:00\",\"2020-12-11T14:00:00\",\"2020-12-12T14:00:00\",\"2020-12-13T14:00:00\",\"2020-12-14T14:00:00\",\"2020-12-15T14:00:00\",\"2020-12-16T14:00:00\",\"2020-12-17T14:00:00\",\"2020-12-18T14:00:00\",\"2020-12-19T14:00:00\",\"2020-12-20T14:00:00\",\"2020-12-21T14:00:00\",\"2020-12-22T14:00:00\",\"2020-12-23T14:00:00\",\"2020-12-24T14:00:00\",\"2020-12-25T14:00:00\",\"2020-12-26T14:00:00\",\"2020-12-27T14:00:00\",\"2020-12-28T14:00:00\",\"2020-12-29T14:00:00\",\"2020-12-30T14:00:00\",\"2020-12-31T14:00:00\",\"2021-01-01T14:00:00\",\"2021-01-02T14:00:00\",\"2021-01-03T14:00:00\",\"2021-01-04T14:00:00\",\"2021-01-05T14:00:00\",\"2021-01-06T14:00:00\",\"2021-01-07T14:00:00\",\"2021-01-08T14:00:00\",\"2021-01-09T14:00:00\",\"2021-01-10T14:00:00\",\"2021-01-11T14:00:00\",\"2021-01-12T14:00:00\",\"2021-01-13T14:00:00\",\"2021-01-14T14:00:00\",\"2021-01-15T14:00:00\",\"2021-01-16T14:00:00\",\"2021-01-17T14:00:00\",\"2021-01-18T14:00:00\",\"2021-01-19T14:00:00\",\"2021-01-20T14:00:00\",\"2021-01-21T14:00:00\",\"2021-01-22T14:00:00\",\"2021-01-23T14:00:00\",\"2021-01-24T14:00:00\",\"2021-01-25T14:00:00\",\"2021-01-26T14:00:00\",\"2021-01-27T14:00:00\"],\"xaxis\":\"x\",\"y\":[22,20,20,20,20,20,21,21,22,21,22,22,22,22,23,22,22,22,21,19,19,19,19,19,19,18,18,19,18,19,19,19,19,19,19,19,19,19,19,20,20,20,20,20,20,20,20,20,20,20,20,20,20,20,20,19,19,19,19,19,19,19,19,19,19,19,20,20,20,20,20,20,20],\"yaxis\":\"y\"},{\"hovertemplate\":\"Skipper=ari huusela<br>Date=%{x}<br>Rang=%{y}<extra></extra>\",\"legendgroup\":\"ari huusela\",\"line\":{\"color\":\"#EF553B\",\"dash\":\"solid\"},\"marker\":{\"symbol\":\"circle\"},\"mode\":\"lines\",\"name\":\"ari huusela\",\"showlegend\":true,\"type\":\"scattergl\",\"x\":[\"2020-11-16T14:00:00\",\"2020-11-17T14:00:00\",\"2020-11-18T14:00:00\",\"2020-11-19T14:00:00\",\"2020-11-20T14:00:00\",\"2020-11-21T14:00:00\",\"2020-11-22T14:00:00\",\"2020-11-23T14:00:00\",\"2020-11-24T14:00:00\",\"2020-11-25T14:00:00\",\"2020-11-26T14:00:00\",\"2020-11-27T14:00:00\",\"2020-11-28T14:00:00\",\"2020-11-29T14:00:00\",\"2020-11-30T14:00:00\",\"2020-12-01T14:00:00\",\"2020-12-02T14:00:00\",\"2020-12-03T14:00:00\",\"2020-12-04T14:00:00\",\"2020-12-05T14:00:00\",\"2020-12-06T14:00:00\",\"2020-12-07T14:00:00\",\"2020-12-08T14:00:00\",\"2020-12-09T14:00:00\",\"2020-12-10T14:00:00\",\"2020-12-11T14:00:00\",\"2020-12-12T14:00:00\",\"2020-12-13T14:00:00\",\"2020-12-14T14:00:00\",\"2020-12-15T14:00:00\",\"2020-12-16T14:00:00\",\"2020-12-17T14:00:00\",\"2020-12-18T14:00:00\",\"2020-12-19T14:00:00\",\"2020-12-20T14:00:00\",\"2020-12-21T14:00:00\",\"2020-12-22T14:00:00\",\"2020-12-23T14:00:00\",\"2020-12-24T14:00:00\",\"2020-12-25T14:00:00\",\"2020-12-26T14:00:00\",\"2020-12-27T14:00:00\",\"2020-12-28T14:00:00\",\"2020-12-29T14:00:00\",\"2020-12-30T14:00:00\",\"2020-12-31T14:00:00\",\"2021-01-01T14:00:00\",\"2021-01-02T14:00:00\",\"2021-01-03T14:00:00\",\"2021-01-04T14:00:00\",\"2021-01-05T14:00:00\",\"2021-01-06T14:00:00\",\"2021-01-07T14:00:00\",\"2021-01-08T14:00:00\",\"2021-01-09T14:00:00\",\"2021-01-10T14:00:00\",\"2021-01-11T14:00:00\",\"2021-01-12T14:00:00\",\"2021-01-13T14:00:00\",\"2021-01-14T14:00:00\",\"2021-01-15T14:00:00\",\"2021-01-16T14:00:00\",\"2021-01-17T14:00:00\",\"2021-01-18T14:00:00\",\"2021-01-19T14:00:00\",\"2021-01-20T14:00:00\",\"2021-01-21T14:00:00\",\"2021-01-22T14:00:00\",\"2021-01-23T14:00:00\",\"2021-01-24T14:00:00\",\"2021-01-25T14:00:00\",\"2021-01-26T14:00:00\",\"2021-01-27T14:00:00\"],\"xaxis\":\"x\",\"y\":[28,26,25,26,26,27,28,28,29,29,29,29,29,29,29,29,29,28,27,25,25,25,26,27,27,28,27,27,27,27,27,26,26,26,26,26,26,26,26,26,26,26,26,26,26,26,26,26,26,26,26,26,26,26,26,25,25,25,25,25,25,25,25,25,25,25,25,25,25,25,25,25,25],\"yaxis\":\"y\"},{\"hovertemplate\":\"Skipper=jean le cam<br>Date=%{x}<br>Rang=%{y}<extra></extra>\",\"legendgroup\":\"jean le cam\",\"line\":{\"color\":\"#00cc96\",\"dash\":\"solid\"},\"marker\":{\"symbol\":\"circle\"},\"mode\":\"lines\",\"name\":\"jean le cam\",\"showlegend\":true,\"type\":\"scattergl\",\"x\":[\"2020-11-16T14:00:00\",\"2020-11-17T14:00:00\",\"2020-11-18T14:00:00\",\"2020-11-19T14:00:00\",\"2020-11-20T14:00:00\",\"2020-11-21T14:00:00\",\"2020-11-22T14:00:00\",\"2020-11-23T14:00:00\",\"2020-11-24T14:00:00\",\"2020-11-25T14:00:00\",\"2020-11-26T14:00:00\",\"2020-11-27T14:00:00\",\"2020-11-28T14:00:00\",\"2020-11-29T14:00:00\",\"2020-11-30T14:00:00\",\"2020-12-01T14:00:00\",\"2020-12-02T14:00:00\",\"2020-12-03T14:00:00\",\"2020-12-04T14:00:00\",\"2020-12-05T14:00:00\",\"2020-12-06T14:00:00\",\"2020-12-07T14:00:00\",\"2020-12-08T14:00:00\",\"2020-12-09T14:00:00\",\"2020-12-10T14:00:00\",\"2020-12-11T14:00:00\",\"2020-12-12T14:00:00\",\"2020-12-13T14:00:00\",\"2020-12-14T14:00:00\",\"2020-12-15T14:00:00\",\"2020-12-16T14:00:00\",\"2020-12-17T14:00:00\",\"2020-12-18T14:00:00\",\"2020-12-19T14:00:00\",\"2020-12-20T14:00:00\",\"2020-12-21T14:00:00\",\"2020-12-22T14:00:00\",\"2020-12-23T14:00:00\",\"2020-12-24T14:00:00\",\"2020-12-25T14:00:00\",\"2020-12-26T14:00:00\",\"2020-12-27T14:00:00\",\"2020-12-28T14:00:00\",\"2020-12-29T14:00:00\",\"2020-12-30T14:00:00\",\"2020-12-31T14:00:00\",\"2021-01-01T14:00:00\",\"2021-01-02T14:00:00\",\"2021-01-03T14:00:00\",\"2021-01-04T14:00:00\",\"2021-01-05T14:00:00\",\"2021-01-06T14:00:00\",\"2021-01-07T14:00:00\",\"2021-01-08T14:00:00\",\"2021-01-09T14:00:00\",\"2021-01-10T14:00:00\",\"2021-01-11T14:00:00\",\"2021-01-12T14:00:00\",\"2021-01-13T14:00:00\",\"2021-01-14T14:00:00\",\"2021-01-15T14:00:00\",\"2021-01-16T14:00:00\",\"2021-01-17T14:00:00\",\"2021-01-18T14:00:00\",\"2021-01-19T14:00:00\",\"2021-01-20T14:00:00\",\"2021-01-21T14:00:00\",\"2021-01-22T14:00:00\",\"2021-01-23T14:00:00\",\"2021-01-24T14:00:00\",\"2021-01-25T14:00:00\",\"2021-01-26T14:00:00\",\"2021-01-27T14:00:00\"],\"xaxis\":\"x\",\"y\":[2,3,4,4,4,4,4,3,3,3,3,3,3,3,4,7,7,6,6,6,6,6,6,6,6,5,4,5,5,4,4,4,4,5,5,5,5,6,5,4,3,5,5,5,5,7,7,6,6,7,7,7,7,6,7,7,9,9,8,9,9,9,9,9,9,8,8,8,8,8,8,8,8],\"yaxis\":\"y\"},{\"hovertemplate\":\"Skipper=benjamin dutreux<br>Date=%{x}<br>Rang=%{y}<extra></extra>\",\"legendgroup\":\"benjamin dutreux\",\"line\":{\"color\":\"#ab63fa\",\"dash\":\"solid\"},\"marker\":{\"symbol\":\"circle\"},\"mode\":\"lines\",\"name\":\"benjamin dutreux\",\"showlegend\":true,\"type\":\"scattergl\",\"x\":[\"2020-11-16T14:00:00\",\"2020-11-17T14:00:00\",\"2020-11-18T14:00:00\",\"2020-11-19T14:00:00\",\"2020-11-20T14:00:00\",\"2020-11-21T14:00:00\",\"2020-11-22T14:00:00\",\"2020-11-23T14:00:00\",\"2020-11-24T14:00:00\",\"2020-11-25T14:00:00\",\"2020-11-26T14:00:00\",\"2020-11-27T14:00:00\",\"2020-11-28T14:00:00\",\"2020-11-29T14:00:00\",\"2020-11-30T14:00:00\",\"2020-12-01T14:00:00\",\"2020-12-02T14:00:00\",\"2020-12-03T14:00:00\",\"2020-12-04T14:00:00\",\"2020-12-05T14:00:00\",\"2020-12-06T14:00:00\",\"2020-12-07T14:00:00\",\"2020-12-08T14:00:00\",\"2020-12-09T14:00:00\",\"2020-12-10T14:00:00\",\"2020-12-11T14:00:00\",\"2020-12-12T14:00:00\",\"2020-12-13T14:00:00\",\"2020-12-14T14:00:00\",\"2020-12-15T14:00:00\",\"2020-12-16T14:00:00\",\"2020-12-17T14:00:00\",\"2020-12-18T14:00:00\",\"2020-12-19T14:00:00\",\"2020-12-20T14:00:00\",\"2020-12-21T14:00:00\",\"2020-12-22T14:00:00\",\"2020-12-23T14:00:00\",\"2020-12-24T14:00:00\",\"2020-12-25T14:00:00\",\"2020-12-26T14:00:00\",\"2020-12-27T14:00:00\",\"2020-12-28T14:00:00\",\"2020-12-29T14:00:00\",\"2020-12-30T14:00:00\",\"2020-12-31T14:00:00\",\"2021-01-01T14:00:00\",\"2021-01-02T14:00:00\",\"2021-01-03T14:00:00\",\"2021-01-04T14:00:00\",\"2021-01-05T14:00:00\",\"2021-01-06T14:00:00\",\"2021-01-07T14:00:00\",\"2021-01-08T14:00:00\",\"2021-01-09T14:00:00\",\"2021-01-10T14:00:00\",\"2021-01-11T14:00:00\",\"2021-01-12T14:00:00\",\"2021-01-13T14:00:00\",\"2021-01-14T14:00:00\",\"2021-01-15T14:00:00\",\"2021-01-16T14:00:00\",\"2021-01-17T14:00:00\",\"2021-01-18T14:00:00\",\"2021-01-19T14:00:00\",\"2021-01-20T14:00:00\",\"2021-01-21T14:00:00\",\"2021-01-22T14:00:00\",\"2021-01-23T14:00:00\",\"2021-01-24T14:00:00\",\"2021-01-25T14:00:00\",\"2021-01-26T14:00:00\",\"2021-01-27T14:00:00\"],\"xaxis\":\"x\",\"y\":[6,8,7,10,11,11,11,11,11,11,12,13,12,12,11,10,9,8,7,7,8,7,5,5,5,4,7,6,6,7,6,7,8,6,6,6,6,5,6,8,10,10,10,6,6,5,5,5,5,5,5,6,6,7,6,6,7,7,7,7,7,8,8,8,8,9,9,9,9,9,9,9,9],\"yaxis\":\"y\"},{\"hovertemplate\":\"Skipper=damien seguin<br>Date=%{x}<br>Rang=%{y}<extra></extra>\",\"legendgroup\":\"damien seguin\",\"line\":{\"color\":\"#FFA15A\",\"dash\":\"solid\"},\"marker\":{\"symbol\":\"circle\"},\"mode\":\"lines\",\"name\":\"damien seguin\",\"showlegend\":true,\"type\":\"scattergl\",\"x\":[\"2020-11-16T14:00:00\",\"2020-11-17T14:00:00\",\"2020-11-18T14:00:00\",\"2020-11-19T14:00:00\",\"2020-11-20T14:00:00\",\"2020-11-21T14:00:00\",\"2020-11-22T14:00:00\",\"2020-11-23T14:00:00\",\"2020-11-24T14:00:00\",\"2020-11-25T14:00:00\",\"2020-11-26T14:00:00\",\"2020-11-27T14:00:00\",\"2020-11-28T14:00:00\",\"2020-11-29T14:00:00\",\"2020-11-30T14:00:00\",\"2020-12-01T14:00:00\",\"2020-12-02T14:00:00\",\"2020-12-03T14:00:00\",\"2020-12-04T14:00:00\",\"2020-12-05T14:00:00\",\"2020-12-06T14:00:00\",\"2020-12-07T14:00:00\",\"2020-12-08T14:00:00\",\"2020-12-09T14:00:00\",\"2020-12-10T14:00:00\",\"2020-12-11T14:00:00\",\"2020-12-12T14:00:00\",\"2020-12-13T14:00:00\",\"2020-12-14T14:00:00\",\"2020-12-15T14:00:00\",\"2020-12-16T14:00:00\",\"2020-12-17T14:00:00\",\"2020-12-18T14:00:00\",\"2020-12-19T14:00:00\",\"2020-12-20T14:00:00\",\"2020-12-21T14:00:00\",\"2020-12-22T14:00:00\",\"2020-12-23T14:00:00\",\"2020-12-24T14:00:00\",\"2020-12-25T14:00:00\",\"2020-12-26T14:00:00\",\"2020-12-27T14:00:00\",\"2020-12-28T14:00:00\",\"2020-12-29T14:00:00\",\"2020-12-30T14:00:00\",\"2020-12-31T14:00:00\",\"2021-01-01T14:00:00\",\"2021-01-02T14:00:00\",\"2021-01-03T14:00:00\",\"2021-01-04T14:00:00\",\"2021-01-05T14:00:00\",\"2021-01-06T14:00:00\",\"2021-01-07T14:00:00\",\"2021-01-08T14:00:00\",\"2021-01-09T14:00:00\",\"2021-01-10T14:00:00\",\"2021-01-11T14:00:00\",\"2021-01-12T14:00:00\",\"2021-01-13T14:00:00\",\"2021-01-14T14:00:00\",\"2021-01-15T14:00:00\",\"2021-01-16T14:00:00\",\"2021-01-17T14:00:00\",\"2021-01-18T14:00:00\",\"2021-01-19T14:00:00\",\"2021-01-20T14:00:00\",\"2021-01-21T14:00:00\",\"2021-01-22T14:00:00\",\"2021-01-23T14:00:00\",\"2021-01-24T14:00:00\",\"2021-01-25T14:00:00\",\"2021-01-26T14:00:00\",\"2021-01-27T14:00:00\"],\"xaxis\":\"x\",\"y\":[9,11,12,12,12,12,12,12,12,12,11,12,10,9,9,5,6,4,5,4,4,5,8,7,7,7,5,4,4,8,5,6,6,7,7,7,7,7,7,5,5,4,4,3,4,3,4,4,3,4,4,3,4,4,4,3,4,3,5,4,5,5,6,3,2,5,6,5,6,7,6,6,6],\"yaxis\":\"y\"},{\"hovertemplate\":\"Skipper=samantha davies<br>Date=%{x}<br>Rang=%{y}<extra></extra>\",\"legendgroup\":\"samantha davies\",\"line\":{\"color\":\"#19d3f3\",\"dash\":\"solid\"},\"marker\":{\"symbol\":\"circle\"},\"mode\":\"lines\",\"name\":\"samantha davies\",\"showlegend\":true,\"type\":\"scattergl\",\"x\":[\"2020-11-16T14:00:00\",\"2020-11-17T14:00:00\",\"2020-11-18T14:00:00\",\"2020-11-19T14:00:00\",\"2020-11-20T14:00:00\",\"2020-11-21T14:00:00\",\"2020-11-22T14:00:00\",\"2020-11-23T14:00:00\",\"2020-11-24T14:00:00\",\"2020-11-25T14:00:00\",\"2020-11-26T14:00:00\",\"2020-11-27T14:00:00\",\"2020-11-28T14:00:00\",\"2020-11-29T14:00:00\",\"2020-11-30T14:00:00\",\"2020-12-01T14:00:00\",\"2020-12-02T14:00:00\",\"2020-12-03T14:00:00\",\"2020-12-04T14:00:00\"],\"xaxis\":\"x\",\"y\":[8,9,8,9,9,10,10,10,10,9,10,9,9,11,12,11,11,13,15],\"yaxis\":\"y\"},{\"hovertemplate\":\"Skipper=arnaud boissieres<br>Date=%{x}<br>Rang=%{y}<extra></extra>\",\"legendgroup\":\"arnaud boissieres\",\"line\":{\"color\":\"#FF6692\",\"dash\":\"solid\"},\"marker\":{\"symbol\":\"circle\"},\"mode\":\"lines\",\"name\":\"arnaud boissieres\",\"showlegend\":true,\"type\":\"scattergl\",\"x\":[\"2020-11-16T14:00:00\",\"2020-11-17T14:00:00\",\"2020-11-18T14:00:00\",\"2020-11-19T14:00:00\",\"2020-11-20T14:00:00\",\"2020-11-21T14:00:00\",\"2020-11-22T14:00:00\",\"2020-11-23T14:00:00\",\"2020-11-24T14:00:00\",\"2020-11-25T14:00:00\",\"2020-11-26T14:00:00\",\"2020-11-27T14:00:00\",\"2020-11-28T14:00:00\",\"2020-11-29T14:00:00\",\"2020-11-30T14:00:00\",\"2020-12-01T14:00:00\",\"2020-12-02T14:00:00\",\"2020-12-03T14:00:00\",\"2020-12-04T14:00:00\",\"2020-12-05T14:00:00\",\"2020-12-06T14:00:00\",\"2020-12-07T14:00:00\",\"2020-12-08T14:00:00\",\"2020-12-09T14:00:00\",\"2020-12-10T14:00:00\",\"2020-12-11T14:00:00\",\"2020-12-12T14:00:00\",\"2020-12-13T14:00:00\",\"2020-12-14T14:00:00\",\"2020-12-15T14:00:00\",\"2020-12-16T14:00:00\",\"2020-12-17T14:00:00\",\"2020-12-18T14:00:00\",\"2020-12-19T14:00:00\",\"2020-12-20T14:00:00\",\"2020-12-21T14:00:00\",\"2020-12-22T14:00:00\",\"2020-12-23T14:00:00\",\"2020-12-24T14:00:00\",\"2020-12-25T14:00:00\",\"2020-12-26T14:00:00\",\"2020-12-27T14:00:00\",\"2020-12-28T14:00:00\",\"2020-12-29T14:00:00\",\"2020-12-30T14:00:00\",\"2020-12-31T14:00:00\",\"2021-01-01T14:00:00\",\"2021-01-02T14:00:00\",\"2021-01-03T14:00:00\",\"2021-01-04T14:00:00\",\"2021-01-05T14:00:00\",\"2021-01-06T14:00:00\",\"2021-01-07T14:00:00\",\"2021-01-08T14:00:00\",\"2021-01-09T14:00:00\",\"2021-01-10T14:00:00\",\"2021-01-11T14:00:00\",\"2021-01-12T14:00:00\",\"2021-01-13T14:00:00\",\"2021-01-14T14:00:00\",\"2021-01-15T14:00:00\",\"2021-01-16T14:00:00\",\"2021-01-17T14:00:00\",\"2021-01-18T14:00:00\",\"2021-01-19T14:00:00\",\"2021-01-20T14:00:00\",\"2021-01-21T14:00:00\",\"2021-01-22T14:00:00\",\"2021-01-23T14:00:00\",\"2021-01-24T14:00:00\",\"2021-01-25T14:00:00\",\"2021-01-26T14:00:00\",\"2021-01-27T14:00:00\"],\"xaxis\":\"x\",\"y\":[23,23,21,21,21,22,22,22,21,20,20,20,20,20,20,20,20,20,19,17,17,17,17,16,16,17,16,16,16,16,16,16,16,16,16,16,16,16,16,16,16,16,16,16,16,17,17,17,17,17,17,17,17,16,16,14,14,14,14,16,16,16,15,15,15,15,15,15,15,15,15,15,15],\"yaxis\":\"y\"},{\"hovertemplate\":\"Skipper=yannick bestaven<br>Date=%{x}<br>Rang=%{y}<extra></extra>\",\"legendgroup\":\"yannick bestaven\",\"line\":{\"color\":\"#B6E880\",\"dash\":\"solid\"},\"marker\":{\"symbol\":\"circle\"},\"mode\":\"lines\",\"name\":\"yannick bestaven\",\"showlegend\":true,\"type\":\"scattergl\",\"x\":[\"2020-11-16T14:00:00\",\"2020-11-17T14:00:00\",\"2020-11-18T14:00:00\",\"2020-11-19T14:00:00\",\"2020-11-20T14:00:00\",\"2020-11-21T14:00:00\",\"2020-11-22T14:00:00\",\"2020-11-23T14:00:00\",\"2020-11-24T14:00:00\",\"2020-11-25T14:00:00\",\"2020-11-26T14:00:00\",\"2020-11-27T14:00:00\",\"2020-11-28T14:00:00\",\"2020-11-29T14:00:00\",\"2020-11-30T14:00:00\",\"2020-12-01T14:00:00\",\"2020-12-02T14:00:00\",\"2020-12-03T14:00:00\",\"2020-12-04T14:00:00\",\"2020-12-05T14:00:00\",\"2020-12-06T14:00:00\",\"2020-12-07T14:00:00\",\"2020-12-08T14:00:00\",\"2020-12-09T14:00:00\",\"2020-12-10T14:00:00\",\"2020-12-11T14:00:00\",\"2020-12-12T14:00:00\",\"2020-12-13T14:00:00\",\"2020-12-14T14:00:00\",\"2020-12-15T14:00:00\",\"2020-12-16T14:00:00\",\"2020-12-17T14:00:00\",\"2020-12-18T14:00:00\",\"2020-12-19T14:00:00\",\"2020-12-20T14:00:00\",\"2020-12-21T14:00:00\",\"2020-12-22T14:00:00\",\"2020-12-23T14:00:00\",\"2020-12-24T14:00:00\",\"2020-12-25T14:00:00\",\"2020-12-26T14:00:00\",\"2020-12-27T14:00:00\",\"2020-12-28T14:00:00\",\"2020-12-29T14:00:00\",\"2020-12-30T14:00:00\",\"2020-12-31T14:00:00\",\"2021-01-01T14:00:00\",\"2021-01-02T14:00:00\",\"2021-01-03T14:00:00\",\"2021-01-04T14:00:00\",\"2021-01-05T14:00:00\",\"2021-01-06T14:00:00\",\"2021-01-07T14:00:00\",\"2021-01-08T14:00:00\",\"2021-01-09T14:00:00\",\"2021-01-10T14:00:00\",\"2021-01-11T14:00:00\",\"2021-01-12T14:00:00\",\"2021-01-13T14:00:00\",\"2021-01-14T14:00:00\",\"2021-01-15T14:00:00\",\"2021-01-16T14:00:00\",\"2021-01-17T14:00:00\",\"2021-01-18T14:00:00\",\"2021-01-19T14:00:00\",\"2021-01-20T14:00:00\",\"2021-01-21T14:00:00\",\"2021-01-22T14:00:00\",\"2021-01-23T14:00:00\",\"2021-01-24T14:00:00\",\"2021-01-25T14:00:00\",\"2021-01-26T14:00:00\",\"2021-01-27T14:00:00\"],\"xaxis\":\"x\",\"y\":[10,10,10,8,8,8,7,7,5,6,6,4,5,5,6,8,8,5,4,5,5,4,3,4,3,3,3,3,3,2,1,1,1,1,1,1,1,1,1,2,1,1,1,1,1,1,1,1,1,1,1,1,1,1,1,1,1,2,2,6,6,6,5,5,5,6,5,6,5,5,5,5,5],\"yaxis\":\"y\"},{\"hovertemplate\":\"Skipper=louis burton<br>Date=%{x}<br>Rang=%{y}<extra></extra>\",\"legendgroup\":\"louis burton\",\"line\":{\"color\":\"#FF97FF\",\"dash\":\"solid\"},\"marker\":{\"symbol\":\"circle\"},\"mode\":\"lines\",\"name\":\"louis burton\",\"showlegend\":true,\"type\":\"scattergl\",\"x\":[\"2020-11-16T14:00:00\",\"2020-11-17T14:00:00\",\"2020-11-18T14:00:00\",\"2020-11-19T14:00:00\",\"2020-11-20T14:00:00\",\"2020-11-21T14:00:00\",\"2020-11-22T14:00:00\",\"2020-11-23T14:00:00\",\"2020-11-24T14:00:00\",\"2020-11-25T14:00:00\",\"2020-11-26T14:00:00\",\"2020-11-27T14:00:00\",\"2020-11-28T14:00:00\",\"2020-11-29T14:00:00\",\"2020-11-30T14:00:00\",\"2020-12-01T14:00:00\",\"2020-12-02T14:00:00\",\"2020-12-03T14:00:00\",\"2020-12-04T14:00:00\",\"2020-12-05T14:00:00\",\"2020-12-06T14:00:00\",\"2020-12-07T14:00:00\",\"2020-12-08T14:00:00\",\"2020-12-09T14:00:00\",\"2020-12-10T14:00:00\",\"2020-12-11T14:00:00\",\"2020-12-12T14:00:00\",\"2020-12-13T14:00:00\",\"2020-12-14T14:00:00\",\"2020-12-15T14:00:00\",\"2020-12-16T14:00:00\",\"2020-12-17T14:00:00\",\"2020-12-18T14:00:00\",\"2020-12-19T14:00:00\",\"2020-12-20T14:00:00\",\"2020-12-21T14:00:00\",\"2020-12-22T14:00:00\",\"2020-12-23T14:00:00\",\"2020-12-24T14:00:00\",\"2020-12-25T14:00:00\",\"2020-12-26T14:00:00\",\"2020-12-27T14:00:00\",\"2020-12-28T14:00:00\",\"2020-12-29T14:00:00\",\"2020-12-30T14:00:00\",\"2020-12-31T14:00:00\",\"2021-01-01T14:00:00\",\"2021-01-02T14:00:00\",\"2021-01-03T14:00:00\",\"2021-01-04T14:00:00\",\"2021-01-05T14:00:00\",\"2021-01-06T14:00:00\",\"2021-01-07T14:00:00\",\"2021-01-08T14:00:00\",\"2021-01-09T14:00:00\",\"2021-01-10T14:00:00\",\"2021-01-11T14:00:00\",\"2021-01-12T14:00:00\",\"2021-01-13T14:00:00\",\"2021-01-14T14:00:00\",\"2021-01-15T14:00:00\",\"2021-01-16T14:00:00\",\"2021-01-17T14:00:00\",\"2021-01-18T14:00:00\",\"2021-01-19T14:00:00\",\"2021-01-20T14:00:00\",\"2021-01-21T14:00:00\",\"2021-01-22T14:00:00\",\"2021-01-23T14:00:00\",\"2021-01-24T14:00:00\",\"2021-01-25T14:00:00\",\"2021-01-26T14:00:00\",\"2021-01-27T14:00:00\"],\"xaxis\":\"x\",\"y\":[7,6,6,6,5,6,9,8,9,10,9,8,6,6,5,3,2,2,2,3,2,3,4,3,4,6,6,7,7,5,8,8,7,8,10,11,11,11,11,11,11,11,11,11,11,10,11,9,8,6,6,5,5,5,5,5,5,5,3,2,2,2,2,2,4,4,4,2,2,1,2,3,2],\"yaxis\":\"y\"},{\"hovertemplate\":\"Skipper=isabelle joschke<br>Date=%{x}<br>Rang=%{y}<extra></extra>\",\"legendgroup\":\"isabelle joschke\",\"line\":{\"color\":\"#FECB52\",\"dash\":\"solid\"},\"marker\":{\"symbol\":\"circle\"},\"mode\":\"lines\",\"name\":\"isabelle joschke\",\"showlegend\":true,\"type\":\"scattergl\",\"x\":[\"2020-11-16T14:00:00\",\"2020-11-17T14:00:00\",\"2020-11-18T14:00:00\",\"2020-11-19T14:00:00\",\"2020-11-20T14:00:00\",\"2020-11-21T14:00:00\",\"2020-11-22T14:00:00\",\"2020-11-23T14:00:00\",\"2020-11-24T14:00:00\",\"2020-11-25T14:00:00\",\"2020-11-26T14:00:00\",\"2020-11-27T14:00:00\",\"2020-11-28T14:00:00\",\"2020-11-29T14:00:00\",\"2020-11-30T14:00:00\",\"2020-12-01T14:00:00\",\"2020-12-02T14:00:00\",\"2020-12-03T14:00:00\",\"2020-12-04T14:00:00\",\"2020-12-05T14:00:00\",\"2020-12-06T14:00:00\",\"2020-12-07T14:00:00\",\"2020-12-08T14:00:00\",\"2020-12-09T14:00:00\",\"2020-12-10T14:00:00\",\"2020-12-11T14:00:00\",\"2020-12-12T14:00:00\",\"2020-12-13T14:00:00\",\"2020-12-14T14:00:00\",\"2020-12-15T14:00:00\",\"2020-12-16T14:00:00\",\"2020-12-17T14:00:00\",\"2020-12-18T14:00:00\",\"2020-12-19T14:00:00\",\"2020-12-20T14:00:00\",\"2020-12-21T14:00:00\",\"2020-12-22T14:00:00\",\"2020-12-23T14:00:00\",\"2020-12-24T14:00:00\",\"2020-12-25T14:00:00\",\"2020-12-26T14:00:00\",\"2020-12-27T14:00:00\",\"2020-12-28T14:00:00\",\"2020-12-29T14:00:00\",\"2020-12-30T14:00:00\",\"2020-12-31T14:00:00\",\"2021-01-01T14:00:00\",\"2021-01-02T14:00:00\",\"2021-01-03T14:00:00\",\"2021-01-04T14:00:00\",\"2021-01-05T14:00:00\",\"2021-01-06T14:00:00\",\"2021-01-07T14:00:00\",\"2021-01-08T14:00:00\",\"2021-01-09T14:00:00\"],\"xaxis\":\"x\",\"y\":[17,16,16,15,15,15,15,15,14,15,15,15,14,13,13,12,12,9,9,9,10,9,9,9,9,9,9,9,9,9,9,9,9,9,8,8,8,8,8,6,6,7,6,8,8,8,8,8,9,11,11,9,11,11,11],\"yaxis\":\"y\"},{\"hovertemplate\":\"Skipper=clarisse cremer<br>Date=%{x}<br>Rang=%{y}<extra></extra>\",\"legendgroup\":\"clarisse cremer\",\"line\":{\"color\":\"#636efa\",\"dash\":\"solid\"},\"marker\":{\"symbol\":\"circle\"},\"mode\":\"lines\",\"name\":\"clarisse cremer\",\"showlegend\":true,\"type\":\"scattergl\",\"x\":[\"2020-11-16T14:00:00\",\"2020-11-17T14:00:00\",\"2020-11-18T14:00:00\",\"2020-11-19T14:00:00\",\"2020-11-20T14:00:00\",\"2020-11-21T14:00:00\",\"2020-11-22T14:00:00\",\"2020-11-23T14:00:00\",\"2020-11-24T14:00:00\",\"2020-11-25T14:00:00\",\"2020-11-26T14:00:00\",\"2020-11-27T14:00:00\",\"2020-11-28T14:00:00\",\"2020-11-29T14:00:00\",\"2020-11-30T14:00:00\",\"2020-12-01T14:00:00\",\"2020-12-02T14:00:00\",\"2020-12-03T14:00:00\",\"2020-12-04T14:00:00\",\"2020-12-05T14:00:00\",\"2020-12-06T14:00:00\",\"2020-12-07T14:00:00\",\"2020-12-08T14:00:00\",\"2020-12-09T14:00:00\",\"2020-12-10T14:00:00\",\"2020-12-11T14:00:00\",\"2020-12-12T14:00:00\",\"2020-12-13T14:00:00\",\"2020-12-14T14:00:00\",\"2020-12-15T14:00:00\",\"2020-12-16T14:00:00\",\"2020-12-17T14:00:00\",\"2020-12-18T14:00:00\",\"2020-12-19T14:00:00\",\"2020-12-20T14:00:00\",\"2020-12-21T14:00:00\",\"2020-12-22T14:00:00\",\"2020-12-23T14:00:00\",\"2020-12-24T14:00:00\",\"2020-12-25T14:00:00\",\"2020-12-26T14:00:00\",\"2020-12-27T14:00:00\",\"2020-12-28T14:00:00\",\"2020-12-29T14:00:00\",\"2020-12-30T14:00:00\",\"2020-12-31T14:00:00\",\"2021-01-01T14:00:00\",\"2021-01-02T14:00:00\",\"2021-01-03T14:00:00\",\"2021-01-04T14:00:00\",\"2021-01-05T14:00:00\",\"2021-01-06T14:00:00\",\"2021-01-07T14:00:00\",\"2021-01-08T14:00:00\",\"2021-01-09T14:00:00\",\"2021-01-10T14:00:00\",\"2021-01-11T14:00:00\",\"2021-01-12T14:00:00\",\"2021-01-13T14:00:00\",\"2021-01-14T14:00:00\",\"2021-01-15T14:00:00\",\"2021-01-16T14:00:00\",\"2021-01-17T14:00:00\",\"2021-01-18T14:00:00\",\"2021-01-19T14:00:00\",\"2021-01-20T14:00:00\",\"2021-01-21T14:00:00\",\"2021-01-22T14:00:00\",\"2021-01-23T14:00:00\",\"2021-01-24T14:00:00\",\"2021-01-25T14:00:00\",\"2021-01-26T14:00:00\",\"2021-01-27T14:00:00\"],\"xaxis\":\"x\",\"y\":[18,18,18,17,17,16,16,16,16,16,17,17,17,17,17,16,15,15,13,13,13,13,13,13,13,13,13,13,12,12,12,12,12,12,12,12,12,12,12,12,12,12,12,12,12,12,12,12,12,12,12,12,12,12,12,12,12,12,12,12,12,12,12,12,12,12,12,12,12,12,12,12,12],\"yaxis\":\"y\"},{\"hovertemplate\":\"Skipper=sebastien simon<br>Date=%{x}<br>Rang=%{y}<extra></extra>\",\"legendgroup\":\"sebastien simon\",\"line\":{\"color\":\"#EF553B\",\"dash\":\"solid\"},\"marker\":{\"symbol\":\"circle\"},\"mode\":\"lines\",\"name\":\"sebastien simon\",\"showlegend\":true,\"type\":\"scattergl\",\"x\":[\"2020-11-16T14:00:00\",\"2020-11-17T14:00:00\",\"2020-11-18T14:00:00\",\"2020-11-19T14:00:00\",\"2020-11-20T14:00:00\",\"2020-11-21T14:00:00\",\"2020-11-22T14:00:00\",\"2020-11-23T14:00:00\",\"2020-11-24T14:00:00\",\"2020-11-25T14:00:00\",\"2020-11-26T14:00:00\",\"2020-11-27T14:00:00\",\"2020-11-28T14:00:00\",\"2020-11-29T14:00:00\",\"2020-11-30T14:00:00\",\"2020-12-01T14:00:00\",\"2020-12-02T14:00:00\",\"2020-12-03T14:00:00\",\"2020-12-04T14:00:00\"],\"xaxis\":\"x\",\"y\":[13,12,11,11,10,9,8,9,7,7,7,7,7,7,7,4,4,12,14],\"yaxis\":\"y\"},{\"hovertemplate\":\"Skipper=romain attanasio<br>Date=%{x}<br>Rang=%{y}<extra></extra>\",\"legendgroup\":\"romain attanasio\",\"line\":{\"color\":\"#00cc96\",\"dash\":\"solid\"},\"marker\":{\"symbol\":\"circle\"},\"mode\":\"lines\",\"name\":\"romain attanasio\",\"showlegend\":true,\"type\":\"scattergl\",\"x\":[\"2020-11-16T14:00:00\",\"2020-11-17T14:00:00\",\"2020-11-18T14:00:00\",\"2020-11-19T14:00:00\",\"2020-11-20T14:00:00\",\"2020-11-21T14:00:00\",\"2020-11-22T14:00:00\",\"2020-11-23T14:00:00\",\"2020-11-24T14:00:00\",\"2020-11-25T14:00:00\",\"2020-11-26T14:00:00\",\"2020-11-27T14:00:00\",\"2020-11-28T14:00:00\",\"2020-11-29T14:00:00\",\"2020-11-30T14:00:00\",\"2020-12-01T14:00:00\",\"2020-12-02T14:00:00\",\"2020-12-03T14:00:00\",\"2020-12-04T14:00:00\",\"2020-12-05T14:00:00\",\"2020-12-06T14:00:00\",\"2020-12-07T14:00:00\",\"2020-12-08T14:00:00\",\"2020-12-09T14:00:00\",\"2020-12-10T14:00:00\",\"2020-12-11T14:00:00\",\"2020-12-12T14:00:00\",\"2020-12-13T14:00:00\",\"2020-12-14T14:00:00\",\"2020-12-15T14:00:00\",\"2020-12-16T14:00:00\",\"2020-12-17T14:00:00\",\"2020-12-18T14:00:00\",\"2020-12-19T14:00:00\",\"2020-12-20T14:00:00\",\"2020-12-21T14:00:00\",\"2020-12-22T14:00:00\",\"2020-12-23T14:00:00\",\"2020-12-24T14:00:00\",\"2020-12-25T14:00:00\",\"2020-12-26T14:00:00\",\"2020-12-27T14:00:00\",\"2020-12-28T14:00:00\",\"2020-12-29T14:00:00\",\"2020-12-30T14:00:00\",\"2020-12-31T14:00:00\",\"2021-01-01T14:00:00\",\"2021-01-02T14:00:00\",\"2021-01-03T14:00:00\",\"2021-01-04T14:00:00\",\"2021-01-05T14:00:00\",\"2021-01-06T14:00:00\",\"2021-01-07T14:00:00\",\"2021-01-08T14:00:00\",\"2021-01-09T14:00:00\",\"2021-01-10T14:00:00\",\"2021-01-11T14:00:00\",\"2021-01-12T14:00:00\",\"2021-01-13T14:00:00\",\"2021-01-14T14:00:00\",\"2021-01-15T14:00:00\",\"2021-01-16T14:00:00\",\"2021-01-17T14:00:00\",\"2021-01-18T14:00:00\",\"2021-01-19T14:00:00\",\"2021-01-20T14:00:00\",\"2021-01-21T14:00:00\",\"2021-01-22T14:00:00\",\"2021-01-23T14:00:00\",\"2021-01-24T14:00:00\",\"2021-01-25T14:00:00\",\"2021-01-26T14:00:00\",\"2021-01-27T14:00:00\"],\"xaxis\":\"x\",\"y\":[14,13,15,16,16,17,17,17,17,17,16,16,16,16,16,15,14,14,12,12,12,12,12,12,12,12,12,12,13,13,13,13,13,13,13,13,13,13,13,13,13,14,14,14,14,14,14,14,14,14,14,14,14,14,14,13,13,13,13,13,13,13,13,13,13,13,13,13,13,13,13,13,13],\"yaxis\":\"y\"},{\"hovertemplate\":\"Skipper=miranda merron<br>Date=%{x}<br>Rang=%{y}<extra></extra>\",\"legendgroup\":\"miranda merron\",\"line\":{\"color\":\"#ab63fa\",\"dash\":\"solid\"},\"marker\":{\"symbol\":\"circle\"},\"mode\":\"lines\",\"name\":\"miranda merron\",\"showlegend\":true,\"type\":\"scattergl\",\"x\":[\"2020-11-16T14:00:00\",\"2020-11-17T14:00:00\",\"2020-11-18T14:00:00\",\"2020-11-19T14:00:00\",\"2020-11-20T14:00:00\",\"2020-11-21T14:00:00\",\"2020-11-22T14:00:00\",\"2020-11-23T14:00:00\",\"2020-11-24T14:00:00\",\"2020-11-25T14:00:00\",\"2020-11-26T14:00:00\",\"2020-11-27T14:00:00\",\"2020-11-28T14:00:00\",\"2020-11-29T14:00:00\",\"2020-11-30T14:00:00\",\"2020-12-01T14:00:00\",\"2020-12-02T14:00:00\",\"2020-12-03T14:00:00\",\"2020-12-04T14:00:00\",\"2020-12-05T14:00:00\",\"2020-12-06T14:00:00\",\"2020-12-07T14:00:00\",\"2020-12-08T14:00:00\",\"2020-12-09T14:00:00\",\"2020-12-10T14:00:00\",\"2020-12-11T14:00:00\",\"2020-12-12T14:00:00\",\"2020-12-13T14:00:00\",\"2020-12-14T14:00:00\",\"2020-12-15T14:00:00\",\"2020-12-16T14:00:00\",\"2020-12-17T14:00:00\",\"2020-12-18T14:00:00\",\"2020-12-19T14:00:00\",\"2020-12-20T14:00:00\",\"2020-12-21T14:00:00\",\"2020-12-22T14:00:00\",\"2020-12-23T14:00:00\",\"2020-12-24T14:00:00\",\"2020-12-25T14:00:00\",\"2020-12-26T14:00:00\",\"2020-12-27T14:00:00\",\"2020-12-28T14:00:00\",\"2020-12-29T14:00:00\",\"2020-12-30T14:00:00\",\"2020-12-31T14:00:00\",\"2021-01-01T14:00:00\",\"2021-01-02T14:00:00\",\"2021-01-03T14:00:00\",\"2021-01-04T14:00:00\",\"2021-01-05T14:00:00\",\"2021-01-06T14:00:00\",\"2021-01-07T14:00:00\",\"2021-01-08T14:00:00\",\"2021-01-09T14:00:00\",\"2021-01-10T14:00:00\",\"2021-01-11T14:00:00\",\"2021-01-12T14:00:00\",\"2021-01-13T14:00:00\",\"2021-01-14T14:00:00\",\"2021-01-15T14:00:00\",\"2021-01-16T14:00:00\",\"2021-01-17T14:00:00\",\"2021-01-18T14:00:00\",\"2021-01-19T14:00:00\",\"2021-01-20T14:00:00\",\"2021-01-21T14:00:00\",\"2021-01-22T14:00:00\",\"2021-01-23T14:00:00\",\"2021-01-24T14:00:00\",\"2021-01-25T14:00:00\",\"2021-01-26T14:00:00\",\"2021-01-27T14:00:00\"],\"xaxis\":\"x\",\"y\":[27,27,28,27,25,26,27,26,27,26,27,27,28,28,28,27,27,27,24,23,23,22,22,23,23,22,21,23,24,24,23,23,23,23,23,23,23,23,23,23,23,23,23,23,23,23,23,23,23,23,23,23,23,23,23,22,22,22,22,22,22,22,22,22,22,22,22,22,22,23,22,23,22],\"yaxis\":\"y\"},{\"hovertemplate\":\"Skipper=maxime sorel<br>Date=%{x}<br>Rang=%{y}<extra></extra>\",\"legendgroup\":\"maxime sorel\",\"line\":{\"color\":\"#FFA15A\",\"dash\":\"solid\"},\"marker\":{\"symbol\":\"circle\"},\"mode\":\"lines\",\"name\":\"maxime sorel\",\"showlegend\":true,\"type\":\"scattergl\",\"x\":[\"2020-11-16T14:00:00\",\"2020-11-17T14:00:00\",\"2020-11-18T14:00:00\",\"2020-11-19T14:00:00\",\"2020-11-20T14:00:00\",\"2020-11-21T14:00:00\",\"2020-11-22T14:00:00\",\"2020-11-23T14:00:00\",\"2020-11-24T14:00:00\",\"2020-11-25T14:00:00\",\"2020-11-26T14:00:00\",\"2020-11-27T14:00:00\",\"2020-11-28T14:00:00\",\"2020-11-29T14:00:00\",\"2020-11-30T14:00:00\",\"2020-12-01T14:00:00\",\"2020-12-02T14:00:00\",\"2020-12-03T14:00:00\",\"2020-12-04T14:00:00\",\"2020-12-05T14:00:00\",\"2020-12-06T14:00:00\",\"2020-12-07T14:00:00\",\"2020-12-08T14:00:00\",\"2020-12-09T14:00:00\",\"2020-12-10T14:00:00\",\"2020-12-11T14:00:00\",\"2020-12-12T14:00:00\",\"2020-12-13T14:00:00\",\"2020-12-14T14:00:00\",\"2020-12-15T14:00:00\",\"2020-12-16T14:00:00\",\"2020-12-17T14:00:00\",\"2020-12-18T14:00:00\",\"2020-12-19T14:00:00\",\"2020-12-20T14:00:00\",\"2020-12-21T14:00:00\",\"2020-12-22T14:00:00\",\"2020-12-23T14:00:00\",\"2020-12-24T14:00:00\",\"2020-12-25T14:00:00\",\"2020-12-26T14:00:00\",\"2020-12-27T14:00:00\",\"2020-12-28T14:00:00\",\"2020-12-29T14:00:00\",\"2020-12-30T14:00:00\",\"2020-12-31T14:00:00\",\"2021-01-01T14:00:00\",\"2021-01-02T14:00:00\",\"2021-01-03T14:00:00\",\"2021-01-04T14:00:00\",\"2021-01-05T14:00:00\",\"2021-01-06T14:00:00\",\"2021-01-07T14:00:00\",\"2021-01-08T14:00:00\",\"2021-01-09T14:00:00\",\"2021-01-10T14:00:00\",\"2021-01-11T14:00:00\",\"2021-01-12T14:00:00\",\"2021-01-13T14:00:00\",\"2021-01-14T14:00:00\",\"2021-01-15T14:00:00\",\"2021-01-16T14:00:00\",\"2021-01-17T14:00:00\",\"2021-01-18T14:00:00\",\"2021-01-19T14:00:00\",\"2021-01-20T14:00:00\",\"2021-01-21T14:00:00\",\"2021-01-22T14:00:00\",\"2021-01-23T14:00:00\",\"2021-01-24T14:00:00\",\"2021-01-25T14:00:00\",\"2021-01-26T14:00:00\",\"2021-01-27T14:00:00\"],\"xaxis\":\"x\",\"y\":[15,14,14,14,14,14,14,14,15,14,14,14,13,14,14,13,13,11,11,11,11,11,11,11,11,11,11,11,11,11,11,11,11,11,11,10,10,10,10,10,7,8,8,9,9,9,9,10,10,9,8,10,10,10,10,10,10,10,10,10,10,10,10,10,10,10,10,10,10,10,10,10,10],\"yaxis\":\"y\"},{\"hovertemplate\":\"Skipper=fabrice amedeo<br>Date=%{x}<br>Rang=%{y}<extra></extra>\",\"legendgroup\":\"fabrice amedeo\",\"line\":{\"color\":\"#19d3f3\",\"dash\":\"solid\"},\"marker\":{\"symbol\":\"circle\"},\"mode\":\"lines\",\"name\":\"fabrice amedeo\",\"showlegend\":true,\"type\":\"scattergl\",\"x\":[\"2020-11-16T14:00:00\",\"2020-11-17T14:00:00\",\"2020-11-18T14:00:00\",\"2020-11-19T14:00:00\",\"2020-11-20T14:00:00\",\"2020-11-21T14:00:00\",\"2020-11-22T14:00:00\",\"2020-11-23T14:00:00\",\"2020-11-24T14:00:00\",\"2020-11-25T14:00:00\",\"2020-11-26T14:00:00\",\"2020-11-27T14:00:00\",\"2020-11-28T14:00:00\",\"2020-11-29T14:00:00\",\"2020-11-30T14:00:00\",\"2020-12-01T14:00:00\",\"2020-12-02T14:00:00\",\"2020-12-03T14:00:00\",\"2020-12-04T14:00:00\",\"2020-12-05T14:00:00\",\"2020-12-06T14:00:00\",\"2020-12-07T14:00:00\",\"2020-12-08T14:00:00\",\"2020-12-09T14:00:00\",\"2020-12-10T14:00:00\",\"2020-12-11T14:00:00\"],\"xaxis\":\"x\",\"y\":[32,31,31,31,31,30,29,30,25,27,25,25,25,25,25,24,24,24,23,21,21,21,21,21,21,26],\"yaxis\":\"y\"},{\"hovertemplate\":\"Skipper=thomas ruyant<br>Date=%{x}<br>Rang=%{y}<extra></extra>\",\"legendgroup\":\"thomas ruyant\",\"line\":{\"color\":\"#FF6692\",\"dash\":\"solid\"},\"marker\":{\"symbol\":\"circle\"},\"mode\":\"lines\",\"name\":\"thomas ruyant\",\"showlegend\":true,\"type\":\"scattergl\",\"x\":[\"2020-11-16T14:00:00\",\"2020-11-17T14:00:00\",\"2020-11-18T14:00:00\",\"2020-11-19T14:00:00\",\"2020-11-20T14:00:00\",\"2020-11-21T14:00:00\",\"2020-11-22T14:00:00\",\"2020-11-23T14:00:00\",\"2020-11-24T14:00:00\",\"2020-11-25T14:00:00\",\"2020-11-26T14:00:00\",\"2020-11-27T14:00:00\",\"2020-11-28T14:00:00\",\"2020-11-29T14:00:00\",\"2020-11-30T14:00:00\",\"2020-12-01T14:00:00\",\"2020-12-02T14:00:00\",\"2020-12-03T14:00:00\",\"2020-12-04T14:00:00\",\"2020-12-05T14:00:00\",\"2020-12-06T14:00:00\",\"2020-12-07T14:00:00\",\"2020-12-08T14:00:00\",\"2020-12-09T14:00:00\",\"2020-12-10T14:00:00\",\"2020-12-11T14:00:00\",\"2020-12-12T14:00:00\",\"2020-12-13T14:00:00\",\"2020-12-14T14:00:00\",\"2020-12-15T14:00:00\",\"2020-12-16T14:00:00\",\"2020-12-17T14:00:00\",\"2020-12-18T14:00:00\",\"2020-12-19T14:00:00\",\"2020-12-20T14:00:00\",\"2020-12-21T14:00:00\",\"2020-12-22T14:00:00\",\"2020-12-23T14:00:00\",\"2020-12-24T14:00:00\",\"2020-12-25T14:00:00\",\"2020-12-26T14:00:00\",\"2020-12-27T14:00:00\",\"2020-12-28T14:00:00\",\"2020-12-29T14:00:00\",\"2020-12-30T14:00:00\",\"2020-12-31T14:00:00\",\"2021-01-01T14:00:00\",\"2021-01-02T14:00:00\",\"2021-01-03T14:00:00\",\"2021-01-04T14:00:00\",\"2021-01-05T14:00:00\",\"2021-01-06T14:00:00\",\"2021-01-07T14:00:00\",\"2021-01-08T14:00:00\",\"2021-01-09T14:00:00\",\"2021-01-10T14:00:00\",\"2021-01-11T14:00:00\",\"2021-01-12T14:00:00\",\"2021-01-13T14:00:00\",\"2021-01-14T14:00:00\",\"2021-01-15T14:00:00\",\"2021-01-16T14:00:00\",\"2021-01-17T14:00:00\",\"2021-01-18T14:00:00\",\"2021-01-19T14:00:00\",\"2021-01-20T14:00:00\",\"2021-01-21T14:00:00\",\"2021-01-22T14:00:00\",\"2021-01-23T14:00:00\",\"2021-01-24T14:00:00\",\"2021-01-25T14:00:00\",\"2021-01-26T14:00:00\",\"2021-01-27T14:00:00\"],\"xaxis\":\"x\",\"y\":[3,2,2,2,2,1,1,2,2,2,2,2,2,2,2,2,3,3,3,2,3,2,2,2,2,2,2,2,2,1,2,2,3,3,3,3,3,3,3,7,9,3,3,4,3,4,3,3,4,3,3,4,2,3,3,4,3,4,4,3,4,4,3,4,3,2,3,4,4,4,4,4,4],\"yaxis\":\"y\"},{\"hovertemplate\":\"Skipper=nicolas troussel<br>Date=%{x}<br>Rang=%{y}<extra></extra>\",\"legendgroup\":\"nicolas troussel\",\"line\":{\"color\":\"#B6E880\",\"dash\":\"solid\"},\"marker\":{\"symbol\":\"circle\"},\"mode\":\"lines\",\"name\":\"nicolas troussel\",\"showlegend\":true,\"type\":\"scattergl\",\"x\":[\"2020-11-16T14:00:00\"],\"xaxis\":\"x\",\"y\":[12],\"yaxis\":\"y\"},{\"hovertemplate\":\"Skipper=manuel cousin<br>Date=%{x}<br>Rang=%{y}<extra></extra>\",\"legendgroup\":\"manuel cousin\",\"line\":{\"color\":\"#FF97FF\",\"dash\":\"solid\"},\"marker\":{\"symbol\":\"circle\"},\"mode\":\"lines\",\"name\":\"manuel cousin\",\"showlegend\":true,\"type\":\"scattergl\",\"x\":[\"2020-11-16T14:00:00\",\"2020-11-17T14:00:00\",\"2020-11-18T14:00:00\",\"2020-11-19T14:00:00\",\"2020-11-20T14:00:00\",\"2020-11-21T14:00:00\",\"2020-11-22T14:00:00\",\"2020-11-23T14:00:00\",\"2020-11-24T14:00:00\",\"2020-11-25T14:00:00\",\"2020-11-26T14:00:00\",\"2020-11-27T14:00:00\",\"2020-11-28T14:00:00\",\"2020-11-29T14:00:00\",\"2020-11-30T14:00:00\",\"2020-12-01T14:00:00\",\"2020-12-02T14:00:00\",\"2020-12-03T14:00:00\",\"2020-12-04T14:00:00\",\"2020-12-05T14:00:00\",\"2020-12-06T14:00:00\",\"2020-12-07T14:00:00\",\"2020-12-08T14:00:00\",\"2020-12-09T14:00:00\",\"2020-12-10T14:00:00\",\"2020-12-11T14:00:00\",\"2020-12-12T14:00:00\",\"2020-12-13T14:00:00\",\"2020-12-14T14:00:00\",\"2020-12-15T14:00:00\",\"2020-12-16T14:00:00\",\"2020-12-17T14:00:00\",\"2020-12-18T14:00:00\",\"2020-12-19T14:00:00\",\"2020-12-20T14:00:00\",\"2020-12-21T14:00:00\",\"2020-12-22T14:00:00\",\"2020-12-23T14:00:00\",\"2020-12-24T14:00:00\",\"2020-12-25T14:00:00\",\"2020-12-26T14:00:00\",\"2020-12-27T14:00:00\",\"2020-12-28T14:00:00\",\"2020-12-29T14:00:00\",\"2020-12-30T14:00:00\",\"2020-12-31T14:00:00\",\"2021-01-01T14:00:00\",\"2021-01-02T14:00:00\",\"2021-01-03T14:00:00\",\"2021-01-04T14:00:00\",\"2021-01-05T14:00:00\",\"2021-01-06T14:00:00\",\"2021-01-07T14:00:00\",\"2021-01-08T14:00:00\",\"2021-01-09T14:00:00\",\"2021-01-10T14:00:00\",\"2021-01-11T14:00:00\",\"2021-01-12T14:00:00\",\"2021-01-13T14:00:00\",\"2021-01-14T14:00:00\",\"2021-01-15T14:00:00\",\"2021-01-16T14:00:00\",\"2021-01-17T14:00:00\",\"2021-01-18T14:00:00\",\"2021-01-19T14:00:00\",\"2021-01-20T14:00:00\",\"2021-01-21T14:00:00\",\"2021-01-22T14:00:00\",\"2021-01-23T14:00:00\",\"2021-01-24T14:00:00\",\"2021-01-25T14:00:00\",\"2021-01-26T14:00:00\",\"2021-01-27T14:00:00\"],\"xaxis\":\"x\",\"y\":[24,22,23,23,23,23,23,23,23,22,21,21,21,21,22,21,21,21,20,18,18,18,18,18,18,20,20,20,20,20,20,20,20,20,20,20,20,20,21,22,22,22,22,22,22,22,22,22,22,22,22,22,22,22,22,21,21,21,21,21,21,21,21,21,21,21,21,21,21,21,21,21,21],\"yaxis\":\"y\"},{\"hovertemplate\":\"Skipper=alexia barrier<br>Date=%{x}<br>Rang=%{y}<extra></extra>\",\"legendgroup\":\"alexia barrier\",\"line\":{\"color\":\"#FECB52\",\"dash\":\"solid\"},\"marker\":{\"symbol\":\"circle\"},\"mode\":\"lines\",\"name\":\"alexia barrier\",\"showlegend\":true,\"type\":\"scattergl\",\"x\":[\"2020-11-16T14:00:00\",\"2020-11-17T14:00:00\",\"2020-11-18T14:00:00\",\"2020-11-19T14:00:00\",\"2020-11-20T14:00:00\",\"2020-11-21T14:00:00\",\"2020-11-22T14:00:00\",\"2020-11-23T14:00:00\",\"2020-11-24T14:00:00\",\"2020-11-25T14:00:00\",\"2020-11-26T14:00:00\",\"2020-11-27T14:00:00\",\"2020-11-28T14:00:00\",\"2020-11-29T14:00:00\",\"2020-11-30T14:00:00\",\"2020-12-01T14:00:00\",\"2020-12-02T14:00:00\",\"2020-12-03T14:00:00\",\"2020-12-04T14:00:00\",\"2020-12-05T14:00:00\",\"2020-12-06T14:00:00\",\"2020-12-07T14:00:00\",\"2020-12-08T14:00:00\",\"2020-12-09T14:00:00\",\"2020-12-10T14:00:00\",\"2020-12-11T14:00:00\",\"2020-12-12T14:00:00\",\"2020-12-13T14:00:00\",\"2020-12-14T14:00:00\",\"2020-12-15T14:00:00\",\"2020-12-16T14:00:00\",\"2020-12-17T14:00:00\",\"2020-12-18T14:00:00\",\"2020-12-19T14:00:00\",\"2020-12-20T14:00:00\",\"2020-12-21T14:00:00\",\"2020-12-22T14:00:00\",\"2020-12-23T14:00:00\",\"2020-12-24T14:00:00\",\"2020-12-25T14:00:00\",\"2020-12-26T14:00:00\",\"2020-12-27T14:00:00\",\"2020-12-28T14:00:00\",\"2020-12-29T14:00:00\",\"2020-12-30T14:00:00\",\"2020-12-31T14:00:00\",\"2021-01-01T14:00:00\",\"2021-01-02T14:00:00\",\"2021-01-03T14:00:00\",\"2021-01-04T14:00:00\",\"2021-01-05T14:00:00\",\"2021-01-06T14:00:00\",\"2021-01-07T14:00:00\",\"2021-01-08T14:00:00\",\"2021-01-09T14:00:00\",\"2021-01-10T14:00:00\",\"2021-01-11T14:00:00\",\"2021-01-12T14:00:00\",\"2021-01-13T14:00:00\",\"2021-01-14T14:00:00\",\"2021-01-15T14:00:00\",\"2021-01-16T14:00:00\",\"2021-01-17T14:00:00\",\"2021-01-18T14:00:00\",\"2021-01-19T14:00:00\",\"2021-01-20T14:00:00\",\"2021-01-21T14:00:00\",\"2021-01-22T14:00:00\",\"2021-01-23T14:00:00\",\"2021-01-24T14:00:00\",\"2021-01-25T14:00:00\",\"2021-01-26T14:00:00\",\"2021-01-27T14:00:00\"],\"xaxis\":\"x\",\"y\":[29,28,27,28,27,25,25,25,26,25,26,26,26,27,27,26,26,25,25,22,22,23,23,22,22,21,22,22,23,23,24,25,24,25,25,25,25,25,25,25,25,25,25,25,25,25,25,25,25,25,25,25,25,25,25,24,24,24,24,24,24,24,24,24,24,24,24,24,24,24,24,24,24],\"yaxis\":\"y\"},{\"hovertemplate\":\"Skipper=charlie dalin<br>Date=%{x}<br>Rang=%{y}<extra></extra>\",\"legendgroup\":\"charlie dalin\",\"line\":{\"color\":\"#636efa\",\"dash\":\"solid\"},\"marker\":{\"symbol\":\"circle\"},\"mode\":\"lines\",\"name\":\"charlie dalin\",\"showlegend\":true,\"type\":\"scattergl\",\"x\":[\"2020-11-16T14:00:00\",\"2020-11-17T14:00:00\",\"2020-11-18T14:00:00\",\"2020-11-19T14:00:00\",\"2020-11-20T14:00:00\",\"2020-11-21T14:00:00\",\"2020-11-22T14:00:00\",\"2020-11-23T14:00:00\",\"2020-11-24T14:00:00\",\"2020-11-25T14:00:00\",\"2020-11-26T14:00:00\",\"2020-11-27T14:00:00\",\"2020-11-28T14:00:00\",\"2020-11-29T14:00:00\",\"2020-11-30T14:00:00\",\"2020-12-01T14:00:00\",\"2020-12-02T14:00:00\",\"2020-12-03T14:00:00\",\"2020-12-04T14:00:00\",\"2020-12-05T14:00:00\",\"2020-12-06T14:00:00\",\"2020-12-07T14:00:00\",\"2020-12-08T14:00:00\",\"2020-12-09T14:00:00\",\"2020-12-10T14:00:00\",\"2020-12-11T14:00:00\",\"2020-12-12T14:00:00\",\"2020-12-13T14:00:00\",\"2020-12-14T14:00:00\",\"2020-12-15T14:00:00\",\"2020-12-16T14:00:00\",\"2020-12-17T14:00:00\",\"2020-12-18T14:00:00\",\"2020-12-19T14:00:00\",\"2020-12-20T14:00:00\",\"2020-12-21T14:00:00\",\"2020-12-22T14:00:00\",\"2020-12-23T14:00:00\",\"2020-12-24T14:00:00\",\"2020-12-25T14:00:00\",\"2020-12-26T14:00:00\",\"2020-12-27T14:00:00\",\"2020-12-28T14:00:00\",\"2020-12-29T14:00:00\",\"2020-12-30T14:00:00\",\"2020-12-31T14:00:00\",\"2021-01-01T14:00:00\",\"2021-01-02T14:00:00\",\"2021-01-03T14:00:00\",\"2021-01-04T14:00:00\",\"2021-01-05T14:00:00\",\"2021-01-06T14:00:00\",\"2021-01-07T14:00:00\",\"2021-01-08T14:00:00\",\"2021-01-09T14:00:00\",\"2021-01-10T14:00:00\",\"2021-01-11T14:00:00\",\"2021-01-12T14:00:00\",\"2021-01-13T14:00:00\",\"2021-01-14T14:00:00\",\"2021-01-15T14:00:00\",\"2021-01-16T14:00:00\",\"2021-01-17T14:00:00\",\"2021-01-18T14:00:00\",\"2021-01-19T14:00:00\",\"2021-01-20T14:00:00\",\"2021-01-21T14:00:00\",\"2021-01-22T14:00:00\",\"2021-01-23T14:00:00\",\"2021-01-24T14:00:00\",\"2021-01-25T14:00:00\",\"2021-01-26T14:00:00\",\"2021-01-27T14:00:00\"],\"xaxis\":\"x\",\"y\":[4,4,3,3,3,3,2,1,1,1,1,1,1,1,1,1,1,1,1,1,1,1,1,1,1,1,1,1,1,3,3,3,2,2,2,2,2,2,2,1,2,2,2,2,2,2,2,2,2,2,2,2,3,2,2,2,2,1,1,1,1,1,1,1,1,1,1,1,1,2,1,1,1],\"yaxis\":\"y\"},{\"hovertemplate\":\"Skipper=jeremie beyou<br>Date=%{x}<br>Rang=%{y}<extra></extra>\",\"legendgroup\":\"jeremie beyou\",\"line\":{\"color\":\"#EF553B\",\"dash\":\"solid\"},\"marker\":{\"symbol\":\"circle\"},\"mode\":\"lines\",\"name\":\"jeremie beyou\",\"showlegend\":true,\"type\":\"scattergl\",\"x\":[\"2020-11-16T14:00:00\",\"2020-11-17T14:00:00\",\"2020-11-18T14:00:00\",\"2020-11-19T14:00:00\",\"2020-11-20T14:00:00\",\"2020-11-21T14:00:00\",\"2020-11-22T14:00:00\",\"2020-11-23T14:00:00\",\"2020-11-24T14:00:00\",\"2020-11-25T14:00:00\",\"2020-11-26T14:00:00\",\"2020-11-27T14:00:00\",\"2020-11-28T14:00:00\",\"2020-11-29T14:00:00\",\"2020-11-30T14:00:00\",\"2020-12-01T14:00:00\",\"2020-12-02T14:00:00\",\"2020-12-03T14:00:00\",\"2020-12-04T14:00:00\",\"2020-12-05T14:00:00\",\"2020-12-06T14:00:00\",\"2020-12-07T14:00:00\",\"2020-12-08T14:00:00\",\"2020-12-09T14:00:00\",\"2020-12-10T14:00:00\",\"2020-12-11T14:00:00\",\"2020-12-12T14:00:00\",\"2020-12-13T14:00:00\",\"2020-12-14T14:00:00\",\"2020-12-15T14:00:00\",\"2020-12-16T14:00:00\",\"2020-12-17T14:00:00\",\"2020-12-18T14:00:00\",\"2020-12-19T14:00:00\",\"2020-12-20T14:00:00\",\"2020-12-21T14:00:00\",\"2020-12-22T14:00:00\",\"2020-12-23T14:00:00\",\"2020-12-24T14:00:00\",\"2020-12-25T14:00:00\",\"2020-12-26T14:00:00\",\"2020-12-27T14:00:00\",\"2020-12-28T14:00:00\",\"2020-12-29T14:00:00\",\"2020-12-30T14:00:00\",\"2020-12-31T14:00:00\",\"2021-01-01T14:00:00\",\"2021-01-02T14:00:00\",\"2021-01-03T14:00:00\",\"2021-01-04T14:00:00\",\"2021-01-05T14:00:00\",\"2021-01-06T14:00:00\",\"2021-01-07T14:00:00\",\"2021-01-08T14:00:00\",\"2021-01-09T14:00:00\",\"2021-01-10T14:00:00\",\"2021-01-11T14:00:00\",\"2021-01-12T14:00:00\",\"2021-01-13T14:00:00\",\"2021-01-14T14:00:00\",\"2021-01-15T14:00:00\",\"2021-01-16T14:00:00\",\"2021-01-17T14:00:00\",\"2021-01-18T14:00:00\",\"2021-01-19T14:00:00\",\"2021-01-20T14:00:00\",\"2021-01-21T14:00:00\",\"2021-01-22T14:00:00\",\"2021-01-23T14:00:00\",\"2021-01-24T14:00:00\",\"2021-01-25T14:00:00\",\"2021-01-26T14:00:00\",\"2021-01-27T14:00:00\"],\"xaxis\":\"x\",\"y\":[33,32,32,32,32,32,32,32,32,32,32,32,32,32,32,31,31,31,30,28,28,28,28,28,28,27,25,25,22,22,21,21,21,21,21,21,21,21,20,19,18,18,18,18,18,18,18,18,18,18,18,18,18,18,18,16,16,16,15,14,14,14,14,14,14,14,14,14,14,14,14,14,14],\"yaxis\":\"y\"},{\"hovertemplate\":\"Skipper=clement giraud<br>Date=%{x}<br>Rang=%{y}<extra></extra>\",\"legendgroup\":\"clement giraud\",\"line\":{\"color\":\"#00cc96\",\"dash\":\"solid\"},\"marker\":{\"symbol\":\"circle\"},\"mode\":\"lines\",\"name\":\"clement giraud\",\"showlegend\":true,\"type\":\"scattergl\",\"x\":[\"2020-11-16T14:00:00\",\"2020-11-17T14:00:00\",\"2020-11-18T14:00:00\",\"2020-11-19T14:00:00\",\"2020-11-20T14:00:00\",\"2020-11-21T14:00:00\",\"2020-11-22T14:00:00\",\"2020-11-23T14:00:00\",\"2020-11-24T14:00:00\",\"2020-11-25T14:00:00\",\"2020-11-26T14:00:00\",\"2020-11-27T14:00:00\",\"2020-11-28T14:00:00\",\"2020-11-29T14:00:00\",\"2020-11-30T14:00:00\",\"2020-12-01T14:00:00\",\"2020-12-02T14:00:00\",\"2020-12-03T14:00:00\",\"2020-12-04T14:00:00\",\"2020-12-05T14:00:00\",\"2020-12-06T14:00:00\",\"2020-12-07T14:00:00\",\"2020-12-08T14:00:00\",\"2020-12-09T14:00:00\",\"2020-12-10T14:00:00\",\"2020-12-11T14:00:00\",\"2020-12-12T14:00:00\",\"2020-12-13T14:00:00\",\"2020-12-14T14:00:00\",\"2020-12-15T14:00:00\",\"2020-12-16T14:00:00\",\"2020-12-17T14:00:00\",\"2020-12-18T14:00:00\",\"2020-12-19T14:00:00\",\"2020-12-20T14:00:00\",\"2020-12-21T14:00:00\",\"2020-12-22T14:00:00\",\"2020-12-23T14:00:00\",\"2020-12-24T14:00:00\",\"2020-12-25T14:00:00\",\"2020-12-26T14:00:00\",\"2020-12-27T14:00:00\",\"2020-12-28T14:00:00\",\"2020-12-29T14:00:00\",\"2020-12-30T14:00:00\",\"2020-12-31T14:00:00\",\"2021-01-01T14:00:00\",\"2021-01-02T14:00:00\",\"2021-01-03T14:00:00\",\"2021-01-04T14:00:00\",\"2021-01-05T14:00:00\",\"2021-01-06T14:00:00\",\"2021-01-07T14:00:00\",\"2021-01-08T14:00:00\",\"2021-01-09T14:00:00\",\"2021-01-10T14:00:00\",\"2021-01-11T14:00:00\",\"2021-01-12T14:00:00\",\"2021-01-13T14:00:00\",\"2021-01-14T14:00:00\",\"2021-01-15T14:00:00\",\"2021-01-16T14:00:00\",\"2021-01-17T14:00:00\",\"2021-01-18T14:00:00\",\"2021-01-19T14:00:00\",\"2021-01-20T14:00:00\",\"2021-01-21T14:00:00\",\"2021-01-22T14:00:00\",\"2021-01-23T14:00:00\",\"2021-01-24T14:00:00\",\"2021-01-25T14:00:00\",\"2021-01-26T14:00:00\",\"2021-01-27T14:00:00\"],\"xaxis\":\"x\",\"y\":[31,30,30,30,29,28,26,27,28,28,28,28,27,26,26,25,25,26,26,24,24,24,24,24,24,24,24,24,25,25,25,24,25,24,24,24,24,24,24,24,24,24,24,24,24,24,24,24,24,24,24,24,24,24,24,23,23,23,23,23,23,23,23,23,23,23,23,23,23,22,23,22,23],\"yaxis\":\"y\"},{\"hovertemplate\":\"Skipper=kevin escoffier<br>Date=%{x}<br>Rang=%{y}<extra></extra>\",\"legendgroup\":\"kevin escoffier\",\"line\":{\"color\":\"#ab63fa\",\"dash\":\"solid\"},\"marker\":{\"symbol\":\"circle\"},\"mode\":\"lines\",\"name\":\"kevin escoffier\",\"showlegend\":true,\"type\":\"scattergl\",\"x\":[\"2020-11-16T14:00:00\",\"2020-11-17T14:00:00\",\"2020-11-18T14:00:00\",\"2020-11-19T14:00:00\",\"2020-11-20T14:00:00\",\"2020-11-21T14:00:00\",\"2020-11-22T14:00:00\",\"2020-11-23T14:00:00\",\"2020-11-24T14:00:00\",\"2020-11-25T14:00:00\",\"2020-11-26T14:00:00\",\"2020-11-27T14:00:00\",\"2020-11-28T14:00:00\",\"2020-11-29T14:00:00\",\"2020-11-30T14:00:00\"],\"xaxis\":\"x\",\"y\":[5,5,5,5,6,5,5,4,4,4,4,5,4,4,3],\"yaxis\":\"y\"},{\"hovertemplate\":\"Skipper=stephane le diraison<br>Date=%{x}<br>Rang=%{y}<extra></extra>\",\"legendgroup\":\"stephane le diraison\",\"line\":{\"color\":\"#FFA15A\",\"dash\":\"solid\"},\"marker\":{\"symbol\":\"circle\"},\"mode\":\"lines\",\"name\":\"stephane le diraison\",\"showlegend\":true,\"type\":\"scattergl\",\"x\":[\"2020-11-16T14:00:00\",\"2020-11-17T14:00:00\",\"2020-11-18T14:00:00\",\"2020-11-19T14:00:00\",\"2020-11-20T14:00:00\",\"2020-11-21T14:00:00\",\"2020-11-22T14:00:00\",\"2020-11-23T14:00:00\",\"2020-11-24T14:00:00\",\"2020-11-25T14:00:00\",\"2020-11-26T14:00:00\",\"2020-11-27T14:00:00\",\"2020-11-28T14:00:00\",\"2020-11-29T14:00:00\",\"2020-11-30T14:00:00\",\"2020-12-01T14:00:00\",\"2020-12-02T14:00:00\",\"2020-12-03T14:00:00\",\"2020-12-04T14:00:00\",\"2020-12-05T14:00:00\",\"2020-12-06T14:00:00\",\"2020-12-07T14:00:00\",\"2020-12-08T14:00:00\",\"2020-12-09T14:00:00\",\"2020-12-10T14:00:00\",\"2020-12-11T14:00:00\",\"2020-12-12T14:00:00\",\"2020-12-13T14:00:00\",\"2020-12-14T14:00:00\",\"2020-12-15T14:00:00\",\"2020-12-16T14:00:00\",\"2020-12-17T14:00:00\",\"2020-12-18T14:00:00\",\"2020-12-19T14:00:00\",\"2020-12-20T14:00:00\",\"2020-12-21T14:00:00\",\"2020-12-22T14:00:00\",\"2020-12-23T14:00:00\",\"2020-12-24T14:00:00\",\"2020-12-25T14:00:00\",\"2020-12-26T14:00:00\",\"2020-12-27T14:00:00\",\"2020-12-28T14:00:00\",\"2020-12-29T14:00:00\",\"2020-12-30T14:00:00\",\"2020-12-31T14:00:00\",\"2021-01-01T14:00:00\",\"2021-01-02T14:00:00\",\"2021-01-03T14:00:00\",\"2021-01-04T14:00:00\",\"2021-01-05T14:00:00\",\"2021-01-06T14:00:00\",\"2021-01-07T14:00:00\",\"2021-01-08T14:00:00\",\"2021-01-09T14:00:00\",\"2021-01-10T14:00:00\",\"2021-01-11T14:00:00\",\"2021-01-12T14:00:00\",\"2021-01-13T14:00:00\",\"2021-01-14T14:00:00\",\"2021-01-15T14:00:00\",\"2021-01-16T14:00:00\",\"2021-01-17T14:00:00\",\"2021-01-18T14:00:00\",\"2021-01-19T14:00:00\",\"2021-01-20T14:00:00\",\"2021-01-21T14:00:00\",\"2021-01-22T14:00:00\",\"2021-01-23T14:00:00\",\"2021-01-24T14:00:00\",\"2021-01-25T14:00:00\",\"2021-01-26T14:00:00\",\"2021-01-27T14:00:00\"],\"xaxis\":\"x\",\"y\":[20,19,19,19,19,19,19,19,19,19,19,19,19,19,19,18,18,17,17,16,15,16,16,17,17,16,17,17,17,17,17,17,17,17,18,18,18,18,18,18,19,19,19,19,19,19,19,19,19,19,19,19,19,19,19,18,18,18,18,18,18,18,18,18,18,18,18,18,18,17,17,18,18],\"yaxis\":\"y\"},{\"hovertemplate\":\"Skipper=armel tripon<br>Date=%{x}<br>Rang=%{y}<extra></extra>\",\"legendgroup\":\"armel tripon\",\"line\":{\"color\":\"#19d3f3\",\"dash\":\"solid\"},\"marker\":{\"symbol\":\"circle\"},\"mode\":\"lines\",\"name\":\"armel tripon\",\"showlegend\":true,\"type\":\"scattergl\",\"x\":[\"2020-11-16T14:00:00\",\"2020-11-17T14:00:00\",\"2020-11-18T14:00:00\",\"2020-11-19T14:00:00\",\"2020-11-20T14:00:00\",\"2020-11-21T14:00:00\",\"2020-11-22T14:00:00\",\"2020-11-23T14:00:00\",\"2020-11-24T14:00:00\",\"2020-11-25T14:00:00\",\"2020-11-26T14:00:00\",\"2020-11-27T14:00:00\",\"2020-11-28T14:00:00\",\"2020-11-29T14:00:00\",\"2020-11-30T14:00:00\",\"2020-12-01T14:00:00\",\"2020-12-02T14:00:00\",\"2020-12-03T14:00:00\",\"2020-12-04T14:00:00\",\"2020-12-05T14:00:00\",\"2020-12-06T14:00:00\",\"2020-12-07T14:00:00\",\"2020-12-08T14:00:00\",\"2020-12-09T14:00:00\",\"2020-12-10T14:00:00\",\"2020-12-11T14:00:00\",\"2020-12-12T14:00:00\",\"2020-12-13T14:00:00\",\"2020-12-14T14:00:00\",\"2020-12-15T14:00:00\",\"2020-12-16T14:00:00\",\"2020-12-17T14:00:00\",\"2020-12-18T14:00:00\",\"2020-12-19T14:00:00\",\"2020-12-20T14:00:00\",\"2020-12-21T14:00:00\",\"2020-12-22T14:00:00\",\"2020-12-23T14:00:00\",\"2020-12-24T14:00:00\",\"2020-12-25T14:00:00\",\"2020-12-26T14:00:00\",\"2020-12-27T14:00:00\",\"2020-12-28T14:00:00\",\"2020-12-29T14:00:00\",\"2020-12-30T14:00:00\",\"2020-12-31T14:00:00\",\"2021-01-01T14:00:00\",\"2021-01-02T14:00:00\",\"2021-01-03T14:00:00\",\"2021-01-04T14:00:00\",\"2021-01-05T14:00:00\",\"2021-01-06T14:00:00\",\"2021-01-07T14:00:00\",\"2021-01-08T14:00:00\",\"2021-01-09T14:00:00\",\"2021-01-10T14:00:00\",\"2021-01-11T14:00:00\",\"2021-01-12T14:00:00\",\"2021-01-13T14:00:00\",\"2021-01-14T14:00:00\",\"2021-01-15T14:00:00\",\"2021-01-16T14:00:00\",\"2021-01-17T14:00:00\",\"2021-01-18T14:00:00\",\"2021-01-19T14:00:00\",\"2021-01-20T14:00:00\",\"2021-01-21T14:00:00\",\"2021-01-22T14:00:00\",\"2021-01-23T14:00:00\",\"2021-01-24T14:00:00\",\"2021-01-25T14:00:00\",\"2021-01-26T14:00:00\",\"2021-01-27T14:00:00\"],\"xaxis\":\"x\",\"y\":[26,24,26,24,24,24,24,24,24,24,24,23,23,23,21,19,19,19,18,15,16,14,14,14,14,14,14,14,14,14,14,14,14,14,14,14,14,14,14,14,14,13,13,13,13,13,13,13,13,13,13,13,13,13,13,11,11,11,11,11,11,11,11,11,11,11,11,11,11,11,11,11,11],\"yaxis\":\"y\"},{\"hovertemplate\":\"Skipper=sebastien destremau<br>Date=%{x}<br>Rang=%{y}<extra></extra>\",\"legendgroup\":\"sebastien destremau\",\"line\":{\"color\":\"#FF6692\",\"dash\":\"solid\"},\"marker\":{\"symbol\":\"circle\"},\"mode\":\"lines\",\"name\":\"sebastien destremau\",\"showlegend\":true,\"type\":\"scattergl\",\"x\":[\"2020-11-16T14:00:00\",\"2020-11-17T14:00:00\",\"2020-11-18T14:00:00\",\"2020-11-19T14:00:00\",\"2020-11-20T14:00:00\",\"2020-11-21T14:00:00\",\"2020-11-22T14:00:00\",\"2020-11-23T14:00:00\",\"2020-11-24T14:00:00\",\"2020-11-25T14:00:00\",\"2020-11-26T14:00:00\",\"2020-11-27T14:00:00\",\"2020-11-28T14:00:00\",\"2020-11-29T14:00:00\",\"2020-11-30T14:00:00\",\"2020-12-01T14:00:00\",\"2020-12-02T14:00:00\",\"2020-12-03T14:00:00\",\"2020-12-04T14:00:00\",\"2020-12-05T14:00:00\",\"2020-12-06T14:00:00\",\"2020-12-07T14:00:00\",\"2020-12-08T14:00:00\",\"2020-12-09T14:00:00\",\"2020-12-10T14:00:00\",\"2020-12-11T14:00:00\",\"2020-12-12T14:00:00\",\"2020-12-13T14:00:00\",\"2020-12-14T14:00:00\",\"2020-12-15T14:00:00\",\"2020-12-16T14:00:00\",\"2020-12-17T14:00:00\",\"2020-12-18T14:00:00\",\"2020-12-19T14:00:00\",\"2020-12-20T14:00:00\",\"2020-12-21T14:00:00\",\"2020-12-22T14:00:00\",\"2020-12-23T14:00:00\",\"2020-12-24T14:00:00\",\"2020-12-25T14:00:00\",\"2020-12-26T14:00:00\",\"2020-12-27T14:00:00\",\"2020-12-28T14:00:00\",\"2020-12-29T14:00:00\",\"2020-12-30T14:00:00\",\"2020-12-31T14:00:00\",\"2021-01-01T14:00:00\",\"2021-01-02T14:00:00\",\"2021-01-03T14:00:00\",\"2021-01-04T14:00:00\",\"2021-01-05T14:00:00\",\"2021-01-06T14:00:00\",\"2021-01-07T14:00:00\",\"2021-01-08T14:00:00\",\"2021-01-09T14:00:00\",\"2021-01-10T14:00:00\",\"2021-01-11T14:00:00\",\"2021-01-12T14:00:00\",\"2021-01-13T14:00:00\",\"2021-01-14T14:00:00\",\"2021-01-15T14:00:00\",\"2021-01-16T14:00:00\"],\"xaxis\":\"x\",\"y\":[30,29,29,29,28,29,30,29,30,30,30,30,30,30,31,30,30,30,29,27,27,27,27,26,26,25,26,26,26,26,26,27,27,27,27,27,27,27,27,27,27,27,27,27,27,27,27,27,27,27,27,27,27,27,27,26,26,26,26,26,26,26],\"yaxis\":\"y\"},{\"hovertemplate\":\"Skipper=pip hare<br>Date=%{x}<br>Rang=%{y}<extra></extra>\",\"legendgroup\":\"pip hare\",\"line\":{\"color\":\"#B6E880\",\"dash\":\"solid\"},\"marker\":{\"symbol\":\"circle\"},\"mode\":\"lines\",\"name\":\"pip hare\",\"showlegend\":true,\"type\":\"scattergl\",\"x\":[\"2020-11-16T14:00:00\",\"2020-11-17T14:00:00\",\"2020-11-18T14:00:00\",\"2020-11-19T14:00:00\",\"2020-11-20T14:00:00\",\"2020-11-21T14:00:00\",\"2020-11-22T14:00:00\",\"2020-11-23T14:00:00\",\"2020-11-24T14:00:00\",\"2020-11-25T14:00:00\",\"2020-11-26T14:00:00\",\"2020-11-27T14:00:00\",\"2020-11-28T14:00:00\",\"2020-11-29T14:00:00\",\"2020-11-30T14:00:00\",\"2020-12-01T14:00:00\",\"2020-12-02T14:00:00\",\"2020-12-03T14:00:00\",\"2020-12-04T14:00:00\",\"2020-12-05T14:00:00\",\"2020-12-06T14:00:00\",\"2020-12-07T14:00:00\",\"2020-12-08T14:00:00\",\"2020-12-09T14:00:00\",\"2020-12-10T14:00:00\",\"2020-12-11T14:00:00\",\"2020-12-12T14:00:00\",\"2020-12-13T14:00:00\",\"2020-12-14T14:00:00\",\"2020-12-15T14:00:00\",\"2020-12-16T14:00:00\",\"2020-12-17T14:00:00\",\"2020-12-18T14:00:00\",\"2020-12-19T14:00:00\",\"2020-12-20T14:00:00\",\"2020-12-21T14:00:00\",\"2020-12-22T14:00:00\",\"2020-12-23T14:00:00\",\"2020-12-24T14:00:00\",\"2020-12-25T14:00:00\",\"2020-12-26T14:00:00\",\"2020-12-27T14:00:00\",\"2020-12-28T14:00:00\",\"2020-12-29T14:00:00\",\"2020-12-30T14:00:00\",\"2020-12-31T14:00:00\",\"2021-01-01T14:00:00\",\"2021-01-02T14:00:00\",\"2021-01-03T14:00:00\",\"2021-01-04T14:00:00\",\"2021-01-05T14:00:00\",\"2021-01-06T14:00:00\",\"2021-01-07T14:00:00\",\"2021-01-08T14:00:00\",\"2021-01-09T14:00:00\",\"2021-01-10T14:00:00\",\"2021-01-11T14:00:00\",\"2021-01-12T14:00:00\",\"2021-01-13T14:00:00\",\"2021-01-14T14:00:00\",\"2021-01-15T14:00:00\",\"2021-01-16T14:00:00\",\"2021-01-17T14:00:00\",\"2021-01-18T14:00:00\",\"2021-01-19T14:00:00\",\"2021-01-20T14:00:00\",\"2021-01-21T14:00:00\",\"2021-01-22T14:00:00\",\"2021-01-23T14:00:00\",\"2021-01-24T14:00:00\",\"2021-01-25T14:00:00\",\"2021-01-26T14:00:00\",\"2021-01-27T14:00:00\"],\"xaxis\":\"x\",\"y\":[21,21,22,22,22,21,20,20,20,23,23,24,24,24,24,23,23,23,22,20,20,20,20,20,20,19,19,18,19,18,18,18,18,18,17,17,17,17,17,17,17,17,17,17,17,16,15,16,15,15,15,15,15,17,17,17,17,17,17,17,17,17,17,17,17,17,17,17,17,18,19,19,19],\"yaxis\":\"y\"},{\"hovertemplate\":\"Skipper=alex thomson<br>Date=%{x}<br>Rang=%{y}<extra></extra>\",\"legendgroup\":\"alex thomson\",\"line\":{\"color\":\"#FF97FF\",\"dash\":\"solid\"},\"marker\":{\"symbol\":\"circle\"},\"mode\":\"lines\",\"name\":\"alex thomson\",\"showlegend\":true,\"type\":\"scattergl\",\"x\":[\"2020-11-16T14:00:00\",\"2020-11-17T14:00:00\",\"2020-11-18T14:00:00\",\"2020-11-19T14:00:00\",\"2020-11-20T14:00:00\",\"2020-11-21T14:00:00\",\"2020-11-22T14:00:00\",\"2020-11-23T14:00:00\",\"2020-11-24T14:00:00\",\"2020-11-25T14:00:00\",\"2020-11-26T14:00:00\",\"2020-11-27T14:00:00\",\"2020-11-28T14:00:00\",\"2020-11-29T14:00:00\",\"2020-11-30T14:00:00\",\"2020-12-01T14:00:00\",\"2020-12-02T14:00:00\",\"2020-12-03T14:00:00\"],\"xaxis\":\"x\",\"y\":[1,1,1,1,1,2,3,5,8,8,8,11,15,15,15,14,16,16],\"yaxis\":\"y\"},{\"hovertemplate\":\"Skipper=giancarlo pedote<br>Date=%{x}<br>Rang=%{y}<extra></extra>\",\"legendgroup\":\"giancarlo pedote\",\"line\":{\"color\":\"#FECB52\",\"dash\":\"solid\"},\"marker\":{\"symbol\":\"circle\"},\"mode\":\"lines\",\"name\":\"giancarlo pedote\",\"showlegend\":true,\"type\":\"scattergl\",\"x\":[\"2020-11-16T14:00:00\",\"2020-11-17T14:00:00\",\"2020-11-18T14:00:00\",\"2020-11-19T14:00:00\",\"2020-11-20T14:00:00\",\"2020-11-21T14:00:00\",\"2020-11-22T14:00:00\",\"2020-11-23T14:00:00\",\"2020-11-24T14:00:00\",\"2020-11-25T14:00:00\",\"2020-11-26T14:00:00\",\"2020-11-27T14:00:00\",\"2020-11-28T14:00:00\",\"2020-11-29T14:00:00\",\"2020-11-30T14:00:00\",\"2020-12-01T14:00:00\",\"2020-12-02T14:00:00\",\"2020-12-03T14:00:00\",\"2020-12-04T14:00:00\",\"2020-12-05T14:00:00\",\"2020-12-06T14:00:00\",\"2020-12-07T14:00:00\",\"2020-12-08T14:00:00\",\"2020-12-09T14:00:00\",\"2020-12-10T14:00:00\",\"2020-12-11T14:00:00\",\"2020-12-12T14:00:00\",\"2020-12-13T14:00:00\",\"2020-12-14T14:00:00\",\"2020-12-15T14:00:00\",\"2020-12-16T14:00:00\",\"2020-12-17T14:00:00\",\"2020-12-18T14:00:00\",\"2020-12-19T14:00:00\",\"2020-12-20T14:00:00\",\"2020-12-21T14:00:00\",\"2020-12-22T14:00:00\",\"2020-12-23T14:00:00\",\"2020-12-24T14:00:00\",\"2020-12-25T14:00:00\",\"2020-12-26T14:00:00\",\"2020-12-27T14:00:00\",\"2020-12-28T14:00:00\",\"2020-12-29T14:00:00\",\"2020-12-30T14:00:00\",\"2020-12-31T14:00:00\",\"2021-01-01T14:00:00\",\"2021-01-02T14:00:00\",\"2021-01-03T14:00:00\",\"2021-01-04T14:00:00\",\"2021-01-05T14:00:00\",\"2021-01-06T14:00:00\",\"2021-01-07T14:00:00\",\"2021-01-08T14:00:00\",\"2021-01-09T14:00:00\",\"2021-01-10T14:00:00\",\"2021-01-11T14:00:00\",\"2021-01-12T14:00:00\",\"2021-01-13T14:00:00\",\"2021-01-14T14:00:00\",\"2021-01-15T14:00:00\",\"2021-01-16T14:00:00\",\"2021-01-17T14:00:00\",\"2021-01-18T14:00:00\",\"2021-01-19T14:00:00\",\"2021-01-20T14:00:00\",\"2021-01-21T14:00:00\",\"2021-01-22T14:00:00\",\"2021-01-23T14:00:00\",\"2021-01-24T14:00:00\",\"2021-01-25T14:00:00\",\"2021-01-26T14:00:00\",\"2021-01-27T14:00:00\"],\"xaxis\":\"x\",\"y\":[16,15,13,13,13,13,13,13,13,13,13,10,11,10,10,9,10,10,10,10,9,10,10,10,10,10,10,10,10,10,10,10,10,10,9,9,9,9,9,9,8,9,9,10,10,11,10,11,11,10,9,8,8,8,8,9,8,8,9,8,8,7,7,7,7,7,7,7,7,6,7,7,7],\"yaxis\":\"y\"},{\"hovertemplate\":\"Skipper=kojiro shiraishi<br>Date=%{x}<br>Rang=%{y}<extra></extra>\",\"legendgroup\":\"kojiro shiraishi\",\"line\":{\"color\":\"#636efa\",\"dash\":\"solid\"},\"marker\":{\"symbol\":\"circle\"},\"mode\":\"lines\",\"name\":\"kojiro shiraishi\",\"showlegend\":true,\"type\":\"scattergl\",\"x\":[\"2020-11-16T14:00:00\",\"2020-11-17T14:00:00\",\"2020-11-18T14:00:00\",\"2020-11-19T14:00:00\",\"2020-11-20T14:00:00\",\"2020-11-21T14:00:00\",\"2020-11-22T14:00:00\",\"2020-11-23T14:00:00\",\"2020-11-24T14:00:00\",\"2020-11-25T14:00:00\",\"2020-11-26T14:00:00\",\"2020-11-27T14:00:00\",\"2020-11-28T14:00:00\",\"2020-11-29T14:00:00\",\"2020-11-30T14:00:00\",\"2020-12-01T14:00:00\",\"2020-12-02T14:00:00\",\"2020-12-03T14:00:00\",\"2020-12-04T14:00:00\",\"2020-12-05T14:00:00\",\"2020-12-06T14:00:00\",\"2020-12-07T14:00:00\",\"2020-12-08T14:00:00\",\"2020-12-09T14:00:00\",\"2020-12-10T14:00:00\",\"2020-12-11T14:00:00\",\"2020-12-12T14:00:00\",\"2020-12-13T14:00:00\",\"2020-12-14T14:00:00\",\"2020-12-15T14:00:00\",\"2020-12-16T14:00:00\",\"2020-12-17T14:00:00\",\"2020-12-18T14:00:00\",\"2020-12-19T14:00:00\",\"2020-12-20T14:00:00\",\"2020-12-21T14:00:00\",\"2020-12-22T14:00:00\",\"2020-12-23T14:00:00\",\"2020-12-24T14:00:00\",\"2020-12-25T14:00:00\",\"2020-12-26T14:00:00\",\"2020-12-27T14:00:00\",\"2020-12-28T14:00:00\",\"2020-12-29T14:00:00\",\"2020-12-30T14:00:00\",\"2020-12-31T14:00:00\",\"2021-01-01T14:00:00\",\"2021-01-02T14:00:00\",\"2021-01-03T14:00:00\",\"2021-01-04T14:00:00\",\"2021-01-05T14:00:00\",\"2021-01-06T14:00:00\",\"2021-01-07T14:00:00\",\"2021-01-08T14:00:00\",\"2021-01-09T14:00:00\",\"2021-01-10T14:00:00\",\"2021-01-11T14:00:00\",\"2021-01-12T14:00:00\",\"2021-01-13T14:00:00\",\"2021-01-14T14:00:00\",\"2021-01-15T14:00:00\",\"2021-01-16T14:00:00\",\"2021-01-17T14:00:00\",\"2021-01-18T14:00:00\",\"2021-01-19T14:00:00\",\"2021-01-20T14:00:00\",\"2021-01-21T14:00:00\",\"2021-01-22T14:00:00\",\"2021-01-23T14:00:00\",\"2021-01-24T14:00:00\",\"2021-01-25T14:00:00\",\"2021-01-26T14:00:00\",\"2021-01-27T14:00:00\"],\"xaxis\":\"x\",\"y\":[25,25,24,25,30,31,31,31,31,31,31,31,31,31,30,28,28,29,28,26,26,26,25,25,25,23,23,21,21,21,22,22,22,22,22,22,22,22,22,21,21,21,21,21,21,21,21,21,21,21,21,21,21,21,21,20,20,20,20,20,20,20,20,20,20,20,19,19,19,19,18,17,17],\"yaxis\":\"y\"},{\"hovertemplate\":\"Skipper=boris herrmann<br>Date=%{x}<br>Rang=%{y}<extra></extra>\",\"legendgroup\":\"boris herrmann\",\"line\":{\"color\":\"#EF553B\",\"dash\":\"solid\"},\"marker\":{\"symbol\":\"circle\"},\"mode\":\"lines\",\"name\":\"boris herrmann\",\"showlegend\":true,\"type\":\"scattergl\",\"x\":[\"2020-11-16T14:00:00\",\"2020-11-17T14:00:00\",\"2020-11-18T14:00:00\",\"2020-11-19T14:00:00\",\"2020-11-20T14:00:00\",\"2020-11-21T14:00:00\",\"2020-11-22T14:00:00\",\"2020-11-23T14:00:00\",\"2020-11-24T14:00:00\",\"2020-11-25T14:00:00\",\"2020-11-26T14:00:00\",\"2020-11-27T14:00:00\",\"2020-11-28T14:00:00\",\"2020-11-29T14:00:00\",\"2020-11-30T14:00:00\",\"2020-12-01T14:00:00\",\"2020-12-02T14:00:00\",\"2020-12-03T14:00:00\",\"2020-12-04T14:00:00\",\"2020-12-05T14:00:00\",\"2020-12-06T14:00:00\",\"2020-12-07T14:00:00\",\"2020-12-08T14:00:00\",\"2020-12-09T14:00:00\",\"2020-12-10T14:00:00\",\"2020-12-11T14:00:00\",\"2020-12-12T14:00:00\",\"2020-12-13T14:00:00\",\"2020-12-14T14:00:00\",\"2020-12-15T14:00:00\",\"2020-12-16T14:00:00\",\"2020-12-17T14:00:00\",\"2020-12-18T14:00:00\",\"2020-12-19T14:00:00\",\"2020-12-20T14:00:00\",\"2020-12-21T14:00:00\",\"2020-12-22T14:00:00\",\"2020-12-23T14:00:00\",\"2020-12-24T14:00:00\",\"2020-12-25T14:00:00\",\"2020-12-26T14:00:00\",\"2020-12-27T14:00:00\",\"2020-12-28T14:00:00\",\"2020-12-29T14:00:00\",\"2020-12-30T14:00:00\",\"2020-12-31T14:00:00\",\"2021-01-01T14:00:00\",\"2021-01-02T14:00:00\",\"2021-01-03T14:00:00\",\"2021-01-04T14:00:00\",\"2021-01-05T14:00:00\",\"2021-01-06T14:00:00\",\"2021-01-07T14:00:00\",\"2021-01-08T14:00:00\",\"2021-01-09T14:00:00\",\"2021-01-10T14:00:00\",\"2021-01-11T14:00:00\",\"2021-01-12T14:00:00\",\"2021-01-13T14:00:00\",\"2021-01-14T14:00:00\",\"2021-01-15T14:00:00\",\"2021-01-16T14:00:00\",\"2021-01-17T14:00:00\",\"2021-01-18T14:00:00\",\"2021-01-19T14:00:00\",\"2021-01-20T14:00:00\",\"2021-01-21T14:00:00\",\"2021-01-22T14:00:00\",\"2021-01-23T14:00:00\",\"2021-01-24T14:00:00\",\"2021-01-25T14:00:00\",\"2021-01-26T14:00:00\",\"2021-01-27T14:00:00\"],\"xaxis\":\"x\",\"y\":[11,7,9,7,7,7,6,6,6,5,5,6,8,8,8,6,5,7,8,8,7,8,7,8,8,8,8,8,8,6,7,5,5,4,4,4,4,4,4,3,4,6,7,7,7,6,6,7,7,8,10,11,9,9,9,8,6,6,6,5,3,3,4,6,6,3,2,3,3,3,3,2,3],\"yaxis\":\"y\"},{\"hovertemplate\":\"Skipper=alan roura<br>Date=%{x}<br>Rang=%{y}<extra></extra>\",\"legendgroup\":\"alan roura\",\"line\":{\"color\":\"#00cc96\",\"dash\":\"solid\"},\"marker\":{\"symbol\":\"circle\"},\"mode\":\"lines\",\"name\":\"alan roura\",\"showlegend\":true,\"type\":\"scattergl\",\"x\":[\"2020-11-16T14:00:00\",\"2020-11-17T14:00:00\",\"2020-11-18T14:00:00\",\"2020-11-19T14:00:00\",\"2020-11-20T14:00:00\",\"2020-11-21T14:00:00\",\"2020-11-22T14:00:00\",\"2020-11-23T14:00:00\",\"2020-11-24T14:00:00\",\"2020-11-25T14:00:00\",\"2020-11-26T14:00:00\",\"2020-11-27T14:00:00\",\"2020-11-28T14:00:00\",\"2020-11-29T14:00:00\",\"2020-11-30T14:00:00\",\"2020-12-01T14:00:00\",\"2020-12-02T14:00:00\",\"2020-12-03T14:00:00\",\"2020-12-04T14:00:00\",\"2020-12-05T14:00:00\",\"2020-12-06T14:00:00\",\"2020-12-07T14:00:00\",\"2020-12-08T14:00:00\",\"2020-12-09T14:00:00\",\"2020-12-10T14:00:00\",\"2020-12-11T14:00:00\",\"2020-12-12T14:00:00\",\"2020-12-13T14:00:00\",\"2020-12-14T14:00:00\",\"2020-12-15T14:00:00\",\"2020-12-16T14:00:00\",\"2020-12-17T14:00:00\",\"2020-12-18T14:00:00\",\"2020-12-19T14:00:00\",\"2020-12-20T14:00:00\",\"2020-12-21T14:00:00\",\"2020-12-22T14:00:00\",\"2020-12-23T14:00:00\",\"2020-12-24T14:00:00\",\"2020-12-25T14:00:00\",\"2020-12-26T14:00:00\",\"2020-12-27T14:00:00\",\"2020-12-28T14:00:00\",\"2020-12-29T14:00:00\",\"2020-12-30T14:00:00\",\"2020-12-31T14:00:00\",\"2021-01-01T14:00:00\",\"2021-01-02T14:00:00\",\"2021-01-03T14:00:00\",\"2021-01-04T14:00:00\",\"2021-01-05T14:00:00\",\"2021-01-06T14:00:00\",\"2021-01-07T14:00:00\",\"2021-01-08T14:00:00\",\"2021-01-09T14:00:00\",\"2021-01-10T14:00:00\",\"2021-01-11T14:00:00\",\"2021-01-12T14:00:00\",\"2021-01-13T14:00:00\",\"2021-01-14T14:00:00\",\"2021-01-15T14:00:00\",\"2021-01-16T14:00:00\",\"2021-01-17T14:00:00\",\"2021-01-18T14:00:00\",\"2021-01-19T14:00:00\",\"2021-01-20T14:00:00\",\"2021-01-21T14:00:00\",\"2021-01-22T14:00:00\",\"2021-01-23T14:00:00\",\"2021-01-24T14:00:00\",\"2021-01-25T14:00:00\",\"2021-01-26T14:00:00\",\"2021-01-27T14:00:00\"],\"xaxis\":\"x\",\"y\":[19,17,17,18,18,18,18,18,18,18,18,18,18,18,18,17,17,18,16,14,14,15,15,15,15,15,15,15,15,15,15,15,15,15,15,15,15,15,15,15,15,15,15,15,15,15,16,15,16,16,16,16,16,15,15,15,15,15,16,15,15,15,16,16,16,16,16,16,16,16,16,16,16],\"yaxis\":\"y\"}],                        {\"legend\":{\"title\":{\"text\":\"Skipper\"},\"tracegroupgap\":0},\"margin\":{\"t\":60},\"template\":{\"data\":{\"bar\":[{\"error_x\":{\"color\":\"#2a3f5f\"},\"error_y\":{\"color\":\"#2a3f5f\"},\"marker\":{\"line\":{\"color\":\"#E5ECF6\",\"width\":0.5},\"pattern\":{\"fillmode\":\"overlay\",\"size\":10,\"solidity\":0.2}},\"type\":\"bar\"}],\"barpolar\":[{\"marker\":{\"line\":{\"color\":\"#E5ECF6\",\"width\":0.5},\"pattern\":{\"fillmode\":\"overlay\",\"size\":10,\"solidity\":0.2}},\"type\":\"barpolar\"}],\"carpet\":[{\"aaxis\":{\"endlinecolor\":\"#2a3f5f\",\"gridcolor\":\"white\",\"linecolor\":\"white\",\"minorgridcolor\":\"white\",\"startlinecolor\":\"#2a3f5f\"},\"baxis\":{\"endlinecolor\":\"#2a3f5f\",\"gridcolor\":\"white\",\"linecolor\":\"white\",\"minorgridcolor\":\"white\",\"startlinecolor\":\"#2a3f5f\"},\"type\":\"carpet\"}],\"choropleth\":[{\"colorbar\":{\"outlinewidth\":0,\"ticks\":\"\"},\"type\":\"choropleth\"}],\"contour\":[{\"colorbar\":{\"outlinewidth\":0,\"ticks\":\"\"},\"colorscale\":[[0.0,\"#0d0887\"],[0.1111111111111111,\"#46039f\"],[0.2222222222222222,\"#7201a8\"],[0.3333333333333333,\"#9c179e\"],[0.4444444444444444,\"#bd3786\"],[0.5555555555555556,\"#d8576b\"],[0.6666666666666666,\"#ed7953\"],[0.7777777777777778,\"#fb9f3a\"],[0.8888888888888888,\"#fdca26\"],[1.0,\"#f0f921\"]],\"type\":\"contour\"}],\"contourcarpet\":[{\"colorbar\":{\"outlinewidth\":0,\"ticks\":\"\"},\"type\":\"contourcarpet\"}],\"heatmap\":[{\"colorbar\":{\"outlinewidth\":0,\"ticks\":\"\"},\"colorscale\":[[0.0,\"#0d0887\"],[0.1111111111111111,\"#46039f\"],[0.2222222222222222,\"#7201a8\"],[0.3333333333333333,\"#9c179e\"],[0.4444444444444444,\"#bd3786\"],[0.5555555555555556,\"#d8576b\"],[0.6666666666666666,\"#ed7953\"],[0.7777777777777778,\"#fb9f3a\"],[0.8888888888888888,\"#fdca26\"],[1.0,\"#f0f921\"]],\"type\":\"heatmap\"}],\"heatmapgl\":[{\"colorbar\":{\"outlinewidth\":0,\"ticks\":\"\"},\"colorscale\":[[0.0,\"#0d0887\"],[0.1111111111111111,\"#46039f\"],[0.2222222222222222,\"#7201a8\"],[0.3333333333333333,\"#9c179e\"],[0.4444444444444444,\"#bd3786\"],[0.5555555555555556,\"#d8576b\"],[0.6666666666666666,\"#ed7953\"],[0.7777777777777778,\"#fb9f3a\"],[0.8888888888888888,\"#fdca26\"],[1.0,\"#f0f921\"]],\"type\":\"heatmapgl\"}],\"histogram\":[{\"marker\":{\"pattern\":{\"fillmode\":\"overlay\",\"size\":10,\"solidity\":0.2}},\"type\":\"histogram\"}],\"histogram2d\":[{\"colorbar\":{\"outlinewidth\":0,\"ticks\":\"\"},\"colorscale\":[[0.0,\"#0d0887\"],[0.1111111111111111,\"#46039f\"],[0.2222222222222222,\"#7201a8\"],[0.3333333333333333,\"#9c179e\"],[0.4444444444444444,\"#bd3786\"],[0.5555555555555556,\"#d8576b\"],[0.6666666666666666,\"#ed7953\"],[0.7777777777777778,\"#fb9f3a\"],[0.8888888888888888,\"#fdca26\"],[1.0,\"#f0f921\"]],\"type\":\"histogram2d\"}],\"histogram2dcontour\":[{\"colorbar\":{\"outlinewidth\":0,\"ticks\":\"\"},\"colorscale\":[[0.0,\"#0d0887\"],[0.1111111111111111,\"#46039f\"],[0.2222222222222222,\"#7201a8\"],[0.3333333333333333,\"#9c179e\"],[0.4444444444444444,\"#bd3786\"],[0.5555555555555556,\"#d8576b\"],[0.6666666666666666,\"#ed7953\"],[0.7777777777777778,\"#fb9f3a\"],[0.8888888888888888,\"#fdca26\"],[1.0,\"#f0f921\"]],\"type\":\"histogram2dcontour\"}],\"mesh3d\":[{\"colorbar\":{\"outlinewidth\":0,\"ticks\":\"\"},\"type\":\"mesh3d\"}],\"parcoords\":[{\"line\":{\"colorbar\":{\"outlinewidth\":0,\"ticks\":\"\"}},\"type\":\"parcoords\"}],\"pie\":[{\"automargin\":true,\"type\":\"pie\"}],\"scatter\":[{\"marker\":{\"colorbar\":{\"outlinewidth\":0,\"ticks\":\"\"}},\"type\":\"scatter\"}],\"scatter3d\":[{\"line\":{\"colorbar\":{\"outlinewidth\":0,\"ticks\":\"\"}},\"marker\":{\"colorbar\":{\"outlinewidth\":0,\"ticks\":\"\"}},\"type\":\"scatter3d\"}],\"scattercarpet\":[{\"marker\":{\"colorbar\":{\"outlinewidth\":0,\"ticks\":\"\"}},\"type\":\"scattercarpet\"}],\"scattergeo\":[{\"marker\":{\"colorbar\":{\"outlinewidth\":0,\"ticks\":\"\"}},\"type\":\"scattergeo\"}],\"scattergl\":[{\"marker\":{\"colorbar\":{\"outlinewidth\":0,\"ticks\":\"\"}},\"type\":\"scattergl\"}],\"scattermapbox\":[{\"marker\":{\"colorbar\":{\"outlinewidth\":0,\"ticks\":\"\"}},\"type\":\"scattermapbox\"}],\"scatterpolar\":[{\"marker\":{\"colorbar\":{\"outlinewidth\":0,\"ticks\":\"\"}},\"type\":\"scatterpolar\"}],\"scatterpolargl\":[{\"marker\":{\"colorbar\":{\"outlinewidth\":0,\"ticks\":\"\"}},\"type\":\"scatterpolargl\"}],\"scatterternary\":[{\"marker\":{\"colorbar\":{\"outlinewidth\":0,\"ticks\":\"\"}},\"type\":\"scatterternary\"}],\"surface\":[{\"colorbar\":{\"outlinewidth\":0,\"ticks\":\"\"},\"colorscale\":[[0.0,\"#0d0887\"],[0.1111111111111111,\"#46039f\"],[0.2222222222222222,\"#7201a8\"],[0.3333333333333333,\"#9c179e\"],[0.4444444444444444,\"#bd3786\"],[0.5555555555555556,\"#d8576b\"],[0.6666666666666666,\"#ed7953\"],[0.7777777777777778,\"#fb9f3a\"],[0.8888888888888888,\"#fdca26\"],[1.0,\"#f0f921\"]],\"type\":\"surface\"}],\"table\":[{\"cells\":{\"fill\":{\"color\":\"#EBF0F8\"},\"line\":{\"color\":\"white\"}},\"header\":{\"fill\":{\"color\":\"#C8D4E3\"},\"line\":{\"color\":\"white\"}},\"type\":\"table\"}]},\"layout\":{\"annotationdefaults\":{\"arrowcolor\":\"#2a3f5f\",\"arrowhead\":0,\"arrowwidth\":1},\"autotypenumbers\":\"strict\",\"coloraxis\":{\"colorbar\":{\"outlinewidth\":0,\"ticks\":\"\"}},\"colorscale\":{\"diverging\":[[0,\"#8e0152\"],[0.1,\"#c51b7d\"],[0.2,\"#de77ae\"],[0.3,\"#f1b6da\"],[0.4,\"#fde0ef\"],[0.5,\"#f7f7f7\"],[0.6,\"#e6f5d0\"],[0.7,\"#b8e186\"],[0.8,\"#7fbc41\"],[0.9,\"#4d9221\"],[1,\"#276419\"]],\"sequential\":[[0.0,\"#0d0887\"],[0.1111111111111111,\"#46039f\"],[0.2222222222222222,\"#7201a8\"],[0.3333333333333333,\"#9c179e\"],[0.4444444444444444,\"#bd3786\"],[0.5555555555555556,\"#d8576b\"],[0.6666666666666666,\"#ed7953\"],[0.7777777777777778,\"#fb9f3a\"],[0.8888888888888888,\"#fdca26\"],[1.0,\"#f0f921\"]],\"sequentialminus\":[[0.0,\"#0d0887\"],[0.1111111111111111,\"#46039f\"],[0.2222222222222222,\"#7201a8\"],[0.3333333333333333,\"#9c179e\"],[0.4444444444444444,\"#bd3786\"],[0.5555555555555556,\"#d8576b\"],[0.6666666666666666,\"#ed7953\"],[0.7777777777777778,\"#fb9f3a\"],[0.8888888888888888,\"#fdca26\"],[1.0,\"#f0f921\"]]},\"colorway\":[\"#636efa\",\"#EF553B\",\"#00cc96\",\"#ab63fa\",\"#FFA15A\",\"#19d3f3\",\"#FF6692\",\"#B6E880\",\"#FF97FF\",\"#FECB52\"],\"font\":{\"color\":\"#2a3f5f\"},\"geo\":{\"bgcolor\":\"white\",\"lakecolor\":\"white\",\"landcolor\":\"#E5ECF6\",\"showlakes\":true,\"showland\":true,\"subunitcolor\":\"white\"},\"hoverlabel\":{\"align\":\"left\"},\"hovermode\":\"closest\",\"mapbox\":{\"style\":\"light\"},\"paper_bgcolor\":\"white\",\"plot_bgcolor\":\"#E5ECF6\",\"polar\":{\"angularaxis\":{\"gridcolor\":\"white\",\"linecolor\":\"white\",\"ticks\":\"\"},\"bgcolor\":\"#E5ECF6\",\"radialaxis\":{\"gridcolor\":\"white\",\"linecolor\":\"white\",\"ticks\":\"\"}},\"scene\":{\"xaxis\":{\"backgroundcolor\":\"#E5ECF6\",\"gridcolor\":\"white\",\"gridwidth\":2,\"linecolor\":\"white\",\"showbackground\":true,\"ticks\":\"\",\"zerolinecolor\":\"white\"},\"yaxis\":{\"backgroundcolor\":\"#E5ECF6\",\"gridcolor\":\"white\",\"gridwidth\":2,\"linecolor\":\"white\",\"showbackground\":true,\"ticks\":\"\",\"zerolinecolor\":\"white\"},\"zaxis\":{\"backgroundcolor\":\"#E5ECF6\",\"gridcolor\":\"white\",\"gridwidth\":2,\"linecolor\":\"white\",\"showbackground\":true,\"ticks\":\"\",\"zerolinecolor\":\"white\"}},\"shapedefaults\":{\"line\":{\"color\":\"#2a3f5f\"}},\"ternary\":{\"aaxis\":{\"gridcolor\":\"white\",\"linecolor\":\"white\",\"ticks\":\"\"},\"baxis\":{\"gridcolor\":\"white\",\"linecolor\":\"white\",\"ticks\":\"\"},\"bgcolor\":\"#E5ECF6\",\"caxis\":{\"gridcolor\":\"white\",\"linecolor\":\"white\",\"ticks\":\"\"}},\"title\":{\"x\":0.05},\"xaxis\":{\"automargin\":true,\"gridcolor\":\"white\",\"linecolor\":\"white\",\"ticks\":\"\",\"title\":{\"standoff\":15},\"zerolinecolor\":\"white\",\"zerolinewidth\":2},\"yaxis\":{\"automargin\":true,\"gridcolor\":\"white\",\"linecolor\":\"white\",\"ticks\":\"\",\"title\":{\"standoff\":15},\"zerolinecolor\":\"white\",\"zerolinewidth\":2}}},\"xaxis\":{\"anchor\":\"y\",\"domain\":[0.0,1.0],\"title\":{\"text\":\"Date\"}},\"yaxis\":{\"anchor\":\"x\",\"autorange\":\"reversed\",\"domain\":[0.0,1.0],\"title\":{\"text\":\"Rang\"}}},                        {\"responsive\": true}                    ).then(function(){\n",
       "                            \n",
       "var gd = document.getElementById('24b3000a-a668-42ba-a2d5-612ca3371631');\n",
       "var x = new MutationObserver(function (mutations, observer) {{\n",
       "        var display = window.getComputedStyle(gd).display;\n",
       "        if (!display || display === 'none') {{\n",
       "            console.log([gd, 'removed!']);\n",
       "            Plotly.purge(gd);\n",
       "            observer.disconnect();\n",
       "        }}\n",
       "}});\n",
       "\n",
       "// Listen for the removal of the full notebook cells\n",
       "var notebookContainer = gd.closest('#notebook-container');\n",
       "if (notebookContainer) {{\n",
       "    x.observe(notebookContainer, {childList: true});\n",
       "}}\n",
       "\n",
       "// Listen for the clearing of the current output cell\n",
       "var outputEl = gd.closest('.output');\n",
       "if (outputEl) {{\n",
       "    x.observe(outputEl, {childList: true});\n",
       "}}\n",
       "\n",
       "                        })                };                });            </script>        </div>"
      ]
     },
     "metadata": {},
     "output_type": "display_data"
    }
   ],
   "source": [
    "dates =  pd.date_range(start=\"2020-11-16 14:00:00\", end=df_ranks.index.get_level_values(0)[-1], freq='D')\n",
    "\n",
    "df = df_ranks[[(\"Rang\",''),(\"Skipper\",'')]].loc[dates].reset_index(level=1)\n",
    "fig = px.line(df, x=df.index.get_level_values(0), y=\"Rang\",color=\"Skipper\")\n",
    "fig.update_yaxes(autorange=\"reversed\").show()"
   ]
  },
  {
   "cell_type": "markdown",
   "metadata": {},
   "source": [
    "### Leaders (pourcentage de temps classé leader)"
   ]
  },
  {
   "cell_type": "code",
   "execution_count": 23,
   "metadata": {},
   "outputs": [
    {
     "data": {
      "application/vnd.plotly.v1+json": {
       "config": {
        "plotlyServerURL": "https://plot.ly"
       },
       "data": [
        {
         "domain": {
          "x": [
           0,
           1
          ],
          "y": [
           0,
           1
          ]
         },
         "hovertemplate": "label=%{label}<br>value=%{value}<extra></extra>",
         "labels": [
          "charlie dalin",
          "yannick bestaven",
          "alex thomson",
          "thomas ruyant",
          "jean le cam",
          "maxime sorel",
          "louis burton",
          "jeremie beyou",
          "damien seguin",
          "benjamin dutreux"
         ],
         "legendgroup": "",
         "name": "",
         "showlegend": true,
         "type": "pie",
         "values": [
          224,
          156,
          46,
          20,
          9,
          8,
          7,
          5,
          5,
          1
         ]
        }
       ],
       "layout": {
        "legend": {
         "tracegroupgap": 0
        },
        "margin": {
         "t": 60
        },
        "template": {
         "data": {
          "bar": [
           {
            "error_x": {
             "color": "#2a3f5f"
            },
            "error_y": {
             "color": "#2a3f5f"
            },
            "marker": {
             "line": {
              "color": "#E5ECF6",
              "width": 0.5
             },
             "pattern": {
              "fillmode": "overlay",
              "size": 10,
              "solidity": 0.2
             }
            },
            "type": "bar"
           }
          ],
          "barpolar": [
           {
            "marker": {
             "line": {
              "color": "#E5ECF6",
              "width": 0.5
             },
             "pattern": {
              "fillmode": "overlay",
              "size": 10,
              "solidity": 0.2
             }
            },
            "type": "barpolar"
           }
          ],
          "carpet": [
           {
            "aaxis": {
             "endlinecolor": "#2a3f5f",
             "gridcolor": "white",
             "linecolor": "white",
             "minorgridcolor": "white",
             "startlinecolor": "#2a3f5f"
            },
            "baxis": {
             "endlinecolor": "#2a3f5f",
             "gridcolor": "white",
             "linecolor": "white",
             "minorgridcolor": "white",
             "startlinecolor": "#2a3f5f"
            },
            "type": "carpet"
           }
          ],
          "choropleth": [
           {
            "colorbar": {
             "outlinewidth": 0,
             "ticks": ""
            },
            "type": "choropleth"
           }
          ],
          "contour": [
           {
            "colorbar": {
             "outlinewidth": 0,
             "ticks": ""
            },
            "colorscale": [
             [
              0,
              "#0d0887"
             ],
             [
              0.1111111111111111,
              "#46039f"
             ],
             [
              0.2222222222222222,
              "#7201a8"
             ],
             [
              0.3333333333333333,
              "#9c179e"
             ],
             [
              0.4444444444444444,
              "#bd3786"
             ],
             [
              0.5555555555555556,
              "#d8576b"
             ],
             [
              0.6666666666666666,
              "#ed7953"
             ],
             [
              0.7777777777777778,
              "#fb9f3a"
             ],
             [
              0.8888888888888888,
              "#fdca26"
             ],
             [
              1,
              "#f0f921"
             ]
            ],
            "type": "contour"
           }
          ],
          "contourcarpet": [
           {
            "colorbar": {
             "outlinewidth": 0,
             "ticks": ""
            },
            "type": "contourcarpet"
           }
          ],
          "heatmap": [
           {
            "colorbar": {
             "outlinewidth": 0,
             "ticks": ""
            },
            "colorscale": [
             [
              0,
              "#0d0887"
             ],
             [
              0.1111111111111111,
              "#46039f"
             ],
             [
              0.2222222222222222,
              "#7201a8"
             ],
             [
              0.3333333333333333,
              "#9c179e"
             ],
             [
              0.4444444444444444,
              "#bd3786"
             ],
             [
              0.5555555555555556,
              "#d8576b"
             ],
             [
              0.6666666666666666,
              "#ed7953"
             ],
             [
              0.7777777777777778,
              "#fb9f3a"
             ],
             [
              0.8888888888888888,
              "#fdca26"
             ],
             [
              1,
              "#f0f921"
             ]
            ],
            "type": "heatmap"
           }
          ],
          "heatmapgl": [
           {
            "colorbar": {
             "outlinewidth": 0,
             "ticks": ""
            },
            "colorscale": [
             [
              0,
              "#0d0887"
             ],
             [
              0.1111111111111111,
              "#46039f"
             ],
             [
              0.2222222222222222,
              "#7201a8"
             ],
             [
              0.3333333333333333,
              "#9c179e"
             ],
             [
              0.4444444444444444,
              "#bd3786"
             ],
             [
              0.5555555555555556,
              "#d8576b"
             ],
             [
              0.6666666666666666,
              "#ed7953"
             ],
             [
              0.7777777777777778,
              "#fb9f3a"
             ],
             [
              0.8888888888888888,
              "#fdca26"
             ],
             [
              1,
              "#f0f921"
             ]
            ],
            "type": "heatmapgl"
           }
          ],
          "histogram": [
           {
            "marker": {
             "pattern": {
              "fillmode": "overlay",
              "size": 10,
              "solidity": 0.2
             }
            },
            "type": "histogram"
           }
          ],
          "histogram2d": [
           {
            "colorbar": {
             "outlinewidth": 0,
             "ticks": ""
            },
            "colorscale": [
             [
              0,
              "#0d0887"
             ],
             [
              0.1111111111111111,
              "#46039f"
             ],
             [
              0.2222222222222222,
              "#7201a8"
             ],
             [
              0.3333333333333333,
              "#9c179e"
             ],
             [
              0.4444444444444444,
              "#bd3786"
             ],
             [
              0.5555555555555556,
              "#d8576b"
             ],
             [
              0.6666666666666666,
              "#ed7953"
             ],
             [
              0.7777777777777778,
              "#fb9f3a"
             ],
             [
              0.8888888888888888,
              "#fdca26"
             ],
             [
              1,
              "#f0f921"
             ]
            ],
            "type": "histogram2d"
           }
          ],
          "histogram2dcontour": [
           {
            "colorbar": {
             "outlinewidth": 0,
             "ticks": ""
            },
            "colorscale": [
             [
              0,
              "#0d0887"
             ],
             [
              0.1111111111111111,
              "#46039f"
             ],
             [
              0.2222222222222222,
              "#7201a8"
             ],
             [
              0.3333333333333333,
              "#9c179e"
             ],
             [
              0.4444444444444444,
              "#bd3786"
             ],
             [
              0.5555555555555556,
              "#d8576b"
             ],
             [
              0.6666666666666666,
              "#ed7953"
             ],
             [
              0.7777777777777778,
              "#fb9f3a"
             ],
             [
              0.8888888888888888,
              "#fdca26"
             ],
             [
              1,
              "#f0f921"
             ]
            ],
            "type": "histogram2dcontour"
           }
          ],
          "mesh3d": [
           {
            "colorbar": {
             "outlinewidth": 0,
             "ticks": ""
            },
            "type": "mesh3d"
           }
          ],
          "parcoords": [
           {
            "line": {
             "colorbar": {
              "outlinewidth": 0,
              "ticks": ""
             }
            },
            "type": "parcoords"
           }
          ],
          "pie": [
           {
            "automargin": true,
            "type": "pie"
           }
          ],
          "scatter": [
           {
            "marker": {
             "colorbar": {
              "outlinewidth": 0,
              "ticks": ""
             }
            },
            "type": "scatter"
           }
          ],
          "scatter3d": [
           {
            "line": {
             "colorbar": {
              "outlinewidth": 0,
              "ticks": ""
             }
            },
            "marker": {
             "colorbar": {
              "outlinewidth": 0,
              "ticks": ""
             }
            },
            "type": "scatter3d"
           }
          ],
          "scattercarpet": [
           {
            "marker": {
             "colorbar": {
              "outlinewidth": 0,
              "ticks": ""
             }
            },
            "type": "scattercarpet"
           }
          ],
          "scattergeo": [
           {
            "marker": {
             "colorbar": {
              "outlinewidth": 0,
              "ticks": ""
             }
            },
            "type": "scattergeo"
           }
          ],
          "scattergl": [
           {
            "marker": {
             "colorbar": {
              "outlinewidth": 0,
              "ticks": ""
             }
            },
            "type": "scattergl"
           }
          ],
          "scattermapbox": [
           {
            "marker": {
             "colorbar": {
              "outlinewidth": 0,
              "ticks": ""
             }
            },
            "type": "scattermapbox"
           }
          ],
          "scatterpolar": [
           {
            "marker": {
             "colorbar": {
              "outlinewidth": 0,
              "ticks": ""
             }
            },
            "type": "scatterpolar"
           }
          ],
          "scatterpolargl": [
           {
            "marker": {
             "colorbar": {
              "outlinewidth": 0,
              "ticks": ""
             }
            },
            "type": "scatterpolargl"
           }
          ],
          "scatterternary": [
           {
            "marker": {
             "colorbar": {
              "outlinewidth": 0,
              "ticks": ""
             }
            },
            "type": "scatterternary"
           }
          ],
          "surface": [
           {
            "colorbar": {
             "outlinewidth": 0,
             "ticks": ""
            },
            "colorscale": [
             [
              0,
              "#0d0887"
             ],
             [
              0.1111111111111111,
              "#46039f"
             ],
             [
              0.2222222222222222,
              "#7201a8"
             ],
             [
              0.3333333333333333,
              "#9c179e"
             ],
             [
              0.4444444444444444,
              "#bd3786"
             ],
             [
              0.5555555555555556,
              "#d8576b"
             ],
             [
              0.6666666666666666,
              "#ed7953"
             ],
             [
              0.7777777777777778,
              "#fb9f3a"
             ],
             [
              0.8888888888888888,
              "#fdca26"
             ],
             [
              1,
              "#f0f921"
             ]
            ],
            "type": "surface"
           }
          ],
          "table": [
           {
            "cells": {
             "fill": {
              "color": "#EBF0F8"
             },
             "line": {
              "color": "white"
             }
            },
            "header": {
             "fill": {
              "color": "#C8D4E3"
             },
             "line": {
              "color": "white"
             }
            },
            "type": "table"
           }
          ]
         },
         "layout": {
          "annotationdefaults": {
           "arrowcolor": "#2a3f5f",
           "arrowhead": 0,
           "arrowwidth": 1
          },
          "autotypenumbers": "strict",
          "coloraxis": {
           "colorbar": {
            "outlinewidth": 0,
            "ticks": ""
           }
          },
          "colorscale": {
           "diverging": [
            [
             0,
             "#8e0152"
            ],
            [
             0.1,
             "#c51b7d"
            ],
            [
             0.2,
             "#de77ae"
            ],
            [
             0.3,
             "#f1b6da"
            ],
            [
             0.4,
             "#fde0ef"
            ],
            [
             0.5,
             "#f7f7f7"
            ],
            [
             0.6,
             "#e6f5d0"
            ],
            [
             0.7,
             "#b8e186"
            ],
            [
             0.8,
             "#7fbc41"
            ],
            [
             0.9,
             "#4d9221"
            ],
            [
             1,
             "#276419"
            ]
           ],
           "sequential": [
            [
             0,
             "#0d0887"
            ],
            [
             0.1111111111111111,
             "#46039f"
            ],
            [
             0.2222222222222222,
             "#7201a8"
            ],
            [
             0.3333333333333333,
             "#9c179e"
            ],
            [
             0.4444444444444444,
             "#bd3786"
            ],
            [
             0.5555555555555556,
             "#d8576b"
            ],
            [
             0.6666666666666666,
             "#ed7953"
            ],
            [
             0.7777777777777778,
             "#fb9f3a"
            ],
            [
             0.8888888888888888,
             "#fdca26"
            ],
            [
             1,
             "#f0f921"
            ]
           ],
           "sequentialminus": [
            [
             0,
             "#0d0887"
            ],
            [
             0.1111111111111111,
             "#46039f"
            ],
            [
             0.2222222222222222,
             "#7201a8"
            ],
            [
             0.3333333333333333,
             "#9c179e"
            ],
            [
             0.4444444444444444,
             "#bd3786"
            ],
            [
             0.5555555555555556,
             "#d8576b"
            ],
            [
             0.6666666666666666,
             "#ed7953"
            ],
            [
             0.7777777777777778,
             "#fb9f3a"
            ],
            [
             0.8888888888888888,
             "#fdca26"
            ],
            [
             1,
             "#f0f921"
            ]
           ]
          },
          "colorway": [
           "#636efa",
           "#EF553B",
           "#00cc96",
           "#ab63fa",
           "#FFA15A",
           "#19d3f3",
           "#FF6692",
           "#B6E880",
           "#FF97FF",
           "#FECB52"
          ],
          "font": {
           "color": "#2a3f5f"
          },
          "geo": {
           "bgcolor": "white",
           "lakecolor": "white",
           "landcolor": "#E5ECF6",
           "showlakes": true,
           "showland": true,
           "subunitcolor": "white"
          },
          "hoverlabel": {
           "align": "left"
          },
          "hovermode": "closest",
          "mapbox": {
           "style": "light"
          },
          "paper_bgcolor": "white",
          "plot_bgcolor": "#E5ECF6",
          "polar": {
           "angularaxis": {
            "gridcolor": "white",
            "linecolor": "white",
            "ticks": ""
           },
           "bgcolor": "#E5ECF6",
           "radialaxis": {
            "gridcolor": "white",
            "linecolor": "white",
            "ticks": ""
           }
          },
          "scene": {
           "xaxis": {
            "backgroundcolor": "#E5ECF6",
            "gridcolor": "white",
            "gridwidth": 2,
            "linecolor": "white",
            "showbackground": true,
            "ticks": "",
            "zerolinecolor": "white"
           },
           "yaxis": {
            "backgroundcolor": "#E5ECF6",
            "gridcolor": "white",
            "gridwidth": 2,
            "linecolor": "white",
            "showbackground": true,
            "ticks": "",
            "zerolinecolor": "white"
           },
           "zaxis": {
            "backgroundcolor": "#E5ECF6",
            "gridcolor": "white",
            "gridwidth": 2,
            "linecolor": "white",
            "showbackground": true,
            "ticks": "",
            "zerolinecolor": "white"
           }
          },
          "shapedefaults": {
           "line": {
            "color": "#2a3f5f"
           }
          },
          "ternary": {
           "aaxis": {
            "gridcolor": "white",
            "linecolor": "white",
            "ticks": ""
           },
           "baxis": {
            "gridcolor": "white",
            "linecolor": "white",
            "ticks": ""
           },
           "bgcolor": "#E5ECF6",
           "caxis": {
            "gridcolor": "white",
            "linecolor": "white",
            "ticks": ""
           }
          },
          "title": {
           "x": 0.05
          },
          "xaxis": {
           "automargin": true,
           "gridcolor": "white",
           "linecolor": "white",
           "ticks": "",
           "title": {
            "standoff": 15
           },
           "zerolinecolor": "white",
           "zerolinewidth": 2
          },
          "yaxis": {
           "automargin": true,
           "gridcolor": "white",
           "linecolor": "white",
           "ticks": "",
           "title": {
            "standoff": 15
           },
           "zerolinecolor": "white",
           "zerolinewidth": 2
          }
         }
        }
       }
      },
      "text/html": [
       "<div>                            <div id=\"0f5cfcdb-6a00-4b66-bde5-0fa5e149543b\" class=\"plotly-graph-div\" style=\"height:525px; width:100%;\"></div>            <script type=\"text/javascript\">                require([\"plotly\"], function(Plotly) {                    window.PLOTLYENV=window.PLOTLYENV || {};                                    if (document.getElementById(\"0f5cfcdb-6a00-4b66-bde5-0fa5e149543b\")) {                    Plotly.newPlot(                        \"0f5cfcdb-6a00-4b66-bde5-0fa5e149543b\",                        [{\"domain\":{\"x\":[0.0,1.0],\"y\":[0.0,1.0]},\"hovertemplate\":\"label=%{label}<br>value=%{value}<extra></extra>\",\"labels\":[\"charlie dalin\",\"yannick bestaven\",\"alex thomson\",\"thomas ruyant\",\"jean le cam\",\"maxime sorel\",\"louis burton\",\"jeremie beyou\",\"damien seguin\",\"benjamin dutreux\"],\"legendgroup\":\"\",\"name\":\"\",\"showlegend\":true,\"type\":\"pie\",\"values\":[224,156,46,20,9,8,7,5,5,1]}],                        {\"legend\":{\"tracegroupgap\":0},\"margin\":{\"t\":60},\"template\":{\"data\":{\"bar\":[{\"error_x\":{\"color\":\"#2a3f5f\"},\"error_y\":{\"color\":\"#2a3f5f\"},\"marker\":{\"line\":{\"color\":\"#E5ECF6\",\"width\":0.5},\"pattern\":{\"fillmode\":\"overlay\",\"size\":10,\"solidity\":0.2}},\"type\":\"bar\"}],\"barpolar\":[{\"marker\":{\"line\":{\"color\":\"#E5ECF6\",\"width\":0.5},\"pattern\":{\"fillmode\":\"overlay\",\"size\":10,\"solidity\":0.2}},\"type\":\"barpolar\"}],\"carpet\":[{\"aaxis\":{\"endlinecolor\":\"#2a3f5f\",\"gridcolor\":\"white\",\"linecolor\":\"white\",\"minorgridcolor\":\"white\",\"startlinecolor\":\"#2a3f5f\"},\"baxis\":{\"endlinecolor\":\"#2a3f5f\",\"gridcolor\":\"white\",\"linecolor\":\"white\",\"minorgridcolor\":\"white\",\"startlinecolor\":\"#2a3f5f\"},\"type\":\"carpet\"}],\"choropleth\":[{\"colorbar\":{\"outlinewidth\":0,\"ticks\":\"\"},\"type\":\"choropleth\"}],\"contour\":[{\"colorbar\":{\"outlinewidth\":0,\"ticks\":\"\"},\"colorscale\":[[0.0,\"#0d0887\"],[0.1111111111111111,\"#46039f\"],[0.2222222222222222,\"#7201a8\"],[0.3333333333333333,\"#9c179e\"],[0.4444444444444444,\"#bd3786\"],[0.5555555555555556,\"#d8576b\"],[0.6666666666666666,\"#ed7953\"],[0.7777777777777778,\"#fb9f3a\"],[0.8888888888888888,\"#fdca26\"],[1.0,\"#f0f921\"]],\"type\":\"contour\"}],\"contourcarpet\":[{\"colorbar\":{\"outlinewidth\":0,\"ticks\":\"\"},\"type\":\"contourcarpet\"}],\"heatmap\":[{\"colorbar\":{\"outlinewidth\":0,\"ticks\":\"\"},\"colorscale\":[[0.0,\"#0d0887\"],[0.1111111111111111,\"#46039f\"],[0.2222222222222222,\"#7201a8\"],[0.3333333333333333,\"#9c179e\"],[0.4444444444444444,\"#bd3786\"],[0.5555555555555556,\"#d8576b\"],[0.6666666666666666,\"#ed7953\"],[0.7777777777777778,\"#fb9f3a\"],[0.8888888888888888,\"#fdca26\"],[1.0,\"#f0f921\"]],\"type\":\"heatmap\"}],\"heatmapgl\":[{\"colorbar\":{\"outlinewidth\":0,\"ticks\":\"\"},\"colorscale\":[[0.0,\"#0d0887\"],[0.1111111111111111,\"#46039f\"],[0.2222222222222222,\"#7201a8\"],[0.3333333333333333,\"#9c179e\"],[0.4444444444444444,\"#bd3786\"],[0.5555555555555556,\"#d8576b\"],[0.6666666666666666,\"#ed7953\"],[0.7777777777777778,\"#fb9f3a\"],[0.8888888888888888,\"#fdca26\"],[1.0,\"#f0f921\"]],\"type\":\"heatmapgl\"}],\"histogram\":[{\"marker\":{\"pattern\":{\"fillmode\":\"overlay\",\"size\":10,\"solidity\":0.2}},\"type\":\"histogram\"}],\"histogram2d\":[{\"colorbar\":{\"outlinewidth\":0,\"ticks\":\"\"},\"colorscale\":[[0.0,\"#0d0887\"],[0.1111111111111111,\"#46039f\"],[0.2222222222222222,\"#7201a8\"],[0.3333333333333333,\"#9c179e\"],[0.4444444444444444,\"#bd3786\"],[0.5555555555555556,\"#d8576b\"],[0.6666666666666666,\"#ed7953\"],[0.7777777777777778,\"#fb9f3a\"],[0.8888888888888888,\"#fdca26\"],[1.0,\"#f0f921\"]],\"type\":\"histogram2d\"}],\"histogram2dcontour\":[{\"colorbar\":{\"outlinewidth\":0,\"ticks\":\"\"},\"colorscale\":[[0.0,\"#0d0887\"],[0.1111111111111111,\"#46039f\"],[0.2222222222222222,\"#7201a8\"],[0.3333333333333333,\"#9c179e\"],[0.4444444444444444,\"#bd3786\"],[0.5555555555555556,\"#d8576b\"],[0.6666666666666666,\"#ed7953\"],[0.7777777777777778,\"#fb9f3a\"],[0.8888888888888888,\"#fdca26\"],[1.0,\"#f0f921\"]],\"type\":\"histogram2dcontour\"}],\"mesh3d\":[{\"colorbar\":{\"outlinewidth\":0,\"ticks\":\"\"},\"type\":\"mesh3d\"}],\"parcoords\":[{\"line\":{\"colorbar\":{\"outlinewidth\":0,\"ticks\":\"\"}},\"type\":\"parcoords\"}],\"pie\":[{\"automargin\":true,\"type\":\"pie\"}],\"scatter\":[{\"marker\":{\"colorbar\":{\"outlinewidth\":0,\"ticks\":\"\"}},\"type\":\"scatter\"}],\"scatter3d\":[{\"line\":{\"colorbar\":{\"outlinewidth\":0,\"ticks\":\"\"}},\"marker\":{\"colorbar\":{\"outlinewidth\":0,\"ticks\":\"\"}},\"type\":\"scatter3d\"}],\"scattercarpet\":[{\"marker\":{\"colorbar\":{\"outlinewidth\":0,\"ticks\":\"\"}},\"type\":\"scattercarpet\"}],\"scattergeo\":[{\"marker\":{\"colorbar\":{\"outlinewidth\":0,\"ticks\":\"\"}},\"type\":\"scattergeo\"}],\"scattergl\":[{\"marker\":{\"colorbar\":{\"outlinewidth\":0,\"ticks\":\"\"}},\"type\":\"scattergl\"}],\"scattermapbox\":[{\"marker\":{\"colorbar\":{\"outlinewidth\":0,\"ticks\":\"\"}},\"type\":\"scattermapbox\"}],\"scatterpolar\":[{\"marker\":{\"colorbar\":{\"outlinewidth\":0,\"ticks\":\"\"}},\"type\":\"scatterpolar\"}],\"scatterpolargl\":[{\"marker\":{\"colorbar\":{\"outlinewidth\":0,\"ticks\":\"\"}},\"type\":\"scatterpolargl\"}],\"scatterternary\":[{\"marker\":{\"colorbar\":{\"outlinewidth\":0,\"ticks\":\"\"}},\"type\":\"scatterternary\"}],\"surface\":[{\"colorbar\":{\"outlinewidth\":0,\"ticks\":\"\"},\"colorscale\":[[0.0,\"#0d0887\"],[0.1111111111111111,\"#46039f\"],[0.2222222222222222,\"#7201a8\"],[0.3333333333333333,\"#9c179e\"],[0.4444444444444444,\"#bd3786\"],[0.5555555555555556,\"#d8576b\"],[0.6666666666666666,\"#ed7953\"],[0.7777777777777778,\"#fb9f3a\"],[0.8888888888888888,\"#fdca26\"],[1.0,\"#f0f921\"]],\"type\":\"surface\"}],\"table\":[{\"cells\":{\"fill\":{\"color\":\"#EBF0F8\"},\"line\":{\"color\":\"white\"}},\"header\":{\"fill\":{\"color\":\"#C8D4E3\"},\"line\":{\"color\":\"white\"}},\"type\":\"table\"}]},\"layout\":{\"annotationdefaults\":{\"arrowcolor\":\"#2a3f5f\",\"arrowhead\":0,\"arrowwidth\":1},\"autotypenumbers\":\"strict\",\"coloraxis\":{\"colorbar\":{\"outlinewidth\":0,\"ticks\":\"\"}},\"colorscale\":{\"diverging\":[[0,\"#8e0152\"],[0.1,\"#c51b7d\"],[0.2,\"#de77ae\"],[0.3,\"#f1b6da\"],[0.4,\"#fde0ef\"],[0.5,\"#f7f7f7\"],[0.6,\"#e6f5d0\"],[0.7,\"#b8e186\"],[0.8,\"#7fbc41\"],[0.9,\"#4d9221\"],[1,\"#276419\"]],\"sequential\":[[0.0,\"#0d0887\"],[0.1111111111111111,\"#46039f\"],[0.2222222222222222,\"#7201a8\"],[0.3333333333333333,\"#9c179e\"],[0.4444444444444444,\"#bd3786\"],[0.5555555555555556,\"#d8576b\"],[0.6666666666666666,\"#ed7953\"],[0.7777777777777778,\"#fb9f3a\"],[0.8888888888888888,\"#fdca26\"],[1.0,\"#f0f921\"]],\"sequentialminus\":[[0.0,\"#0d0887\"],[0.1111111111111111,\"#46039f\"],[0.2222222222222222,\"#7201a8\"],[0.3333333333333333,\"#9c179e\"],[0.4444444444444444,\"#bd3786\"],[0.5555555555555556,\"#d8576b\"],[0.6666666666666666,\"#ed7953\"],[0.7777777777777778,\"#fb9f3a\"],[0.8888888888888888,\"#fdca26\"],[1.0,\"#f0f921\"]]},\"colorway\":[\"#636efa\",\"#EF553B\",\"#00cc96\",\"#ab63fa\",\"#FFA15A\",\"#19d3f3\",\"#FF6692\",\"#B6E880\",\"#FF97FF\",\"#FECB52\"],\"font\":{\"color\":\"#2a3f5f\"},\"geo\":{\"bgcolor\":\"white\",\"lakecolor\":\"white\",\"landcolor\":\"#E5ECF6\",\"showlakes\":true,\"showland\":true,\"subunitcolor\":\"white\"},\"hoverlabel\":{\"align\":\"left\"},\"hovermode\":\"closest\",\"mapbox\":{\"style\":\"light\"},\"paper_bgcolor\":\"white\",\"plot_bgcolor\":\"#E5ECF6\",\"polar\":{\"angularaxis\":{\"gridcolor\":\"white\",\"linecolor\":\"white\",\"ticks\":\"\"},\"bgcolor\":\"#E5ECF6\",\"radialaxis\":{\"gridcolor\":\"white\",\"linecolor\":\"white\",\"ticks\":\"\"}},\"scene\":{\"xaxis\":{\"backgroundcolor\":\"#E5ECF6\",\"gridcolor\":\"white\",\"gridwidth\":2,\"linecolor\":\"white\",\"showbackground\":true,\"ticks\":\"\",\"zerolinecolor\":\"white\"},\"yaxis\":{\"backgroundcolor\":\"#E5ECF6\",\"gridcolor\":\"white\",\"gridwidth\":2,\"linecolor\":\"white\",\"showbackground\":true,\"ticks\":\"\",\"zerolinecolor\":\"white\"},\"zaxis\":{\"backgroundcolor\":\"#E5ECF6\",\"gridcolor\":\"white\",\"gridwidth\":2,\"linecolor\":\"white\",\"showbackground\":true,\"ticks\":\"\",\"zerolinecolor\":\"white\"}},\"shapedefaults\":{\"line\":{\"color\":\"#2a3f5f\"}},\"ternary\":{\"aaxis\":{\"gridcolor\":\"white\",\"linecolor\":\"white\",\"ticks\":\"\"},\"baxis\":{\"gridcolor\":\"white\",\"linecolor\":\"white\",\"ticks\":\"\"},\"bgcolor\":\"#E5ECF6\",\"caxis\":{\"gridcolor\":\"white\",\"linecolor\":\"white\",\"ticks\":\"\"}},\"title\":{\"x\":0.05},\"xaxis\":{\"automargin\":true,\"gridcolor\":\"white\",\"linecolor\":\"white\",\"ticks\":\"\",\"title\":{\"standoff\":15},\"zerolinecolor\":\"white\",\"zerolinewidth\":2},\"yaxis\":{\"automargin\":true,\"gridcolor\":\"white\",\"linecolor\":\"white\",\"ticks\":\"\",\"title\":{\"standoff\":15},\"zerolinecolor\":\"white\",\"zerolinewidth\":2}}}},                        {\"responsive\": true}                    ).then(function(){\n",
       "                            \n",
       "var gd = document.getElementById('0f5cfcdb-6a00-4b66-bde5-0fa5e149543b');\n",
       "var x = new MutationObserver(function (mutations, observer) {{\n",
       "        var display = window.getComputedStyle(gd).display;\n",
       "        if (!display || display === 'none') {{\n",
       "            console.log([gd, 'removed!']);\n",
       "            Plotly.purge(gd);\n",
       "            observer.disconnect();\n",
       "        }}\n",
       "}});\n",
       "\n",
       "// Listen for the removal of the full notebook cells\n",
       "var notebookContainer = gd.closest('#notebook-container');\n",
       "if (notebookContainer) {{\n",
       "    x.observe(notebookContainer, {childList: true});\n",
       "}}\n",
       "\n",
       "// Listen for the clearing of the current output cell\n",
       "var outputEl = gd.closest('.output');\n",
       "if (outputEl) {{\n",
       "    x.observe(outputEl, {childList: true});\n",
       "}}\n",
       "\n",
       "                        })                };                });            </script>        </div>"
      ]
     },
     "metadata": {},
     "output_type": "display_data"
    },
    {
     "name": "stdout",
     "output_type": "stream",
     "text": [
      "charlie dalin a été leader 224 fois \n",
      "Suivi de yannick bestaven qui a été leader 156 fois\n"
     ]
    }
   ],
   "source": [
    "df = df_ranks.loc[df_ranks[\"Rang\"]==1, \"Skipper\"].value_counts()\n",
    "px.pie(values=df, names=df.index.tolist()).show()\n",
    "print(\"{} a été leader {} fois \\nSuivi de {} qui a été leader {} fois\".format(df.index.tolist()[0], df.iloc[0], df.index.tolist()[1], df.iloc[1]))"
   ]
  },
  {
   "cell_type": "markdown",
   "metadata": {},
   "source": [
    "### Distance totale parcourue par Skipper"
   ]
  },
  {
   "cell_type": "code",
   "execution_count": 13,
   "metadata": {},
   "outputs": [
    {
     "data": {
      "application/vnd.plotly.v1+json": {
       "config": {
        "plotlyServerURL": "https://plot.ly"
       },
       "data": [
        {
         "alignmentgroup": "True",
         "hovertemplate": "variable=Distance<br>value=%{x}<br>Skipper=%{y}<extra></extra>",
         "legendgroup": "Distance",
         "marker": {
          "color": "#636efa",
          "pattern": {
           "shape": ""
          }
         },
         "name": "Distance",
         "offsetgroup": "Distance",
         "orientation": "h",
         "showlegend": true,
         "textposition": "auto",
         "type": "bar",
         "x": [
          5274.300000000001,
          10450,
          11118.99999999999,
          11193.200000000006,
          11444.799999999997,
          11478.600000000002,
          18507.69999999999,
          22964.099999999988,
          23421.999999999978,
          23546.000000000004,
          24613.199999999993,
          24944.499999999967,
          25566.400000000016,
          25626.300000000025,
          25848.300000000003,
          26293.500000000015,
          26336.40000000001,
          26392.19999999997,
          26593.999999999996,
          26983.600000000006,
          27844.59999999999,
          28582.900000000016,
          28675.300000000017,
          29230.200000000008,
          29274.30000000004,
          29351.600000000017,
          29398.3,
          29975.09999999999,
          30266.299999999985,
          30273.900000000027,
          30509.700000000015,
          30686.099999999988,
          30848.300000000014
         ],
         "xaxis": "x",
         "y": [
          "nicolas troussel",
          "kevin escoffier",
          "alex thomson",
          "fabrice amedeo",
          "samantha davies",
          "sebastien simon",
          "sebastien destremau",
          "alexia barrier",
          "isabelle joschke",
          "ari huusela",
          "miranda merron",
          "clement giraud",
          "manuel cousin",
          "pip hare",
          "didac costa",
          "arnaud boissieres",
          "alan roura",
          "stephane le diraison",
          "kojiro shiraishi",
          "romain attanasio",
          "clarisse cremer",
          "jeremie beyou",
          "maxime sorel",
          "armel tripon",
          "jean le cam",
          "damien seguin",
          "benjamin dutreux",
          "giancarlo pedote",
          "yannick bestaven",
          "boris herrmann",
          "louis burton",
          "thomas ruyant",
          "charlie dalin"
         ],
         "yaxis": "y"
        }
       ],
       "layout": {
        "barmode": "relative",
        "legend": {
         "title": {
          "text": "variable"
         },
         "tracegroupgap": 0
        },
        "margin": {
         "t": 60
        },
        "template": {
         "data": {
          "bar": [
           {
            "error_x": {
             "color": "#2a3f5f"
            },
            "error_y": {
             "color": "#2a3f5f"
            },
            "marker": {
             "line": {
              "color": "#E5ECF6",
              "width": 0.5
             },
             "pattern": {
              "fillmode": "overlay",
              "size": 10,
              "solidity": 0.2
             }
            },
            "type": "bar"
           }
          ],
          "barpolar": [
           {
            "marker": {
             "line": {
              "color": "#E5ECF6",
              "width": 0.5
             },
             "pattern": {
              "fillmode": "overlay",
              "size": 10,
              "solidity": 0.2
             }
            },
            "type": "barpolar"
           }
          ],
          "carpet": [
           {
            "aaxis": {
             "endlinecolor": "#2a3f5f",
             "gridcolor": "white",
             "linecolor": "white",
             "minorgridcolor": "white",
             "startlinecolor": "#2a3f5f"
            },
            "baxis": {
             "endlinecolor": "#2a3f5f",
             "gridcolor": "white",
             "linecolor": "white",
             "minorgridcolor": "white",
             "startlinecolor": "#2a3f5f"
            },
            "type": "carpet"
           }
          ],
          "choropleth": [
           {
            "colorbar": {
             "outlinewidth": 0,
             "ticks": ""
            },
            "type": "choropleth"
           }
          ],
          "contour": [
           {
            "colorbar": {
             "outlinewidth": 0,
             "ticks": ""
            },
            "colorscale": [
             [
              0,
              "#0d0887"
             ],
             [
              0.1111111111111111,
              "#46039f"
             ],
             [
              0.2222222222222222,
              "#7201a8"
             ],
             [
              0.3333333333333333,
              "#9c179e"
             ],
             [
              0.4444444444444444,
              "#bd3786"
             ],
             [
              0.5555555555555556,
              "#d8576b"
             ],
             [
              0.6666666666666666,
              "#ed7953"
             ],
             [
              0.7777777777777778,
              "#fb9f3a"
             ],
             [
              0.8888888888888888,
              "#fdca26"
             ],
             [
              1,
              "#f0f921"
             ]
            ],
            "type": "contour"
           }
          ],
          "contourcarpet": [
           {
            "colorbar": {
             "outlinewidth": 0,
             "ticks": ""
            },
            "type": "contourcarpet"
           }
          ],
          "heatmap": [
           {
            "colorbar": {
             "outlinewidth": 0,
             "ticks": ""
            },
            "colorscale": [
             [
              0,
              "#0d0887"
             ],
             [
              0.1111111111111111,
              "#46039f"
             ],
             [
              0.2222222222222222,
              "#7201a8"
             ],
             [
              0.3333333333333333,
              "#9c179e"
             ],
             [
              0.4444444444444444,
              "#bd3786"
             ],
             [
              0.5555555555555556,
              "#d8576b"
             ],
             [
              0.6666666666666666,
              "#ed7953"
             ],
             [
              0.7777777777777778,
              "#fb9f3a"
             ],
             [
              0.8888888888888888,
              "#fdca26"
             ],
             [
              1,
              "#f0f921"
             ]
            ],
            "type": "heatmap"
           }
          ],
          "heatmapgl": [
           {
            "colorbar": {
             "outlinewidth": 0,
             "ticks": ""
            },
            "colorscale": [
             [
              0,
              "#0d0887"
             ],
             [
              0.1111111111111111,
              "#46039f"
             ],
             [
              0.2222222222222222,
              "#7201a8"
             ],
             [
              0.3333333333333333,
              "#9c179e"
             ],
             [
              0.4444444444444444,
              "#bd3786"
             ],
             [
              0.5555555555555556,
              "#d8576b"
             ],
             [
              0.6666666666666666,
              "#ed7953"
             ],
             [
              0.7777777777777778,
              "#fb9f3a"
             ],
             [
              0.8888888888888888,
              "#fdca26"
             ],
             [
              1,
              "#f0f921"
             ]
            ],
            "type": "heatmapgl"
           }
          ],
          "histogram": [
           {
            "marker": {
             "pattern": {
              "fillmode": "overlay",
              "size": 10,
              "solidity": 0.2
             }
            },
            "type": "histogram"
           }
          ],
          "histogram2d": [
           {
            "colorbar": {
             "outlinewidth": 0,
             "ticks": ""
            },
            "colorscale": [
             [
              0,
              "#0d0887"
             ],
             [
              0.1111111111111111,
              "#46039f"
             ],
             [
              0.2222222222222222,
              "#7201a8"
             ],
             [
              0.3333333333333333,
              "#9c179e"
             ],
             [
              0.4444444444444444,
              "#bd3786"
             ],
             [
              0.5555555555555556,
              "#d8576b"
             ],
             [
              0.6666666666666666,
              "#ed7953"
             ],
             [
              0.7777777777777778,
              "#fb9f3a"
             ],
             [
              0.8888888888888888,
              "#fdca26"
             ],
             [
              1,
              "#f0f921"
             ]
            ],
            "type": "histogram2d"
           }
          ],
          "histogram2dcontour": [
           {
            "colorbar": {
             "outlinewidth": 0,
             "ticks": ""
            },
            "colorscale": [
             [
              0,
              "#0d0887"
             ],
             [
              0.1111111111111111,
              "#46039f"
             ],
             [
              0.2222222222222222,
              "#7201a8"
             ],
             [
              0.3333333333333333,
              "#9c179e"
             ],
             [
              0.4444444444444444,
              "#bd3786"
             ],
             [
              0.5555555555555556,
              "#d8576b"
             ],
             [
              0.6666666666666666,
              "#ed7953"
             ],
             [
              0.7777777777777778,
              "#fb9f3a"
             ],
             [
              0.8888888888888888,
              "#fdca26"
             ],
             [
              1,
              "#f0f921"
             ]
            ],
            "type": "histogram2dcontour"
           }
          ],
          "mesh3d": [
           {
            "colorbar": {
             "outlinewidth": 0,
             "ticks": ""
            },
            "type": "mesh3d"
           }
          ],
          "parcoords": [
           {
            "line": {
             "colorbar": {
              "outlinewidth": 0,
              "ticks": ""
             }
            },
            "type": "parcoords"
           }
          ],
          "pie": [
           {
            "automargin": true,
            "type": "pie"
           }
          ],
          "scatter": [
           {
            "marker": {
             "colorbar": {
              "outlinewidth": 0,
              "ticks": ""
             }
            },
            "type": "scatter"
           }
          ],
          "scatter3d": [
           {
            "line": {
             "colorbar": {
              "outlinewidth": 0,
              "ticks": ""
             }
            },
            "marker": {
             "colorbar": {
              "outlinewidth": 0,
              "ticks": ""
             }
            },
            "type": "scatter3d"
           }
          ],
          "scattercarpet": [
           {
            "marker": {
             "colorbar": {
              "outlinewidth": 0,
              "ticks": ""
             }
            },
            "type": "scattercarpet"
           }
          ],
          "scattergeo": [
           {
            "marker": {
             "colorbar": {
              "outlinewidth": 0,
              "ticks": ""
             }
            },
            "type": "scattergeo"
           }
          ],
          "scattergl": [
           {
            "marker": {
             "colorbar": {
              "outlinewidth": 0,
              "ticks": ""
             }
            },
            "type": "scattergl"
           }
          ],
          "scattermapbox": [
           {
            "marker": {
             "colorbar": {
              "outlinewidth": 0,
              "ticks": ""
             }
            },
            "type": "scattermapbox"
           }
          ],
          "scatterpolar": [
           {
            "marker": {
             "colorbar": {
              "outlinewidth": 0,
              "ticks": ""
             }
            },
            "type": "scatterpolar"
           }
          ],
          "scatterpolargl": [
           {
            "marker": {
             "colorbar": {
              "outlinewidth": 0,
              "ticks": ""
             }
            },
            "type": "scatterpolargl"
           }
          ],
          "scatterternary": [
           {
            "marker": {
             "colorbar": {
              "outlinewidth": 0,
              "ticks": ""
             }
            },
            "type": "scatterternary"
           }
          ],
          "surface": [
           {
            "colorbar": {
             "outlinewidth": 0,
             "ticks": ""
            },
            "colorscale": [
             [
              0,
              "#0d0887"
             ],
             [
              0.1111111111111111,
              "#46039f"
             ],
             [
              0.2222222222222222,
              "#7201a8"
             ],
             [
              0.3333333333333333,
              "#9c179e"
             ],
             [
              0.4444444444444444,
              "#bd3786"
             ],
             [
              0.5555555555555556,
              "#d8576b"
             ],
             [
              0.6666666666666666,
              "#ed7953"
             ],
             [
              0.7777777777777778,
              "#fb9f3a"
             ],
             [
              0.8888888888888888,
              "#fdca26"
             ],
             [
              1,
              "#f0f921"
             ]
            ],
            "type": "surface"
           }
          ],
          "table": [
           {
            "cells": {
             "fill": {
              "color": "#EBF0F8"
             },
             "line": {
              "color": "white"
             }
            },
            "header": {
             "fill": {
              "color": "#C8D4E3"
             },
             "line": {
              "color": "white"
             }
            },
            "type": "table"
           }
          ]
         },
         "layout": {
          "annotationdefaults": {
           "arrowcolor": "#2a3f5f",
           "arrowhead": 0,
           "arrowwidth": 1
          },
          "autotypenumbers": "strict",
          "coloraxis": {
           "colorbar": {
            "outlinewidth": 0,
            "ticks": ""
           }
          },
          "colorscale": {
           "diverging": [
            [
             0,
             "#8e0152"
            ],
            [
             0.1,
             "#c51b7d"
            ],
            [
             0.2,
             "#de77ae"
            ],
            [
             0.3,
             "#f1b6da"
            ],
            [
             0.4,
             "#fde0ef"
            ],
            [
             0.5,
             "#f7f7f7"
            ],
            [
             0.6,
             "#e6f5d0"
            ],
            [
             0.7,
             "#b8e186"
            ],
            [
             0.8,
             "#7fbc41"
            ],
            [
             0.9,
             "#4d9221"
            ],
            [
             1,
             "#276419"
            ]
           ],
           "sequential": [
            [
             0,
             "#0d0887"
            ],
            [
             0.1111111111111111,
             "#46039f"
            ],
            [
             0.2222222222222222,
             "#7201a8"
            ],
            [
             0.3333333333333333,
             "#9c179e"
            ],
            [
             0.4444444444444444,
             "#bd3786"
            ],
            [
             0.5555555555555556,
             "#d8576b"
            ],
            [
             0.6666666666666666,
             "#ed7953"
            ],
            [
             0.7777777777777778,
             "#fb9f3a"
            ],
            [
             0.8888888888888888,
             "#fdca26"
            ],
            [
             1,
             "#f0f921"
            ]
           ],
           "sequentialminus": [
            [
             0,
             "#0d0887"
            ],
            [
             0.1111111111111111,
             "#46039f"
            ],
            [
             0.2222222222222222,
             "#7201a8"
            ],
            [
             0.3333333333333333,
             "#9c179e"
            ],
            [
             0.4444444444444444,
             "#bd3786"
            ],
            [
             0.5555555555555556,
             "#d8576b"
            ],
            [
             0.6666666666666666,
             "#ed7953"
            ],
            [
             0.7777777777777778,
             "#fb9f3a"
            ],
            [
             0.8888888888888888,
             "#fdca26"
            ],
            [
             1,
             "#f0f921"
            ]
           ]
          },
          "colorway": [
           "#636efa",
           "#EF553B",
           "#00cc96",
           "#ab63fa",
           "#FFA15A",
           "#19d3f3",
           "#FF6692",
           "#B6E880",
           "#FF97FF",
           "#FECB52"
          ],
          "font": {
           "color": "#2a3f5f"
          },
          "geo": {
           "bgcolor": "white",
           "lakecolor": "white",
           "landcolor": "#E5ECF6",
           "showlakes": true,
           "showland": true,
           "subunitcolor": "white"
          },
          "hoverlabel": {
           "align": "left"
          },
          "hovermode": "closest",
          "mapbox": {
           "style": "light"
          },
          "paper_bgcolor": "white",
          "plot_bgcolor": "#E5ECF6",
          "polar": {
           "angularaxis": {
            "gridcolor": "white",
            "linecolor": "white",
            "ticks": ""
           },
           "bgcolor": "#E5ECF6",
           "radialaxis": {
            "gridcolor": "white",
            "linecolor": "white",
            "ticks": ""
           }
          },
          "scene": {
           "xaxis": {
            "backgroundcolor": "#E5ECF6",
            "gridcolor": "white",
            "gridwidth": 2,
            "linecolor": "white",
            "showbackground": true,
            "ticks": "",
            "zerolinecolor": "white"
           },
           "yaxis": {
            "backgroundcolor": "#E5ECF6",
            "gridcolor": "white",
            "gridwidth": 2,
            "linecolor": "white",
            "showbackground": true,
            "ticks": "",
            "zerolinecolor": "white"
           },
           "zaxis": {
            "backgroundcolor": "#E5ECF6",
            "gridcolor": "white",
            "gridwidth": 2,
            "linecolor": "white",
            "showbackground": true,
            "ticks": "",
            "zerolinecolor": "white"
           }
          },
          "shapedefaults": {
           "line": {
            "color": "#2a3f5f"
           }
          },
          "ternary": {
           "aaxis": {
            "gridcolor": "white",
            "linecolor": "white",
            "ticks": ""
           },
           "baxis": {
            "gridcolor": "white",
            "linecolor": "white",
            "ticks": ""
           },
           "bgcolor": "#E5ECF6",
           "caxis": {
            "gridcolor": "white",
            "linecolor": "white",
            "ticks": ""
           }
          },
          "title": {
           "x": 0.05
          },
          "xaxis": {
           "automargin": true,
           "gridcolor": "white",
           "linecolor": "white",
           "ticks": "",
           "title": {
            "standoff": 15
           },
           "zerolinecolor": "white",
           "zerolinewidth": 2
          },
          "yaxis": {
           "automargin": true,
           "gridcolor": "white",
           "linecolor": "white",
           "ticks": "",
           "title": {
            "standoff": 15
           },
           "zerolinecolor": "white",
           "zerolinewidth": 2
          }
         }
        },
        "xaxis": {
         "anchor": "y",
         "domain": [
          0,
          1
         ],
         "title": {
          "text": "value"
         }
        },
        "yaxis": {
         "anchor": "x",
         "domain": [
          0,
          1
         ],
         "title": {
          "text": "Skipper"
         }
        }
       }
      },
      "text/html": [
       "<div>                            <div id=\"b10bbd46-5288-4953-849a-43b218c2cb93\" class=\"plotly-graph-div\" style=\"height:525px; width:100%;\"></div>            <script type=\"text/javascript\">                require([\"plotly\"], function(Plotly) {                    window.PLOTLYENV=window.PLOTLYENV || {};                                    if (document.getElementById(\"b10bbd46-5288-4953-849a-43b218c2cb93\")) {                    Plotly.newPlot(                        \"b10bbd46-5288-4953-849a-43b218c2cb93\",                        [{\"alignmentgroup\":\"True\",\"hovertemplate\":\"variable=Distance<br>value=%{x}<br>Skipper=%{y}<extra></extra>\",\"legendgroup\":\"Distance\",\"marker\":{\"color\":\"#636efa\",\"pattern\":{\"shape\":\"\"}},\"name\":\"Distance\",\"offsetgroup\":\"Distance\",\"orientation\":\"h\",\"showlegend\":true,\"textposition\":\"auto\",\"type\":\"bar\",\"x\":[5274.300000000001,10450.0,11118.99999999999,11193.200000000006,11444.799999999997,11478.600000000002,18507.69999999999,22964.099999999988,23421.999999999978,23546.000000000004,24613.199999999993,24944.499999999967,25566.400000000016,25626.300000000025,25848.300000000003,26293.500000000015,26336.40000000001,26392.19999999997,26593.999999999996,26983.600000000006,27844.59999999999,28582.900000000016,28675.300000000017,29230.200000000008,29274.30000000004,29351.600000000017,29398.3,29975.09999999999,30266.299999999985,30273.900000000027,30509.700000000015,30686.099999999988,30848.300000000014],\"xaxis\":\"x\",\"y\":[\"nicolas troussel\",\"kevin escoffier\",\"alex thomson\",\"fabrice amedeo\",\"samantha davies\",\"sebastien simon\",\"sebastien destremau\",\"alexia barrier\",\"isabelle joschke\",\"ari huusela\",\"miranda merron\",\"clement giraud\",\"manuel cousin\",\"pip hare\",\"didac costa\",\"arnaud boissieres\",\"alan roura\",\"stephane le diraison\",\"kojiro shiraishi\",\"romain attanasio\",\"clarisse cremer\",\"jeremie beyou\",\"maxime sorel\",\"armel tripon\",\"jean le cam\",\"damien seguin\",\"benjamin dutreux\",\"giancarlo pedote\",\"yannick bestaven\",\"boris herrmann\",\"louis burton\",\"thomas ruyant\",\"charlie dalin\"],\"yaxis\":\"y\"}],                        {\"barmode\":\"relative\",\"legend\":{\"title\":{\"text\":\"variable\"},\"tracegroupgap\":0},\"margin\":{\"t\":60},\"template\":{\"data\":{\"bar\":[{\"error_x\":{\"color\":\"#2a3f5f\"},\"error_y\":{\"color\":\"#2a3f5f\"},\"marker\":{\"line\":{\"color\":\"#E5ECF6\",\"width\":0.5},\"pattern\":{\"fillmode\":\"overlay\",\"size\":10,\"solidity\":0.2}},\"type\":\"bar\"}],\"barpolar\":[{\"marker\":{\"line\":{\"color\":\"#E5ECF6\",\"width\":0.5},\"pattern\":{\"fillmode\":\"overlay\",\"size\":10,\"solidity\":0.2}},\"type\":\"barpolar\"}],\"carpet\":[{\"aaxis\":{\"endlinecolor\":\"#2a3f5f\",\"gridcolor\":\"white\",\"linecolor\":\"white\",\"minorgridcolor\":\"white\",\"startlinecolor\":\"#2a3f5f\"},\"baxis\":{\"endlinecolor\":\"#2a3f5f\",\"gridcolor\":\"white\",\"linecolor\":\"white\",\"minorgridcolor\":\"white\",\"startlinecolor\":\"#2a3f5f\"},\"type\":\"carpet\"}],\"choropleth\":[{\"colorbar\":{\"outlinewidth\":0,\"ticks\":\"\"},\"type\":\"choropleth\"}],\"contour\":[{\"colorbar\":{\"outlinewidth\":0,\"ticks\":\"\"},\"colorscale\":[[0.0,\"#0d0887\"],[0.1111111111111111,\"#46039f\"],[0.2222222222222222,\"#7201a8\"],[0.3333333333333333,\"#9c179e\"],[0.4444444444444444,\"#bd3786\"],[0.5555555555555556,\"#d8576b\"],[0.6666666666666666,\"#ed7953\"],[0.7777777777777778,\"#fb9f3a\"],[0.8888888888888888,\"#fdca26\"],[1.0,\"#f0f921\"]],\"type\":\"contour\"}],\"contourcarpet\":[{\"colorbar\":{\"outlinewidth\":0,\"ticks\":\"\"},\"type\":\"contourcarpet\"}],\"heatmap\":[{\"colorbar\":{\"outlinewidth\":0,\"ticks\":\"\"},\"colorscale\":[[0.0,\"#0d0887\"],[0.1111111111111111,\"#46039f\"],[0.2222222222222222,\"#7201a8\"],[0.3333333333333333,\"#9c179e\"],[0.4444444444444444,\"#bd3786\"],[0.5555555555555556,\"#d8576b\"],[0.6666666666666666,\"#ed7953\"],[0.7777777777777778,\"#fb9f3a\"],[0.8888888888888888,\"#fdca26\"],[1.0,\"#f0f921\"]],\"type\":\"heatmap\"}],\"heatmapgl\":[{\"colorbar\":{\"outlinewidth\":0,\"ticks\":\"\"},\"colorscale\":[[0.0,\"#0d0887\"],[0.1111111111111111,\"#46039f\"],[0.2222222222222222,\"#7201a8\"],[0.3333333333333333,\"#9c179e\"],[0.4444444444444444,\"#bd3786\"],[0.5555555555555556,\"#d8576b\"],[0.6666666666666666,\"#ed7953\"],[0.7777777777777778,\"#fb9f3a\"],[0.8888888888888888,\"#fdca26\"],[1.0,\"#f0f921\"]],\"type\":\"heatmapgl\"}],\"histogram\":[{\"marker\":{\"pattern\":{\"fillmode\":\"overlay\",\"size\":10,\"solidity\":0.2}},\"type\":\"histogram\"}],\"histogram2d\":[{\"colorbar\":{\"outlinewidth\":0,\"ticks\":\"\"},\"colorscale\":[[0.0,\"#0d0887\"],[0.1111111111111111,\"#46039f\"],[0.2222222222222222,\"#7201a8\"],[0.3333333333333333,\"#9c179e\"],[0.4444444444444444,\"#bd3786\"],[0.5555555555555556,\"#d8576b\"],[0.6666666666666666,\"#ed7953\"],[0.7777777777777778,\"#fb9f3a\"],[0.8888888888888888,\"#fdca26\"],[1.0,\"#f0f921\"]],\"type\":\"histogram2d\"}],\"histogram2dcontour\":[{\"colorbar\":{\"outlinewidth\":0,\"ticks\":\"\"},\"colorscale\":[[0.0,\"#0d0887\"],[0.1111111111111111,\"#46039f\"],[0.2222222222222222,\"#7201a8\"],[0.3333333333333333,\"#9c179e\"],[0.4444444444444444,\"#bd3786\"],[0.5555555555555556,\"#d8576b\"],[0.6666666666666666,\"#ed7953\"],[0.7777777777777778,\"#fb9f3a\"],[0.8888888888888888,\"#fdca26\"],[1.0,\"#f0f921\"]],\"type\":\"histogram2dcontour\"}],\"mesh3d\":[{\"colorbar\":{\"outlinewidth\":0,\"ticks\":\"\"},\"type\":\"mesh3d\"}],\"parcoords\":[{\"line\":{\"colorbar\":{\"outlinewidth\":0,\"ticks\":\"\"}},\"type\":\"parcoords\"}],\"pie\":[{\"automargin\":true,\"type\":\"pie\"}],\"scatter\":[{\"marker\":{\"colorbar\":{\"outlinewidth\":0,\"ticks\":\"\"}},\"type\":\"scatter\"}],\"scatter3d\":[{\"line\":{\"colorbar\":{\"outlinewidth\":0,\"ticks\":\"\"}},\"marker\":{\"colorbar\":{\"outlinewidth\":0,\"ticks\":\"\"}},\"type\":\"scatter3d\"}],\"scattercarpet\":[{\"marker\":{\"colorbar\":{\"outlinewidth\":0,\"ticks\":\"\"}},\"type\":\"scattercarpet\"}],\"scattergeo\":[{\"marker\":{\"colorbar\":{\"outlinewidth\":0,\"ticks\":\"\"}},\"type\":\"scattergeo\"}],\"scattergl\":[{\"marker\":{\"colorbar\":{\"outlinewidth\":0,\"ticks\":\"\"}},\"type\":\"scattergl\"}],\"scattermapbox\":[{\"marker\":{\"colorbar\":{\"outlinewidth\":0,\"ticks\":\"\"}},\"type\":\"scattermapbox\"}],\"scatterpolar\":[{\"marker\":{\"colorbar\":{\"outlinewidth\":0,\"ticks\":\"\"}},\"type\":\"scatterpolar\"}],\"scatterpolargl\":[{\"marker\":{\"colorbar\":{\"outlinewidth\":0,\"ticks\":\"\"}},\"type\":\"scatterpolargl\"}],\"scatterternary\":[{\"marker\":{\"colorbar\":{\"outlinewidth\":0,\"ticks\":\"\"}},\"type\":\"scatterternary\"}],\"surface\":[{\"colorbar\":{\"outlinewidth\":0,\"ticks\":\"\"},\"colorscale\":[[0.0,\"#0d0887\"],[0.1111111111111111,\"#46039f\"],[0.2222222222222222,\"#7201a8\"],[0.3333333333333333,\"#9c179e\"],[0.4444444444444444,\"#bd3786\"],[0.5555555555555556,\"#d8576b\"],[0.6666666666666666,\"#ed7953\"],[0.7777777777777778,\"#fb9f3a\"],[0.8888888888888888,\"#fdca26\"],[1.0,\"#f0f921\"]],\"type\":\"surface\"}],\"table\":[{\"cells\":{\"fill\":{\"color\":\"#EBF0F8\"},\"line\":{\"color\":\"white\"}},\"header\":{\"fill\":{\"color\":\"#C8D4E3\"},\"line\":{\"color\":\"white\"}},\"type\":\"table\"}]},\"layout\":{\"annotationdefaults\":{\"arrowcolor\":\"#2a3f5f\",\"arrowhead\":0,\"arrowwidth\":1},\"autotypenumbers\":\"strict\",\"coloraxis\":{\"colorbar\":{\"outlinewidth\":0,\"ticks\":\"\"}},\"colorscale\":{\"diverging\":[[0,\"#8e0152\"],[0.1,\"#c51b7d\"],[0.2,\"#de77ae\"],[0.3,\"#f1b6da\"],[0.4,\"#fde0ef\"],[0.5,\"#f7f7f7\"],[0.6,\"#e6f5d0\"],[0.7,\"#b8e186\"],[0.8,\"#7fbc41\"],[0.9,\"#4d9221\"],[1,\"#276419\"]],\"sequential\":[[0.0,\"#0d0887\"],[0.1111111111111111,\"#46039f\"],[0.2222222222222222,\"#7201a8\"],[0.3333333333333333,\"#9c179e\"],[0.4444444444444444,\"#bd3786\"],[0.5555555555555556,\"#d8576b\"],[0.6666666666666666,\"#ed7953\"],[0.7777777777777778,\"#fb9f3a\"],[0.8888888888888888,\"#fdca26\"],[1.0,\"#f0f921\"]],\"sequentialminus\":[[0.0,\"#0d0887\"],[0.1111111111111111,\"#46039f\"],[0.2222222222222222,\"#7201a8\"],[0.3333333333333333,\"#9c179e\"],[0.4444444444444444,\"#bd3786\"],[0.5555555555555556,\"#d8576b\"],[0.6666666666666666,\"#ed7953\"],[0.7777777777777778,\"#fb9f3a\"],[0.8888888888888888,\"#fdca26\"],[1.0,\"#f0f921\"]]},\"colorway\":[\"#636efa\",\"#EF553B\",\"#00cc96\",\"#ab63fa\",\"#FFA15A\",\"#19d3f3\",\"#FF6692\",\"#B6E880\",\"#FF97FF\",\"#FECB52\"],\"font\":{\"color\":\"#2a3f5f\"},\"geo\":{\"bgcolor\":\"white\",\"lakecolor\":\"white\",\"landcolor\":\"#E5ECF6\",\"showlakes\":true,\"showland\":true,\"subunitcolor\":\"white\"},\"hoverlabel\":{\"align\":\"left\"},\"hovermode\":\"closest\",\"mapbox\":{\"style\":\"light\"},\"paper_bgcolor\":\"white\",\"plot_bgcolor\":\"#E5ECF6\",\"polar\":{\"angularaxis\":{\"gridcolor\":\"white\",\"linecolor\":\"white\",\"ticks\":\"\"},\"bgcolor\":\"#E5ECF6\",\"radialaxis\":{\"gridcolor\":\"white\",\"linecolor\":\"white\",\"ticks\":\"\"}},\"scene\":{\"xaxis\":{\"backgroundcolor\":\"#E5ECF6\",\"gridcolor\":\"white\",\"gridwidth\":2,\"linecolor\":\"white\",\"showbackground\":true,\"ticks\":\"\",\"zerolinecolor\":\"white\"},\"yaxis\":{\"backgroundcolor\":\"#E5ECF6\",\"gridcolor\":\"white\",\"gridwidth\":2,\"linecolor\":\"white\",\"showbackground\":true,\"ticks\":\"\",\"zerolinecolor\":\"white\"},\"zaxis\":{\"backgroundcolor\":\"#E5ECF6\",\"gridcolor\":\"white\",\"gridwidth\":2,\"linecolor\":\"white\",\"showbackground\":true,\"ticks\":\"\",\"zerolinecolor\":\"white\"}},\"shapedefaults\":{\"line\":{\"color\":\"#2a3f5f\"}},\"ternary\":{\"aaxis\":{\"gridcolor\":\"white\",\"linecolor\":\"white\",\"ticks\":\"\"},\"baxis\":{\"gridcolor\":\"white\",\"linecolor\":\"white\",\"ticks\":\"\"},\"bgcolor\":\"#E5ECF6\",\"caxis\":{\"gridcolor\":\"white\",\"linecolor\":\"white\",\"ticks\":\"\"}},\"title\":{\"x\":0.05},\"xaxis\":{\"automargin\":true,\"gridcolor\":\"white\",\"linecolor\":\"white\",\"ticks\":\"\",\"title\":{\"standoff\":15},\"zerolinecolor\":\"white\",\"zerolinewidth\":2},\"yaxis\":{\"automargin\":true,\"gridcolor\":\"white\",\"linecolor\":\"white\",\"ticks\":\"\",\"title\":{\"standoff\":15},\"zerolinecolor\":\"white\",\"zerolinewidth\":2}}},\"xaxis\":{\"anchor\":\"y\",\"domain\":[0.0,1.0],\"title\":{\"text\":\"value\"}},\"yaxis\":{\"anchor\":\"x\",\"domain\":[0.0,1.0],\"title\":{\"text\":\"Skipper\"}}},                        {\"responsive\": true}                    ).then(function(){\n",
       "                            \n",
       "var gd = document.getElementById('b10bbd46-5288-4953-849a-43b218c2cb93');\n",
       "var x = new MutationObserver(function (mutations, observer) {{\n",
       "        var display = window.getComputedStyle(gd).display;\n",
       "        if (!display || display === 'none') {{\n",
       "            console.log([gd, 'removed!']);\n",
       "            Plotly.purge(gd);\n",
       "            observer.disconnect();\n",
       "        }}\n",
       "}});\n",
       "\n",
       "// Listen for the removal of the full notebook cells\n",
       "var notebookContainer = gd.closest('#notebook-container');\n",
       "if (notebookContainer) {{\n",
       "    x.observe(notebookContainer, {childList: true});\n",
       "}}\n",
       "\n",
       "// Listen for the clearing of the current output cell\n",
       "var outputEl = gd.closest('.output');\n",
       "if (outputEl) {{\n",
       "    x.observe(outputEl, {childList: true});\n",
       "}}\n",
       "\n",
       "                        })                };                });            </script>        </div>"
      ]
     },
     "metadata": {},
     "output_type": "display_data"
    }
   ],
   "source": [
    "\n",
    "df_dist_total = df_ranks[[(\"Depuis le dernier classement\", \"Distance\"),(\"Skipper\",'')]].pivot_table(columns=\"Skipper\", values=\"Depuis le dernier classement\", aggfunc=sum).squeeze().sort_values()\n",
    "px.bar(df_dist_total, orientation='h', labels={'x':\"Distance totale\", 'y':\"Skipper\"}).show()\n"
   ]
  },
  {
   "cell_type": "markdown",
   "metadata": {},
   "source": [
    "### Plus grande distance parcourue en 24H"
   ]
  },
  {
   "cell_type": "code",
   "execution_count": 15,
   "metadata": {},
   "outputs": [
    {
     "data": {
      "application/vnd.plotly.v1+json": {
       "config": {
        "plotlyServerURL": "https://plot.ly"
       },
       "data": [
        {
         "alignmentgroup": "True",
         "hovertemplate": "variable=0<br>Skipper=%{x}<br>value=%{y}<extra></extra>",
         "legendgroup": "0",
         "marker": {
          "color": "#636efa",
          "pattern": {
           "shape": ""
          }
         },
         "name": "0",
         "offsetgroup": "0",
         "orientation": "v",
         "showlegend": true,
         "textposition": "auto",
         "type": "bar",
         "x": [
          "thomas ruyant",
          "sebastien simon",
          "alex thomson",
          "charlie dalin",
          "armel tripon",
          "yannick bestaven",
          "louis burton",
          "jeremie beyou",
          "arnaud boissieres",
          "boris herrmann",
          "damien seguin",
          "kevin escoffier",
          "kojiro shiraishi",
          "giancarlo pedote",
          "jean le cam",
          "isabelle joschke",
          "benjamin dutreux",
          "clarisse cremer",
          "samantha davies",
          "alan roura",
          "maxime sorel",
          "manuel cousin",
          "pip hare",
          "stephane le diraison",
          "didac costa",
          "romain attanasio",
          "miranda merron",
          "clement giraud",
          "fabrice amedeo",
          "sebastien destremau",
          "alexia barrier",
          "ari huusela",
          "nicolas troussel"
         ],
         "xaxis": "x",
         "y": [
          509.9,
          502.3,
          497,
          496.3,
          495.6,
          481.8,
          478.7,
          476.5,
          468.6,
          464.5,
          454.4,
          452.7,
          452.6,
          451.1,
          450.9,
          445.6,
          443.6,
          442.7,
          442,
          433.4,
          425.4,
          424.4,
          415.8,
          412.1,
          408.6,
          404.5,
          399.9,
          395.6,
          394.3,
          363,
          353.1,
          338.9,
          327.7
         ],
         "yaxis": "y"
        }
       ],
       "layout": {
        "barmode": "relative",
        "legend": {
         "title": {
          "text": "variable"
         },
         "tracegroupgap": 0
        },
        "margin": {
         "t": 60
        },
        "template": {
         "data": {
          "bar": [
           {
            "error_x": {
             "color": "#2a3f5f"
            },
            "error_y": {
             "color": "#2a3f5f"
            },
            "marker": {
             "line": {
              "color": "#E5ECF6",
              "width": 0.5
             },
             "pattern": {
              "fillmode": "overlay",
              "size": 10,
              "solidity": 0.2
             }
            },
            "type": "bar"
           }
          ],
          "barpolar": [
           {
            "marker": {
             "line": {
              "color": "#E5ECF6",
              "width": 0.5
             },
             "pattern": {
              "fillmode": "overlay",
              "size": 10,
              "solidity": 0.2
             }
            },
            "type": "barpolar"
           }
          ],
          "carpet": [
           {
            "aaxis": {
             "endlinecolor": "#2a3f5f",
             "gridcolor": "white",
             "linecolor": "white",
             "minorgridcolor": "white",
             "startlinecolor": "#2a3f5f"
            },
            "baxis": {
             "endlinecolor": "#2a3f5f",
             "gridcolor": "white",
             "linecolor": "white",
             "minorgridcolor": "white",
             "startlinecolor": "#2a3f5f"
            },
            "type": "carpet"
           }
          ],
          "choropleth": [
           {
            "colorbar": {
             "outlinewidth": 0,
             "ticks": ""
            },
            "type": "choropleth"
           }
          ],
          "contour": [
           {
            "colorbar": {
             "outlinewidth": 0,
             "ticks": ""
            },
            "colorscale": [
             [
              0,
              "#0d0887"
             ],
             [
              0.1111111111111111,
              "#46039f"
             ],
             [
              0.2222222222222222,
              "#7201a8"
             ],
             [
              0.3333333333333333,
              "#9c179e"
             ],
             [
              0.4444444444444444,
              "#bd3786"
             ],
             [
              0.5555555555555556,
              "#d8576b"
             ],
             [
              0.6666666666666666,
              "#ed7953"
             ],
             [
              0.7777777777777778,
              "#fb9f3a"
             ],
             [
              0.8888888888888888,
              "#fdca26"
             ],
             [
              1,
              "#f0f921"
             ]
            ],
            "type": "contour"
           }
          ],
          "contourcarpet": [
           {
            "colorbar": {
             "outlinewidth": 0,
             "ticks": ""
            },
            "type": "contourcarpet"
           }
          ],
          "heatmap": [
           {
            "colorbar": {
             "outlinewidth": 0,
             "ticks": ""
            },
            "colorscale": [
             [
              0,
              "#0d0887"
             ],
             [
              0.1111111111111111,
              "#46039f"
             ],
             [
              0.2222222222222222,
              "#7201a8"
             ],
             [
              0.3333333333333333,
              "#9c179e"
             ],
             [
              0.4444444444444444,
              "#bd3786"
             ],
             [
              0.5555555555555556,
              "#d8576b"
             ],
             [
              0.6666666666666666,
              "#ed7953"
             ],
             [
              0.7777777777777778,
              "#fb9f3a"
             ],
             [
              0.8888888888888888,
              "#fdca26"
             ],
             [
              1,
              "#f0f921"
             ]
            ],
            "type": "heatmap"
           }
          ],
          "heatmapgl": [
           {
            "colorbar": {
             "outlinewidth": 0,
             "ticks": ""
            },
            "colorscale": [
             [
              0,
              "#0d0887"
             ],
             [
              0.1111111111111111,
              "#46039f"
             ],
             [
              0.2222222222222222,
              "#7201a8"
             ],
             [
              0.3333333333333333,
              "#9c179e"
             ],
             [
              0.4444444444444444,
              "#bd3786"
             ],
             [
              0.5555555555555556,
              "#d8576b"
             ],
             [
              0.6666666666666666,
              "#ed7953"
             ],
             [
              0.7777777777777778,
              "#fb9f3a"
             ],
             [
              0.8888888888888888,
              "#fdca26"
             ],
             [
              1,
              "#f0f921"
             ]
            ],
            "type": "heatmapgl"
           }
          ],
          "histogram": [
           {
            "marker": {
             "pattern": {
              "fillmode": "overlay",
              "size": 10,
              "solidity": 0.2
             }
            },
            "type": "histogram"
           }
          ],
          "histogram2d": [
           {
            "colorbar": {
             "outlinewidth": 0,
             "ticks": ""
            },
            "colorscale": [
             [
              0,
              "#0d0887"
             ],
             [
              0.1111111111111111,
              "#46039f"
             ],
             [
              0.2222222222222222,
              "#7201a8"
             ],
             [
              0.3333333333333333,
              "#9c179e"
             ],
             [
              0.4444444444444444,
              "#bd3786"
             ],
             [
              0.5555555555555556,
              "#d8576b"
             ],
             [
              0.6666666666666666,
              "#ed7953"
             ],
             [
              0.7777777777777778,
              "#fb9f3a"
             ],
             [
              0.8888888888888888,
              "#fdca26"
             ],
             [
              1,
              "#f0f921"
             ]
            ],
            "type": "histogram2d"
           }
          ],
          "histogram2dcontour": [
           {
            "colorbar": {
             "outlinewidth": 0,
             "ticks": ""
            },
            "colorscale": [
             [
              0,
              "#0d0887"
             ],
             [
              0.1111111111111111,
              "#46039f"
             ],
             [
              0.2222222222222222,
              "#7201a8"
             ],
             [
              0.3333333333333333,
              "#9c179e"
             ],
             [
              0.4444444444444444,
              "#bd3786"
             ],
             [
              0.5555555555555556,
              "#d8576b"
             ],
             [
              0.6666666666666666,
              "#ed7953"
             ],
             [
              0.7777777777777778,
              "#fb9f3a"
             ],
             [
              0.8888888888888888,
              "#fdca26"
             ],
             [
              1,
              "#f0f921"
             ]
            ],
            "type": "histogram2dcontour"
           }
          ],
          "mesh3d": [
           {
            "colorbar": {
             "outlinewidth": 0,
             "ticks": ""
            },
            "type": "mesh3d"
           }
          ],
          "parcoords": [
           {
            "line": {
             "colorbar": {
              "outlinewidth": 0,
              "ticks": ""
             }
            },
            "type": "parcoords"
           }
          ],
          "pie": [
           {
            "automargin": true,
            "type": "pie"
           }
          ],
          "scatter": [
           {
            "marker": {
             "colorbar": {
              "outlinewidth": 0,
              "ticks": ""
             }
            },
            "type": "scatter"
           }
          ],
          "scatter3d": [
           {
            "line": {
             "colorbar": {
              "outlinewidth": 0,
              "ticks": ""
             }
            },
            "marker": {
             "colorbar": {
              "outlinewidth": 0,
              "ticks": ""
             }
            },
            "type": "scatter3d"
           }
          ],
          "scattercarpet": [
           {
            "marker": {
             "colorbar": {
              "outlinewidth": 0,
              "ticks": ""
             }
            },
            "type": "scattercarpet"
           }
          ],
          "scattergeo": [
           {
            "marker": {
             "colorbar": {
              "outlinewidth": 0,
              "ticks": ""
             }
            },
            "type": "scattergeo"
           }
          ],
          "scattergl": [
           {
            "marker": {
             "colorbar": {
              "outlinewidth": 0,
              "ticks": ""
             }
            },
            "type": "scattergl"
           }
          ],
          "scattermapbox": [
           {
            "marker": {
             "colorbar": {
              "outlinewidth": 0,
              "ticks": ""
             }
            },
            "type": "scattermapbox"
           }
          ],
          "scatterpolar": [
           {
            "marker": {
             "colorbar": {
              "outlinewidth": 0,
              "ticks": ""
             }
            },
            "type": "scatterpolar"
           }
          ],
          "scatterpolargl": [
           {
            "marker": {
             "colorbar": {
              "outlinewidth": 0,
              "ticks": ""
             }
            },
            "type": "scatterpolargl"
           }
          ],
          "scatterternary": [
           {
            "marker": {
             "colorbar": {
              "outlinewidth": 0,
              "ticks": ""
             }
            },
            "type": "scatterternary"
           }
          ],
          "surface": [
           {
            "colorbar": {
             "outlinewidth": 0,
             "ticks": ""
            },
            "colorscale": [
             [
              0,
              "#0d0887"
             ],
             [
              0.1111111111111111,
              "#46039f"
             ],
             [
              0.2222222222222222,
              "#7201a8"
             ],
             [
              0.3333333333333333,
              "#9c179e"
             ],
             [
              0.4444444444444444,
              "#bd3786"
             ],
             [
              0.5555555555555556,
              "#d8576b"
             ],
             [
              0.6666666666666666,
              "#ed7953"
             ],
             [
              0.7777777777777778,
              "#fb9f3a"
             ],
             [
              0.8888888888888888,
              "#fdca26"
             ],
             [
              1,
              "#f0f921"
             ]
            ],
            "type": "surface"
           }
          ],
          "table": [
           {
            "cells": {
             "fill": {
              "color": "#EBF0F8"
             },
             "line": {
              "color": "white"
             }
            },
            "header": {
             "fill": {
              "color": "#C8D4E3"
             },
             "line": {
              "color": "white"
             }
            },
            "type": "table"
           }
          ]
         },
         "layout": {
          "annotationdefaults": {
           "arrowcolor": "#2a3f5f",
           "arrowhead": 0,
           "arrowwidth": 1
          },
          "autotypenumbers": "strict",
          "coloraxis": {
           "colorbar": {
            "outlinewidth": 0,
            "ticks": ""
           }
          },
          "colorscale": {
           "diverging": [
            [
             0,
             "#8e0152"
            ],
            [
             0.1,
             "#c51b7d"
            ],
            [
             0.2,
             "#de77ae"
            ],
            [
             0.3,
             "#f1b6da"
            ],
            [
             0.4,
             "#fde0ef"
            ],
            [
             0.5,
             "#f7f7f7"
            ],
            [
             0.6,
             "#e6f5d0"
            ],
            [
             0.7,
             "#b8e186"
            ],
            [
             0.8,
             "#7fbc41"
            ],
            [
             0.9,
             "#4d9221"
            ],
            [
             1,
             "#276419"
            ]
           ],
           "sequential": [
            [
             0,
             "#0d0887"
            ],
            [
             0.1111111111111111,
             "#46039f"
            ],
            [
             0.2222222222222222,
             "#7201a8"
            ],
            [
             0.3333333333333333,
             "#9c179e"
            ],
            [
             0.4444444444444444,
             "#bd3786"
            ],
            [
             0.5555555555555556,
             "#d8576b"
            ],
            [
             0.6666666666666666,
             "#ed7953"
            ],
            [
             0.7777777777777778,
             "#fb9f3a"
            ],
            [
             0.8888888888888888,
             "#fdca26"
            ],
            [
             1,
             "#f0f921"
            ]
           ],
           "sequentialminus": [
            [
             0,
             "#0d0887"
            ],
            [
             0.1111111111111111,
             "#46039f"
            ],
            [
             0.2222222222222222,
             "#7201a8"
            ],
            [
             0.3333333333333333,
             "#9c179e"
            ],
            [
             0.4444444444444444,
             "#bd3786"
            ],
            [
             0.5555555555555556,
             "#d8576b"
            ],
            [
             0.6666666666666666,
             "#ed7953"
            ],
            [
             0.7777777777777778,
             "#fb9f3a"
            ],
            [
             0.8888888888888888,
             "#fdca26"
            ],
            [
             1,
             "#f0f921"
            ]
           ]
          },
          "colorway": [
           "#636efa",
           "#EF553B",
           "#00cc96",
           "#ab63fa",
           "#FFA15A",
           "#19d3f3",
           "#FF6692",
           "#B6E880",
           "#FF97FF",
           "#FECB52"
          ],
          "font": {
           "color": "#2a3f5f"
          },
          "geo": {
           "bgcolor": "white",
           "lakecolor": "white",
           "landcolor": "#E5ECF6",
           "showlakes": true,
           "showland": true,
           "subunitcolor": "white"
          },
          "hoverlabel": {
           "align": "left"
          },
          "hovermode": "closest",
          "mapbox": {
           "style": "light"
          },
          "paper_bgcolor": "white",
          "plot_bgcolor": "#E5ECF6",
          "polar": {
           "angularaxis": {
            "gridcolor": "white",
            "linecolor": "white",
            "ticks": ""
           },
           "bgcolor": "#E5ECF6",
           "radialaxis": {
            "gridcolor": "white",
            "linecolor": "white",
            "ticks": ""
           }
          },
          "scene": {
           "xaxis": {
            "backgroundcolor": "#E5ECF6",
            "gridcolor": "white",
            "gridwidth": 2,
            "linecolor": "white",
            "showbackground": true,
            "ticks": "",
            "zerolinecolor": "white"
           },
           "yaxis": {
            "backgroundcolor": "#E5ECF6",
            "gridcolor": "white",
            "gridwidth": 2,
            "linecolor": "white",
            "showbackground": true,
            "ticks": "",
            "zerolinecolor": "white"
           },
           "zaxis": {
            "backgroundcolor": "#E5ECF6",
            "gridcolor": "white",
            "gridwidth": 2,
            "linecolor": "white",
            "showbackground": true,
            "ticks": "",
            "zerolinecolor": "white"
           }
          },
          "shapedefaults": {
           "line": {
            "color": "#2a3f5f"
           }
          },
          "ternary": {
           "aaxis": {
            "gridcolor": "white",
            "linecolor": "white",
            "ticks": ""
           },
           "baxis": {
            "gridcolor": "white",
            "linecolor": "white",
            "ticks": ""
           },
           "bgcolor": "#E5ECF6",
           "caxis": {
            "gridcolor": "white",
            "linecolor": "white",
            "ticks": ""
           }
          },
          "title": {
           "x": 0.05
          },
          "xaxis": {
           "automargin": true,
           "gridcolor": "white",
           "linecolor": "white",
           "ticks": "",
           "title": {
            "standoff": 15
           },
           "zerolinecolor": "white",
           "zerolinewidth": 2
          },
          "yaxis": {
           "automargin": true,
           "gridcolor": "white",
           "linecolor": "white",
           "ticks": "",
           "title": {
            "standoff": 15
           },
           "zerolinecolor": "white",
           "zerolinewidth": 2
          }
         }
        },
        "xaxis": {
         "anchor": "y",
         "domain": [
          0,
          1
         ],
         "title": {
          "text": "Skipper"
         }
        },
        "yaxis": {
         "anchor": "x",
         "domain": [
          0,
          1
         ],
         "title": {
          "text": "distance (nm) parcourue en 24H"
         }
        }
       }
      },
      "text/html": [
       "<div>                            <div id=\"f1a754fa-8a62-4365-ae18-1727bcc18f5c\" class=\"plotly-graph-div\" style=\"height:525px; width:100%;\"></div>            <script type=\"text/javascript\">                require([\"plotly\"], function(Plotly) {                    window.PLOTLYENV=window.PLOTLYENV || {};                                    if (document.getElementById(\"f1a754fa-8a62-4365-ae18-1727bcc18f5c\")) {                    Plotly.newPlot(                        \"f1a754fa-8a62-4365-ae18-1727bcc18f5c\",                        [{\"alignmentgroup\":\"True\",\"hovertemplate\":\"variable=0<br>Skipper=%{x}<br>value=%{y}<extra></extra>\",\"legendgroup\":\"0\",\"marker\":{\"color\":\"#636efa\",\"pattern\":{\"shape\":\"\"}},\"name\":\"0\",\"offsetgroup\":\"0\",\"orientation\":\"v\",\"showlegend\":true,\"textposition\":\"auto\",\"type\":\"bar\",\"x\":[\"thomas ruyant\",\"sebastien simon\",\"alex thomson\",\"charlie dalin\",\"armel tripon\",\"yannick bestaven\",\"louis burton\",\"jeremie beyou\",\"arnaud boissieres\",\"boris herrmann\",\"damien seguin\",\"kevin escoffier\",\"kojiro shiraishi\",\"giancarlo pedote\",\"jean le cam\",\"isabelle joschke\",\"benjamin dutreux\",\"clarisse cremer\",\"samantha davies\",\"alan roura\",\"maxime sorel\",\"manuel cousin\",\"pip hare\",\"stephane le diraison\",\"didac costa\",\"romain attanasio\",\"miranda merron\",\"clement giraud\",\"fabrice amedeo\",\"sebastien destremau\",\"alexia barrier\",\"ari huusela\",\"nicolas troussel\"],\"xaxis\":\"x\",\"y\":[509.9,502.3,497.0,496.3,495.6,481.8,478.7,476.5,468.6,464.5,454.4,452.7,452.6,451.1,450.9,445.6,443.6,442.7,442.0,433.4,425.4,424.4,415.8,412.1,408.6,404.5,399.9,395.6,394.3,363.0,353.1,338.9,327.7],\"yaxis\":\"y\"}],                        {\"barmode\":\"relative\",\"legend\":{\"title\":{\"text\":\"variable\"},\"tracegroupgap\":0},\"margin\":{\"t\":60},\"template\":{\"data\":{\"bar\":[{\"error_x\":{\"color\":\"#2a3f5f\"},\"error_y\":{\"color\":\"#2a3f5f\"},\"marker\":{\"line\":{\"color\":\"#E5ECF6\",\"width\":0.5},\"pattern\":{\"fillmode\":\"overlay\",\"size\":10,\"solidity\":0.2}},\"type\":\"bar\"}],\"barpolar\":[{\"marker\":{\"line\":{\"color\":\"#E5ECF6\",\"width\":0.5},\"pattern\":{\"fillmode\":\"overlay\",\"size\":10,\"solidity\":0.2}},\"type\":\"barpolar\"}],\"carpet\":[{\"aaxis\":{\"endlinecolor\":\"#2a3f5f\",\"gridcolor\":\"white\",\"linecolor\":\"white\",\"minorgridcolor\":\"white\",\"startlinecolor\":\"#2a3f5f\"},\"baxis\":{\"endlinecolor\":\"#2a3f5f\",\"gridcolor\":\"white\",\"linecolor\":\"white\",\"minorgridcolor\":\"white\",\"startlinecolor\":\"#2a3f5f\"},\"type\":\"carpet\"}],\"choropleth\":[{\"colorbar\":{\"outlinewidth\":0,\"ticks\":\"\"},\"type\":\"choropleth\"}],\"contour\":[{\"colorbar\":{\"outlinewidth\":0,\"ticks\":\"\"},\"colorscale\":[[0.0,\"#0d0887\"],[0.1111111111111111,\"#46039f\"],[0.2222222222222222,\"#7201a8\"],[0.3333333333333333,\"#9c179e\"],[0.4444444444444444,\"#bd3786\"],[0.5555555555555556,\"#d8576b\"],[0.6666666666666666,\"#ed7953\"],[0.7777777777777778,\"#fb9f3a\"],[0.8888888888888888,\"#fdca26\"],[1.0,\"#f0f921\"]],\"type\":\"contour\"}],\"contourcarpet\":[{\"colorbar\":{\"outlinewidth\":0,\"ticks\":\"\"},\"type\":\"contourcarpet\"}],\"heatmap\":[{\"colorbar\":{\"outlinewidth\":0,\"ticks\":\"\"},\"colorscale\":[[0.0,\"#0d0887\"],[0.1111111111111111,\"#46039f\"],[0.2222222222222222,\"#7201a8\"],[0.3333333333333333,\"#9c179e\"],[0.4444444444444444,\"#bd3786\"],[0.5555555555555556,\"#d8576b\"],[0.6666666666666666,\"#ed7953\"],[0.7777777777777778,\"#fb9f3a\"],[0.8888888888888888,\"#fdca26\"],[1.0,\"#f0f921\"]],\"type\":\"heatmap\"}],\"heatmapgl\":[{\"colorbar\":{\"outlinewidth\":0,\"ticks\":\"\"},\"colorscale\":[[0.0,\"#0d0887\"],[0.1111111111111111,\"#46039f\"],[0.2222222222222222,\"#7201a8\"],[0.3333333333333333,\"#9c179e\"],[0.4444444444444444,\"#bd3786\"],[0.5555555555555556,\"#d8576b\"],[0.6666666666666666,\"#ed7953\"],[0.7777777777777778,\"#fb9f3a\"],[0.8888888888888888,\"#fdca26\"],[1.0,\"#f0f921\"]],\"type\":\"heatmapgl\"}],\"histogram\":[{\"marker\":{\"pattern\":{\"fillmode\":\"overlay\",\"size\":10,\"solidity\":0.2}},\"type\":\"histogram\"}],\"histogram2d\":[{\"colorbar\":{\"outlinewidth\":0,\"ticks\":\"\"},\"colorscale\":[[0.0,\"#0d0887\"],[0.1111111111111111,\"#46039f\"],[0.2222222222222222,\"#7201a8\"],[0.3333333333333333,\"#9c179e\"],[0.4444444444444444,\"#bd3786\"],[0.5555555555555556,\"#d8576b\"],[0.6666666666666666,\"#ed7953\"],[0.7777777777777778,\"#fb9f3a\"],[0.8888888888888888,\"#fdca26\"],[1.0,\"#f0f921\"]],\"type\":\"histogram2d\"}],\"histogram2dcontour\":[{\"colorbar\":{\"outlinewidth\":0,\"ticks\":\"\"},\"colorscale\":[[0.0,\"#0d0887\"],[0.1111111111111111,\"#46039f\"],[0.2222222222222222,\"#7201a8\"],[0.3333333333333333,\"#9c179e\"],[0.4444444444444444,\"#bd3786\"],[0.5555555555555556,\"#d8576b\"],[0.6666666666666666,\"#ed7953\"],[0.7777777777777778,\"#fb9f3a\"],[0.8888888888888888,\"#fdca26\"],[1.0,\"#f0f921\"]],\"type\":\"histogram2dcontour\"}],\"mesh3d\":[{\"colorbar\":{\"outlinewidth\":0,\"ticks\":\"\"},\"type\":\"mesh3d\"}],\"parcoords\":[{\"line\":{\"colorbar\":{\"outlinewidth\":0,\"ticks\":\"\"}},\"type\":\"parcoords\"}],\"pie\":[{\"automargin\":true,\"type\":\"pie\"}],\"scatter\":[{\"marker\":{\"colorbar\":{\"outlinewidth\":0,\"ticks\":\"\"}},\"type\":\"scatter\"}],\"scatter3d\":[{\"line\":{\"colorbar\":{\"outlinewidth\":0,\"ticks\":\"\"}},\"marker\":{\"colorbar\":{\"outlinewidth\":0,\"ticks\":\"\"}},\"type\":\"scatter3d\"}],\"scattercarpet\":[{\"marker\":{\"colorbar\":{\"outlinewidth\":0,\"ticks\":\"\"}},\"type\":\"scattercarpet\"}],\"scattergeo\":[{\"marker\":{\"colorbar\":{\"outlinewidth\":0,\"ticks\":\"\"}},\"type\":\"scattergeo\"}],\"scattergl\":[{\"marker\":{\"colorbar\":{\"outlinewidth\":0,\"ticks\":\"\"}},\"type\":\"scattergl\"}],\"scattermapbox\":[{\"marker\":{\"colorbar\":{\"outlinewidth\":0,\"ticks\":\"\"}},\"type\":\"scattermapbox\"}],\"scatterpolar\":[{\"marker\":{\"colorbar\":{\"outlinewidth\":0,\"ticks\":\"\"}},\"type\":\"scatterpolar\"}],\"scatterpolargl\":[{\"marker\":{\"colorbar\":{\"outlinewidth\":0,\"ticks\":\"\"}},\"type\":\"scatterpolargl\"}],\"scatterternary\":[{\"marker\":{\"colorbar\":{\"outlinewidth\":0,\"ticks\":\"\"}},\"type\":\"scatterternary\"}],\"surface\":[{\"colorbar\":{\"outlinewidth\":0,\"ticks\":\"\"},\"colorscale\":[[0.0,\"#0d0887\"],[0.1111111111111111,\"#46039f\"],[0.2222222222222222,\"#7201a8\"],[0.3333333333333333,\"#9c179e\"],[0.4444444444444444,\"#bd3786\"],[0.5555555555555556,\"#d8576b\"],[0.6666666666666666,\"#ed7953\"],[0.7777777777777778,\"#fb9f3a\"],[0.8888888888888888,\"#fdca26\"],[1.0,\"#f0f921\"]],\"type\":\"surface\"}],\"table\":[{\"cells\":{\"fill\":{\"color\":\"#EBF0F8\"},\"line\":{\"color\":\"white\"}},\"header\":{\"fill\":{\"color\":\"#C8D4E3\"},\"line\":{\"color\":\"white\"}},\"type\":\"table\"}]},\"layout\":{\"annotationdefaults\":{\"arrowcolor\":\"#2a3f5f\",\"arrowhead\":0,\"arrowwidth\":1},\"autotypenumbers\":\"strict\",\"coloraxis\":{\"colorbar\":{\"outlinewidth\":0,\"ticks\":\"\"}},\"colorscale\":{\"diverging\":[[0,\"#8e0152\"],[0.1,\"#c51b7d\"],[0.2,\"#de77ae\"],[0.3,\"#f1b6da\"],[0.4,\"#fde0ef\"],[0.5,\"#f7f7f7\"],[0.6,\"#e6f5d0\"],[0.7,\"#b8e186\"],[0.8,\"#7fbc41\"],[0.9,\"#4d9221\"],[1,\"#276419\"]],\"sequential\":[[0.0,\"#0d0887\"],[0.1111111111111111,\"#46039f\"],[0.2222222222222222,\"#7201a8\"],[0.3333333333333333,\"#9c179e\"],[0.4444444444444444,\"#bd3786\"],[0.5555555555555556,\"#d8576b\"],[0.6666666666666666,\"#ed7953\"],[0.7777777777777778,\"#fb9f3a\"],[0.8888888888888888,\"#fdca26\"],[1.0,\"#f0f921\"]],\"sequentialminus\":[[0.0,\"#0d0887\"],[0.1111111111111111,\"#46039f\"],[0.2222222222222222,\"#7201a8\"],[0.3333333333333333,\"#9c179e\"],[0.4444444444444444,\"#bd3786\"],[0.5555555555555556,\"#d8576b\"],[0.6666666666666666,\"#ed7953\"],[0.7777777777777778,\"#fb9f3a\"],[0.8888888888888888,\"#fdca26\"],[1.0,\"#f0f921\"]]},\"colorway\":[\"#636efa\",\"#EF553B\",\"#00cc96\",\"#ab63fa\",\"#FFA15A\",\"#19d3f3\",\"#FF6692\",\"#B6E880\",\"#FF97FF\",\"#FECB52\"],\"font\":{\"color\":\"#2a3f5f\"},\"geo\":{\"bgcolor\":\"white\",\"lakecolor\":\"white\",\"landcolor\":\"#E5ECF6\",\"showlakes\":true,\"showland\":true,\"subunitcolor\":\"white\"},\"hoverlabel\":{\"align\":\"left\"},\"hovermode\":\"closest\",\"mapbox\":{\"style\":\"light\"},\"paper_bgcolor\":\"white\",\"plot_bgcolor\":\"#E5ECF6\",\"polar\":{\"angularaxis\":{\"gridcolor\":\"white\",\"linecolor\":\"white\",\"ticks\":\"\"},\"bgcolor\":\"#E5ECF6\",\"radialaxis\":{\"gridcolor\":\"white\",\"linecolor\":\"white\",\"ticks\":\"\"}},\"scene\":{\"xaxis\":{\"backgroundcolor\":\"#E5ECF6\",\"gridcolor\":\"white\",\"gridwidth\":2,\"linecolor\":\"white\",\"showbackground\":true,\"ticks\":\"\",\"zerolinecolor\":\"white\"},\"yaxis\":{\"backgroundcolor\":\"#E5ECF6\",\"gridcolor\":\"white\",\"gridwidth\":2,\"linecolor\":\"white\",\"showbackground\":true,\"ticks\":\"\",\"zerolinecolor\":\"white\"},\"zaxis\":{\"backgroundcolor\":\"#E5ECF6\",\"gridcolor\":\"white\",\"gridwidth\":2,\"linecolor\":\"white\",\"showbackground\":true,\"ticks\":\"\",\"zerolinecolor\":\"white\"}},\"shapedefaults\":{\"line\":{\"color\":\"#2a3f5f\"}},\"ternary\":{\"aaxis\":{\"gridcolor\":\"white\",\"linecolor\":\"white\",\"ticks\":\"\"},\"baxis\":{\"gridcolor\":\"white\",\"linecolor\":\"white\",\"ticks\":\"\"},\"bgcolor\":\"#E5ECF6\",\"caxis\":{\"gridcolor\":\"white\",\"linecolor\":\"white\",\"ticks\":\"\"}},\"title\":{\"x\":0.05},\"xaxis\":{\"automargin\":true,\"gridcolor\":\"white\",\"linecolor\":\"white\",\"ticks\":\"\",\"title\":{\"standoff\":15},\"zerolinecolor\":\"white\",\"zerolinewidth\":2},\"yaxis\":{\"automargin\":true,\"gridcolor\":\"white\",\"linecolor\":\"white\",\"ticks\":\"\",\"title\":{\"standoff\":15},\"zerolinecolor\":\"white\",\"zerolinewidth\":2}}},\"xaxis\":{\"anchor\":\"y\",\"domain\":[0.0,1.0],\"title\":{\"text\":\"Skipper\"}},\"yaxis\":{\"anchor\":\"x\",\"domain\":[0.0,1.0],\"title\":{\"text\":\"distance (nm) parcourue en 24H\"}}},                        {\"responsive\": true}                    ).then(function(){\n",
       "                            \n",
       "var gd = document.getElementById('f1a754fa-8a62-4365-ae18-1727bcc18f5c');\n",
       "var x = new MutationObserver(function (mutations, observer) {{\n",
       "        var display = window.getComputedStyle(gd).display;\n",
       "        if (!display || display === 'none') {{\n",
       "            console.log([gd, 'removed!']);\n",
       "            Plotly.purge(gd);\n",
       "            observer.disconnect();\n",
       "        }}\n",
       "}});\n",
       "\n",
       "// Listen for the removal of the full notebook cells\n",
       "var notebookContainer = gd.closest('#notebook-container');\n",
       "if (notebookContainer) {{\n",
       "    x.observe(notebookContainer, {childList: true});\n",
       "}}\n",
       "\n",
       "// Listen for the clearing of the current output cell\n",
       "var outputEl = gd.closest('.output');\n",
       "if (outputEl) {{\n",
       "    x.observe(outputEl, {childList: true});\n",
       "}}\n",
       "\n",
       "                        })                };                });            </script>        </div>"
      ]
     },
     "metadata": {},
     "output_type": "display_data"
    }
   ],
   "source": [
    "dates = pd.date_range(start=df_ranks.index.get_level_values(0)[0], end=df_ranks.index.get_level_values(0)[-1], freq='D')\n",
    "df_dist = df_ranks.loc[dates,[(\"Depuis 24 heures\", \"Distance\"), (\"Skipper\",\"\")]].droplevel(1).pivot(columns=\"Skipper\", values=(\"Depuis 24 heures\", \"Distance\")).fillna(0).max().sort_values(ascending=False).squeeze()\n",
    "px.bar(df_dist).update_layout(yaxis_title=\"distance (nm) parcourue en 24H\").show()"
   ]
  },
  {
   "cell_type": "markdown",
   "metadata": {},
   "source": [
    "### Meilleure vitesse sur 24H"
   ]
  },
  {
   "cell_type": "code",
   "execution_count": 17,
   "metadata": {},
   "outputs": [
    {
     "data": {
      "application/vnd.plotly.v1+json": {
       "config": {
        "plotlyServerURL": "https://plot.ly"
       },
       "data": [
        {
         "alignmentgroup": "True",
         "hovertemplate": "variable=0<br>Skipper=%{x}<br>value=%{y}<extra></extra>",
         "legendgroup": "0",
         "marker": {
          "color": "#636efa",
          "pattern": {
           "shape": ""
          }
         },
         "name": "0",
         "offsetgroup": "0",
         "orientation": "v",
         "showlegend": true,
         "textposition": "auto",
         "type": "bar",
         "x": [
          "thomas ruyant",
          "sebastien simon",
          "charlie dalin",
          "alex thomson",
          "armel tripon",
          "yannick bestaven",
          "louis burton",
          "jeremie beyou",
          "arnaud boissieres",
          "boris herrmann",
          "kojiro shiraishi",
          "kevin escoffier",
          "damien seguin",
          "giancarlo pedote",
          "jean le cam",
          "isabelle joschke",
          "benjamin dutreux",
          "clarisse cremer",
          "samantha davies",
          "alan roura",
          "manuel cousin",
          "maxime sorel",
          "pip hare",
          "stephane le diraison",
          "didac costa",
          "romain attanasio",
          "miranda merron",
          "clement giraud",
          "fabrice amedeo",
          "sebastien destremau",
          "alexia barrier",
          "ari huusela",
          "nicolas troussel"
         ],
         "xaxis": "x",
         "y": [
          21.2,
          20.9,
          20.7,
          20.7,
          20.6,
          20.1,
          19.9,
          19.9,
          19.5,
          19.4,
          18.9,
          18.9,
          18.9,
          18.8,
          18.8,
          18.6,
          18.5,
          18.4,
          18.4,
          18.1,
          17.7,
          17.7,
          17.3,
          17.2,
          17,
          16.9,
          16.7,
          16.5,
          16.4,
          15.1,
          14.7,
          14.1,
          13.7
         ],
         "yaxis": "y"
        }
       ],
       "layout": {
        "barmode": "relative",
        "legend": {
         "title": {
          "text": "variable"
         },
         "tracegroupgap": 0
        },
        "margin": {
         "t": 60
        },
        "template": {
         "data": {
          "bar": [
           {
            "error_x": {
             "color": "#2a3f5f"
            },
            "error_y": {
             "color": "#2a3f5f"
            },
            "marker": {
             "line": {
              "color": "#E5ECF6",
              "width": 0.5
             },
             "pattern": {
              "fillmode": "overlay",
              "size": 10,
              "solidity": 0.2
             }
            },
            "type": "bar"
           }
          ],
          "barpolar": [
           {
            "marker": {
             "line": {
              "color": "#E5ECF6",
              "width": 0.5
             },
             "pattern": {
              "fillmode": "overlay",
              "size": 10,
              "solidity": 0.2
             }
            },
            "type": "barpolar"
           }
          ],
          "carpet": [
           {
            "aaxis": {
             "endlinecolor": "#2a3f5f",
             "gridcolor": "white",
             "linecolor": "white",
             "minorgridcolor": "white",
             "startlinecolor": "#2a3f5f"
            },
            "baxis": {
             "endlinecolor": "#2a3f5f",
             "gridcolor": "white",
             "linecolor": "white",
             "minorgridcolor": "white",
             "startlinecolor": "#2a3f5f"
            },
            "type": "carpet"
           }
          ],
          "choropleth": [
           {
            "colorbar": {
             "outlinewidth": 0,
             "ticks": ""
            },
            "type": "choropleth"
           }
          ],
          "contour": [
           {
            "colorbar": {
             "outlinewidth": 0,
             "ticks": ""
            },
            "colorscale": [
             [
              0,
              "#0d0887"
             ],
             [
              0.1111111111111111,
              "#46039f"
             ],
             [
              0.2222222222222222,
              "#7201a8"
             ],
             [
              0.3333333333333333,
              "#9c179e"
             ],
             [
              0.4444444444444444,
              "#bd3786"
             ],
             [
              0.5555555555555556,
              "#d8576b"
             ],
             [
              0.6666666666666666,
              "#ed7953"
             ],
             [
              0.7777777777777778,
              "#fb9f3a"
             ],
             [
              0.8888888888888888,
              "#fdca26"
             ],
             [
              1,
              "#f0f921"
             ]
            ],
            "type": "contour"
           }
          ],
          "contourcarpet": [
           {
            "colorbar": {
             "outlinewidth": 0,
             "ticks": ""
            },
            "type": "contourcarpet"
           }
          ],
          "heatmap": [
           {
            "colorbar": {
             "outlinewidth": 0,
             "ticks": ""
            },
            "colorscale": [
             [
              0,
              "#0d0887"
             ],
             [
              0.1111111111111111,
              "#46039f"
             ],
             [
              0.2222222222222222,
              "#7201a8"
             ],
             [
              0.3333333333333333,
              "#9c179e"
             ],
             [
              0.4444444444444444,
              "#bd3786"
             ],
             [
              0.5555555555555556,
              "#d8576b"
             ],
             [
              0.6666666666666666,
              "#ed7953"
             ],
             [
              0.7777777777777778,
              "#fb9f3a"
             ],
             [
              0.8888888888888888,
              "#fdca26"
             ],
             [
              1,
              "#f0f921"
             ]
            ],
            "type": "heatmap"
           }
          ],
          "heatmapgl": [
           {
            "colorbar": {
             "outlinewidth": 0,
             "ticks": ""
            },
            "colorscale": [
             [
              0,
              "#0d0887"
             ],
             [
              0.1111111111111111,
              "#46039f"
             ],
             [
              0.2222222222222222,
              "#7201a8"
             ],
             [
              0.3333333333333333,
              "#9c179e"
             ],
             [
              0.4444444444444444,
              "#bd3786"
             ],
             [
              0.5555555555555556,
              "#d8576b"
             ],
             [
              0.6666666666666666,
              "#ed7953"
             ],
             [
              0.7777777777777778,
              "#fb9f3a"
             ],
             [
              0.8888888888888888,
              "#fdca26"
             ],
             [
              1,
              "#f0f921"
             ]
            ],
            "type": "heatmapgl"
           }
          ],
          "histogram": [
           {
            "marker": {
             "pattern": {
              "fillmode": "overlay",
              "size": 10,
              "solidity": 0.2
             }
            },
            "type": "histogram"
           }
          ],
          "histogram2d": [
           {
            "colorbar": {
             "outlinewidth": 0,
             "ticks": ""
            },
            "colorscale": [
             [
              0,
              "#0d0887"
             ],
             [
              0.1111111111111111,
              "#46039f"
             ],
             [
              0.2222222222222222,
              "#7201a8"
             ],
             [
              0.3333333333333333,
              "#9c179e"
             ],
             [
              0.4444444444444444,
              "#bd3786"
             ],
             [
              0.5555555555555556,
              "#d8576b"
             ],
             [
              0.6666666666666666,
              "#ed7953"
             ],
             [
              0.7777777777777778,
              "#fb9f3a"
             ],
             [
              0.8888888888888888,
              "#fdca26"
             ],
             [
              1,
              "#f0f921"
             ]
            ],
            "type": "histogram2d"
           }
          ],
          "histogram2dcontour": [
           {
            "colorbar": {
             "outlinewidth": 0,
             "ticks": ""
            },
            "colorscale": [
             [
              0,
              "#0d0887"
             ],
             [
              0.1111111111111111,
              "#46039f"
             ],
             [
              0.2222222222222222,
              "#7201a8"
             ],
             [
              0.3333333333333333,
              "#9c179e"
             ],
             [
              0.4444444444444444,
              "#bd3786"
             ],
             [
              0.5555555555555556,
              "#d8576b"
             ],
             [
              0.6666666666666666,
              "#ed7953"
             ],
             [
              0.7777777777777778,
              "#fb9f3a"
             ],
             [
              0.8888888888888888,
              "#fdca26"
             ],
             [
              1,
              "#f0f921"
             ]
            ],
            "type": "histogram2dcontour"
           }
          ],
          "mesh3d": [
           {
            "colorbar": {
             "outlinewidth": 0,
             "ticks": ""
            },
            "type": "mesh3d"
           }
          ],
          "parcoords": [
           {
            "line": {
             "colorbar": {
              "outlinewidth": 0,
              "ticks": ""
             }
            },
            "type": "parcoords"
           }
          ],
          "pie": [
           {
            "automargin": true,
            "type": "pie"
           }
          ],
          "scatter": [
           {
            "marker": {
             "colorbar": {
              "outlinewidth": 0,
              "ticks": ""
             }
            },
            "type": "scatter"
           }
          ],
          "scatter3d": [
           {
            "line": {
             "colorbar": {
              "outlinewidth": 0,
              "ticks": ""
             }
            },
            "marker": {
             "colorbar": {
              "outlinewidth": 0,
              "ticks": ""
             }
            },
            "type": "scatter3d"
           }
          ],
          "scattercarpet": [
           {
            "marker": {
             "colorbar": {
              "outlinewidth": 0,
              "ticks": ""
             }
            },
            "type": "scattercarpet"
           }
          ],
          "scattergeo": [
           {
            "marker": {
             "colorbar": {
              "outlinewidth": 0,
              "ticks": ""
             }
            },
            "type": "scattergeo"
           }
          ],
          "scattergl": [
           {
            "marker": {
             "colorbar": {
              "outlinewidth": 0,
              "ticks": ""
             }
            },
            "type": "scattergl"
           }
          ],
          "scattermapbox": [
           {
            "marker": {
             "colorbar": {
              "outlinewidth": 0,
              "ticks": ""
             }
            },
            "type": "scattermapbox"
           }
          ],
          "scatterpolar": [
           {
            "marker": {
             "colorbar": {
              "outlinewidth": 0,
              "ticks": ""
             }
            },
            "type": "scatterpolar"
           }
          ],
          "scatterpolargl": [
           {
            "marker": {
             "colorbar": {
              "outlinewidth": 0,
              "ticks": ""
             }
            },
            "type": "scatterpolargl"
           }
          ],
          "scatterternary": [
           {
            "marker": {
             "colorbar": {
              "outlinewidth": 0,
              "ticks": ""
             }
            },
            "type": "scatterternary"
           }
          ],
          "surface": [
           {
            "colorbar": {
             "outlinewidth": 0,
             "ticks": ""
            },
            "colorscale": [
             [
              0,
              "#0d0887"
             ],
             [
              0.1111111111111111,
              "#46039f"
             ],
             [
              0.2222222222222222,
              "#7201a8"
             ],
             [
              0.3333333333333333,
              "#9c179e"
             ],
             [
              0.4444444444444444,
              "#bd3786"
             ],
             [
              0.5555555555555556,
              "#d8576b"
             ],
             [
              0.6666666666666666,
              "#ed7953"
             ],
             [
              0.7777777777777778,
              "#fb9f3a"
             ],
             [
              0.8888888888888888,
              "#fdca26"
             ],
             [
              1,
              "#f0f921"
             ]
            ],
            "type": "surface"
           }
          ],
          "table": [
           {
            "cells": {
             "fill": {
              "color": "#EBF0F8"
             },
             "line": {
              "color": "white"
             }
            },
            "header": {
             "fill": {
              "color": "#C8D4E3"
             },
             "line": {
              "color": "white"
             }
            },
            "type": "table"
           }
          ]
         },
         "layout": {
          "annotationdefaults": {
           "arrowcolor": "#2a3f5f",
           "arrowhead": 0,
           "arrowwidth": 1
          },
          "autotypenumbers": "strict",
          "coloraxis": {
           "colorbar": {
            "outlinewidth": 0,
            "ticks": ""
           }
          },
          "colorscale": {
           "diverging": [
            [
             0,
             "#8e0152"
            ],
            [
             0.1,
             "#c51b7d"
            ],
            [
             0.2,
             "#de77ae"
            ],
            [
             0.3,
             "#f1b6da"
            ],
            [
             0.4,
             "#fde0ef"
            ],
            [
             0.5,
             "#f7f7f7"
            ],
            [
             0.6,
             "#e6f5d0"
            ],
            [
             0.7,
             "#b8e186"
            ],
            [
             0.8,
             "#7fbc41"
            ],
            [
             0.9,
             "#4d9221"
            ],
            [
             1,
             "#276419"
            ]
           ],
           "sequential": [
            [
             0,
             "#0d0887"
            ],
            [
             0.1111111111111111,
             "#46039f"
            ],
            [
             0.2222222222222222,
             "#7201a8"
            ],
            [
             0.3333333333333333,
             "#9c179e"
            ],
            [
             0.4444444444444444,
             "#bd3786"
            ],
            [
             0.5555555555555556,
             "#d8576b"
            ],
            [
             0.6666666666666666,
             "#ed7953"
            ],
            [
             0.7777777777777778,
             "#fb9f3a"
            ],
            [
             0.8888888888888888,
             "#fdca26"
            ],
            [
             1,
             "#f0f921"
            ]
           ],
           "sequentialminus": [
            [
             0,
             "#0d0887"
            ],
            [
             0.1111111111111111,
             "#46039f"
            ],
            [
             0.2222222222222222,
             "#7201a8"
            ],
            [
             0.3333333333333333,
             "#9c179e"
            ],
            [
             0.4444444444444444,
             "#bd3786"
            ],
            [
             0.5555555555555556,
             "#d8576b"
            ],
            [
             0.6666666666666666,
             "#ed7953"
            ],
            [
             0.7777777777777778,
             "#fb9f3a"
            ],
            [
             0.8888888888888888,
             "#fdca26"
            ],
            [
             1,
             "#f0f921"
            ]
           ]
          },
          "colorway": [
           "#636efa",
           "#EF553B",
           "#00cc96",
           "#ab63fa",
           "#FFA15A",
           "#19d3f3",
           "#FF6692",
           "#B6E880",
           "#FF97FF",
           "#FECB52"
          ],
          "font": {
           "color": "#2a3f5f"
          },
          "geo": {
           "bgcolor": "white",
           "lakecolor": "white",
           "landcolor": "#E5ECF6",
           "showlakes": true,
           "showland": true,
           "subunitcolor": "white"
          },
          "hoverlabel": {
           "align": "left"
          },
          "hovermode": "closest",
          "mapbox": {
           "style": "light"
          },
          "paper_bgcolor": "white",
          "plot_bgcolor": "#E5ECF6",
          "polar": {
           "angularaxis": {
            "gridcolor": "white",
            "linecolor": "white",
            "ticks": ""
           },
           "bgcolor": "#E5ECF6",
           "radialaxis": {
            "gridcolor": "white",
            "linecolor": "white",
            "ticks": ""
           }
          },
          "scene": {
           "xaxis": {
            "backgroundcolor": "#E5ECF6",
            "gridcolor": "white",
            "gridwidth": 2,
            "linecolor": "white",
            "showbackground": true,
            "ticks": "",
            "zerolinecolor": "white"
           },
           "yaxis": {
            "backgroundcolor": "#E5ECF6",
            "gridcolor": "white",
            "gridwidth": 2,
            "linecolor": "white",
            "showbackground": true,
            "ticks": "",
            "zerolinecolor": "white"
           },
           "zaxis": {
            "backgroundcolor": "#E5ECF6",
            "gridcolor": "white",
            "gridwidth": 2,
            "linecolor": "white",
            "showbackground": true,
            "ticks": "",
            "zerolinecolor": "white"
           }
          },
          "shapedefaults": {
           "line": {
            "color": "#2a3f5f"
           }
          },
          "ternary": {
           "aaxis": {
            "gridcolor": "white",
            "linecolor": "white",
            "ticks": ""
           },
           "baxis": {
            "gridcolor": "white",
            "linecolor": "white",
            "ticks": ""
           },
           "bgcolor": "#E5ECF6",
           "caxis": {
            "gridcolor": "white",
            "linecolor": "white",
            "ticks": ""
           }
          },
          "title": {
           "x": 0.05
          },
          "xaxis": {
           "automargin": true,
           "gridcolor": "white",
           "linecolor": "white",
           "ticks": "",
           "title": {
            "standoff": 15
           },
           "zerolinecolor": "white",
           "zerolinewidth": 2
          },
          "yaxis": {
           "automargin": true,
           "gridcolor": "white",
           "linecolor": "white",
           "ticks": "",
           "title": {
            "standoff": 15
           },
           "zerolinecolor": "white",
           "zerolinewidth": 2
          }
         }
        },
        "xaxis": {
         "anchor": "y",
         "domain": [
          0,
          1
         ],
         "title": {
          "text": "Skipper"
         }
        },
        "yaxis": {
         "anchor": "x",
         "domain": [
          0,
          1
         ],
         "title": {
          "text": "Vitesse (kts) en 24H"
         }
        }
       }
      },
      "text/html": [
       "<div>                            <div id=\"089811b3-b6ca-4d2e-90ee-b13c62449f23\" class=\"plotly-graph-div\" style=\"height:525px; width:100%;\"></div>            <script type=\"text/javascript\">                require([\"plotly\"], function(Plotly) {                    window.PLOTLYENV=window.PLOTLYENV || {};                                    if (document.getElementById(\"089811b3-b6ca-4d2e-90ee-b13c62449f23\")) {                    Plotly.newPlot(                        \"089811b3-b6ca-4d2e-90ee-b13c62449f23\",                        [{\"alignmentgroup\":\"True\",\"hovertemplate\":\"variable=0<br>Skipper=%{x}<br>value=%{y}<extra></extra>\",\"legendgroup\":\"0\",\"marker\":{\"color\":\"#636efa\",\"pattern\":{\"shape\":\"\"}},\"name\":\"0\",\"offsetgroup\":\"0\",\"orientation\":\"v\",\"showlegend\":true,\"textposition\":\"auto\",\"type\":\"bar\",\"x\":[\"thomas ruyant\",\"sebastien simon\",\"charlie dalin\",\"alex thomson\",\"armel tripon\",\"yannick bestaven\",\"louis burton\",\"jeremie beyou\",\"arnaud boissieres\",\"boris herrmann\",\"kojiro shiraishi\",\"kevin escoffier\",\"damien seguin\",\"giancarlo pedote\",\"jean le cam\",\"isabelle joschke\",\"benjamin dutreux\",\"clarisse cremer\",\"samantha davies\",\"alan roura\",\"manuel cousin\",\"maxime sorel\",\"pip hare\",\"stephane le diraison\",\"didac costa\",\"romain attanasio\",\"miranda merron\",\"clement giraud\",\"fabrice amedeo\",\"sebastien destremau\",\"alexia barrier\",\"ari huusela\",\"nicolas troussel\"],\"xaxis\":\"x\",\"y\":[21.2,20.9,20.7,20.7,20.6,20.1,19.9,19.9,19.5,19.4,18.9,18.9,18.9,18.8,18.8,18.6,18.5,18.4,18.4,18.1,17.7,17.7,17.3,17.2,17.0,16.9,16.7,16.5,16.4,15.1,14.7,14.1,13.7],\"yaxis\":\"y\"}],                        {\"barmode\":\"relative\",\"legend\":{\"title\":{\"text\":\"variable\"},\"tracegroupgap\":0},\"margin\":{\"t\":60},\"template\":{\"data\":{\"bar\":[{\"error_x\":{\"color\":\"#2a3f5f\"},\"error_y\":{\"color\":\"#2a3f5f\"},\"marker\":{\"line\":{\"color\":\"#E5ECF6\",\"width\":0.5},\"pattern\":{\"fillmode\":\"overlay\",\"size\":10,\"solidity\":0.2}},\"type\":\"bar\"}],\"barpolar\":[{\"marker\":{\"line\":{\"color\":\"#E5ECF6\",\"width\":0.5},\"pattern\":{\"fillmode\":\"overlay\",\"size\":10,\"solidity\":0.2}},\"type\":\"barpolar\"}],\"carpet\":[{\"aaxis\":{\"endlinecolor\":\"#2a3f5f\",\"gridcolor\":\"white\",\"linecolor\":\"white\",\"minorgridcolor\":\"white\",\"startlinecolor\":\"#2a3f5f\"},\"baxis\":{\"endlinecolor\":\"#2a3f5f\",\"gridcolor\":\"white\",\"linecolor\":\"white\",\"minorgridcolor\":\"white\",\"startlinecolor\":\"#2a3f5f\"},\"type\":\"carpet\"}],\"choropleth\":[{\"colorbar\":{\"outlinewidth\":0,\"ticks\":\"\"},\"type\":\"choropleth\"}],\"contour\":[{\"colorbar\":{\"outlinewidth\":0,\"ticks\":\"\"},\"colorscale\":[[0.0,\"#0d0887\"],[0.1111111111111111,\"#46039f\"],[0.2222222222222222,\"#7201a8\"],[0.3333333333333333,\"#9c179e\"],[0.4444444444444444,\"#bd3786\"],[0.5555555555555556,\"#d8576b\"],[0.6666666666666666,\"#ed7953\"],[0.7777777777777778,\"#fb9f3a\"],[0.8888888888888888,\"#fdca26\"],[1.0,\"#f0f921\"]],\"type\":\"contour\"}],\"contourcarpet\":[{\"colorbar\":{\"outlinewidth\":0,\"ticks\":\"\"},\"type\":\"contourcarpet\"}],\"heatmap\":[{\"colorbar\":{\"outlinewidth\":0,\"ticks\":\"\"},\"colorscale\":[[0.0,\"#0d0887\"],[0.1111111111111111,\"#46039f\"],[0.2222222222222222,\"#7201a8\"],[0.3333333333333333,\"#9c179e\"],[0.4444444444444444,\"#bd3786\"],[0.5555555555555556,\"#d8576b\"],[0.6666666666666666,\"#ed7953\"],[0.7777777777777778,\"#fb9f3a\"],[0.8888888888888888,\"#fdca26\"],[1.0,\"#f0f921\"]],\"type\":\"heatmap\"}],\"heatmapgl\":[{\"colorbar\":{\"outlinewidth\":0,\"ticks\":\"\"},\"colorscale\":[[0.0,\"#0d0887\"],[0.1111111111111111,\"#46039f\"],[0.2222222222222222,\"#7201a8\"],[0.3333333333333333,\"#9c179e\"],[0.4444444444444444,\"#bd3786\"],[0.5555555555555556,\"#d8576b\"],[0.6666666666666666,\"#ed7953\"],[0.7777777777777778,\"#fb9f3a\"],[0.8888888888888888,\"#fdca26\"],[1.0,\"#f0f921\"]],\"type\":\"heatmapgl\"}],\"histogram\":[{\"marker\":{\"pattern\":{\"fillmode\":\"overlay\",\"size\":10,\"solidity\":0.2}},\"type\":\"histogram\"}],\"histogram2d\":[{\"colorbar\":{\"outlinewidth\":0,\"ticks\":\"\"},\"colorscale\":[[0.0,\"#0d0887\"],[0.1111111111111111,\"#46039f\"],[0.2222222222222222,\"#7201a8\"],[0.3333333333333333,\"#9c179e\"],[0.4444444444444444,\"#bd3786\"],[0.5555555555555556,\"#d8576b\"],[0.6666666666666666,\"#ed7953\"],[0.7777777777777778,\"#fb9f3a\"],[0.8888888888888888,\"#fdca26\"],[1.0,\"#f0f921\"]],\"type\":\"histogram2d\"}],\"histogram2dcontour\":[{\"colorbar\":{\"outlinewidth\":0,\"ticks\":\"\"},\"colorscale\":[[0.0,\"#0d0887\"],[0.1111111111111111,\"#46039f\"],[0.2222222222222222,\"#7201a8\"],[0.3333333333333333,\"#9c179e\"],[0.4444444444444444,\"#bd3786\"],[0.5555555555555556,\"#d8576b\"],[0.6666666666666666,\"#ed7953\"],[0.7777777777777778,\"#fb9f3a\"],[0.8888888888888888,\"#fdca26\"],[1.0,\"#f0f921\"]],\"type\":\"histogram2dcontour\"}],\"mesh3d\":[{\"colorbar\":{\"outlinewidth\":0,\"ticks\":\"\"},\"type\":\"mesh3d\"}],\"parcoords\":[{\"line\":{\"colorbar\":{\"outlinewidth\":0,\"ticks\":\"\"}},\"type\":\"parcoords\"}],\"pie\":[{\"automargin\":true,\"type\":\"pie\"}],\"scatter\":[{\"marker\":{\"colorbar\":{\"outlinewidth\":0,\"ticks\":\"\"}},\"type\":\"scatter\"}],\"scatter3d\":[{\"line\":{\"colorbar\":{\"outlinewidth\":0,\"ticks\":\"\"}},\"marker\":{\"colorbar\":{\"outlinewidth\":0,\"ticks\":\"\"}},\"type\":\"scatter3d\"}],\"scattercarpet\":[{\"marker\":{\"colorbar\":{\"outlinewidth\":0,\"ticks\":\"\"}},\"type\":\"scattercarpet\"}],\"scattergeo\":[{\"marker\":{\"colorbar\":{\"outlinewidth\":0,\"ticks\":\"\"}},\"type\":\"scattergeo\"}],\"scattergl\":[{\"marker\":{\"colorbar\":{\"outlinewidth\":0,\"ticks\":\"\"}},\"type\":\"scattergl\"}],\"scattermapbox\":[{\"marker\":{\"colorbar\":{\"outlinewidth\":0,\"ticks\":\"\"}},\"type\":\"scattermapbox\"}],\"scatterpolar\":[{\"marker\":{\"colorbar\":{\"outlinewidth\":0,\"ticks\":\"\"}},\"type\":\"scatterpolar\"}],\"scatterpolargl\":[{\"marker\":{\"colorbar\":{\"outlinewidth\":0,\"ticks\":\"\"}},\"type\":\"scatterpolargl\"}],\"scatterternary\":[{\"marker\":{\"colorbar\":{\"outlinewidth\":0,\"ticks\":\"\"}},\"type\":\"scatterternary\"}],\"surface\":[{\"colorbar\":{\"outlinewidth\":0,\"ticks\":\"\"},\"colorscale\":[[0.0,\"#0d0887\"],[0.1111111111111111,\"#46039f\"],[0.2222222222222222,\"#7201a8\"],[0.3333333333333333,\"#9c179e\"],[0.4444444444444444,\"#bd3786\"],[0.5555555555555556,\"#d8576b\"],[0.6666666666666666,\"#ed7953\"],[0.7777777777777778,\"#fb9f3a\"],[0.8888888888888888,\"#fdca26\"],[1.0,\"#f0f921\"]],\"type\":\"surface\"}],\"table\":[{\"cells\":{\"fill\":{\"color\":\"#EBF0F8\"},\"line\":{\"color\":\"white\"}},\"header\":{\"fill\":{\"color\":\"#C8D4E3\"},\"line\":{\"color\":\"white\"}},\"type\":\"table\"}]},\"layout\":{\"annotationdefaults\":{\"arrowcolor\":\"#2a3f5f\",\"arrowhead\":0,\"arrowwidth\":1},\"autotypenumbers\":\"strict\",\"coloraxis\":{\"colorbar\":{\"outlinewidth\":0,\"ticks\":\"\"}},\"colorscale\":{\"diverging\":[[0,\"#8e0152\"],[0.1,\"#c51b7d\"],[0.2,\"#de77ae\"],[0.3,\"#f1b6da\"],[0.4,\"#fde0ef\"],[0.5,\"#f7f7f7\"],[0.6,\"#e6f5d0\"],[0.7,\"#b8e186\"],[0.8,\"#7fbc41\"],[0.9,\"#4d9221\"],[1,\"#276419\"]],\"sequential\":[[0.0,\"#0d0887\"],[0.1111111111111111,\"#46039f\"],[0.2222222222222222,\"#7201a8\"],[0.3333333333333333,\"#9c179e\"],[0.4444444444444444,\"#bd3786\"],[0.5555555555555556,\"#d8576b\"],[0.6666666666666666,\"#ed7953\"],[0.7777777777777778,\"#fb9f3a\"],[0.8888888888888888,\"#fdca26\"],[1.0,\"#f0f921\"]],\"sequentialminus\":[[0.0,\"#0d0887\"],[0.1111111111111111,\"#46039f\"],[0.2222222222222222,\"#7201a8\"],[0.3333333333333333,\"#9c179e\"],[0.4444444444444444,\"#bd3786\"],[0.5555555555555556,\"#d8576b\"],[0.6666666666666666,\"#ed7953\"],[0.7777777777777778,\"#fb9f3a\"],[0.8888888888888888,\"#fdca26\"],[1.0,\"#f0f921\"]]},\"colorway\":[\"#636efa\",\"#EF553B\",\"#00cc96\",\"#ab63fa\",\"#FFA15A\",\"#19d3f3\",\"#FF6692\",\"#B6E880\",\"#FF97FF\",\"#FECB52\"],\"font\":{\"color\":\"#2a3f5f\"},\"geo\":{\"bgcolor\":\"white\",\"lakecolor\":\"white\",\"landcolor\":\"#E5ECF6\",\"showlakes\":true,\"showland\":true,\"subunitcolor\":\"white\"},\"hoverlabel\":{\"align\":\"left\"},\"hovermode\":\"closest\",\"mapbox\":{\"style\":\"light\"},\"paper_bgcolor\":\"white\",\"plot_bgcolor\":\"#E5ECF6\",\"polar\":{\"angularaxis\":{\"gridcolor\":\"white\",\"linecolor\":\"white\",\"ticks\":\"\"},\"bgcolor\":\"#E5ECF6\",\"radialaxis\":{\"gridcolor\":\"white\",\"linecolor\":\"white\",\"ticks\":\"\"}},\"scene\":{\"xaxis\":{\"backgroundcolor\":\"#E5ECF6\",\"gridcolor\":\"white\",\"gridwidth\":2,\"linecolor\":\"white\",\"showbackground\":true,\"ticks\":\"\",\"zerolinecolor\":\"white\"},\"yaxis\":{\"backgroundcolor\":\"#E5ECF6\",\"gridcolor\":\"white\",\"gridwidth\":2,\"linecolor\":\"white\",\"showbackground\":true,\"ticks\":\"\",\"zerolinecolor\":\"white\"},\"zaxis\":{\"backgroundcolor\":\"#E5ECF6\",\"gridcolor\":\"white\",\"gridwidth\":2,\"linecolor\":\"white\",\"showbackground\":true,\"ticks\":\"\",\"zerolinecolor\":\"white\"}},\"shapedefaults\":{\"line\":{\"color\":\"#2a3f5f\"}},\"ternary\":{\"aaxis\":{\"gridcolor\":\"white\",\"linecolor\":\"white\",\"ticks\":\"\"},\"baxis\":{\"gridcolor\":\"white\",\"linecolor\":\"white\",\"ticks\":\"\"},\"bgcolor\":\"#E5ECF6\",\"caxis\":{\"gridcolor\":\"white\",\"linecolor\":\"white\",\"ticks\":\"\"}},\"title\":{\"x\":0.05},\"xaxis\":{\"automargin\":true,\"gridcolor\":\"white\",\"linecolor\":\"white\",\"ticks\":\"\",\"title\":{\"standoff\":15},\"zerolinecolor\":\"white\",\"zerolinewidth\":2},\"yaxis\":{\"automargin\":true,\"gridcolor\":\"white\",\"linecolor\":\"white\",\"ticks\":\"\",\"title\":{\"standoff\":15},\"zerolinecolor\":\"white\",\"zerolinewidth\":2}}},\"xaxis\":{\"anchor\":\"y\",\"domain\":[0.0,1.0],\"title\":{\"text\":\"Skipper\"}},\"yaxis\":{\"anchor\":\"x\",\"domain\":[0.0,1.0],\"title\":{\"text\":\"Vitesse (kts) en 24H\"}}},                        {\"responsive\": true}                    ).then(function(){\n",
       "                            \n",
       "var gd = document.getElementById('089811b3-b6ca-4d2e-90ee-b13c62449f23');\n",
       "var x = new MutationObserver(function (mutations, observer) {{\n",
       "        var display = window.getComputedStyle(gd).display;\n",
       "        if (!display || display === 'none') {{\n",
       "            console.log([gd, 'removed!']);\n",
       "            Plotly.purge(gd);\n",
       "            observer.disconnect();\n",
       "        }}\n",
       "}});\n",
       "\n",
       "// Listen for the removal of the full notebook cells\n",
       "var notebookContainer = gd.closest('#notebook-container');\n",
       "if (notebookContainer) {{\n",
       "    x.observe(notebookContainer, {childList: true});\n",
       "}}\n",
       "\n",
       "// Listen for the clearing of the current output cell\n",
       "var outputEl = gd.closest('.output');\n",
       "if (outputEl) {{\n",
       "    x.observe(outputEl, {childList: true});\n",
       "}}\n",
       "\n",
       "                        })                };                });            </script>        </div>"
      ]
     },
     "metadata": {},
     "output_type": "display_data"
    }
   ],
   "source": [
    "dates = pd.date_range(start=df_ranks.index.get_level_values(0)[0], end=df_ranks.index.get_level_values(0)[-1], freq='D')\n",
    "df_dist = df_ranks.loc[dates,[(\"Depuis 24 heures\", \"Vitesse\"), (\"Skipper\",\"\")]].droplevel(1).pivot(columns=\"Skipper\", values=(\"Depuis 24 heures\", \"Vitesse\")).fillna(0).max().sort_values(ascending=False).squeeze()\n",
    "px.bar(df_dist).update_layout(yaxis_title=\"Vitesse (kts) en 24H\").show()"
   ]
  },
  {
   "cell_type": "markdown",
   "metadata": {},
   "source": [
    "### Impact du foil sur la vitesse"
   ]
  },
  {
   "cell_type": "code",
   "execution_count": 28,
   "metadata": {},
   "outputs": [
    {
     "data": {
      "application/vnd.plotly.v1+json": {
       "config": {
        "plotlyServerURL": "https://plot.ly"
       },
       "data": [
        {
         "hovertemplate": "color=2<br>Date=%{x}<br>Vitesse en 24H=%{y}<extra></extra>",
         "legendgroup": "2",
         "marker": {
          "color": "#636efa",
          "symbol": "circle"
         },
         "mode": "markers",
         "name": "2",
         "showlegend": true,
         "type": "scattergl",
         "x": [
          "2020-11-08T14:00:00",
          "2020-11-08T14:00:00",
          "2020-11-08T14:00:00",
          "2020-11-08T14:00:00",
          "2020-11-08T14:00:00",
          "2020-11-08T14:00:00",
          "2020-11-08T14:00:00",
          "2020-11-08T14:00:00",
          "2020-11-08T14:00:00",
          "2020-11-08T14:00:00",
          "2020-11-08T14:00:00",
          "2020-11-08T14:00:00",
          "2020-11-08T14:00:00",
          "2020-11-08T14:00:00",
          "2020-11-09T14:00:00",
          "2020-11-09T14:00:00",
          "2020-11-09T14:00:00",
          "2020-11-09T14:00:00",
          "2020-11-09T14:00:00",
          "2020-11-09T14:00:00",
          "2020-11-09T14:00:00",
          "2020-11-09T14:00:00",
          "2020-11-09T14:00:00",
          "2020-11-09T14:00:00",
          "2020-11-09T14:00:00",
          "2020-11-09T14:00:00",
          "2020-11-09T14:00:00",
          "2020-11-09T14:00:00",
          "2020-11-10T14:00:00",
          "2020-11-10T14:00:00",
          "2020-11-10T14:00:00",
          "2020-11-10T14:00:00",
          "2020-11-10T14:00:00",
          "2020-11-10T14:00:00",
          "2020-11-10T14:00:00",
          "2020-11-10T14:00:00",
          "2020-11-10T14:00:00",
          "2020-11-10T14:00:00",
          "2020-11-10T14:00:00",
          "2020-11-10T14:00:00",
          "2020-11-10T14:00:00",
          "2020-11-10T14:00:00",
          "2020-11-11T14:00:00",
          "2020-11-11T14:00:00",
          "2020-11-11T14:00:00",
          "2020-11-11T14:00:00",
          "2020-11-11T14:00:00",
          "2020-11-11T14:00:00",
          "2020-11-11T14:00:00",
          "2020-11-11T14:00:00",
          "2020-11-11T14:00:00",
          "2020-11-11T14:00:00",
          "2020-11-11T14:00:00",
          "2020-11-11T14:00:00",
          "2020-11-11T14:00:00",
          "2020-11-11T14:00:00",
          "2020-11-12T14:00:00",
          "2020-11-12T14:00:00",
          "2020-11-12T14:00:00",
          "2020-11-12T14:00:00",
          "2020-11-12T14:00:00",
          "2020-11-12T14:00:00",
          "2020-11-12T14:00:00",
          "2020-11-12T14:00:00",
          "2020-11-12T14:00:00",
          "2020-11-12T14:00:00",
          "2020-11-12T14:00:00",
          "2020-11-12T14:00:00",
          "2020-11-12T14:00:00",
          "2020-11-12T14:00:00",
          "2020-11-13T14:00:00",
          "2020-11-13T14:00:00",
          "2020-11-13T14:00:00",
          "2020-11-13T14:00:00",
          "2020-11-13T14:00:00",
          "2020-11-13T14:00:00",
          "2020-11-13T14:00:00",
          "2020-11-13T14:00:00",
          "2020-11-13T14:00:00",
          "2020-11-13T14:00:00",
          "2020-11-13T14:00:00",
          "2020-11-13T14:00:00",
          "2020-11-13T14:00:00",
          "2020-11-13T14:00:00",
          "2020-11-14T14:00:00",
          "2020-11-14T14:00:00",
          "2020-11-14T14:00:00",
          "2020-11-14T14:00:00",
          "2020-11-14T14:00:00",
          "2020-11-14T14:00:00",
          "2020-11-14T14:00:00",
          "2020-11-14T14:00:00",
          "2020-11-14T14:00:00",
          "2020-11-14T14:00:00",
          "2020-11-14T14:00:00",
          "2020-11-14T14:00:00",
          "2020-11-14T14:00:00",
          "2020-11-14T14:00:00",
          "2020-11-15T14:00:00",
          "2020-11-15T14:00:00",
          "2020-11-15T14:00:00",
          "2020-11-15T14:00:00",
          "2020-11-15T14:00:00",
          "2020-11-15T14:00:00",
          "2020-11-15T14:00:00",
          "2020-11-15T14:00:00",
          "2020-11-15T14:00:00",
          "2020-11-15T14:00:00",
          "2020-11-15T14:00:00",
          "2020-11-15T14:00:00",
          "2020-11-15T14:00:00",
          "2020-11-15T14:00:00",
          "2020-11-16T14:00:00",
          "2020-11-16T14:00:00",
          "2020-11-16T14:00:00",
          "2020-11-16T14:00:00",
          "2020-11-16T14:00:00",
          "2020-11-16T14:00:00",
          "2020-11-16T14:00:00",
          "2020-11-16T14:00:00",
          "2020-11-16T14:00:00",
          "2020-11-16T14:00:00",
          "2020-11-16T14:00:00",
          "2020-11-16T14:00:00",
          "2020-11-16T14:00:00",
          "2020-11-16T14:00:00",
          "2020-11-17T14:00:00",
          "2020-11-17T14:00:00",
          "2020-11-17T14:00:00",
          "2020-11-17T14:00:00",
          "2020-11-17T14:00:00",
          "2020-11-17T14:00:00",
          "2020-11-17T14:00:00",
          "2020-11-17T14:00:00",
          "2020-11-17T14:00:00",
          "2020-11-17T14:00:00",
          "2020-11-17T14:00:00",
          "2020-11-17T14:00:00",
          "2020-11-17T14:00:00",
          "2020-11-17T14:00:00",
          "2020-11-18T14:00:00",
          "2020-11-18T14:00:00",
          "2020-11-18T14:00:00",
          "2020-11-18T14:00:00",
          "2020-11-18T14:00:00",
          "2020-11-18T14:00:00",
          "2020-11-18T14:00:00",
          "2020-11-18T14:00:00",
          "2020-11-18T14:00:00",
          "2020-11-18T14:00:00",
          "2020-11-18T14:00:00",
          "2020-11-18T14:00:00",
          "2020-11-18T14:00:00",
          "2020-11-18T14:00:00",
          "2020-11-19T14:00:00",
          "2020-11-19T14:00:00",
          "2020-11-19T14:00:00",
          "2020-11-19T14:00:00",
          "2020-11-19T14:00:00",
          "2020-11-19T14:00:00",
          "2020-11-19T14:00:00",
          "2020-11-19T14:00:00",
          "2020-11-19T14:00:00",
          "2020-11-19T14:00:00",
          "2020-11-19T14:00:00",
          "2020-11-19T14:00:00",
          "2020-11-19T14:00:00",
          "2020-11-19T14:00:00",
          "2020-11-20T14:00:00",
          "2020-11-20T14:00:00",
          "2020-11-20T14:00:00",
          "2020-11-20T14:00:00",
          "2020-11-20T14:00:00",
          "2020-11-20T14:00:00",
          "2020-11-20T14:00:00",
          "2020-11-20T14:00:00",
          "2020-11-20T14:00:00",
          "2020-11-20T14:00:00",
          "2020-11-20T14:00:00",
          "2020-11-20T14:00:00",
          "2020-11-20T14:00:00",
          "2020-11-20T14:00:00",
          "2020-11-21T14:00:00",
          "2020-11-21T14:00:00",
          "2020-11-21T14:00:00",
          "2020-11-21T14:00:00",
          "2020-11-21T14:00:00",
          "2020-11-21T14:00:00",
          "2020-11-21T14:00:00",
          "2020-11-21T14:00:00",
          "2020-11-21T14:00:00",
          "2020-11-21T14:00:00",
          "2020-11-21T14:00:00",
          "2020-11-21T14:00:00",
          "2020-11-21T14:00:00",
          "2020-11-21T14:00:00",
          "2020-11-22T14:00:00",
          "2020-11-22T14:00:00",
          "2020-11-22T14:00:00",
          "2020-11-22T14:00:00",
          "2020-11-22T14:00:00",
          "2020-11-22T14:00:00",
          "2020-11-22T14:00:00",
          "2020-11-22T14:00:00",
          "2020-11-22T14:00:00",
          "2020-11-22T14:00:00",
          "2020-11-22T14:00:00",
          "2020-11-22T14:00:00",
          "2020-11-22T14:00:00",
          "2020-11-22T14:00:00",
          "2020-11-23T14:00:00",
          "2020-11-23T14:00:00",
          "2020-11-23T14:00:00",
          "2020-11-23T14:00:00",
          "2020-11-23T14:00:00",
          "2020-11-23T14:00:00",
          "2020-11-23T14:00:00",
          "2020-11-23T14:00:00",
          "2020-11-23T14:00:00",
          "2020-11-23T14:00:00",
          "2020-11-23T14:00:00",
          "2020-11-23T14:00:00",
          "2020-11-23T14:00:00",
          "2020-11-23T14:00:00",
          "2020-11-24T14:00:00",
          "2020-11-24T14:00:00",
          "2020-11-24T14:00:00",
          "2020-11-24T14:00:00",
          "2020-11-24T14:00:00",
          "2020-11-24T14:00:00",
          "2020-11-24T14:00:00",
          "2020-11-24T14:00:00",
          "2020-11-24T14:00:00",
          "2020-11-24T14:00:00",
          "2020-11-24T14:00:00",
          "2020-11-24T14:00:00",
          "2020-11-24T14:00:00",
          "2020-11-24T14:00:00",
          "2020-11-25T14:00:00",
          "2020-11-25T14:00:00",
          "2020-11-25T14:00:00",
          "2020-11-25T14:00:00",
          "2020-11-25T14:00:00",
          "2020-11-25T14:00:00",
          "2020-11-25T14:00:00",
          "2020-11-25T14:00:00",
          "2020-11-25T14:00:00",
          "2020-11-25T14:00:00",
          "2020-11-25T14:00:00",
          "2020-11-25T14:00:00",
          "2020-11-25T14:00:00",
          "2020-11-25T14:00:00",
          "2020-11-26T14:00:00",
          "2020-11-26T14:00:00",
          "2020-11-26T14:00:00",
          "2020-11-26T14:00:00",
          "2020-11-26T14:00:00",
          "2020-11-26T14:00:00",
          "2020-11-26T14:00:00",
          "2020-11-26T14:00:00",
          "2020-11-26T14:00:00",
          "2020-11-26T14:00:00",
          "2020-11-26T14:00:00",
          "2020-11-26T14:00:00",
          "2020-11-26T14:00:00",
          "2020-11-26T14:00:00",
          "2020-11-27T14:00:00",
          "2020-11-27T14:00:00",
          "2020-11-27T14:00:00",
          "2020-11-27T14:00:00",
          "2020-11-27T14:00:00",
          "2020-11-27T14:00:00",
          "2020-11-27T14:00:00",
          "2020-11-27T14:00:00",
          "2020-11-27T14:00:00",
          "2020-11-27T14:00:00",
          "2020-11-27T14:00:00",
          "2020-11-27T14:00:00",
          "2020-11-27T14:00:00",
          "2020-11-27T14:00:00",
          "2020-11-28T14:00:00",
          "2020-11-28T14:00:00",
          "2020-11-28T14:00:00",
          "2020-11-28T14:00:00",
          "2020-11-28T14:00:00",
          "2020-11-28T14:00:00",
          "2020-11-28T14:00:00",
          "2020-11-28T14:00:00",
          "2020-11-28T14:00:00",
          "2020-11-28T14:00:00",
          "2020-11-28T14:00:00",
          "2020-11-28T14:00:00",
          "2020-11-28T14:00:00",
          "2020-11-28T14:00:00",
          "2020-11-29T14:00:00",
          "2020-11-29T14:00:00",
          "2020-11-29T14:00:00",
          "2020-11-29T14:00:00",
          "2020-11-29T14:00:00",
          "2020-11-29T14:00:00",
          "2020-11-29T14:00:00",
          "2020-11-29T14:00:00",
          "2020-11-29T14:00:00",
          "2020-11-29T14:00:00",
          "2020-11-29T14:00:00",
          "2020-11-29T14:00:00",
          "2020-11-29T14:00:00",
          "2020-11-29T14:00:00",
          "2020-11-30T14:00:00",
          "2020-11-30T14:00:00",
          "2020-11-30T14:00:00",
          "2020-11-30T14:00:00",
          "2020-11-30T14:00:00",
          "2020-11-30T14:00:00",
          "2020-11-30T14:00:00",
          "2020-11-30T14:00:00",
          "2020-11-30T14:00:00",
          "2020-11-30T14:00:00",
          "2020-11-30T14:00:00",
          "2020-11-30T14:00:00",
          "2020-11-30T14:00:00",
          "2020-11-30T14:00:00",
          "2020-12-01T14:00:00",
          "2020-12-01T14:00:00",
          "2020-12-01T14:00:00",
          "2020-12-01T14:00:00",
          "2020-12-01T14:00:00",
          "2020-12-01T14:00:00",
          "2020-12-01T14:00:00",
          "2020-12-01T14:00:00",
          "2020-12-01T14:00:00",
          "2020-12-01T14:00:00",
          "2020-12-01T14:00:00",
          "2020-12-01T14:00:00",
          "2020-12-01T14:00:00",
          "2020-12-01T14:00:00",
          "2020-12-02T14:00:00",
          "2020-12-02T14:00:00",
          "2020-12-02T14:00:00",
          "2020-12-02T14:00:00",
          "2020-12-02T14:00:00",
          "2020-12-02T14:00:00",
          "2020-12-02T14:00:00",
          "2020-12-02T14:00:00",
          "2020-12-02T14:00:00",
          "2020-12-02T14:00:00",
          "2020-12-02T14:00:00",
          "2020-12-02T14:00:00",
          "2020-12-02T14:00:00",
          "2020-12-02T14:00:00",
          "2020-12-03T14:00:00",
          "2020-12-03T14:00:00",
          "2020-12-03T14:00:00",
          "2020-12-03T14:00:00",
          "2020-12-03T14:00:00",
          "2020-12-03T14:00:00",
          "2020-12-03T14:00:00",
          "2020-12-03T14:00:00",
          "2020-12-03T14:00:00",
          "2020-12-03T14:00:00",
          "2020-12-03T14:00:00",
          "2020-12-03T14:00:00",
          "2020-12-03T14:00:00",
          "2020-12-03T14:00:00",
          "2020-12-04T14:00:00",
          "2020-12-04T14:00:00",
          "2020-12-04T14:00:00",
          "2020-12-04T14:00:00",
          "2020-12-04T14:00:00",
          "2020-12-04T14:00:00",
          "2020-12-04T14:00:00",
          "2020-12-04T14:00:00",
          "2020-12-04T14:00:00",
          "2020-12-04T14:00:00",
          "2020-12-04T14:00:00",
          "2020-12-04T14:00:00",
          "2020-12-04T14:00:00",
          "2020-12-04T14:00:00",
          "2020-12-05T14:00:00",
          "2020-12-05T14:00:00",
          "2020-12-05T14:00:00",
          "2020-12-05T14:00:00",
          "2020-12-05T14:00:00",
          "2020-12-05T14:00:00",
          "2020-12-05T14:00:00",
          "2020-12-05T14:00:00",
          "2020-12-05T14:00:00",
          "2020-12-05T14:00:00",
          "2020-12-05T14:00:00",
          "2020-12-05T14:00:00",
          "2020-12-05T14:00:00",
          "2020-12-05T14:00:00",
          "2020-12-06T14:00:00",
          "2020-12-06T14:00:00",
          "2020-12-06T14:00:00",
          "2020-12-06T14:00:00",
          "2020-12-06T14:00:00",
          "2020-12-06T14:00:00",
          "2020-12-06T14:00:00",
          "2020-12-06T14:00:00",
          "2020-12-06T14:00:00",
          "2020-12-06T14:00:00",
          "2020-12-06T14:00:00",
          "2020-12-06T14:00:00",
          "2020-12-06T14:00:00",
          "2020-12-06T14:00:00",
          "2020-12-07T14:00:00",
          "2020-12-07T14:00:00",
          "2020-12-07T14:00:00",
          "2020-12-07T14:00:00",
          "2020-12-07T14:00:00",
          "2020-12-07T14:00:00",
          "2020-12-07T14:00:00",
          "2020-12-07T14:00:00",
          "2020-12-07T14:00:00",
          "2020-12-07T14:00:00",
          "2020-12-07T14:00:00",
          "2020-12-07T14:00:00",
          "2020-12-07T14:00:00",
          "2020-12-07T14:00:00",
          "2020-12-08T14:00:00",
          "2020-12-08T14:00:00",
          "2020-12-08T14:00:00",
          "2020-12-08T14:00:00",
          "2020-12-08T14:00:00",
          "2020-12-08T14:00:00",
          "2020-12-08T14:00:00",
          "2020-12-08T14:00:00",
          "2020-12-08T14:00:00",
          "2020-12-08T14:00:00",
          "2020-12-08T14:00:00",
          "2020-12-08T14:00:00",
          "2020-12-08T14:00:00",
          "2020-12-08T14:00:00",
          "2020-12-09T14:00:00",
          "2020-12-09T14:00:00",
          "2020-12-09T14:00:00",
          "2020-12-09T14:00:00",
          "2020-12-09T14:00:00",
          "2020-12-09T14:00:00",
          "2020-12-09T14:00:00",
          "2020-12-09T14:00:00",
          "2020-12-09T14:00:00",
          "2020-12-09T14:00:00",
          "2020-12-09T14:00:00",
          "2020-12-09T14:00:00",
          "2020-12-09T14:00:00",
          "2020-12-09T14:00:00",
          "2020-12-10T14:00:00",
          "2020-12-10T14:00:00",
          "2020-12-10T14:00:00",
          "2020-12-10T14:00:00",
          "2020-12-10T14:00:00",
          "2020-12-10T14:00:00",
          "2020-12-10T14:00:00",
          "2020-12-10T14:00:00",
          "2020-12-10T14:00:00",
          "2020-12-10T14:00:00",
          "2020-12-10T14:00:00",
          "2020-12-10T14:00:00",
          "2020-12-10T14:00:00",
          "2020-12-10T14:00:00",
          "2020-12-11T14:00:00",
          "2020-12-11T14:00:00",
          "2020-12-11T14:00:00",
          "2020-12-11T14:00:00",
          "2020-12-11T14:00:00",
          "2020-12-11T14:00:00",
          "2020-12-11T14:00:00",
          "2020-12-11T14:00:00",
          "2020-12-11T14:00:00",
          "2020-12-11T14:00:00",
          "2020-12-11T14:00:00",
          "2020-12-11T14:00:00",
          "2020-12-11T14:00:00",
          "2020-12-11T14:00:00",
          "2020-12-12T14:00:00",
          "2020-12-12T14:00:00",
          "2020-12-12T14:00:00",
          "2020-12-12T14:00:00",
          "2020-12-12T14:00:00",
          "2020-12-12T14:00:00",
          "2020-12-12T14:00:00",
          "2020-12-12T14:00:00",
          "2020-12-12T14:00:00",
          "2020-12-12T14:00:00",
          "2020-12-12T14:00:00",
          "2020-12-12T14:00:00",
          "2020-12-12T14:00:00",
          "2020-12-12T14:00:00",
          "2020-12-13T14:00:00",
          "2020-12-13T14:00:00",
          "2020-12-13T14:00:00",
          "2020-12-13T14:00:00",
          "2020-12-13T14:00:00",
          "2020-12-13T14:00:00",
          "2020-12-13T14:00:00",
          "2020-12-13T14:00:00",
          "2020-12-13T14:00:00",
          "2020-12-13T14:00:00",
          "2020-12-13T14:00:00",
          "2020-12-13T14:00:00",
          "2020-12-13T14:00:00",
          "2020-12-13T14:00:00",
          "2020-12-14T14:00:00",
          "2020-12-14T14:00:00",
          "2020-12-14T14:00:00",
          "2020-12-14T14:00:00",
          "2020-12-14T14:00:00",
          "2020-12-14T14:00:00",
          "2020-12-14T14:00:00",
          "2020-12-14T14:00:00",
          "2020-12-14T14:00:00",
          "2020-12-14T14:00:00",
          "2020-12-14T14:00:00",
          "2020-12-14T14:00:00",
          "2020-12-14T14:00:00",
          "2020-12-14T14:00:00",
          "2020-12-15T14:00:00",
          "2020-12-15T14:00:00",
          "2020-12-15T14:00:00",
          "2020-12-15T14:00:00",
          "2020-12-15T14:00:00",
          "2020-12-15T14:00:00",
          "2020-12-15T14:00:00",
          "2020-12-15T14:00:00",
          "2020-12-15T14:00:00",
          "2020-12-15T14:00:00",
          "2020-12-15T14:00:00",
          "2020-12-15T14:00:00",
          "2020-12-15T14:00:00",
          "2020-12-15T14:00:00",
          "2020-12-16T14:00:00",
          "2020-12-16T14:00:00",
          "2020-12-16T14:00:00",
          "2020-12-16T14:00:00",
          "2020-12-16T14:00:00",
          "2020-12-16T14:00:00",
          "2020-12-16T14:00:00",
          "2020-12-16T14:00:00",
          "2020-12-16T14:00:00",
          "2020-12-16T14:00:00",
          "2020-12-16T14:00:00",
          "2020-12-16T14:00:00",
          "2020-12-16T14:00:00",
          "2020-12-16T14:00:00",
          "2020-12-17T14:00:00",
          "2020-12-17T14:00:00",
          "2020-12-17T14:00:00",
          "2020-12-17T14:00:00",
          "2020-12-17T14:00:00",
          "2020-12-17T14:00:00",
          "2020-12-17T14:00:00",
          "2020-12-17T14:00:00",
          "2020-12-17T14:00:00",
          "2020-12-17T14:00:00",
          "2020-12-17T14:00:00",
          "2020-12-17T14:00:00",
          "2020-12-17T14:00:00",
          "2020-12-17T14:00:00",
          "2020-12-18T14:00:00",
          "2020-12-18T14:00:00",
          "2020-12-18T14:00:00",
          "2020-12-18T14:00:00",
          "2020-12-18T14:00:00",
          "2020-12-18T14:00:00",
          "2020-12-18T14:00:00",
          "2020-12-18T14:00:00",
          "2020-12-18T14:00:00",
          "2020-12-18T14:00:00",
          "2020-12-18T14:00:00",
          "2020-12-18T14:00:00",
          "2020-12-18T14:00:00",
          "2020-12-18T14:00:00",
          "2020-12-19T14:00:00",
          "2020-12-19T14:00:00",
          "2020-12-19T14:00:00",
          "2020-12-19T14:00:00",
          "2020-12-19T14:00:00",
          "2020-12-19T14:00:00",
          "2020-12-19T14:00:00",
          "2020-12-19T14:00:00",
          "2020-12-19T14:00:00",
          "2020-12-19T14:00:00",
          "2020-12-19T14:00:00",
          "2020-12-19T14:00:00",
          "2020-12-19T14:00:00",
          "2020-12-19T14:00:00",
          "2020-12-20T14:00:00",
          "2020-12-20T14:00:00",
          "2020-12-20T14:00:00",
          "2020-12-20T14:00:00",
          "2020-12-20T14:00:00",
          "2020-12-20T14:00:00",
          "2020-12-20T14:00:00",
          "2020-12-20T14:00:00",
          "2020-12-20T14:00:00",
          "2020-12-20T14:00:00",
          "2020-12-20T14:00:00",
          "2020-12-20T14:00:00",
          "2020-12-20T14:00:00",
          "2020-12-20T14:00:00",
          "2020-12-21T14:00:00",
          "2020-12-21T14:00:00",
          "2020-12-21T14:00:00",
          "2020-12-21T14:00:00",
          "2020-12-21T14:00:00",
          "2020-12-21T14:00:00",
          "2020-12-21T14:00:00",
          "2020-12-21T14:00:00",
          "2020-12-21T14:00:00",
          "2020-12-21T14:00:00",
          "2020-12-21T14:00:00",
          "2020-12-21T14:00:00",
          "2020-12-21T14:00:00",
          "2020-12-21T14:00:00",
          "2020-12-22T14:00:00",
          "2020-12-22T14:00:00",
          "2020-12-22T14:00:00",
          "2020-12-22T14:00:00",
          "2020-12-22T14:00:00",
          "2020-12-22T14:00:00",
          "2020-12-22T14:00:00",
          "2020-12-22T14:00:00",
          "2020-12-22T14:00:00",
          "2020-12-22T14:00:00",
          "2020-12-22T14:00:00",
          "2020-12-22T14:00:00",
          "2020-12-22T14:00:00",
          "2020-12-22T14:00:00",
          "2020-12-23T14:00:00",
          "2020-12-23T14:00:00",
          "2020-12-23T14:00:00",
          "2020-12-23T14:00:00",
          "2020-12-23T14:00:00",
          "2020-12-23T14:00:00",
          "2020-12-23T14:00:00",
          "2020-12-23T14:00:00",
          "2020-12-23T14:00:00",
          "2020-12-23T14:00:00",
          "2020-12-23T14:00:00",
          "2020-12-23T14:00:00",
          "2020-12-23T14:00:00",
          "2020-12-23T14:00:00",
          "2020-12-24T14:00:00",
          "2020-12-24T14:00:00",
          "2020-12-24T14:00:00",
          "2020-12-24T14:00:00",
          "2020-12-24T14:00:00",
          "2020-12-24T14:00:00",
          "2020-12-24T14:00:00",
          "2020-12-24T14:00:00",
          "2020-12-24T14:00:00",
          "2020-12-24T14:00:00",
          "2020-12-24T14:00:00",
          "2020-12-24T14:00:00",
          "2020-12-24T14:00:00",
          "2020-12-24T14:00:00",
          "2020-12-25T14:00:00",
          "2020-12-25T14:00:00",
          "2020-12-25T14:00:00",
          "2020-12-25T14:00:00",
          "2020-12-25T14:00:00",
          "2020-12-25T14:00:00",
          "2020-12-25T14:00:00",
          "2020-12-25T14:00:00",
          "2020-12-25T14:00:00",
          "2020-12-25T14:00:00",
          "2020-12-25T14:00:00",
          "2020-12-25T14:00:00",
          "2020-12-25T14:00:00",
          "2020-12-25T14:00:00",
          "2020-12-26T14:00:00",
          "2020-12-26T14:00:00",
          "2020-12-26T14:00:00",
          "2020-12-26T14:00:00",
          "2020-12-26T14:00:00",
          "2020-12-26T14:00:00",
          "2020-12-26T14:00:00",
          "2020-12-26T14:00:00",
          "2020-12-26T14:00:00",
          "2020-12-26T14:00:00",
          "2020-12-26T14:00:00",
          "2020-12-26T14:00:00",
          "2020-12-26T14:00:00",
          "2020-12-26T14:00:00",
          "2020-12-27T14:00:00",
          "2020-12-27T14:00:00",
          "2020-12-27T14:00:00",
          "2020-12-27T14:00:00",
          "2020-12-27T14:00:00",
          "2020-12-27T14:00:00",
          "2020-12-27T14:00:00",
          "2020-12-27T14:00:00",
          "2020-12-27T14:00:00",
          "2020-12-27T14:00:00",
          "2020-12-27T14:00:00",
          "2020-12-27T14:00:00",
          "2020-12-27T14:00:00",
          "2020-12-27T14:00:00",
          "2020-12-28T14:00:00",
          "2020-12-28T14:00:00",
          "2020-12-28T14:00:00",
          "2020-12-28T14:00:00",
          "2020-12-28T14:00:00",
          "2020-12-28T14:00:00",
          "2020-12-28T14:00:00",
          "2020-12-28T14:00:00",
          "2020-12-28T14:00:00",
          "2020-12-28T14:00:00",
          "2020-12-28T14:00:00",
          "2020-12-28T14:00:00",
          "2020-12-28T14:00:00",
          "2020-12-28T14:00:00",
          "2020-12-29T14:00:00",
          "2020-12-29T14:00:00",
          "2020-12-29T14:00:00",
          "2020-12-29T14:00:00",
          "2020-12-29T14:00:00",
          "2020-12-29T14:00:00",
          "2020-12-29T14:00:00",
          "2020-12-29T14:00:00",
          "2020-12-29T14:00:00",
          "2020-12-29T14:00:00",
          "2020-12-29T14:00:00",
          "2020-12-29T14:00:00",
          "2020-12-29T14:00:00",
          "2020-12-29T14:00:00",
          "2020-12-30T14:00:00",
          "2020-12-30T14:00:00",
          "2020-12-30T14:00:00",
          "2020-12-30T14:00:00",
          "2020-12-30T14:00:00",
          "2020-12-30T14:00:00",
          "2020-12-30T14:00:00",
          "2020-12-30T14:00:00",
          "2020-12-30T14:00:00",
          "2020-12-30T14:00:00",
          "2020-12-30T14:00:00",
          "2020-12-30T14:00:00",
          "2020-12-30T14:00:00",
          "2020-12-30T14:00:00",
          "2020-12-31T14:00:00",
          "2020-12-31T14:00:00",
          "2020-12-31T14:00:00",
          "2020-12-31T14:00:00",
          "2020-12-31T14:00:00",
          "2020-12-31T14:00:00",
          "2020-12-31T14:00:00",
          "2020-12-31T14:00:00",
          "2020-12-31T14:00:00",
          "2020-12-31T14:00:00",
          "2020-12-31T14:00:00",
          "2020-12-31T14:00:00",
          "2020-12-31T14:00:00",
          "2020-12-31T14:00:00",
          "2021-01-01T14:00:00",
          "2021-01-01T14:00:00",
          "2021-01-01T14:00:00",
          "2021-01-01T14:00:00",
          "2021-01-01T14:00:00",
          "2021-01-01T14:00:00",
          "2021-01-01T14:00:00",
          "2021-01-01T14:00:00",
          "2021-01-01T14:00:00",
          "2021-01-01T14:00:00",
          "2021-01-01T14:00:00",
          "2021-01-01T14:00:00",
          "2021-01-01T14:00:00",
          "2021-01-01T14:00:00",
          "2021-01-02T14:00:00",
          "2021-01-02T14:00:00",
          "2021-01-02T14:00:00",
          "2021-01-02T14:00:00",
          "2021-01-02T14:00:00",
          "2021-01-02T14:00:00",
          "2021-01-02T14:00:00",
          "2021-01-02T14:00:00",
          "2021-01-02T14:00:00",
          "2021-01-02T14:00:00",
          "2021-01-02T14:00:00",
          "2021-01-02T14:00:00",
          "2021-01-02T14:00:00",
          "2021-01-02T14:00:00",
          "2021-01-03T14:00:00",
          "2021-01-03T14:00:00",
          "2021-01-03T14:00:00",
          "2021-01-03T14:00:00",
          "2021-01-03T14:00:00",
          "2021-01-03T14:00:00",
          "2021-01-03T14:00:00",
          "2021-01-03T14:00:00",
          "2021-01-03T14:00:00",
          "2021-01-03T14:00:00",
          "2021-01-03T14:00:00",
          "2021-01-03T14:00:00",
          "2021-01-03T14:00:00",
          "2021-01-03T14:00:00",
          "2021-01-04T14:00:00",
          "2021-01-04T14:00:00",
          "2021-01-04T14:00:00",
          "2021-01-04T14:00:00",
          "2021-01-04T14:00:00",
          "2021-01-04T14:00:00",
          "2021-01-04T14:00:00",
          "2021-01-04T14:00:00",
          "2021-01-04T14:00:00",
          "2021-01-04T14:00:00",
          "2021-01-04T14:00:00",
          "2021-01-04T14:00:00",
          "2021-01-04T14:00:00",
          "2021-01-04T14:00:00",
          "2021-01-05T14:00:00",
          "2021-01-05T14:00:00",
          "2021-01-05T14:00:00",
          "2021-01-05T14:00:00",
          "2021-01-05T14:00:00",
          "2021-01-05T14:00:00",
          "2021-01-05T14:00:00",
          "2021-01-05T14:00:00",
          "2021-01-05T14:00:00",
          "2021-01-05T14:00:00",
          "2021-01-05T14:00:00",
          "2021-01-05T14:00:00",
          "2021-01-05T14:00:00",
          "2021-01-05T14:00:00",
          "2021-01-06T14:00:00",
          "2021-01-06T14:00:00",
          "2021-01-06T14:00:00",
          "2021-01-06T14:00:00",
          "2021-01-06T14:00:00",
          "2021-01-06T14:00:00",
          "2021-01-06T14:00:00",
          "2021-01-06T14:00:00",
          "2021-01-06T14:00:00",
          "2021-01-06T14:00:00",
          "2021-01-06T14:00:00",
          "2021-01-06T14:00:00",
          "2021-01-06T14:00:00",
          "2021-01-06T14:00:00",
          "2021-01-07T14:00:00",
          "2021-01-07T14:00:00",
          "2021-01-07T14:00:00",
          "2021-01-07T14:00:00",
          "2021-01-07T14:00:00",
          "2021-01-07T14:00:00",
          "2021-01-07T14:00:00",
          "2021-01-07T14:00:00",
          "2021-01-07T14:00:00",
          "2021-01-07T14:00:00",
          "2021-01-07T14:00:00",
          "2021-01-07T14:00:00",
          "2021-01-07T14:00:00",
          "2021-01-07T14:00:00",
          "2021-01-08T14:00:00",
          "2021-01-08T14:00:00",
          "2021-01-08T14:00:00",
          "2021-01-08T14:00:00",
          "2021-01-08T14:00:00",
          "2021-01-08T14:00:00",
          "2021-01-08T14:00:00",
          "2021-01-08T14:00:00",
          "2021-01-08T14:00:00",
          "2021-01-08T14:00:00",
          "2021-01-08T14:00:00",
          "2021-01-08T14:00:00",
          "2021-01-08T14:00:00",
          "2021-01-08T14:00:00",
          "2021-01-09T14:00:00",
          "2021-01-09T14:00:00",
          "2021-01-09T14:00:00",
          "2021-01-09T14:00:00",
          "2021-01-09T14:00:00",
          "2021-01-09T14:00:00",
          "2021-01-09T14:00:00",
          "2021-01-09T14:00:00",
          "2021-01-09T14:00:00",
          "2021-01-09T14:00:00",
          "2021-01-09T14:00:00",
          "2021-01-09T14:00:00",
          "2021-01-09T14:00:00",
          "2021-01-09T14:00:00",
          "2021-01-10T14:00:00",
          "2021-01-10T14:00:00",
          "2021-01-10T14:00:00",
          "2021-01-10T14:00:00",
          "2021-01-10T14:00:00",
          "2021-01-10T14:00:00",
          "2021-01-10T14:00:00",
          "2021-01-10T14:00:00",
          "2021-01-10T14:00:00",
          "2021-01-10T14:00:00",
          "2021-01-10T14:00:00",
          "2021-01-10T14:00:00",
          "2021-01-10T14:00:00",
          "2021-01-10T14:00:00",
          "2021-01-11T14:00:00",
          "2021-01-11T14:00:00",
          "2021-01-11T14:00:00",
          "2021-01-11T14:00:00",
          "2021-01-11T14:00:00",
          "2021-01-11T14:00:00",
          "2021-01-11T14:00:00",
          "2021-01-11T14:00:00",
          "2021-01-11T14:00:00",
          "2021-01-11T14:00:00",
          "2021-01-11T14:00:00",
          "2021-01-11T14:00:00",
          "2021-01-11T14:00:00",
          "2021-01-11T14:00:00",
          "2021-01-12T14:00:00",
          "2021-01-12T14:00:00",
          "2021-01-12T14:00:00",
          "2021-01-12T14:00:00",
          "2021-01-12T14:00:00",
          "2021-01-12T14:00:00",
          "2021-01-12T14:00:00",
          "2021-01-12T14:00:00",
          "2021-01-12T14:00:00",
          "2021-01-12T14:00:00",
          "2021-01-12T14:00:00",
          "2021-01-12T14:00:00",
          "2021-01-12T14:00:00",
          "2021-01-12T14:00:00",
          "2021-01-13T14:00:00",
          "2021-01-13T14:00:00",
          "2021-01-13T14:00:00",
          "2021-01-13T14:00:00",
          "2021-01-13T14:00:00",
          "2021-01-13T14:00:00",
          "2021-01-13T14:00:00",
          "2021-01-13T14:00:00",
          "2021-01-13T14:00:00",
          "2021-01-13T14:00:00",
          "2021-01-13T14:00:00",
          "2021-01-13T14:00:00",
          "2021-01-13T14:00:00",
          "2021-01-13T14:00:00",
          "2021-01-14T14:00:00",
          "2021-01-14T14:00:00",
          "2021-01-14T14:00:00",
          "2021-01-14T14:00:00",
          "2021-01-14T14:00:00",
          "2021-01-14T14:00:00",
          "2021-01-14T14:00:00",
          "2021-01-14T14:00:00",
          "2021-01-14T14:00:00",
          "2021-01-14T14:00:00",
          "2021-01-14T14:00:00",
          "2021-01-14T14:00:00",
          "2021-01-14T14:00:00",
          "2021-01-14T14:00:00",
          "2021-01-15T14:00:00",
          "2021-01-15T14:00:00",
          "2021-01-15T14:00:00",
          "2021-01-15T14:00:00",
          "2021-01-15T14:00:00",
          "2021-01-15T14:00:00",
          "2021-01-15T14:00:00",
          "2021-01-15T14:00:00",
          "2021-01-15T14:00:00",
          "2021-01-15T14:00:00",
          "2021-01-15T14:00:00",
          "2021-01-15T14:00:00",
          "2021-01-15T14:00:00",
          "2021-01-15T14:00:00",
          "2021-01-16T14:00:00",
          "2021-01-16T14:00:00",
          "2021-01-16T14:00:00",
          "2021-01-16T14:00:00",
          "2021-01-16T14:00:00",
          "2021-01-16T14:00:00",
          "2021-01-16T14:00:00",
          "2021-01-16T14:00:00",
          "2021-01-16T14:00:00",
          "2021-01-16T14:00:00",
          "2021-01-16T14:00:00",
          "2021-01-16T14:00:00",
          "2021-01-16T14:00:00",
          "2021-01-16T14:00:00",
          "2021-01-17T14:00:00",
          "2021-01-17T14:00:00",
          "2021-01-17T14:00:00",
          "2021-01-17T14:00:00",
          "2021-01-17T14:00:00",
          "2021-01-17T14:00:00",
          "2021-01-17T14:00:00",
          "2021-01-17T14:00:00",
          "2021-01-17T14:00:00",
          "2021-01-17T14:00:00",
          "2021-01-17T14:00:00",
          "2021-01-17T14:00:00",
          "2021-01-17T14:00:00",
          "2021-01-18T14:00:00",
          "2021-01-18T14:00:00",
          "2021-01-18T14:00:00",
          "2021-01-18T14:00:00",
          "2021-01-18T14:00:00",
          "2021-01-18T14:00:00",
          "2021-01-18T14:00:00",
          "2021-01-18T14:00:00",
          "2021-01-18T14:00:00",
          "2021-01-18T14:00:00",
          "2021-01-18T14:00:00",
          "2021-01-18T14:00:00",
          "2021-01-18T14:00:00",
          "2021-01-19T14:00:00",
          "2021-01-19T14:00:00",
          "2021-01-19T14:00:00",
          "2021-01-19T14:00:00",
          "2021-01-19T14:00:00",
          "2021-01-19T14:00:00",
          "2021-01-19T14:00:00",
          "2021-01-19T14:00:00",
          "2021-01-19T14:00:00",
          "2021-01-19T14:00:00",
          "2021-01-19T14:00:00",
          "2021-01-19T14:00:00",
          "2021-01-19T14:00:00",
          "2021-01-20T14:00:00",
          "2021-01-20T14:00:00",
          "2021-01-20T14:00:00",
          "2021-01-20T14:00:00",
          "2021-01-20T14:00:00",
          "2021-01-20T14:00:00",
          "2021-01-20T14:00:00",
          "2021-01-20T14:00:00",
          "2021-01-20T14:00:00",
          "2021-01-20T14:00:00",
          "2021-01-20T14:00:00",
          "2021-01-20T14:00:00",
          "2021-01-20T14:00:00",
          "2021-01-21T14:00:00",
          "2021-01-21T14:00:00",
          "2021-01-21T14:00:00",
          "2021-01-21T14:00:00",
          "2021-01-21T14:00:00",
          "2021-01-21T14:00:00",
          "2021-01-21T14:00:00",
          "2021-01-21T14:00:00",
          "2021-01-21T14:00:00",
          "2021-01-21T14:00:00",
          "2021-01-21T14:00:00",
          "2021-01-21T14:00:00",
          "2021-01-21T14:00:00",
          "2021-01-22T14:00:00",
          "2021-01-22T14:00:00",
          "2021-01-22T14:00:00",
          "2021-01-22T14:00:00",
          "2021-01-22T14:00:00",
          "2021-01-22T14:00:00",
          "2021-01-22T14:00:00",
          "2021-01-22T14:00:00",
          "2021-01-22T14:00:00",
          "2021-01-22T14:00:00",
          "2021-01-22T14:00:00",
          "2021-01-22T14:00:00",
          "2021-01-22T14:00:00",
          "2021-01-23T14:00:00",
          "2021-01-23T14:00:00",
          "2021-01-23T14:00:00",
          "2021-01-23T14:00:00",
          "2021-01-23T14:00:00",
          "2021-01-23T14:00:00",
          "2021-01-23T14:00:00",
          "2021-01-23T14:00:00",
          "2021-01-23T14:00:00",
          "2021-01-23T14:00:00",
          "2021-01-23T14:00:00",
          "2021-01-23T14:00:00",
          "2021-01-23T14:00:00",
          "2021-01-24T14:00:00",
          "2021-01-24T14:00:00",
          "2021-01-24T14:00:00",
          "2021-01-24T14:00:00",
          "2021-01-24T14:00:00",
          "2021-01-24T14:00:00",
          "2021-01-24T14:00:00",
          "2021-01-24T14:00:00",
          "2021-01-24T14:00:00",
          "2021-01-24T14:00:00",
          "2021-01-24T14:00:00",
          "2021-01-24T14:00:00",
          "2021-01-24T14:00:00",
          "2021-01-25T14:00:00",
          "2021-01-25T14:00:00",
          "2021-01-25T14:00:00",
          "2021-01-25T14:00:00",
          "2021-01-25T14:00:00",
          "2021-01-25T14:00:00",
          "2021-01-25T14:00:00",
          "2021-01-25T14:00:00",
          "2021-01-25T14:00:00",
          "2021-01-25T14:00:00",
          "2021-01-25T14:00:00",
          "2021-01-25T14:00:00",
          "2021-01-25T14:00:00",
          "2021-01-26T14:00:00",
          "2021-01-26T14:00:00",
          "2021-01-26T14:00:00",
          "2021-01-26T14:00:00",
          "2021-01-26T14:00:00",
          "2021-01-26T14:00:00",
          "2021-01-26T14:00:00",
          "2021-01-26T14:00:00",
          "2021-01-26T14:00:00",
          "2021-01-26T14:00:00",
          "2021-01-26T14:00:00",
          "2021-01-26T14:00:00",
          "2021-01-26T14:00:00",
          "2021-01-27T14:00:00",
          "2021-01-27T14:00:00",
          "2021-01-27T14:00:00",
          "2021-01-27T14:00:00",
          "2021-01-27T14:00:00",
          "2021-01-27T14:00:00",
          "2021-01-27T14:00:00",
          "2021-01-27T14:00:00",
          "2021-01-27T14:00:00",
          "2021-01-27T14:00:00",
          "2021-01-27T14:00:00",
          "2021-01-27T14:00:00",
          "2021-01-27T14:00:00"
         ],
         "xaxis": "x",
         "y": [
          0.7,
          0.2,
          0.2,
          0.2,
          0.2,
          0.6,
          0.2,
          0.2,
          0.8,
          0.2,
          0.6,
          0.2,
          0.2,
          0.2,
          9.7,
          9,
          10.8,
          10.6,
          10.6,
          11.3,
          10.4,
          9.9,
          10.8,
          9.9,
          9.6,
          9,
          9.8,
          9.8,
          8,
          7.9,
          8.5,
          8.8,
          8,
          8.2,
          8.4,
          7.4,
          8.4,
          7.7,
          7.1,
          8.2,
          6.7,
          7.2,
          8.7,
          10.4,
          11.7,
          11.8,
          12,
          11.8,
          11.5,
          10.1,
          11.6,
          9.4,
          8.7,
          7,
          8.1,
          9.5,
          9.8,
          8,
          12.8,
          12.6,
          11.3,
          10.2,
          11.8,
          8.5,
          12,
          10,
          7.6,
          7.1,
          2.6,
          9.5,
          6.4,
          7.4,
          14.4,
          13.1,
          12.9,
          11.6,
          12.4,
          7,
          12.9,
          8.5,
          6.7,
          6.5,
          6.4,
          8,
          10.7,
          4.9,
          15.8,
          15.1,
          15.5,
          11.6,
          13.6,
          4.3,
          12.4,
          9.5,
          4.6,
          3.8,
          7,
          11,
          12.3,
          8.1,
          13.3,
          10.6,
          10.2,
          9.2,
          8.5,
          8.2,
          9,
          10.8,
          7.3,
          6.5,
          6.4,
          12.7,
          4.5,
          8.5,
          18.1,
          16.7,
          16.5,
          10.8,
          13.9,
          8.5,
          13.7,
          6.1,
          9.4,
          8.7,
          10.4,
          4.6,
          9.2,
          3.5,
          17.1,
          15.7,
          16,
          16.5,
          16,
          3,
          16.6,
          7,
          5.2,
          5.4,
          5.7,
          8.5,
          13.2,
          9.2,
          13.7,
          15.7,
          15.3,
          15.8,
          14.7,
          9,
          15.9,
          12.7,
          8.5,
          7.2,
          7.3,
          12.5,
          13.3,
          12.5,
          16.3,
          13.7,
          14.3,
          15.1,
          10.1,
          14.2,
          14.4,
          14,
          13.1,
          13.6,
          15.1,
          14.2,
          12.2,
          12.6,
          16.4,
          14,
          14.5,
          12.1,
          12.8,
          13.2,
          12.2,
          13,
          13,
          13.6,
          13.4,
          13.1,
          5,
          7.5,
          17.1,
          14.4,
          14.9,
          12.5,
          12.5,
          7.5,
          12.9,
          7,
          8.7,
          10.2,
          8.1,
          6.7,
          6.2,
          9.2,
          13.9,
          12.9,
          14.2,
          13.8,
          13.5,
          9.2,
          13.9,
          6.6,
          9.7,
          10.9,
          9.4,
          5.9,
          9.4,
          6.6,
          10.5,
          11.5,
          10.9,
          13.5,
          12.9,
          6.6,
          11.6,
          9.6,
          5.5,
          5.4,
          7,
          10.1,
          10,
          4.6,
          9.9,
          10.1,
          9.8,
          11.3,
          12.5,
          5.2,
          10.3,
          11.4,
          6,
          5.1,
          3.1,
          10.4,
          12.4,
          5,
          5.1,
          7.4,
          7.8,
          9,
          11,
          6.7,
          9.8,
          13,
          7.3,
          6,
          4.2,
          11.3,
          12.6,
          10.3,
          6.3,
          12.1,
          12.2,
          12.7,
          14,
          11.6,
          12.8,
          14.5,
          11.4,
          10.5,
          10.2,
          12.1,
          13.5,
          11.5,
          11.2,
          13.3,
          14.3,
          14.4,
          13.8,
          12.7,
          14.2,
          13.5,
          12.4,
          11.4,
          11.3,
          11.4,
          13.7,
          11.4,
          14.8,
          18.5,
          18.9,
          14.2,
          15.7,
          12.6,
          16.9,
          13.7,
          12.9,
          12.9,
          10.5,
          12,
          11.9,
          12,
          16,
          16.6,
          16.8,
          14.3,
          14.6,
          12.3,
          15.5,
          11.9,
          12.8,
          13.5,
          11.5,
          12.6,
          12.1,
          11.5,
          16.9,
          16.9,
          17.2,
          13.5,
          14.3,
          11.9,
          16.1,
          11.8,
          12.2,
          13.4,
          9.1,
          13.1,
          12.6,
          10.8,
          9,
          17.4,
          17.5,
          12.1,
          12,
          10.5,
          14.1,
          12.6,
          11,
          11.4,
          10.7,
          14.8,
          17,
          11,
          15.3,
          14.6,
          13,
          13.5,
          13.6,
          10.9,
          14.6,
          17.7,
          10.3,
          9.8,
          10.8,
          17.3,
          16.8,
          11.8,
          16,
          17.1,
          16,
          15.1,
          15.6,
          10.5,
          15.9,
          17.5,
          11,
          9.2,
          12.1,
          12.2,
          11.6,
          11.5,
          18.8,
          17.6,
          17.5,
          11.3,
          12.6,
          11.2,
          16.7,
          16.8,
          9.8,
          8.1,
          10.8,
          12.4,
          10.1,
          11,
          17.5,
          17.8,
          17.8,
          10.2,
          10.1,
          12,
          15.8,
          12.6,
          13.4,
          12.2,
          9.7,
          8.6,
          9.4,
          12.4,
          14.2,
          13,
          13.3,
          13,
          13.1,
          13.8,
          15.7,
          5.5,
          14.7,
          14.9,
          12.2,
          12.1,
          12.2,
          10,
          18.1,
          15.1,
          14.6,
          17.5,
          16.9,
          11.5,
          14.9,
          11.6,
          8.6,
          9.2,
          11.2,
          14.1,
          11.3,
          9.1,
          9.2,
          15,
          10.2,
          16.4,
          16.5,
          8.6,
          15.4,
          11.7,
          8.7,
          8.5,
          11.3,
          11.5,
          9.3,
          10,
          13.4,
          14.5,
          15.3,
          15.6,
          14.7,
          10.3,
          14.6,
          10.7,
          12,
          13.4,
          15.1,
          9,
          11,
          12.8,
          15.1,
          14.2,
          14.5,
          14.4,
          15.1,
          14.6,
          15.1,
          11.7,
          14.3,
          15.5,
          14.7,
          9.9,
          11.6,
          13.2,
          17,
          16.5,
          17.4,
          14.6,
          15,
          13.6,
          16.8,
          4.3,
          12.4,
          9.9,
          13.7,
          12,
          9.1,
          9.9,
          17.9,
          17.7,
          18.1,
          14.1,
          12.4,
          11.1,
          15.6,
          11.3,
          9.8,
          11.5,
          11.7,
          10.7,
          8,
          11.5,
          13.9,
          16.3,
          14.5,
          13,
          11.7,
          11.1,
          15.5,
          8.2,
          12.8,
          14.2,
          11.7,
          8.4,
          8,
          12.5,
          16.6,
          16.5,
          16.5,
          13.1,
          11.4,
          10.6,
          13.1,
          8,
          10.8,
          11.4,
          14.9,
          7.6,
          16.6,
          11.2,
          7.4,
          8.3,
          7.4,
          14.6,
          13.1,
          11.7,
          9,
          15.6,
          11.5,
          10.8,
          11.4,
          17.3,
          15.7,
          8.6,
          14.1,
          12.7,
          13,
          15.5,
          13.8,
          12.4,
          11,
          15.3,
          9.7,
          11.1,
          6.3,
          15,
          15.4,
          12.8,
          17.8,
          16.4,
          17.5,
          14.9,
          14.5,
          9.9,
          16,
          16,
          9.8,
          10.1,
          2.3,
          15.5,
          13.6,
          10.2,
          16.4,
          15.3,
          15.8,
          13.1,
          13.3,
          13.6,
          13.6,
          11.9,
          14.3,
          13.5,
          5.8,
          15.2,
          10.8,
          9.4,
          11.5,
          12.4,
          11.2,
          14,
          13.7,
          15,
          11.9,
          10.7,
          14.1,
          16.1,
          8.7,
          11.6,
          14.5,
          9.9,
          12.7,
          11.7,
          10.9,
          17,
          16.2,
          11.9,
          15.8,
          13.7,
          11.4,
          11.6,
          7.2,
          16.8,
          15.4,
          12.5,
          13.9,
          14.4,
          12.5,
          16.4,
          15.5,
          10,
          15.9,
          15.3,
          10,
          10.3,
          9,
          15.7,
          13.2,
          11.7,
          14,
          13.5,
          13.4,
          14,
          13.5,
          10.4,
          14.2,
          11.3,
          9.2,
          9.8,
          7.1,
          15.2,
          7.8,
          12.2,
          10.5,
          11.7,
          13.5,
          6.8,
          7.5,
          11.9,
          13.9,
          7.6,
          10.4,
          10.8,
          12.2,
          14.3,
          12.8,
          12.2,
          9.3,
          8.8,
          8.9,
          10,
          8,
          15.3,
          12.8,
          14.3,
          12,
          16.5,
          9.1,
          13.7,
          15.4,
          10.5,
          11.2,
          10.2,
          11,
          10.6,
          9.8,
          12.3,
          11.2,
          14.3,
          9.4,
          11.2,
          8.3,
          16.5,
          15.9,
          10.3,
          7.1,
          6,
          6.8,
          10.4,
          8.6,
          15.5,
          7.9,
          14,
          7.7,
          12.7,
          10.3,
          16.5,
          13.6,
          11.4,
          8.3,
          9.1,
          8.5,
          14.8,
          11.7,
          12.8,
          8.2,
          13.1,
          9.3,
          10.4,
          11.4,
          16.6,
          11.3,
          11.5,
          15.5,
          17.3,
          16.8,
          14,
          15.1,
          12.3,
          16,
          11,
          10.7,
          12.4,
          11.9,
          16.2,
          13.6,
          10.9,
          16.5,
          15.6,
          15.3,
          10.6,
          14.1,
          12.2,
          13.1,
          14.4,
          12.1,
          12.8,
          2.7,
          14.2,
          16.9,
          8.8,
          13.1,
          14.9,
          15.4,
          14.7,
          13.8,
          13.1,
          14.1,
          12.9,
          9.9,
          14.1,
          5.4,
          10.6,
          16.1,
          10.4,
          9.1,
          9.8,
          12.2,
          18.4,
          15.4,
          12.6,
          10.8,
          10,
          9.6,
          12.4,
          6.3,
          12,
          14.9,
          10.2,
          12.9,
          12.6,
          11.8,
          16.2,
          14.2,
          11.9,
          14.2,
          14.7,
          7.6,
          13.7,
          4.1,
          12.1,
          14.7,
          9.8,
          15.6,
          16.4,
          18.2,
          14.1,
          13.9,
          10.7,
          14.3,
          13.2,
          10.1,
          10.8,
          4,
          13.3,
          12.6,
          11.5,
          12.5,
          13.2,
          15.3,
          15.2,
          12.6,
          13.7,
          13.3,
          12.6,
          11,
          14.6,
          6.3,
          12.3,
          10.7,
          9.8,
          14.1,
          14.9,
          14.9,
          14.6,
          14.5,
          10.5,
          14,
          11.8,
          9.2,
          9.8,
          10.6,
          14.4,
          12.7,
          11.7,
          15.2,
          15.7,
          16.6,
          15,
          12.3,
          14.3,
          13.3,
          14.9,
          11,
          13.4,
          8.3,
          12.9,
          11,
          10.9,
          16.9,
          14.8,
          14.7,
          10.2,
          12.2,
          12.1,
          13.1,
          14.5,
          12.8,
          13.7,
          10.3,
          13.4,
          13.8,
          11.2,
          12.3,
          10.3,
          8.1,
          9.3,
          10.6,
          9.2,
          14,
          12.2,
          9,
          9.2,
          9.4,
          8.5,
          11.8,
          12.3,
          9.2,
          8.8,
          10.9,
          10.3,
          12,
          6.5,
          11.4,
          11.5,
          7.2,
          7.6,
          9,
          7.4,
          10.3,
          9.8,
          9.3,
          10.5,
          14.9,
          11.9,
          6,
          13.9,
          9.4,
          7.4,
          9.5,
          12.8,
          12.6,
          10.6,
          12.5,
          9,
          16.5,
          16.7,
          15.2,
          15.2,
          11,
          11.7,
          16.4,
          15.4,
          9.5,
          13.1,
          10.5,
          12.4,
          13.1,
          12.7,
          12.5,
          13.5,
          11.9,
          13.6,
          14.7,
          12.4,
          12.4,
          10.8,
          11.5,
          12.1,
          12.3,
          12,
          9.8,
          9.9,
          14.4,
          14,
          10.2,
          8.1,
          11.7,
          14.5,
          10.2,
          13.6,
          11.2,
          14.7,
          11,
          10.4,
          11.4,
          11.7,
          9.3,
          9.1,
          8.4,
          11.9,
          9.3,
          9.3,
          10.7,
          14.5,
          10.1,
          9.9,
          2,
          14.1,
          11.8,
          9.7,
          10.2,
          11.9,
          13.3,
          10.9,
          12.7,
          15.4,
          7.8,
          13.2,
          9,
          15,
          4.6,
          9.5,
          11.4,
          12.4,
          13.5,
          13.4,
          14,
          7,
          11.9,
          14.7,
          11.4,
          9.3,
          10.8,
          15.3,
          9.2,
          12.1,
          12,
          11.9,
          15.2,
          13.7,
          14.8,
          6.3,
          8.4,
          15.9,
          14.8,
          8.8,
          10.9,
          15.9,
          6.3,
          7.5,
          11.9,
          12.4,
          16.5,
          15.2,
          13.7,
          14.1,
          4,
          13,
          11.9,
          6.3,
          10,
          13,
          6.2,
          12.4,
          11.5,
          8.4,
          9.4,
          8.4,
          14.7,
          12,
          7.2,
          14,
          6.8,
          10.9,
          5,
          13.4,
          11.8,
          11,
          12.1,
          9.3,
          12.7,
          14,
          11.3,
          10.5,
          12.3,
          13.3,
          9.6,
          10.7,
          8.7,
          7.1,
          11.5,
          15.4,
          14.4,
          14.1,
          13.9,
          13.5,
          11.9,
          12.2,
          11.2,
          9.3,
          10.6,
          9.6,
          10.3,
          10.4,
          15.5,
          15.1,
          14.7,
          11.7,
          13.2,
          12.3,
          13.7,
          12,
          10.1,
          14.8,
          5.6,
          12.9,
          12.2,
          14.5,
          14.8,
          14.3,
          11.2,
          11.7,
          14.2,
          14.7,
          10.3,
          11,
          15.1,
          6,
          11.4,
          12.6,
          11.4,
          11.2,
          12.7,
          10.6,
          6.7,
          16.7,
          12.2,
          15.1,
          10.3,
          15.5,
          9.6,
          9,
          14.1,
          13.1,
          12.4,
          12.6,
          11,
          5.5,
          13.3,
          9.2,
          9.8,
          11.6,
          14.5,
          10.1,
          10.4,
          8.9,
          17.3,
          12.2,
          13.8,
          11.9,
          6.2,
          5.9,
          10.7,
          3.7,
          7.4,
          4.3,
          10.8,
          13.1,
          12.6,
          12.9,
          14,
          13,
          13.2,
          11.4,
          6.2,
          14.3,
          7.3,
          12.7,
          8.3,
          12,
          13,
          11.5,
          17.1,
          16.7,
          16.6,
          10.3,
          12.3,
          10.5,
          17.7,
          12.9,
          11.4,
          9.6,
          13.5
         ],
         "yaxis": "y"
        },
        {
         "alignmentgroup": "True",
         "hovertemplate": "color=2<br>Vitesse en 24H=%{y}<extra></extra>",
         "legendgroup": "2",
         "marker": {
          "color": "#636efa",
          "symbol": "circle"
         },
         "name": "2",
         "notched": true,
         "offsetgroup": "2",
         "showlegend": false,
         "type": "box",
         "xaxis": "x2",
         "y": [
          0.7,
          0.2,
          0.2,
          0.2,
          0.2,
          0.6,
          0.2,
          0.2,
          0.8,
          0.2,
          0.6,
          0.2,
          0.2,
          0.2,
          9.7,
          9,
          10.8,
          10.6,
          10.6,
          11.3,
          10.4,
          9.9,
          10.8,
          9.9,
          9.6,
          9,
          9.8,
          9.8,
          8,
          7.9,
          8.5,
          8.8,
          8,
          8.2,
          8.4,
          7.4,
          8.4,
          7.7,
          7.1,
          8.2,
          6.7,
          7.2,
          8.7,
          10.4,
          11.7,
          11.8,
          12,
          11.8,
          11.5,
          10.1,
          11.6,
          9.4,
          8.7,
          7,
          8.1,
          9.5,
          9.8,
          8,
          12.8,
          12.6,
          11.3,
          10.2,
          11.8,
          8.5,
          12,
          10,
          7.6,
          7.1,
          2.6,
          9.5,
          6.4,
          7.4,
          14.4,
          13.1,
          12.9,
          11.6,
          12.4,
          7,
          12.9,
          8.5,
          6.7,
          6.5,
          6.4,
          8,
          10.7,
          4.9,
          15.8,
          15.1,
          15.5,
          11.6,
          13.6,
          4.3,
          12.4,
          9.5,
          4.6,
          3.8,
          7,
          11,
          12.3,
          8.1,
          13.3,
          10.6,
          10.2,
          9.2,
          8.5,
          8.2,
          9,
          10.8,
          7.3,
          6.5,
          6.4,
          12.7,
          4.5,
          8.5,
          18.1,
          16.7,
          16.5,
          10.8,
          13.9,
          8.5,
          13.7,
          6.1,
          9.4,
          8.7,
          10.4,
          4.6,
          9.2,
          3.5,
          17.1,
          15.7,
          16,
          16.5,
          16,
          3,
          16.6,
          7,
          5.2,
          5.4,
          5.7,
          8.5,
          13.2,
          9.2,
          13.7,
          15.7,
          15.3,
          15.8,
          14.7,
          9,
          15.9,
          12.7,
          8.5,
          7.2,
          7.3,
          12.5,
          13.3,
          12.5,
          16.3,
          13.7,
          14.3,
          15.1,
          10.1,
          14.2,
          14.4,
          14,
          13.1,
          13.6,
          15.1,
          14.2,
          12.2,
          12.6,
          16.4,
          14,
          14.5,
          12.1,
          12.8,
          13.2,
          12.2,
          13,
          13,
          13.6,
          13.4,
          13.1,
          5,
          7.5,
          17.1,
          14.4,
          14.9,
          12.5,
          12.5,
          7.5,
          12.9,
          7,
          8.7,
          10.2,
          8.1,
          6.7,
          6.2,
          9.2,
          13.9,
          12.9,
          14.2,
          13.8,
          13.5,
          9.2,
          13.9,
          6.6,
          9.7,
          10.9,
          9.4,
          5.9,
          9.4,
          6.6,
          10.5,
          11.5,
          10.9,
          13.5,
          12.9,
          6.6,
          11.6,
          9.6,
          5.5,
          5.4,
          7,
          10.1,
          10,
          4.6,
          9.9,
          10.1,
          9.8,
          11.3,
          12.5,
          5.2,
          10.3,
          11.4,
          6,
          5.1,
          3.1,
          10.4,
          12.4,
          5,
          5.1,
          7.4,
          7.8,
          9,
          11,
          6.7,
          9.8,
          13,
          7.3,
          6,
          4.2,
          11.3,
          12.6,
          10.3,
          6.3,
          12.1,
          12.2,
          12.7,
          14,
          11.6,
          12.8,
          14.5,
          11.4,
          10.5,
          10.2,
          12.1,
          13.5,
          11.5,
          11.2,
          13.3,
          14.3,
          14.4,
          13.8,
          12.7,
          14.2,
          13.5,
          12.4,
          11.4,
          11.3,
          11.4,
          13.7,
          11.4,
          14.8,
          18.5,
          18.9,
          14.2,
          15.7,
          12.6,
          16.9,
          13.7,
          12.9,
          12.9,
          10.5,
          12,
          11.9,
          12,
          16,
          16.6,
          16.8,
          14.3,
          14.6,
          12.3,
          15.5,
          11.9,
          12.8,
          13.5,
          11.5,
          12.6,
          12.1,
          11.5,
          16.9,
          16.9,
          17.2,
          13.5,
          14.3,
          11.9,
          16.1,
          11.8,
          12.2,
          13.4,
          9.1,
          13.1,
          12.6,
          10.8,
          9,
          17.4,
          17.5,
          12.1,
          12,
          10.5,
          14.1,
          12.6,
          11,
          11.4,
          10.7,
          14.8,
          17,
          11,
          15.3,
          14.6,
          13,
          13.5,
          13.6,
          10.9,
          14.6,
          17.7,
          10.3,
          9.8,
          10.8,
          17.3,
          16.8,
          11.8,
          16,
          17.1,
          16,
          15.1,
          15.6,
          10.5,
          15.9,
          17.5,
          11,
          9.2,
          12.1,
          12.2,
          11.6,
          11.5,
          18.8,
          17.6,
          17.5,
          11.3,
          12.6,
          11.2,
          16.7,
          16.8,
          9.8,
          8.1,
          10.8,
          12.4,
          10.1,
          11,
          17.5,
          17.8,
          17.8,
          10.2,
          10.1,
          12,
          15.8,
          12.6,
          13.4,
          12.2,
          9.7,
          8.6,
          9.4,
          12.4,
          14.2,
          13,
          13.3,
          13,
          13.1,
          13.8,
          15.7,
          5.5,
          14.7,
          14.9,
          12.2,
          12.1,
          12.2,
          10,
          18.1,
          15.1,
          14.6,
          17.5,
          16.9,
          11.5,
          14.9,
          11.6,
          8.6,
          9.2,
          11.2,
          14.1,
          11.3,
          9.1,
          9.2,
          15,
          10.2,
          16.4,
          16.5,
          8.6,
          15.4,
          11.7,
          8.7,
          8.5,
          11.3,
          11.5,
          9.3,
          10,
          13.4,
          14.5,
          15.3,
          15.6,
          14.7,
          10.3,
          14.6,
          10.7,
          12,
          13.4,
          15.1,
          9,
          11,
          12.8,
          15.1,
          14.2,
          14.5,
          14.4,
          15.1,
          14.6,
          15.1,
          11.7,
          14.3,
          15.5,
          14.7,
          9.9,
          11.6,
          13.2,
          17,
          16.5,
          17.4,
          14.6,
          15,
          13.6,
          16.8,
          4.3,
          12.4,
          9.9,
          13.7,
          12,
          9.1,
          9.9,
          17.9,
          17.7,
          18.1,
          14.1,
          12.4,
          11.1,
          15.6,
          11.3,
          9.8,
          11.5,
          11.7,
          10.7,
          8,
          11.5,
          13.9,
          16.3,
          14.5,
          13,
          11.7,
          11.1,
          15.5,
          8.2,
          12.8,
          14.2,
          11.7,
          8.4,
          8,
          12.5,
          16.6,
          16.5,
          16.5,
          13.1,
          11.4,
          10.6,
          13.1,
          8,
          10.8,
          11.4,
          14.9,
          7.6,
          16.6,
          11.2,
          7.4,
          8.3,
          7.4,
          14.6,
          13.1,
          11.7,
          9,
          15.6,
          11.5,
          10.8,
          11.4,
          17.3,
          15.7,
          8.6,
          14.1,
          12.7,
          13,
          15.5,
          13.8,
          12.4,
          11,
          15.3,
          9.7,
          11.1,
          6.3,
          15,
          15.4,
          12.8,
          17.8,
          16.4,
          17.5,
          14.9,
          14.5,
          9.9,
          16,
          16,
          9.8,
          10.1,
          2.3,
          15.5,
          13.6,
          10.2,
          16.4,
          15.3,
          15.8,
          13.1,
          13.3,
          13.6,
          13.6,
          11.9,
          14.3,
          13.5,
          5.8,
          15.2,
          10.8,
          9.4,
          11.5,
          12.4,
          11.2,
          14,
          13.7,
          15,
          11.9,
          10.7,
          14.1,
          16.1,
          8.7,
          11.6,
          14.5,
          9.9,
          12.7,
          11.7,
          10.9,
          17,
          16.2,
          11.9,
          15.8,
          13.7,
          11.4,
          11.6,
          7.2,
          16.8,
          15.4,
          12.5,
          13.9,
          14.4,
          12.5,
          16.4,
          15.5,
          10,
          15.9,
          15.3,
          10,
          10.3,
          9,
          15.7,
          13.2,
          11.7,
          14,
          13.5,
          13.4,
          14,
          13.5,
          10.4,
          14.2,
          11.3,
          9.2,
          9.8,
          7.1,
          15.2,
          7.8,
          12.2,
          10.5,
          11.7,
          13.5,
          6.8,
          7.5,
          11.9,
          13.9,
          7.6,
          10.4,
          10.8,
          12.2,
          14.3,
          12.8,
          12.2,
          9.3,
          8.8,
          8.9,
          10,
          8,
          15.3,
          12.8,
          14.3,
          12,
          16.5,
          9.1,
          13.7,
          15.4,
          10.5,
          11.2,
          10.2,
          11,
          10.6,
          9.8,
          12.3,
          11.2,
          14.3,
          9.4,
          11.2,
          8.3,
          16.5,
          15.9,
          10.3,
          7.1,
          6,
          6.8,
          10.4,
          8.6,
          15.5,
          7.9,
          14,
          7.7,
          12.7,
          10.3,
          16.5,
          13.6,
          11.4,
          8.3,
          9.1,
          8.5,
          14.8,
          11.7,
          12.8,
          8.2,
          13.1,
          9.3,
          10.4,
          11.4,
          16.6,
          11.3,
          11.5,
          15.5,
          17.3,
          16.8,
          14,
          15.1,
          12.3,
          16,
          11,
          10.7,
          12.4,
          11.9,
          16.2,
          13.6,
          10.9,
          16.5,
          15.6,
          15.3,
          10.6,
          14.1,
          12.2,
          13.1,
          14.4,
          12.1,
          12.8,
          2.7,
          14.2,
          16.9,
          8.8,
          13.1,
          14.9,
          15.4,
          14.7,
          13.8,
          13.1,
          14.1,
          12.9,
          9.9,
          14.1,
          5.4,
          10.6,
          16.1,
          10.4,
          9.1,
          9.8,
          12.2,
          18.4,
          15.4,
          12.6,
          10.8,
          10,
          9.6,
          12.4,
          6.3,
          12,
          14.9,
          10.2,
          12.9,
          12.6,
          11.8,
          16.2,
          14.2,
          11.9,
          14.2,
          14.7,
          7.6,
          13.7,
          4.1,
          12.1,
          14.7,
          9.8,
          15.6,
          16.4,
          18.2,
          14.1,
          13.9,
          10.7,
          14.3,
          13.2,
          10.1,
          10.8,
          4,
          13.3,
          12.6,
          11.5,
          12.5,
          13.2,
          15.3,
          15.2,
          12.6,
          13.7,
          13.3,
          12.6,
          11,
          14.6,
          6.3,
          12.3,
          10.7,
          9.8,
          14.1,
          14.9,
          14.9,
          14.6,
          14.5,
          10.5,
          14,
          11.8,
          9.2,
          9.8,
          10.6,
          14.4,
          12.7,
          11.7,
          15.2,
          15.7,
          16.6,
          15,
          12.3,
          14.3,
          13.3,
          14.9,
          11,
          13.4,
          8.3,
          12.9,
          11,
          10.9,
          16.9,
          14.8,
          14.7,
          10.2,
          12.2,
          12.1,
          13.1,
          14.5,
          12.8,
          13.7,
          10.3,
          13.4,
          13.8,
          11.2,
          12.3,
          10.3,
          8.1,
          9.3,
          10.6,
          9.2,
          14,
          12.2,
          9,
          9.2,
          9.4,
          8.5,
          11.8,
          12.3,
          9.2,
          8.8,
          10.9,
          10.3,
          12,
          6.5,
          11.4,
          11.5,
          7.2,
          7.6,
          9,
          7.4,
          10.3,
          9.8,
          9.3,
          10.5,
          14.9,
          11.9,
          6,
          13.9,
          9.4,
          7.4,
          9.5,
          12.8,
          12.6,
          10.6,
          12.5,
          9,
          16.5,
          16.7,
          15.2,
          15.2,
          11,
          11.7,
          16.4,
          15.4,
          9.5,
          13.1,
          10.5,
          12.4,
          13.1,
          12.7,
          12.5,
          13.5,
          11.9,
          13.6,
          14.7,
          12.4,
          12.4,
          10.8,
          11.5,
          12.1,
          12.3,
          12,
          9.8,
          9.9,
          14.4,
          14,
          10.2,
          8.1,
          11.7,
          14.5,
          10.2,
          13.6,
          11.2,
          14.7,
          11,
          10.4,
          11.4,
          11.7,
          9.3,
          9.1,
          8.4,
          11.9,
          9.3,
          9.3,
          10.7,
          14.5,
          10.1,
          9.9,
          2,
          14.1,
          11.8,
          9.7,
          10.2,
          11.9,
          13.3,
          10.9,
          12.7,
          15.4,
          7.8,
          13.2,
          9,
          15,
          4.6,
          9.5,
          11.4,
          12.4,
          13.5,
          13.4,
          14,
          7,
          11.9,
          14.7,
          11.4,
          9.3,
          10.8,
          15.3,
          9.2,
          12.1,
          12,
          11.9,
          15.2,
          13.7,
          14.8,
          6.3,
          8.4,
          15.9,
          14.8,
          8.8,
          10.9,
          15.9,
          6.3,
          7.5,
          11.9,
          12.4,
          16.5,
          15.2,
          13.7,
          14.1,
          4,
          13,
          11.9,
          6.3,
          10,
          13,
          6.2,
          12.4,
          11.5,
          8.4,
          9.4,
          8.4,
          14.7,
          12,
          7.2,
          14,
          6.8,
          10.9,
          5,
          13.4,
          11.8,
          11,
          12.1,
          9.3,
          12.7,
          14,
          11.3,
          10.5,
          12.3,
          13.3,
          9.6,
          10.7,
          8.7,
          7.1,
          11.5,
          15.4,
          14.4,
          14.1,
          13.9,
          13.5,
          11.9,
          12.2,
          11.2,
          9.3,
          10.6,
          9.6,
          10.3,
          10.4,
          15.5,
          15.1,
          14.7,
          11.7,
          13.2,
          12.3,
          13.7,
          12,
          10.1,
          14.8,
          5.6,
          12.9,
          12.2,
          14.5,
          14.8,
          14.3,
          11.2,
          11.7,
          14.2,
          14.7,
          10.3,
          11,
          15.1,
          6,
          11.4,
          12.6,
          11.4,
          11.2,
          12.7,
          10.6,
          6.7,
          16.7,
          12.2,
          15.1,
          10.3,
          15.5,
          9.6,
          9,
          14.1,
          13.1,
          12.4,
          12.6,
          11,
          5.5,
          13.3,
          9.2,
          9.8,
          11.6,
          14.5,
          10.1,
          10.4,
          8.9,
          17.3,
          12.2,
          13.8,
          11.9,
          6.2,
          5.9,
          10.7,
          3.7,
          7.4,
          4.3,
          10.8,
          13.1,
          12.6,
          12.9,
          14,
          13,
          13.2,
          11.4,
          6.2,
          14.3,
          7.3,
          12.7,
          8.3,
          12,
          13,
          11.5,
          17.1,
          16.7,
          16.6,
          10.3,
          12.3,
          10.5,
          17.7,
          12.9,
          11.4,
          9.6,
          13.5
         ],
         "yaxis": "y2"
        },
        {
         "hovertemplate": "color=foils<br>Date=%{x}<br>Vitesse en 24H=%{y}<extra></extra>",
         "legendgroup": "foils",
         "marker": {
          "color": "#EF553B",
          "symbol": "circle"
         },
         "mode": "markers",
         "name": "foils",
         "showlegend": true,
         "type": "scattergl",
         "x": [
          "2020-11-08T14:00:00",
          "2020-11-08T14:00:00",
          "2020-11-08T14:00:00",
          "2020-11-08T14:00:00",
          "2020-11-08T14:00:00",
          "2020-11-08T14:00:00",
          "2020-11-08T14:00:00",
          "2020-11-08T14:00:00",
          "2020-11-08T14:00:00",
          "2020-11-08T14:00:00",
          "2020-11-08T14:00:00",
          "2020-11-08T14:00:00",
          "2020-11-08T14:00:00",
          "2020-11-08T14:00:00",
          "2020-11-08T14:00:00",
          "2020-11-08T14:00:00",
          "2020-11-08T14:00:00",
          "2020-11-09T14:00:00",
          "2020-11-09T14:00:00",
          "2020-11-09T14:00:00",
          "2020-11-09T14:00:00",
          "2020-11-09T14:00:00",
          "2020-11-09T14:00:00",
          "2020-11-09T14:00:00",
          "2020-11-09T14:00:00",
          "2020-11-09T14:00:00",
          "2020-11-09T14:00:00",
          "2020-11-09T14:00:00",
          "2020-11-09T14:00:00",
          "2020-11-09T14:00:00",
          "2020-11-09T14:00:00",
          "2020-11-09T14:00:00",
          "2020-11-09T14:00:00",
          "2020-11-09T14:00:00",
          "2020-11-09T14:00:00",
          "2020-11-09T14:00:00",
          "2020-11-10T14:00:00",
          "2020-11-10T14:00:00",
          "2020-11-10T14:00:00",
          "2020-11-10T14:00:00",
          "2020-11-10T14:00:00",
          "2020-11-10T14:00:00",
          "2020-11-10T14:00:00",
          "2020-11-10T14:00:00",
          "2020-11-10T14:00:00",
          "2020-11-10T14:00:00",
          "2020-11-10T14:00:00",
          "2020-11-10T14:00:00",
          "2020-11-10T14:00:00",
          "2020-11-10T14:00:00",
          "2020-11-10T14:00:00",
          "2020-11-10T14:00:00",
          "2020-11-10T14:00:00",
          "2020-11-10T14:00:00",
          "2020-11-10T14:00:00",
          "2020-11-11T14:00:00",
          "2020-11-11T14:00:00",
          "2020-11-11T14:00:00",
          "2020-11-11T14:00:00",
          "2020-11-11T14:00:00",
          "2020-11-11T14:00:00",
          "2020-11-11T14:00:00",
          "2020-11-11T14:00:00",
          "2020-11-11T14:00:00",
          "2020-11-11T14:00:00",
          "2020-11-11T14:00:00",
          "2020-11-11T14:00:00",
          "2020-11-11T14:00:00",
          "2020-11-11T14:00:00",
          "2020-11-11T14:00:00",
          "2020-11-11T14:00:00",
          "2020-11-11T14:00:00",
          "2020-11-11T14:00:00",
          "2020-11-11T14:00:00",
          "2020-11-12T14:00:00",
          "2020-11-12T14:00:00",
          "2020-11-12T14:00:00",
          "2020-11-12T14:00:00",
          "2020-11-12T14:00:00",
          "2020-11-12T14:00:00",
          "2020-11-12T14:00:00",
          "2020-11-12T14:00:00",
          "2020-11-12T14:00:00",
          "2020-11-12T14:00:00",
          "2020-11-12T14:00:00",
          "2020-11-12T14:00:00",
          "2020-11-12T14:00:00",
          "2020-11-12T14:00:00",
          "2020-11-12T14:00:00",
          "2020-11-12T14:00:00",
          "2020-11-12T14:00:00",
          "2020-11-12T14:00:00",
          "2020-11-12T14:00:00",
          "2020-11-13T14:00:00",
          "2020-11-13T14:00:00",
          "2020-11-13T14:00:00",
          "2020-11-13T14:00:00",
          "2020-11-13T14:00:00",
          "2020-11-13T14:00:00",
          "2020-11-13T14:00:00",
          "2020-11-13T14:00:00",
          "2020-11-13T14:00:00",
          "2020-11-13T14:00:00",
          "2020-11-13T14:00:00",
          "2020-11-13T14:00:00",
          "2020-11-13T14:00:00",
          "2020-11-13T14:00:00",
          "2020-11-13T14:00:00",
          "2020-11-13T14:00:00",
          "2020-11-13T14:00:00",
          "2020-11-13T14:00:00",
          "2020-11-13T14:00:00",
          "2020-11-14T14:00:00",
          "2020-11-14T14:00:00",
          "2020-11-14T14:00:00",
          "2020-11-14T14:00:00",
          "2020-11-14T14:00:00",
          "2020-11-14T14:00:00",
          "2020-11-14T14:00:00",
          "2020-11-14T14:00:00",
          "2020-11-14T14:00:00",
          "2020-11-14T14:00:00",
          "2020-11-14T14:00:00",
          "2020-11-14T14:00:00",
          "2020-11-14T14:00:00",
          "2020-11-14T14:00:00",
          "2020-11-14T14:00:00",
          "2020-11-14T14:00:00",
          "2020-11-14T14:00:00",
          "2020-11-14T14:00:00",
          "2020-11-14T14:00:00",
          "2020-11-15T14:00:00",
          "2020-11-15T14:00:00",
          "2020-11-15T14:00:00",
          "2020-11-15T14:00:00",
          "2020-11-15T14:00:00",
          "2020-11-15T14:00:00",
          "2020-11-15T14:00:00",
          "2020-11-15T14:00:00",
          "2020-11-15T14:00:00",
          "2020-11-15T14:00:00",
          "2020-11-15T14:00:00",
          "2020-11-15T14:00:00",
          "2020-11-15T14:00:00",
          "2020-11-15T14:00:00",
          "2020-11-15T14:00:00",
          "2020-11-15T14:00:00",
          "2020-11-15T14:00:00",
          "2020-11-15T14:00:00",
          "2020-11-15T14:00:00",
          "2020-11-16T14:00:00",
          "2020-11-16T14:00:00",
          "2020-11-16T14:00:00",
          "2020-11-16T14:00:00",
          "2020-11-16T14:00:00",
          "2020-11-16T14:00:00",
          "2020-11-16T14:00:00",
          "2020-11-16T14:00:00",
          "2020-11-16T14:00:00",
          "2020-11-16T14:00:00",
          "2020-11-16T14:00:00",
          "2020-11-16T14:00:00",
          "2020-11-16T14:00:00",
          "2020-11-16T14:00:00",
          "2020-11-16T14:00:00",
          "2020-11-16T14:00:00",
          "2020-11-16T14:00:00",
          "2020-11-16T14:00:00",
          "2020-11-16T14:00:00",
          "2020-11-17T14:00:00",
          "2020-11-17T14:00:00",
          "2020-11-17T14:00:00",
          "2020-11-17T14:00:00",
          "2020-11-17T14:00:00",
          "2020-11-17T14:00:00",
          "2020-11-17T14:00:00",
          "2020-11-17T14:00:00",
          "2020-11-17T14:00:00",
          "2020-11-17T14:00:00",
          "2020-11-17T14:00:00",
          "2020-11-17T14:00:00",
          "2020-11-17T14:00:00",
          "2020-11-17T14:00:00",
          "2020-11-17T14:00:00",
          "2020-11-17T14:00:00",
          "2020-11-17T14:00:00",
          "2020-11-17T14:00:00",
          "2020-11-18T14:00:00",
          "2020-11-18T14:00:00",
          "2020-11-18T14:00:00",
          "2020-11-18T14:00:00",
          "2020-11-18T14:00:00",
          "2020-11-18T14:00:00",
          "2020-11-18T14:00:00",
          "2020-11-18T14:00:00",
          "2020-11-18T14:00:00",
          "2020-11-18T14:00:00",
          "2020-11-18T14:00:00",
          "2020-11-18T14:00:00",
          "2020-11-18T14:00:00",
          "2020-11-18T14:00:00",
          "2020-11-18T14:00:00",
          "2020-11-18T14:00:00",
          "2020-11-18T14:00:00",
          "2020-11-18T14:00:00",
          "2020-11-19T14:00:00",
          "2020-11-19T14:00:00",
          "2020-11-19T14:00:00",
          "2020-11-19T14:00:00",
          "2020-11-19T14:00:00",
          "2020-11-19T14:00:00",
          "2020-11-19T14:00:00",
          "2020-11-19T14:00:00",
          "2020-11-19T14:00:00",
          "2020-11-19T14:00:00",
          "2020-11-19T14:00:00",
          "2020-11-19T14:00:00",
          "2020-11-19T14:00:00",
          "2020-11-19T14:00:00",
          "2020-11-19T14:00:00",
          "2020-11-19T14:00:00",
          "2020-11-19T14:00:00",
          "2020-11-19T14:00:00",
          "2020-11-20T14:00:00",
          "2020-11-20T14:00:00",
          "2020-11-20T14:00:00",
          "2020-11-20T14:00:00",
          "2020-11-20T14:00:00",
          "2020-11-20T14:00:00",
          "2020-11-20T14:00:00",
          "2020-11-20T14:00:00",
          "2020-11-20T14:00:00",
          "2020-11-20T14:00:00",
          "2020-11-20T14:00:00",
          "2020-11-20T14:00:00",
          "2020-11-20T14:00:00",
          "2020-11-20T14:00:00",
          "2020-11-20T14:00:00",
          "2020-11-20T14:00:00",
          "2020-11-20T14:00:00",
          "2020-11-20T14:00:00",
          "2020-11-21T14:00:00",
          "2020-11-21T14:00:00",
          "2020-11-21T14:00:00",
          "2020-11-21T14:00:00",
          "2020-11-21T14:00:00",
          "2020-11-21T14:00:00",
          "2020-11-21T14:00:00",
          "2020-11-21T14:00:00",
          "2020-11-21T14:00:00",
          "2020-11-21T14:00:00",
          "2020-11-21T14:00:00",
          "2020-11-21T14:00:00",
          "2020-11-21T14:00:00",
          "2020-11-21T14:00:00",
          "2020-11-21T14:00:00",
          "2020-11-21T14:00:00",
          "2020-11-21T14:00:00",
          "2020-11-21T14:00:00",
          "2020-11-22T14:00:00",
          "2020-11-22T14:00:00",
          "2020-11-22T14:00:00",
          "2020-11-22T14:00:00",
          "2020-11-22T14:00:00",
          "2020-11-22T14:00:00",
          "2020-11-22T14:00:00",
          "2020-11-22T14:00:00",
          "2020-11-22T14:00:00",
          "2020-11-22T14:00:00",
          "2020-11-22T14:00:00",
          "2020-11-22T14:00:00",
          "2020-11-22T14:00:00",
          "2020-11-22T14:00:00",
          "2020-11-22T14:00:00",
          "2020-11-22T14:00:00",
          "2020-11-22T14:00:00",
          "2020-11-22T14:00:00",
          "2020-11-23T14:00:00",
          "2020-11-23T14:00:00",
          "2020-11-23T14:00:00",
          "2020-11-23T14:00:00",
          "2020-11-23T14:00:00",
          "2020-11-23T14:00:00",
          "2020-11-23T14:00:00",
          "2020-11-23T14:00:00",
          "2020-11-23T14:00:00",
          "2020-11-23T14:00:00",
          "2020-11-23T14:00:00",
          "2020-11-23T14:00:00",
          "2020-11-23T14:00:00",
          "2020-11-23T14:00:00",
          "2020-11-23T14:00:00",
          "2020-11-23T14:00:00",
          "2020-11-23T14:00:00",
          "2020-11-23T14:00:00",
          "2020-11-24T14:00:00",
          "2020-11-24T14:00:00",
          "2020-11-24T14:00:00",
          "2020-11-24T14:00:00",
          "2020-11-24T14:00:00",
          "2020-11-24T14:00:00",
          "2020-11-24T14:00:00",
          "2020-11-24T14:00:00",
          "2020-11-24T14:00:00",
          "2020-11-24T14:00:00",
          "2020-11-24T14:00:00",
          "2020-11-24T14:00:00",
          "2020-11-24T14:00:00",
          "2020-11-24T14:00:00",
          "2020-11-24T14:00:00",
          "2020-11-24T14:00:00",
          "2020-11-24T14:00:00",
          "2020-11-24T14:00:00",
          "2020-11-25T14:00:00",
          "2020-11-25T14:00:00",
          "2020-11-25T14:00:00",
          "2020-11-25T14:00:00",
          "2020-11-25T14:00:00",
          "2020-11-25T14:00:00",
          "2020-11-25T14:00:00",
          "2020-11-25T14:00:00",
          "2020-11-25T14:00:00",
          "2020-11-25T14:00:00",
          "2020-11-25T14:00:00",
          "2020-11-25T14:00:00",
          "2020-11-25T14:00:00",
          "2020-11-25T14:00:00",
          "2020-11-25T14:00:00",
          "2020-11-25T14:00:00",
          "2020-11-25T14:00:00",
          "2020-11-25T14:00:00",
          "2020-11-26T14:00:00",
          "2020-11-26T14:00:00",
          "2020-11-26T14:00:00",
          "2020-11-26T14:00:00",
          "2020-11-26T14:00:00",
          "2020-11-26T14:00:00",
          "2020-11-26T14:00:00",
          "2020-11-26T14:00:00",
          "2020-11-26T14:00:00",
          "2020-11-26T14:00:00",
          "2020-11-26T14:00:00",
          "2020-11-26T14:00:00",
          "2020-11-26T14:00:00",
          "2020-11-26T14:00:00",
          "2020-11-26T14:00:00",
          "2020-11-26T14:00:00",
          "2020-11-26T14:00:00",
          "2020-11-26T14:00:00",
          "2020-11-27T14:00:00",
          "2020-11-27T14:00:00",
          "2020-11-27T14:00:00",
          "2020-11-27T14:00:00",
          "2020-11-27T14:00:00",
          "2020-11-27T14:00:00",
          "2020-11-27T14:00:00",
          "2020-11-27T14:00:00",
          "2020-11-27T14:00:00",
          "2020-11-27T14:00:00",
          "2020-11-27T14:00:00",
          "2020-11-27T14:00:00",
          "2020-11-27T14:00:00",
          "2020-11-27T14:00:00",
          "2020-11-27T14:00:00",
          "2020-11-27T14:00:00",
          "2020-11-27T14:00:00",
          "2020-11-27T14:00:00",
          "2020-11-28T14:00:00",
          "2020-11-28T14:00:00",
          "2020-11-28T14:00:00",
          "2020-11-28T14:00:00",
          "2020-11-28T14:00:00",
          "2020-11-28T14:00:00",
          "2020-11-28T14:00:00",
          "2020-11-28T14:00:00",
          "2020-11-28T14:00:00",
          "2020-11-28T14:00:00",
          "2020-11-28T14:00:00",
          "2020-11-28T14:00:00",
          "2020-11-28T14:00:00",
          "2020-11-28T14:00:00",
          "2020-11-28T14:00:00",
          "2020-11-28T14:00:00",
          "2020-11-28T14:00:00",
          "2020-11-28T14:00:00",
          "2020-11-29T14:00:00",
          "2020-11-29T14:00:00",
          "2020-11-29T14:00:00",
          "2020-11-29T14:00:00",
          "2020-11-29T14:00:00",
          "2020-11-29T14:00:00",
          "2020-11-29T14:00:00",
          "2020-11-29T14:00:00",
          "2020-11-29T14:00:00",
          "2020-11-29T14:00:00",
          "2020-11-29T14:00:00",
          "2020-11-29T14:00:00",
          "2020-11-29T14:00:00",
          "2020-11-29T14:00:00",
          "2020-11-29T14:00:00",
          "2020-11-29T14:00:00",
          "2020-11-29T14:00:00",
          "2020-11-29T14:00:00",
          "2020-11-30T14:00:00",
          "2020-11-30T14:00:00",
          "2020-11-30T14:00:00",
          "2020-11-30T14:00:00",
          "2020-11-30T14:00:00",
          "2020-11-30T14:00:00",
          "2020-11-30T14:00:00",
          "2020-11-30T14:00:00",
          "2020-11-30T14:00:00",
          "2020-11-30T14:00:00",
          "2020-11-30T14:00:00",
          "2020-11-30T14:00:00",
          "2020-11-30T14:00:00",
          "2020-11-30T14:00:00",
          "2020-11-30T14:00:00",
          "2020-11-30T14:00:00",
          "2020-11-30T14:00:00",
          "2020-11-30T14:00:00",
          "2020-12-01T14:00:00",
          "2020-12-01T14:00:00",
          "2020-12-01T14:00:00",
          "2020-12-01T14:00:00",
          "2020-12-01T14:00:00",
          "2020-12-01T14:00:00",
          "2020-12-01T14:00:00",
          "2020-12-01T14:00:00",
          "2020-12-01T14:00:00",
          "2020-12-01T14:00:00",
          "2020-12-01T14:00:00",
          "2020-12-01T14:00:00",
          "2020-12-01T14:00:00",
          "2020-12-01T14:00:00",
          "2020-12-01T14:00:00",
          "2020-12-01T14:00:00",
          "2020-12-01T14:00:00",
          "2020-12-02T14:00:00",
          "2020-12-02T14:00:00",
          "2020-12-02T14:00:00",
          "2020-12-02T14:00:00",
          "2020-12-02T14:00:00",
          "2020-12-02T14:00:00",
          "2020-12-02T14:00:00",
          "2020-12-02T14:00:00",
          "2020-12-02T14:00:00",
          "2020-12-02T14:00:00",
          "2020-12-02T14:00:00",
          "2020-12-02T14:00:00",
          "2020-12-02T14:00:00",
          "2020-12-02T14:00:00",
          "2020-12-02T14:00:00",
          "2020-12-02T14:00:00",
          "2020-12-02T14:00:00",
          "2020-12-03T14:00:00",
          "2020-12-03T14:00:00",
          "2020-12-03T14:00:00",
          "2020-12-03T14:00:00",
          "2020-12-03T14:00:00",
          "2020-12-03T14:00:00",
          "2020-12-03T14:00:00",
          "2020-12-03T14:00:00",
          "2020-12-03T14:00:00",
          "2020-12-03T14:00:00",
          "2020-12-03T14:00:00",
          "2020-12-03T14:00:00",
          "2020-12-03T14:00:00",
          "2020-12-03T14:00:00",
          "2020-12-03T14:00:00",
          "2020-12-03T14:00:00",
          "2020-12-03T14:00:00",
          "2020-12-04T14:00:00",
          "2020-12-04T14:00:00",
          "2020-12-04T14:00:00",
          "2020-12-04T14:00:00",
          "2020-12-04T14:00:00",
          "2020-12-04T14:00:00",
          "2020-12-04T14:00:00",
          "2020-12-04T14:00:00",
          "2020-12-04T14:00:00",
          "2020-12-04T14:00:00",
          "2020-12-04T14:00:00",
          "2020-12-04T14:00:00",
          "2020-12-04T14:00:00",
          "2020-12-04T14:00:00",
          "2020-12-04T14:00:00",
          "2020-12-04T14:00:00",
          "2020-12-05T14:00:00",
          "2020-12-05T14:00:00",
          "2020-12-05T14:00:00",
          "2020-12-05T14:00:00",
          "2020-12-05T14:00:00",
          "2020-12-05T14:00:00",
          "2020-12-05T14:00:00",
          "2020-12-05T14:00:00",
          "2020-12-05T14:00:00",
          "2020-12-05T14:00:00",
          "2020-12-05T14:00:00",
          "2020-12-05T14:00:00",
          "2020-12-05T14:00:00",
          "2020-12-05T14:00:00",
          "2020-12-06T14:00:00",
          "2020-12-06T14:00:00",
          "2020-12-06T14:00:00",
          "2020-12-06T14:00:00",
          "2020-12-06T14:00:00",
          "2020-12-06T14:00:00",
          "2020-12-06T14:00:00",
          "2020-12-06T14:00:00",
          "2020-12-06T14:00:00",
          "2020-12-06T14:00:00",
          "2020-12-06T14:00:00",
          "2020-12-06T14:00:00",
          "2020-12-06T14:00:00",
          "2020-12-06T14:00:00",
          "2020-12-07T14:00:00",
          "2020-12-07T14:00:00",
          "2020-12-07T14:00:00",
          "2020-12-07T14:00:00",
          "2020-12-07T14:00:00",
          "2020-12-07T14:00:00",
          "2020-12-07T14:00:00",
          "2020-12-07T14:00:00",
          "2020-12-07T14:00:00",
          "2020-12-07T14:00:00",
          "2020-12-07T14:00:00",
          "2020-12-07T14:00:00",
          "2020-12-07T14:00:00",
          "2020-12-07T14:00:00",
          "2020-12-08T14:00:00",
          "2020-12-08T14:00:00",
          "2020-12-08T14:00:00",
          "2020-12-08T14:00:00",
          "2020-12-08T14:00:00",
          "2020-12-08T14:00:00",
          "2020-12-08T14:00:00",
          "2020-12-08T14:00:00",
          "2020-12-08T14:00:00",
          "2020-12-08T14:00:00",
          "2020-12-08T14:00:00",
          "2020-12-08T14:00:00",
          "2020-12-08T14:00:00",
          "2020-12-08T14:00:00",
          "2020-12-09T14:00:00",
          "2020-12-09T14:00:00",
          "2020-12-09T14:00:00",
          "2020-12-09T14:00:00",
          "2020-12-09T14:00:00",
          "2020-12-09T14:00:00",
          "2020-12-09T14:00:00",
          "2020-12-09T14:00:00",
          "2020-12-09T14:00:00",
          "2020-12-09T14:00:00",
          "2020-12-09T14:00:00",
          "2020-12-09T14:00:00",
          "2020-12-09T14:00:00",
          "2020-12-09T14:00:00",
          "2020-12-10T14:00:00",
          "2020-12-10T14:00:00",
          "2020-12-10T14:00:00",
          "2020-12-10T14:00:00",
          "2020-12-10T14:00:00",
          "2020-12-10T14:00:00",
          "2020-12-10T14:00:00",
          "2020-12-10T14:00:00",
          "2020-12-10T14:00:00",
          "2020-12-10T14:00:00",
          "2020-12-10T14:00:00",
          "2020-12-10T14:00:00",
          "2020-12-10T14:00:00",
          "2020-12-10T14:00:00",
          "2020-12-11T14:00:00",
          "2020-12-11T14:00:00",
          "2020-12-11T14:00:00",
          "2020-12-11T14:00:00",
          "2020-12-11T14:00:00",
          "2020-12-11T14:00:00",
          "2020-12-11T14:00:00",
          "2020-12-11T14:00:00",
          "2020-12-11T14:00:00",
          "2020-12-11T14:00:00",
          "2020-12-11T14:00:00",
          "2020-12-11T14:00:00",
          "2020-12-11T14:00:00",
          "2020-12-11T14:00:00",
          "2020-12-12T14:00:00",
          "2020-12-12T14:00:00",
          "2020-12-12T14:00:00",
          "2020-12-12T14:00:00",
          "2020-12-12T14:00:00",
          "2020-12-12T14:00:00",
          "2020-12-12T14:00:00",
          "2020-12-12T14:00:00",
          "2020-12-12T14:00:00",
          "2020-12-12T14:00:00",
          "2020-12-12T14:00:00",
          "2020-12-12T14:00:00",
          "2020-12-12T14:00:00",
          "2020-12-13T14:00:00",
          "2020-12-13T14:00:00",
          "2020-12-13T14:00:00",
          "2020-12-13T14:00:00",
          "2020-12-13T14:00:00",
          "2020-12-13T14:00:00",
          "2020-12-13T14:00:00",
          "2020-12-13T14:00:00",
          "2020-12-13T14:00:00",
          "2020-12-13T14:00:00",
          "2020-12-13T14:00:00",
          "2020-12-13T14:00:00",
          "2020-12-13T14:00:00",
          "2020-12-14T14:00:00",
          "2020-12-14T14:00:00",
          "2020-12-14T14:00:00",
          "2020-12-14T14:00:00",
          "2020-12-14T14:00:00",
          "2020-12-14T14:00:00",
          "2020-12-14T14:00:00",
          "2020-12-14T14:00:00",
          "2020-12-14T14:00:00",
          "2020-12-14T14:00:00",
          "2020-12-14T14:00:00",
          "2020-12-14T14:00:00",
          "2020-12-14T14:00:00",
          "2020-12-15T14:00:00",
          "2020-12-15T14:00:00",
          "2020-12-15T14:00:00",
          "2020-12-15T14:00:00",
          "2020-12-15T14:00:00",
          "2020-12-15T14:00:00",
          "2020-12-15T14:00:00",
          "2020-12-15T14:00:00",
          "2020-12-15T14:00:00",
          "2020-12-15T14:00:00",
          "2020-12-15T14:00:00",
          "2020-12-15T14:00:00",
          "2020-12-15T14:00:00",
          "2020-12-16T14:00:00",
          "2020-12-16T14:00:00",
          "2020-12-16T14:00:00",
          "2020-12-16T14:00:00",
          "2020-12-16T14:00:00",
          "2020-12-16T14:00:00",
          "2020-12-16T14:00:00",
          "2020-12-16T14:00:00",
          "2020-12-16T14:00:00",
          "2020-12-16T14:00:00",
          "2020-12-16T14:00:00",
          "2020-12-16T14:00:00",
          "2020-12-16T14:00:00",
          "2020-12-17T14:00:00",
          "2020-12-17T14:00:00",
          "2020-12-17T14:00:00",
          "2020-12-17T14:00:00",
          "2020-12-17T14:00:00",
          "2020-12-17T14:00:00",
          "2020-12-17T14:00:00",
          "2020-12-17T14:00:00",
          "2020-12-17T14:00:00",
          "2020-12-17T14:00:00",
          "2020-12-17T14:00:00",
          "2020-12-17T14:00:00",
          "2020-12-17T14:00:00",
          "2020-12-18T14:00:00",
          "2020-12-18T14:00:00",
          "2020-12-18T14:00:00",
          "2020-12-18T14:00:00",
          "2020-12-18T14:00:00",
          "2020-12-18T14:00:00",
          "2020-12-18T14:00:00",
          "2020-12-18T14:00:00",
          "2020-12-18T14:00:00",
          "2020-12-18T14:00:00",
          "2020-12-18T14:00:00",
          "2020-12-18T14:00:00",
          "2020-12-18T14:00:00",
          "2020-12-19T14:00:00",
          "2020-12-19T14:00:00",
          "2020-12-19T14:00:00",
          "2020-12-19T14:00:00",
          "2020-12-19T14:00:00",
          "2020-12-19T14:00:00",
          "2020-12-19T14:00:00",
          "2020-12-19T14:00:00",
          "2020-12-19T14:00:00",
          "2020-12-19T14:00:00",
          "2020-12-19T14:00:00",
          "2020-12-19T14:00:00",
          "2020-12-19T14:00:00",
          "2020-12-20T14:00:00",
          "2020-12-20T14:00:00",
          "2020-12-20T14:00:00",
          "2020-12-20T14:00:00",
          "2020-12-20T14:00:00",
          "2020-12-20T14:00:00",
          "2020-12-20T14:00:00",
          "2020-12-20T14:00:00",
          "2020-12-20T14:00:00",
          "2020-12-20T14:00:00",
          "2020-12-20T14:00:00",
          "2020-12-20T14:00:00",
          "2020-12-20T14:00:00",
          "2020-12-21T14:00:00",
          "2020-12-21T14:00:00",
          "2020-12-21T14:00:00",
          "2020-12-21T14:00:00",
          "2020-12-21T14:00:00",
          "2020-12-21T14:00:00",
          "2020-12-21T14:00:00",
          "2020-12-21T14:00:00",
          "2020-12-21T14:00:00",
          "2020-12-21T14:00:00",
          "2020-12-21T14:00:00",
          "2020-12-21T14:00:00",
          "2020-12-21T14:00:00",
          "2020-12-22T14:00:00",
          "2020-12-22T14:00:00",
          "2020-12-22T14:00:00",
          "2020-12-22T14:00:00",
          "2020-12-22T14:00:00",
          "2020-12-22T14:00:00",
          "2020-12-22T14:00:00",
          "2020-12-22T14:00:00",
          "2020-12-22T14:00:00",
          "2020-12-22T14:00:00",
          "2020-12-22T14:00:00",
          "2020-12-22T14:00:00",
          "2020-12-22T14:00:00",
          "2020-12-23T14:00:00",
          "2020-12-23T14:00:00",
          "2020-12-23T14:00:00",
          "2020-12-23T14:00:00",
          "2020-12-23T14:00:00",
          "2020-12-23T14:00:00",
          "2020-12-23T14:00:00",
          "2020-12-23T14:00:00",
          "2020-12-23T14:00:00",
          "2020-12-23T14:00:00",
          "2020-12-23T14:00:00",
          "2020-12-23T14:00:00",
          "2020-12-23T14:00:00",
          "2020-12-24T14:00:00",
          "2020-12-24T14:00:00",
          "2020-12-24T14:00:00",
          "2020-12-24T14:00:00",
          "2020-12-24T14:00:00",
          "2020-12-24T14:00:00",
          "2020-12-24T14:00:00",
          "2020-12-24T14:00:00",
          "2020-12-24T14:00:00",
          "2020-12-24T14:00:00",
          "2020-12-24T14:00:00",
          "2020-12-24T14:00:00",
          "2020-12-24T14:00:00",
          "2020-12-25T14:00:00",
          "2020-12-25T14:00:00",
          "2020-12-25T14:00:00",
          "2020-12-25T14:00:00",
          "2020-12-25T14:00:00",
          "2020-12-25T14:00:00",
          "2020-12-25T14:00:00",
          "2020-12-25T14:00:00",
          "2020-12-25T14:00:00",
          "2020-12-25T14:00:00",
          "2020-12-25T14:00:00",
          "2020-12-25T14:00:00",
          "2020-12-25T14:00:00",
          "2020-12-26T14:00:00",
          "2020-12-26T14:00:00",
          "2020-12-26T14:00:00",
          "2020-12-26T14:00:00",
          "2020-12-26T14:00:00",
          "2020-12-26T14:00:00",
          "2020-12-26T14:00:00",
          "2020-12-26T14:00:00",
          "2020-12-26T14:00:00",
          "2020-12-26T14:00:00",
          "2020-12-26T14:00:00",
          "2020-12-26T14:00:00",
          "2020-12-26T14:00:00",
          "2020-12-27T14:00:00",
          "2020-12-27T14:00:00",
          "2020-12-27T14:00:00",
          "2020-12-27T14:00:00",
          "2020-12-27T14:00:00",
          "2020-12-27T14:00:00",
          "2020-12-27T14:00:00",
          "2020-12-27T14:00:00",
          "2020-12-27T14:00:00",
          "2020-12-27T14:00:00",
          "2020-12-27T14:00:00",
          "2020-12-27T14:00:00",
          "2020-12-27T14:00:00",
          "2020-12-28T14:00:00",
          "2020-12-28T14:00:00",
          "2020-12-28T14:00:00",
          "2020-12-28T14:00:00",
          "2020-12-28T14:00:00",
          "2020-12-28T14:00:00",
          "2020-12-28T14:00:00",
          "2020-12-28T14:00:00",
          "2020-12-28T14:00:00",
          "2020-12-28T14:00:00",
          "2020-12-28T14:00:00",
          "2020-12-28T14:00:00",
          "2020-12-28T14:00:00",
          "2020-12-29T14:00:00",
          "2020-12-29T14:00:00",
          "2020-12-29T14:00:00",
          "2020-12-29T14:00:00",
          "2020-12-29T14:00:00",
          "2020-12-29T14:00:00",
          "2020-12-29T14:00:00",
          "2020-12-29T14:00:00",
          "2020-12-29T14:00:00",
          "2020-12-29T14:00:00",
          "2020-12-29T14:00:00",
          "2020-12-29T14:00:00",
          "2020-12-29T14:00:00",
          "2020-12-30T14:00:00",
          "2020-12-30T14:00:00",
          "2020-12-30T14:00:00",
          "2020-12-30T14:00:00",
          "2020-12-30T14:00:00",
          "2020-12-30T14:00:00",
          "2020-12-30T14:00:00",
          "2020-12-30T14:00:00",
          "2020-12-30T14:00:00",
          "2020-12-30T14:00:00",
          "2020-12-30T14:00:00",
          "2020-12-30T14:00:00",
          "2020-12-30T14:00:00",
          "2020-12-31T14:00:00",
          "2020-12-31T14:00:00",
          "2020-12-31T14:00:00",
          "2020-12-31T14:00:00",
          "2020-12-31T14:00:00",
          "2020-12-31T14:00:00",
          "2020-12-31T14:00:00",
          "2020-12-31T14:00:00",
          "2020-12-31T14:00:00",
          "2020-12-31T14:00:00",
          "2020-12-31T14:00:00",
          "2020-12-31T14:00:00",
          "2020-12-31T14:00:00",
          "2021-01-01T14:00:00",
          "2021-01-01T14:00:00",
          "2021-01-01T14:00:00",
          "2021-01-01T14:00:00",
          "2021-01-01T14:00:00",
          "2021-01-01T14:00:00",
          "2021-01-01T14:00:00",
          "2021-01-01T14:00:00",
          "2021-01-01T14:00:00",
          "2021-01-01T14:00:00",
          "2021-01-01T14:00:00",
          "2021-01-01T14:00:00",
          "2021-01-01T14:00:00",
          "2021-01-02T14:00:00",
          "2021-01-02T14:00:00",
          "2021-01-02T14:00:00",
          "2021-01-02T14:00:00",
          "2021-01-02T14:00:00",
          "2021-01-02T14:00:00",
          "2021-01-02T14:00:00",
          "2021-01-02T14:00:00",
          "2021-01-02T14:00:00",
          "2021-01-02T14:00:00",
          "2021-01-02T14:00:00",
          "2021-01-02T14:00:00",
          "2021-01-02T14:00:00",
          "2021-01-03T14:00:00",
          "2021-01-03T14:00:00",
          "2021-01-03T14:00:00",
          "2021-01-03T14:00:00",
          "2021-01-03T14:00:00",
          "2021-01-03T14:00:00",
          "2021-01-03T14:00:00",
          "2021-01-03T14:00:00",
          "2021-01-03T14:00:00",
          "2021-01-03T14:00:00",
          "2021-01-03T14:00:00",
          "2021-01-03T14:00:00",
          "2021-01-03T14:00:00",
          "2021-01-04T14:00:00",
          "2021-01-04T14:00:00",
          "2021-01-04T14:00:00",
          "2021-01-04T14:00:00",
          "2021-01-04T14:00:00",
          "2021-01-04T14:00:00",
          "2021-01-04T14:00:00",
          "2021-01-04T14:00:00",
          "2021-01-04T14:00:00",
          "2021-01-04T14:00:00",
          "2021-01-04T14:00:00",
          "2021-01-04T14:00:00",
          "2021-01-04T14:00:00",
          "2021-01-05T14:00:00",
          "2021-01-05T14:00:00",
          "2021-01-05T14:00:00",
          "2021-01-05T14:00:00",
          "2021-01-05T14:00:00",
          "2021-01-05T14:00:00",
          "2021-01-05T14:00:00",
          "2021-01-05T14:00:00",
          "2021-01-05T14:00:00",
          "2021-01-05T14:00:00",
          "2021-01-05T14:00:00",
          "2021-01-05T14:00:00",
          "2021-01-05T14:00:00",
          "2021-01-06T14:00:00",
          "2021-01-06T14:00:00",
          "2021-01-06T14:00:00",
          "2021-01-06T14:00:00",
          "2021-01-06T14:00:00",
          "2021-01-06T14:00:00",
          "2021-01-06T14:00:00",
          "2021-01-06T14:00:00",
          "2021-01-06T14:00:00",
          "2021-01-06T14:00:00",
          "2021-01-06T14:00:00",
          "2021-01-06T14:00:00",
          "2021-01-06T14:00:00",
          "2021-01-07T14:00:00",
          "2021-01-07T14:00:00",
          "2021-01-07T14:00:00",
          "2021-01-07T14:00:00",
          "2021-01-07T14:00:00",
          "2021-01-07T14:00:00",
          "2021-01-07T14:00:00",
          "2021-01-07T14:00:00",
          "2021-01-07T14:00:00",
          "2021-01-07T14:00:00",
          "2021-01-07T14:00:00",
          "2021-01-07T14:00:00",
          "2021-01-07T14:00:00",
          "2021-01-08T14:00:00",
          "2021-01-08T14:00:00",
          "2021-01-08T14:00:00",
          "2021-01-08T14:00:00",
          "2021-01-08T14:00:00",
          "2021-01-08T14:00:00",
          "2021-01-08T14:00:00",
          "2021-01-08T14:00:00",
          "2021-01-08T14:00:00",
          "2021-01-08T14:00:00",
          "2021-01-08T14:00:00",
          "2021-01-08T14:00:00",
          "2021-01-08T14:00:00",
          "2021-01-09T14:00:00",
          "2021-01-09T14:00:00",
          "2021-01-09T14:00:00",
          "2021-01-09T14:00:00",
          "2021-01-09T14:00:00",
          "2021-01-09T14:00:00",
          "2021-01-09T14:00:00",
          "2021-01-09T14:00:00",
          "2021-01-09T14:00:00",
          "2021-01-09T14:00:00",
          "2021-01-09T14:00:00",
          "2021-01-09T14:00:00",
          "2021-01-09T14:00:00",
          "2021-01-10T14:00:00",
          "2021-01-10T14:00:00",
          "2021-01-10T14:00:00",
          "2021-01-10T14:00:00",
          "2021-01-10T14:00:00",
          "2021-01-10T14:00:00",
          "2021-01-10T14:00:00",
          "2021-01-10T14:00:00",
          "2021-01-10T14:00:00",
          "2021-01-10T14:00:00",
          "2021-01-10T14:00:00",
          "2021-01-10T14:00:00",
          "2021-01-11T14:00:00",
          "2021-01-11T14:00:00",
          "2021-01-11T14:00:00",
          "2021-01-11T14:00:00",
          "2021-01-11T14:00:00",
          "2021-01-11T14:00:00",
          "2021-01-11T14:00:00",
          "2021-01-11T14:00:00",
          "2021-01-11T14:00:00",
          "2021-01-11T14:00:00",
          "2021-01-11T14:00:00",
          "2021-01-11T14:00:00",
          "2021-01-12T14:00:00",
          "2021-01-12T14:00:00",
          "2021-01-12T14:00:00",
          "2021-01-12T14:00:00",
          "2021-01-12T14:00:00",
          "2021-01-12T14:00:00",
          "2021-01-12T14:00:00",
          "2021-01-12T14:00:00",
          "2021-01-12T14:00:00",
          "2021-01-12T14:00:00",
          "2021-01-12T14:00:00",
          "2021-01-12T14:00:00",
          "2021-01-13T14:00:00",
          "2021-01-13T14:00:00",
          "2021-01-13T14:00:00",
          "2021-01-13T14:00:00",
          "2021-01-13T14:00:00",
          "2021-01-13T14:00:00",
          "2021-01-13T14:00:00",
          "2021-01-13T14:00:00",
          "2021-01-13T14:00:00",
          "2021-01-13T14:00:00",
          "2021-01-13T14:00:00",
          "2021-01-13T14:00:00",
          "2021-01-14T14:00:00",
          "2021-01-14T14:00:00",
          "2021-01-14T14:00:00",
          "2021-01-14T14:00:00",
          "2021-01-14T14:00:00",
          "2021-01-14T14:00:00",
          "2021-01-14T14:00:00",
          "2021-01-14T14:00:00",
          "2021-01-14T14:00:00",
          "2021-01-14T14:00:00",
          "2021-01-14T14:00:00",
          "2021-01-14T14:00:00",
          "2021-01-15T14:00:00",
          "2021-01-15T14:00:00",
          "2021-01-15T14:00:00",
          "2021-01-15T14:00:00",
          "2021-01-15T14:00:00",
          "2021-01-15T14:00:00",
          "2021-01-15T14:00:00",
          "2021-01-15T14:00:00",
          "2021-01-15T14:00:00",
          "2021-01-15T14:00:00",
          "2021-01-15T14:00:00",
          "2021-01-15T14:00:00",
          "2021-01-16T14:00:00",
          "2021-01-16T14:00:00",
          "2021-01-16T14:00:00",
          "2021-01-16T14:00:00",
          "2021-01-16T14:00:00",
          "2021-01-16T14:00:00",
          "2021-01-16T14:00:00",
          "2021-01-16T14:00:00",
          "2021-01-16T14:00:00",
          "2021-01-16T14:00:00",
          "2021-01-16T14:00:00",
          "2021-01-16T14:00:00",
          "2021-01-17T14:00:00",
          "2021-01-17T14:00:00",
          "2021-01-17T14:00:00",
          "2021-01-17T14:00:00",
          "2021-01-17T14:00:00",
          "2021-01-17T14:00:00",
          "2021-01-17T14:00:00",
          "2021-01-17T14:00:00",
          "2021-01-17T14:00:00",
          "2021-01-17T14:00:00",
          "2021-01-17T14:00:00",
          "2021-01-17T14:00:00",
          "2021-01-18T14:00:00",
          "2021-01-18T14:00:00",
          "2021-01-18T14:00:00",
          "2021-01-18T14:00:00",
          "2021-01-18T14:00:00",
          "2021-01-18T14:00:00",
          "2021-01-18T14:00:00",
          "2021-01-18T14:00:00",
          "2021-01-18T14:00:00",
          "2021-01-18T14:00:00",
          "2021-01-18T14:00:00",
          "2021-01-18T14:00:00",
          "2021-01-19T14:00:00",
          "2021-01-19T14:00:00",
          "2021-01-19T14:00:00",
          "2021-01-19T14:00:00",
          "2021-01-19T14:00:00",
          "2021-01-19T14:00:00",
          "2021-01-19T14:00:00",
          "2021-01-19T14:00:00",
          "2021-01-19T14:00:00",
          "2021-01-19T14:00:00",
          "2021-01-19T14:00:00",
          "2021-01-19T14:00:00",
          "2021-01-20T14:00:00",
          "2021-01-20T14:00:00",
          "2021-01-20T14:00:00",
          "2021-01-20T14:00:00",
          "2021-01-20T14:00:00",
          "2021-01-20T14:00:00",
          "2021-01-20T14:00:00",
          "2021-01-20T14:00:00",
          "2021-01-20T14:00:00",
          "2021-01-20T14:00:00",
          "2021-01-20T14:00:00",
          "2021-01-20T14:00:00",
          "2021-01-21T14:00:00",
          "2021-01-21T14:00:00",
          "2021-01-21T14:00:00",
          "2021-01-21T14:00:00",
          "2021-01-21T14:00:00",
          "2021-01-21T14:00:00",
          "2021-01-21T14:00:00",
          "2021-01-21T14:00:00",
          "2021-01-21T14:00:00",
          "2021-01-21T14:00:00",
          "2021-01-21T14:00:00",
          "2021-01-21T14:00:00",
          "2021-01-22T14:00:00",
          "2021-01-22T14:00:00",
          "2021-01-22T14:00:00",
          "2021-01-22T14:00:00",
          "2021-01-22T14:00:00",
          "2021-01-22T14:00:00",
          "2021-01-22T14:00:00",
          "2021-01-22T14:00:00",
          "2021-01-22T14:00:00",
          "2021-01-22T14:00:00",
          "2021-01-22T14:00:00",
          "2021-01-22T14:00:00",
          "2021-01-23T14:00:00",
          "2021-01-23T14:00:00",
          "2021-01-23T14:00:00",
          "2021-01-23T14:00:00",
          "2021-01-23T14:00:00",
          "2021-01-23T14:00:00",
          "2021-01-23T14:00:00",
          "2021-01-23T14:00:00",
          "2021-01-23T14:00:00",
          "2021-01-23T14:00:00",
          "2021-01-23T14:00:00",
          "2021-01-23T14:00:00",
          "2021-01-24T14:00:00",
          "2021-01-24T14:00:00",
          "2021-01-24T14:00:00",
          "2021-01-24T14:00:00",
          "2021-01-24T14:00:00",
          "2021-01-24T14:00:00",
          "2021-01-24T14:00:00",
          "2021-01-24T14:00:00",
          "2021-01-24T14:00:00",
          "2021-01-24T14:00:00",
          "2021-01-24T14:00:00",
          "2021-01-24T14:00:00",
          "2021-01-25T14:00:00",
          "2021-01-25T14:00:00",
          "2021-01-25T14:00:00",
          "2021-01-25T14:00:00",
          "2021-01-25T14:00:00",
          "2021-01-25T14:00:00",
          "2021-01-25T14:00:00",
          "2021-01-25T14:00:00",
          "2021-01-25T14:00:00",
          "2021-01-25T14:00:00",
          "2021-01-25T14:00:00",
          "2021-01-25T14:00:00",
          "2021-01-26T14:00:00",
          "2021-01-26T14:00:00",
          "2021-01-26T14:00:00",
          "2021-01-26T14:00:00",
          "2021-01-26T14:00:00",
          "2021-01-26T14:00:00",
          "2021-01-26T14:00:00",
          "2021-01-26T14:00:00",
          "2021-01-26T14:00:00",
          "2021-01-26T14:00:00",
          "2021-01-26T14:00:00",
          "2021-01-26T14:00:00",
          "2021-01-27T14:00:00",
          "2021-01-27T14:00:00",
          "2021-01-27T14:00:00",
          "2021-01-27T14:00:00",
          "2021-01-27T14:00:00",
          "2021-01-27T14:00:00",
          "2021-01-27T14:00:00",
          "2021-01-27T14:00:00",
          "2021-01-27T14:00:00",
          "2021-01-27T14:00:00",
          "2021-01-27T14:00:00",
          "2021-01-27T14:00:00"
         ],
         "xaxis": "x",
         "y": [
          0.1,
          0.2,
          0.3,
          0.2,
          0.2,
          0.2,
          0.2,
          0.2,
          0.2,
          0.2,
          0.2,
          0.2,
          0.2,
          0.2,
          0.2,
          0.3,
          0.2,
          11.6,
          10.6,
          11.4,
          12.4,
          11.4,
          11.9,
          0.2,
          12.7,
          12.4,
          12.2,
          12.4,
          12.1,
          10.3,
          12.4,
          11.5,
          11.3,
          11.7,
          11.8,
          11.1,
          8.2,
          6.9,
          7.9,
          9,
          7.3,
          9.1,
          0,
          9,
          8.6,
          9.1,
          8.9,
          8.9,
          7.7,
          9.1,
          8.7,
          8.2,
          7.3,
          8.6,
          7.9,
          12.3,
          11,
          12,
          12.9,
          8.3,
          13.2,
          7.4,
          13.2,
          12.9,
          11.9,
          6.1,
          12.2,
          10.1,
          4.2,
          12.7,
          11.8,
          10.3,
          12.3,
          11.8,
          11.5,
          10.1,
          11.8,
          7.2,
          10.5,
          9.3,
          4.8,
          11.7,
          12.5,
          13.2,
          8,
          12.7,
          10.3,
          6.9,
          12.1,
          9.6,
          9.2,
          8.9,
          9,
          12.5,
          8.9,
          12.8,
          13.1,
          9,
          10.3,
          6.1,
          12.8,
          13.4,
          13.1,
          10.4,
          13.2,
          10,
          7.3,
          14.7,
          11.2,
          10,
          13.1,
          11.5,
          14.4,
          12.4,
          14.7,
          15,
          14.1,
          14.1,
          8.7,
          14,
          12.6,
          14.4,
          7.8,
          14.2,
          13.2,
          3.7,
          16.1,
          13.9,
          13.1,
          14.5,
          14.1,
          10.9,
          10.4,
          10.9,
          11,
          11.9,
          8.7,
          7.4,
          13.4,
          11.2,
          13.3,
          0,
          12.1,
          9.7,
          7.8,
          16.1,
          9.4,
          6.5,
          10.9,
          8.8,
          18.2,
          4.7,
          17.1,
          18.1,
          10,
          17.2,
          9.7,
          20.9,
          13.7,
          20.2,
          0,
          18.6,
          7.7,
          11.7,
          20.1,
          13.2,
          2.4,
          18,
          9.5,
          17.1,
          3.4,
          16.3,
          18,
          16.9,
          17.5,
          7.1,
          19.4,
          19.4,
          0,
          16.8,
          14.7,
          6.9,
          18.2,
          18.2,
          1.5,
          18,
          17,
          15.9,
          16.4,
          16.4,
          16,
          16.5,
          18.1,
          11.5,
          14,
          14.8,
          9.3,
          15.1,
          14.7,
          12,
          15,
          18.4,
          6.6,
          15.7,
          16,
          15.5,
          15.2,
          17,
          17.5,
          14.7,
          16.5,
          16.4,
          19.7,
          19.9,
          13.8,
          17.2,
          15.2,
          16.3,
          17.6,
          15,
          10,
          16.1,
          14,
          18.4,
          12.8,
          18.6,
          19,
          13.8,
          20.9,
          16.4,
          20,
          20.7,
          15.7,
          18.9,
          10.1,
          13.6,
          20.7,
          15.8,
          7.3,
          18.3,
          11.9,
          17.8,
          5.1,
          18.8,
          17.9,
          12.5,
          20.5,
          11.2,
          21.2,
          20.7,
          15.2,
          18.6,
          9.9,
          9.1,
          20.6,
          16.5,
          6.9,
          19.4,
          11.7,
          15.5,
          5.9,
          15.7,
          14.2,
          17,
          16.8,
          10.9,
          13.4,
          15.2,
          14.1,
          15.5,
          12.8,
          11.3,
          7.7,
          16.1,
          6.9,
          15.9,
          14.4,
          9.3,
          10.3,
          10,
          10.1,
          12.2,
          8.9,
          6.5,
          9.7,
          11.6,
          15.3,
          10.7,
          12.4,
          10.3,
          3.2,
          10.5,
          11.6,
          9.7,
          12.9,
          7.9,
          11.4,
          9.1,
          8.4,
          13,
          8.9,
          7,
          8.7,
          10.7,
          8.8,
          9.2,
          12.8,
          10.8,
          4.3,
          9.5,
          3.6,
          8.8,
          12.2,
          10.7,
          13,
          5.8,
          7.2,
          7.5,
          7.2,
          5,
          8.7,
          10.6,
          7.6,
          5.6,
          13.1,
          12.2,
          8.4,
          7.8,
          4.1,
          6,
          9.9,
          10.2,
          14.8,
          11.1,
          11.2,
          15.2,
          12,
          13.9,
          5.2,
          5.9,
          11.3,
          10.4,
          13.2,
          15.5,
          9.6,
          12,
          9,
          10.8,
          13.9,
          14.3,
          14.6,
          13.5,
          16.3,
          13.4,
          13.4,
          14.4,
          5.9,
          11.2,
          11.3,
          12.6,
          13.3,
          16,
          11.1,
          15.3,
          10.9,
          11.5,
          14.8,
          16.6,
          13.3,
          17.5,
          19.9,
          16.9,
          19.4,
          14.5,
          14.7,
          15.5,
          6.9,
          18.7,
          9.3,
          18.3,
          12.4,
          17.7,
          10.6,
          18,
          12.2,
          14.4,
          10.6,
          18.3,
          15.8,
          16.2,
          17.5,
          15.1,
          17.6,
          19,
          11,
          17.9,
          7.6,
          13.6,
          13.2,
          15.2,
          14.3,
          16.9,
          12,
          16.1,
          10.7,
          17.6,
          18.2,
          17.9,
          17.3,
          14.4,
          17.1,
          14.8,
          14.7,
          18.2,
          11.5,
          13.8,
          15.5,
          17.1,
          15,
          17.1,
          6.8,
          15.7,
          13.4,
          9.3,
          17.4,
          15.7,
          13.2,
          13.3,
          16.4,
          14.8,
          17.9,
          15,
          16.9,
          12.4,
          16.9,
          14.6,
          13.5,
          8.1,
          15.2,
          19.5,
          14.2,
          17.1,
          18,
          13.3,
          14.4,
          15.4,
          16.7,
          15.7,
          13.9,
          20.6,
          8.8,
          13.2,
          11.5,
          14.6,
          9.5,
          6.8,
          19.2,
          16.8,
          15.2,
          16.7,
          6,
          12.2,
          15.1,
          17.1,
          10.3,
          14.6,
          19.4,
          14,
          15.4,
          9.6,
          15.7,
          13.4,
          6.3,
          17.7,
          18.4,
          17.5,
          15.6,
          7.3,
          8.3,
          17.7,
          17.3,
          12.7,
          11.9,
          18.5,
          17,
          11.6,
          16.3,
          12.9,
          16.6,
          17.5,
          11.8,
          16.3,
          5.9,
          16.7,
          16.1,
          11.9,
          11.5,
          15.4,
          16.7,
          9.3,
          16,
          12.1,
          6.2,
          13.3,
          13.3,
          14.2,
          12.6,
          12.7,
          12.3,
          14.7,
          4.9,
          4.8,
          11.2,
          15.2,
          14.8,
          4.1,
          9.6,
          17.9,
          12.9,
          14.2,
          12.3,
          19.6,
          19.3,
          14.8,
          8.6,
          13.2,
          14.4,
          10.6,
          13.5,
          10.3,
          9.1,
          13,
          8.2,
          16,
          8.9,
          14.2,
          16.3,
          12.2,
          8.8,
          17.6,
          15.6,
          10.4,
          16.1,
          9.1,
          6.5,
          14.1,
          16,
          13.9,
          10.9,
          13.1,
          13.2,
          17,
          6.6,
          13,
          14.1,
          15.7,
          14.6,
          8.1,
          14.9,
          13.6,
          11.4,
          16,
          13.8,
          13.3,
          11.3,
          16.4,
          14.5,
          16.6,
          16.5,
          16.1,
          14.1,
          12.7,
          5.6,
          17.9,
          13.9,
          17.6,
          11.5,
          16,
          11.6,
          17.1,
          6.1,
          17.8,
          16.6,
          14.9,
          17.5,
          11.3,
          11.2,
          18.5,
          16.8,
          18.6,
          17.7,
          17,
          14.3,
          10.7,
          13.9,
          17.3,
          12.2,
          15.5,
          16.7,
          14.4,
          17.1,
          14,
          14,
          16.7,
          16,
          14.9,
          11.1,
          15.1,
          16.4,
          14.4,
          14.6,
          15,
          8.4,
          19.3,
          16.5,
          14.7,
          18.5,
          18.4,
          16.6,
          7.9,
          14,
          14,
          12,
          16,
          8.9,
          13.4,
          14.8,
          8.5,
          9.8,
          15.1,
          7.7,
          14.5,
          12.8,
          16.4,
          9.9,
          14.1,
          11.1,
          10.3,
          14.8,
          15.4,
          11.4,
          10.4,
          14.2,
          14.3,
          15.5,
          12.5,
          13.4,
          11,
          12.1,
          12.8,
          18.1,
          12.2,
          18.1,
          18,
          17.7,
          15.2,
          19.1,
          17.9,
          16,
          11.9,
          18.3,
          15.2,
          17.8,
          11.7,
          14.7,
          9.8,
          16.6,
          16.9,
          8.2,
          13.1,
          13.4,
          15,
          13.4,
          16.3,
          13,
          16.3,
          14.7,
          12.9,
          13.2,
          9.1,
          12.8,
          13.2,
          13.4,
          18.2,
          10.6,
          17,
          13,
          15.9,
          12.9,
          15.9,
          13.4,
          15.6,
          6.5,
          11.9,
          14,
          12.6,
          18.1,
          14.8,
          15,
          10.2,
          17.3,
          13.4,
          12.5,
          13.8,
          11.5,
          4.7,
          12.8,
          12.8,
          12.6,
          16,
          13.3,
          15,
          15.8,
          12,
          12.9,
          9.9,
          16.1,
          11.1,
          14.8,
          14.4,
          10.7,
          12,
          10.4,
          14.8,
          18.6,
          13.3,
          12.5,
          15.2,
          16.2,
          14.5,
          11.1,
          9.4,
          14.5,
          10.2,
          9.2,
          15.9,
          9.7,
          13.6,
          14.4,
          18.9,
          8.7,
          16.5,
          12.4,
          11.1,
          14.1,
          9.1,
          7.6,
          11.9,
          19.3,
          12.1,
          8.4,
          9.1,
          16.7,
          8.9,
          15,
          15.9,
          10.1,
          14.5,
          10.9,
          7,
          8.7,
          19.9,
          15.7,
          13.9,
          10.8,
          11.2,
          11.4,
          13.4,
          15.7,
          9.4,
          11.5,
          6.3,
          10.7,
          7.4,
          18.1,
          15.9,
          11.2,
          6.7,
          15.1,
          6.8,
          13.7,
          17,
          11.6,
          5.7,
          9,
          11.2,
          8.5,
          14.8,
          14.1,
          15.5,
          7,
          14.1,
          9.3,
          11.9,
          17.3,
          12.5,
          13.5,
          16.6,
          15.8,
          11.9,
          11.9,
          10.7,
          16,
          15.6,
          12.5,
          15.1,
          14.8,
          13.4,
          12.4,
          15.8,
          13.9,
          13.8,
          10.6,
          15.9,
          12,
          13.6,
          12.5,
          16.2,
          14.2,
          13.2,
          10.4,
          12.2,
          14.9,
          13.2,
          15.9,
          16.2,
          13.2,
          17.2,
          15.7,
          11.6,
          16.2,
          14.4,
          10.6,
          10.4,
          20.1,
          11.2,
          9.3,
          13.9,
          20.4,
          18.7,
          16.2,
          15.4,
          10.1,
          13.9,
          11,
          10.3,
          10.6,
          17.3,
          16.1,
          14.8,
          15.2,
          18.1,
          17.3,
          16.6,
          15.2,
          17.1,
          10.3,
          12.8,
          10.9,
          13.5,
          19.3,
          17,
          15,
          18.1,
          16.4,
          13.4,
          15.5,
          15.4,
          15.5,
          12.6,
          14.6,
          14.9,
          12.5,
          11.4,
          14.4,
          11.9,
          14.3,
          13.4,
          13.2,
          12.1,
          13.8,
          12.1,
          13.3,
          12.7,
          11.4,
          12.8,
          14.9,
          15.4,
          11.4,
          17.1,
          11.5,
          13.3,
          11.9,
          13.4,
          13.7,
          14.2,
          12.7,
          12.4,
          12.2,
          15.4,
          17.9,
          15.3,
          14.7,
          16.1,
          13.1,
          11,
          15.1,
          15.4,
          12.7,
          10.7,
          11.3,
          10,
          7.8,
          17.6,
          15.8,
          12.6,
          4.6,
          11.1,
          11.2,
          11.4,
          16.5,
          14.6,
          14.1,
          10.1,
          11.9,
          16.5,
          10.5,
          11.9,
          11.5,
          10.8,
          12.9,
          11.4,
          10.5,
          12.9,
          12.6,
          15,
          13.1,
          11.5,
          9.8,
          9,
          11.6,
          12.5,
          12,
          14,
          12.1,
          11.9,
          10.6,
          13,
          13.4,
          11,
          12.8,
          9.7,
          12.7,
          9.1,
          15.1,
          17.3,
          12.2,
          14,
          12.3,
          9.9,
          13.9,
          11.2,
          12.5,
          12,
          10.6,
          17.1,
          10.7,
          12.3,
          15.2,
          12.9,
          17.8,
          16.7,
          14.1,
          17.4,
          11.6,
          14.5,
          4.8,
          13.5,
          13.7,
          12.6,
          14.5,
          12.2,
          11.7,
          13.5,
          13.3,
          15.1,
          13.8,
          10.7,
          6.5,
          12.1,
          10,
          8.3,
          11.5,
          11.2,
          7.5,
          15.3,
          12.1,
          14.7,
          10.4,
          14.2,
          9.1,
          10.3,
          10.2,
          9.9,
          15.6,
          10.3,
          14.6,
          8.3,
          12,
          9.2,
          15.3,
          11.8,
          9.9,
          13.9,
          12.8,
          13.8,
          13.2,
          12.1,
          12.5,
          11.3,
          11.7,
          13.7,
          12.5,
          14.8,
          12.7,
          13.4,
          13.5,
          13.3,
          17.2,
          11.8,
          6,
          13.7,
          8.8,
          15.7,
          15.6,
          15.4,
          15.7,
          18,
          16,
          16.9,
          14.9,
          12.9,
          11.3,
          16.4,
          12.9,
          17.6,
          14.6,
          9.1,
          14.8,
          13.5,
          14.8,
          13.3,
          8.9,
          12.2,
          16.5,
          16.6,
          9.5,
          13.2,
          4,
          9.1,
          6.3,
          13.6,
          8.3,
          11.6,
          14,
          12.7,
          17.9,
          7.5,
          14.3,
          6.9,
          7.8,
          10.9,
          16,
          19.1,
          15.1,
          16.4,
          11.2,
          12.6,
          16.5,
          13.2,
          13.1,
          16.8,
          10.3,
          9.3,
          17.7,
          17.8,
          15.7,
          16.6,
          6.3,
          6.1,
          16.5,
          15.4,
          12.7,
          17.4,
          9.7,
          3.2,
          15.9,
          15.2,
          14.6,
          14.1,
          10.8,
          11.2,
          13.5,
          16.7,
          12.9,
          15.7,
          5,
          5.4,
          13.5,
          17.6,
          13.2,
          14,
          13.4,
          11.8,
          14.8,
          14.4,
          14.7,
          14.9,
          4.7,
          9.4,
          15.8,
          15.2,
          16.3,
          16.7,
          16.7,
          8.9,
          13,
          14.9,
          11,
          16.2,
          7,
          14.7,
          16.1,
          17.2,
          14.6,
          17.1,
          15.9,
          11.8,
          11.8,
          12.7,
          9.9,
          16.4,
          13.3,
          14.8,
          14.6,
          13.6,
          13.8,
          14.8,
          9.6,
          13.1,
          11.7,
          12.6,
          13.9,
          13.5,
          13.3,
          14.1,
          15,
          13.2,
          14,
          11.7,
          6.5,
          13.9,
          15.3,
          12.9,
          15.8,
          12.9,
          14.3,
          14.1,
          18.6,
          17.2,
          18.1,
          13.9,
          13.9,
          13.9,
          14.9,
          18.8,
          14,
          13.5,
          14
         ],
         "yaxis": "y"
        },
        {
         "alignmentgroup": "True",
         "hovertemplate": "color=foils<br>Vitesse en 24H=%{y}<extra></extra>",
         "legendgroup": "foils",
         "marker": {
          "color": "#EF553B",
          "symbol": "circle"
         },
         "name": "foils",
         "notched": true,
         "offsetgroup": "foils",
         "showlegend": false,
         "type": "box",
         "xaxis": "x2",
         "y": [
          0.1,
          0.2,
          0.3,
          0.2,
          0.2,
          0.2,
          0.2,
          0.2,
          0.2,
          0.2,
          0.2,
          0.2,
          0.2,
          0.2,
          0.2,
          0.3,
          0.2,
          11.6,
          10.6,
          11.4,
          12.4,
          11.4,
          11.9,
          0.2,
          12.7,
          12.4,
          12.2,
          12.4,
          12.1,
          10.3,
          12.4,
          11.5,
          11.3,
          11.7,
          11.8,
          11.1,
          8.2,
          6.9,
          7.9,
          9,
          7.3,
          9.1,
          0,
          9,
          8.6,
          9.1,
          8.9,
          8.9,
          7.7,
          9.1,
          8.7,
          8.2,
          7.3,
          8.6,
          7.9,
          12.3,
          11,
          12,
          12.9,
          8.3,
          13.2,
          7.4,
          13.2,
          12.9,
          11.9,
          6.1,
          12.2,
          10.1,
          4.2,
          12.7,
          11.8,
          10.3,
          12.3,
          11.8,
          11.5,
          10.1,
          11.8,
          7.2,
          10.5,
          9.3,
          4.8,
          11.7,
          12.5,
          13.2,
          8,
          12.7,
          10.3,
          6.9,
          12.1,
          9.6,
          9.2,
          8.9,
          9,
          12.5,
          8.9,
          12.8,
          13.1,
          9,
          10.3,
          6.1,
          12.8,
          13.4,
          13.1,
          10.4,
          13.2,
          10,
          7.3,
          14.7,
          11.2,
          10,
          13.1,
          11.5,
          14.4,
          12.4,
          14.7,
          15,
          14.1,
          14.1,
          8.7,
          14,
          12.6,
          14.4,
          7.8,
          14.2,
          13.2,
          3.7,
          16.1,
          13.9,
          13.1,
          14.5,
          14.1,
          10.9,
          10.4,
          10.9,
          11,
          11.9,
          8.7,
          7.4,
          13.4,
          11.2,
          13.3,
          0,
          12.1,
          9.7,
          7.8,
          16.1,
          9.4,
          6.5,
          10.9,
          8.8,
          18.2,
          4.7,
          17.1,
          18.1,
          10,
          17.2,
          9.7,
          20.9,
          13.7,
          20.2,
          0,
          18.6,
          7.7,
          11.7,
          20.1,
          13.2,
          2.4,
          18,
          9.5,
          17.1,
          3.4,
          16.3,
          18,
          16.9,
          17.5,
          7.1,
          19.4,
          19.4,
          0,
          16.8,
          14.7,
          6.9,
          18.2,
          18.2,
          1.5,
          18,
          17,
          15.9,
          16.4,
          16.4,
          16,
          16.5,
          18.1,
          11.5,
          14,
          14.8,
          9.3,
          15.1,
          14.7,
          12,
          15,
          18.4,
          6.6,
          15.7,
          16,
          15.5,
          15.2,
          17,
          17.5,
          14.7,
          16.5,
          16.4,
          19.7,
          19.9,
          13.8,
          17.2,
          15.2,
          16.3,
          17.6,
          15,
          10,
          16.1,
          14,
          18.4,
          12.8,
          18.6,
          19,
          13.8,
          20.9,
          16.4,
          20,
          20.7,
          15.7,
          18.9,
          10.1,
          13.6,
          20.7,
          15.8,
          7.3,
          18.3,
          11.9,
          17.8,
          5.1,
          18.8,
          17.9,
          12.5,
          20.5,
          11.2,
          21.2,
          20.7,
          15.2,
          18.6,
          9.9,
          9.1,
          20.6,
          16.5,
          6.9,
          19.4,
          11.7,
          15.5,
          5.9,
          15.7,
          14.2,
          17,
          16.8,
          10.9,
          13.4,
          15.2,
          14.1,
          15.5,
          12.8,
          11.3,
          7.7,
          16.1,
          6.9,
          15.9,
          14.4,
          9.3,
          10.3,
          10,
          10.1,
          12.2,
          8.9,
          6.5,
          9.7,
          11.6,
          15.3,
          10.7,
          12.4,
          10.3,
          3.2,
          10.5,
          11.6,
          9.7,
          12.9,
          7.9,
          11.4,
          9.1,
          8.4,
          13,
          8.9,
          7,
          8.7,
          10.7,
          8.8,
          9.2,
          12.8,
          10.8,
          4.3,
          9.5,
          3.6,
          8.8,
          12.2,
          10.7,
          13,
          5.8,
          7.2,
          7.5,
          7.2,
          5,
          8.7,
          10.6,
          7.6,
          5.6,
          13.1,
          12.2,
          8.4,
          7.8,
          4.1,
          6,
          9.9,
          10.2,
          14.8,
          11.1,
          11.2,
          15.2,
          12,
          13.9,
          5.2,
          5.9,
          11.3,
          10.4,
          13.2,
          15.5,
          9.6,
          12,
          9,
          10.8,
          13.9,
          14.3,
          14.6,
          13.5,
          16.3,
          13.4,
          13.4,
          14.4,
          5.9,
          11.2,
          11.3,
          12.6,
          13.3,
          16,
          11.1,
          15.3,
          10.9,
          11.5,
          14.8,
          16.6,
          13.3,
          17.5,
          19.9,
          16.9,
          19.4,
          14.5,
          14.7,
          15.5,
          6.9,
          18.7,
          9.3,
          18.3,
          12.4,
          17.7,
          10.6,
          18,
          12.2,
          14.4,
          10.6,
          18.3,
          15.8,
          16.2,
          17.5,
          15.1,
          17.6,
          19,
          11,
          17.9,
          7.6,
          13.6,
          13.2,
          15.2,
          14.3,
          16.9,
          12,
          16.1,
          10.7,
          17.6,
          18.2,
          17.9,
          17.3,
          14.4,
          17.1,
          14.8,
          14.7,
          18.2,
          11.5,
          13.8,
          15.5,
          17.1,
          15,
          17.1,
          6.8,
          15.7,
          13.4,
          9.3,
          17.4,
          15.7,
          13.2,
          13.3,
          16.4,
          14.8,
          17.9,
          15,
          16.9,
          12.4,
          16.9,
          14.6,
          13.5,
          8.1,
          15.2,
          19.5,
          14.2,
          17.1,
          18,
          13.3,
          14.4,
          15.4,
          16.7,
          15.7,
          13.9,
          20.6,
          8.8,
          13.2,
          11.5,
          14.6,
          9.5,
          6.8,
          19.2,
          16.8,
          15.2,
          16.7,
          6,
          12.2,
          15.1,
          17.1,
          10.3,
          14.6,
          19.4,
          14,
          15.4,
          9.6,
          15.7,
          13.4,
          6.3,
          17.7,
          18.4,
          17.5,
          15.6,
          7.3,
          8.3,
          17.7,
          17.3,
          12.7,
          11.9,
          18.5,
          17,
          11.6,
          16.3,
          12.9,
          16.6,
          17.5,
          11.8,
          16.3,
          5.9,
          16.7,
          16.1,
          11.9,
          11.5,
          15.4,
          16.7,
          9.3,
          16,
          12.1,
          6.2,
          13.3,
          13.3,
          14.2,
          12.6,
          12.7,
          12.3,
          14.7,
          4.9,
          4.8,
          11.2,
          15.2,
          14.8,
          4.1,
          9.6,
          17.9,
          12.9,
          14.2,
          12.3,
          19.6,
          19.3,
          14.8,
          8.6,
          13.2,
          14.4,
          10.6,
          13.5,
          10.3,
          9.1,
          13,
          8.2,
          16,
          8.9,
          14.2,
          16.3,
          12.2,
          8.8,
          17.6,
          15.6,
          10.4,
          16.1,
          9.1,
          6.5,
          14.1,
          16,
          13.9,
          10.9,
          13.1,
          13.2,
          17,
          6.6,
          13,
          14.1,
          15.7,
          14.6,
          8.1,
          14.9,
          13.6,
          11.4,
          16,
          13.8,
          13.3,
          11.3,
          16.4,
          14.5,
          16.6,
          16.5,
          16.1,
          14.1,
          12.7,
          5.6,
          17.9,
          13.9,
          17.6,
          11.5,
          16,
          11.6,
          17.1,
          6.1,
          17.8,
          16.6,
          14.9,
          17.5,
          11.3,
          11.2,
          18.5,
          16.8,
          18.6,
          17.7,
          17,
          14.3,
          10.7,
          13.9,
          17.3,
          12.2,
          15.5,
          16.7,
          14.4,
          17.1,
          14,
          14,
          16.7,
          16,
          14.9,
          11.1,
          15.1,
          16.4,
          14.4,
          14.6,
          15,
          8.4,
          19.3,
          16.5,
          14.7,
          18.5,
          18.4,
          16.6,
          7.9,
          14,
          14,
          12,
          16,
          8.9,
          13.4,
          14.8,
          8.5,
          9.8,
          15.1,
          7.7,
          14.5,
          12.8,
          16.4,
          9.9,
          14.1,
          11.1,
          10.3,
          14.8,
          15.4,
          11.4,
          10.4,
          14.2,
          14.3,
          15.5,
          12.5,
          13.4,
          11,
          12.1,
          12.8,
          18.1,
          12.2,
          18.1,
          18,
          17.7,
          15.2,
          19.1,
          17.9,
          16,
          11.9,
          18.3,
          15.2,
          17.8,
          11.7,
          14.7,
          9.8,
          16.6,
          16.9,
          8.2,
          13.1,
          13.4,
          15,
          13.4,
          16.3,
          13,
          16.3,
          14.7,
          12.9,
          13.2,
          9.1,
          12.8,
          13.2,
          13.4,
          18.2,
          10.6,
          17,
          13,
          15.9,
          12.9,
          15.9,
          13.4,
          15.6,
          6.5,
          11.9,
          14,
          12.6,
          18.1,
          14.8,
          15,
          10.2,
          17.3,
          13.4,
          12.5,
          13.8,
          11.5,
          4.7,
          12.8,
          12.8,
          12.6,
          16,
          13.3,
          15,
          15.8,
          12,
          12.9,
          9.9,
          16.1,
          11.1,
          14.8,
          14.4,
          10.7,
          12,
          10.4,
          14.8,
          18.6,
          13.3,
          12.5,
          15.2,
          16.2,
          14.5,
          11.1,
          9.4,
          14.5,
          10.2,
          9.2,
          15.9,
          9.7,
          13.6,
          14.4,
          18.9,
          8.7,
          16.5,
          12.4,
          11.1,
          14.1,
          9.1,
          7.6,
          11.9,
          19.3,
          12.1,
          8.4,
          9.1,
          16.7,
          8.9,
          15,
          15.9,
          10.1,
          14.5,
          10.9,
          7,
          8.7,
          19.9,
          15.7,
          13.9,
          10.8,
          11.2,
          11.4,
          13.4,
          15.7,
          9.4,
          11.5,
          6.3,
          10.7,
          7.4,
          18.1,
          15.9,
          11.2,
          6.7,
          15.1,
          6.8,
          13.7,
          17,
          11.6,
          5.7,
          9,
          11.2,
          8.5,
          14.8,
          14.1,
          15.5,
          7,
          14.1,
          9.3,
          11.9,
          17.3,
          12.5,
          13.5,
          16.6,
          15.8,
          11.9,
          11.9,
          10.7,
          16,
          15.6,
          12.5,
          15.1,
          14.8,
          13.4,
          12.4,
          15.8,
          13.9,
          13.8,
          10.6,
          15.9,
          12,
          13.6,
          12.5,
          16.2,
          14.2,
          13.2,
          10.4,
          12.2,
          14.9,
          13.2,
          15.9,
          16.2,
          13.2,
          17.2,
          15.7,
          11.6,
          16.2,
          14.4,
          10.6,
          10.4,
          20.1,
          11.2,
          9.3,
          13.9,
          20.4,
          18.7,
          16.2,
          15.4,
          10.1,
          13.9,
          11,
          10.3,
          10.6,
          17.3,
          16.1,
          14.8,
          15.2,
          18.1,
          17.3,
          16.6,
          15.2,
          17.1,
          10.3,
          12.8,
          10.9,
          13.5,
          19.3,
          17,
          15,
          18.1,
          16.4,
          13.4,
          15.5,
          15.4,
          15.5,
          12.6,
          14.6,
          14.9,
          12.5,
          11.4,
          14.4,
          11.9,
          14.3,
          13.4,
          13.2,
          12.1,
          13.8,
          12.1,
          13.3,
          12.7,
          11.4,
          12.8,
          14.9,
          15.4,
          11.4,
          17.1,
          11.5,
          13.3,
          11.9,
          13.4,
          13.7,
          14.2,
          12.7,
          12.4,
          12.2,
          15.4,
          17.9,
          15.3,
          14.7,
          16.1,
          13.1,
          11,
          15.1,
          15.4,
          12.7,
          10.7,
          11.3,
          10,
          7.8,
          17.6,
          15.8,
          12.6,
          4.6,
          11.1,
          11.2,
          11.4,
          16.5,
          14.6,
          14.1,
          10.1,
          11.9,
          16.5,
          10.5,
          11.9,
          11.5,
          10.8,
          12.9,
          11.4,
          10.5,
          12.9,
          12.6,
          15,
          13.1,
          11.5,
          9.8,
          9,
          11.6,
          12.5,
          12,
          14,
          12.1,
          11.9,
          10.6,
          13,
          13.4,
          11,
          12.8,
          9.7,
          12.7,
          9.1,
          15.1,
          17.3,
          12.2,
          14,
          12.3,
          9.9,
          13.9,
          11.2,
          12.5,
          12,
          10.6,
          17.1,
          10.7,
          12.3,
          15.2,
          12.9,
          17.8,
          16.7,
          14.1,
          17.4,
          11.6,
          14.5,
          4.8,
          13.5,
          13.7,
          12.6,
          14.5,
          12.2,
          11.7,
          13.5,
          13.3,
          15.1,
          13.8,
          10.7,
          6.5,
          12.1,
          10,
          8.3,
          11.5,
          11.2,
          7.5,
          15.3,
          12.1,
          14.7,
          10.4,
          14.2,
          9.1,
          10.3,
          10.2,
          9.9,
          15.6,
          10.3,
          14.6,
          8.3,
          12,
          9.2,
          15.3,
          11.8,
          9.9,
          13.9,
          12.8,
          13.8,
          13.2,
          12.1,
          12.5,
          11.3,
          11.7,
          13.7,
          12.5,
          14.8,
          12.7,
          13.4,
          13.5,
          13.3,
          17.2,
          11.8,
          6,
          13.7,
          8.8,
          15.7,
          15.6,
          15.4,
          15.7,
          18,
          16,
          16.9,
          14.9,
          12.9,
          11.3,
          16.4,
          12.9,
          17.6,
          14.6,
          9.1,
          14.8,
          13.5,
          14.8,
          13.3,
          8.9,
          12.2,
          16.5,
          16.6,
          9.5,
          13.2,
          4,
          9.1,
          6.3,
          13.6,
          8.3,
          11.6,
          14,
          12.7,
          17.9,
          7.5,
          14.3,
          6.9,
          7.8,
          10.9,
          16,
          19.1,
          15.1,
          16.4,
          11.2,
          12.6,
          16.5,
          13.2,
          13.1,
          16.8,
          10.3,
          9.3,
          17.7,
          17.8,
          15.7,
          16.6,
          6.3,
          6.1,
          16.5,
          15.4,
          12.7,
          17.4,
          9.7,
          3.2,
          15.9,
          15.2,
          14.6,
          14.1,
          10.8,
          11.2,
          13.5,
          16.7,
          12.9,
          15.7,
          5,
          5.4,
          13.5,
          17.6,
          13.2,
          14,
          13.4,
          11.8,
          14.8,
          14.4,
          14.7,
          14.9,
          4.7,
          9.4,
          15.8,
          15.2,
          16.3,
          16.7,
          16.7,
          8.9,
          13,
          14.9,
          11,
          16.2,
          7,
          14.7,
          16.1,
          17.2,
          14.6,
          17.1,
          15.9,
          11.8,
          11.8,
          12.7,
          9.9,
          16.4,
          13.3,
          14.8,
          14.6,
          13.6,
          13.8,
          14.8,
          9.6,
          13.1,
          11.7,
          12.6,
          13.9,
          13.5,
          13.3,
          14.1,
          15,
          13.2,
          14,
          11.7,
          6.5,
          13.9,
          15.3,
          12.9,
          15.8,
          12.9,
          14.3,
          14.1,
          18.6,
          17.2,
          18.1,
          13.9,
          13.9,
          13.9,
          14.9,
          18.8,
          14,
          13.5,
          14
         ],
         "yaxis": "y2"
        }
       ],
       "layout": {
        "legend": {
         "title": {
          "text": "color"
         },
         "tracegroupgap": 0
        },
        "margin": {
         "t": 60
        },
        "template": {
         "data": {
          "bar": [
           {
            "error_x": {
             "color": "#2a3f5f"
            },
            "error_y": {
             "color": "#2a3f5f"
            },
            "marker": {
             "line": {
              "color": "#E5ECF6",
              "width": 0.5
             },
             "pattern": {
              "fillmode": "overlay",
              "size": 10,
              "solidity": 0.2
             }
            },
            "type": "bar"
           }
          ],
          "barpolar": [
           {
            "marker": {
             "line": {
              "color": "#E5ECF6",
              "width": 0.5
             },
             "pattern": {
              "fillmode": "overlay",
              "size": 10,
              "solidity": 0.2
             }
            },
            "type": "barpolar"
           }
          ],
          "carpet": [
           {
            "aaxis": {
             "endlinecolor": "#2a3f5f",
             "gridcolor": "white",
             "linecolor": "white",
             "minorgridcolor": "white",
             "startlinecolor": "#2a3f5f"
            },
            "baxis": {
             "endlinecolor": "#2a3f5f",
             "gridcolor": "white",
             "linecolor": "white",
             "minorgridcolor": "white",
             "startlinecolor": "#2a3f5f"
            },
            "type": "carpet"
           }
          ],
          "choropleth": [
           {
            "colorbar": {
             "outlinewidth": 0,
             "ticks": ""
            },
            "type": "choropleth"
           }
          ],
          "contour": [
           {
            "colorbar": {
             "outlinewidth": 0,
             "ticks": ""
            },
            "colorscale": [
             [
              0,
              "#0d0887"
             ],
             [
              0.1111111111111111,
              "#46039f"
             ],
             [
              0.2222222222222222,
              "#7201a8"
             ],
             [
              0.3333333333333333,
              "#9c179e"
             ],
             [
              0.4444444444444444,
              "#bd3786"
             ],
             [
              0.5555555555555556,
              "#d8576b"
             ],
             [
              0.6666666666666666,
              "#ed7953"
             ],
             [
              0.7777777777777778,
              "#fb9f3a"
             ],
             [
              0.8888888888888888,
              "#fdca26"
             ],
             [
              1,
              "#f0f921"
             ]
            ],
            "type": "contour"
           }
          ],
          "contourcarpet": [
           {
            "colorbar": {
             "outlinewidth": 0,
             "ticks": ""
            },
            "type": "contourcarpet"
           }
          ],
          "heatmap": [
           {
            "colorbar": {
             "outlinewidth": 0,
             "ticks": ""
            },
            "colorscale": [
             [
              0,
              "#0d0887"
             ],
             [
              0.1111111111111111,
              "#46039f"
             ],
             [
              0.2222222222222222,
              "#7201a8"
             ],
             [
              0.3333333333333333,
              "#9c179e"
             ],
             [
              0.4444444444444444,
              "#bd3786"
             ],
             [
              0.5555555555555556,
              "#d8576b"
             ],
             [
              0.6666666666666666,
              "#ed7953"
             ],
             [
              0.7777777777777778,
              "#fb9f3a"
             ],
             [
              0.8888888888888888,
              "#fdca26"
             ],
             [
              1,
              "#f0f921"
             ]
            ],
            "type": "heatmap"
           }
          ],
          "heatmapgl": [
           {
            "colorbar": {
             "outlinewidth": 0,
             "ticks": ""
            },
            "colorscale": [
             [
              0,
              "#0d0887"
             ],
             [
              0.1111111111111111,
              "#46039f"
             ],
             [
              0.2222222222222222,
              "#7201a8"
             ],
             [
              0.3333333333333333,
              "#9c179e"
             ],
             [
              0.4444444444444444,
              "#bd3786"
             ],
             [
              0.5555555555555556,
              "#d8576b"
             ],
             [
              0.6666666666666666,
              "#ed7953"
             ],
             [
              0.7777777777777778,
              "#fb9f3a"
             ],
             [
              0.8888888888888888,
              "#fdca26"
             ],
             [
              1,
              "#f0f921"
             ]
            ],
            "type": "heatmapgl"
           }
          ],
          "histogram": [
           {
            "marker": {
             "pattern": {
              "fillmode": "overlay",
              "size": 10,
              "solidity": 0.2
             }
            },
            "type": "histogram"
           }
          ],
          "histogram2d": [
           {
            "colorbar": {
             "outlinewidth": 0,
             "ticks": ""
            },
            "colorscale": [
             [
              0,
              "#0d0887"
             ],
             [
              0.1111111111111111,
              "#46039f"
             ],
             [
              0.2222222222222222,
              "#7201a8"
             ],
             [
              0.3333333333333333,
              "#9c179e"
             ],
             [
              0.4444444444444444,
              "#bd3786"
             ],
             [
              0.5555555555555556,
              "#d8576b"
             ],
             [
              0.6666666666666666,
              "#ed7953"
             ],
             [
              0.7777777777777778,
              "#fb9f3a"
             ],
             [
              0.8888888888888888,
              "#fdca26"
             ],
             [
              1,
              "#f0f921"
             ]
            ],
            "type": "histogram2d"
           }
          ],
          "histogram2dcontour": [
           {
            "colorbar": {
             "outlinewidth": 0,
             "ticks": ""
            },
            "colorscale": [
             [
              0,
              "#0d0887"
             ],
             [
              0.1111111111111111,
              "#46039f"
             ],
             [
              0.2222222222222222,
              "#7201a8"
             ],
             [
              0.3333333333333333,
              "#9c179e"
             ],
             [
              0.4444444444444444,
              "#bd3786"
             ],
             [
              0.5555555555555556,
              "#d8576b"
             ],
             [
              0.6666666666666666,
              "#ed7953"
             ],
             [
              0.7777777777777778,
              "#fb9f3a"
             ],
             [
              0.8888888888888888,
              "#fdca26"
             ],
             [
              1,
              "#f0f921"
             ]
            ],
            "type": "histogram2dcontour"
           }
          ],
          "mesh3d": [
           {
            "colorbar": {
             "outlinewidth": 0,
             "ticks": ""
            },
            "type": "mesh3d"
           }
          ],
          "parcoords": [
           {
            "line": {
             "colorbar": {
              "outlinewidth": 0,
              "ticks": ""
             }
            },
            "type": "parcoords"
           }
          ],
          "pie": [
           {
            "automargin": true,
            "type": "pie"
           }
          ],
          "scatter": [
           {
            "marker": {
             "colorbar": {
              "outlinewidth": 0,
              "ticks": ""
             }
            },
            "type": "scatter"
           }
          ],
          "scatter3d": [
           {
            "line": {
             "colorbar": {
              "outlinewidth": 0,
              "ticks": ""
             }
            },
            "marker": {
             "colorbar": {
              "outlinewidth": 0,
              "ticks": ""
             }
            },
            "type": "scatter3d"
           }
          ],
          "scattercarpet": [
           {
            "marker": {
             "colorbar": {
              "outlinewidth": 0,
              "ticks": ""
             }
            },
            "type": "scattercarpet"
           }
          ],
          "scattergeo": [
           {
            "marker": {
             "colorbar": {
              "outlinewidth": 0,
              "ticks": ""
             }
            },
            "type": "scattergeo"
           }
          ],
          "scattergl": [
           {
            "marker": {
             "colorbar": {
              "outlinewidth": 0,
              "ticks": ""
             }
            },
            "type": "scattergl"
           }
          ],
          "scattermapbox": [
           {
            "marker": {
             "colorbar": {
              "outlinewidth": 0,
              "ticks": ""
             }
            },
            "type": "scattermapbox"
           }
          ],
          "scatterpolar": [
           {
            "marker": {
             "colorbar": {
              "outlinewidth": 0,
              "ticks": ""
             }
            },
            "type": "scatterpolar"
           }
          ],
          "scatterpolargl": [
           {
            "marker": {
             "colorbar": {
              "outlinewidth": 0,
              "ticks": ""
             }
            },
            "type": "scatterpolargl"
           }
          ],
          "scatterternary": [
           {
            "marker": {
             "colorbar": {
              "outlinewidth": 0,
              "ticks": ""
             }
            },
            "type": "scatterternary"
           }
          ],
          "surface": [
           {
            "colorbar": {
             "outlinewidth": 0,
             "ticks": ""
            },
            "colorscale": [
             [
              0,
              "#0d0887"
             ],
             [
              0.1111111111111111,
              "#46039f"
             ],
             [
              0.2222222222222222,
              "#7201a8"
             ],
             [
              0.3333333333333333,
              "#9c179e"
             ],
             [
              0.4444444444444444,
              "#bd3786"
             ],
             [
              0.5555555555555556,
              "#d8576b"
             ],
             [
              0.6666666666666666,
              "#ed7953"
             ],
             [
              0.7777777777777778,
              "#fb9f3a"
             ],
             [
              0.8888888888888888,
              "#fdca26"
             ],
             [
              1,
              "#f0f921"
             ]
            ],
            "type": "surface"
           }
          ],
          "table": [
           {
            "cells": {
             "fill": {
              "color": "#EBF0F8"
             },
             "line": {
              "color": "white"
             }
            },
            "header": {
             "fill": {
              "color": "#C8D4E3"
             },
             "line": {
              "color": "white"
             }
            },
            "type": "table"
           }
          ]
         },
         "layout": {
          "annotationdefaults": {
           "arrowcolor": "#2a3f5f",
           "arrowhead": 0,
           "arrowwidth": 1
          },
          "autotypenumbers": "strict",
          "coloraxis": {
           "colorbar": {
            "outlinewidth": 0,
            "ticks": ""
           }
          },
          "colorscale": {
           "diverging": [
            [
             0,
             "#8e0152"
            ],
            [
             0.1,
             "#c51b7d"
            ],
            [
             0.2,
             "#de77ae"
            ],
            [
             0.3,
             "#f1b6da"
            ],
            [
             0.4,
             "#fde0ef"
            ],
            [
             0.5,
             "#f7f7f7"
            ],
            [
             0.6,
             "#e6f5d0"
            ],
            [
             0.7,
             "#b8e186"
            ],
            [
             0.8,
             "#7fbc41"
            ],
            [
             0.9,
             "#4d9221"
            ],
            [
             1,
             "#276419"
            ]
           ],
           "sequential": [
            [
             0,
             "#0d0887"
            ],
            [
             0.1111111111111111,
             "#46039f"
            ],
            [
             0.2222222222222222,
             "#7201a8"
            ],
            [
             0.3333333333333333,
             "#9c179e"
            ],
            [
             0.4444444444444444,
             "#bd3786"
            ],
            [
             0.5555555555555556,
             "#d8576b"
            ],
            [
             0.6666666666666666,
             "#ed7953"
            ],
            [
             0.7777777777777778,
             "#fb9f3a"
            ],
            [
             0.8888888888888888,
             "#fdca26"
            ],
            [
             1,
             "#f0f921"
            ]
           ],
           "sequentialminus": [
            [
             0,
             "#0d0887"
            ],
            [
             0.1111111111111111,
             "#46039f"
            ],
            [
             0.2222222222222222,
             "#7201a8"
            ],
            [
             0.3333333333333333,
             "#9c179e"
            ],
            [
             0.4444444444444444,
             "#bd3786"
            ],
            [
             0.5555555555555556,
             "#d8576b"
            ],
            [
             0.6666666666666666,
             "#ed7953"
            ],
            [
             0.7777777777777778,
             "#fb9f3a"
            ],
            [
             0.8888888888888888,
             "#fdca26"
            ],
            [
             1,
             "#f0f921"
            ]
           ]
          },
          "colorway": [
           "#636efa",
           "#EF553B",
           "#00cc96",
           "#ab63fa",
           "#FFA15A",
           "#19d3f3",
           "#FF6692",
           "#B6E880",
           "#FF97FF",
           "#FECB52"
          ],
          "font": {
           "color": "#2a3f5f"
          },
          "geo": {
           "bgcolor": "white",
           "lakecolor": "white",
           "landcolor": "#E5ECF6",
           "showlakes": true,
           "showland": true,
           "subunitcolor": "white"
          },
          "hoverlabel": {
           "align": "left"
          },
          "hovermode": "closest",
          "mapbox": {
           "style": "light"
          },
          "paper_bgcolor": "white",
          "plot_bgcolor": "#E5ECF6",
          "polar": {
           "angularaxis": {
            "gridcolor": "white",
            "linecolor": "white",
            "ticks": ""
           },
           "bgcolor": "#E5ECF6",
           "radialaxis": {
            "gridcolor": "white",
            "linecolor": "white",
            "ticks": ""
           }
          },
          "scene": {
           "xaxis": {
            "backgroundcolor": "#E5ECF6",
            "gridcolor": "white",
            "gridwidth": 2,
            "linecolor": "white",
            "showbackground": true,
            "ticks": "",
            "zerolinecolor": "white"
           },
           "yaxis": {
            "backgroundcolor": "#E5ECF6",
            "gridcolor": "white",
            "gridwidth": 2,
            "linecolor": "white",
            "showbackground": true,
            "ticks": "",
            "zerolinecolor": "white"
           },
           "zaxis": {
            "backgroundcolor": "#E5ECF6",
            "gridcolor": "white",
            "gridwidth": 2,
            "linecolor": "white",
            "showbackground": true,
            "ticks": "",
            "zerolinecolor": "white"
           }
          },
          "shapedefaults": {
           "line": {
            "color": "#2a3f5f"
           }
          },
          "ternary": {
           "aaxis": {
            "gridcolor": "white",
            "linecolor": "white",
            "ticks": ""
           },
           "baxis": {
            "gridcolor": "white",
            "linecolor": "white",
            "ticks": ""
           },
           "bgcolor": "#E5ECF6",
           "caxis": {
            "gridcolor": "white",
            "linecolor": "white",
            "ticks": ""
           }
          },
          "title": {
           "x": 0.05
          },
          "xaxis": {
           "automargin": true,
           "gridcolor": "white",
           "linecolor": "white",
           "ticks": "",
           "title": {
            "standoff": 15
           },
           "zerolinecolor": "white",
           "zerolinewidth": 2
          },
          "yaxis": {
           "automargin": true,
           "gridcolor": "white",
           "linecolor": "white",
           "ticks": "",
           "title": {
            "standoff": 15
           },
           "zerolinecolor": "white",
           "zerolinewidth": 2
          }
         }
        },
        "xaxis": {
         "anchor": "y",
         "domain": [
          0,
          0.7363
         ],
         "title": {
          "text": "Date"
         }
        },
        "xaxis2": {
         "anchor": "y2",
         "domain": [
          0.7413,
          1
         ],
         "matches": "x2",
         "showgrid": false,
         "showline": false,
         "showticklabels": false,
         "ticks": ""
        },
        "yaxis": {
         "anchor": "x",
         "domain": [
          0,
          1
         ],
         "title": {
          "text": "Vitesse en 24H"
         }
        },
        "yaxis2": {
         "anchor": "x2",
         "domain": [
          0,
          1
         ],
         "matches": "y",
         "showgrid": true,
         "showticklabels": false
        }
       }
      },
      "text/html": [
       "<div>                            <div id=\"92492ce4-6b25-4c0e-99d4-51357a19e302\" class=\"plotly-graph-div\" style=\"height:525px; width:100%;\"></div>            <script type=\"text/javascript\">                require([\"plotly\"], function(Plotly) {                    window.PLOTLYENV=window.PLOTLYENV || {};                                    if (document.getElementById(\"92492ce4-6b25-4c0e-99d4-51357a19e302\")) {                    Plotly.newPlot(                        \"92492ce4-6b25-4c0e-99d4-51357a19e302\",                        [{\"hovertemplate\":\"color=2<br>Date=%{x}<br>Vitesse en 24H=%{y}<extra></extra>\",\"legendgroup\":\"2\",\"marker\":{\"color\":\"#636efa\",\"symbol\":\"circle\"},\"mode\":\"markers\",\"name\":\"2\",\"showlegend\":true,\"type\":\"scattergl\",\"x\":[\"2020-11-08T14:00:00\",\"2020-11-08T14:00:00\",\"2020-11-08T14:00:00\",\"2020-11-08T14:00:00\",\"2020-11-08T14:00:00\",\"2020-11-08T14:00:00\",\"2020-11-08T14:00:00\",\"2020-11-08T14:00:00\",\"2020-11-08T14:00:00\",\"2020-11-08T14:00:00\",\"2020-11-08T14:00:00\",\"2020-11-08T14:00:00\",\"2020-11-08T14:00:00\",\"2020-11-08T14:00:00\",\"2020-11-09T14:00:00\",\"2020-11-09T14:00:00\",\"2020-11-09T14:00:00\",\"2020-11-09T14:00:00\",\"2020-11-09T14:00:00\",\"2020-11-09T14:00:00\",\"2020-11-09T14:00:00\",\"2020-11-09T14:00:00\",\"2020-11-09T14:00:00\",\"2020-11-09T14:00:00\",\"2020-11-09T14:00:00\",\"2020-11-09T14:00:00\",\"2020-11-09T14:00:00\",\"2020-11-09T14:00:00\",\"2020-11-10T14:00:00\",\"2020-11-10T14:00:00\",\"2020-11-10T14:00:00\",\"2020-11-10T14:00:00\",\"2020-11-10T14:00:00\",\"2020-11-10T14:00:00\",\"2020-11-10T14:00:00\",\"2020-11-10T14:00:00\",\"2020-11-10T14:00:00\",\"2020-11-10T14:00:00\",\"2020-11-10T14:00:00\",\"2020-11-10T14:00:00\",\"2020-11-10T14:00:00\",\"2020-11-10T14:00:00\",\"2020-11-11T14:00:00\",\"2020-11-11T14:00:00\",\"2020-11-11T14:00:00\",\"2020-11-11T14:00:00\",\"2020-11-11T14:00:00\",\"2020-11-11T14:00:00\",\"2020-11-11T14:00:00\",\"2020-11-11T14:00:00\",\"2020-11-11T14:00:00\",\"2020-11-11T14:00:00\",\"2020-11-11T14:00:00\",\"2020-11-11T14:00:00\",\"2020-11-11T14:00:00\",\"2020-11-11T14:00:00\",\"2020-11-12T14:00:00\",\"2020-11-12T14:00:00\",\"2020-11-12T14:00:00\",\"2020-11-12T14:00:00\",\"2020-11-12T14:00:00\",\"2020-11-12T14:00:00\",\"2020-11-12T14:00:00\",\"2020-11-12T14:00:00\",\"2020-11-12T14:00:00\",\"2020-11-12T14:00:00\",\"2020-11-12T14:00:00\",\"2020-11-12T14:00:00\",\"2020-11-12T14:00:00\",\"2020-11-12T14:00:00\",\"2020-11-13T14:00:00\",\"2020-11-13T14:00:00\",\"2020-11-13T14:00:00\",\"2020-11-13T14:00:00\",\"2020-11-13T14:00:00\",\"2020-11-13T14:00:00\",\"2020-11-13T14:00:00\",\"2020-11-13T14:00:00\",\"2020-11-13T14:00:00\",\"2020-11-13T14:00:00\",\"2020-11-13T14:00:00\",\"2020-11-13T14:00:00\",\"2020-11-13T14:00:00\",\"2020-11-13T14:00:00\",\"2020-11-14T14:00:00\",\"2020-11-14T14:00:00\",\"2020-11-14T14:00:00\",\"2020-11-14T14:00:00\",\"2020-11-14T14:00:00\",\"2020-11-14T14:00:00\",\"2020-11-14T14:00:00\",\"2020-11-14T14:00:00\",\"2020-11-14T14:00:00\",\"2020-11-14T14:00:00\",\"2020-11-14T14:00:00\",\"2020-11-14T14:00:00\",\"2020-11-14T14:00:00\",\"2020-11-14T14:00:00\",\"2020-11-15T14:00:00\",\"2020-11-15T14:00:00\",\"2020-11-15T14:00:00\",\"2020-11-15T14:00:00\",\"2020-11-15T14:00:00\",\"2020-11-15T14:00:00\",\"2020-11-15T14:00:00\",\"2020-11-15T14:00:00\",\"2020-11-15T14:00:00\",\"2020-11-15T14:00:00\",\"2020-11-15T14:00:00\",\"2020-11-15T14:00:00\",\"2020-11-15T14:00:00\",\"2020-11-15T14:00:00\",\"2020-11-16T14:00:00\",\"2020-11-16T14:00:00\",\"2020-11-16T14:00:00\",\"2020-11-16T14:00:00\",\"2020-11-16T14:00:00\",\"2020-11-16T14:00:00\",\"2020-11-16T14:00:00\",\"2020-11-16T14:00:00\",\"2020-11-16T14:00:00\",\"2020-11-16T14:00:00\",\"2020-11-16T14:00:00\",\"2020-11-16T14:00:00\",\"2020-11-16T14:00:00\",\"2020-11-16T14:00:00\",\"2020-11-17T14:00:00\",\"2020-11-17T14:00:00\",\"2020-11-17T14:00:00\",\"2020-11-17T14:00:00\",\"2020-11-17T14:00:00\",\"2020-11-17T14:00:00\",\"2020-11-17T14:00:00\",\"2020-11-17T14:00:00\",\"2020-11-17T14:00:00\",\"2020-11-17T14:00:00\",\"2020-11-17T14:00:00\",\"2020-11-17T14:00:00\",\"2020-11-17T14:00:00\",\"2020-11-17T14:00:00\",\"2020-11-18T14:00:00\",\"2020-11-18T14:00:00\",\"2020-11-18T14:00:00\",\"2020-11-18T14:00:00\",\"2020-11-18T14:00:00\",\"2020-11-18T14:00:00\",\"2020-11-18T14:00:00\",\"2020-11-18T14:00:00\",\"2020-11-18T14:00:00\",\"2020-11-18T14:00:00\",\"2020-11-18T14:00:00\",\"2020-11-18T14:00:00\",\"2020-11-18T14:00:00\",\"2020-11-18T14:00:00\",\"2020-11-19T14:00:00\",\"2020-11-19T14:00:00\",\"2020-11-19T14:00:00\",\"2020-11-19T14:00:00\",\"2020-11-19T14:00:00\",\"2020-11-19T14:00:00\",\"2020-11-19T14:00:00\",\"2020-11-19T14:00:00\",\"2020-11-19T14:00:00\",\"2020-11-19T14:00:00\",\"2020-11-19T14:00:00\",\"2020-11-19T14:00:00\",\"2020-11-19T14:00:00\",\"2020-11-19T14:00:00\",\"2020-11-20T14:00:00\",\"2020-11-20T14:00:00\",\"2020-11-20T14:00:00\",\"2020-11-20T14:00:00\",\"2020-11-20T14:00:00\",\"2020-11-20T14:00:00\",\"2020-11-20T14:00:00\",\"2020-11-20T14:00:00\",\"2020-11-20T14:00:00\",\"2020-11-20T14:00:00\",\"2020-11-20T14:00:00\",\"2020-11-20T14:00:00\",\"2020-11-20T14:00:00\",\"2020-11-20T14:00:00\",\"2020-11-21T14:00:00\",\"2020-11-21T14:00:00\",\"2020-11-21T14:00:00\",\"2020-11-21T14:00:00\",\"2020-11-21T14:00:00\",\"2020-11-21T14:00:00\",\"2020-11-21T14:00:00\",\"2020-11-21T14:00:00\",\"2020-11-21T14:00:00\",\"2020-11-21T14:00:00\",\"2020-11-21T14:00:00\",\"2020-11-21T14:00:00\",\"2020-11-21T14:00:00\",\"2020-11-21T14:00:00\",\"2020-11-22T14:00:00\",\"2020-11-22T14:00:00\",\"2020-11-22T14:00:00\",\"2020-11-22T14:00:00\",\"2020-11-22T14:00:00\",\"2020-11-22T14:00:00\",\"2020-11-22T14:00:00\",\"2020-11-22T14:00:00\",\"2020-11-22T14:00:00\",\"2020-11-22T14:00:00\",\"2020-11-22T14:00:00\",\"2020-11-22T14:00:00\",\"2020-11-22T14:00:00\",\"2020-11-22T14:00:00\",\"2020-11-23T14:00:00\",\"2020-11-23T14:00:00\",\"2020-11-23T14:00:00\",\"2020-11-23T14:00:00\",\"2020-11-23T14:00:00\",\"2020-11-23T14:00:00\",\"2020-11-23T14:00:00\",\"2020-11-23T14:00:00\",\"2020-11-23T14:00:00\",\"2020-11-23T14:00:00\",\"2020-11-23T14:00:00\",\"2020-11-23T14:00:00\",\"2020-11-23T14:00:00\",\"2020-11-23T14:00:00\",\"2020-11-24T14:00:00\",\"2020-11-24T14:00:00\",\"2020-11-24T14:00:00\",\"2020-11-24T14:00:00\",\"2020-11-24T14:00:00\",\"2020-11-24T14:00:00\",\"2020-11-24T14:00:00\",\"2020-11-24T14:00:00\",\"2020-11-24T14:00:00\",\"2020-11-24T14:00:00\",\"2020-11-24T14:00:00\",\"2020-11-24T14:00:00\",\"2020-11-24T14:00:00\",\"2020-11-24T14:00:00\",\"2020-11-25T14:00:00\",\"2020-11-25T14:00:00\",\"2020-11-25T14:00:00\",\"2020-11-25T14:00:00\",\"2020-11-25T14:00:00\",\"2020-11-25T14:00:00\",\"2020-11-25T14:00:00\",\"2020-11-25T14:00:00\",\"2020-11-25T14:00:00\",\"2020-11-25T14:00:00\",\"2020-11-25T14:00:00\",\"2020-11-25T14:00:00\",\"2020-11-25T14:00:00\",\"2020-11-25T14:00:00\",\"2020-11-26T14:00:00\",\"2020-11-26T14:00:00\",\"2020-11-26T14:00:00\",\"2020-11-26T14:00:00\",\"2020-11-26T14:00:00\",\"2020-11-26T14:00:00\",\"2020-11-26T14:00:00\",\"2020-11-26T14:00:00\",\"2020-11-26T14:00:00\",\"2020-11-26T14:00:00\",\"2020-11-26T14:00:00\",\"2020-11-26T14:00:00\",\"2020-11-26T14:00:00\",\"2020-11-26T14:00:00\",\"2020-11-27T14:00:00\",\"2020-11-27T14:00:00\",\"2020-11-27T14:00:00\",\"2020-11-27T14:00:00\",\"2020-11-27T14:00:00\",\"2020-11-27T14:00:00\",\"2020-11-27T14:00:00\",\"2020-11-27T14:00:00\",\"2020-11-27T14:00:00\",\"2020-11-27T14:00:00\",\"2020-11-27T14:00:00\",\"2020-11-27T14:00:00\",\"2020-11-27T14:00:00\",\"2020-11-27T14:00:00\",\"2020-11-28T14:00:00\",\"2020-11-28T14:00:00\",\"2020-11-28T14:00:00\",\"2020-11-28T14:00:00\",\"2020-11-28T14:00:00\",\"2020-11-28T14:00:00\",\"2020-11-28T14:00:00\",\"2020-11-28T14:00:00\",\"2020-11-28T14:00:00\",\"2020-11-28T14:00:00\",\"2020-11-28T14:00:00\",\"2020-11-28T14:00:00\",\"2020-11-28T14:00:00\",\"2020-11-28T14:00:00\",\"2020-11-29T14:00:00\",\"2020-11-29T14:00:00\",\"2020-11-29T14:00:00\",\"2020-11-29T14:00:00\",\"2020-11-29T14:00:00\",\"2020-11-29T14:00:00\",\"2020-11-29T14:00:00\",\"2020-11-29T14:00:00\",\"2020-11-29T14:00:00\",\"2020-11-29T14:00:00\",\"2020-11-29T14:00:00\",\"2020-11-29T14:00:00\",\"2020-11-29T14:00:00\",\"2020-11-29T14:00:00\",\"2020-11-30T14:00:00\",\"2020-11-30T14:00:00\",\"2020-11-30T14:00:00\",\"2020-11-30T14:00:00\",\"2020-11-30T14:00:00\",\"2020-11-30T14:00:00\",\"2020-11-30T14:00:00\",\"2020-11-30T14:00:00\",\"2020-11-30T14:00:00\",\"2020-11-30T14:00:00\",\"2020-11-30T14:00:00\",\"2020-11-30T14:00:00\",\"2020-11-30T14:00:00\",\"2020-11-30T14:00:00\",\"2020-12-01T14:00:00\",\"2020-12-01T14:00:00\",\"2020-12-01T14:00:00\",\"2020-12-01T14:00:00\",\"2020-12-01T14:00:00\",\"2020-12-01T14:00:00\",\"2020-12-01T14:00:00\",\"2020-12-01T14:00:00\",\"2020-12-01T14:00:00\",\"2020-12-01T14:00:00\",\"2020-12-01T14:00:00\",\"2020-12-01T14:00:00\",\"2020-12-01T14:00:00\",\"2020-12-01T14:00:00\",\"2020-12-02T14:00:00\",\"2020-12-02T14:00:00\",\"2020-12-02T14:00:00\",\"2020-12-02T14:00:00\",\"2020-12-02T14:00:00\",\"2020-12-02T14:00:00\",\"2020-12-02T14:00:00\",\"2020-12-02T14:00:00\",\"2020-12-02T14:00:00\",\"2020-12-02T14:00:00\",\"2020-12-02T14:00:00\",\"2020-12-02T14:00:00\",\"2020-12-02T14:00:00\",\"2020-12-02T14:00:00\",\"2020-12-03T14:00:00\",\"2020-12-03T14:00:00\",\"2020-12-03T14:00:00\",\"2020-12-03T14:00:00\",\"2020-12-03T14:00:00\",\"2020-12-03T14:00:00\",\"2020-12-03T14:00:00\",\"2020-12-03T14:00:00\",\"2020-12-03T14:00:00\",\"2020-12-03T14:00:00\",\"2020-12-03T14:00:00\",\"2020-12-03T14:00:00\",\"2020-12-03T14:00:00\",\"2020-12-03T14:00:00\",\"2020-12-04T14:00:00\",\"2020-12-04T14:00:00\",\"2020-12-04T14:00:00\",\"2020-12-04T14:00:00\",\"2020-12-04T14:00:00\",\"2020-12-04T14:00:00\",\"2020-12-04T14:00:00\",\"2020-12-04T14:00:00\",\"2020-12-04T14:00:00\",\"2020-12-04T14:00:00\",\"2020-12-04T14:00:00\",\"2020-12-04T14:00:00\",\"2020-12-04T14:00:00\",\"2020-12-04T14:00:00\",\"2020-12-05T14:00:00\",\"2020-12-05T14:00:00\",\"2020-12-05T14:00:00\",\"2020-12-05T14:00:00\",\"2020-12-05T14:00:00\",\"2020-12-05T14:00:00\",\"2020-12-05T14:00:00\",\"2020-12-05T14:00:00\",\"2020-12-05T14:00:00\",\"2020-12-05T14:00:00\",\"2020-12-05T14:00:00\",\"2020-12-05T14:00:00\",\"2020-12-05T14:00:00\",\"2020-12-05T14:00:00\",\"2020-12-06T14:00:00\",\"2020-12-06T14:00:00\",\"2020-12-06T14:00:00\",\"2020-12-06T14:00:00\",\"2020-12-06T14:00:00\",\"2020-12-06T14:00:00\",\"2020-12-06T14:00:00\",\"2020-12-06T14:00:00\",\"2020-12-06T14:00:00\",\"2020-12-06T14:00:00\",\"2020-12-06T14:00:00\",\"2020-12-06T14:00:00\",\"2020-12-06T14:00:00\",\"2020-12-06T14:00:00\",\"2020-12-07T14:00:00\",\"2020-12-07T14:00:00\",\"2020-12-07T14:00:00\",\"2020-12-07T14:00:00\",\"2020-12-07T14:00:00\",\"2020-12-07T14:00:00\",\"2020-12-07T14:00:00\",\"2020-12-07T14:00:00\",\"2020-12-07T14:00:00\",\"2020-12-07T14:00:00\",\"2020-12-07T14:00:00\",\"2020-12-07T14:00:00\",\"2020-12-07T14:00:00\",\"2020-12-07T14:00:00\",\"2020-12-08T14:00:00\",\"2020-12-08T14:00:00\",\"2020-12-08T14:00:00\",\"2020-12-08T14:00:00\",\"2020-12-08T14:00:00\",\"2020-12-08T14:00:00\",\"2020-12-08T14:00:00\",\"2020-12-08T14:00:00\",\"2020-12-08T14:00:00\",\"2020-12-08T14:00:00\",\"2020-12-08T14:00:00\",\"2020-12-08T14:00:00\",\"2020-12-08T14:00:00\",\"2020-12-08T14:00:00\",\"2020-12-09T14:00:00\",\"2020-12-09T14:00:00\",\"2020-12-09T14:00:00\",\"2020-12-09T14:00:00\",\"2020-12-09T14:00:00\",\"2020-12-09T14:00:00\",\"2020-12-09T14:00:00\",\"2020-12-09T14:00:00\",\"2020-12-09T14:00:00\",\"2020-12-09T14:00:00\",\"2020-12-09T14:00:00\",\"2020-12-09T14:00:00\",\"2020-12-09T14:00:00\",\"2020-12-09T14:00:00\",\"2020-12-10T14:00:00\",\"2020-12-10T14:00:00\",\"2020-12-10T14:00:00\",\"2020-12-10T14:00:00\",\"2020-12-10T14:00:00\",\"2020-12-10T14:00:00\",\"2020-12-10T14:00:00\",\"2020-12-10T14:00:00\",\"2020-12-10T14:00:00\",\"2020-12-10T14:00:00\",\"2020-12-10T14:00:00\",\"2020-12-10T14:00:00\",\"2020-12-10T14:00:00\",\"2020-12-10T14:00:00\",\"2020-12-11T14:00:00\",\"2020-12-11T14:00:00\",\"2020-12-11T14:00:00\",\"2020-12-11T14:00:00\",\"2020-12-11T14:00:00\",\"2020-12-11T14:00:00\",\"2020-12-11T14:00:00\",\"2020-12-11T14:00:00\",\"2020-12-11T14:00:00\",\"2020-12-11T14:00:00\",\"2020-12-11T14:00:00\",\"2020-12-11T14:00:00\",\"2020-12-11T14:00:00\",\"2020-12-11T14:00:00\",\"2020-12-12T14:00:00\",\"2020-12-12T14:00:00\",\"2020-12-12T14:00:00\",\"2020-12-12T14:00:00\",\"2020-12-12T14:00:00\",\"2020-12-12T14:00:00\",\"2020-12-12T14:00:00\",\"2020-12-12T14:00:00\",\"2020-12-12T14:00:00\",\"2020-12-12T14:00:00\",\"2020-12-12T14:00:00\",\"2020-12-12T14:00:00\",\"2020-12-12T14:00:00\",\"2020-12-12T14:00:00\",\"2020-12-13T14:00:00\",\"2020-12-13T14:00:00\",\"2020-12-13T14:00:00\",\"2020-12-13T14:00:00\",\"2020-12-13T14:00:00\",\"2020-12-13T14:00:00\",\"2020-12-13T14:00:00\",\"2020-12-13T14:00:00\",\"2020-12-13T14:00:00\",\"2020-12-13T14:00:00\",\"2020-12-13T14:00:00\",\"2020-12-13T14:00:00\",\"2020-12-13T14:00:00\",\"2020-12-13T14:00:00\",\"2020-12-14T14:00:00\",\"2020-12-14T14:00:00\",\"2020-12-14T14:00:00\",\"2020-12-14T14:00:00\",\"2020-12-14T14:00:00\",\"2020-12-14T14:00:00\",\"2020-12-14T14:00:00\",\"2020-12-14T14:00:00\",\"2020-12-14T14:00:00\",\"2020-12-14T14:00:00\",\"2020-12-14T14:00:00\",\"2020-12-14T14:00:00\",\"2020-12-14T14:00:00\",\"2020-12-14T14:00:00\",\"2020-12-15T14:00:00\",\"2020-12-15T14:00:00\",\"2020-12-15T14:00:00\",\"2020-12-15T14:00:00\",\"2020-12-15T14:00:00\",\"2020-12-15T14:00:00\",\"2020-12-15T14:00:00\",\"2020-12-15T14:00:00\",\"2020-12-15T14:00:00\",\"2020-12-15T14:00:00\",\"2020-12-15T14:00:00\",\"2020-12-15T14:00:00\",\"2020-12-15T14:00:00\",\"2020-12-15T14:00:00\",\"2020-12-16T14:00:00\",\"2020-12-16T14:00:00\",\"2020-12-16T14:00:00\",\"2020-12-16T14:00:00\",\"2020-12-16T14:00:00\",\"2020-12-16T14:00:00\",\"2020-12-16T14:00:00\",\"2020-12-16T14:00:00\",\"2020-12-16T14:00:00\",\"2020-12-16T14:00:00\",\"2020-12-16T14:00:00\",\"2020-12-16T14:00:00\",\"2020-12-16T14:00:00\",\"2020-12-16T14:00:00\",\"2020-12-17T14:00:00\",\"2020-12-17T14:00:00\",\"2020-12-17T14:00:00\",\"2020-12-17T14:00:00\",\"2020-12-17T14:00:00\",\"2020-12-17T14:00:00\",\"2020-12-17T14:00:00\",\"2020-12-17T14:00:00\",\"2020-12-17T14:00:00\",\"2020-12-17T14:00:00\",\"2020-12-17T14:00:00\",\"2020-12-17T14:00:00\",\"2020-12-17T14:00:00\",\"2020-12-17T14:00:00\",\"2020-12-18T14:00:00\",\"2020-12-18T14:00:00\",\"2020-12-18T14:00:00\",\"2020-12-18T14:00:00\",\"2020-12-18T14:00:00\",\"2020-12-18T14:00:00\",\"2020-12-18T14:00:00\",\"2020-12-18T14:00:00\",\"2020-12-18T14:00:00\",\"2020-12-18T14:00:00\",\"2020-12-18T14:00:00\",\"2020-12-18T14:00:00\",\"2020-12-18T14:00:00\",\"2020-12-18T14:00:00\",\"2020-12-19T14:00:00\",\"2020-12-19T14:00:00\",\"2020-12-19T14:00:00\",\"2020-12-19T14:00:00\",\"2020-12-19T14:00:00\",\"2020-12-19T14:00:00\",\"2020-12-19T14:00:00\",\"2020-12-19T14:00:00\",\"2020-12-19T14:00:00\",\"2020-12-19T14:00:00\",\"2020-12-19T14:00:00\",\"2020-12-19T14:00:00\",\"2020-12-19T14:00:00\",\"2020-12-19T14:00:00\",\"2020-12-20T14:00:00\",\"2020-12-20T14:00:00\",\"2020-12-20T14:00:00\",\"2020-12-20T14:00:00\",\"2020-12-20T14:00:00\",\"2020-12-20T14:00:00\",\"2020-12-20T14:00:00\",\"2020-12-20T14:00:00\",\"2020-12-20T14:00:00\",\"2020-12-20T14:00:00\",\"2020-12-20T14:00:00\",\"2020-12-20T14:00:00\",\"2020-12-20T14:00:00\",\"2020-12-20T14:00:00\",\"2020-12-21T14:00:00\",\"2020-12-21T14:00:00\",\"2020-12-21T14:00:00\",\"2020-12-21T14:00:00\",\"2020-12-21T14:00:00\",\"2020-12-21T14:00:00\",\"2020-12-21T14:00:00\",\"2020-12-21T14:00:00\",\"2020-12-21T14:00:00\",\"2020-12-21T14:00:00\",\"2020-12-21T14:00:00\",\"2020-12-21T14:00:00\",\"2020-12-21T14:00:00\",\"2020-12-21T14:00:00\",\"2020-12-22T14:00:00\",\"2020-12-22T14:00:00\",\"2020-12-22T14:00:00\",\"2020-12-22T14:00:00\",\"2020-12-22T14:00:00\",\"2020-12-22T14:00:00\",\"2020-12-22T14:00:00\",\"2020-12-22T14:00:00\",\"2020-12-22T14:00:00\",\"2020-12-22T14:00:00\",\"2020-12-22T14:00:00\",\"2020-12-22T14:00:00\",\"2020-12-22T14:00:00\",\"2020-12-22T14:00:00\",\"2020-12-23T14:00:00\",\"2020-12-23T14:00:00\",\"2020-12-23T14:00:00\",\"2020-12-23T14:00:00\",\"2020-12-23T14:00:00\",\"2020-12-23T14:00:00\",\"2020-12-23T14:00:00\",\"2020-12-23T14:00:00\",\"2020-12-23T14:00:00\",\"2020-12-23T14:00:00\",\"2020-12-23T14:00:00\",\"2020-12-23T14:00:00\",\"2020-12-23T14:00:00\",\"2020-12-23T14:00:00\",\"2020-12-24T14:00:00\",\"2020-12-24T14:00:00\",\"2020-12-24T14:00:00\",\"2020-12-24T14:00:00\",\"2020-12-24T14:00:00\",\"2020-12-24T14:00:00\",\"2020-12-24T14:00:00\",\"2020-12-24T14:00:00\",\"2020-12-24T14:00:00\",\"2020-12-24T14:00:00\",\"2020-12-24T14:00:00\",\"2020-12-24T14:00:00\",\"2020-12-24T14:00:00\",\"2020-12-24T14:00:00\",\"2020-12-25T14:00:00\",\"2020-12-25T14:00:00\",\"2020-12-25T14:00:00\",\"2020-12-25T14:00:00\",\"2020-12-25T14:00:00\",\"2020-12-25T14:00:00\",\"2020-12-25T14:00:00\",\"2020-12-25T14:00:00\",\"2020-12-25T14:00:00\",\"2020-12-25T14:00:00\",\"2020-12-25T14:00:00\",\"2020-12-25T14:00:00\",\"2020-12-25T14:00:00\",\"2020-12-25T14:00:00\",\"2020-12-26T14:00:00\",\"2020-12-26T14:00:00\",\"2020-12-26T14:00:00\",\"2020-12-26T14:00:00\",\"2020-12-26T14:00:00\",\"2020-12-26T14:00:00\",\"2020-12-26T14:00:00\",\"2020-12-26T14:00:00\",\"2020-12-26T14:00:00\",\"2020-12-26T14:00:00\",\"2020-12-26T14:00:00\",\"2020-12-26T14:00:00\",\"2020-12-26T14:00:00\",\"2020-12-26T14:00:00\",\"2020-12-27T14:00:00\",\"2020-12-27T14:00:00\",\"2020-12-27T14:00:00\",\"2020-12-27T14:00:00\",\"2020-12-27T14:00:00\",\"2020-12-27T14:00:00\",\"2020-12-27T14:00:00\",\"2020-12-27T14:00:00\",\"2020-12-27T14:00:00\",\"2020-12-27T14:00:00\",\"2020-12-27T14:00:00\",\"2020-12-27T14:00:00\",\"2020-12-27T14:00:00\",\"2020-12-27T14:00:00\",\"2020-12-28T14:00:00\",\"2020-12-28T14:00:00\",\"2020-12-28T14:00:00\",\"2020-12-28T14:00:00\",\"2020-12-28T14:00:00\",\"2020-12-28T14:00:00\",\"2020-12-28T14:00:00\",\"2020-12-28T14:00:00\",\"2020-12-28T14:00:00\",\"2020-12-28T14:00:00\",\"2020-12-28T14:00:00\",\"2020-12-28T14:00:00\",\"2020-12-28T14:00:00\",\"2020-12-28T14:00:00\",\"2020-12-29T14:00:00\",\"2020-12-29T14:00:00\",\"2020-12-29T14:00:00\",\"2020-12-29T14:00:00\",\"2020-12-29T14:00:00\",\"2020-12-29T14:00:00\",\"2020-12-29T14:00:00\",\"2020-12-29T14:00:00\",\"2020-12-29T14:00:00\",\"2020-12-29T14:00:00\",\"2020-12-29T14:00:00\",\"2020-12-29T14:00:00\",\"2020-12-29T14:00:00\",\"2020-12-29T14:00:00\",\"2020-12-30T14:00:00\",\"2020-12-30T14:00:00\",\"2020-12-30T14:00:00\",\"2020-12-30T14:00:00\",\"2020-12-30T14:00:00\",\"2020-12-30T14:00:00\",\"2020-12-30T14:00:00\",\"2020-12-30T14:00:00\",\"2020-12-30T14:00:00\",\"2020-12-30T14:00:00\",\"2020-12-30T14:00:00\",\"2020-12-30T14:00:00\",\"2020-12-30T14:00:00\",\"2020-12-30T14:00:00\",\"2020-12-31T14:00:00\",\"2020-12-31T14:00:00\",\"2020-12-31T14:00:00\",\"2020-12-31T14:00:00\",\"2020-12-31T14:00:00\",\"2020-12-31T14:00:00\",\"2020-12-31T14:00:00\",\"2020-12-31T14:00:00\",\"2020-12-31T14:00:00\",\"2020-12-31T14:00:00\",\"2020-12-31T14:00:00\",\"2020-12-31T14:00:00\",\"2020-12-31T14:00:00\",\"2020-12-31T14:00:00\",\"2021-01-01T14:00:00\",\"2021-01-01T14:00:00\",\"2021-01-01T14:00:00\",\"2021-01-01T14:00:00\",\"2021-01-01T14:00:00\",\"2021-01-01T14:00:00\",\"2021-01-01T14:00:00\",\"2021-01-01T14:00:00\",\"2021-01-01T14:00:00\",\"2021-01-01T14:00:00\",\"2021-01-01T14:00:00\",\"2021-01-01T14:00:00\",\"2021-01-01T14:00:00\",\"2021-01-01T14:00:00\",\"2021-01-02T14:00:00\",\"2021-01-02T14:00:00\",\"2021-01-02T14:00:00\",\"2021-01-02T14:00:00\",\"2021-01-02T14:00:00\",\"2021-01-02T14:00:00\",\"2021-01-02T14:00:00\",\"2021-01-02T14:00:00\",\"2021-01-02T14:00:00\",\"2021-01-02T14:00:00\",\"2021-01-02T14:00:00\",\"2021-01-02T14:00:00\",\"2021-01-02T14:00:00\",\"2021-01-02T14:00:00\",\"2021-01-03T14:00:00\",\"2021-01-03T14:00:00\",\"2021-01-03T14:00:00\",\"2021-01-03T14:00:00\",\"2021-01-03T14:00:00\",\"2021-01-03T14:00:00\",\"2021-01-03T14:00:00\",\"2021-01-03T14:00:00\",\"2021-01-03T14:00:00\",\"2021-01-03T14:00:00\",\"2021-01-03T14:00:00\",\"2021-01-03T14:00:00\",\"2021-01-03T14:00:00\",\"2021-01-03T14:00:00\",\"2021-01-04T14:00:00\",\"2021-01-04T14:00:00\",\"2021-01-04T14:00:00\",\"2021-01-04T14:00:00\",\"2021-01-04T14:00:00\",\"2021-01-04T14:00:00\",\"2021-01-04T14:00:00\",\"2021-01-04T14:00:00\",\"2021-01-04T14:00:00\",\"2021-01-04T14:00:00\",\"2021-01-04T14:00:00\",\"2021-01-04T14:00:00\",\"2021-01-04T14:00:00\",\"2021-01-04T14:00:00\",\"2021-01-05T14:00:00\",\"2021-01-05T14:00:00\",\"2021-01-05T14:00:00\",\"2021-01-05T14:00:00\",\"2021-01-05T14:00:00\",\"2021-01-05T14:00:00\",\"2021-01-05T14:00:00\",\"2021-01-05T14:00:00\",\"2021-01-05T14:00:00\",\"2021-01-05T14:00:00\",\"2021-01-05T14:00:00\",\"2021-01-05T14:00:00\",\"2021-01-05T14:00:00\",\"2021-01-05T14:00:00\",\"2021-01-06T14:00:00\",\"2021-01-06T14:00:00\",\"2021-01-06T14:00:00\",\"2021-01-06T14:00:00\",\"2021-01-06T14:00:00\",\"2021-01-06T14:00:00\",\"2021-01-06T14:00:00\",\"2021-01-06T14:00:00\",\"2021-01-06T14:00:00\",\"2021-01-06T14:00:00\",\"2021-01-06T14:00:00\",\"2021-01-06T14:00:00\",\"2021-01-06T14:00:00\",\"2021-01-06T14:00:00\",\"2021-01-07T14:00:00\",\"2021-01-07T14:00:00\",\"2021-01-07T14:00:00\",\"2021-01-07T14:00:00\",\"2021-01-07T14:00:00\",\"2021-01-07T14:00:00\",\"2021-01-07T14:00:00\",\"2021-01-07T14:00:00\",\"2021-01-07T14:00:00\",\"2021-01-07T14:00:00\",\"2021-01-07T14:00:00\",\"2021-01-07T14:00:00\",\"2021-01-07T14:00:00\",\"2021-01-07T14:00:00\",\"2021-01-08T14:00:00\",\"2021-01-08T14:00:00\",\"2021-01-08T14:00:00\",\"2021-01-08T14:00:00\",\"2021-01-08T14:00:00\",\"2021-01-08T14:00:00\",\"2021-01-08T14:00:00\",\"2021-01-08T14:00:00\",\"2021-01-08T14:00:00\",\"2021-01-08T14:00:00\",\"2021-01-08T14:00:00\",\"2021-01-08T14:00:00\",\"2021-01-08T14:00:00\",\"2021-01-08T14:00:00\",\"2021-01-09T14:00:00\",\"2021-01-09T14:00:00\",\"2021-01-09T14:00:00\",\"2021-01-09T14:00:00\",\"2021-01-09T14:00:00\",\"2021-01-09T14:00:00\",\"2021-01-09T14:00:00\",\"2021-01-09T14:00:00\",\"2021-01-09T14:00:00\",\"2021-01-09T14:00:00\",\"2021-01-09T14:00:00\",\"2021-01-09T14:00:00\",\"2021-01-09T14:00:00\",\"2021-01-09T14:00:00\",\"2021-01-10T14:00:00\",\"2021-01-10T14:00:00\",\"2021-01-10T14:00:00\",\"2021-01-10T14:00:00\",\"2021-01-10T14:00:00\",\"2021-01-10T14:00:00\",\"2021-01-10T14:00:00\",\"2021-01-10T14:00:00\",\"2021-01-10T14:00:00\",\"2021-01-10T14:00:00\",\"2021-01-10T14:00:00\",\"2021-01-10T14:00:00\",\"2021-01-10T14:00:00\",\"2021-01-10T14:00:00\",\"2021-01-11T14:00:00\",\"2021-01-11T14:00:00\",\"2021-01-11T14:00:00\",\"2021-01-11T14:00:00\",\"2021-01-11T14:00:00\",\"2021-01-11T14:00:00\",\"2021-01-11T14:00:00\",\"2021-01-11T14:00:00\",\"2021-01-11T14:00:00\",\"2021-01-11T14:00:00\",\"2021-01-11T14:00:00\",\"2021-01-11T14:00:00\",\"2021-01-11T14:00:00\",\"2021-01-11T14:00:00\",\"2021-01-12T14:00:00\",\"2021-01-12T14:00:00\",\"2021-01-12T14:00:00\",\"2021-01-12T14:00:00\",\"2021-01-12T14:00:00\",\"2021-01-12T14:00:00\",\"2021-01-12T14:00:00\",\"2021-01-12T14:00:00\",\"2021-01-12T14:00:00\",\"2021-01-12T14:00:00\",\"2021-01-12T14:00:00\",\"2021-01-12T14:00:00\",\"2021-01-12T14:00:00\",\"2021-01-12T14:00:00\",\"2021-01-13T14:00:00\",\"2021-01-13T14:00:00\",\"2021-01-13T14:00:00\",\"2021-01-13T14:00:00\",\"2021-01-13T14:00:00\",\"2021-01-13T14:00:00\",\"2021-01-13T14:00:00\",\"2021-01-13T14:00:00\",\"2021-01-13T14:00:00\",\"2021-01-13T14:00:00\",\"2021-01-13T14:00:00\",\"2021-01-13T14:00:00\",\"2021-01-13T14:00:00\",\"2021-01-13T14:00:00\",\"2021-01-14T14:00:00\",\"2021-01-14T14:00:00\",\"2021-01-14T14:00:00\",\"2021-01-14T14:00:00\",\"2021-01-14T14:00:00\",\"2021-01-14T14:00:00\",\"2021-01-14T14:00:00\",\"2021-01-14T14:00:00\",\"2021-01-14T14:00:00\",\"2021-01-14T14:00:00\",\"2021-01-14T14:00:00\",\"2021-01-14T14:00:00\",\"2021-01-14T14:00:00\",\"2021-01-14T14:00:00\",\"2021-01-15T14:00:00\",\"2021-01-15T14:00:00\",\"2021-01-15T14:00:00\",\"2021-01-15T14:00:00\",\"2021-01-15T14:00:00\",\"2021-01-15T14:00:00\",\"2021-01-15T14:00:00\",\"2021-01-15T14:00:00\",\"2021-01-15T14:00:00\",\"2021-01-15T14:00:00\",\"2021-01-15T14:00:00\",\"2021-01-15T14:00:00\",\"2021-01-15T14:00:00\",\"2021-01-15T14:00:00\",\"2021-01-16T14:00:00\",\"2021-01-16T14:00:00\",\"2021-01-16T14:00:00\",\"2021-01-16T14:00:00\",\"2021-01-16T14:00:00\",\"2021-01-16T14:00:00\",\"2021-01-16T14:00:00\",\"2021-01-16T14:00:00\",\"2021-01-16T14:00:00\",\"2021-01-16T14:00:00\",\"2021-01-16T14:00:00\",\"2021-01-16T14:00:00\",\"2021-01-16T14:00:00\",\"2021-01-16T14:00:00\",\"2021-01-17T14:00:00\",\"2021-01-17T14:00:00\",\"2021-01-17T14:00:00\",\"2021-01-17T14:00:00\",\"2021-01-17T14:00:00\",\"2021-01-17T14:00:00\",\"2021-01-17T14:00:00\",\"2021-01-17T14:00:00\",\"2021-01-17T14:00:00\",\"2021-01-17T14:00:00\",\"2021-01-17T14:00:00\",\"2021-01-17T14:00:00\",\"2021-01-17T14:00:00\",\"2021-01-18T14:00:00\",\"2021-01-18T14:00:00\",\"2021-01-18T14:00:00\",\"2021-01-18T14:00:00\",\"2021-01-18T14:00:00\",\"2021-01-18T14:00:00\",\"2021-01-18T14:00:00\",\"2021-01-18T14:00:00\",\"2021-01-18T14:00:00\",\"2021-01-18T14:00:00\",\"2021-01-18T14:00:00\",\"2021-01-18T14:00:00\",\"2021-01-18T14:00:00\",\"2021-01-19T14:00:00\",\"2021-01-19T14:00:00\",\"2021-01-19T14:00:00\",\"2021-01-19T14:00:00\",\"2021-01-19T14:00:00\",\"2021-01-19T14:00:00\",\"2021-01-19T14:00:00\",\"2021-01-19T14:00:00\",\"2021-01-19T14:00:00\",\"2021-01-19T14:00:00\",\"2021-01-19T14:00:00\",\"2021-01-19T14:00:00\",\"2021-01-19T14:00:00\",\"2021-01-20T14:00:00\",\"2021-01-20T14:00:00\",\"2021-01-20T14:00:00\",\"2021-01-20T14:00:00\",\"2021-01-20T14:00:00\",\"2021-01-20T14:00:00\",\"2021-01-20T14:00:00\",\"2021-01-20T14:00:00\",\"2021-01-20T14:00:00\",\"2021-01-20T14:00:00\",\"2021-01-20T14:00:00\",\"2021-01-20T14:00:00\",\"2021-01-20T14:00:00\",\"2021-01-21T14:00:00\",\"2021-01-21T14:00:00\",\"2021-01-21T14:00:00\",\"2021-01-21T14:00:00\",\"2021-01-21T14:00:00\",\"2021-01-21T14:00:00\",\"2021-01-21T14:00:00\",\"2021-01-21T14:00:00\",\"2021-01-21T14:00:00\",\"2021-01-21T14:00:00\",\"2021-01-21T14:00:00\",\"2021-01-21T14:00:00\",\"2021-01-21T14:00:00\",\"2021-01-22T14:00:00\",\"2021-01-22T14:00:00\",\"2021-01-22T14:00:00\",\"2021-01-22T14:00:00\",\"2021-01-22T14:00:00\",\"2021-01-22T14:00:00\",\"2021-01-22T14:00:00\",\"2021-01-22T14:00:00\",\"2021-01-22T14:00:00\",\"2021-01-22T14:00:00\",\"2021-01-22T14:00:00\",\"2021-01-22T14:00:00\",\"2021-01-22T14:00:00\",\"2021-01-23T14:00:00\",\"2021-01-23T14:00:00\",\"2021-01-23T14:00:00\",\"2021-01-23T14:00:00\",\"2021-01-23T14:00:00\",\"2021-01-23T14:00:00\",\"2021-01-23T14:00:00\",\"2021-01-23T14:00:00\",\"2021-01-23T14:00:00\",\"2021-01-23T14:00:00\",\"2021-01-23T14:00:00\",\"2021-01-23T14:00:00\",\"2021-01-23T14:00:00\",\"2021-01-24T14:00:00\",\"2021-01-24T14:00:00\",\"2021-01-24T14:00:00\",\"2021-01-24T14:00:00\",\"2021-01-24T14:00:00\",\"2021-01-24T14:00:00\",\"2021-01-24T14:00:00\",\"2021-01-24T14:00:00\",\"2021-01-24T14:00:00\",\"2021-01-24T14:00:00\",\"2021-01-24T14:00:00\",\"2021-01-24T14:00:00\",\"2021-01-24T14:00:00\",\"2021-01-25T14:00:00\",\"2021-01-25T14:00:00\",\"2021-01-25T14:00:00\",\"2021-01-25T14:00:00\",\"2021-01-25T14:00:00\",\"2021-01-25T14:00:00\",\"2021-01-25T14:00:00\",\"2021-01-25T14:00:00\",\"2021-01-25T14:00:00\",\"2021-01-25T14:00:00\",\"2021-01-25T14:00:00\",\"2021-01-25T14:00:00\",\"2021-01-25T14:00:00\",\"2021-01-26T14:00:00\",\"2021-01-26T14:00:00\",\"2021-01-26T14:00:00\",\"2021-01-26T14:00:00\",\"2021-01-26T14:00:00\",\"2021-01-26T14:00:00\",\"2021-01-26T14:00:00\",\"2021-01-26T14:00:00\",\"2021-01-26T14:00:00\",\"2021-01-26T14:00:00\",\"2021-01-26T14:00:00\",\"2021-01-26T14:00:00\",\"2021-01-26T14:00:00\",\"2021-01-27T14:00:00\",\"2021-01-27T14:00:00\",\"2021-01-27T14:00:00\",\"2021-01-27T14:00:00\",\"2021-01-27T14:00:00\",\"2021-01-27T14:00:00\",\"2021-01-27T14:00:00\",\"2021-01-27T14:00:00\",\"2021-01-27T14:00:00\",\"2021-01-27T14:00:00\",\"2021-01-27T14:00:00\",\"2021-01-27T14:00:00\",\"2021-01-27T14:00:00\"],\"xaxis\":\"x\",\"y\":[0.7,0.2,0.2,0.2,0.2,0.6,0.2,0.2,0.8,0.2,0.6,0.2,0.2,0.2,9.7,9.0,10.8,10.6,10.6,11.3,10.4,9.9,10.8,9.9,9.6,9.0,9.8,9.8,8.0,7.9,8.5,8.8,8.0,8.2,8.4,7.4,8.4,7.7,7.1,8.2,6.7,7.2,8.7,10.4,11.7,11.8,12.0,11.8,11.5,10.1,11.6,9.4,8.7,7.0,8.1,9.5,9.8,8.0,12.8,12.6,11.3,10.2,11.8,8.5,12.0,10.0,7.6,7.1,2.6,9.5,6.4,7.4,14.4,13.1,12.9,11.6,12.4,7.0,12.9,8.5,6.7,6.5,6.4,8.0,10.7,4.9,15.8,15.1,15.5,11.6,13.6,4.3,12.4,9.5,4.6,3.8,7.0,11.0,12.3,8.1,13.3,10.6,10.2,9.2,8.5,8.2,9.0,10.8,7.3,6.5,6.4,12.7,4.5,8.5,18.1,16.7,16.5,10.8,13.9,8.5,13.7,6.1,9.4,8.7,10.4,4.6,9.2,3.5,17.1,15.7,16.0,16.5,16.0,3.0,16.6,7.0,5.2,5.4,5.7,8.5,13.2,9.2,13.7,15.7,15.3,15.8,14.7,9.0,15.9,12.7,8.5,7.2,7.3,12.5,13.3,12.5,16.3,13.7,14.3,15.1,10.1,14.2,14.4,14.0,13.1,13.6,15.1,14.2,12.2,12.6,16.4,14.0,14.5,12.1,12.8,13.2,12.2,13.0,13.0,13.6,13.4,13.1,5.0,7.5,17.1,14.4,14.9,12.5,12.5,7.5,12.9,7.0,8.7,10.2,8.1,6.7,6.2,9.2,13.9,12.9,14.2,13.8,13.5,9.2,13.9,6.6,9.7,10.9,9.4,5.9,9.4,6.6,10.5,11.5,10.9,13.5,12.9,6.6,11.6,9.6,5.5,5.4,7.0,10.1,10.0,4.6,9.9,10.1,9.8,11.3,12.5,5.2,10.3,11.4,6.0,5.1,3.1,10.4,12.4,5.0,5.1,7.4,7.8,9.0,11.0,6.7,9.8,13.0,7.3,6.0,4.2,11.3,12.6,10.3,6.3,12.1,12.2,12.7,14.0,11.6,12.8,14.5,11.4,10.5,10.2,12.1,13.5,11.5,11.2,13.3,14.3,14.4,13.8,12.7,14.2,13.5,12.4,11.4,11.3,11.4,13.7,11.4,14.8,18.5,18.9,14.2,15.7,12.6,16.9,13.7,12.9,12.9,10.5,12.0,11.9,12.0,16.0,16.6,16.8,14.3,14.6,12.3,15.5,11.9,12.8,13.5,11.5,12.6,12.1,11.5,16.9,16.9,17.2,13.5,14.3,11.9,16.1,11.8,12.2,13.4,9.1,13.1,12.6,10.8,9.0,17.4,17.5,12.1,12.0,10.5,14.1,12.6,11.0,11.4,10.7,14.8,17.0,11.0,15.3,14.6,13.0,13.5,13.6,10.9,14.6,17.7,10.3,9.8,10.8,17.3,16.8,11.8,16.0,17.1,16.0,15.1,15.6,10.5,15.9,17.5,11.0,9.2,12.1,12.2,11.6,11.5,18.8,17.6,17.5,11.3,12.6,11.2,16.7,16.8,9.8,8.1,10.8,12.4,10.1,11.0,17.5,17.8,17.8,10.2,10.1,12.0,15.8,12.6,13.4,12.2,9.7,8.6,9.4,12.4,14.2,13.0,13.3,13.0,13.1,13.8,15.7,5.5,14.7,14.9,12.2,12.1,12.2,10.0,18.1,15.1,14.6,17.5,16.9,11.5,14.9,11.6,8.6,9.2,11.2,14.1,11.3,9.1,9.2,15.0,10.2,16.4,16.5,8.6,15.4,11.7,8.7,8.5,11.3,11.5,9.3,10.0,13.4,14.5,15.3,15.6,14.7,10.3,14.6,10.7,12.0,13.4,15.1,9.0,11.0,12.8,15.1,14.2,14.5,14.4,15.1,14.6,15.1,11.7,14.3,15.5,14.7,9.9,11.6,13.2,17.0,16.5,17.4,14.6,15.0,13.6,16.8,4.3,12.4,9.9,13.7,12.0,9.1,9.9,17.9,17.7,18.1,14.1,12.4,11.1,15.6,11.3,9.8,11.5,11.7,10.7,8.0,11.5,13.9,16.3,14.5,13.0,11.7,11.1,15.5,8.2,12.8,14.2,11.7,8.4,8.0,12.5,16.6,16.5,16.5,13.1,11.4,10.6,13.1,8.0,10.8,11.4,14.9,7.6,16.6,11.2,7.4,8.3,7.4,14.6,13.1,11.7,9.0,15.6,11.5,10.8,11.4,17.3,15.7,8.6,14.1,12.7,13.0,15.5,13.8,12.4,11.0,15.3,9.7,11.1,6.3,15.0,15.4,12.8,17.8,16.4,17.5,14.9,14.5,9.9,16.0,16.0,9.8,10.1,2.3,15.5,13.6,10.2,16.4,15.3,15.8,13.1,13.3,13.6,13.6,11.9,14.3,13.5,5.8,15.2,10.8,9.4,11.5,12.4,11.2,14.0,13.7,15.0,11.9,10.7,14.1,16.1,8.7,11.6,14.5,9.9,12.7,11.7,10.9,17.0,16.2,11.9,15.8,13.7,11.4,11.6,7.2,16.8,15.4,12.5,13.9,14.4,12.5,16.4,15.5,10.0,15.9,15.3,10.0,10.3,9.0,15.7,13.2,11.7,14.0,13.5,13.4,14.0,13.5,10.4,14.2,11.3,9.2,9.8,7.1,15.2,7.8,12.2,10.5,11.7,13.5,6.8,7.5,11.9,13.9,7.6,10.4,10.8,12.2,14.3,12.8,12.2,9.3,8.8,8.9,10.0,8.0,15.3,12.8,14.3,12.0,16.5,9.1,13.7,15.4,10.5,11.2,10.2,11.0,10.6,9.8,12.3,11.2,14.3,9.4,11.2,8.3,16.5,15.9,10.3,7.1,6.0,6.8,10.4,8.6,15.5,7.9,14.0,7.7,12.7,10.3,16.5,13.6,11.4,8.3,9.1,8.5,14.8,11.7,12.8,8.2,13.1,9.3,10.4,11.4,16.6,11.3,11.5,15.5,17.3,16.8,14.0,15.1,12.3,16.0,11.0,10.7,12.4,11.9,16.2,13.6,10.9,16.5,15.6,15.3,10.6,14.1,12.2,13.1,14.4,12.1,12.8,2.7,14.2,16.9,8.8,13.1,14.9,15.4,14.7,13.8,13.1,14.1,12.9,9.9,14.1,5.4,10.6,16.1,10.4,9.1,9.8,12.2,18.4,15.4,12.6,10.8,10.0,9.6,12.4,6.3,12.0,14.9,10.2,12.9,12.6,11.8,16.2,14.2,11.9,14.2,14.7,7.6,13.7,4.1,12.1,14.7,9.8,15.6,16.4,18.2,14.1,13.9,10.7,14.3,13.2,10.1,10.8,4.0,13.3,12.6,11.5,12.5,13.2,15.3,15.2,12.6,13.7,13.3,12.6,11.0,14.6,6.3,12.3,10.7,9.8,14.1,14.9,14.9,14.6,14.5,10.5,14.0,11.8,9.2,9.8,10.6,14.4,12.7,11.7,15.2,15.7,16.6,15.0,12.3,14.3,13.3,14.9,11.0,13.4,8.3,12.9,11.0,10.9,16.9,14.8,14.7,10.2,12.2,12.1,13.1,14.5,12.8,13.7,10.3,13.4,13.8,11.2,12.3,10.3,8.1,9.3,10.6,9.2,14.0,12.2,9.0,9.2,9.4,8.5,11.8,12.3,9.2,8.8,10.9,10.3,12.0,6.5,11.4,11.5,7.2,7.6,9.0,7.4,10.3,9.8,9.3,10.5,14.9,11.9,6.0,13.9,9.4,7.4,9.5,12.8,12.6,10.6,12.5,9.0,16.5,16.7,15.2,15.2,11.0,11.7,16.4,15.4,9.5,13.1,10.5,12.4,13.1,12.7,12.5,13.5,11.9,13.6,14.7,12.4,12.4,10.8,11.5,12.1,12.3,12.0,9.8,9.9,14.4,14.0,10.2,8.1,11.7,14.5,10.2,13.6,11.2,14.7,11.0,10.4,11.4,11.7,9.3,9.1,8.4,11.9,9.3,9.3,10.7,14.5,10.1,9.9,2.0,14.1,11.8,9.7,10.2,11.9,13.3,10.9,12.7,15.4,7.8,13.2,9.0,15.0,4.6,9.5,11.4,12.4,13.5,13.4,14.0,7.0,11.9,14.7,11.4,9.3,10.8,15.3,9.2,12.1,12.0,11.9,15.2,13.7,14.8,6.3,8.4,15.9,14.8,8.8,10.9,15.9,6.3,7.5,11.9,12.4,16.5,15.2,13.7,14.1,4.0,13.0,11.9,6.3,10.0,13.0,6.2,12.4,11.5,8.4,9.4,8.4,14.7,12.0,7.2,14.0,6.8,10.9,5.0,13.4,11.8,11.0,12.1,9.3,12.7,14.0,11.3,10.5,12.3,13.3,9.6,10.7,8.7,7.1,11.5,15.4,14.4,14.1,13.9,13.5,11.9,12.2,11.2,9.3,10.6,9.6,10.3,10.4,15.5,15.1,14.7,11.7,13.2,12.3,13.7,12.0,10.1,14.8,5.6,12.9,12.2,14.5,14.8,14.3,11.2,11.7,14.2,14.7,10.3,11.0,15.1,6.0,11.4,12.6,11.4,11.2,12.7,10.6,6.7,16.7,12.2,15.1,10.3,15.5,9.6,9.0,14.1,13.1,12.4,12.6,11.0,5.5,13.3,9.2,9.8,11.6,14.5,10.1,10.4,8.9,17.3,12.2,13.8,11.9,6.2,5.9,10.7,3.7,7.4,4.3,10.8,13.1,12.6,12.9,14.0,13.0,13.2,11.4,6.2,14.3,7.3,12.7,8.3,12.0,13.0,11.5,17.1,16.7,16.6,10.3,12.3,10.5,17.7,12.9,11.4,9.6,13.5],\"yaxis\":\"y\"},{\"alignmentgroup\":\"True\",\"hovertemplate\":\"color=2<br>Vitesse en 24H=%{y}<extra></extra>\",\"legendgroup\":\"2\",\"marker\":{\"color\":\"#636efa\",\"symbol\":\"circle\"},\"name\":\"2\",\"notched\":true,\"offsetgroup\":\"2\",\"showlegend\":false,\"type\":\"box\",\"xaxis\":\"x2\",\"y\":[0.7,0.2,0.2,0.2,0.2,0.6,0.2,0.2,0.8,0.2,0.6,0.2,0.2,0.2,9.7,9.0,10.8,10.6,10.6,11.3,10.4,9.9,10.8,9.9,9.6,9.0,9.8,9.8,8.0,7.9,8.5,8.8,8.0,8.2,8.4,7.4,8.4,7.7,7.1,8.2,6.7,7.2,8.7,10.4,11.7,11.8,12.0,11.8,11.5,10.1,11.6,9.4,8.7,7.0,8.1,9.5,9.8,8.0,12.8,12.6,11.3,10.2,11.8,8.5,12.0,10.0,7.6,7.1,2.6,9.5,6.4,7.4,14.4,13.1,12.9,11.6,12.4,7.0,12.9,8.5,6.7,6.5,6.4,8.0,10.7,4.9,15.8,15.1,15.5,11.6,13.6,4.3,12.4,9.5,4.6,3.8,7.0,11.0,12.3,8.1,13.3,10.6,10.2,9.2,8.5,8.2,9.0,10.8,7.3,6.5,6.4,12.7,4.5,8.5,18.1,16.7,16.5,10.8,13.9,8.5,13.7,6.1,9.4,8.7,10.4,4.6,9.2,3.5,17.1,15.7,16.0,16.5,16.0,3.0,16.6,7.0,5.2,5.4,5.7,8.5,13.2,9.2,13.7,15.7,15.3,15.8,14.7,9.0,15.9,12.7,8.5,7.2,7.3,12.5,13.3,12.5,16.3,13.7,14.3,15.1,10.1,14.2,14.4,14.0,13.1,13.6,15.1,14.2,12.2,12.6,16.4,14.0,14.5,12.1,12.8,13.2,12.2,13.0,13.0,13.6,13.4,13.1,5.0,7.5,17.1,14.4,14.9,12.5,12.5,7.5,12.9,7.0,8.7,10.2,8.1,6.7,6.2,9.2,13.9,12.9,14.2,13.8,13.5,9.2,13.9,6.6,9.7,10.9,9.4,5.9,9.4,6.6,10.5,11.5,10.9,13.5,12.9,6.6,11.6,9.6,5.5,5.4,7.0,10.1,10.0,4.6,9.9,10.1,9.8,11.3,12.5,5.2,10.3,11.4,6.0,5.1,3.1,10.4,12.4,5.0,5.1,7.4,7.8,9.0,11.0,6.7,9.8,13.0,7.3,6.0,4.2,11.3,12.6,10.3,6.3,12.1,12.2,12.7,14.0,11.6,12.8,14.5,11.4,10.5,10.2,12.1,13.5,11.5,11.2,13.3,14.3,14.4,13.8,12.7,14.2,13.5,12.4,11.4,11.3,11.4,13.7,11.4,14.8,18.5,18.9,14.2,15.7,12.6,16.9,13.7,12.9,12.9,10.5,12.0,11.9,12.0,16.0,16.6,16.8,14.3,14.6,12.3,15.5,11.9,12.8,13.5,11.5,12.6,12.1,11.5,16.9,16.9,17.2,13.5,14.3,11.9,16.1,11.8,12.2,13.4,9.1,13.1,12.6,10.8,9.0,17.4,17.5,12.1,12.0,10.5,14.1,12.6,11.0,11.4,10.7,14.8,17.0,11.0,15.3,14.6,13.0,13.5,13.6,10.9,14.6,17.7,10.3,9.8,10.8,17.3,16.8,11.8,16.0,17.1,16.0,15.1,15.6,10.5,15.9,17.5,11.0,9.2,12.1,12.2,11.6,11.5,18.8,17.6,17.5,11.3,12.6,11.2,16.7,16.8,9.8,8.1,10.8,12.4,10.1,11.0,17.5,17.8,17.8,10.2,10.1,12.0,15.8,12.6,13.4,12.2,9.7,8.6,9.4,12.4,14.2,13.0,13.3,13.0,13.1,13.8,15.7,5.5,14.7,14.9,12.2,12.1,12.2,10.0,18.1,15.1,14.6,17.5,16.9,11.5,14.9,11.6,8.6,9.2,11.2,14.1,11.3,9.1,9.2,15.0,10.2,16.4,16.5,8.6,15.4,11.7,8.7,8.5,11.3,11.5,9.3,10.0,13.4,14.5,15.3,15.6,14.7,10.3,14.6,10.7,12.0,13.4,15.1,9.0,11.0,12.8,15.1,14.2,14.5,14.4,15.1,14.6,15.1,11.7,14.3,15.5,14.7,9.9,11.6,13.2,17.0,16.5,17.4,14.6,15.0,13.6,16.8,4.3,12.4,9.9,13.7,12.0,9.1,9.9,17.9,17.7,18.1,14.1,12.4,11.1,15.6,11.3,9.8,11.5,11.7,10.7,8.0,11.5,13.9,16.3,14.5,13.0,11.7,11.1,15.5,8.2,12.8,14.2,11.7,8.4,8.0,12.5,16.6,16.5,16.5,13.1,11.4,10.6,13.1,8.0,10.8,11.4,14.9,7.6,16.6,11.2,7.4,8.3,7.4,14.6,13.1,11.7,9.0,15.6,11.5,10.8,11.4,17.3,15.7,8.6,14.1,12.7,13.0,15.5,13.8,12.4,11.0,15.3,9.7,11.1,6.3,15.0,15.4,12.8,17.8,16.4,17.5,14.9,14.5,9.9,16.0,16.0,9.8,10.1,2.3,15.5,13.6,10.2,16.4,15.3,15.8,13.1,13.3,13.6,13.6,11.9,14.3,13.5,5.8,15.2,10.8,9.4,11.5,12.4,11.2,14.0,13.7,15.0,11.9,10.7,14.1,16.1,8.7,11.6,14.5,9.9,12.7,11.7,10.9,17.0,16.2,11.9,15.8,13.7,11.4,11.6,7.2,16.8,15.4,12.5,13.9,14.4,12.5,16.4,15.5,10.0,15.9,15.3,10.0,10.3,9.0,15.7,13.2,11.7,14.0,13.5,13.4,14.0,13.5,10.4,14.2,11.3,9.2,9.8,7.1,15.2,7.8,12.2,10.5,11.7,13.5,6.8,7.5,11.9,13.9,7.6,10.4,10.8,12.2,14.3,12.8,12.2,9.3,8.8,8.9,10.0,8.0,15.3,12.8,14.3,12.0,16.5,9.1,13.7,15.4,10.5,11.2,10.2,11.0,10.6,9.8,12.3,11.2,14.3,9.4,11.2,8.3,16.5,15.9,10.3,7.1,6.0,6.8,10.4,8.6,15.5,7.9,14.0,7.7,12.7,10.3,16.5,13.6,11.4,8.3,9.1,8.5,14.8,11.7,12.8,8.2,13.1,9.3,10.4,11.4,16.6,11.3,11.5,15.5,17.3,16.8,14.0,15.1,12.3,16.0,11.0,10.7,12.4,11.9,16.2,13.6,10.9,16.5,15.6,15.3,10.6,14.1,12.2,13.1,14.4,12.1,12.8,2.7,14.2,16.9,8.8,13.1,14.9,15.4,14.7,13.8,13.1,14.1,12.9,9.9,14.1,5.4,10.6,16.1,10.4,9.1,9.8,12.2,18.4,15.4,12.6,10.8,10.0,9.6,12.4,6.3,12.0,14.9,10.2,12.9,12.6,11.8,16.2,14.2,11.9,14.2,14.7,7.6,13.7,4.1,12.1,14.7,9.8,15.6,16.4,18.2,14.1,13.9,10.7,14.3,13.2,10.1,10.8,4.0,13.3,12.6,11.5,12.5,13.2,15.3,15.2,12.6,13.7,13.3,12.6,11.0,14.6,6.3,12.3,10.7,9.8,14.1,14.9,14.9,14.6,14.5,10.5,14.0,11.8,9.2,9.8,10.6,14.4,12.7,11.7,15.2,15.7,16.6,15.0,12.3,14.3,13.3,14.9,11.0,13.4,8.3,12.9,11.0,10.9,16.9,14.8,14.7,10.2,12.2,12.1,13.1,14.5,12.8,13.7,10.3,13.4,13.8,11.2,12.3,10.3,8.1,9.3,10.6,9.2,14.0,12.2,9.0,9.2,9.4,8.5,11.8,12.3,9.2,8.8,10.9,10.3,12.0,6.5,11.4,11.5,7.2,7.6,9.0,7.4,10.3,9.8,9.3,10.5,14.9,11.9,6.0,13.9,9.4,7.4,9.5,12.8,12.6,10.6,12.5,9.0,16.5,16.7,15.2,15.2,11.0,11.7,16.4,15.4,9.5,13.1,10.5,12.4,13.1,12.7,12.5,13.5,11.9,13.6,14.7,12.4,12.4,10.8,11.5,12.1,12.3,12.0,9.8,9.9,14.4,14.0,10.2,8.1,11.7,14.5,10.2,13.6,11.2,14.7,11.0,10.4,11.4,11.7,9.3,9.1,8.4,11.9,9.3,9.3,10.7,14.5,10.1,9.9,2.0,14.1,11.8,9.7,10.2,11.9,13.3,10.9,12.7,15.4,7.8,13.2,9.0,15.0,4.6,9.5,11.4,12.4,13.5,13.4,14.0,7.0,11.9,14.7,11.4,9.3,10.8,15.3,9.2,12.1,12.0,11.9,15.2,13.7,14.8,6.3,8.4,15.9,14.8,8.8,10.9,15.9,6.3,7.5,11.9,12.4,16.5,15.2,13.7,14.1,4.0,13.0,11.9,6.3,10.0,13.0,6.2,12.4,11.5,8.4,9.4,8.4,14.7,12.0,7.2,14.0,6.8,10.9,5.0,13.4,11.8,11.0,12.1,9.3,12.7,14.0,11.3,10.5,12.3,13.3,9.6,10.7,8.7,7.1,11.5,15.4,14.4,14.1,13.9,13.5,11.9,12.2,11.2,9.3,10.6,9.6,10.3,10.4,15.5,15.1,14.7,11.7,13.2,12.3,13.7,12.0,10.1,14.8,5.6,12.9,12.2,14.5,14.8,14.3,11.2,11.7,14.2,14.7,10.3,11.0,15.1,6.0,11.4,12.6,11.4,11.2,12.7,10.6,6.7,16.7,12.2,15.1,10.3,15.5,9.6,9.0,14.1,13.1,12.4,12.6,11.0,5.5,13.3,9.2,9.8,11.6,14.5,10.1,10.4,8.9,17.3,12.2,13.8,11.9,6.2,5.9,10.7,3.7,7.4,4.3,10.8,13.1,12.6,12.9,14.0,13.0,13.2,11.4,6.2,14.3,7.3,12.7,8.3,12.0,13.0,11.5,17.1,16.7,16.6,10.3,12.3,10.5,17.7,12.9,11.4,9.6,13.5],\"yaxis\":\"y2\"},{\"hovertemplate\":\"color=foils<br>Date=%{x}<br>Vitesse en 24H=%{y}<extra></extra>\",\"legendgroup\":\"foils\",\"marker\":{\"color\":\"#EF553B\",\"symbol\":\"circle\"},\"mode\":\"markers\",\"name\":\"foils\",\"showlegend\":true,\"type\":\"scattergl\",\"x\":[\"2020-11-08T14:00:00\",\"2020-11-08T14:00:00\",\"2020-11-08T14:00:00\",\"2020-11-08T14:00:00\",\"2020-11-08T14:00:00\",\"2020-11-08T14:00:00\",\"2020-11-08T14:00:00\",\"2020-11-08T14:00:00\",\"2020-11-08T14:00:00\",\"2020-11-08T14:00:00\",\"2020-11-08T14:00:00\",\"2020-11-08T14:00:00\",\"2020-11-08T14:00:00\",\"2020-11-08T14:00:00\",\"2020-11-08T14:00:00\",\"2020-11-08T14:00:00\",\"2020-11-08T14:00:00\",\"2020-11-09T14:00:00\",\"2020-11-09T14:00:00\",\"2020-11-09T14:00:00\",\"2020-11-09T14:00:00\",\"2020-11-09T14:00:00\",\"2020-11-09T14:00:00\",\"2020-11-09T14:00:00\",\"2020-11-09T14:00:00\",\"2020-11-09T14:00:00\",\"2020-11-09T14:00:00\",\"2020-11-09T14:00:00\",\"2020-11-09T14:00:00\",\"2020-11-09T14:00:00\",\"2020-11-09T14:00:00\",\"2020-11-09T14:00:00\",\"2020-11-09T14:00:00\",\"2020-11-09T14:00:00\",\"2020-11-09T14:00:00\",\"2020-11-09T14:00:00\",\"2020-11-10T14:00:00\",\"2020-11-10T14:00:00\",\"2020-11-10T14:00:00\",\"2020-11-10T14:00:00\",\"2020-11-10T14:00:00\",\"2020-11-10T14:00:00\",\"2020-11-10T14:00:00\",\"2020-11-10T14:00:00\",\"2020-11-10T14:00:00\",\"2020-11-10T14:00:00\",\"2020-11-10T14:00:00\",\"2020-11-10T14:00:00\",\"2020-11-10T14:00:00\",\"2020-11-10T14:00:00\",\"2020-11-10T14:00:00\",\"2020-11-10T14:00:00\",\"2020-11-10T14:00:00\",\"2020-11-10T14:00:00\",\"2020-11-10T14:00:00\",\"2020-11-11T14:00:00\",\"2020-11-11T14:00:00\",\"2020-11-11T14:00:00\",\"2020-11-11T14:00:00\",\"2020-11-11T14:00:00\",\"2020-11-11T14:00:00\",\"2020-11-11T14:00:00\",\"2020-11-11T14:00:00\",\"2020-11-11T14:00:00\",\"2020-11-11T14:00:00\",\"2020-11-11T14:00:00\",\"2020-11-11T14:00:00\",\"2020-11-11T14:00:00\",\"2020-11-11T14:00:00\",\"2020-11-11T14:00:00\",\"2020-11-11T14:00:00\",\"2020-11-11T14:00:00\",\"2020-11-11T14:00:00\",\"2020-11-11T14:00:00\",\"2020-11-12T14:00:00\",\"2020-11-12T14:00:00\",\"2020-11-12T14:00:00\",\"2020-11-12T14:00:00\",\"2020-11-12T14:00:00\",\"2020-11-12T14:00:00\",\"2020-11-12T14:00:00\",\"2020-11-12T14:00:00\",\"2020-11-12T14:00:00\",\"2020-11-12T14:00:00\",\"2020-11-12T14:00:00\",\"2020-11-12T14:00:00\",\"2020-11-12T14:00:00\",\"2020-11-12T14:00:00\",\"2020-11-12T14:00:00\",\"2020-11-12T14:00:00\",\"2020-11-12T14:00:00\",\"2020-11-12T14:00:00\",\"2020-11-12T14:00:00\",\"2020-11-13T14:00:00\",\"2020-11-13T14:00:00\",\"2020-11-13T14:00:00\",\"2020-11-13T14:00:00\",\"2020-11-13T14:00:00\",\"2020-11-13T14:00:00\",\"2020-11-13T14:00:00\",\"2020-11-13T14:00:00\",\"2020-11-13T14:00:00\",\"2020-11-13T14:00:00\",\"2020-11-13T14:00:00\",\"2020-11-13T14:00:00\",\"2020-11-13T14:00:00\",\"2020-11-13T14:00:00\",\"2020-11-13T14:00:00\",\"2020-11-13T14:00:00\",\"2020-11-13T14:00:00\",\"2020-11-13T14:00:00\",\"2020-11-13T14:00:00\",\"2020-11-14T14:00:00\",\"2020-11-14T14:00:00\",\"2020-11-14T14:00:00\",\"2020-11-14T14:00:00\",\"2020-11-14T14:00:00\",\"2020-11-14T14:00:00\",\"2020-11-14T14:00:00\",\"2020-11-14T14:00:00\",\"2020-11-14T14:00:00\",\"2020-11-14T14:00:00\",\"2020-11-14T14:00:00\",\"2020-11-14T14:00:00\",\"2020-11-14T14:00:00\",\"2020-11-14T14:00:00\",\"2020-11-14T14:00:00\",\"2020-11-14T14:00:00\",\"2020-11-14T14:00:00\",\"2020-11-14T14:00:00\",\"2020-11-14T14:00:00\",\"2020-11-15T14:00:00\",\"2020-11-15T14:00:00\",\"2020-11-15T14:00:00\",\"2020-11-15T14:00:00\",\"2020-11-15T14:00:00\",\"2020-11-15T14:00:00\",\"2020-11-15T14:00:00\",\"2020-11-15T14:00:00\",\"2020-11-15T14:00:00\",\"2020-11-15T14:00:00\",\"2020-11-15T14:00:00\",\"2020-11-15T14:00:00\",\"2020-11-15T14:00:00\",\"2020-11-15T14:00:00\",\"2020-11-15T14:00:00\",\"2020-11-15T14:00:00\",\"2020-11-15T14:00:00\",\"2020-11-15T14:00:00\",\"2020-11-15T14:00:00\",\"2020-11-16T14:00:00\",\"2020-11-16T14:00:00\",\"2020-11-16T14:00:00\",\"2020-11-16T14:00:00\",\"2020-11-16T14:00:00\",\"2020-11-16T14:00:00\",\"2020-11-16T14:00:00\",\"2020-11-16T14:00:00\",\"2020-11-16T14:00:00\",\"2020-11-16T14:00:00\",\"2020-11-16T14:00:00\",\"2020-11-16T14:00:00\",\"2020-11-16T14:00:00\",\"2020-11-16T14:00:00\",\"2020-11-16T14:00:00\",\"2020-11-16T14:00:00\",\"2020-11-16T14:00:00\",\"2020-11-16T14:00:00\",\"2020-11-16T14:00:00\",\"2020-11-17T14:00:00\",\"2020-11-17T14:00:00\",\"2020-11-17T14:00:00\",\"2020-11-17T14:00:00\",\"2020-11-17T14:00:00\",\"2020-11-17T14:00:00\",\"2020-11-17T14:00:00\",\"2020-11-17T14:00:00\",\"2020-11-17T14:00:00\",\"2020-11-17T14:00:00\",\"2020-11-17T14:00:00\",\"2020-11-17T14:00:00\",\"2020-11-17T14:00:00\",\"2020-11-17T14:00:00\",\"2020-11-17T14:00:00\",\"2020-11-17T14:00:00\",\"2020-11-17T14:00:00\",\"2020-11-17T14:00:00\",\"2020-11-18T14:00:00\",\"2020-11-18T14:00:00\",\"2020-11-18T14:00:00\",\"2020-11-18T14:00:00\",\"2020-11-18T14:00:00\",\"2020-11-18T14:00:00\",\"2020-11-18T14:00:00\",\"2020-11-18T14:00:00\",\"2020-11-18T14:00:00\",\"2020-11-18T14:00:00\",\"2020-11-18T14:00:00\",\"2020-11-18T14:00:00\",\"2020-11-18T14:00:00\",\"2020-11-18T14:00:00\",\"2020-11-18T14:00:00\",\"2020-11-18T14:00:00\",\"2020-11-18T14:00:00\",\"2020-11-18T14:00:00\",\"2020-11-19T14:00:00\",\"2020-11-19T14:00:00\",\"2020-11-19T14:00:00\",\"2020-11-19T14:00:00\",\"2020-11-19T14:00:00\",\"2020-11-19T14:00:00\",\"2020-11-19T14:00:00\",\"2020-11-19T14:00:00\",\"2020-11-19T14:00:00\",\"2020-11-19T14:00:00\",\"2020-11-19T14:00:00\",\"2020-11-19T14:00:00\",\"2020-11-19T14:00:00\",\"2020-11-19T14:00:00\",\"2020-11-19T14:00:00\",\"2020-11-19T14:00:00\",\"2020-11-19T14:00:00\",\"2020-11-19T14:00:00\",\"2020-11-20T14:00:00\",\"2020-11-20T14:00:00\",\"2020-11-20T14:00:00\",\"2020-11-20T14:00:00\",\"2020-11-20T14:00:00\",\"2020-11-20T14:00:00\",\"2020-11-20T14:00:00\",\"2020-11-20T14:00:00\",\"2020-11-20T14:00:00\",\"2020-11-20T14:00:00\",\"2020-11-20T14:00:00\",\"2020-11-20T14:00:00\",\"2020-11-20T14:00:00\",\"2020-11-20T14:00:00\",\"2020-11-20T14:00:00\",\"2020-11-20T14:00:00\",\"2020-11-20T14:00:00\",\"2020-11-20T14:00:00\",\"2020-11-21T14:00:00\",\"2020-11-21T14:00:00\",\"2020-11-21T14:00:00\",\"2020-11-21T14:00:00\",\"2020-11-21T14:00:00\",\"2020-11-21T14:00:00\",\"2020-11-21T14:00:00\",\"2020-11-21T14:00:00\",\"2020-11-21T14:00:00\",\"2020-11-21T14:00:00\",\"2020-11-21T14:00:00\",\"2020-11-21T14:00:00\",\"2020-11-21T14:00:00\",\"2020-11-21T14:00:00\",\"2020-11-21T14:00:00\",\"2020-11-21T14:00:00\",\"2020-11-21T14:00:00\",\"2020-11-21T14:00:00\",\"2020-11-22T14:00:00\",\"2020-11-22T14:00:00\",\"2020-11-22T14:00:00\",\"2020-11-22T14:00:00\",\"2020-11-22T14:00:00\",\"2020-11-22T14:00:00\",\"2020-11-22T14:00:00\",\"2020-11-22T14:00:00\",\"2020-11-22T14:00:00\",\"2020-11-22T14:00:00\",\"2020-11-22T14:00:00\",\"2020-11-22T14:00:00\",\"2020-11-22T14:00:00\",\"2020-11-22T14:00:00\",\"2020-11-22T14:00:00\",\"2020-11-22T14:00:00\",\"2020-11-22T14:00:00\",\"2020-11-22T14:00:00\",\"2020-11-23T14:00:00\",\"2020-11-23T14:00:00\",\"2020-11-23T14:00:00\",\"2020-11-23T14:00:00\",\"2020-11-23T14:00:00\",\"2020-11-23T14:00:00\",\"2020-11-23T14:00:00\",\"2020-11-23T14:00:00\",\"2020-11-23T14:00:00\",\"2020-11-23T14:00:00\",\"2020-11-23T14:00:00\",\"2020-11-23T14:00:00\",\"2020-11-23T14:00:00\",\"2020-11-23T14:00:00\",\"2020-11-23T14:00:00\",\"2020-11-23T14:00:00\",\"2020-11-23T14:00:00\",\"2020-11-23T14:00:00\",\"2020-11-24T14:00:00\",\"2020-11-24T14:00:00\",\"2020-11-24T14:00:00\",\"2020-11-24T14:00:00\",\"2020-11-24T14:00:00\",\"2020-11-24T14:00:00\",\"2020-11-24T14:00:00\",\"2020-11-24T14:00:00\",\"2020-11-24T14:00:00\",\"2020-11-24T14:00:00\",\"2020-11-24T14:00:00\",\"2020-11-24T14:00:00\",\"2020-11-24T14:00:00\",\"2020-11-24T14:00:00\",\"2020-11-24T14:00:00\",\"2020-11-24T14:00:00\",\"2020-11-24T14:00:00\",\"2020-11-24T14:00:00\",\"2020-11-25T14:00:00\",\"2020-11-25T14:00:00\",\"2020-11-25T14:00:00\",\"2020-11-25T14:00:00\",\"2020-11-25T14:00:00\",\"2020-11-25T14:00:00\",\"2020-11-25T14:00:00\",\"2020-11-25T14:00:00\",\"2020-11-25T14:00:00\",\"2020-11-25T14:00:00\",\"2020-11-25T14:00:00\",\"2020-11-25T14:00:00\",\"2020-11-25T14:00:00\",\"2020-11-25T14:00:00\",\"2020-11-25T14:00:00\",\"2020-11-25T14:00:00\",\"2020-11-25T14:00:00\",\"2020-11-25T14:00:00\",\"2020-11-26T14:00:00\",\"2020-11-26T14:00:00\",\"2020-11-26T14:00:00\",\"2020-11-26T14:00:00\",\"2020-11-26T14:00:00\",\"2020-11-26T14:00:00\",\"2020-11-26T14:00:00\",\"2020-11-26T14:00:00\",\"2020-11-26T14:00:00\",\"2020-11-26T14:00:00\",\"2020-11-26T14:00:00\",\"2020-11-26T14:00:00\",\"2020-11-26T14:00:00\",\"2020-11-26T14:00:00\",\"2020-11-26T14:00:00\",\"2020-11-26T14:00:00\",\"2020-11-26T14:00:00\",\"2020-11-26T14:00:00\",\"2020-11-27T14:00:00\",\"2020-11-27T14:00:00\",\"2020-11-27T14:00:00\",\"2020-11-27T14:00:00\",\"2020-11-27T14:00:00\",\"2020-11-27T14:00:00\",\"2020-11-27T14:00:00\",\"2020-11-27T14:00:00\",\"2020-11-27T14:00:00\",\"2020-11-27T14:00:00\",\"2020-11-27T14:00:00\",\"2020-11-27T14:00:00\",\"2020-11-27T14:00:00\",\"2020-11-27T14:00:00\",\"2020-11-27T14:00:00\",\"2020-11-27T14:00:00\",\"2020-11-27T14:00:00\",\"2020-11-27T14:00:00\",\"2020-11-28T14:00:00\",\"2020-11-28T14:00:00\",\"2020-11-28T14:00:00\",\"2020-11-28T14:00:00\",\"2020-11-28T14:00:00\",\"2020-11-28T14:00:00\",\"2020-11-28T14:00:00\",\"2020-11-28T14:00:00\",\"2020-11-28T14:00:00\",\"2020-11-28T14:00:00\",\"2020-11-28T14:00:00\",\"2020-11-28T14:00:00\",\"2020-11-28T14:00:00\",\"2020-11-28T14:00:00\",\"2020-11-28T14:00:00\",\"2020-11-28T14:00:00\",\"2020-11-28T14:00:00\",\"2020-11-28T14:00:00\",\"2020-11-29T14:00:00\",\"2020-11-29T14:00:00\",\"2020-11-29T14:00:00\",\"2020-11-29T14:00:00\",\"2020-11-29T14:00:00\",\"2020-11-29T14:00:00\",\"2020-11-29T14:00:00\",\"2020-11-29T14:00:00\",\"2020-11-29T14:00:00\",\"2020-11-29T14:00:00\",\"2020-11-29T14:00:00\",\"2020-11-29T14:00:00\",\"2020-11-29T14:00:00\",\"2020-11-29T14:00:00\",\"2020-11-29T14:00:00\",\"2020-11-29T14:00:00\",\"2020-11-29T14:00:00\",\"2020-11-29T14:00:00\",\"2020-11-30T14:00:00\",\"2020-11-30T14:00:00\",\"2020-11-30T14:00:00\",\"2020-11-30T14:00:00\",\"2020-11-30T14:00:00\",\"2020-11-30T14:00:00\",\"2020-11-30T14:00:00\",\"2020-11-30T14:00:00\",\"2020-11-30T14:00:00\",\"2020-11-30T14:00:00\",\"2020-11-30T14:00:00\",\"2020-11-30T14:00:00\",\"2020-11-30T14:00:00\",\"2020-11-30T14:00:00\",\"2020-11-30T14:00:00\",\"2020-11-30T14:00:00\",\"2020-11-30T14:00:00\",\"2020-11-30T14:00:00\",\"2020-12-01T14:00:00\",\"2020-12-01T14:00:00\",\"2020-12-01T14:00:00\",\"2020-12-01T14:00:00\",\"2020-12-01T14:00:00\",\"2020-12-01T14:00:00\",\"2020-12-01T14:00:00\",\"2020-12-01T14:00:00\",\"2020-12-01T14:00:00\",\"2020-12-01T14:00:00\",\"2020-12-01T14:00:00\",\"2020-12-01T14:00:00\",\"2020-12-01T14:00:00\",\"2020-12-01T14:00:00\",\"2020-12-01T14:00:00\",\"2020-12-01T14:00:00\",\"2020-12-01T14:00:00\",\"2020-12-02T14:00:00\",\"2020-12-02T14:00:00\",\"2020-12-02T14:00:00\",\"2020-12-02T14:00:00\",\"2020-12-02T14:00:00\",\"2020-12-02T14:00:00\",\"2020-12-02T14:00:00\",\"2020-12-02T14:00:00\",\"2020-12-02T14:00:00\",\"2020-12-02T14:00:00\",\"2020-12-02T14:00:00\",\"2020-12-02T14:00:00\",\"2020-12-02T14:00:00\",\"2020-12-02T14:00:00\",\"2020-12-02T14:00:00\",\"2020-12-02T14:00:00\",\"2020-12-02T14:00:00\",\"2020-12-03T14:00:00\",\"2020-12-03T14:00:00\",\"2020-12-03T14:00:00\",\"2020-12-03T14:00:00\",\"2020-12-03T14:00:00\",\"2020-12-03T14:00:00\",\"2020-12-03T14:00:00\",\"2020-12-03T14:00:00\",\"2020-12-03T14:00:00\",\"2020-12-03T14:00:00\",\"2020-12-03T14:00:00\",\"2020-12-03T14:00:00\",\"2020-12-03T14:00:00\",\"2020-12-03T14:00:00\",\"2020-12-03T14:00:00\",\"2020-12-03T14:00:00\",\"2020-12-03T14:00:00\",\"2020-12-04T14:00:00\",\"2020-12-04T14:00:00\",\"2020-12-04T14:00:00\",\"2020-12-04T14:00:00\",\"2020-12-04T14:00:00\",\"2020-12-04T14:00:00\",\"2020-12-04T14:00:00\",\"2020-12-04T14:00:00\",\"2020-12-04T14:00:00\",\"2020-12-04T14:00:00\",\"2020-12-04T14:00:00\",\"2020-12-04T14:00:00\",\"2020-12-04T14:00:00\",\"2020-12-04T14:00:00\",\"2020-12-04T14:00:00\",\"2020-12-04T14:00:00\",\"2020-12-05T14:00:00\",\"2020-12-05T14:00:00\",\"2020-12-05T14:00:00\",\"2020-12-05T14:00:00\",\"2020-12-05T14:00:00\",\"2020-12-05T14:00:00\",\"2020-12-05T14:00:00\",\"2020-12-05T14:00:00\",\"2020-12-05T14:00:00\",\"2020-12-05T14:00:00\",\"2020-12-05T14:00:00\",\"2020-12-05T14:00:00\",\"2020-12-05T14:00:00\",\"2020-12-05T14:00:00\",\"2020-12-06T14:00:00\",\"2020-12-06T14:00:00\",\"2020-12-06T14:00:00\",\"2020-12-06T14:00:00\",\"2020-12-06T14:00:00\",\"2020-12-06T14:00:00\",\"2020-12-06T14:00:00\",\"2020-12-06T14:00:00\",\"2020-12-06T14:00:00\",\"2020-12-06T14:00:00\",\"2020-12-06T14:00:00\",\"2020-12-06T14:00:00\",\"2020-12-06T14:00:00\",\"2020-12-06T14:00:00\",\"2020-12-07T14:00:00\",\"2020-12-07T14:00:00\",\"2020-12-07T14:00:00\",\"2020-12-07T14:00:00\",\"2020-12-07T14:00:00\",\"2020-12-07T14:00:00\",\"2020-12-07T14:00:00\",\"2020-12-07T14:00:00\",\"2020-12-07T14:00:00\",\"2020-12-07T14:00:00\",\"2020-12-07T14:00:00\",\"2020-12-07T14:00:00\",\"2020-12-07T14:00:00\",\"2020-12-07T14:00:00\",\"2020-12-08T14:00:00\",\"2020-12-08T14:00:00\",\"2020-12-08T14:00:00\",\"2020-12-08T14:00:00\",\"2020-12-08T14:00:00\",\"2020-12-08T14:00:00\",\"2020-12-08T14:00:00\",\"2020-12-08T14:00:00\",\"2020-12-08T14:00:00\",\"2020-12-08T14:00:00\",\"2020-12-08T14:00:00\",\"2020-12-08T14:00:00\",\"2020-12-08T14:00:00\",\"2020-12-08T14:00:00\",\"2020-12-09T14:00:00\",\"2020-12-09T14:00:00\",\"2020-12-09T14:00:00\",\"2020-12-09T14:00:00\",\"2020-12-09T14:00:00\",\"2020-12-09T14:00:00\",\"2020-12-09T14:00:00\",\"2020-12-09T14:00:00\",\"2020-12-09T14:00:00\",\"2020-12-09T14:00:00\",\"2020-12-09T14:00:00\",\"2020-12-09T14:00:00\",\"2020-12-09T14:00:00\",\"2020-12-09T14:00:00\",\"2020-12-10T14:00:00\",\"2020-12-10T14:00:00\",\"2020-12-10T14:00:00\",\"2020-12-10T14:00:00\",\"2020-12-10T14:00:00\",\"2020-12-10T14:00:00\",\"2020-12-10T14:00:00\",\"2020-12-10T14:00:00\",\"2020-12-10T14:00:00\",\"2020-12-10T14:00:00\",\"2020-12-10T14:00:00\",\"2020-12-10T14:00:00\",\"2020-12-10T14:00:00\",\"2020-12-10T14:00:00\",\"2020-12-11T14:00:00\",\"2020-12-11T14:00:00\",\"2020-12-11T14:00:00\",\"2020-12-11T14:00:00\",\"2020-12-11T14:00:00\",\"2020-12-11T14:00:00\",\"2020-12-11T14:00:00\",\"2020-12-11T14:00:00\",\"2020-12-11T14:00:00\",\"2020-12-11T14:00:00\",\"2020-12-11T14:00:00\",\"2020-12-11T14:00:00\",\"2020-12-11T14:00:00\",\"2020-12-11T14:00:00\",\"2020-12-12T14:00:00\",\"2020-12-12T14:00:00\",\"2020-12-12T14:00:00\",\"2020-12-12T14:00:00\",\"2020-12-12T14:00:00\",\"2020-12-12T14:00:00\",\"2020-12-12T14:00:00\",\"2020-12-12T14:00:00\",\"2020-12-12T14:00:00\",\"2020-12-12T14:00:00\",\"2020-12-12T14:00:00\",\"2020-12-12T14:00:00\",\"2020-12-12T14:00:00\",\"2020-12-13T14:00:00\",\"2020-12-13T14:00:00\",\"2020-12-13T14:00:00\",\"2020-12-13T14:00:00\",\"2020-12-13T14:00:00\",\"2020-12-13T14:00:00\",\"2020-12-13T14:00:00\",\"2020-12-13T14:00:00\",\"2020-12-13T14:00:00\",\"2020-12-13T14:00:00\",\"2020-12-13T14:00:00\",\"2020-12-13T14:00:00\",\"2020-12-13T14:00:00\",\"2020-12-14T14:00:00\",\"2020-12-14T14:00:00\",\"2020-12-14T14:00:00\",\"2020-12-14T14:00:00\",\"2020-12-14T14:00:00\",\"2020-12-14T14:00:00\",\"2020-12-14T14:00:00\",\"2020-12-14T14:00:00\",\"2020-12-14T14:00:00\",\"2020-12-14T14:00:00\",\"2020-12-14T14:00:00\",\"2020-12-14T14:00:00\",\"2020-12-14T14:00:00\",\"2020-12-15T14:00:00\",\"2020-12-15T14:00:00\",\"2020-12-15T14:00:00\",\"2020-12-15T14:00:00\",\"2020-12-15T14:00:00\",\"2020-12-15T14:00:00\",\"2020-12-15T14:00:00\",\"2020-12-15T14:00:00\",\"2020-12-15T14:00:00\",\"2020-12-15T14:00:00\",\"2020-12-15T14:00:00\",\"2020-12-15T14:00:00\",\"2020-12-15T14:00:00\",\"2020-12-16T14:00:00\",\"2020-12-16T14:00:00\",\"2020-12-16T14:00:00\",\"2020-12-16T14:00:00\",\"2020-12-16T14:00:00\",\"2020-12-16T14:00:00\",\"2020-12-16T14:00:00\",\"2020-12-16T14:00:00\",\"2020-12-16T14:00:00\",\"2020-12-16T14:00:00\",\"2020-12-16T14:00:00\",\"2020-12-16T14:00:00\",\"2020-12-16T14:00:00\",\"2020-12-17T14:00:00\",\"2020-12-17T14:00:00\",\"2020-12-17T14:00:00\",\"2020-12-17T14:00:00\",\"2020-12-17T14:00:00\",\"2020-12-17T14:00:00\",\"2020-12-17T14:00:00\",\"2020-12-17T14:00:00\",\"2020-12-17T14:00:00\",\"2020-12-17T14:00:00\",\"2020-12-17T14:00:00\",\"2020-12-17T14:00:00\",\"2020-12-17T14:00:00\",\"2020-12-18T14:00:00\",\"2020-12-18T14:00:00\",\"2020-12-18T14:00:00\",\"2020-12-18T14:00:00\",\"2020-12-18T14:00:00\",\"2020-12-18T14:00:00\",\"2020-12-18T14:00:00\",\"2020-12-18T14:00:00\",\"2020-12-18T14:00:00\",\"2020-12-18T14:00:00\",\"2020-12-18T14:00:00\",\"2020-12-18T14:00:00\",\"2020-12-18T14:00:00\",\"2020-12-19T14:00:00\",\"2020-12-19T14:00:00\",\"2020-12-19T14:00:00\",\"2020-12-19T14:00:00\",\"2020-12-19T14:00:00\",\"2020-12-19T14:00:00\",\"2020-12-19T14:00:00\",\"2020-12-19T14:00:00\",\"2020-12-19T14:00:00\",\"2020-12-19T14:00:00\",\"2020-12-19T14:00:00\",\"2020-12-19T14:00:00\",\"2020-12-19T14:00:00\",\"2020-12-20T14:00:00\",\"2020-12-20T14:00:00\",\"2020-12-20T14:00:00\",\"2020-12-20T14:00:00\",\"2020-12-20T14:00:00\",\"2020-12-20T14:00:00\",\"2020-12-20T14:00:00\",\"2020-12-20T14:00:00\",\"2020-12-20T14:00:00\",\"2020-12-20T14:00:00\",\"2020-12-20T14:00:00\",\"2020-12-20T14:00:00\",\"2020-12-20T14:00:00\",\"2020-12-21T14:00:00\",\"2020-12-21T14:00:00\",\"2020-12-21T14:00:00\",\"2020-12-21T14:00:00\",\"2020-12-21T14:00:00\",\"2020-12-21T14:00:00\",\"2020-12-21T14:00:00\",\"2020-12-21T14:00:00\",\"2020-12-21T14:00:00\",\"2020-12-21T14:00:00\",\"2020-12-21T14:00:00\",\"2020-12-21T14:00:00\",\"2020-12-21T14:00:00\",\"2020-12-22T14:00:00\",\"2020-12-22T14:00:00\",\"2020-12-22T14:00:00\",\"2020-12-22T14:00:00\",\"2020-12-22T14:00:00\",\"2020-12-22T14:00:00\",\"2020-12-22T14:00:00\",\"2020-12-22T14:00:00\",\"2020-12-22T14:00:00\",\"2020-12-22T14:00:00\",\"2020-12-22T14:00:00\",\"2020-12-22T14:00:00\",\"2020-12-22T14:00:00\",\"2020-12-23T14:00:00\",\"2020-12-23T14:00:00\",\"2020-12-23T14:00:00\",\"2020-12-23T14:00:00\",\"2020-12-23T14:00:00\",\"2020-12-23T14:00:00\",\"2020-12-23T14:00:00\",\"2020-12-23T14:00:00\",\"2020-12-23T14:00:00\",\"2020-12-23T14:00:00\",\"2020-12-23T14:00:00\",\"2020-12-23T14:00:00\",\"2020-12-23T14:00:00\",\"2020-12-24T14:00:00\",\"2020-12-24T14:00:00\",\"2020-12-24T14:00:00\",\"2020-12-24T14:00:00\",\"2020-12-24T14:00:00\",\"2020-12-24T14:00:00\",\"2020-12-24T14:00:00\",\"2020-12-24T14:00:00\",\"2020-12-24T14:00:00\",\"2020-12-24T14:00:00\",\"2020-12-24T14:00:00\",\"2020-12-24T14:00:00\",\"2020-12-24T14:00:00\",\"2020-12-25T14:00:00\",\"2020-12-25T14:00:00\",\"2020-12-25T14:00:00\",\"2020-12-25T14:00:00\",\"2020-12-25T14:00:00\",\"2020-12-25T14:00:00\",\"2020-12-25T14:00:00\",\"2020-12-25T14:00:00\",\"2020-12-25T14:00:00\",\"2020-12-25T14:00:00\",\"2020-12-25T14:00:00\",\"2020-12-25T14:00:00\",\"2020-12-25T14:00:00\",\"2020-12-26T14:00:00\",\"2020-12-26T14:00:00\",\"2020-12-26T14:00:00\",\"2020-12-26T14:00:00\",\"2020-12-26T14:00:00\",\"2020-12-26T14:00:00\",\"2020-12-26T14:00:00\",\"2020-12-26T14:00:00\",\"2020-12-26T14:00:00\",\"2020-12-26T14:00:00\",\"2020-12-26T14:00:00\",\"2020-12-26T14:00:00\",\"2020-12-26T14:00:00\",\"2020-12-27T14:00:00\",\"2020-12-27T14:00:00\",\"2020-12-27T14:00:00\",\"2020-12-27T14:00:00\",\"2020-12-27T14:00:00\",\"2020-12-27T14:00:00\",\"2020-12-27T14:00:00\",\"2020-12-27T14:00:00\",\"2020-12-27T14:00:00\",\"2020-12-27T14:00:00\",\"2020-12-27T14:00:00\",\"2020-12-27T14:00:00\",\"2020-12-27T14:00:00\",\"2020-12-28T14:00:00\",\"2020-12-28T14:00:00\",\"2020-12-28T14:00:00\",\"2020-12-28T14:00:00\",\"2020-12-28T14:00:00\",\"2020-12-28T14:00:00\",\"2020-12-28T14:00:00\",\"2020-12-28T14:00:00\",\"2020-12-28T14:00:00\",\"2020-12-28T14:00:00\",\"2020-12-28T14:00:00\",\"2020-12-28T14:00:00\",\"2020-12-28T14:00:00\",\"2020-12-29T14:00:00\",\"2020-12-29T14:00:00\",\"2020-12-29T14:00:00\",\"2020-12-29T14:00:00\",\"2020-12-29T14:00:00\",\"2020-12-29T14:00:00\",\"2020-12-29T14:00:00\",\"2020-12-29T14:00:00\",\"2020-12-29T14:00:00\",\"2020-12-29T14:00:00\",\"2020-12-29T14:00:00\",\"2020-12-29T14:00:00\",\"2020-12-29T14:00:00\",\"2020-12-30T14:00:00\",\"2020-12-30T14:00:00\",\"2020-12-30T14:00:00\",\"2020-12-30T14:00:00\",\"2020-12-30T14:00:00\",\"2020-12-30T14:00:00\",\"2020-12-30T14:00:00\",\"2020-12-30T14:00:00\",\"2020-12-30T14:00:00\",\"2020-12-30T14:00:00\",\"2020-12-30T14:00:00\",\"2020-12-30T14:00:00\",\"2020-12-30T14:00:00\",\"2020-12-31T14:00:00\",\"2020-12-31T14:00:00\",\"2020-12-31T14:00:00\",\"2020-12-31T14:00:00\",\"2020-12-31T14:00:00\",\"2020-12-31T14:00:00\",\"2020-12-31T14:00:00\",\"2020-12-31T14:00:00\",\"2020-12-31T14:00:00\",\"2020-12-31T14:00:00\",\"2020-12-31T14:00:00\",\"2020-12-31T14:00:00\",\"2020-12-31T14:00:00\",\"2021-01-01T14:00:00\",\"2021-01-01T14:00:00\",\"2021-01-01T14:00:00\",\"2021-01-01T14:00:00\",\"2021-01-01T14:00:00\",\"2021-01-01T14:00:00\",\"2021-01-01T14:00:00\",\"2021-01-01T14:00:00\",\"2021-01-01T14:00:00\",\"2021-01-01T14:00:00\",\"2021-01-01T14:00:00\",\"2021-01-01T14:00:00\",\"2021-01-01T14:00:00\",\"2021-01-02T14:00:00\",\"2021-01-02T14:00:00\",\"2021-01-02T14:00:00\",\"2021-01-02T14:00:00\",\"2021-01-02T14:00:00\",\"2021-01-02T14:00:00\",\"2021-01-02T14:00:00\",\"2021-01-02T14:00:00\",\"2021-01-02T14:00:00\",\"2021-01-02T14:00:00\",\"2021-01-02T14:00:00\",\"2021-01-02T14:00:00\",\"2021-01-02T14:00:00\",\"2021-01-03T14:00:00\",\"2021-01-03T14:00:00\",\"2021-01-03T14:00:00\",\"2021-01-03T14:00:00\",\"2021-01-03T14:00:00\",\"2021-01-03T14:00:00\",\"2021-01-03T14:00:00\",\"2021-01-03T14:00:00\",\"2021-01-03T14:00:00\",\"2021-01-03T14:00:00\",\"2021-01-03T14:00:00\",\"2021-01-03T14:00:00\",\"2021-01-03T14:00:00\",\"2021-01-04T14:00:00\",\"2021-01-04T14:00:00\",\"2021-01-04T14:00:00\",\"2021-01-04T14:00:00\",\"2021-01-04T14:00:00\",\"2021-01-04T14:00:00\",\"2021-01-04T14:00:00\",\"2021-01-04T14:00:00\",\"2021-01-04T14:00:00\",\"2021-01-04T14:00:00\",\"2021-01-04T14:00:00\",\"2021-01-04T14:00:00\",\"2021-01-04T14:00:00\",\"2021-01-05T14:00:00\",\"2021-01-05T14:00:00\",\"2021-01-05T14:00:00\",\"2021-01-05T14:00:00\",\"2021-01-05T14:00:00\",\"2021-01-05T14:00:00\",\"2021-01-05T14:00:00\",\"2021-01-05T14:00:00\",\"2021-01-05T14:00:00\",\"2021-01-05T14:00:00\",\"2021-01-05T14:00:00\",\"2021-01-05T14:00:00\",\"2021-01-05T14:00:00\",\"2021-01-06T14:00:00\",\"2021-01-06T14:00:00\",\"2021-01-06T14:00:00\",\"2021-01-06T14:00:00\",\"2021-01-06T14:00:00\",\"2021-01-06T14:00:00\",\"2021-01-06T14:00:00\",\"2021-01-06T14:00:00\",\"2021-01-06T14:00:00\",\"2021-01-06T14:00:00\",\"2021-01-06T14:00:00\",\"2021-01-06T14:00:00\",\"2021-01-06T14:00:00\",\"2021-01-07T14:00:00\",\"2021-01-07T14:00:00\",\"2021-01-07T14:00:00\",\"2021-01-07T14:00:00\",\"2021-01-07T14:00:00\",\"2021-01-07T14:00:00\",\"2021-01-07T14:00:00\",\"2021-01-07T14:00:00\",\"2021-01-07T14:00:00\",\"2021-01-07T14:00:00\",\"2021-01-07T14:00:00\",\"2021-01-07T14:00:00\",\"2021-01-07T14:00:00\",\"2021-01-08T14:00:00\",\"2021-01-08T14:00:00\",\"2021-01-08T14:00:00\",\"2021-01-08T14:00:00\",\"2021-01-08T14:00:00\",\"2021-01-08T14:00:00\",\"2021-01-08T14:00:00\",\"2021-01-08T14:00:00\",\"2021-01-08T14:00:00\",\"2021-01-08T14:00:00\",\"2021-01-08T14:00:00\",\"2021-01-08T14:00:00\",\"2021-01-08T14:00:00\",\"2021-01-09T14:00:00\",\"2021-01-09T14:00:00\",\"2021-01-09T14:00:00\",\"2021-01-09T14:00:00\",\"2021-01-09T14:00:00\",\"2021-01-09T14:00:00\",\"2021-01-09T14:00:00\",\"2021-01-09T14:00:00\",\"2021-01-09T14:00:00\",\"2021-01-09T14:00:00\",\"2021-01-09T14:00:00\",\"2021-01-09T14:00:00\",\"2021-01-09T14:00:00\",\"2021-01-10T14:00:00\",\"2021-01-10T14:00:00\",\"2021-01-10T14:00:00\",\"2021-01-10T14:00:00\",\"2021-01-10T14:00:00\",\"2021-01-10T14:00:00\",\"2021-01-10T14:00:00\",\"2021-01-10T14:00:00\",\"2021-01-10T14:00:00\",\"2021-01-10T14:00:00\",\"2021-01-10T14:00:00\",\"2021-01-10T14:00:00\",\"2021-01-11T14:00:00\",\"2021-01-11T14:00:00\",\"2021-01-11T14:00:00\",\"2021-01-11T14:00:00\",\"2021-01-11T14:00:00\",\"2021-01-11T14:00:00\",\"2021-01-11T14:00:00\",\"2021-01-11T14:00:00\",\"2021-01-11T14:00:00\",\"2021-01-11T14:00:00\",\"2021-01-11T14:00:00\",\"2021-01-11T14:00:00\",\"2021-01-12T14:00:00\",\"2021-01-12T14:00:00\",\"2021-01-12T14:00:00\",\"2021-01-12T14:00:00\",\"2021-01-12T14:00:00\",\"2021-01-12T14:00:00\",\"2021-01-12T14:00:00\",\"2021-01-12T14:00:00\",\"2021-01-12T14:00:00\",\"2021-01-12T14:00:00\",\"2021-01-12T14:00:00\",\"2021-01-12T14:00:00\",\"2021-01-13T14:00:00\",\"2021-01-13T14:00:00\",\"2021-01-13T14:00:00\",\"2021-01-13T14:00:00\",\"2021-01-13T14:00:00\",\"2021-01-13T14:00:00\",\"2021-01-13T14:00:00\",\"2021-01-13T14:00:00\",\"2021-01-13T14:00:00\",\"2021-01-13T14:00:00\",\"2021-01-13T14:00:00\",\"2021-01-13T14:00:00\",\"2021-01-14T14:00:00\",\"2021-01-14T14:00:00\",\"2021-01-14T14:00:00\",\"2021-01-14T14:00:00\",\"2021-01-14T14:00:00\",\"2021-01-14T14:00:00\",\"2021-01-14T14:00:00\",\"2021-01-14T14:00:00\",\"2021-01-14T14:00:00\",\"2021-01-14T14:00:00\",\"2021-01-14T14:00:00\",\"2021-01-14T14:00:00\",\"2021-01-15T14:00:00\",\"2021-01-15T14:00:00\",\"2021-01-15T14:00:00\",\"2021-01-15T14:00:00\",\"2021-01-15T14:00:00\",\"2021-01-15T14:00:00\",\"2021-01-15T14:00:00\",\"2021-01-15T14:00:00\",\"2021-01-15T14:00:00\",\"2021-01-15T14:00:00\",\"2021-01-15T14:00:00\",\"2021-01-15T14:00:00\",\"2021-01-16T14:00:00\",\"2021-01-16T14:00:00\",\"2021-01-16T14:00:00\",\"2021-01-16T14:00:00\",\"2021-01-16T14:00:00\",\"2021-01-16T14:00:00\",\"2021-01-16T14:00:00\",\"2021-01-16T14:00:00\",\"2021-01-16T14:00:00\",\"2021-01-16T14:00:00\",\"2021-01-16T14:00:00\",\"2021-01-16T14:00:00\",\"2021-01-17T14:00:00\",\"2021-01-17T14:00:00\",\"2021-01-17T14:00:00\",\"2021-01-17T14:00:00\",\"2021-01-17T14:00:00\",\"2021-01-17T14:00:00\",\"2021-01-17T14:00:00\",\"2021-01-17T14:00:00\",\"2021-01-17T14:00:00\",\"2021-01-17T14:00:00\",\"2021-01-17T14:00:00\",\"2021-01-17T14:00:00\",\"2021-01-18T14:00:00\",\"2021-01-18T14:00:00\",\"2021-01-18T14:00:00\",\"2021-01-18T14:00:00\",\"2021-01-18T14:00:00\",\"2021-01-18T14:00:00\",\"2021-01-18T14:00:00\",\"2021-01-18T14:00:00\",\"2021-01-18T14:00:00\",\"2021-01-18T14:00:00\",\"2021-01-18T14:00:00\",\"2021-01-18T14:00:00\",\"2021-01-19T14:00:00\",\"2021-01-19T14:00:00\",\"2021-01-19T14:00:00\",\"2021-01-19T14:00:00\",\"2021-01-19T14:00:00\",\"2021-01-19T14:00:00\",\"2021-01-19T14:00:00\",\"2021-01-19T14:00:00\",\"2021-01-19T14:00:00\",\"2021-01-19T14:00:00\",\"2021-01-19T14:00:00\",\"2021-01-19T14:00:00\",\"2021-01-20T14:00:00\",\"2021-01-20T14:00:00\",\"2021-01-20T14:00:00\",\"2021-01-20T14:00:00\",\"2021-01-20T14:00:00\",\"2021-01-20T14:00:00\",\"2021-01-20T14:00:00\",\"2021-01-20T14:00:00\",\"2021-01-20T14:00:00\",\"2021-01-20T14:00:00\",\"2021-01-20T14:00:00\",\"2021-01-20T14:00:00\",\"2021-01-21T14:00:00\",\"2021-01-21T14:00:00\",\"2021-01-21T14:00:00\",\"2021-01-21T14:00:00\",\"2021-01-21T14:00:00\",\"2021-01-21T14:00:00\",\"2021-01-21T14:00:00\",\"2021-01-21T14:00:00\",\"2021-01-21T14:00:00\",\"2021-01-21T14:00:00\",\"2021-01-21T14:00:00\",\"2021-01-21T14:00:00\",\"2021-01-22T14:00:00\",\"2021-01-22T14:00:00\",\"2021-01-22T14:00:00\",\"2021-01-22T14:00:00\",\"2021-01-22T14:00:00\",\"2021-01-22T14:00:00\",\"2021-01-22T14:00:00\",\"2021-01-22T14:00:00\",\"2021-01-22T14:00:00\",\"2021-01-22T14:00:00\",\"2021-01-22T14:00:00\",\"2021-01-22T14:00:00\",\"2021-01-23T14:00:00\",\"2021-01-23T14:00:00\",\"2021-01-23T14:00:00\",\"2021-01-23T14:00:00\",\"2021-01-23T14:00:00\",\"2021-01-23T14:00:00\",\"2021-01-23T14:00:00\",\"2021-01-23T14:00:00\",\"2021-01-23T14:00:00\",\"2021-01-23T14:00:00\",\"2021-01-23T14:00:00\",\"2021-01-23T14:00:00\",\"2021-01-24T14:00:00\",\"2021-01-24T14:00:00\",\"2021-01-24T14:00:00\",\"2021-01-24T14:00:00\",\"2021-01-24T14:00:00\",\"2021-01-24T14:00:00\",\"2021-01-24T14:00:00\",\"2021-01-24T14:00:00\",\"2021-01-24T14:00:00\",\"2021-01-24T14:00:00\",\"2021-01-24T14:00:00\",\"2021-01-24T14:00:00\",\"2021-01-25T14:00:00\",\"2021-01-25T14:00:00\",\"2021-01-25T14:00:00\",\"2021-01-25T14:00:00\",\"2021-01-25T14:00:00\",\"2021-01-25T14:00:00\",\"2021-01-25T14:00:00\",\"2021-01-25T14:00:00\",\"2021-01-25T14:00:00\",\"2021-01-25T14:00:00\",\"2021-01-25T14:00:00\",\"2021-01-25T14:00:00\",\"2021-01-26T14:00:00\",\"2021-01-26T14:00:00\",\"2021-01-26T14:00:00\",\"2021-01-26T14:00:00\",\"2021-01-26T14:00:00\",\"2021-01-26T14:00:00\",\"2021-01-26T14:00:00\",\"2021-01-26T14:00:00\",\"2021-01-26T14:00:00\",\"2021-01-26T14:00:00\",\"2021-01-26T14:00:00\",\"2021-01-26T14:00:00\",\"2021-01-27T14:00:00\",\"2021-01-27T14:00:00\",\"2021-01-27T14:00:00\",\"2021-01-27T14:00:00\",\"2021-01-27T14:00:00\",\"2021-01-27T14:00:00\",\"2021-01-27T14:00:00\",\"2021-01-27T14:00:00\",\"2021-01-27T14:00:00\",\"2021-01-27T14:00:00\",\"2021-01-27T14:00:00\",\"2021-01-27T14:00:00\"],\"xaxis\":\"x\",\"y\":[0.1,0.2,0.3,0.2,0.2,0.2,0.2,0.2,0.2,0.2,0.2,0.2,0.2,0.2,0.2,0.3,0.2,11.6,10.6,11.4,12.4,11.4,11.9,0.2,12.7,12.4,12.2,12.4,12.1,10.3,12.4,11.5,11.3,11.7,11.8,11.1,8.2,6.9,7.9,9.0,7.3,9.1,0.0,9.0,8.6,9.1,8.9,8.9,7.7,9.1,8.7,8.2,7.3,8.6,7.9,12.3,11.0,12.0,12.9,8.3,13.2,7.4,13.2,12.9,11.9,6.1,12.2,10.1,4.2,12.7,11.8,10.3,12.3,11.8,11.5,10.1,11.8,7.2,10.5,9.3,4.8,11.7,12.5,13.2,8.0,12.7,10.3,6.9,12.1,9.6,9.2,8.9,9.0,12.5,8.9,12.8,13.1,9.0,10.3,6.1,12.8,13.4,13.1,10.4,13.2,10.0,7.3,14.7,11.2,10.0,13.1,11.5,14.4,12.4,14.7,15.0,14.1,14.1,8.7,14.0,12.6,14.4,7.8,14.2,13.2,3.7,16.1,13.9,13.1,14.5,14.1,10.9,10.4,10.9,11.0,11.9,8.7,7.4,13.4,11.2,13.3,0.0,12.1,9.7,7.8,16.1,9.4,6.5,10.9,8.8,18.2,4.7,17.1,18.1,10.0,17.2,9.7,20.9,13.7,20.2,0.0,18.6,7.7,11.7,20.1,13.2,2.4,18.0,9.5,17.1,3.4,16.3,18.0,16.9,17.5,7.1,19.4,19.4,0.0,16.8,14.7,6.9,18.2,18.2,1.5,18.0,17.0,15.9,16.4,16.4,16.0,16.5,18.1,11.5,14.0,14.8,9.3,15.1,14.7,12.0,15.0,18.4,6.6,15.7,16.0,15.5,15.2,17.0,17.5,14.7,16.5,16.4,19.7,19.9,13.8,17.2,15.2,16.3,17.6,15.0,10.0,16.1,14.0,18.4,12.8,18.6,19.0,13.8,20.9,16.4,20.0,20.7,15.7,18.9,10.1,13.6,20.7,15.8,7.3,18.3,11.9,17.8,5.1,18.8,17.9,12.5,20.5,11.2,21.2,20.7,15.2,18.6,9.9,9.1,20.6,16.5,6.9,19.4,11.7,15.5,5.9,15.7,14.2,17.0,16.8,10.9,13.4,15.2,14.1,15.5,12.8,11.3,7.7,16.1,6.9,15.9,14.4,9.3,10.3,10.0,10.1,12.2,8.9,6.5,9.7,11.6,15.3,10.7,12.4,10.3,3.2,10.5,11.6,9.7,12.9,7.9,11.4,9.1,8.4,13.0,8.9,7.0,8.7,10.7,8.8,9.2,12.8,10.8,4.3,9.5,3.6,8.8,12.2,10.7,13.0,5.8,7.2,7.5,7.2,5.0,8.7,10.6,7.6,5.6,13.1,12.2,8.4,7.8,4.1,6.0,9.9,10.2,14.8,11.1,11.2,15.2,12.0,13.9,5.2,5.9,11.3,10.4,13.2,15.5,9.6,12.0,9.0,10.8,13.9,14.3,14.6,13.5,16.3,13.4,13.4,14.4,5.9,11.2,11.3,12.6,13.3,16.0,11.1,15.3,10.9,11.5,14.8,16.6,13.3,17.5,19.9,16.9,19.4,14.5,14.7,15.5,6.9,18.7,9.3,18.3,12.4,17.7,10.6,18.0,12.2,14.4,10.6,18.3,15.8,16.2,17.5,15.1,17.6,19.0,11.0,17.9,7.6,13.6,13.2,15.2,14.3,16.9,12.0,16.1,10.7,17.6,18.2,17.9,17.3,14.4,17.1,14.8,14.7,18.2,11.5,13.8,15.5,17.1,15.0,17.1,6.8,15.7,13.4,9.3,17.4,15.7,13.2,13.3,16.4,14.8,17.9,15.0,16.9,12.4,16.9,14.6,13.5,8.1,15.2,19.5,14.2,17.1,18.0,13.3,14.4,15.4,16.7,15.7,13.9,20.6,8.8,13.2,11.5,14.6,9.5,6.8,19.2,16.8,15.2,16.7,6.0,12.2,15.1,17.1,10.3,14.6,19.4,14.0,15.4,9.6,15.7,13.4,6.3,17.7,18.4,17.5,15.6,7.3,8.3,17.7,17.3,12.7,11.9,18.5,17.0,11.6,16.3,12.9,16.6,17.5,11.8,16.3,5.9,16.7,16.1,11.9,11.5,15.4,16.7,9.3,16.0,12.1,6.2,13.3,13.3,14.2,12.6,12.7,12.3,14.7,4.9,4.8,11.2,15.2,14.8,4.1,9.6,17.9,12.9,14.2,12.3,19.6,19.3,14.8,8.6,13.2,14.4,10.6,13.5,10.3,9.1,13.0,8.2,16.0,8.9,14.2,16.3,12.2,8.8,17.6,15.6,10.4,16.1,9.1,6.5,14.1,16.0,13.9,10.9,13.1,13.2,17.0,6.6,13.0,14.1,15.7,14.6,8.1,14.9,13.6,11.4,16.0,13.8,13.3,11.3,16.4,14.5,16.6,16.5,16.1,14.1,12.7,5.6,17.9,13.9,17.6,11.5,16.0,11.6,17.1,6.1,17.8,16.6,14.9,17.5,11.3,11.2,18.5,16.8,18.6,17.7,17.0,14.3,10.7,13.9,17.3,12.2,15.5,16.7,14.4,17.1,14.0,14.0,16.7,16.0,14.9,11.1,15.1,16.4,14.4,14.6,15.0,8.4,19.3,16.5,14.7,18.5,18.4,16.6,7.9,14.0,14.0,12.0,16.0,8.9,13.4,14.8,8.5,9.8,15.1,7.7,14.5,12.8,16.4,9.9,14.1,11.1,10.3,14.8,15.4,11.4,10.4,14.2,14.3,15.5,12.5,13.4,11.0,12.1,12.8,18.1,12.2,18.1,18.0,17.7,15.2,19.1,17.9,16.0,11.9,18.3,15.2,17.8,11.7,14.7,9.8,16.6,16.9,8.2,13.1,13.4,15.0,13.4,16.3,13.0,16.3,14.7,12.9,13.2,9.1,12.8,13.2,13.4,18.2,10.6,17.0,13.0,15.9,12.9,15.9,13.4,15.6,6.5,11.9,14.0,12.6,18.1,14.8,15.0,10.2,17.3,13.4,12.5,13.8,11.5,4.7,12.8,12.8,12.6,16.0,13.3,15.0,15.8,12.0,12.9,9.9,16.1,11.1,14.8,14.4,10.7,12.0,10.4,14.8,18.6,13.3,12.5,15.2,16.2,14.5,11.1,9.4,14.5,10.2,9.2,15.9,9.7,13.6,14.4,18.9,8.7,16.5,12.4,11.1,14.1,9.1,7.6,11.9,19.3,12.1,8.4,9.1,16.7,8.9,15.0,15.9,10.1,14.5,10.9,7.0,8.7,19.9,15.7,13.9,10.8,11.2,11.4,13.4,15.7,9.4,11.5,6.3,10.7,7.4,18.1,15.9,11.2,6.7,15.1,6.8,13.7,17.0,11.6,5.7,9.0,11.2,8.5,14.8,14.1,15.5,7.0,14.1,9.3,11.9,17.3,12.5,13.5,16.6,15.8,11.9,11.9,10.7,16.0,15.6,12.5,15.1,14.8,13.4,12.4,15.8,13.9,13.8,10.6,15.9,12.0,13.6,12.5,16.2,14.2,13.2,10.4,12.2,14.9,13.2,15.9,16.2,13.2,17.2,15.7,11.6,16.2,14.4,10.6,10.4,20.1,11.2,9.3,13.9,20.4,18.7,16.2,15.4,10.1,13.9,11.0,10.3,10.6,17.3,16.1,14.8,15.2,18.1,17.3,16.6,15.2,17.1,10.3,12.8,10.9,13.5,19.3,17.0,15.0,18.1,16.4,13.4,15.5,15.4,15.5,12.6,14.6,14.9,12.5,11.4,14.4,11.9,14.3,13.4,13.2,12.1,13.8,12.1,13.3,12.7,11.4,12.8,14.9,15.4,11.4,17.1,11.5,13.3,11.9,13.4,13.7,14.2,12.7,12.4,12.2,15.4,17.9,15.3,14.7,16.1,13.1,11.0,15.1,15.4,12.7,10.7,11.3,10.0,7.8,17.6,15.8,12.6,4.6,11.1,11.2,11.4,16.5,14.6,14.1,10.1,11.9,16.5,10.5,11.9,11.5,10.8,12.9,11.4,10.5,12.9,12.6,15.0,13.1,11.5,9.8,9.0,11.6,12.5,12.0,14.0,12.1,11.9,10.6,13.0,13.4,11.0,12.8,9.7,12.7,9.1,15.1,17.3,12.2,14.0,12.3,9.9,13.9,11.2,12.5,12.0,10.6,17.1,10.7,12.3,15.2,12.9,17.8,16.7,14.1,17.4,11.6,14.5,4.8,13.5,13.7,12.6,14.5,12.2,11.7,13.5,13.3,15.1,13.8,10.7,6.5,12.1,10.0,8.3,11.5,11.2,7.5,15.3,12.1,14.7,10.4,14.2,9.1,10.3,10.2,9.9,15.6,10.3,14.6,8.3,12.0,9.2,15.3,11.8,9.9,13.9,12.8,13.8,13.2,12.1,12.5,11.3,11.7,13.7,12.5,14.8,12.7,13.4,13.5,13.3,17.2,11.8,6.0,13.7,8.8,15.7,15.6,15.4,15.7,18.0,16.0,16.9,14.9,12.9,11.3,16.4,12.9,17.6,14.6,9.1,14.8,13.5,14.8,13.3,8.9,12.2,16.5,16.6,9.5,13.2,4.0,9.1,6.3,13.6,8.3,11.6,14.0,12.7,17.9,7.5,14.3,6.9,7.8,10.9,16.0,19.1,15.1,16.4,11.2,12.6,16.5,13.2,13.1,16.8,10.3,9.3,17.7,17.8,15.7,16.6,6.3,6.1,16.5,15.4,12.7,17.4,9.7,3.2,15.9,15.2,14.6,14.1,10.8,11.2,13.5,16.7,12.9,15.7,5.0,5.4,13.5,17.6,13.2,14.0,13.4,11.8,14.8,14.4,14.7,14.9,4.7,9.4,15.8,15.2,16.3,16.7,16.7,8.9,13.0,14.9,11.0,16.2,7.0,14.7,16.1,17.2,14.6,17.1,15.9,11.8,11.8,12.7,9.9,16.4,13.3,14.8,14.6,13.6,13.8,14.8,9.6,13.1,11.7,12.6,13.9,13.5,13.3,14.1,15.0,13.2,14.0,11.7,6.5,13.9,15.3,12.9,15.8,12.9,14.3,14.1,18.6,17.2,18.1,13.9,13.9,13.9,14.9,18.8,14.0,13.5,14.0],\"yaxis\":\"y\"},{\"alignmentgroup\":\"True\",\"hovertemplate\":\"color=foils<br>Vitesse en 24H=%{y}<extra></extra>\",\"legendgroup\":\"foils\",\"marker\":{\"color\":\"#EF553B\",\"symbol\":\"circle\"},\"name\":\"foils\",\"notched\":true,\"offsetgroup\":\"foils\",\"showlegend\":false,\"type\":\"box\",\"xaxis\":\"x2\",\"y\":[0.1,0.2,0.3,0.2,0.2,0.2,0.2,0.2,0.2,0.2,0.2,0.2,0.2,0.2,0.2,0.3,0.2,11.6,10.6,11.4,12.4,11.4,11.9,0.2,12.7,12.4,12.2,12.4,12.1,10.3,12.4,11.5,11.3,11.7,11.8,11.1,8.2,6.9,7.9,9.0,7.3,9.1,0.0,9.0,8.6,9.1,8.9,8.9,7.7,9.1,8.7,8.2,7.3,8.6,7.9,12.3,11.0,12.0,12.9,8.3,13.2,7.4,13.2,12.9,11.9,6.1,12.2,10.1,4.2,12.7,11.8,10.3,12.3,11.8,11.5,10.1,11.8,7.2,10.5,9.3,4.8,11.7,12.5,13.2,8.0,12.7,10.3,6.9,12.1,9.6,9.2,8.9,9.0,12.5,8.9,12.8,13.1,9.0,10.3,6.1,12.8,13.4,13.1,10.4,13.2,10.0,7.3,14.7,11.2,10.0,13.1,11.5,14.4,12.4,14.7,15.0,14.1,14.1,8.7,14.0,12.6,14.4,7.8,14.2,13.2,3.7,16.1,13.9,13.1,14.5,14.1,10.9,10.4,10.9,11.0,11.9,8.7,7.4,13.4,11.2,13.3,0.0,12.1,9.7,7.8,16.1,9.4,6.5,10.9,8.8,18.2,4.7,17.1,18.1,10.0,17.2,9.7,20.9,13.7,20.2,0.0,18.6,7.7,11.7,20.1,13.2,2.4,18.0,9.5,17.1,3.4,16.3,18.0,16.9,17.5,7.1,19.4,19.4,0.0,16.8,14.7,6.9,18.2,18.2,1.5,18.0,17.0,15.9,16.4,16.4,16.0,16.5,18.1,11.5,14.0,14.8,9.3,15.1,14.7,12.0,15.0,18.4,6.6,15.7,16.0,15.5,15.2,17.0,17.5,14.7,16.5,16.4,19.7,19.9,13.8,17.2,15.2,16.3,17.6,15.0,10.0,16.1,14.0,18.4,12.8,18.6,19.0,13.8,20.9,16.4,20.0,20.7,15.7,18.9,10.1,13.6,20.7,15.8,7.3,18.3,11.9,17.8,5.1,18.8,17.9,12.5,20.5,11.2,21.2,20.7,15.2,18.6,9.9,9.1,20.6,16.5,6.9,19.4,11.7,15.5,5.9,15.7,14.2,17.0,16.8,10.9,13.4,15.2,14.1,15.5,12.8,11.3,7.7,16.1,6.9,15.9,14.4,9.3,10.3,10.0,10.1,12.2,8.9,6.5,9.7,11.6,15.3,10.7,12.4,10.3,3.2,10.5,11.6,9.7,12.9,7.9,11.4,9.1,8.4,13.0,8.9,7.0,8.7,10.7,8.8,9.2,12.8,10.8,4.3,9.5,3.6,8.8,12.2,10.7,13.0,5.8,7.2,7.5,7.2,5.0,8.7,10.6,7.6,5.6,13.1,12.2,8.4,7.8,4.1,6.0,9.9,10.2,14.8,11.1,11.2,15.2,12.0,13.9,5.2,5.9,11.3,10.4,13.2,15.5,9.6,12.0,9.0,10.8,13.9,14.3,14.6,13.5,16.3,13.4,13.4,14.4,5.9,11.2,11.3,12.6,13.3,16.0,11.1,15.3,10.9,11.5,14.8,16.6,13.3,17.5,19.9,16.9,19.4,14.5,14.7,15.5,6.9,18.7,9.3,18.3,12.4,17.7,10.6,18.0,12.2,14.4,10.6,18.3,15.8,16.2,17.5,15.1,17.6,19.0,11.0,17.9,7.6,13.6,13.2,15.2,14.3,16.9,12.0,16.1,10.7,17.6,18.2,17.9,17.3,14.4,17.1,14.8,14.7,18.2,11.5,13.8,15.5,17.1,15.0,17.1,6.8,15.7,13.4,9.3,17.4,15.7,13.2,13.3,16.4,14.8,17.9,15.0,16.9,12.4,16.9,14.6,13.5,8.1,15.2,19.5,14.2,17.1,18.0,13.3,14.4,15.4,16.7,15.7,13.9,20.6,8.8,13.2,11.5,14.6,9.5,6.8,19.2,16.8,15.2,16.7,6.0,12.2,15.1,17.1,10.3,14.6,19.4,14.0,15.4,9.6,15.7,13.4,6.3,17.7,18.4,17.5,15.6,7.3,8.3,17.7,17.3,12.7,11.9,18.5,17.0,11.6,16.3,12.9,16.6,17.5,11.8,16.3,5.9,16.7,16.1,11.9,11.5,15.4,16.7,9.3,16.0,12.1,6.2,13.3,13.3,14.2,12.6,12.7,12.3,14.7,4.9,4.8,11.2,15.2,14.8,4.1,9.6,17.9,12.9,14.2,12.3,19.6,19.3,14.8,8.6,13.2,14.4,10.6,13.5,10.3,9.1,13.0,8.2,16.0,8.9,14.2,16.3,12.2,8.8,17.6,15.6,10.4,16.1,9.1,6.5,14.1,16.0,13.9,10.9,13.1,13.2,17.0,6.6,13.0,14.1,15.7,14.6,8.1,14.9,13.6,11.4,16.0,13.8,13.3,11.3,16.4,14.5,16.6,16.5,16.1,14.1,12.7,5.6,17.9,13.9,17.6,11.5,16.0,11.6,17.1,6.1,17.8,16.6,14.9,17.5,11.3,11.2,18.5,16.8,18.6,17.7,17.0,14.3,10.7,13.9,17.3,12.2,15.5,16.7,14.4,17.1,14.0,14.0,16.7,16.0,14.9,11.1,15.1,16.4,14.4,14.6,15.0,8.4,19.3,16.5,14.7,18.5,18.4,16.6,7.9,14.0,14.0,12.0,16.0,8.9,13.4,14.8,8.5,9.8,15.1,7.7,14.5,12.8,16.4,9.9,14.1,11.1,10.3,14.8,15.4,11.4,10.4,14.2,14.3,15.5,12.5,13.4,11.0,12.1,12.8,18.1,12.2,18.1,18.0,17.7,15.2,19.1,17.9,16.0,11.9,18.3,15.2,17.8,11.7,14.7,9.8,16.6,16.9,8.2,13.1,13.4,15.0,13.4,16.3,13.0,16.3,14.7,12.9,13.2,9.1,12.8,13.2,13.4,18.2,10.6,17.0,13.0,15.9,12.9,15.9,13.4,15.6,6.5,11.9,14.0,12.6,18.1,14.8,15.0,10.2,17.3,13.4,12.5,13.8,11.5,4.7,12.8,12.8,12.6,16.0,13.3,15.0,15.8,12.0,12.9,9.9,16.1,11.1,14.8,14.4,10.7,12.0,10.4,14.8,18.6,13.3,12.5,15.2,16.2,14.5,11.1,9.4,14.5,10.2,9.2,15.9,9.7,13.6,14.4,18.9,8.7,16.5,12.4,11.1,14.1,9.1,7.6,11.9,19.3,12.1,8.4,9.1,16.7,8.9,15.0,15.9,10.1,14.5,10.9,7.0,8.7,19.9,15.7,13.9,10.8,11.2,11.4,13.4,15.7,9.4,11.5,6.3,10.7,7.4,18.1,15.9,11.2,6.7,15.1,6.8,13.7,17.0,11.6,5.7,9.0,11.2,8.5,14.8,14.1,15.5,7.0,14.1,9.3,11.9,17.3,12.5,13.5,16.6,15.8,11.9,11.9,10.7,16.0,15.6,12.5,15.1,14.8,13.4,12.4,15.8,13.9,13.8,10.6,15.9,12.0,13.6,12.5,16.2,14.2,13.2,10.4,12.2,14.9,13.2,15.9,16.2,13.2,17.2,15.7,11.6,16.2,14.4,10.6,10.4,20.1,11.2,9.3,13.9,20.4,18.7,16.2,15.4,10.1,13.9,11.0,10.3,10.6,17.3,16.1,14.8,15.2,18.1,17.3,16.6,15.2,17.1,10.3,12.8,10.9,13.5,19.3,17.0,15.0,18.1,16.4,13.4,15.5,15.4,15.5,12.6,14.6,14.9,12.5,11.4,14.4,11.9,14.3,13.4,13.2,12.1,13.8,12.1,13.3,12.7,11.4,12.8,14.9,15.4,11.4,17.1,11.5,13.3,11.9,13.4,13.7,14.2,12.7,12.4,12.2,15.4,17.9,15.3,14.7,16.1,13.1,11.0,15.1,15.4,12.7,10.7,11.3,10.0,7.8,17.6,15.8,12.6,4.6,11.1,11.2,11.4,16.5,14.6,14.1,10.1,11.9,16.5,10.5,11.9,11.5,10.8,12.9,11.4,10.5,12.9,12.6,15.0,13.1,11.5,9.8,9.0,11.6,12.5,12.0,14.0,12.1,11.9,10.6,13.0,13.4,11.0,12.8,9.7,12.7,9.1,15.1,17.3,12.2,14.0,12.3,9.9,13.9,11.2,12.5,12.0,10.6,17.1,10.7,12.3,15.2,12.9,17.8,16.7,14.1,17.4,11.6,14.5,4.8,13.5,13.7,12.6,14.5,12.2,11.7,13.5,13.3,15.1,13.8,10.7,6.5,12.1,10.0,8.3,11.5,11.2,7.5,15.3,12.1,14.7,10.4,14.2,9.1,10.3,10.2,9.9,15.6,10.3,14.6,8.3,12.0,9.2,15.3,11.8,9.9,13.9,12.8,13.8,13.2,12.1,12.5,11.3,11.7,13.7,12.5,14.8,12.7,13.4,13.5,13.3,17.2,11.8,6.0,13.7,8.8,15.7,15.6,15.4,15.7,18.0,16.0,16.9,14.9,12.9,11.3,16.4,12.9,17.6,14.6,9.1,14.8,13.5,14.8,13.3,8.9,12.2,16.5,16.6,9.5,13.2,4.0,9.1,6.3,13.6,8.3,11.6,14.0,12.7,17.9,7.5,14.3,6.9,7.8,10.9,16.0,19.1,15.1,16.4,11.2,12.6,16.5,13.2,13.1,16.8,10.3,9.3,17.7,17.8,15.7,16.6,6.3,6.1,16.5,15.4,12.7,17.4,9.7,3.2,15.9,15.2,14.6,14.1,10.8,11.2,13.5,16.7,12.9,15.7,5.0,5.4,13.5,17.6,13.2,14.0,13.4,11.8,14.8,14.4,14.7,14.9,4.7,9.4,15.8,15.2,16.3,16.7,16.7,8.9,13.0,14.9,11.0,16.2,7.0,14.7,16.1,17.2,14.6,17.1,15.9,11.8,11.8,12.7,9.9,16.4,13.3,14.8,14.6,13.6,13.8,14.8,9.6,13.1,11.7,12.6,13.9,13.5,13.3,14.1,15.0,13.2,14.0,11.7,6.5,13.9,15.3,12.9,15.8,12.9,14.3,14.1,18.6,17.2,18.1,13.9,13.9,13.9,14.9,18.8,14.0,13.5,14.0],\"yaxis\":\"y2\"}],                        {\"legend\":{\"title\":{\"text\":\"color\"},\"tracegroupgap\":0},\"margin\":{\"t\":60},\"template\":{\"data\":{\"bar\":[{\"error_x\":{\"color\":\"#2a3f5f\"},\"error_y\":{\"color\":\"#2a3f5f\"},\"marker\":{\"line\":{\"color\":\"#E5ECF6\",\"width\":0.5},\"pattern\":{\"fillmode\":\"overlay\",\"size\":10,\"solidity\":0.2}},\"type\":\"bar\"}],\"barpolar\":[{\"marker\":{\"line\":{\"color\":\"#E5ECF6\",\"width\":0.5},\"pattern\":{\"fillmode\":\"overlay\",\"size\":10,\"solidity\":0.2}},\"type\":\"barpolar\"}],\"carpet\":[{\"aaxis\":{\"endlinecolor\":\"#2a3f5f\",\"gridcolor\":\"white\",\"linecolor\":\"white\",\"minorgridcolor\":\"white\",\"startlinecolor\":\"#2a3f5f\"},\"baxis\":{\"endlinecolor\":\"#2a3f5f\",\"gridcolor\":\"white\",\"linecolor\":\"white\",\"minorgridcolor\":\"white\",\"startlinecolor\":\"#2a3f5f\"},\"type\":\"carpet\"}],\"choropleth\":[{\"colorbar\":{\"outlinewidth\":0,\"ticks\":\"\"},\"type\":\"choropleth\"}],\"contour\":[{\"colorbar\":{\"outlinewidth\":0,\"ticks\":\"\"},\"colorscale\":[[0.0,\"#0d0887\"],[0.1111111111111111,\"#46039f\"],[0.2222222222222222,\"#7201a8\"],[0.3333333333333333,\"#9c179e\"],[0.4444444444444444,\"#bd3786\"],[0.5555555555555556,\"#d8576b\"],[0.6666666666666666,\"#ed7953\"],[0.7777777777777778,\"#fb9f3a\"],[0.8888888888888888,\"#fdca26\"],[1.0,\"#f0f921\"]],\"type\":\"contour\"}],\"contourcarpet\":[{\"colorbar\":{\"outlinewidth\":0,\"ticks\":\"\"},\"type\":\"contourcarpet\"}],\"heatmap\":[{\"colorbar\":{\"outlinewidth\":0,\"ticks\":\"\"},\"colorscale\":[[0.0,\"#0d0887\"],[0.1111111111111111,\"#46039f\"],[0.2222222222222222,\"#7201a8\"],[0.3333333333333333,\"#9c179e\"],[0.4444444444444444,\"#bd3786\"],[0.5555555555555556,\"#d8576b\"],[0.6666666666666666,\"#ed7953\"],[0.7777777777777778,\"#fb9f3a\"],[0.8888888888888888,\"#fdca26\"],[1.0,\"#f0f921\"]],\"type\":\"heatmap\"}],\"heatmapgl\":[{\"colorbar\":{\"outlinewidth\":0,\"ticks\":\"\"},\"colorscale\":[[0.0,\"#0d0887\"],[0.1111111111111111,\"#46039f\"],[0.2222222222222222,\"#7201a8\"],[0.3333333333333333,\"#9c179e\"],[0.4444444444444444,\"#bd3786\"],[0.5555555555555556,\"#d8576b\"],[0.6666666666666666,\"#ed7953\"],[0.7777777777777778,\"#fb9f3a\"],[0.8888888888888888,\"#fdca26\"],[1.0,\"#f0f921\"]],\"type\":\"heatmapgl\"}],\"histogram\":[{\"marker\":{\"pattern\":{\"fillmode\":\"overlay\",\"size\":10,\"solidity\":0.2}},\"type\":\"histogram\"}],\"histogram2d\":[{\"colorbar\":{\"outlinewidth\":0,\"ticks\":\"\"},\"colorscale\":[[0.0,\"#0d0887\"],[0.1111111111111111,\"#46039f\"],[0.2222222222222222,\"#7201a8\"],[0.3333333333333333,\"#9c179e\"],[0.4444444444444444,\"#bd3786\"],[0.5555555555555556,\"#d8576b\"],[0.6666666666666666,\"#ed7953\"],[0.7777777777777778,\"#fb9f3a\"],[0.8888888888888888,\"#fdca26\"],[1.0,\"#f0f921\"]],\"type\":\"histogram2d\"}],\"histogram2dcontour\":[{\"colorbar\":{\"outlinewidth\":0,\"ticks\":\"\"},\"colorscale\":[[0.0,\"#0d0887\"],[0.1111111111111111,\"#46039f\"],[0.2222222222222222,\"#7201a8\"],[0.3333333333333333,\"#9c179e\"],[0.4444444444444444,\"#bd3786\"],[0.5555555555555556,\"#d8576b\"],[0.6666666666666666,\"#ed7953\"],[0.7777777777777778,\"#fb9f3a\"],[0.8888888888888888,\"#fdca26\"],[1.0,\"#f0f921\"]],\"type\":\"histogram2dcontour\"}],\"mesh3d\":[{\"colorbar\":{\"outlinewidth\":0,\"ticks\":\"\"},\"type\":\"mesh3d\"}],\"parcoords\":[{\"line\":{\"colorbar\":{\"outlinewidth\":0,\"ticks\":\"\"}},\"type\":\"parcoords\"}],\"pie\":[{\"automargin\":true,\"type\":\"pie\"}],\"scatter\":[{\"marker\":{\"colorbar\":{\"outlinewidth\":0,\"ticks\":\"\"}},\"type\":\"scatter\"}],\"scatter3d\":[{\"line\":{\"colorbar\":{\"outlinewidth\":0,\"ticks\":\"\"}},\"marker\":{\"colorbar\":{\"outlinewidth\":0,\"ticks\":\"\"}},\"type\":\"scatter3d\"}],\"scattercarpet\":[{\"marker\":{\"colorbar\":{\"outlinewidth\":0,\"ticks\":\"\"}},\"type\":\"scattercarpet\"}],\"scattergeo\":[{\"marker\":{\"colorbar\":{\"outlinewidth\":0,\"ticks\":\"\"}},\"type\":\"scattergeo\"}],\"scattergl\":[{\"marker\":{\"colorbar\":{\"outlinewidth\":0,\"ticks\":\"\"}},\"type\":\"scattergl\"}],\"scattermapbox\":[{\"marker\":{\"colorbar\":{\"outlinewidth\":0,\"ticks\":\"\"}},\"type\":\"scattermapbox\"}],\"scatterpolar\":[{\"marker\":{\"colorbar\":{\"outlinewidth\":0,\"ticks\":\"\"}},\"type\":\"scatterpolar\"}],\"scatterpolargl\":[{\"marker\":{\"colorbar\":{\"outlinewidth\":0,\"ticks\":\"\"}},\"type\":\"scatterpolargl\"}],\"scatterternary\":[{\"marker\":{\"colorbar\":{\"outlinewidth\":0,\"ticks\":\"\"}},\"type\":\"scatterternary\"}],\"surface\":[{\"colorbar\":{\"outlinewidth\":0,\"ticks\":\"\"},\"colorscale\":[[0.0,\"#0d0887\"],[0.1111111111111111,\"#46039f\"],[0.2222222222222222,\"#7201a8\"],[0.3333333333333333,\"#9c179e\"],[0.4444444444444444,\"#bd3786\"],[0.5555555555555556,\"#d8576b\"],[0.6666666666666666,\"#ed7953\"],[0.7777777777777778,\"#fb9f3a\"],[0.8888888888888888,\"#fdca26\"],[1.0,\"#f0f921\"]],\"type\":\"surface\"}],\"table\":[{\"cells\":{\"fill\":{\"color\":\"#EBF0F8\"},\"line\":{\"color\":\"white\"}},\"header\":{\"fill\":{\"color\":\"#C8D4E3\"},\"line\":{\"color\":\"white\"}},\"type\":\"table\"}]},\"layout\":{\"annotationdefaults\":{\"arrowcolor\":\"#2a3f5f\",\"arrowhead\":0,\"arrowwidth\":1},\"autotypenumbers\":\"strict\",\"coloraxis\":{\"colorbar\":{\"outlinewidth\":0,\"ticks\":\"\"}},\"colorscale\":{\"diverging\":[[0,\"#8e0152\"],[0.1,\"#c51b7d\"],[0.2,\"#de77ae\"],[0.3,\"#f1b6da\"],[0.4,\"#fde0ef\"],[0.5,\"#f7f7f7\"],[0.6,\"#e6f5d0\"],[0.7,\"#b8e186\"],[0.8,\"#7fbc41\"],[0.9,\"#4d9221\"],[1,\"#276419\"]],\"sequential\":[[0.0,\"#0d0887\"],[0.1111111111111111,\"#46039f\"],[0.2222222222222222,\"#7201a8\"],[0.3333333333333333,\"#9c179e\"],[0.4444444444444444,\"#bd3786\"],[0.5555555555555556,\"#d8576b\"],[0.6666666666666666,\"#ed7953\"],[0.7777777777777778,\"#fb9f3a\"],[0.8888888888888888,\"#fdca26\"],[1.0,\"#f0f921\"]],\"sequentialminus\":[[0.0,\"#0d0887\"],[0.1111111111111111,\"#46039f\"],[0.2222222222222222,\"#7201a8\"],[0.3333333333333333,\"#9c179e\"],[0.4444444444444444,\"#bd3786\"],[0.5555555555555556,\"#d8576b\"],[0.6666666666666666,\"#ed7953\"],[0.7777777777777778,\"#fb9f3a\"],[0.8888888888888888,\"#fdca26\"],[1.0,\"#f0f921\"]]},\"colorway\":[\"#636efa\",\"#EF553B\",\"#00cc96\",\"#ab63fa\",\"#FFA15A\",\"#19d3f3\",\"#FF6692\",\"#B6E880\",\"#FF97FF\",\"#FECB52\"],\"font\":{\"color\":\"#2a3f5f\"},\"geo\":{\"bgcolor\":\"white\",\"lakecolor\":\"white\",\"landcolor\":\"#E5ECF6\",\"showlakes\":true,\"showland\":true,\"subunitcolor\":\"white\"},\"hoverlabel\":{\"align\":\"left\"},\"hovermode\":\"closest\",\"mapbox\":{\"style\":\"light\"},\"paper_bgcolor\":\"white\",\"plot_bgcolor\":\"#E5ECF6\",\"polar\":{\"angularaxis\":{\"gridcolor\":\"white\",\"linecolor\":\"white\",\"ticks\":\"\"},\"bgcolor\":\"#E5ECF6\",\"radialaxis\":{\"gridcolor\":\"white\",\"linecolor\":\"white\",\"ticks\":\"\"}},\"scene\":{\"xaxis\":{\"backgroundcolor\":\"#E5ECF6\",\"gridcolor\":\"white\",\"gridwidth\":2,\"linecolor\":\"white\",\"showbackground\":true,\"ticks\":\"\",\"zerolinecolor\":\"white\"},\"yaxis\":{\"backgroundcolor\":\"#E5ECF6\",\"gridcolor\":\"white\",\"gridwidth\":2,\"linecolor\":\"white\",\"showbackground\":true,\"ticks\":\"\",\"zerolinecolor\":\"white\"},\"zaxis\":{\"backgroundcolor\":\"#E5ECF6\",\"gridcolor\":\"white\",\"gridwidth\":2,\"linecolor\":\"white\",\"showbackground\":true,\"ticks\":\"\",\"zerolinecolor\":\"white\"}},\"shapedefaults\":{\"line\":{\"color\":\"#2a3f5f\"}},\"ternary\":{\"aaxis\":{\"gridcolor\":\"white\",\"linecolor\":\"white\",\"ticks\":\"\"},\"baxis\":{\"gridcolor\":\"white\",\"linecolor\":\"white\",\"ticks\":\"\"},\"bgcolor\":\"#E5ECF6\",\"caxis\":{\"gridcolor\":\"white\",\"linecolor\":\"white\",\"ticks\":\"\"}},\"title\":{\"x\":0.05},\"xaxis\":{\"automargin\":true,\"gridcolor\":\"white\",\"linecolor\":\"white\",\"ticks\":\"\",\"title\":{\"standoff\":15},\"zerolinecolor\":\"white\",\"zerolinewidth\":2},\"yaxis\":{\"automargin\":true,\"gridcolor\":\"white\",\"linecolor\":\"white\",\"ticks\":\"\",\"title\":{\"standoff\":15},\"zerolinecolor\":\"white\",\"zerolinewidth\":2}}},\"xaxis\":{\"anchor\":\"y\",\"domain\":[0.0,0.7363],\"title\":{\"text\":\"Date\"}},\"xaxis2\":{\"anchor\":\"y2\",\"domain\":[0.7413,1.0],\"matches\":\"x2\",\"showgrid\":false,\"showline\":false,\"showticklabels\":false,\"ticks\":\"\"},\"yaxis\":{\"anchor\":\"x\",\"domain\":[0.0,1.0],\"title\":{\"text\":\"Vitesse en 24H\"}},\"yaxis2\":{\"anchor\":\"x2\",\"domain\":[0.0,1.0],\"matches\":\"y\",\"showgrid\":true,\"showticklabels\":false}},                        {\"responsive\": true}                    ).then(function(){\n",
       "                            \n",
       "var gd = document.getElementById('92492ce4-6b25-4c0e-99d4-51357a19e302');\n",
       "var x = new MutationObserver(function (mutations, observer) {{\n",
       "        var display = window.getComputedStyle(gd).display;\n",
       "        if (!display || display === 'none') {{\n",
       "            console.log([gd, 'removed!']);\n",
       "            Plotly.purge(gd);\n",
       "            observer.disconnect();\n",
       "        }}\n",
       "}});\n",
       "\n",
       "// Listen for the removal of the full notebook cells\n",
       "var notebookContainer = gd.closest('#notebook-container');\n",
       "if (notebookContainer) {{\n",
       "    x.observe(notebookContainer, {childList: true});\n",
       "}}\n",
       "\n",
       "// Listen for the clearing of the current output cell\n",
       "var outputEl = gd.closest('.output');\n",
       "if (outputEl) {{\n",
       "    x.observe(outputEl, {childList: true});\n",
       "}}\n",
       "\n",
       "                        })                };                });            </script>        </div>"
      ]
     },
     "metadata": {},
     "output_type": "display_data"
    },
    {
     "name": "stdout",
     "output_type": "stream",
     "text": [
      "En observant la distribution, on constae que les bateaux équipés de foils vont légérement plus vite que les autres\n"
     ]
    }
   ],
   "source": [
    "dates = pd.date_range(start=df_ranks.index.get_level_values(0)[0], end=df_ranks.index.get_level_values(0)[-1], freq='D')\n",
    "df_dist = df_merged.loc[dates,[\"Depuis 24 heuresVitesse\", \"Nombre de dérives\"]].reset_index(0)\n",
    "df_dist[\"Nombre de dérives\"] = df_dist[\"Nombre de dérives\"].str.replace(\"foiler\", \"foils\")\n",
    "df_dist[\"Nombre de dérives\"] = df_dist[\"Nombre de dérives\"].str.replace(\"2 asymétriques\", \"2\")\n",
    "fig_dist = px.scatter(x=df_dist[\"Date\"], y=df_dist[\"Depuis 24 heuresVitesse\"], color=df_dist[\"Nombre de dérives\"], marginal_y=\"box\" ,labels={'x':\"Date\", 'y':\"Vitesse en 24H\"})\n",
    "fig_dist.show()\n",
    "print(\"En observant la distribution, on constae que les bateaux équipés de foils vont légérement plus vite que les autres\")"
   ]
  },
  {
   "cell_type": "markdown",
   "metadata": {},
   "source": [
    "### Regression linéaire entre classement et la vitesse (VMG)"
   ]
  },
  {
   "cell_type": "code",
   "execution_count": 27,
   "metadata": {},
   "outputs": [
    {
     "data": {
      "application/vnd.plotly.v1+json": {
       "config": {
        "plotlyServerURL": "https://plot.ly"
       },
       "data": [
        {
         "hovertemplate": "VMG=%{x}<br>Rang=%{y}<extra></extra>",
         "legendgroup": "",
         "marker": {
          "color": "#636efa",
          "symbol": "circle"
         },
         "mode": "markers",
         "name": "",
         "orientation": "v",
         "showlegend": false,
         "type": "scatter",
         "x": [
          10.640124740124742,
          9.253846153846153,
          12.344906444906444,
          12.290228690228691,
          12.459043659043658,
          12.516424116424115,
          12.582536382536382,
          11.764656964656965,
          11.285862785862786,
          10.103326403326404,
          12.169854469854469,
          12.516216216216216,
          10.16964656964657,
          9.289604989604989,
          11.11975051975052,
          10.106029106029107,
          10.798752598752598,
          12.079002079002079,
          10.715176715176716,
          12.46008316008316,
          10.754469854469853,
          12.539916839916842,
          10.880041580041581
         ],
         "xaxis": "x",
         "y": [
          19.995841995841996,
          26.39085239085239,
          5.600831600831601,
          7.548856548856548,
          6.382536382536382,
          4.38045738045738,
          6.814968814968815,
          13.640332640332641,
          13.403326403326403,
          23.854469854469855,
          10.677754677754677,
          3.5218295218295217,
          21.031185031185032,
          25.13929313929314,
          22.37214137214137,
          24.948024948024948,
          17.896049896049895,
          16.355509355509355,
          19.22869022869023,
          10.455301455301456,
          23.13929313929314,
          6.945945945945946,
          16.343035343035343
         ],
         "yaxis": "y"
        },
        {
         "hovertemplate": "<b>OLS trendline</b><br>y = -6.44255 * x + 88.1103<br>R<sup>2</sup>=0.867804<br><br>VMG=%{x}<br>Rang=%{y} <b>(trend)</b><extra></extra>",
         "legendgroup": "",
         "marker": {
          "color": "#636efa",
          "symbol": "circle"
         },
         "mode": "lines",
         "name": "",
         "showlegend": false,
         "type": "scatter",
         "x": [
          9.253846153846153,
          9.289604989604989,
          10.103326403326404,
          10.106029106029107,
          10.16964656964657,
          10.640124740124742,
          10.715176715176716,
          10.754469854469853,
          10.798752598752598,
          10.880041580041581,
          11.11975051975052,
          11.285862785862786,
          11.764656964656965,
          12.079002079002079,
          12.169854469854469,
          12.290228690228691,
          12.344906444906444,
          12.459043659043658,
          12.46008316008316,
          12.516216216216216,
          12.516424116424115,
          12.539916839916842,
          12.582536382536382
         ],
         "xaxis": "x",
         "y": [
          28.491975225876615,
          28.261597283757702,
          23.0191596939122,
          23.001747407589264,
          22.591888975680035,
          19.560811748848053,
          19.077285951726395,
          18.824138096723644,
          18.538844482355458,
          18.01513648602699,
          16.470800629846153,
          15.400614724305385,
          12.315961231864364,
          10.290778391842295,
          9.70545769006344,
          8.929941245372433,
          8.577677298992953,
          7.842343053508742,
          7.835646020307607,
          7.474006227446523,
          7.47266682080631,
          7.3213138704607275,
          7.046735509214358
         ],
         "yaxis": "y"
        }
       ],
       "layout": {
        "legend": {
         "tracegroupgap": 0
        },
        "margin": {
         "t": 60
        },
        "template": {
         "data": {
          "bar": [
           {
            "error_x": {
             "color": "#2a3f5f"
            },
            "error_y": {
             "color": "#2a3f5f"
            },
            "marker": {
             "line": {
              "color": "#E5ECF6",
              "width": 0.5
             },
             "pattern": {
              "fillmode": "overlay",
              "size": 10,
              "solidity": 0.2
             }
            },
            "type": "bar"
           }
          ],
          "barpolar": [
           {
            "marker": {
             "line": {
              "color": "#E5ECF6",
              "width": 0.5
             },
             "pattern": {
              "fillmode": "overlay",
              "size": 10,
              "solidity": 0.2
             }
            },
            "type": "barpolar"
           }
          ],
          "carpet": [
           {
            "aaxis": {
             "endlinecolor": "#2a3f5f",
             "gridcolor": "white",
             "linecolor": "white",
             "minorgridcolor": "white",
             "startlinecolor": "#2a3f5f"
            },
            "baxis": {
             "endlinecolor": "#2a3f5f",
             "gridcolor": "white",
             "linecolor": "white",
             "minorgridcolor": "white",
             "startlinecolor": "#2a3f5f"
            },
            "type": "carpet"
           }
          ],
          "choropleth": [
           {
            "colorbar": {
             "outlinewidth": 0,
             "ticks": ""
            },
            "type": "choropleth"
           }
          ],
          "contour": [
           {
            "colorbar": {
             "outlinewidth": 0,
             "ticks": ""
            },
            "colorscale": [
             [
              0,
              "#0d0887"
             ],
             [
              0.1111111111111111,
              "#46039f"
             ],
             [
              0.2222222222222222,
              "#7201a8"
             ],
             [
              0.3333333333333333,
              "#9c179e"
             ],
             [
              0.4444444444444444,
              "#bd3786"
             ],
             [
              0.5555555555555556,
              "#d8576b"
             ],
             [
              0.6666666666666666,
              "#ed7953"
             ],
             [
              0.7777777777777778,
              "#fb9f3a"
             ],
             [
              0.8888888888888888,
              "#fdca26"
             ],
             [
              1,
              "#f0f921"
             ]
            ],
            "type": "contour"
           }
          ],
          "contourcarpet": [
           {
            "colorbar": {
             "outlinewidth": 0,
             "ticks": ""
            },
            "type": "contourcarpet"
           }
          ],
          "heatmap": [
           {
            "colorbar": {
             "outlinewidth": 0,
             "ticks": ""
            },
            "colorscale": [
             [
              0,
              "#0d0887"
             ],
             [
              0.1111111111111111,
              "#46039f"
             ],
             [
              0.2222222222222222,
              "#7201a8"
             ],
             [
              0.3333333333333333,
              "#9c179e"
             ],
             [
              0.4444444444444444,
              "#bd3786"
             ],
             [
              0.5555555555555556,
              "#d8576b"
             ],
             [
              0.6666666666666666,
              "#ed7953"
             ],
             [
              0.7777777777777778,
              "#fb9f3a"
             ],
             [
              0.8888888888888888,
              "#fdca26"
             ],
             [
              1,
              "#f0f921"
             ]
            ],
            "type": "heatmap"
           }
          ],
          "heatmapgl": [
           {
            "colorbar": {
             "outlinewidth": 0,
             "ticks": ""
            },
            "colorscale": [
             [
              0,
              "#0d0887"
             ],
             [
              0.1111111111111111,
              "#46039f"
             ],
             [
              0.2222222222222222,
              "#7201a8"
             ],
             [
              0.3333333333333333,
              "#9c179e"
             ],
             [
              0.4444444444444444,
              "#bd3786"
             ],
             [
              0.5555555555555556,
              "#d8576b"
             ],
             [
              0.6666666666666666,
              "#ed7953"
             ],
             [
              0.7777777777777778,
              "#fb9f3a"
             ],
             [
              0.8888888888888888,
              "#fdca26"
             ],
             [
              1,
              "#f0f921"
             ]
            ],
            "type": "heatmapgl"
           }
          ],
          "histogram": [
           {
            "marker": {
             "pattern": {
              "fillmode": "overlay",
              "size": 10,
              "solidity": 0.2
             }
            },
            "type": "histogram"
           }
          ],
          "histogram2d": [
           {
            "colorbar": {
             "outlinewidth": 0,
             "ticks": ""
            },
            "colorscale": [
             [
              0,
              "#0d0887"
             ],
             [
              0.1111111111111111,
              "#46039f"
             ],
             [
              0.2222222222222222,
              "#7201a8"
             ],
             [
              0.3333333333333333,
              "#9c179e"
             ],
             [
              0.4444444444444444,
              "#bd3786"
             ],
             [
              0.5555555555555556,
              "#d8576b"
             ],
             [
              0.6666666666666666,
              "#ed7953"
             ],
             [
              0.7777777777777778,
              "#fb9f3a"
             ],
             [
              0.8888888888888888,
              "#fdca26"
             ],
             [
              1,
              "#f0f921"
             ]
            ],
            "type": "histogram2d"
           }
          ],
          "histogram2dcontour": [
           {
            "colorbar": {
             "outlinewidth": 0,
             "ticks": ""
            },
            "colorscale": [
             [
              0,
              "#0d0887"
             ],
             [
              0.1111111111111111,
              "#46039f"
             ],
             [
              0.2222222222222222,
              "#7201a8"
             ],
             [
              0.3333333333333333,
              "#9c179e"
             ],
             [
              0.4444444444444444,
              "#bd3786"
             ],
             [
              0.5555555555555556,
              "#d8576b"
             ],
             [
              0.6666666666666666,
              "#ed7953"
             ],
             [
              0.7777777777777778,
              "#fb9f3a"
             ],
             [
              0.8888888888888888,
              "#fdca26"
             ],
             [
              1,
              "#f0f921"
             ]
            ],
            "type": "histogram2dcontour"
           }
          ],
          "mesh3d": [
           {
            "colorbar": {
             "outlinewidth": 0,
             "ticks": ""
            },
            "type": "mesh3d"
           }
          ],
          "parcoords": [
           {
            "line": {
             "colorbar": {
              "outlinewidth": 0,
              "ticks": ""
             }
            },
            "type": "parcoords"
           }
          ],
          "pie": [
           {
            "automargin": true,
            "type": "pie"
           }
          ],
          "scatter": [
           {
            "marker": {
             "colorbar": {
              "outlinewidth": 0,
              "ticks": ""
             }
            },
            "type": "scatter"
           }
          ],
          "scatter3d": [
           {
            "line": {
             "colorbar": {
              "outlinewidth": 0,
              "ticks": ""
             }
            },
            "marker": {
             "colorbar": {
              "outlinewidth": 0,
              "ticks": ""
             }
            },
            "type": "scatter3d"
           }
          ],
          "scattercarpet": [
           {
            "marker": {
             "colorbar": {
              "outlinewidth": 0,
              "ticks": ""
             }
            },
            "type": "scattercarpet"
           }
          ],
          "scattergeo": [
           {
            "marker": {
             "colorbar": {
              "outlinewidth": 0,
              "ticks": ""
             }
            },
            "type": "scattergeo"
           }
          ],
          "scattergl": [
           {
            "marker": {
             "colorbar": {
              "outlinewidth": 0,
              "ticks": ""
             }
            },
            "type": "scattergl"
           }
          ],
          "scattermapbox": [
           {
            "marker": {
             "colorbar": {
              "outlinewidth": 0,
              "ticks": ""
             }
            },
            "type": "scattermapbox"
           }
          ],
          "scatterpolar": [
           {
            "marker": {
             "colorbar": {
              "outlinewidth": 0,
              "ticks": ""
             }
            },
            "type": "scatterpolar"
           }
          ],
          "scatterpolargl": [
           {
            "marker": {
             "colorbar": {
              "outlinewidth": 0,
              "ticks": ""
             }
            },
            "type": "scatterpolargl"
           }
          ],
          "scatterternary": [
           {
            "marker": {
             "colorbar": {
              "outlinewidth": 0,
              "ticks": ""
             }
            },
            "type": "scatterternary"
           }
          ],
          "surface": [
           {
            "colorbar": {
             "outlinewidth": 0,
             "ticks": ""
            },
            "colorscale": [
             [
              0,
              "#0d0887"
             ],
             [
              0.1111111111111111,
              "#46039f"
             ],
             [
              0.2222222222222222,
              "#7201a8"
             ],
             [
              0.3333333333333333,
              "#9c179e"
             ],
             [
              0.4444444444444444,
              "#bd3786"
             ],
             [
              0.5555555555555556,
              "#d8576b"
             ],
             [
              0.6666666666666666,
              "#ed7953"
             ],
             [
              0.7777777777777778,
              "#fb9f3a"
             ],
             [
              0.8888888888888888,
              "#fdca26"
             ],
             [
              1,
              "#f0f921"
             ]
            ],
            "type": "surface"
           }
          ],
          "table": [
           {
            "cells": {
             "fill": {
              "color": "#EBF0F8"
             },
             "line": {
              "color": "white"
             }
            },
            "header": {
             "fill": {
              "color": "#C8D4E3"
             },
             "line": {
              "color": "white"
             }
            },
            "type": "table"
           }
          ]
         },
         "layout": {
          "annotationdefaults": {
           "arrowcolor": "#2a3f5f",
           "arrowhead": 0,
           "arrowwidth": 1
          },
          "autotypenumbers": "strict",
          "coloraxis": {
           "colorbar": {
            "outlinewidth": 0,
            "ticks": ""
           }
          },
          "colorscale": {
           "diverging": [
            [
             0,
             "#8e0152"
            ],
            [
             0.1,
             "#c51b7d"
            ],
            [
             0.2,
             "#de77ae"
            ],
            [
             0.3,
             "#f1b6da"
            ],
            [
             0.4,
             "#fde0ef"
            ],
            [
             0.5,
             "#f7f7f7"
            ],
            [
             0.6,
             "#e6f5d0"
            ],
            [
             0.7,
             "#b8e186"
            ],
            [
             0.8,
             "#7fbc41"
            ],
            [
             0.9,
             "#4d9221"
            ],
            [
             1,
             "#276419"
            ]
           ],
           "sequential": [
            [
             0,
             "#0d0887"
            ],
            [
             0.1111111111111111,
             "#46039f"
            ],
            [
             0.2222222222222222,
             "#7201a8"
            ],
            [
             0.3333333333333333,
             "#9c179e"
            ],
            [
             0.4444444444444444,
             "#bd3786"
            ],
            [
             0.5555555555555556,
             "#d8576b"
            ],
            [
             0.6666666666666666,
             "#ed7953"
            ],
            [
             0.7777777777777778,
             "#fb9f3a"
            ],
            [
             0.8888888888888888,
             "#fdca26"
            ],
            [
             1,
             "#f0f921"
            ]
           ],
           "sequentialminus": [
            [
             0,
             "#0d0887"
            ],
            [
             0.1111111111111111,
             "#46039f"
            ],
            [
             0.2222222222222222,
             "#7201a8"
            ],
            [
             0.3333333333333333,
             "#9c179e"
            ],
            [
             0.4444444444444444,
             "#bd3786"
            ],
            [
             0.5555555555555556,
             "#d8576b"
            ],
            [
             0.6666666666666666,
             "#ed7953"
            ],
            [
             0.7777777777777778,
             "#fb9f3a"
            ],
            [
             0.8888888888888888,
             "#fdca26"
            ],
            [
             1,
             "#f0f921"
            ]
           ]
          },
          "colorway": [
           "#636efa",
           "#EF553B",
           "#00cc96",
           "#ab63fa",
           "#FFA15A",
           "#19d3f3",
           "#FF6692",
           "#B6E880",
           "#FF97FF",
           "#FECB52"
          ],
          "font": {
           "color": "#2a3f5f"
          },
          "geo": {
           "bgcolor": "white",
           "lakecolor": "white",
           "landcolor": "#E5ECF6",
           "showlakes": true,
           "showland": true,
           "subunitcolor": "white"
          },
          "hoverlabel": {
           "align": "left"
          },
          "hovermode": "closest",
          "mapbox": {
           "style": "light"
          },
          "paper_bgcolor": "white",
          "plot_bgcolor": "#E5ECF6",
          "polar": {
           "angularaxis": {
            "gridcolor": "white",
            "linecolor": "white",
            "ticks": ""
           },
           "bgcolor": "#E5ECF6",
           "radialaxis": {
            "gridcolor": "white",
            "linecolor": "white",
            "ticks": ""
           }
          },
          "scene": {
           "xaxis": {
            "backgroundcolor": "#E5ECF6",
            "gridcolor": "white",
            "gridwidth": 2,
            "linecolor": "white",
            "showbackground": true,
            "ticks": "",
            "zerolinecolor": "white"
           },
           "yaxis": {
            "backgroundcolor": "#E5ECF6",
            "gridcolor": "white",
            "gridwidth": 2,
            "linecolor": "white",
            "showbackground": true,
            "ticks": "",
            "zerolinecolor": "white"
           },
           "zaxis": {
            "backgroundcolor": "#E5ECF6",
            "gridcolor": "white",
            "gridwidth": 2,
            "linecolor": "white",
            "showbackground": true,
            "ticks": "",
            "zerolinecolor": "white"
           }
          },
          "shapedefaults": {
           "line": {
            "color": "#2a3f5f"
           }
          },
          "ternary": {
           "aaxis": {
            "gridcolor": "white",
            "linecolor": "white",
            "ticks": ""
           },
           "baxis": {
            "gridcolor": "white",
            "linecolor": "white",
            "ticks": ""
           },
           "bgcolor": "#E5ECF6",
           "caxis": {
            "gridcolor": "white",
            "linecolor": "white",
            "ticks": ""
           }
          },
          "title": {
           "x": 0.05
          },
          "xaxis": {
           "automargin": true,
           "gridcolor": "white",
           "linecolor": "white",
           "ticks": "",
           "title": {
            "standoff": 15
           },
           "zerolinecolor": "white",
           "zerolinewidth": 2
          },
          "yaxis": {
           "automargin": true,
           "gridcolor": "white",
           "linecolor": "white",
           "ticks": "",
           "title": {
            "standoff": 15
           },
           "zerolinecolor": "white",
           "zerolinewidth": 2
          }
         }
        },
        "xaxis": {
         "anchor": "y",
         "domain": [
          0,
          1
         ],
         "title": {
          "text": "VMG"
         }
        },
        "yaxis": {
         "anchor": "x",
         "domain": [
          0,
          1
         ],
         "title": {
          "text": "Rang"
         }
        }
       }
      },
      "text/html": [
       "<div>                            <div id=\"2601338a-0c00-402b-9239-fb22af88dc34\" class=\"plotly-graph-div\" style=\"height:525px; width:100%;\"></div>            <script type=\"text/javascript\">                require([\"plotly\"], function(Plotly) {                    window.PLOTLYENV=window.PLOTLYENV || {};                                    if (document.getElementById(\"2601338a-0c00-402b-9239-fb22af88dc34\")) {                    Plotly.newPlot(                        \"2601338a-0c00-402b-9239-fb22af88dc34\",                        [{\"hovertemplate\":\"VMG=%{x}<br>Rang=%{y}<extra></extra>\",\"legendgroup\":\"\",\"marker\":{\"color\":\"#636efa\",\"symbol\":\"circle\"},\"mode\":\"markers\",\"name\":\"\",\"orientation\":\"v\",\"showlegend\":false,\"type\":\"scatter\",\"x\":[10.640124740124742,9.253846153846153,12.344906444906444,12.290228690228691,12.459043659043658,12.516424116424115,12.582536382536382,11.764656964656965,11.285862785862786,10.103326403326404,12.169854469854469,12.516216216216216,10.16964656964657,9.289604989604989,11.11975051975052,10.106029106029107,10.798752598752598,12.079002079002079,10.715176715176716,12.46008316008316,10.754469854469853,12.539916839916842,10.880041580041581],\"xaxis\":\"x\",\"y\":[19.995841995841996,26.39085239085239,5.600831600831601,7.548856548856548,6.382536382536382,4.38045738045738,6.814968814968815,13.640332640332641,13.403326403326403,23.854469854469855,10.677754677754677,3.5218295218295217,21.031185031185032,25.13929313929314,22.37214137214137,24.948024948024948,17.896049896049895,16.355509355509355,19.22869022869023,10.455301455301456,23.13929313929314,6.945945945945946,16.343035343035343],\"yaxis\":\"y\"},{\"hovertemplate\":\"<b>OLS trendline</b><br>y = -6.44255 * x + 88.1103<br>R<sup>2</sup>=0.867804<br><br>VMG=%{x}<br>Rang=%{y} <b>(trend)</b><extra></extra>\",\"legendgroup\":\"\",\"marker\":{\"color\":\"#636efa\",\"symbol\":\"circle\"},\"mode\":\"lines\",\"name\":\"\",\"showlegend\":false,\"type\":\"scatter\",\"x\":[9.253846153846153,9.289604989604989,10.103326403326404,10.106029106029107,10.16964656964657,10.640124740124742,10.715176715176716,10.754469854469853,10.798752598752598,10.880041580041581,11.11975051975052,11.285862785862786,11.764656964656965,12.079002079002079,12.169854469854469,12.290228690228691,12.344906444906444,12.459043659043658,12.46008316008316,12.516216216216216,12.516424116424115,12.539916839916842,12.582536382536382],\"xaxis\":\"x\",\"y\":[28.491975225876615,28.261597283757702,23.0191596939122,23.001747407589264,22.591888975680035,19.560811748848053,19.077285951726395,18.824138096723644,18.538844482355458,18.01513648602699,16.470800629846153,15.400614724305385,12.315961231864364,10.290778391842295,9.70545769006344,8.929941245372433,8.577677298992953,7.842343053508742,7.835646020307607,7.474006227446523,7.47266682080631,7.3213138704607275,7.046735509214358],\"yaxis\":\"y\"}],                        {\"legend\":{\"tracegroupgap\":0},\"margin\":{\"t\":60},\"template\":{\"data\":{\"bar\":[{\"error_x\":{\"color\":\"#2a3f5f\"},\"error_y\":{\"color\":\"#2a3f5f\"},\"marker\":{\"line\":{\"color\":\"#E5ECF6\",\"width\":0.5},\"pattern\":{\"fillmode\":\"overlay\",\"size\":10,\"solidity\":0.2}},\"type\":\"bar\"}],\"barpolar\":[{\"marker\":{\"line\":{\"color\":\"#E5ECF6\",\"width\":0.5},\"pattern\":{\"fillmode\":\"overlay\",\"size\":10,\"solidity\":0.2}},\"type\":\"barpolar\"}],\"carpet\":[{\"aaxis\":{\"endlinecolor\":\"#2a3f5f\",\"gridcolor\":\"white\",\"linecolor\":\"white\",\"minorgridcolor\":\"white\",\"startlinecolor\":\"#2a3f5f\"},\"baxis\":{\"endlinecolor\":\"#2a3f5f\",\"gridcolor\":\"white\",\"linecolor\":\"white\",\"minorgridcolor\":\"white\",\"startlinecolor\":\"#2a3f5f\"},\"type\":\"carpet\"}],\"choropleth\":[{\"colorbar\":{\"outlinewidth\":0,\"ticks\":\"\"},\"type\":\"choropleth\"}],\"contour\":[{\"colorbar\":{\"outlinewidth\":0,\"ticks\":\"\"},\"colorscale\":[[0.0,\"#0d0887\"],[0.1111111111111111,\"#46039f\"],[0.2222222222222222,\"#7201a8\"],[0.3333333333333333,\"#9c179e\"],[0.4444444444444444,\"#bd3786\"],[0.5555555555555556,\"#d8576b\"],[0.6666666666666666,\"#ed7953\"],[0.7777777777777778,\"#fb9f3a\"],[0.8888888888888888,\"#fdca26\"],[1.0,\"#f0f921\"]],\"type\":\"contour\"}],\"contourcarpet\":[{\"colorbar\":{\"outlinewidth\":0,\"ticks\":\"\"},\"type\":\"contourcarpet\"}],\"heatmap\":[{\"colorbar\":{\"outlinewidth\":0,\"ticks\":\"\"},\"colorscale\":[[0.0,\"#0d0887\"],[0.1111111111111111,\"#46039f\"],[0.2222222222222222,\"#7201a8\"],[0.3333333333333333,\"#9c179e\"],[0.4444444444444444,\"#bd3786\"],[0.5555555555555556,\"#d8576b\"],[0.6666666666666666,\"#ed7953\"],[0.7777777777777778,\"#fb9f3a\"],[0.8888888888888888,\"#fdca26\"],[1.0,\"#f0f921\"]],\"type\":\"heatmap\"}],\"heatmapgl\":[{\"colorbar\":{\"outlinewidth\":0,\"ticks\":\"\"},\"colorscale\":[[0.0,\"#0d0887\"],[0.1111111111111111,\"#46039f\"],[0.2222222222222222,\"#7201a8\"],[0.3333333333333333,\"#9c179e\"],[0.4444444444444444,\"#bd3786\"],[0.5555555555555556,\"#d8576b\"],[0.6666666666666666,\"#ed7953\"],[0.7777777777777778,\"#fb9f3a\"],[0.8888888888888888,\"#fdca26\"],[1.0,\"#f0f921\"]],\"type\":\"heatmapgl\"}],\"histogram\":[{\"marker\":{\"pattern\":{\"fillmode\":\"overlay\",\"size\":10,\"solidity\":0.2}},\"type\":\"histogram\"}],\"histogram2d\":[{\"colorbar\":{\"outlinewidth\":0,\"ticks\":\"\"},\"colorscale\":[[0.0,\"#0d0887\"],[0.1111111111111111,\"#46039f\"],[0.2222222222222222,\"#7201a8\"],[0.3333333333333333,\"#9c179e\"],[0.4444444444444444,\"#bd3786\"],[0.5555555555555556,\"#d8576b\"],[0.6666666666666666,\"#ed7953\"],[0.7777777777777778,\"#fb9f3a\"],[0.8888888888888888,\"#fdca26\"],[1.0,\"#f0f921\"]],\"type\":\"histogram2d\"}],\"histogram2dcontour\":[{\"colorbar\":{\"outlinewidth\":0,\"ticks\":\"\"},\"colorscale\":[[0.0,\"#0d0887\"],[0.1111111111111111,\"#46039f\"],[0.2222222222222222,\"#7201a8\"],[0.3333333333333333,\"#9c179e\"],[0.4444444444444444,\"#bd3786\"],[0.5555555555555556,\"#d8576b\"],[0.6666666666666666,\"#ed7953\"],[0.7777777777777778,\"#fb9f3a\"],[0.8888888888888888,\"#fdca26\"],[1.0,\"#f0f921\"]],\"type\":\"histogram2dcontour\"}],\"mesh3d\":[{\"colorbar\":{\"outlinewidth\":0,\"ticks\":\"\"},\"type\":\"mesh3d\"}],\"parcoords\":[{\"line\":{\"colorbar\":{\"outlinewidth\":0,\"ticks\":\"\"}},\"type\":\"parcoords\"}],\"pie\":[{\"automargin\":true,\"type\":\"pie\"}],\"scatter\":[{\"marker\":{\"colorbar\":{\"outlinewidth\":0,\"ticks\":\"\"}},\"type\":\"scatter\"}],\"scatter3d\":[{\"line\":{\"colorbar\":{\"outlinewidth\":0,\"ticks\":\"\"}},\"marker\":{\"colorbar\":{\"outlinewidth\":0,\"ticks\":\"\"}},\"type\":\"scatter3d\"}],\"scattercarpet\":[{\"marker\":{\"colorbar\":{\"outlinewidth\":0,\"ticks\":\"\"}},\"type\":\"scattercarpet\"}],\"scattergeo\":[{\"marker\":{\"colorbar\":{\"outlinewidth\":0,\"ticks\":\"\"}},\"type\":\"scattergeo\"}],\"scattergl\":[{\"marker\":{\"colorbar\":{\"outlinewidth\":0,\"ticks\":\"\"}},\"type\":\"scattergl\"}],\"scattermapbox\":[{\"marker\":{\"colorbar\":{\"outlinewidth\":0,\"ticks\":\"\"}},\"type\":\"scattermapbox\"}],\"scatterpolar\":[{\"marker\":{\"colorbar\":{\"outlinewidth\":0,\"ticks\":\"\"}},\"type\":\"scatterpolar\"}],\"scatterpolargl\":[{\"marker\":{\"colorbar\":{\"outlinewidth\":0,\"ticks\":\"\"}},\"type\":\"scatterpolargl\"}],\"scatterternary\":[{\"marker\":{\"colorbar\":{\"outlinewidth\":0,\"ticks\":\"\"}},\"type\":\"scatterternary\"}],\"surface\":[{\"colorbar\":{\"outlinewidth\":0,\"ticks\":\"\"},\"colorscale\":[[0.0,\"#0d0887\"],[0.1111111111111111,\"#46039f\"],[0.2222222222222222,\"#7201a8\"],[0.3333333333333333,\"#9c179e\"],[0.4444444444444444,\"#bd3786\"],[0.5555555555555556,\"#d8576b\"],[0.6666666666666666,\"#ed7953\"],[0.7777777777777778,\"#fb9f3a\"],[0.8888888888888888,\"#fdca26\"],[1.0,\"#f0f921\"]],\"type\":\"surface\"}],\"table\":[{\"cells\":{\"fill\":{\"color\":\"#EBF0F8\"},\"line\":{\"color\":\"white\"}},\"header\":{\"fill\":{\"color\":\"#C8D4E3\"},\"line\":{\"color\":\"white\"}},\"type\":\"table\"}]},\"layout\":{\"annotationdefaults\":{\"arrowcolor\":\"#2a3f5f\",\"arrowhead\":0,\"arrowwidth\":1},\"autotypenumbers\":\"strict\",\"coloraxis\":{\"colorbar\":{\"outlinewidth\":0,\"ticks\":\"\"}},\"colorscale\":{\"diverging\":[[0,\"#8e0152\"],[0.1,\"#c51b7d\"],[0.2,\"#de77ae\"],[0.3,\"#f1b6da\"],[0.4,\"#fde0ef\"],[0.5,\"#f7f7f7\"],[0.6,\"#e6f5d0\"],[0.7,\"#b8e186\"],[0.8,\"#7fbc41\"],[0.9,\"#4d9221\"],[1,\"#276419\"]],\"sequential\":[[0.0,\"#0d0887\"],[0.1111111111111111,\"#46039f\"],[0.2222222222222222,\"#7201a8\"],[0.3333333333333333,\"#9c179e\"],[0.4444444444444444,\"#bd3786\"],[0.5555555555555556,\"#d8576b\"],[0.6666666666666666,\"#ed7953\"],[0.7777777777777778,\"#fb9f3a\"],[0.8888888888888888,\"#fdca26\"],[1.0,\"#f0f921\"]],\"sequentialminus\":[[0.0,\"#0d0887\"],[0.1111111111111111,\"#46039f\"],[0.2222222222222222,\"#7201a8\"],[0.3333333333333333,\"#9c179e\"],[0.4444444444444444,\"#bd3786\"],[0.5555555555555556,\"#d8576b\"],[0.6666666666666666,\"#ed7953\"],[0.7777777777777778,\"#fb9f3a\"],[0.8888888888888888,\"#fdca26\"],[1.0,\"#f0f921\"]]},\"colorway\":[\"#636efa\",\"#EF553B\",\"#00cc96\",\"#ab63fa\",\"#FFA15A\",\"#19d3f3\",\"#FF6692\",\"#B6E880\",\"#FF97FF\",\"#FECB52\"],\"font\":{\"color\":\"#2a3f5f\"},\"geo\":{\"bgcolor\":\"white\",\"lakecolor\":\"white\",\"landcolor\":\"#E5ECF6\",\"showlakes\":true,\"showland\":true,\"subunitcolor\":\"white\"},\"hoverlabel\":{\"align\":\"left\"},\"hovermode\":\"closest\",\"mapbox\":{\"style\":\"light\"},\"paper_bgcolor\":\"white\",\"plot_bgcolor\":\"#E5ECF6\",\"polar\":{\"angularaxis\":{\"gridcolor\":\"white\",\"linecolor\":\"white\",\"ticks\":\"\"},\"bgcolor\":\"#E5ECF6\",\"radialaxis\":{\"gridcolor\":\"white\",\"linecolor\":\"white\",\"ticks\":\"\"}},\"scene\":{\"xaxis\":{\"backgroundcolor\":\"#E5ECF6\",\"gridcolor\":\"white\",\"gridwidth\":2,\"linecolor\":\"white\",\"showbackground\":true,\"ticks\":\"\",\"zerolinecolor\":\"white\"},\"yaxis\":{\"backgroundcolor\":\"#E5ECF6\",\"gridcolor\":\"white\",\"gridwidth\":2,\"linecolor\":\"white\",\"showbackground\":true,\"ticks\":\"\",\"zerolinecolor\":\"white\"},\"zaxis\":{\"backgroundcolor\":\"#E5ECF6\",\"gridcolor\":\"white\",\"gridwidth\":2,\"linecolor\":\"white\",\"showbackground\":true,\"ticks\":\"\",\"zerolinecolor\":\"white\"}},\"shapedefaults\":{\"line\":{\"color\":\"#2a3f5f\"}},\"ternary\":{\"aaxis\":{\"gridcolor\":\"white\",\"linecolor\":\"white\",\"ticks\":\"\"},\"baxis\":{\"gridcolor\":\"white\",\"linecolor\":\"white\",\"ticks\":\"\"},\"bgcolor\":\"#E5ECF6\",\"caxis\":{\"gridcolor\":\"white\",\"linecolor\":\"white\",\"ticks\":\"\"}},\"title\":{\"x\":0.05},\"xaxis\":{\"automargin\":true,\"gridcolor\":\"white\",\"linecolor\":\"white\",\"ticks\":\"\",\"title\":{\"standoff\":15},\"zerolinecolor\":\"white\",\"zerolinewidth\":2},\"yaxis\":{\"automargin\":true,\"gridcolor\":\"white\",\"linecolor\":\"white\",\"ticks\":\"\",\"title\":{\"standoff\":15},\"zerolinecolor\":\"white\",\"zerolinewidth\":2}}},\"xaxis\":{\"anchor\":\"y\",\"domain\":[0.0,1.0],\"title\":{\"text\":\"VMG\"}},\"yaxis\":{\"anchor\":\"x\",\"domain\":[0.0,1.0],\"title\":{\"text\":\"Rang\"}}},                        {\"responsive\": true}                    ).then(function(){\n",
       "                            \n",
       "var gd = document.getElementById('2601338a-0c00-402b-9239-fb22af88dc34');\n",
       "var x = new MutationObserver(function (mutations, observer) {{\n",
       "        var display = window.getComputedStyle(gd).display;\n",
       "        if (!display || display === 'none') {{\n",
       "            console.log([gd, 'removed!']);\n",
       "            Plotly.purge(gd);\n",
       "            observer.disconnect();\n",
       "        }}\n",
       "}});\n",
       "\n",
       "// Listen for the removal of the full notebook cells\n",
       "var notebookContainer = gd.closest('#notebook-container');\n",
       "if (notebookContainer) {{\n",
       "    x.observe(notebookContainer, {childList: true});\n",
       "}}\n",
       "\n",
       "// Listen for the clearing of the current output cell\n",
       "var outputEl = gd.closest('.output');\n",
       "if (outputEl) {{\n",
       "    x.observe(outputEl, {childList: true});\n",
       "}}\n",
       "\n",
       "                        })                };                });            </script>        </div>"
      ]
     },
     "metadata": {},
     "output_type": "display_data"
    }
   ],
   "source": [
    "df = df_ranks[[(\"Rang\",''),(\"Depuis 24 heures\", \"VMG\")]].unstack().dropna(axis=1).mean().unstack()\n",
    "fig = px.scatter(y=df.loc[\"Rang\"].squeeze(), x=df.loc[(\"Depuis 24 heures\",\"VMG\")].squeeze(), trendline=\"ols\", labels={'y':\"Rang\", 'x':\"VMG\"})\n",
    "fig.show()\n"
   ]
  },
  {
   "cell_type": "markdown",
   "metadata": {},
   "source": [
    "### Route  des voiliers sur la carte"
   ]
  },
  {
   "cell_type": "code",
   "execution_count": 60,
   "metadata": {},
   "outputs": [
    {
     "data": {
      "application/vnd.plotly.v1+json": {
       "config": {
        "plotlyServerURL": "https://plot.ly"
       },
       "data": [
        {
         "lat": [
          46.415,
          46.25966666666667,
          46.1295,
          45.81966666666667,
          45.74433333333333,
          45.78366666666667,
          45.917833333333334,
          45.5095,
          45.0295,
          44.29783333333334,
          43.48916666666667,
          43.181666666666665,
          42.822833333333335,
          42.544666666666664,
          42.289,
          41.807833333333335,
          41.35483333333333,
          41.163333333333334,
          41.0795,
          40.8495,
          40.6395,
          40.2145,
          39.166,
          38.726333333333336,
          38.5775,
          37.87266666666667,
          37.24916666666667,
          36.957,
          35.299166666666665,
          34.466,
          33.804833333333335,
          33.0075,
          32.257,
          31.117833333333333,
          29.218666666666667,
          28.295333333333332,
          27.724333333333334,
          27.285,
          26.743666666666666,
          25.868166666666667,
          24.437333333333335,
          23.505333333333333,
          22.773666666666667,
          21.96066666666667,
          21.097,
          19.8425,
          17.741666666666667,
          16.5435,
          15.6105,
          14.720333333333333,
          13.905,
          12.868833333333333,
          10.894666666666666,
          9.727833333333333,
          8.778833333333333,
          7.892,
          7.143,
          6.197,
          4.751666666666667,
          3.7635,
          3.1683333333333334,
          2.458833333333333,
          1.7528333333333332,
          0.7761666666666667,
          -1.1003333333333334,
          -2.2243333333333335,
          -3.0768333333333335,
          -3.9158333333333335,
          -4.760666666666666,
          -5.853833333333333,
          -7.853833333333333,
          -8.885,
          -9.682333333333334,
          -10.481833333333334,
          -11.288833333333333,
          -12.338833333333334,
          -14.379333333333333,
          -15.523666666666667,
          -16.314,
          -17.0335,
          -17.761666666666667,
          -18.690833333333334,
          -20.145833333333332,
          -20.981,
          -21.48966666666667,
          -21.956,
          -22.499833333333335,
          -23.241666666666667,
          -24.1545,
          -24.614,
          -24.967333333333332,
          -25.603833333333334,
          -26.106166666666667,
          -26.645333333333333,
          -27.560666666666666,
          -28.019,
          -28.4325,
          -28.900666666666666,
          -29.4315,
          -29.653166666666667,
          -30.1885,
          -30.358166666666666,
          -30.529666666666667,
          -30.704833333333333,
          -30.697333333333333,
          -31.068166666666666,
          -31.379666666666665,
          -31.5805,
          -31.876,
          -32.374833333333335,
          -32.74783333333333,
          -33.35483333333333,
          -34.5835,
          -35.39683333333333,
          -35.88366666666667,
          -36.291333333333334,
          -36.550333333333334,
          -36.84433333333333,
          -37.129333333333335,
          -37.171166666666664,
          -37.1815,
          -37.228833333333334,
          -37.36483333333334,
          -37.53666666666667,
          -37.43366666666667,
          -37.3315,
          -37.900166666666664,
          -38.36383333333333,
          -38.703,
          -39.114666666666665,
          -39.633833333333335,
          -39.97366666666667,
          -40.316,
          -40.70066666666666,
          -40.912333333333336,
          -40.81216666666667,
          -40.631,
          -40.381166666666665,
          -40.20883333333333,
          -40.050666666666665,
          -40.1065,
          -40.0965,
          -40.42933333333333,
          -40.424,
          -39.947833333333335,
          -39.54366666666667,
          -39.062666666666665,
          -38.49166666666667,
          -38.659333333333336,
          -38.70183333333333,
          -38.8435,
          -38.9335,
          -39.05016666666667,
          -39.144333333333336,
          -38.90566666666667,
          -38.717166666666664,
          -38.508833333333335,
          -38.4235,
          -38.376666666666665,
          -38.29633333333334,
          -38.899,
          -39.358333333333334,
          -39.54566666666667,
          -39.6925,
          -39.75266666666667,
          -39.941833333333335,
          -40.029666666666664,
          -39.61633333333333,
          -39.22383333333333,
          -38.89983333333333,
          -38.719833333333334,
          -38.44883333333333,
          -37.945166666666665,
          -38.051,
          -38.345333333333336,
          -38.654,
          -38.953,
          -39.11266666666667,
          -39.33016666666666,
          -39.212,
          -39.029666666666664,
          -39.056,
          -39.0755,
          -39.06616666666667,
          -39.08083333333333,
          -39.4015,
          -39.68933333333333,
          -40.19116666666667,
          -40.78966666666667,
          -41.283,
          -41.75266666666667,
          -42.086,
          -42.3725,
          -42.742,
          -42.97866666666667,
          -43.3015,
          -43.384166666666665,
          -43.39533333333333,
          -43.407,
          -43.403166666666664,
          -43.38166666666667,
          -43.371833333333335,
          -43.108,
          -43.160333333333334,
          -43.18933333333333,
          -43.185833333333335,
          -43.21183333333333,
          -43.41,
          -43.72083333333333,
          -44.09,
          -44.3475,
          -44.493,
          -44.514833333333335,
          -44.49366666666667,
          -44.84166666666667,
          -45.192,
          -45.61383333333333,
          -45.87566666666667,
          -45.947,
          -46.259166666666665,
          -46.74183333333333,
          -47.20583333333333,
          -47.43416666666667,
          -47.863,
          -48.405833333333334,
          -48.779666666666664,
          -48.95616666666667,
          -49.09583333333333,
          -49.22366666666667,
          -49.40383333333333,
          -49.55,
          -49.71516666666667,
          -50.39966666666667,
          -50.61033333333334,
          -50.834833333333336,
          -51.09316666666667,
          -51.36266666666667,
          -51.726166666666664,
          -52.0435,
          -51.93333333333333,
          -51.946,
          -51.898666666666664,
          -51.9315,
          -52.324333333333335,
          -53.0815,
          -53.63916666666667,
          -54.217,
          -54.77633333333333,
          -55.038,
          -54.471,
          -55.056666666666665,
          -55.37533333333333,
          -55.91683333333334,
          -56.280833333333334,
          -56.405166666666666,
          -56.4425,
          -56.23116666666667,
          -56.153,
          -55.965333333333334,
          -55.68633333333333,
          -55.29116666666667,
          -54.70183333333333,
          -54.346,
          -54.121,
          -53.86416666666667,
          -53.60883333333334,
          -53.508,
          -52.91433333333333,
          -52.75566666666667,
          -52.89266666666666,
          -52.964333333333336,
          -52.98133333333333,
          -53.14516666666667,
          -53.722,
          -54.017833333333336,
          -54.07033333333333,
          -54.112833333333334,
          -54.150166666666664,
          -54.2925,
          -54.748,
          -54.86066666666667,
          -54.830333333333336,
          -54.7345,
          -54.728833333333334,
          -54.77733333333333,
          -54.74766666666667,
          -54.78366666666667,
          -54.7725,
          -54.7635,
          -54.784,
          -54.5885,
          -53.6025,
          -53.108666666666664,
          -52.973166666666664,
          -52.70316666666667,
          -52.412,
          -52.064,
          -51.66716666666667,
          -51.72083333333333,
          -51.82266666666666,
          -51.92216666666667,
          -52.07833333333333,
          -52.44,
          -53.431666666666665,
          -53.971666666666664,
          -54.379666666666665,
          -54.769,
          -54.678,
          -54.49366666666667,
          -54.760333333333335,
          -54.9175,
          -54.977666666666664,
          -54.855,
          -54.6815,
          -55.04666666666667,
          -55.57333333333333,
          -55.885,
          -56.3195,
          -56.46366666666667,
          -56.37716666666667,
          -56.46,
          -56.338,
          -56.1325,
          -55.913333333333334,
          -55.65116666666667,
          -55.5095,
          -55.53933333333333,
          -55.68333333333333,
          -55.81333333333333,
          -55.904833333333336,
          -56.3325,
          -56.63616666666667,
          -56.18483333333333,
          -56.369,
          -56.55466666666667,
          -56.17916666666667,
          -56.675,
          -57.17783333333333,
          -57.839,
          -58.51766666666666,
          -58.39783333333333,
          -58.308,
          -58.108333333333334,
          -57.973333333333336,
          -57.7855,
          -57.1425,
          -56.6785,
          -56.34733333333333,
          -55.905833333333334,
          -55.4665,
          -54.843333333333334,
          -53.527166666666666,
          -52.718833333333336,
          -52.099666666666664,
          -51.55166666666667,
          -50.9635,
          -50.26916666666666,
          -49.296,
          -48.89816666666667,
          -48.57216666666667,
          -48.314166666666665,
          -47.985166666666665,
          -47.57416666666667,
          -46.98683333333334,
          -46.745,
          -46.26266666666667,
          -45.69716666666667,
          -45.1345,
          -44.39366666666667,
          -43.778,
          -43.445,
          -42.86066666666667,
          -42.281666666666666,
          -41.803,
          -40.62716666666667,
          -38.93,
          -37.81783333333333,
          -36.974666666666664,
          -36.153166666666664,
          -35.4585,
          -34.7575,
          -33.581,
          -32.64266666666666,
          -31.857666666666667,
          -31.156166666666667,
          -30.494,
          -29.574333333333332,
          -27.889333333333333,
          -26.987833333333334,
          -26.464333333333332,
          -25.937666666666665,
          -25.4715,
          -24.955166666666667,
          -24.03783333333333,
          -23.281166666666667,
          -22.728,
          -22.226333333333333,
          -21.782333333333334,
          -21.3055,
          -19.869333333333334,
          -18.9955,
          -18.403166666666667,
          -18.181333333333335,
          -17.642333333333333,
          -16.842166666666667,
          -15.210833333333333,
          -14.316666666666666,
          -13.576166666666667,
          -12.807833333333333,
          -12.034,
          -11.105833333333333,
          -9.385333333333334,
          -8.377,
          -7.553,
          -6.740166666666667,
          -5.940666666666667,
          -4.796,
          -2.7201666666666666,
          -1.6128333333333333,
          -0.8493333333333334,
          -0.15966666666666668,
          0.522,
          1.3545,
          2.1066666666666665,
          2.466,
          2.8401666666666667,
          3.1715,
          3.2733333333333334,
          4.129166666666666,
          5.6353333333333335,
          6.422166666666667,
          7.087,
          7.708333333333333,
          8.401333333333334,
          9.432333333333334,
          11.1325,
          12.007,
          12.763,
          13.5515,
          14.327666666666667,
          15.318,
          17.121,
          18.102,
          18.907,
          19.693,
          20.499166666666667,
          21.515166666666666,
          23.086666666666666,
          23.951666666666668,
          24.691833333333335,
          25.4555,
          26.112666666666666,
          26.5925,
          27.7675,
          28.5455,
          29.017666666666667,
          29.687833333333334,
          30.409,
          31.2495,
          32.79183333333334,
          33.83233333333333,
          34.31183333333333,
          34.75416666666667,
          35.07983333333333,
          35.49883333333333,
          36.351,
          36.7235,
          36.978,
          37.30566666666667,
          38.11183333333334,
          38.9345,
          39.5855,
          40.1075,
          40.567,
          40.93866666666667,
          41.3485,
          41.95366666666666,
          43.10666666666667,
          43.804833333333335,
          44.3355,
          44.705333333333336
         ],
         "line": {
          "color": "green",
          "width": 1.5
         },
         "lon": [
          -1.8248333333333333,
          -2.318,
          -2.974666666666667,
          -4.2476666666666665,
          -5.9425,
          -6.868666666666667,
          -7.572666666666667,
          -7.805833333333333,
          -8.1935,
          -8.748,
          -9.046166666666666,
          -9.343166666666667,
          -9.698,
          -10.384666666666666,
          -10.909666666666666,
          -11.8315,
          -13.693666666666667,
          -14.95,
          -15.596,
          -16.221333333333334,
          -16.922833333333333,
          -17.663166666666665,
          -19.2785,
          -20.453666666666667,
          -20.869,
          -21.604,
          -22.177833333333332,
          -23.182333333333332,
          -23.999166666666667,
          -24.600833333333334,
          -25.035333333333334,
          -25.3645,
          -25.617,
          -25.941833333333335,
          -26.525666666666666,
          -27.236,
          -27.830166666666667,
          -28.408,
          -28.179333333333332,
          -27.926333333333332,
          -28.088333333333335,
          -28.086,
          -28.142,
          -28.156333333333333,
          -28.2395,
          -28.338833333333334,
          -28.539666666666665,
          -28.544333333333334,
          -28.576,
          -28.543,
          -28.460833333333333,
          -28.221166666666665,
          -28.165333333333333,
          -28.1795,
          -28.092166666666667,
          -28.079,
          -28.05516666666667,
          -28.094833333333334,
          -28.296333333333333,
          -28.506333333333334,
          -28.646166666666666,
          -28.825666666666667,
          -29.018166666666666,
          -29.3245,
          -29.617833333333333,
          -29.801,
          -30.012166666666666,
          -30.1265,
          -30.278333333333332,
          -30.465166666666665,
          -30.683666666666667,
          -30.610166666666668,
          -30.4595,
          -30.343,
          -30.2565,
          -29.983333333333334,
          -29.562833333333334,
          -29.086833333333335,
          -28.769166666666667,
          -28.345666666666666,
          -27.973666666666666,
          -27.449,
          -26.6825,
          -26.206166666666668,
          -25.949166666666667,
          -25.6375,
          -25.285166666666665,
          -24.931833333333334,
          -24.4215,
          -24.096666666666668,
          -23.799166666666668,
          -23.335833333333333,
          -22.841666666666665,
          -22.165166666666668,
          -21.6465,
          -21.2245,
          -20.936833333333333,
          -20.838166666666666,
          -21.0385,
          -20.878333333333334,
          -20.423166666666667,
          -20.203,
          -19.839166666666667,
          -19.7165,
          -19.270166666666668,
          -19.215333333333334,
          -18.211,
          -17.564833333333333,
          -17.441666666666666,
          -17.4825,
          -17.706833333333332,
          -17.783833333333334,
          -17.05,
          -16.3545,
          -15.696833333333334,
          -14.8135,
          -13.952333333333334,
          -12.896333333333333,
          -10.545833333333333,
          -9.3535,
          -8.386666666666667,
          -7.539,
          -6.5841666666666665,
          -5.1771666666666665,
          -2.5326666666666666,
          -1.156,
          -0.4671666666666667,
          0.4341666666666667,
          1.4391666666666667,
          2.7756666666666665,
          5.159,
          6.6530000000000005,
          7.701833333333333,
          8.642333333333333,
          9.263333333333334,
          9.221,
          9.814166666666667,
          11.277333333333333,
          12.298,
          13.301,
          14.446,
          15.922666666666666,
          18.148666666666667,
          19.202333333333332,
          20.1905,
          21.233833333333333,
          22.222,
          23.326666666666668,
          25.847166666666666,
          27.203666666666667,
          28.324833333333334,
          29.4355,
          30.532,
          32.11716666666667,
          34.935,
          36.720333333333336,
          37.994166666666665,
          39.038666666666664,
          40.191,
          41.602666666666664,
          44.13166666666667,
          45.525166666666664,
          46.717166666666664,
          47.92483333333333,
          49.048,
          50.3115,
          51.90566666666667,
          53.04,
          54.07233333333333,
          55.16983333333334,
          56.368,
          58.0635,
          61.075833333333335,
          62.66416666666667,
          63.629333333333335,
          64.46383333333333,
          65.285,
          66.25033333333333,
          67.15433333333333,
          67.7955,
          68.423,
          69.16933333333333,
          69.877,
          71.0045,
          72.97333333333333,
          74.28266666666667,
          75.21233333333333,
          75.97016666666667,
          76.62733333333334,
          77.81,
          80.1175,
          81.34733333333334,
          82.26216666666667,
          83.29466666666667,
          84.42333333333333,
          86.03683333333333,
          88.88283333333334,
          90.46283333333334,
          91.41183333333333,
          92.58183333333334,
          93.67366666666666,
          95.342,
          98.1595,
          99.8135,
          101.1745,
          102.3935,
          103.32066666666667,
          104.516,
          106.69733333333333,
          107.90433333333333,
          108.90266666666666,
          109.89083333333333,
          111.11766666666666,
          112.86833333333334,
          115.68666666666667,
          117.2485,
          118.25816666666667,
          119.08983333333333,
          119.986,
          120.547,
          121.11,
          121.3845,
          121.71683333333333,
          122.28633333333333,
          122.84066666666666,
          123.8055,
          126.36433333333333,
          127.98983333333334,
          129.2065,
          130.50366666666667,
          131.87366666666668,
          133.56516666666667,
          136.65316666666666,
          138.55116666666666,
          139.93833333333333,
          141.31933333333333,
          142.62083333333334,
          144.30883333333333,
          147.64466666666667,
          149.31866666666667,
          150.4865,
          151.7605,
          152.82816666666668,
          153.96966666666665,
          155.75633333333334,
          156.54566666666668,
          157.278,
          157.81216666666666,
          158.65833333333333,
          163.46566666666666,
          164.90333333333334,
          165.71466666666666,
          166.51933333333332,
          167.45933333333332,
          169.03533333333334,
          172.33416666666668,
          174.085,
          175.302,
          176.45316666666668,
          177.77033333333333,
          179.39633333333333,
          -177.81866666666667,
          -176.36316666666667,
          -175.40483333333333,
          -174.52,
          -173.54766666666666,
          -172.13483333333335,
          -170.043,
          -168.83733333333333,
          -168.17616666666666,
          -167.66466666666668,
          -167.232,
          -166.79383333333334,
          -165.02316666666667,
          -163.70083333333332,
          -162.70183333333333,
          -161.73783333333333,
          -160.563,
          -159.34683333333334,
          -156.983,
          -155.59566666666666,
          -154.79083333333332,
          -154.10833333333332,
          -153.57133333333334,
          -152.633,
          -151.4435,
          -150.628,
          -149.86716666666666,
          -149.21716666666666,
          -148.614,
          -147.91283333333334,
          -146.63083333333333,
          -146.04066666666668,
          -145.49116666666666,
          -144.83566666666667,
          -144.04483333333334,
          -142.62283333333335,
          -139.39766666666668,
          -137.51366666666667,
          -136.11,
          -134.78683333333333,
          -133.546,
          -132.05,
          -129.22183333333334,
          -127.47583333333333,
          -126.11166666666666,
          -124.80766666666666,
          -123.66216666666666,
          -121.9985,
          -119.00233333333334,
          -117.34,
          -116.46416666666667,
          -115.703,
          -114.80833333333334,
          -113.70166666666667,
          -112.01216666666667,
          -111.418,
          -110.8725,
          -109.9475,
          -108.95583333333333,
          -108.06666666666666,
          -105.4575,
          -103.31433333333334,
          -101.9445,
          -100.80833333333334,
          -99.43,
          -97.33566666666667,
          -94.07983333333334,
          -92.24116666666667,
          -90.83266666666667,
          -89.70816666666667,
          -88.62316666666666,
          -87.0735,
          -84.38916666666667,
          -82.9405,
          -81.62016666666666,
          -80.64316666666667,
          -79.55583333333334,
          -78.1795,
          -75.57733333333333,
          -73.54533333333333,
          -72.05083333333333,
          -70.486,
          -69.11383333333333,
          -67.17133333333334,
          -63.713,
          -62.08533333333333,
          -61.0275,
          -60.043,
          -59.022,
          -57.555166666666665,
          -54.983333333333334,
          -53.350833333333334,
          -52.206,
          -51.261833333333335,
          -50.3975,
          -49.422,
          -47.72966666666667,
          -46.8275,
          -46.256,
          -45.52916666666667,
          -44.812333333333335,
          -43.862,
          -42.0665,
          -41.03766666666667,
          -41.386833333333335,
          -41.74766666666667,
          -42.223,
          -42.780166666666666,
          -42.522333333333336,
          -41.5825,
          -40.592166666666664,
          -39.748,
          -39.05466666666667,
          -38.011,
          -36.96783333333333,
          -36.65266666666667,
          -36.510666666666665,
          -36.57083333333333,
          -36.8245,
          -37.263666666666666,
          -37.322833333333335,
          -37.04533333333333,
          -36.99166666666667,
          -36.61533333333333,
          -36.15866666666667,
          -35.58566666666667,
          -34.74466666666667,
          -34.34766666666667,
          -34.097833333333334,
          -33.80416666666667,
          -33.595333333333336,
          -33.61483333333334,
          -33.57216666666667,
          -33.48466666666667,
          -33.5605,
          -33.5715,
          -33.5485,
          -33.685,
          -33.79183333333334,
          -33.705,
          -33.85166666666667,
          -33.9625,
          -33.975,
          -33.99633333333333,
          -33.8575,
          -33.795,
          -33.69566666666667,
          -33.590833333333336,
          -33.592,
          -33.54666666666667,
          -33.47266666666667,
          -33.414833333333334,
          -33.387166666666666,
          -33.2715,
          -33.071666666666665,
          -33.0555,
          -33.13633333333333,
          -33.103,
          -33.123,
          -33.372166666666665,
          -33.5745,
          -33.466166666666666,
          -33.88466666666667,
          -33.83733333333333,
          -33.813833333333335,
          -33.8325,
          -33.87766666666667,
          -34.16466666666667,
          -34.55233333333334,
          -34.86633333333333,
          -35.13216666666667,
          -35.47566666666667,
          -35.82783333333333,
          -36.26466666666666,
          -36.860166666666665,
          -37.14066666666667,
          -37.286,
          -37.5035,
          -37.71966666666667,
          -37.927166666666665,
          -38.2085,
          -38.224,
          -38.221,
          -38.218,
          -38.19716666666667,
          -38.134166666666665,
          -37.872166666666665,
          -37.89183333333333,
          -37.73916666666667,
          -37.6155,
          -37.3335,
          -37.03633333333333,
          -35.918166666666664,
          -35.43483333333333,
          -35.48166666666667,
          -35.69916666666667,
          -35.8065,
          -35.4495,
          -35.4875,
          -35.601,
          -35.07783333333333,
          -34.18666666666667,
          -33.23316666666667,
          -31.886166666666668,
          -29.551166666666667,
          -28.188666666666666,
          -27.118666666666666,
          -26.216666666666665,
          -26.236166666666666,
          -26.121166666666667,
          -24.296333333333333,
          -23.1825,
          -22.372,
          -21.488833333333332,
          -20.549,
          -19.308166666666665,
          -17.1165,
          -15.888166666666667,
          -14.931,
          -13.705166666666667
         ],
         "mode": "lines",
         "name": "jean le cam",
         "opacity": 1,
         "text": "jean le cam",
         "type": "scattergeo"
        },
        {
         "lat": [
          46.419,
          46.351,
          46.35783333333333,
          46.31666666666667,
          46.590333333333334,
          46.889,
          46.60966666666667,
          46.149166666666666,
          45.633,
          44.64566666666666,
          43.81733333333333,
          43.554833333333335,
          43.5455,
          43.482166666666664,
          43.40866666666667,
          43.21966666666667,
          42.8715,
          42.3875,
          41.726333333333336,
          41.275166666666664,
          41.010333333333335,
          40.20516666666666,
          39.901833333333336,
          39.4725,
          38.84766666666667,
          38.306666666666665,
          37.881,
          37.61716666666667,
          36.101,
          35.009166666666665,
          34.17433333333334,
          33.496,
          32.92366666666667,
          31.959333333333333,
          30.167166666666667,
          29.439833333333333,
          28.945,
          28.420666666666666,
          27.9105,
          27.2785,
          26.061666666666667,
          25.269666666666666,
          24.501166666666666,
          23.759666666666668,
          22.965166666666665,
          21.787333333333333,
          19.561333333333334,
          18.254333333333335,
          17.284,
          16.334,
          15.391666666666667,
          14.401166666666667,
          12.445333333333334,
          11.491333333333333,
          10.603,
          9.627333333333333,
          8.709833333333334,
          7.507666666666667,
          6.0071666666666665,
          5.083333333333333,
          4.368833333333333,
          3.5923333333333334,
          2.8706666666666667,
          1.9793333333333334,
          -0.04283333333333333,
          -1.2076666666666667,
          -2.1695,
          -3.081,
          -3.9908333333333332,
          -5.16,
          -7.274333333333334,
          -8.414666666666667,
          -9.425833333333333,
          -10.468166666666667,
          -11.463666666666667,
          -12.726333333333333,
          -14.981833333333332,
          -16.1085,
          -17.105166666666666,
          -17.878666666666668,
          -18.76,
          -19.685666666666666,
          -21.209833333333332,
          -22.051,
          -22.691666666666666,
          -23.2075,
          -23.518166666666666,
          -23.933166666666665,
          -24.793,
          -25.4585,
          -25.8505,
          -26.244666666666667,
          -26.47,
          -26.786833333333334,
          -27.308666666666667,
          -27.753833333333333,
          -28.204833333333333,
          -28.617,
          -28.981666666666666,
          -29.411833333333334,
          -30.023333333333333,
          -30.309666666666665,
          -30.452833333333334,
          -30.828833333333332,
          -31.202166666666667,
          -31.818166666666666,
          -33.318,
          -33.9135,
          -34.309,
          -34.75783333333333,
          -35.095333333333336,
          -35.4175,
          -36.383,
          -37.096833333333336,
          -37.569833333333335,
          -37.92916666666667,
          -38.06166666666667,
          -38.283,
          -38.89066666666667,
          -39.02066666666666,
          -39.198,
          -39.354166666666664,
          -39.207166666666666,
          -39.09616666666667,
          -38.765,
          -38.620666666666665,
          -38.471666666666664,
          -38.99733333333333,
          -39.32333333333333,
          -39.55683333333333,
          -40.03933333333333,
          -40.2595,
          -40.52133333333333,
          -40.910333333333334,
          -40.9445,
          -40.9445,
          -40.9445
         ],
         "line": {
          "color": "red",
          "width": 2.5
         },
         "lon": [
          -1.8203333333333334,
          -2.4431666666666665,
          -3.218,
          -4.765666666666666,
          -7.17,
          -8.167166666666667,
          -8.5275,
          -8.7365,
          -9.1,
          -9.469666666666667,
          -9.811666666666667,
          -10.304333333333334,
          -11.109,
          -12.2125,
          -13.132333333333333,
          -14.585666666666667,
          -16.727333333333334,
          -17.138333333333332,
          -17.584833333333332,
          -18.131833333333333,
          -18.4915,
          -18.809833333333334,
          -20.749,
          -22.193666666666665,
          -22.934,
          -23.4875,
          -24.099333333333334,
          -24.884166666666665,
          -25.693,
          -26.019,
          -26.021333333333335,
          -26.179333333333332,
          -26.732666666666667,
          -27.303,
          -28.694333333333333,
          -29.458666666666666,
          -29.4895,
          -29.167833333333334,
          -28.781666666666666,
          -28.779166666666665,
          -28.201833333333333,
          -27.936,
          -27.796666666666667,
          -27.806666666666665,
          -27.820166666666665,
          -27.808666666666667,
          -27.868,
          -28.00583333333333,
          -28.152166666666666,
          -28.33566666666667,
          -28.416833333333333,
          -28.357333333333333,
          -28.523666666666667,
          -28.69783333333333,
          -28.692666666666668,
          -28.69483333333333,
          -28.6765,
          -28.637,
          -28.657333333333334,
          -28.630833333333335,
          -28.699333333333332,
          -28.814166666666665,
          -28.880166666666668,
          -29.122166666666665,
          -29.698833333333333,
          -29.863,
          -30.182833333333335,
          -30.501333333333335,
          -30.7485,
          -31.05666666666667,
          -31.628666666666668,
          -31.9015,
          -32.0385,
          -32.02616666666667,
          -32.10366666666667,
          -32.083666666666666,
          -31.858833333333333,
          -31.5145,
          -31.4595,
          -31.417166666666667,
          -31.166666666666668,
          -30.72833333333333,
          -29.734833333333334,
          -29.122,
          -28.641666666666666,
          -28.049,
          -27.5845,
          -27.1235,
          -26.2465,
          -25.563,
          -25.137833333333333,
          -24.73,
          -24.392,
          -23.94483333333333,
          -22.856833333333334,
          -22.241,
          -21.955833333333334,
          -21.560166666666667,
          -21.656333333333333,
          -21.873166666666666,
          -21.981333333333332,
          -22.0285,
          -21.652333333333335,
          -21.9295,
          -22.134666666666668,
          -22.383666666666667,
          -22.977666666666668,
          -23.3575,
          -23.477833333333333,
          -23.528833333333335,
          -23.413666666666668,
          -23.098166666666668,
          -21.541833333333333,
          -20.488166666666668,
          -19.6325,
          -18.642666666666667,
          -17.680666666666667,
          -16.3785,
          -13.46,
          -11.745333333333333,
          -10.471333333333334,
          -9.225833333333334,
          -7.9325,
          -6.1605,
          -3.135,
          -1.8518333333333334,
          -0.988,
          -0.005333333333333333,
          1.1503333333333332,
          2.6691666666666665,
          5.4595,
          7.1338333333333335,
          8.185666666666666,
          9.1755,
          9.272166666666667,
          9.272166666666667,
          9.272166666666667
         ],
         "mode": "lines",
         "name": "kevin escoffier",
         "opacity": 1,
         "text": "kevin escoffier",
         "type": "scattergeo"
        },
        {
         "lat": [
          46.419,
          46.294,
          46.242666666666665,
          46.18866666666667,
          46.24666666666667,
          46.450833333333335,
          46.410666666666664,
          46.00333333333333,
          45.599333333333334,
          44.895833333333336,
          44.01233333333333,
          43.539,
          43.2725,
          42.915,
          42.563833333333335,
          42.03366666666667,
          41.43533333333333,
          41.12716666666667,
          41.071,
          40.8775,
          40.67283333333334,
          40.51883333333333,
          39.661,
          39.2195,
          39.06783333333333,
          38.6865,
          38.228833333333334,
          37.625166666666665,
          36.763333333333335,
          35.853,
          35.0595,
          34.390166666666666,
          33.63583333333333,
          32.784333333333336,
          31.150833333333335,
          30.1935,
          29.639666666666667,
          29.129,
          28.559166666666666,
          27.982166666666668,
          26.9275,
          26.169666666666668,
          25.600166666666667,
          24.820833333333333,
          24.031666666666666,
          23.145166666666668,
          21.075166666666668,
          19.813833333333335,
          18.908666666666665,
          17.9845,
          17.0155,
          15.866,
          13.997666666666667,
          13.049333333333333,
          12.277666666666667,
          11.457,
          10.687666666666667,
          9.709666666666667,
          7.784,
          6.575333333333333,
          5.816,
          4.9265,
          4.129666666666667,
          3.1506666666666665,
          1.4113333333333333,
          0.2615,
          -0.6653333333333333,
          -1.5579999999999998,
          -2.4368333333333334,
          -3.5484999999999998,
          -5.686,
          -6.8825,
          -7.786333333333333,
          -8.7615,
          -9.733666666666666,
          -10.863833333333334,
          -12.9205,
          -14.235,
          -15.227,
          -16.227,
          -17.186833333333333,
          -18.215666666666667,
          -19.750333333333334,
          -20.57283333333333,
          -21.399333333333335,
          -21.971333333333334,
          -22.373,
          -22.8615,
          -23.520833333333332,
          -24.243833333333335,
          -24.728,
          -25.216833333333334,
          -25.545166666666667,
          -25.93,
          -26.538,
          -27.102833333333333,
          -27.494166666666665,
          -27.941833333333335,
          -28.342333333333332,
          -28.601,
          -29.182666666666666,
          -29.446833333333334,
          -29.722666666666665,
          -30.135166666666667,
          -30.583166666666667,
          -31.1815,
          -32.65133333333333,
          -33.4085,
          -33.89566666666666,
          -34.41,
          -34.86833333333333,
          -35.323166666666665,
          -36.4205,
          -37.23416666666667,
          -37.69833333333333,
          -38.026666666666664,
          -38.19883333333333,
          -38.47,
          -38.973,
          -39.07033333333333,
          -39.253166666666665,
          -39.36633333333333,
          -39.312,
          -39.0935,
          -38.49916666666667,
          -37.92466666666667,
          -37.37833333333333,
          -37.957,
          -38.467333333333336,
          -38.93233333333333,
          -39.801,
          -40.13933333333333,
          -40.51983333333333,
          -41.04416666666667,
          -41.491,
          -40.897333333333336,
          -40.60933333333333,
          -40.52316666666667,
          -40.67366666666667,
          -40.6785,
          -40.8025,
          -40.900666666666666,
          -42.07866666666666,
          -41.910333333333334,
          -41.341,
          -40.79083333333333,
          -40.23166666666667,
          -39.521,
          -39.844833333333334,
          -39.99466666666667,
          -39.970333333333336,
          -40.12283333333333,
          -40.20933333333333,
          -40.3,
          -40.013,
          -39.858333333333334,
          -39.9265,
          -40.0065,
          -39.9455,
          -40.108,
          -40.71366666666667,
          -41.08866666666667,
          -41.31633333333333,
          -41.5385,
          -41.80683333333333,
          -42.2985,
          -41.90416666666667,
          -41.1525,
          -40.834833333333336,
          -40.541,
          -40.26316666666666,
          -40.157833333333336,
          -40.114,
          -40.114666666666665,
          -39.980333333333334,
          -39.9475,
          -40.21516666666667,
          -40.62716666666667,
          -40.955666666666666,
          -41.04516666666667,
          -41.06483333333333,
          -40.969166666666666,
          -41.1415,
          -41.411,
          -41.6965,
          -42.026833333333336,
          -42.5685,
          -42.0345,
          -41.775666666666666,
          -41.447,
          -40.85733333333334,
          -41.32366666666667,
          -41.746,
          -42.259166666666665,
          -42.73766666666667,
          -43.47366666666667,
          -43.86683333333333,
          -43.82083333333333,
          -43.816,
          -43.750166666666665,
          -43.64,
          -43.494,
          -43.568333333333335,
          -43.61966666666667,
          -43.715666666666664,
          -43.89666666666667,
          -44.05683333333333,
          -44.131166666666665,
          -44.132333333333335,
          -44.18933333333333,
          -44.3795,
          -44.54366666666667,
          -44.7445,
          -45.146166666666666,
          -45.96066666666667,
          -46.35333333333333,
          -46.66583333333333,
          -46.98133333333333,
          -47.32633333333333,
          -47.55983333333333,
          -48.25183333333333,
          -48.81166666666667,
          -49.50783333333333,
          -50.35666666666667,
          -51.188,
          -52.2335,
          -53.79483333333334,
          -53.76,
          -53.79683333333333,
          -53.88633333333333,
          -54.0285,
          -54.261833333333335,
          -54.735166666666665,
          -54.95483333333333,
          -55.27166666666667,
          -55.48166666666667,
          -55.621833333333335,
          -55.742333333333335,
          -55.61716666666667,
          -55.70616666666667,
          -55.79933333333334,
          -55.712833333333336,
          -55.83683333333333,
          -55.534166666666664,
          -54.8885,
          -54.835166666666666,
          -54.8055,
          -54.903333333333336,
          -54.507666666666665,
          -54.67433333333334,
          -54.86633333333333,
          -55.17333333333333,
          -55.5755,
          -56.211333333333336,
          -55.964166666666664,
          -55.4635,
          -55.95466666666667,
          -56.00516666666667,
          -55.62466666666667,
          -55.30583333333333,
          -55.7455,
          -55.339,
          -55.579166666666666,
          -55.407666666666664,
          -55.1695,
          -54.74,
          -54.17016666666667,
          -53.802166666666665,
          -53.6715,
          -53.495666666666665,
          -53.29333333333334,
          -53.14216666666667,
          -52.839666666666666,
          -52.233333333333334,
          -51.937666666666665,
          -51.76683333333333,
          -51.53933333333333,
          -51.36416666666667,
          -51.1555,
          -50.5285,
          -50.03066666666667,
          -49.598,
          -49.257333333333335,
          -48.88016666666667,
          -49.373666666666665,
          -50.399166666666666,
          -50.88633333333333,
          -51.1555,
          -51.3585,
          -51.554,
          -51.836666666666666,
          -52.24816666666667,
          -52.38466666666667,
          -52.490833333333335,
          -52.61216666666667,
          -52.2735,
          -52.064166666666665,
          -52.909166666666664,
          -53.14416666666666,
          -53.3285,
          -53.46933333333333,
          -53.62116666666667,
          -53.26283333333333,
          -52.25266666666667,
          -53.011,
          -53.61333333333333,
          -54.220666666666666,
          -54.662,
          -55.5625,
          -55.54666666666667,
          -56.0055,
          -55.78616666666667,
          -55.725833333333334,
          -55.879333333333335,
          -56.26,
          -56.654666666666664,
          -56.779666666666664,
          -56.77,
          -56.65566666666667,
          -56.624,
          -56.58583333333333,
          -56.5915,
          -56.753,
          -56.92316666666667,
          -57.097166666666666,
          -57.279833333333336,
          -57.41283333333333,
          -57.6215,
          -57.63783333333333,
          -57.571333333333335,
          -57.41833333333334,
          -57.196666666666665,
          -56.72866666666667,
          -55.7705,
          -55.26283333333333,
          -55.0615,
          -55.38016666666667,
          -55.531166666666664,
          -54.709,
          -53.44983333333333,
          -52.74666666666667,
          -52.19766666666666,
          -51.79333333333334,
          -51.221666666666664,
          -50.392833333333336,
          -48.546166666666664,
          -47.87583333333333,
          -47.25983333333333,
          -46.724,
          -46.20066666666666,
          -45.843,
          -45.1335,
          -44.650666666666666,
          -44.12566666666667,
          -43.629666666666665,
          -42.98883333333333,
          -42.05683333333333,
          -40.01766666666666,
          -38.8515,
          -38.012166666666666,
          -37.140166666666666,
          -36.4835,
          -35.773,
          -34.469166666666666,
          -34.167,
          -33.825,
          -33.218666666666664,
          -33.053666666666665,
          -32.593666666666664,
          -31.8035,
          -31.161166666666666,
          -30.693666666666665,
          -30.230333333333334,
          -29.984,
          -29.504333333333335,
          -28.455666666666666,
          -27.996833333333335,
          -27.4835,
          -26.762833333333333,
          -26.439333333333334,
          -26.063833333333335,
          -25.5945,
          -25.339166666666667,
          -25.232333333333333,
          -25.0805,
          -25.003333333333334,
          -24.72833333333333,
          -23.859,
          -23.2915,
          -22.959,
          -22.514333333333333,
          -22.417833333333334,
          -21.994166666666665,
          -20.8215,
          -20.072166666666668,
          -19.593833333333333,
          -19.065333333333335,
          -18.501333333333335,
          -17.788833333333333,
          -16.528,
          -15.951833333333333,
          -15.395333333333333,
          -15.1755,
          -14.585333333333333,
          -13.6715,
          -12.188833333333333,
          -11.508666666666667,
          -10.840166666666667,
          -10.157666666666668,
          -9.5195,
          -8.671333333333333,
          -6.878333333333334,
          -5.816666666666666,
          -4.889333333333333,
          -3.979,
          -3.077166666666667,
          -1.8176666666666668,
          0.2693333333333333,
          0.9663333333333333,
          1.3688333333333333,
          1.8593333333333333,
          2.4126666666666665,
          2.725,
          3.1666666666666665,
          3.3905,
          3.7028333333333334,
          4.3853333333333335,
          5.227,
          6.179333333333333,
          7.6455,
          8.597666666666667,
          9.380166666666666,
          10.167,
          10.910833333333333,
          11.9335,
          13.984166666666667,
          15.103666666666667,
          15.952166666666667,
          16.8095,
          17.6735,
          18.852,
          20.643166666666666,
          21.6695,
          22.385833333333334,
          23.170333333333332,
          23.8955,
          24.955666666666666,
          26.456833333333332,
          27.153333333333332,
          27.667833333333334,
          28.288833333333333,
          29.115666666666666,
          29.894833333333334,
          31.3315,
          31.902,
          32.409333333333336,
          32.912166666666664,
          33.41016666666667,
          34.087,
          36.216833333333334,
          37.4445,
          38.33383333333333,
          39.26733333333333,
          39.727666666666664,
          40.214666666666666,
          40.44766666666666,
          40.4285,
          40.996833333333335,
          41.88883333333333,
          42.851333333333336,
          44.078833333333336,
          46.1715,
          46.47816666666667,
          46.855,
          47.266333333333336,
          47.468666666666664,
          47.590833333333336,
          47.874,
          47.8895,
          47.8435,
          47.723
         ],
         "line": {
          "color": "blue",
          "width": 1
         },
         "lon": [
          -1.8151666666666666,
          -2.3993333333333333,
          -3.176833333333333,
          -4.584,
          -6.652666666666667,
          -7.6335,
          -8.075,
          -8.294,
          -8.697,
          -9.3265,
          -9.497666666666667,
          -9.1705,
          -9.255,
          -9.6965,
          -10.131166666666667,
          -11.160833333333333,
          -12.827333333333334,
          -13.963333333333333,
          -14.9585,
          -15.547333333333333,
          -16.2305,
          -17.050666666666668,
          -18.60033333333333,
          -19.707833333333333,
          -20.343333333333334,
          -20.977166666666665,
          -21.565833333333334,
          -22.425333333333334,
          -23.662666666666667,
          -24.0865,
          -24.2695,
          -24.395833333333332,
          -24.615666666666666,
          -25.213166666666666,
          -26.21366666666667,
          -26.7955,
          -27.247,
          -27.515833333333333,
          -27.91283333333333,
          -28.226166666666668,
          -28.116,
          -28.112166666666667,
          -28.144333333333332,
          -28.170166666666667,
          -28.227833333333333,
          -28.4405,
          -28.448833333333333,
          -28.306833333333334,
          -28.261666666666667,
          -28.2595,
          -28.291666666666668,
          -28.18,
          -28.044166666666666,
          -27.998833333333334,
          -27.9465,
          -27.927666666666667,
          -27.866333333333333,
          -27.817,
          -27.681666666666665,
          -27.3945,
          -27.314,
          -27.297666666666668,
          -27.3985,
          -27.524833333333333,
          -28.262,
          -28.83416666666667,
          -29.082166666666666,
          -29.3645,
          -29.628166666666665,
          -30.049666666666667,
          -30.658666666666665,
          -31.030666666666665,
          -31.2105,
          -31.283833333333334,
          -31.301333333333332,
          -31.2215,
          -31.0265,
          -30.890833333333333,
          -30.809,
          -30.580333333333332,
          -30.2755,
          -29.828,
          -29.1995,
          -28.76,
          -28.387666666666668,
          -27.955666666666666,
          -27.526833333333332,
          -27.291666666666668,
          -26.78933333333333,
          -26.33716666666667,
          -25.897666666666666,
          -25.420166666666667,
          -25.110166666666668,
          -24.7775,
          -24.329,
          -23.651333333333334,
          -23.184833333333334,
          -22.737166666666667,
          -22.232333333333333,
          -21.816833333333335,
          -21.4575,
          -21.477333333333334,
          -21.657333333333334,
          -21.925166666666666,
          -22.163166666666665,
          -22.453166666666668,
          -22.7035,
          -23.008666666666667,
          -23.228166666666667,
          -23.3265,
          -23.239,
          -22.838166666666666,
          -21.4645,
          -20.38,
          -19.41433333333333,
          -18.387333333333334,
          -17.466333333333335,
          -16.155666666666665,
          -13.506833333333333,
          -11.861833333333333,
          -10.662166666666666,
          -9.575333333333333,
          -8.2395,
          -6.494166666666667,
          -3.5776666666666666,
          -2.0728333333333335,
          -1.1695,
          -0.4031666666666667,
          0.5366666666666667,
          1.9898333333333333,
          4.509,
          5.95,
          6.908833333333334,
          7.811166666666667,
          8.905166666666666,
          9.291833333333333,
          9.844666666666667,
          10.6995,
          11.761666666666667,
          12.729166666666666,
          13.928833333333333,
          15.097166666666666,
          16.873666666666665,
          17.992,
          19.182,
          20.2445,
          21.245,
          22.322333333333333,
          25.169833333333333,
          26.692166666666665,
          27.867166666666666,
          29.023833333333332,
          30.262333333333334,
          31.885,
          34.77883333333333,
          36.45583333333333,
          37.66883333333333,
          38.614,
          39.74,
          41.254,
          43.7975,
          45.288833333333336,
          46.481,
          47.619,
          48.6795,
          49.818333333333335,
          51.27033333333333,
          52.439,
          53.368833333333335,
          54.554833333333335,
          55.73133333333333,
          57.241,
          60.13483333333333,
          61.713166666666666,
          62.88966666666666,
          63.8825,
          64.80083333333333,
          65.6735,
          67.79366666666667,
          68.83916666666667,
          69.7015,
          70.56283333333333,
          71.40883333333333,
          72.69733333333333,
          75.1485,
          76.41983333333333,
          77.16833333333334,
          77.94716666666666,
          79.06033333333333,
          80.55566666666667,
          82.26416666666667,
          83.41133333333333,
          84.364,
          85.25366666666666,
          86.268,
          87.66466666666666,
          90.54633333333334,
          92.27966666666667,
          93.54483333333333,
          94.85333333333334,
          96.28033333333333,
          98.07816666666666,
          101.11066666666666,
          102.89033333333333,
          103.9605,
          105.09216666666667,
          106.22716666666666,
          107.65416666666667,
          110.52516666666666,
          112.1435,
          113.38666666666667,
          114.5825,
          115.89766666666667,
          117.276,
          120.26833333333333,
          122.28333333333333,
          123.6325,
          125.08283333333334,
          126.33983333333333,
          128.17216666666667,
          130.20233333333334,
          131.03216666666665,
          131.78766666666667,
          132.43716666666666,
          133.0315,
          133.83733333333333,
          135.36666666666667,
          137.49216666666666,
          139.017,
          140.69266666666667,
          142.39566666666667,
          144.63216666666668,
          148.42066666666668,
          150.1505,
          151.32566666666668,
          152.9525,
          154.6925,
          156.62066666666666,
          157.99766666666667,
          158.986,
          159.41283333333334,
          159.89583333333334,
          160.856,
          162.53483333333332,
          165.59333333333333,
          167.12116666666665,
          168.04283333333333,
          169.0385,
          170.17066666666668,
          175.27283333333332,
          177.49066666666667,
          178.82833333333335,
          179.94383333333334,
          -178.863,
          -177.34166666666667,
          -174.8845,
          -173.385,
          -172.61583333333334,
          -171.92266666666666,
          -170.7695,
          -169.52766666666668,
          -167.37466666666666,
          -166.08166666666668,
          -165.00066666666666,
          -164.16116666666667,
          -163.4635,
          -162.3745,
          -160.2375,
          -159.1525,
          -158.17216666666667,
          -157.29216666666667,
          -156.4995,
          -155.33616666666666,
          -153.48133333333334,
          -152.3755,
          -151.433,
          -150.61283333333333,
          -149.76233333333334,
          -148.62716666666665,
          -146.94966666666667,
          -146.22633333333334,
          -145.75733333333332,
          -145.42166666666665,
          -144.95783333333333,
          -144.27566666666667,
          -142.95316666666668,
          -142.07716666666667,
          -141.3085,
          -140.52283333333332,
          -139.768,
          -138.638,
          -136.433,
          -135.14933333333335,
          -134.195,
          -133.24233333333333,
          -132.92166666666665,
          -132.28166666666667,
          -129.651,
          -127.8755,
          -126.48933333333333,
          -125.02333333333333,
          -123.83216666666667,
          -122.04933333333334,
          -119.75733333333334,
          -118.646,
          -117.656,
          -116.737,
          -115.856,
          -114.87816666666667,
          -112.52283333333334,
          -111.66033333333333,
          -110.18333333333334,
          -108.6745,
          -106.96266666666666,
          -104.68666666666667,
          -100.594,
          -98.02466666666666,
          -96.11633333333333,
          -94.3245,
          -92.5835,
          -90.40033333333334,
          -86.881,
          -84.64383333333333,
          -82.988,
          -81.6805,
          -79.888,
          -77.352,
          -73.1435,
          -70.883,
          -69.1475,
          -67.39033333333333,
          -65.73566666666666,
          -63.667833333333334,
          -62.032833333333336,
          -61.679,
          -61.11666666666667,
          -60.05,
          -58.983333333333334,
          -57.48866666666667,
          -55.3685,
          -54.25216666666667,
          -53.362833333333334,
          -52.060833333333335,
          -50.6765,
          -48.907833333333336,
          -47.36116666666667,
          -46.84583333333333,
          -46.764833333333335,
          -46.707166666666666,
          -46.87883333333333,
          -46.897666666666666,
          -46.398833333333336,
          -46.25083333333333,
          -46.13733333333333,
          -46.01866666666667,
          -45.727,
          -45.2855,
          -44.658,
          -44.5475,
          -44.43533333333333,
          -44.370333333333335,
          -44.5415,
          -44.8185,
          -45.12983333333333,
          -45.240833333333335,
          -45.198,
          -44.75716666666667,
          -44.26733333333333,
          -43.67183333333333,
          -42.655,
          -42.20766666666667,
          -41.96183333333333,
          -41.865833333333335,
          -41.44716666666667,
          -41.09866666666667,
          -40.216833333333334,
          -39.663,
          -39.3325,
          -39.083333333333336,
          -39.1625,
          -39.2795,
          -38.8995,
          -38.762166666666666,
          -38.48583333333333,
          -38.038833333333336,
          -37.62133333333333,
          -37.62983333333333,
          -37.435,
          -37.496833333333335,
          -37.55733333333333,
          -37.556333333333335,
          -37.28766666666667,
          -37.12433333333333,
          -36.74816666666667,
          -36.62983333333333,
          -36.52016666666667,
          -36.361666666666665,
          -36.2545,
          -36.14066666666667,
          -35.930166666666665,
          -35.864666666666665,
          -35.739666666666665,
          -35.590666666666664,
          -35.476,
          -35.31766666666667,
          -35.099,
          -35.00966666666667,
          -34.81616666666667,
          -34.677166666666665,
          -34.4935,
          -34.17933333333333,
          -33.86083333333333,
          -33.685,
          -33.54816666666667,
          -33.549,
          -33.43566666666667,
          -33.297,
          -33.2775,
          -33.080666666666666,
          -32.8815,
          -32.70466666666667,
          -32.443333333333335,
          -32.547666666666665,
          -32.45033333333333,
          -32.3855,
          -32.4005,
          -32.5125,
          -32.481,
          -32.75633333333333,
          -33.8515,
          -34.465333333333334,
          -34.90416666666667,
          -35.268,
          -35.720166666666664,
          -36.2025,
          -36.87566666666667,
          -37.371,
          -37.608666666666664,
          -37.748,
          -37.9,
          -38.047333333333334,
          -38.0895,
          -38.1225,
          -38.0005,
          -37.902166666666666,
          -37.784166666666664,
          -37.519333333333336,
          -37.00183333333333,
          -36.717,
          -36.2845,
          -35.95616666666667,
          -35.505833333333335,
          -34.80883333333333,
          -33.421,
          -32.43483333333333,
          -31.705,
          -30.970166666666668,
          -30.039666666666665,
          -29.398,
          -29.50733333333333,
          -29.3735,
          -29.425833333333333,
          -29.651333333333334,
          -28.912333333333333,
          -27.423333333333332,
          -24.652,
          -22.955833333333334,
          -22.589333333333332,
          -22.783166666666666,
          -22.822166666666668,
          -22.866833333333332,
          -23.259833333333333,
          -21.590666666666667,
          -20.369166666666665,
          -18.9935,
          -17.570333333333334,
          -15.831666666666667,
          -12.467,
          -10.551833333333333,
          -9.317166666666667,
          -7.980166666666666
         ],
         "mode": "lines",
         "name": "yannick bestaven",
         "opacity": 1,
         "type": "scattergeo"
        }
       ],
       "layout": {
        "geo": {
         "countrycolor": "rgb(204, 204, 204)",
         "landcolor": "rgb(243, 243, 243)",
         "projection": {
          "type": "orthographic"
         },
         "showland": true
        },
        "height": 700,
        "showlegend": true,
        "template": {
         "data": {
          "bar": [
           {
            "error_x": {
             "color": "#2a3f5f"
            },
            "error_y": {
             "color": "#2a3f5f"
            },
            "marker": {
             "line": {
              "color": "#E5ECF6",
              "width": 0.5
             },
             "pattern": {
              "fillmode": "overlay",
              "size": 10,
              "solidity": 0.2
             }
            },
            "type": "bar"
           }
          ],
          "barpolar": [
           {
            "marker": {
             "line": {
              "color": "#E5ECF6",
              "width": 0.5
             },
             "pattern": {
              "fillmode": "overlay",
              "size": 10,
              "solidity": 0.2
             }
            },
            "type": "barpolar"
           }
          ],
          "carpet": [
           {
            "aaxis": {
             "endlinecolor": "#2a3f5f",
             "gridcolor": "white",
             "linecolor": "white",
             "minorgridcolor": "white",
             "startlinecolor": "#2a3f5f"
            },
            "baxis": {
             "endlinecolor": "#2a3f5f",
             "gridcolor": "white",
             "linecolor": "white",
             "minorgridcolor": "white",
             "startlinecolor": "#2a3f5f"
            },
            "type": "carpet"
           }
          ],
          "choropleth": [
           {
            "colorbar": {
             "outlinewidth": 0,
             "ticks": ""
            },
            "type": "choropleth"
           }
          ],
          "contour": [
           {
            "colorbar": {
             "outlinewidth": 0,
             "ticks": ""
            },
            "colorscale": [
             [
              0,
              "#0d0887"
             ],
             [
              0.1111111111111111,
              "#46039f"
             ],
             [
              0.2222222222222222,
              "#7201a8"
             ],
             [
              0.3333333333333333,
              "#9c179e"
             ],
             [
              0.4444444444444444,
              "#bd3786"
             ],
             [
              0.5555555555555556,
              "#d8576b"
             ],
             [
              0.6666666666666666,
              "#ed7953"
             ],
             [
              0.7777777777777778,
              "#fb9f3a"
             ],
             [
              0.8888888888888888,
              "#fdca26"
             ],
             [
              1,
              "#f0f921"
             ]
            ],
            "type": "contour"
           }
          ],
          "contourcarpet": [
           {
            "colorbar": {
             "outlinewidth": 0,
             "ticks": ""
            },
            "type": "contourcarpet"
           }
          ],
          "heatmap": [
           {
            "colorbar": {
             "outlinewidth": 0,
             "ticks": ""
            },
            "colorscale": [
             [
              0,
              "#0d0887"
             ],
             [
              0.1111111111111111,
              "#46039f"
             ],
             [
              0.2222222222222222,
              "#7201a8"
             ],
             [
              0.3333333333333333,
              "#9c179e"
             ],
             [
              0.4444444444444444,
              "#bd3786"
             ],
             [
              0.5555555555555556,
              "#d8576b"
             ],
             [
              0.6666666666666666,
              "#ed7953"
             ],
             [
              0.7777777777777778,
              "#fb9f3a"
             ],
             [
              0.8888888888888888,
              "#fdca26"
             ],
             [
              1,
              "#f0f921"
             ]
            ],
            "type": "heatmap"
           }
          ],
          "heatmapgl": [
           {
            "colorbar": {
             "outlinewidth": 0,
             "ticks": ""
            },
            "colorscale": [
             [
              0,
              "#0d0887"
             ],
             [
              0.1111111111111111,
              "#46039f"
             ],
             [
              0.2222222222222222,
              "#7201a8"
             ],
             [
              0.3333333333333333,
              "#9c179e"
             ],
             [
              0.4444444444444444,
              "#bd3786"
             ],
             [
              0.5555555555555556,
              "#d8576b"
             ],
             [
              0.6666666666666666,
              "#ed7953"
             ],
             [
              0.7777777777777778,
              "#fb9f3a"
             ],
             [
              0.8888888888888888,
              "#fdca26"
             ],
             [
              1,
              "#f0f921"
             ]
            ],
            "type": "heatmapgl"
           }
          ],
          "histogram": [
           {
            "marker": {
             "pattern": {
              "fillmode": "overlay",
              "size": 10,
              "solidity": 0.2
             }
            },
            "type": "histogram"
           }
          ],
          "histogram2d": [
           {
            "colorbar": {
             "outlinewidth": 0,
             "ticks": ""
            },
            "colorscale": [
             [
              0,
              "#0d0887"
             ],
             [
              0.1111111111111111,
              "#46039f"
             ],
             [
              0.2222222222222222,
              "#7201a8"
             ],
             [
              0.3333333333333333,
              "#9c179e"
             ],
             [
              0.4444444444444444,
              "#bd3786"
             ],
             [
              0.5555555555555556,
              "#d8576b"
             ],
             [
              0.6666666666666666,
              "#ed7953"
             ],
             [
              0.7777777777777778,
              "#fb9f3a"
             ],
             [
              0.8888888888888888,
              "#fdca26"
             ],
             [
              1,
              "#f0f921"
             ]
            ],
            "type": "histogram2d"
           }
          ],
          "histogram2dcontour": [
           {
            "colorbar": {
             "outlinewidth": 0,
             "ticks": ""
            },
            "colorscale": [
             [
              0,
              "#0d0887"
             ],
             [
              0.1111111111111111,
              "#46039f"
             ],
             [
              0.2222222222222222,
              "#7201a8"
             ],
             [
              0.3333333333333333,
              "#9c179e"
             ],
             [
              0.4444444444444444,
              "#bd3786"
             ],
             [
              0.5555555555555556,
              "#d8576b"
             ],
             [
              0.6666666666666666,
              "#ed7953"
             ],
             [
              0.7777777777777778,
              "#fb9f3a"
             ],
             [
              0.8888888888888888,
              "#fdca26"
             ],
             [
              1,
              "#f0f921"
             ]
            ],
            "type": "histogram2dcontour"
           }
          ],
          "mesh3d": [
           {
            "colorbar": {
             "outlinewidth": 0,
             "ticks": ""
            },
            "type": "mesh3d"
           }
          ],
          "parcoords": [
           {
            "line": {
             "colorbar": {
              "outlinewidth": 0,
              "ticks": ""
             }
            },
            "type": "parcoords"
           }
          ],
          "pie": [
           {
            "automargin": true,
            "type": "pie"
           }
          ],
          "scatter": [
           {
            "marker": {
             "colorbar": {
              "outlinewidth": 0,
              "ticks": ""
             }
            },
            "type": "scatter"
           }
          ],
          "scatter3d": [
           {
            "line": {
             "colorbar": {
              "outlinewidth": 0,
              "ticks": ""
             }
            },
            "marker": {
             "colorbar": {
              "outlinewidth": 0,
              "ticks": ""
             }
            },
            "type": "scatter3d"
           }
          ],
          "scattercarpet": [
           {
            "marker": {
             "colorbar": {
              "outlinewidth": 0,
              "ticks": ""
             }
            },
            "type": "scattercarpet"
           }
          ],
          "scattergeo": [
           {
            "marker": {
             "colorbar": {
              "outlinewidth": 0,
              "ticks": ""
             }
            },
            "type": "scattergeo"
           }
          ],
          "scattergl": [
           {
            "marker": {
             "colorbar": {
              "outlinewidth": 0,
              "ticks": ""
             }
            },
            "type": "scattergl"
           }
          ],
          "scattermapbox": [
           {
            "marker": {
             "colorbar": {
              "outlinewidth": 0,
              "ticks": ""
             }
            },
            "type": "scattermapbox"
           }
          ],
          "scatterpolar": [
           {
            "marker": {
             "colorbar": {
              "outlinewidth": 0,
              "ticks": ""
             }
            },
            "type": "scatterpolar"
           }
          ],
          "scatterpolargl": [
           {
            "marker": {
             "colorbar": {
              "outlinewidth": 0,
              "ticks": ""
             }
            },
            "type": "scatterpolargl"
           }
          ],
          "scatterternary": [
           {
            "marker": {
             "colorbar": {
              "outlinewidth": 0,
              "ticks": ""
             }
            },
            "type": "scatterternary"
           }
          ],
          "surface": [
           {
            "colorbar": {
             "outlinewidth": 0,
             "ticks": ""
            },
            "colorscale": [
             [
              0,
              "#0d0887"
             ],
             [
              0.1111111111111111,
              "#46039f"
             ],
             [
              0.2222222222222222,
              "#7201a8"
             ],
             [
              0.3333333333333333,
              "#9c179e"
             ],
             [
              0.4444444444444444,
              "#bd3786"
             ],
             [
              0.5555555555555556,
              "#d8576b"
             ],
             [
              0.6666666666666666,
              "#ed7953"
             ],
             [
              0.7777777777777778,
              "#fb9f3a"
             ],
             [
              0.8888888888888888,
              "#fdca26"
             ],
             [
              1,
              "#f0f921"
             ]
            ],
            "type": "surface"
           }
          ],
          "table": [
           {
            "cells": {
             "fill": {
              "color": "#EBF0F8"
             },
             "line": {
              "color": "white"
             }
            },
            "header": {
             "fill": {
              "color": "#C8D4E3"
             },
             "line": {
              "color": "white"
             }
            },
            "type": "table"
           }
          ]
         },
         "layout": {
          "annotationdefaults": {
           "arrowcolor": "#2a3f5f",
           "arrowhead": 0,
           "arrowwidth": 1
          },
          "autotypenumbers": "strict",
          "coloraxis": {
           "colorbar": {
            "outlinewidth": 0,
            "ticks": ""
           }
          },
          "colorscale": {
           "diverging": [
            [
             0,
             "#8e0152"
            ],
            [
             0.1,
             "#c51b7d"
            ],
            [
             0.2,
             "#de77ae"
            ],
            [
             0.3,
             "#f1b6da"
            ],
            [
             0.4,
             "#fde0ef"
            ],
            [
             0.5,
             "#f7f7f7"
            ],
            [
             0.6,
             "#e6f5d0"
            ],
            [
             0.7,
             "#b8e186"
            ],
            [
             0.8,
             "#7fbc41"
            ],
            [
             0.9,
             "#4d9221"
            ],
            [
             1,
             "#276419"
            ]
           ],
           "sequential": [
            [
             0,
             "#0d0887"
            ],
            [
             0.1111111111111111,
             "#46039f"
            ],
            [
             0.2222222222222222,
             "#7201a8"
            ],
            [
             0.3333333333333333,
             "#9c179e"
            ],
            [
             0.4444444444444444,
             "#bd3786"
            ],
            [
             0.5555555555555556,
             "#d8576b"
            ],
            [
             0.6666666666666666,
             "#ed7953"
            ],
            [
             0.7777777777777778,
             "#fb9f3a"
            ],
            [
             0.8888888888888888,
             "#fdca26"
            ],
            [
             1,
             "#f0f921"
            ]
           ],
           "sequentialminus": [
            [
             0,
             "#0d0887"
            ],
            [
             0.1111111111111111,
             "#46039f"
            ],
            [
             0.2222222222222222,
             "#7201a8"
            ],
            [
             0.3333333333333333,
             "#9c179e"
            ],
            [
             0.4444444444444444,
             "#bd3786"
            ],
            [
             0.5555555555555556,
             "#d8576b"
            ],
            [
             0.6666666666666666,
             "#ed7953"
            ],
            [
             0.7777777777777778,
             "#fb9f3a"
            ],
            [
             0.8888888888888888,
             "#fdca26"
            ],
            [
             1,
             "#f0f921"
            ]
           ]
          },
          "colorway": [
           "#636efa",
           "#EF553B",
           "#00cc96",
           "#ab63fa",
           "#FFA15A",
           "#19d3f3",
           "#FF6692",
           "#B6E880",
           "#FF97FF",
           "#FECB52"
          ],
          "font": {
           "color": "#2a3f5f"
          },
          "geo": {
           "bgcolor": "white",
           "lakecolor": "white",
           "landcolor": "#E5ECF6",
           "showlakes": true,
           "showland": true,
           "subunitcolor": "white"
          },
          "hoverlabel": {
           "align": "left"
          },
          "hovermode": "closest",
          "mapbox": {
           "style": "light"
          },
          "paper_bgcolor": "white",
          "plot_bgcolor": "#E5ECF6",
          "polar": {
           "angularaxis": {
            "gridcolor": "white",
            "linecolor": "white",
            "ticks": ""
           },
           "bgcolor": "#E5ECF6",
           "radialaxis": {
            "gridcolor": "white",
            "linecolor": "white",
            "ticks": ""
           }
          },
          "scene": {
           "xaxis": {
            "backgroundcolor": "#E5ECF6",
            "gridcolor": "white",
            "gridwidth": 2,
            "linecolor": "white",
            "showbackground": true,
            "ticks": "",
            "zerolinecolor": "white"
           },
           "yaxis": {
            "backgroundcolor": "#E5ECF6",
            "gridcolor": "white",
            "gridwidth": 2,
            "linecolor": "white",
            "showbackground": true,
            "ticks": "",
            "zerolinecolor": "white"
           },
           "zaxis": {
            "backgroundcolor": "#E5ECF6",
            "gridcolor": "white",
            "gridwidth": 2,
            "linecolor": "white",
            "showbackground": true,
            "ticks": "",
            "zerolinecolor": "white"
           }
          },
          "shapedefaults": {
           "line": {
            "color": "#2a3f5f"
           }
          },
          "ternary": {
           "aaxis": {
            "gridcolor": "white",
            "linecolor": "white",
            "ticks": ""
           },
           "baxis": {
            "gridcolor": "white",
            "linecolor": "white",
            "ticks": ""
           },
           "bgcolor": "#E5ECF6",
           "caxis": {
            "gridcolor": "white",
            "linecolor": "white",
            "ticks": ""
           }
          },
          "title": {
           "x": 0.05
          },
          "xaxis": {
           "automargin": true,
           "gridcolor": "white",
           "linecolor": "white",
           "ticks": "",
           "title": {
            "standoff": 15
           },
           "zerolinecolor": "white",
           "zerolinewidth": 2
          },
          "yaxis": {
           "automargin": true,
           "gridcolor": "white",
           "linecolor": "white",
           "ticks": "",
           "title": {
            "standoff": 15
           },
           "zerolinecolor": "white",
           "zerolinewidth": 2
          }
         }
        },
        "title": {
         "text": "routes"
        }
       }
      },
      "text/html": [
       "<div>                            <div id=\"e6a13226-c8d7-45e3-b459-bc37564e8c22\" class=\"plotly-graph-div\" style=\"height:700px; width:100%;\"></div>            <script type=\"text/javascript\">                require([\"plotly\"], function(Plotly) {                    window.PLOTLYENV=window.PLOTLYENV || {};                                    if (document.getElementById(\"e6a13226-c8d7-45e3-b459-bc37564e8c22\")) {                    Plotly.newPlot(                        \"e6a13226-c8d7-45e3-b459-bc37564e8c22\",                        [{\"lat\":[46.415,46.25966666666667,46.1295,45.81966666666667,45.74433333333333,45.78366666666667,45.917833333333334,45.5095,45.0295,44.29783333333334,43.48916666666667,43.181666666666665,42.822833333333335,42.544666666666664,42.289,41.807833333333335,41.35483333333333,41.163333333333334,41.0795,40.8495,40.6395,40.2145,39.166,38.726333333333336,38.5775,37.87266666666667,37.24916666666667,36.957,35.299166666666665,34.466,33.804833333333335,33.0075,32.257,31.117833333333333,29.218666666666667,28.295333333333332,27.724333333333334,27.285,26.743666666666666,25.868166666666667,24.437333333333335,23.505333333333333,22.773666666666667,21.96066666666667,21.097,19.8425,17.741666666666667,16.5435,15.6105,14.720333333333333,13.905,12.868833333333333,10.894666666666666,9.727833333333333,8.778833333333333,7.892,7.143,6.197,4.751666666666667,3.7635,3.1683333333333334,2.458833333333333,1.7528333333333332,0.7761666666666667,-1.1003333333333334,-2.2243333333333335,-3.0768333333333335,-3.9158333333333335,-4.760666666666666,-5.853833333333333,-7.853833333333333,-8.885,-9.682333333333334,-10.481833333333334,-11.288833333333333,-12.338833333333334,-14.379333333333333,-15.523666666666667,-16.314,-17.0335,-17.761666666666667,-18.690833333333334,-20.145833333333332,-20.981,-21.48966666666667,-21.956,-22.499833333333335,-23.241666666666667,-24.1545,-24.614,-24.967333333333332,-25.603833333333334,-26.106166666666667,-26.645333333333333,-27.560666666666666,-28.019,-28.4325,-28.900666666666666,-29.4315,-29.653166666666667,-30.1885,-30.358166666666666,-30.529666666666667,-30.704833333333333,-30.697333333333333,-31.068166666666666,-31.379666666666665,-31.5805,-31.876,-32.374833333333335,-32.74783333333333,-33.35483333333333,-34.5835,-35.39683333333333,-35.88366666666667,-36.291333333333334,-36.550333333333334,-36.84433333333333,-37.129333333333335,-37.171166666666664,-37.1815,-37.228833333333334,-37.36483333333334,-37.53666666666667,-37.43366666666667,-37.3315,-37.900166666666664,-38.36383333333333,-38.703,-39.114666666666665,-39.633833333333335,-39.97366666666667,-40.316,-40.70066666666666,-40.912333333333336,-40.81216666666667,-40.631,-40.381166666666665,-40.20883333333333,-40.050666666666665,-40.1065,-40.0965,-40.42933333333333,-40.424,-39.947833333333335,-39.54366666666667,-39.062666666666665,-38.49166666666667,-38.659333333333336,-38.70183333333333,-38.8435,-38.9335,-39.05016666666667,-39.144333333333336,-38.90566666666667,-38.717166666666664,-38.508833333333335,-38.4235,-38.376666666666665,-38.29633333333334,-38.899,-39.358333333333334,-39.54566666666667,-39.6925,-39.75266666666667,-39.941833333333335,-40.029666666666664,-39.61633333333333,-39.22383333333333,-38.89983333333333,-38.719833333333334,-38.44883333333333,-37.945166666666665,-38.051,-38.345333333333336,-38.654,-38.953,-39.11266666666667,-39.33016666666666,-39.212,-39.029666666666664,-39.056,-39.0755,-39.06616666666667,-39.08083333333333,-39.4015,-39.68933333333333,-40.19116666666667,-40.78966666666667,-41.283,-41.75266666666667,-42.086,-42.3725,-42.742,-42.97866666666667,-43.3015,-43.384166666666665,-43.39533333333333,-43.407,-43.403166666666664,-43.38166666666667,-43.371833333333335,-43.108,-43.160333333333334,-43.18933333333333,-43.185833333333335,-43.21183333333333,-43.41,-43.72083333333333,-44.09,-44.3475,-44.493,-44.514833333333335,-44.49366666666667,-44.84166666666667,-45.192,-45.61383333333333,-45.87566666666667,-45.947,-46.259166666666665,-46.74183333333333,-47.20583333333333,-47.43416666666667,-47.863,-48.405833333333334,-48.779666666666664,-48.95616666666667,-49.09583333333333,-49.22366666666667,-49.40383333333333,-49.55,-49.71516666666667,-50.39966666666667,-50.61033333333334,-50.834833333333336,-51.09316666666667,-51.36266666666667,-51.726166666666664,-52.0435,-51.93333333333333,-51.946,-51.898666666666664,-51.9315,-52.324333333333335,-53.0815,-53.63916666666667,-54.217,-54.77633333333333,-55.038,-54.471,-55.056666666666665,-55.37533333333333,-55.91683333333334,-56.280833333333334,-56.405166666666666,-56.4425,-56.23116666666667,-56.153,-55.965333333333334,-55.68633333333333,-55.29116666666667,-54.70183333333333,-54.346,-54.121,-53.86416666666667,-53.60883333333334,-53.508,-52.91433333333333,-52.75566666666667,-52.89266666666666,-52.964333333333336,-52.98133333333333,-53.14516666666667,-53.722,-54.017833333333336,-54.07033333333333,-54.112833333333334,-54.150166666666664,-54.2925,-54.748,-54.86066666666667,-54.830333333333336,-54.7345,-54.728833333333334,-54.77733333333333,-54.74766666666667,-54.78366666666667,-54.7725,-54.7635,-54.784,-54.5885,-53.6025,-53.108666666666664,-52.973166666666664,-52.70316666666667,-52.412,-52.064,-51.66716666666667,-51.72083333333333,-51.82266666666666,-51.92216666666667,-52.07833333333333,-52.44,-53.431666666666665,-53.971666666666664,-54.379666666666665,-54.769,-54.678,-54.49366666666667,-54.760333333333335,-54.9175,-54.977666666666664,-54.855,-54.6815,-55.04666666666667,-55.57333333333333,-55.885,-56.3195,-56.46366666666667,-56.37716666666667,-56.46,-56.338,-56.1325,-55.913333333333334,-55.65116666666667,-55.5095,-55.53933333333333,-55.68333333333333,-55.81333333333333,-55.904833333333336,-56.3325,-56.63616666666667,-56.18483333333333,-56.369,-56.55466666666667,-56.17916666666667,-56.675,-57.17783333333333,-57.839,-58.51766666666666,-58.39783333333333,-58.308,-58.108333333333334,-57.973333333333336,-57.7855,-57.1425,-56.6785,-56.34733333333333,-55.905833333333334,-55.4665,-54.843333333333334,-53.527166666666666,-52.718833333333336,-52.099666666666664,-51.55166666666667,-50.9635,-50.26916666666666,-49.296,-48.89816666666667,-48.57216666666667,-48.314166666666665,-47.985166666666665,-47.57416666666667,-46.98683333333334,-46.745,-46.26266666666667,-45.69716666666667,-45.1345,-44.39366666666667,-43.778,-43.445,-42.86066666666667,-42.281666666666666,-41.803,-40.62716666666667,-38.93,-37.81783333333333,-36.974666666666664,-36.153166666666664,-35.4585,-34.7575,-33.581,-32.64266666666666,-31.857666666666667,-31.156166666666667,-30.494,-29.574333333333332,-27.889333333333333,-26.987833333333334,-26.464333333333332,-25.937666666666665,-25.4715,-24.955166666666667,-24.03783333333333,-23.281166666666667,-22.728,-22.226333333333333,-21.782333333333334,-21.3055,-19.869333333333334,-18.9955,-18.403166666666667,-18.181333333333335,-17.642333333333333,-16.842166666666667,-15.210833333333333,-14.316666666666666,-13.576166666666667,-12.807833333333333,-12.034,-11.105833333333333,-9.385333333333334,-8.377,-7.553,-6.740166666666667,-5.940666666666667,-4.796,-2.7201666666666666,-1.6128333333333333,-0.8493333333333334,-0.15966666666666668,0.522,1.3545,2.1066666666666665,2.466,2.8401666666666667,3.1715,3.2733333333333334,4.129166666666666,5.6353333333333335,6.422166666666667,7.087,7.708333333333333,8.401333333333334,9.432333333333334,11.1325,12.007,12.763,13.5515,14.327666666666667,15.318,17.121,18.102,18.907,19.693,20.499166666666667,21.515166666666666,23.086666666666666,23.951666666666668,24.691833333333335,25.4555,26.112666666666666,26.5925,27.7675,28.5455,29.017666666666667,29.687833333333334,30.409,31.2495,32.79183333333334,33.83233333333333,34.31183333333333,34.75416666666667,35.07983333333333,35.49883333333333,36.351,36.7235,36.978,37.30566666666667,38.11183333333334,38.9345,39.5855,40.1075,40.567,40.93866666666667,41.3485,41.95366666666666,43.10666666666667,43.804833333333335,44.3355,44.705333333333336],\"line\":{\"color\":\"green\",\"width\":1.5},\"lon\":[-1.8248333333333333,-2.318,-2.974666666666667,-4.2476666666666665,-5.9425,-6.868666666666667,-7.572666666666667,-7.805833333333333,-8.1935,-8.748,-9.046166666666666,-9.343166666666667,-9.698,-10.384666666666666,-10.909666666666666,-11.8315,-13.693666666666667,-14.95,-15.596,-16.221333333333334,-16.922833333333333,-17.663166666666665,-19.2785,-20.453666666666667,-20.869,-21.604,-22.177833333333332,-23.182333333333332,-23.999166666666667,-24.600833333333334,-25.035333333333334,-25.3645,-25.617,-25.941833333333335,-26.525666666666666,-27.236,-27.830166666666667,-28.408,-28.179333333333332,-27.926333333333332,-28.088333333333335,-28.086,-28.142,-28.156333333333333,-28.2395,-28.338833333333334,-28.539666666666665,-28.544333333333334,-28.576,-28.543,-28.460833333333333,-28.221166666666665,-28.165333333333333,-28.1795,-28.092166666666667,-28.079,-28.05516666666667,-28.094833333333334,-28.296333333333333,-28.506333333333334,-28.646166666666666,-28.825666666666667,-29.018166666666666,-29.3245,-29.617833333333333,-29.801,-30.012166666666666,-30.1265,-30.278333333333332,-30.465166666666665,-30.683666666666667,-30.610166666666668,-30.4595,-30.343,-30.2565,-29.983333333333334,-29.562833333333334,-29.086833333333335,-28.769166666666667,-28.345666666666666,-27.973666666666666,-27.449,-26.6825,-26.206166666666668,-25.949166666666667,-25.6375,-25.285166666666665,-24.931833333333334,-24.4215,-24.096666666666668,-23.799166666666668,-23.335833333333333,-22.841666666666665,-22.165166666666668,-21.6465,-21.2245,-20.936833333333333,-20.838166666666666,-21.0385,-20.878333333333334,-20.423166666666667,-20.203,-19.839166666666667,-19.7165,-19.270166666666668,-19.215333333333334,-18.211,-17.564833333333333,-17.441666666666666,-17.4825,-17.706833333333332,-17.783833333333334,-17.05,-16.3545,-15.696833333333334,-14.8135,-13.952333333333334,-12.896333333333333,-10.545833333333333,-9.3535,-8.386666666666667,-7.539,-6.5841666666666665,-5.1771666666666665,-2.5326666666666666,-1.156,-0.4671666666666667,0.4341666666666667,1.4391666666666667,2.7756666666666665,5.159,6.6530000000000005,7.701833333333333,8.642333333333333,9.263333333333334,9.221,9.814166666666667,11.277333333333333,12.298,13.301,14.446,15.922666666666666,18.148666666666667,19.202333333333332,20.1905,21.233833333333333,22.222,23.326666666666668,25.847166666666666,27.203666666666667,28.324833333333334,29.4355,30.532,32.11716666666667,34.935,36.720333333333336,37.994166666666665,39.038666666666664,40.191,41.602666666666664,44.13166666666667,45.525166666666664,46.717166666666664,47.92483333333333,49.048,50.3115,51.90566666666667,53.04,54.07233333333333,55.16983333333334,56.368,58.0635,61.075833333333335,62.66416666666667,63.629333333333335,64.46383333333333,65.285,66.25033333333333,67.15433333333333,67.7955,68.423,69.16933333333333,69.877,71.0045,72.97333333333333,74.28266666666667,75.21233333333333,75.97016666666667,76.62733333333334,77.81,80.1175,81.34733333333334,82.26216666666667,83.29466666666667,84.42333333333333,86.03683333333333,88.88283333333334,90.46283333333334,91.41183333333333,92.58183333333334,93.67366666666666,95.342,98.1595,99.8135,101.1745,102.3935,103.32066666666667,104.516,106.69733333333333,107.90433333333333,108.90266666666666,109.89083333333333,111.11766666666666,112.86833333333334,115.68666666666667,117.2485,118.25816666666667,119.08983333333333,119.986,120.547,121.11,121.3845,121.71683333333333,122.28633333333333,122.84066666666666,123.8055,126.36433333333333,127.98983333333334,129.2065,130.50366666666667,131.87366666666668,133.56516666666667,136.65316666666666,138.55116666666666,139.93833333333333,141.31933333333333,142.62083333333334,144.30883333333333,147.64466666666667,149.31866666666667,150.4865,151.7605,152.82816666666668,153.96966666666665,155.75633333333334,156.54566666666668,157.278,157.81216666666666,158.65833333333333,163.46566666666666,164.90333333333334,165.71466666666666,166.51933333333332,167.45933333333332,169.03533333333334,172.33416666666668,174.085,175.302,176.45316666666668,177.77033333333333,179.39633333333333,-177.81866666666667,-176.36316666666667,-175.40483333333333,-174.52,-173.54766666666666,-172.13483333333335,-170.043,-168.83733333333333,-168.17616666666666,-167.66466666666668,-167.232,-166.79383333333334,-165.02316666666667,-163.70083333333332,-162.70183333333333,-161.73783333333333,-160.563,-159.34683333333334,-156.983,-155.59566666666666,-154.79083333333332,-154.10833333333332,-153.57133333333334,-152.633,-151.4435,-150.628,-149.86716666666666,-149.21716666666666,-148.614,-147.91283333333334,-146.63083333333333,-146.04066666666668,-145.49116666666666,-144.83566666666667,-144.04483333333334,-142.62283333333335,-139.39766666666668,-137.51366666666667,-136.11,-134.78683333333333,-133.546,-132.05,-129.22183333333334,-127.47583333333333,-126.11166666666666,-124.80766666666666,-123.66216666666666,-121.9985,-119.00233333333334,-117.34,-116.46416666666667,-115.703,-114.80833333333334,-113.70166666666667,-112.01216666666667,-111.418,-110.8725,-109.9475,-108.95583333333333,-108.06666666666666,-105.4575,-103.31433333333334,-101.9445,-100.80833333333334,-99.43,-97.33566666666667,-94.07983333333334,-92.24116666666667,-90.83266666666667,-89.70816666666667,-88.62316666666666,-87.0735,-84.38916666666667,-82.9405,-81.62016666666666,-80.64316666666667,-79.55583333333334,-78.1795,-75.57733333333333,-73.54533333333333,-72.05083333333333,-70.486,-69.11383333333333,-67.17133333333334,-63.713,-62.08533333333333,-61.0275,-60.043,-59.022,-57.555166666666665,-54.983333333333334,-53.350833333333334,-52.206,-51.261833333333335,-50.3975,-49.422,-47.72966666666667,-46.8275,-46.256,-45.52916666666667,-44.812333333333335,-43.862,-42.0665,-41.03766666666667,-41.386833333333335,-41.74766666666667,-42.223,-42.780166666666666,-42.522333333333336,-41.5825,-40.592166666666664,-39.748,-39.05466666666667,-38.011,-36.96783333333333,-36.65266666666667,-36.510666666666665,-36.57083333333333,-36.8245,-37.263666666666666,-37.322833333333335,-37.04533333333333,-36.99166666666667,-36.61533333333333,-36.15866666666667,-35.58566666666667,-34.74466666666667,-34.34766666666667,-34.097833333333334,-33.80416666666667,-33.595333333333336,-33.61483333333334,-33.57216666666667,-33.48466666666667,-33.5605,-33.5715,-33.5485,-33.685,-33.79183333333334,-33.705,-33.85166666666667,-33.9625,-33.975,-33.99633333333333,-33.8575,-33.795,-33.69566666666667,-33.590833333333336,-33.592,-33.54666666666667,-33.47266666666667,-33.414833333333334,-33.387166666666666,-33.2715,-33.071666666666665,-33.0555,-33.13633333333333,-33.103,-33.123,-33.372166666666665,-33.5745,-33.466166666666666,-33.88466666666667,-33.83733333333333,-33.813833333333335,-33.8325,-33.87766666666667,-34.16466666666667,-34.55233333333334,-34.86633333333333,-35.13216666666667,-35.47566666666667,-35.82783333333333,-36.26466666666666,-36.860166666666665,-37.14066666666667,-37.286,-37.5035,-37.71966666666667,-37.927166666666665,-38.2085,-38.224,-38.221,-38.218,-38.19716666666667,-38.134166666666665,-37.872166666666665,-37.89183333333333,-37.73916666666667,-37.6155,-37.3335,-37.03633333333333,-35.918166666666664,-35.43483333333333,-35.48166666666667,-35.69916666666667,-35.8065,-35.4495,-35.4875,-35.601,-35.07783333333333,-34.18666666666667,-33.23316666666667,-31.886166666666668,-29.551166666666667,-28.188666666666666,-27.118666666666666,-26.216666666666665,-26.236166666666666,-26.121166666666667,-24.296333333333333,-23.1825,-22.372,-21.488833333333332,-20.549,-19.308166666666665,-17.1165,-15.888166666666667,-14.931,-13.705166666666667],\"mode\":\"lines\",\"name\":\"jean le cam\",\"opacity\":1,\"text\":\"jean le cam\",\"type\":\"scattergeo\"},{\"lat\":[46.419,46.351,46.35783333333333,46.31666666666667,46.590333333333334,46.889,46.60966666666667,46.149166666666666,45.633,44.64566666666666,43.81733333333333,43.554833333333335,43.5455,43.482166666666664,43.40866666666667,43.21966666666667,42.8715,42.3875,41.726333333333336,41.275166666666664,41.010333333333335,40.20516666666666,39.901833333333336,39.4725,38.84766666666667,38.306666666666665,37.881,37.61716666666667,36.101,35.009166666666665,34.17433333333334,33.496,32.92366666666667,31.959333333333333,30.167166666666667,29.439833333333333,28.945,28.420666666666666,27.9105,27.2785,26.061666666666667,25.269666666666666,24.501166666666666,23.759666666666668,22.965166666666665,21.787333333333333,19.561333333333334,18.254333333333335,17.284,16.334,15.391666666666667,14.401166666666667,12.445333333333334,11.491333333333333,10.603,9.627333333333333,8.709833333333334,7.507666666666667,6.0071666666666665,5.083333333333333,4.368833333333333,3.5923333333333334,2.8706666666666667,1.9793333333333334,-0.04283333333333333,-1.2076666666666667,-2.1695,-3.081,-3.9908333333333332,-5.16,-7.274333333333334,-8.414666666666667,-9.425833333333333,-10.468166666666667,-11.463666666666667,-12.726333333333333,-14.981833333333332,-16.1085,-17.105166666666666,-17.878666666666668,-18.76,-19.685666666666666,-21.209833333333332,-22.051,-22.691666666666666,-23.2075,-23.518166666666666,-23.933166666666665,-24.793,-25.4585,-25.8505,-26.244666666666667,-26.47,-26.786833333333334,-27.308666666666667,-27.753833333333333,-28.204833333333333,-28.617,-28.981666666666666,-29.411833333333334,-30.023333333333333,-30.309666666666665,-30.452833333333334,-30.828833333333332,-31.202166666666667,-31.818166666666666,-33.318,-33.9135,-34.309,-34.75783333333333,-35.095333333333336,-35.4175,-36.383,-37.096833333333336,-37.569833333333335,-37.92916666666667,-38.06166666666667,-38.283,-38.89066666666667,-39.02066666666666,-39.198,-39.354166666666664,-39.207166666666666,-39.09616666666667,-38.765,-38.620666666666665,-38.471666666666664,-38.99733333333333,-39.32333333333333,-39.55683333333333,-40.03933333333333,-40.2595,-40.52133333333333,-40.910333333333334,-40.9445,-40.9445,-40.9445],\"line\":{\"color\":\"red\",\"width\":2.5},\"lon\":[-1.8203333333333334,-2.4431666666666665,-3.218,-4.765666666666666,-7.17,-8.167166666666667,-8.5275,-8.7365,-9.1,-9.469666666666667,-9.811666666666667,-10.304333333333334,-11.109,-12.2125,-13.132333333333333,-14.585666666666667,-16.727333333333334,-17.138333333333332,-17.584833333333332,-18.131833333333333,-18.4915,-18.809833333333334,-20.749,-22.193666666666665,-22.934,-23.4875,-24.099333333333334,-24.884166666666665,-25.693,-26.019,-26.021333333333335,-26.179333333333332,-26.732666666666667,-27.303,-28.694333333333333,-29.458666666666666,-29.4895,-29.167833333333334,-28.781666666666666,-28.779166666666665,-28.201833333333333,-27.936,-27.796666666666667,-27.806666666666665,-27.820166666666665,-27.808666666666667,-27.868,-28.00583333333333,-28.152166666666666,-28.33566666666667,-28.416833333333333,-28.357333333333333,-28.523666666666667,-28.69783333333333,-28.692666666666668,-28.69483333333333,-28.6765,-28.637,-28.657333333333334,-28.630833333333335,-28.699333333333332,-28.814166666666665,-28.880166666666668,-29.122166666666665,-29.698833333333333,-29.863,-30.182833333333335,-30.501333333333335,-30.7485,-31.05666666666667,-31.628666666666668,-31.9015,-32.0385,-32.02616666666667,-32.10366666666667,-32.083666666666666,-31.858833333333333,-31.5145,-31.4595,-31.417166666666667,-31.166666666666668,-30.72833333333333,-29.734833333333334,-29.122,-28.641666666666666,-28.049,-27.5845,-27.1235,-26.2465,-25.563,-25.137833333333333,-24.73,-24.392,-23.94483333333333,-22.856833333333334,-22.241,-21.955833333333334,-21.560166666666667,-21.656333333333333,-21.873166666666666,-21.981333333333332,-22.0285,-21.652333333333335,-21.9295,-22.134666666666668,-22.383666666666667,-22.977666666666668,-23.3575,-23.477833333333333,-23.528833333333335,-23.413666666666668,-23.098166666666668,-21.541833333333333,-20.488166666666668,-19.6325,-18.642666666666667,-17.680666666666667,-16.3785,-13.46,-11.745333333333333,-10.471333333333334,-9.225833333333334,-7.9325,-6.1605,-3.135,-1.8518333333333334,-0.988,-0.005333333333333333,1.1503333333333332,2.6691666666666665,5.4595,7.1338333333333335,8.185666666666666,9.1755,9.272166666666667,9.272166666666667,9.272166666666667],\"mode\":\"lines\",\"name\":\"kevin escoffier\",\"opacity\":1,\"text\":\"kevin escoffier\",\"type\":\"scattergeo\"},{\"lat\":[46.419,46.294,46.242666666666665,46.18866666666667,46.24666666666667,46.450833333333335,46.410666666666664,46.00333333333333,45.599333333333334,44.895833333333336,44.01233333333333,43.539,43.2725,42.915,42.563833333333335,42.03366666666667,41.43533333333333,41.12716666666667,41.071,40.8775,40.67283333333334,40.51883333333333,39.661,39.2195,39.06783333333333,38.6865,38.228833333333334,37.625166666666665,36.763333333333335,35.853,35.0595,34.390166666666666,33.63583333333333,32.784333333333336,31.150833333333335,30.1935,29.639666666666667,29.129,28.559166666666666,27.982166666666668,26.9275,26.169666666666668,25.600166666666667,24.820833333333333,24.031666666666666,23.145166666666668,21.075166666666668,19.813833333333335,18.908666666666665,17.9845,17.0155,15.866,13.997666666666667,13.049333333333333,12.277666666666667,11.457,10.687666666666667,9.709666666666667,7.784,6.575333333333333,5.816,4.9265,4.129666666666667,3.1506666666666665,1.4113333333333333,0.2615,-0.6653333333333333,-1.5579999999999998,-2.4368333333333334,-3.5484999999999998,-5.686,-6.8825,-7.786333333333333,-8.7615,-9.733666666666666,-10.863833333333334,-12.9205,-14.235,-15.227,-16.227,-17.186833333333333,-18.215666666666667,-19.750333333333334,-20.57283333333333,-21.399333333333335,-21.971333333333334,-22.373,-22.8615,-23.520833333333332,-24.243833333333335,-24.728,-25.216833333333334,-25.545166666666667,-25.93,-26.538,-27.102833333333333,-27.494166666666665,-27.941833333333335,-28.342333333333332,-28.601,-29.182666666666666,-29.446833333333334,-29.722666666666665,-30.135166666666667,-30.583166666666667,-31.1815,-32.65133333333333,-33.4085,-33.89566666666666,-34.41,-34.86833333333333,-35.323166666666665,-36.4205,-37.23416666666667,-37.69833333333333,-38.026666666666664,-38.19883333333333,-38.47,-38.973,-39.07033333333333,-39.253166666666665,-39.36633333333333,-39.312,-39.0935,-38.49916666666667,-37.92466666666667,-37.37833333333333,-37.957,-38.467333333333336,-38.93233333333333,-39.801,-40.13933333333333,-40.51983333333333,-41.04416666666667,-41.491,-40.897333333333336,-40.60933333333333,-40.52316666666667,-40.67366666666667,-40.6785,-40.8025,-40.900666666666666,-42.07866666666666,-41.910333333333334,-41.341,-40.79083333333333,-40.23166666666667,-39.521,-39.844833333333334,-39.99466666666667,-39.970333333333336,-40.12283333333333,-40.20933333333333,-40.3,-40.013,-39.858333333333334,-39.9265,-40.0065,-39.9455,-40.108,-40.71366666666667,-41.08866666666667,-41.31633333333333,-41.5385,-41.80683333333333,-42.2985,-41.90416666666667,-41.1525,-40.834833333333336,-40.541,-40.26316666666666,-40.157833333333336,-40.114,-40.114666666666665,-39.980333333333334,-39.9475,-40.21516666666667,-40.62716666666667,-40.955666666666666,-41.04516666666667,-41.06483333333333,-40.969166666666666,-41.1415,-41.411,-41.6965,-42.026833333333336,-42.5685,-42.0345,-41.775666666666666,-41.447,-40.85733333333334,-41.32366666666667,-41.746,-42.259166666666665,-42.73766666666667,-43.47366666666667,-43.86683333333333,-43.82083333333333,-43.816,-43.750166666666665,-43.64,-43.494,-43.568333333333335,-43.61966666666667,-43.715666666666664,-43.89666666666667,-44.05683333333333,-44.131166666666665,-44.132333333333335,-44.18933333333333,-44.3795,-44.54366666666667,-44.7445,-45.146166666666666,-45.96066666666667,-46.35333333333333,-46.66583333333333,-46.98133333333333,-47.32633333333333,-47.55983333333333,-48.25183333333333,-48.81166666666667,-49.50783333333333,-50.35666666666667,-51.188,-52.2335,-53.79483333333334,-53.76,-53.79683333333333,-53.88633333333333,-54.0285,-54.261833333333335,-54.735166666666665,-54.95483333333333,-55.27166666666667,-55.48166666666667,-55.621833333333335,-55.742333333333335,-55.61716666666667,-55.70616666666667,-55.79933333333334,-55.712833333333336,-55.83683333333333,-55.534166666666664,-54.8885,-54.835166666666666,-54.8055,-54.903333333333336,-54.507666666666665,-54.67433333333334,-54.86633333333333,-55.17333333333333,-55.5755,-56.211333333333336,-55.964166666666664,-55.4635,-55.95466666666667,-56.00516666666667,-55.62466666666667,-55.30583333333333,-55.7455,-55.339,-55.579166666666666,-55.407666666666664,-55.1695,-54.74,-54.17016666666667,-53.802166666666665,-53.6715,-53.495666666666665,-53.29333333333334,-53.14216666666667,-52.839666666666666,-52.233333333333334,-51.937666666666665,-51.76683333333333,-51.53933333333333,-51.36416666666667,-51.1555,-50.5285,-50.03066666666667,-49.598,-49.257333333333335,-48.88016666666667,-49.373666666666665,-50.399166666666666,-50.88633333333333,-51.1555,-51.3585,-51.554,-51.836666666666666,-52.24816666666667,-52.38466666666667,-52.490833333333335,-52.61216666666667,-52.2735,-52.064166666666665,-52.909166666666664,-53.14416666666666,-53.3285,-53.46933333333333,-53.62116666666667,-53.26283333333333,-52.25266666666667,-53.011,-53.61333333333333,-54.220666666666666,-54.662,-55.5625,-55.54666666666667,-56.0055,-55.78616666666667,-55.725833333333334,-55.879333333333335,-56.26,-56.654666666666664,-56.779666666666664,-56.77,-56.65566666666667,-56.624,-56.58583333333333,-56.5915,-56.753,-56.92316666666667,-57.097166666666666,-57.279833333333336,-57.41283333333333,-57.6215,-57.63783333333333,-57.571333333333335,-57.41833333333334,-57.196666666666665,-56.72866666666667,-55.7705,-55.26283333333333,-55.0615,-55.38016666666667,-55.531166666666664,-54.709,-53.44983333333333,-52.74666666666667,-52.19766666666666,-51.79333333333334,-51.221666666666664,-50.392833333333336,-48.546166666666664,-47.87583333333333,-47.25983333333333,-46.724,-46.20066666666666,-45.843,-45.1335,-44.650666666666666,-44.12566666666667,-43.629666666666665,-42.98883333333333,-42.05683333333333,-40.01766666666666,-38.8515,-38.012166666666666,-37.140166666666666,-36.4835,-35.773,-34.469166666666666,-34.167,-33.825,-33.218666666666664,-33.053666666666665,-32.593666666666664,-31.8035,-31.161166666666666,-30.693666666666665,-30.230333333333334,-29.984,-29.504333333333335,-28.455666666666666,-27.996833333333335,-27.4835,-26.762833333333333,-26.439333333333334,-26.063833333333335,-25.5945,-25.339166666666667,-25.232333333333333,-25.0805,-25.003333333333334,-24.72833333333333,-23.859,-23.2915,-22.959,-22.514333333333333,-22.417833333333334,-21.994166666666665,-20.8215,-20.072166666666668,-19.593833333333333,-19.065333333333335,-18.501333333333335,-17.788833333333333,-16.528,-15.951833333333333,-15.395333333333333,-15.1755,-14.585333333333333,-13.6715,-12.188833333333333,-11.508666666666667,-10.840166666666667,-10.157666666666668,-9.5195,-8.671333333333333,-6.878333333333334,-5.816666666666666,-4.889333333333333,-3.979,-3.077166666666667,-1.8176666666666668,0.2693333333333333,0.9663333333333333,1.3688333333333333,1.8593333333333333,2.4126666666666665,2.725,3.1666666666666665,3.3905,3.7028333333333334,4.3853333333333335,5.227,6.179333333333333,7.6455,8.597666666666667,9.380166666666666,10.167,10.910833333333333,11.9335,13.984166666666667,15.103666666666667,15.952166666666667,16.8095,17.6735,18.852,20.643166666666666,21.6695,22.385833333333334,23.170333333333332,23.8955,24.955666666666666,26.456833333333332,27.153333333333332,27.667833333333334,28.288833333333333,29.115666666666666,29.894833333333334,31.3315,31.902,32.409333333333336,32.912166666666664,33.41016666666667,34.087,36.216833333333334,37.4445,38.33383333333333,39.26733333333333,39.727666666666664,40.214666666666666,40.44766666666666,40.4285,40.996833333333335,41.88883333333333,42.851333333333336,44.078833333333336,46.1715,46.47816666666667,46.855,47.266333333333336,47.468666666666664,47.590833333333336,47.874,47.8895,47.8435,47.723],\"line\":{\"color\":\"blue\",\"width\":1},\"lon\":[-1.8151666666666666,-2.3993333333333333,-3.176833333333333,-4.584,-6.652666666666667,-7.6335,-8.075,-8.294,-8.697,-9.3265,-9.497666666666667,-9.1705,-9.255,-9.6965,-10.131166666666667,-11.160833333333333,-12.827333333333334,-13.963333333333333,-14.9585,-15.547333333333333,-16.2305,-17.050666666666668,-18.60033333333333,-19.707833333333333,-20.343333333333334,-20.977166666666665,-21.565833333333334,-22.425333333333334,-23.662666666666667,-24.0865,-24.2695,-24.395833333333332,-24.615666666666666,-25.213166666666666,-26.21366666666667,-26.7955,-27.247,-27.515833333333333,-27.91283333333333,-28.226166666666668,-28.116,-28.112166666666667,-28.144333333333332,-28.170166666666667,-28.227833333333333,-28.4405,-28.448833333333333,-28.306833333333334,-28.261666666666667,-28.2595,-28.291666666666668,-28.18,-28.044166666666666,-27.998833333333334,-27.9465,-27.927666666666667,-27.866333333333333,-27.817,-27.681666666666665,-27.3945,-27.314,-27.297666666666668,-27.3985,-27.524833333333333,-28.262,-28.83416666666667,-29.082166666666666,-29.3645,-29.628166666666665,-30.049666666666667,-30.658666666666665,-31.030666666666665,-31.2105,-31.283833333333334,-31.301333333333332,-31.2215,-31.0265,-30.890833333333333,-30.809,-30.580333333333332,-30.2755,-29.828,-29.1995,-28.76,-28.387666666666668,-27.955666666666666,-27.526833333333332,-27.291666666666668,-26.78933333333333,-26.33716666666667,-25.897666666666666,-25.420166666666667,-25.110166666666668,-24.7775,-24.329,-23.651333333333334,-23.184833333333334,-22.737166666666667,-22.232333333333333,-21.816833333333335,-21.4575,-21.477333333333334,-21.657333333333334,-21.925166666666666,-22.163166666666665,-22.453166666666668,-22.7035,-23.008666666666667,-23.228166666666667,-23.3265,-23.239,-22.838166666666666,-21.4645,-20.38,-19.41433333333333,-18.387333333333334,-17.466333333333335,-16.155666666666665,-13.506833333333333,-11.861833333333333,-10.662166666666666,-9.575333333333333,-8.2395,-6.494166666666667,-3.5776666666666666,-2.0728333333333335,-1.1695,-0.4031666666666667,0.5366666666666667,1.9898333333333333,4.509,5.95,6.908833333333334,7.811166666666667,8.905166666666666,9.291833333333333,9.844666666666667,10.6995,11.761666666666667,12.729166666666666,13.928833333333333,15.097166666666666,16.873666666666665,17.992,19.182,20.2445,21.245,22.322333333333333,25.169833333333333,26.692166666666665,27.867166666666666,29.023833333333332,30.262333333333334,31.885,34.77883333333333,36.45583333333333,37.66883333333333,38.614,39.74,41.254,43.7975,45.288833333333336,46.481,47.619,48.6795,49.818333333333335,51.27033333333333,52.439,53.368833333333335,54.554833333333335,55.73133333333333,57.241,60.13483333333333,61.713166666666666,62.88966666666666,63.8825,64.80083333333333,65.6735,67.79366666666667,68.83916666666667,69.7015,70.56283333333333,71.40883333333333,72.69733333333333,75.1485,76.41983333333333,77.16833333333334,77.94716666666666,79.06033333333333,80.55566666666667,82.26416666666667,83.41133333333333,84.364,85.25366666666666,86.268,87.66466666666666,90.54633333333334,92.27966666666667,93.54483333333333,94.85333333333334,96.28033333333333,98.07816666666666,101.11066666666666,102.89033333333333,103.9605,105.09216666666667,106.22716666666666,107.65416666666667,110.52516666666666,112.1435,113.38666666666667,114.5825,115.89766666666667,117.276,120.26833333333333,122.28333333333333,123.6325,125.08283333333334,126.33983333333333,128.17216666666667,130.20233333333334,131.03216666666665,131.78766666666667,132.43716666666666,133.0315,133.83733333333333,135.36666666666667,137.49216666666666,139.017,140.69266666666667,142.39566666666667,144.63216666666668,148.42066666666668,150.1505,151.32566666666668,152.9525,154.6925,156.62066666666666,157.99766666666667,158.986,159.41283333333334,159.89583333333334,160.856,162.53483333333332,165.59333333333333,167.12116666666665,168.04283333333333,169.0385,170.17066666666668,175.27283333333332,177.49066666666667,178.82833333333335,179.94383333333334,-178.863,-177.34166666666667,-174.8845,-173.385,-172.61583333333334,-171.92266666666666,-170.7695,-169.52766666666668,-167.37466666666666,-166.08166666666668,-165.00066666666666,-164.16116666666667,-163.4635,-162.3745,-160.2375,-159.1525,-158.17216666666667,-157.29216666666667,-156.4995,-155.33616666666666,-153.48133333333334,-152.3755,-151.433,-150.61283333333333,-149.76233333333334,-148.62716666666665,-146.94966666666667,-146.22633333333334,-145.75733333333332,-145.42166666666665,-144.95783333333333,-144.27566666666667,-142.95316666666668,-142.07716666666667,-141.3085,-140.52283333333332,-139.768,-138.638,-136.433,-135.14933333333335,-134.195,-133.24233333333333,-132.92166666666665,-132.28166666666667,-129.651,-127.8755,-126.48933333333333,-125.02333333333333,-123.83216666666667,-122.04933333333334,-119.75733333333334,-118.646,-117.656,-116.737,-115.856,-114.87816666666667,-112.52283333333334,-111.66033333333333,-110.18333333333334,-108.6745,-106.96266666666666,-104.68666666666667,-100.594,-98.02466666666666,-96.11633333333333,-94.3245,-92.5835,-90.40033333333334,-86.881,-84.64383333333333,-82.988,-81.6805,-79.888,-77.352,-73.1435,-70.883,-69.1475,-67.39033333333333,-65.73566666666666,-63.667833333333334,-62.032833333333336,-61.679,-61.11666666666667,-60.05,-58.983333333333334,-57.48866666666667,-55.3685,-54.25216666666667,-53.362833333333334,-52.060833333333335,-50.6765,-48.907833333333336,-47.36116666666667,-46.84583333333333,-46.764833333333335,-46.707166666666666,-46.87883333333333,-46.897666666666666,-46.398833333333336,-46.25083333333333,-46.13733333333333,-46.01866666666667,-45.727,-45.2855,-44.658,-44.5475,-44.43533333333333,-44.370333333333335,-44.5415,-44.8185,-45.12983333333333,-45.240833333333335,-45.198,-44.75716666666667,-44.26733333333333,-43.67183333333333,-42.655,-42.20766666666667,-41.96183333333333,-41.865833333333335,-41.44716666666667,-41.09866666666667,-40.216833333333334,-39.663,-39.3325,-39.083333333333336,-39.1625,-39.2795,-38.8995,-38.762166666666666,-38.48583333333333,-38.038833333333336,-37.62133333333333,-37.62983333333333,-37.435,-37.496833333333335,-37.55733333333333,-37.556333333333335,-37.28766666666667,-37.12433333333333,-36.74816666666667,-36.62983333333333,-36.52016666666667,-36.361666666666665,-36.2545,-36.14066666666667,-35.930166666666665,-35.864666666666665,-35.739666666666665,-35.590666666666664,-35.476,-35.31766666666667,-35.099,-35.00966666666667,-34.81616666666667,-34.677166666666665,-34.4935,-34.17933333333333,-33.86083333333333,-33.685,-33.54816666666667,-33.549,-33.43566666666667,-33.297,-33.2775,-33.080666666666666,-32.8815,-32.70466666666667,-32.443333333333335,-32.547666666666665,-32.45033333333333,-32.3855,-32.4005,-32.5125,-32.481,-32.75633333333333,-33.8515,-34.465333333333334,-34.90416666666667,-35.268,-35.720166666666664,-36.2025,-36.87566666666667,-37.371,-37.608666666666664,-37.748,-37.9,-38.047333333333334,-38.0895,-38.1225,-38.0005,-37.902166666666666,-37.784166666666664,-37.519333333333336,-37.00183333333333,-36.717,-36.2845,-35.95616666666667,-35.505833333333335,-34.80883333333333,-33.421,-32.43483333333333,-31.705,-30.970166666666668,-30.039666666666665,-29.398,-29.50733333333333,-29.3735,-29.425833333333333,-29.651333333333334,-28.912333333333333,-27.423333333333332,-24.652,-22.955833333333334,-22.589333333333332,-22.783166666666666,-22.822166666666668,-22.866833333333332,-23.259833333333333,-21.590666666666667,-20.369166666666665,-18.9935,-17.570333333333334,-15.831666666666667,-12.467,-10.551833333333333,-9.317166666666667,-7.980166666666666],\"mode\":\"lines\",\"name\":\"yannick bestaven\",\"opacity\":1,\"type\":\"scattergeo\"}],                        {\"geo\":{\"countrycolor\":\"rgb(204, 204, 204)\",\"landcolor\":\"rgb(243, 243, 243)\",\"projection\":{\"type\":\"orthographic\"},\"showland\":true},\"height\":700,\"showlegend\":true,\"template\":{\"data\":{\"bar\":[{\"error_x\":{\"color\":\"#2a3f5f\"},\"error_y\":{\"color\":\"#2a3f5f\"},\"marker\":{\"line\":{\"color\":\"#E5ECF6\",\"width\":0.5},\"pattern\":{\"fillmode\":\"overlay\",\"size\":10,\"solidity\":0.2}},\"type\":\"bar\"}],\"barpolar\":[{\"marker\":{\"line\":{\"color\":\"#E5ECF6\",\"width\":0.5},\"pattern\":{\"fillmode\":\"overlay\",\"size\":10,\"solidity\":0.2}},\"type\":\"barpolar\"}],\"carpet\":[{\"aaxis\":{\"endlinecolor\":\"#2a3f5f\",\"gridcolor\":\"white\",\"linecolor\":\"white\",\"minorgridcolor\":\"white\",\"startlinecolor\":\"#2a3f5f\"},\"baxis\":{\"endlinecolor\":\"#2a3f5f\",\"gridcolor\":\"white\",\"linecolor\":\"white\",\"minorgridcolor\":\"white\",\"startlinecolor\":\"#2a3f5f\"},\"type\":\"carpet\"}],\"choropleth\":[{\"colorbar\":{\"outlinewidth\":0,\"ticks\":\"\"},\"type\":\"choropleth\"}],\"contour\":[{\"colorbar\":{\"outlinewidth\":0,\"ticks\":\"\"},\"colorscale\":[[0.0,\"#0d0887\"],[0.1111111111111111,\"#46039f\"],[0.2222222222222222,\"#7201a8\"],[0.3333333333333333,\"#9c179e\"],[0.4444444444444444,\"#bd3786\"],[0.5555555555555556,\"#d8576b\"],[0.6666666666666666,\"#ed7953\"],[0.7777777777777778,\"#fb9f3a\"],[0.8888888888888888,\"#fdca26\"],[1.0,\"#f0f921\"]],\"type\":\"contour\"}],\"contourcarpet\":[{\"colorbar\":{\"outlinewidth\":0,\"ticks\":\"\"},\"type\":\"contourcarpet\"}],\"heatmap\":[{\"colorbar\":{\"outlinewidth\":0,\"ticks\":\"\"},\"colorscale\":[[0.0,\"#0d0887\"],[0.1111111111111111,\"#46039f\"],[0.2222222222222222,\"#7201a8\"],[0.3333333333333333,\"#9c179e\"],[0.4444444444444444,\"#bd3786\"],[0.5555555555555556,\"#d8576b\"],[0.6666666666666666,\"#ed7953\"],[0.7777777777777778,\"#fb9f3a\"],[0.8888888888888888,\"#fdca26\"],[1.0,\"#f0f921\"]],\"type\":\"heatmap\"}],\"heatmapgl\":[{\"colorbar\":{\"outlinewidth\":0,\"ticks\":\"\"},\"colorscale\":[[0.0,\"#0d0887\"],[0.1111111111111111,\"#46039f\"],[0.2222222222222222,\"#7201a8\"],[0.3333333333333333,\"#9c179e\"],[0.4444444444444444,\"#bd3786\"],[0.5555555555555556,\"#d8576b\"],[0.6666666666666666,\"#ed7953\"],[0.7777777777777778,\"#fb9f3a\"],[0.8888888888888888,\"#fdca26\"],[1.0,\"#f0f921\"]],\"type\":\"heatmapgl\"}],\"histogram\":[{\"marker\":{\"pattern\":{\"fillmode\":\"overlay\",\"size\":10,\"solidity\":0.2}},\"type\":\"histogram\"}],\"histogram2d\":[{\"colorbar\":{\"outlinewidth\":0,\"ticks\":\"\"},\"colorscale\":[[0.0,\"#0d0887\"],[0.1111111111111111,\"#46039f\"],[0.2222222222222222,\"#7201a8\"],[0.3333333333333333,\"#9c179e\"],[0.4444444444444444,\"#bd3786\"],[0.5555555555555556,\"#d8576b\"],[0.6666666666666666,\"#ed7953\"],[0.7777777777777778,\"#fb9f3a\"],[0.8888888888888888,\"#fdca26\"],[1.0,\"#f0f921\"]],\"type\":\"histogram2d\"}],\"histogram2dcontour\":[{\"colorbar\":{\"outlinewidth\":0,\"ticks\":\"\"},\"colorscale\":[[0.0,\"#0d0887\"],[0.1111111111111111,\"#46039f\"],[0.2222222222222222,\"#7201a8\"],[0.3333333333333333,\"#9c179e\"],[0.4444444444444444,\"#bd3786\"],[0.5555555555555556,\"#d8576b\"],[0.6666666666666666,\"#ed7953\"],[0.7777777777777778,\"#fb9f3a\"],[0.8888888888888888,\"#fdca26\"],[1.0,\"#f0f921\"]],\"type\":\"histogram2dcontour\"}],\"mesh3d\":[{\"colorbar\":{\"outlinewidth\":0,\"ticks\":\"\"},\"type\":\"mesh3d\"}],\"parcoords\":[{\"line\":{\"colorbar\":{\"outlinewidth\":0,\"ticks\":\"\"}},\"type\":\"parcoords\"}],\"pie\":[{\"automargin\":true,\"type\":\"pie\"}],\"scatter\":[{\"marker\":{\"colorbar\":{\"outlinewidth\":0,\"ticks\":\"\"}},\"type\":\"scatter\"}],\"scatter3d\":[{\"line\":{\"colorbar\":{\"outlinewidth\":0,\"ticks\":\"\"}},\"marker\":{\"colorbar\":{\"outlinewidth\":0,\"ticks\":\"\"}},\"type\":\"scatter3d\"}],\"scattercarpet\":[{\"marker\":{\"colorbar\":{\"outlinewidth\":0,\"ticks\":\"\"}},\"type\":\"scattercarpet\"}],\"scattergeo\":[{\"marker\":{\"colorbar\":{\"outlinewidth\":0,\"ticks\":\"\"}},\"type\":\"scattergeo\"}],\"scattergl\":[{\"marker\":{\"colorbar\":{\"outlinewidth\":0,\"ticks\":\"\"}},\"type\":\"scattergl\"}],\"scattermapbox\":[{\"marker\":{\"colorbar\":{\"outlinewidth\":0,\"ticks\":\"\"}},\"type\":\"scattermapbox\"}],\"scatterpolar\":[{\"marker\":{\"colorbar\":{\"outlinewidth\":0,\"ticks\":\"\"}},\"type\":\"scatterpolar\"}],\"scatterpolargl\":[{\"marker\":{\"colorbar\":{\"outlinewidth\":0,\"ticks\":\"\"}},\"type\":\"scatterpolargl\"}],\"scatterternary\":[{\"marker\":{\"colorbar\":{\"outlinewidth\":0,\"ticks\":\"\"}},\"type\":\"scatterternary\"}],\"surface\":[{\"colorbar\":{\"outlinewidth\":0,\"ticks\":\"\"},\"colorscale\":[[0.0,\"#0d0887\"],[0.1111111111111111,\"#46039f\"],[0.2222222222222222,\"#7201a8\"],[0.3333333333333333,\"#9c179e\"],[0.4444444444444444,\"#bd3786\"],[0.5555555555555556,\"#d8576b\"],[0.6666666666666666,\"#ed7953\"],[0.7777777777777778,\"#fb9f3a\"],[0.8888888888888888,\"#fdca26\"],[1.0,\"#f0f921\"]],\"type\":\"surface\"}],\"table\":[{\"cells\":{\"fill\":{\"color\":\"#EBF0F8\"},\"line\":{\"color\":\"white\"}},\"header\":{\"fill\":{\"color\":\"#C8D4E3\"},\"line\":{\"color\":\"white\"}},\"type\":\"table\"}]},\"layout\":{\"annotationdefaults\":{\"arrowcolor\":\"#2a3f5f\",\"arrowhead\":0,\"arrowwidth\":1},\"autotypenumbers\":\"strict\",\"coloraxis\":{\"colorbar\":{\"outlinewidth\":0,\"ticks\":\"\"}},\"colorscale\":{\"diverging\":[[0,\"#8e0152\"],[0.1,\"#c51b7d\"],[0.2,\"#de77ae\"],[0.3,\"#f1b6da\"],[0.4,\"#fde0ef\"],[0.5,\"#f7f7f7\"],[0.6,\"#e6f5d0\"],[0.7,\"#b8e186\"],[0.8,\"#7fbc41\"],[0.9,\"#4d9221\"],[1,\"#276419\"]],\"sequential\":[[0.0,\"#0d0887\"],[0.1111111111111111,\"#46039f\"],[0.2222222222222222,\"#7201a8\"],[0.3333333333333333,\"#9c179e\"],[0.4444444444444444,\"#bd3786\"],[0.5555555555555556,\"#d8576b\"],[0.6666666666666666,\"#ed7953\"],[0.7777777777777778,\"#fb9f3a\"],[0.8888888888888888,\"#fdca26\"],[1.0,\"#f0f921\"]],\"sequentialminus\":[[0.0,\"#0d0887\"],[0.1111111111111111,\"#46039f\"],[0.2222222222222222,\"#7201a8\"],[0.3333333333333333,\"#9c179e\"],[0.4444444444444444,\"#bd3786\"],[0.5555555555555556,\"#d8576b\"],[0.6666666666666666,\"#ed7953\"],[0.7777777777777778,\"#fb9f3a\"],[0.8888888888888888,\"#fdca26\"],[1.0,\"#f0f921\"]]},\"colorway\":[\"#636efa\",\"#EF553B\",\"#00cc96\",\"#ab63fa\",\"#FFA15A\",\"#19d3f3\",\"#FF6692\",\"#B6E880\",\"#FF97FF\",\"#FECB52\"],\"font\":{\"color\":\"#2a3f5f\"},\"geo\":{\"bgcolor\":\"white\",\"lakecolor\":\"white\",\"landcolor\":\"#E5ECF6\",\"showlakes\":true,\"showland\":true,\"subunitcolor\":\"white\"},\"hoverlabel\":{\"align\":\"left\"},\"hovermode\":\"closest\",\"mapbox\":{\"style\":\"light\"},\"paper_bgcolor\":\"white\",\"plot_bgcolor\":\"#E5ECF6\",\"polar\":{\"angularaxis\":{\"gridcolor\":\"white\",\"linecolor\":\"white\",\"ticks\":\"\"},\"bgcolor\":\"#E5ECF6\",\"radialaxis\":{\"gridcolor\":\"white\",\"linecolor\":\"white\",\"ticks\":\"\"}},\"scene\":{\"xaxis\":{\"backgroundcolor\":\"#E5ECF6\",\"gridcolor\":\"white\",\"gridwidth\":2,\"linecolor\":\"white\",\"showbackground\":true,\"ticks\":\"\",\"zerolinecolor\":\"white\"},\"yaxis\":{\"backgroundcolor\":\"#E5ECF6\",\"gridcolor\":\"white\",\"gridwidth\":2,\"linecolor\":\"white\",\"showbackground\":true,\"ticks\":\"\",\"zerolinecolor\":\"white\"},\"zaxis\":{\"backgroundcolor\":\"#E5ECF6\",\"gridcolor\":\"white\",\"gridwidth\":2,\"linecolor\":\"white\",\"showbackground\":true,\"ticks\":\"\",\"zerolinecolor\":\"white\"}},\"shapedefaults\":{\"line\":{\"color\":\"#2a3f5f\"}},\"ternary\":{\"aaxis\":{\"gridcolor\":\"white\",\"linecolor\":\"white\",\"ticks\":\"\"},\"baxis\":{\"gridcolor\":\"white\",\"linecolor\":\"white\",\"ticks\":\"\"},\"bgcolor\":\"#E5ECF6\",\"caxis\":{\"gridcolor\":\"white\",\"linecolor\":\"white\",\"ticks\":\"\"}},\"title\":{\"x\":0.05},\"xaxis\":{\"automargin\":true,\"gridcolor\":\"white\",\"linecolor\":\"white\",\"ticks\":\"\",\"title\":{\"standoff\":15},\"zerolinecolor\":\"white\",\"zerolinewidth\":2},\"yaxis\":{\"automargin\":true,\"gridcolor\":\"white\",\"linecolor\":\"white\",\"ticks\":\"\",\"title\":{\"standoff\":15},\"zerolinecolor\":\"white\",\"zerolinewidth\":2}}},\"title\":{\"text\":\"routes\"}},                        {\"responsive\": true}                    ).then(function(){\n",
       "                            \n",
       "var gd = document.getElementById('e6a13226-c8d7-45e3-b459-bc37564e8c22');\n",
       "var x = new MutationObserver(function (mutations, observer) {{\n",
       "        var display = window.getComputedStyle(gd).display;\n",
       "        if (!display || display === 'none') {{\n",
       "            console.log([gd, 'removed!']);\n",
       "            Plotly.purge(gd);\n",
       "            observer.disconnect();\n",
       "        }}\n",
       "}});\n",
       "\n",
       "// Listen for the removal of the full notebook cells\n",
       "var notebookContainer = gd.closest('#notebook-container');\n",
       "if (notebookContainer) {{\n",
       "    x.observe(notebookContainer, {childList: true});\n",
       "}}\n",
       "\n",
       "// Listen for the clearing of the current output cell\n",
       "var outputEl = gd.closest('.output');\n",
       "if (outputEl) {{\n",
       "    x.observe(outputEl, {childList: true});\n",
       "}}\n",
       "\n",
       "                        })                };                });            </script>        </div>"
      ]
     },
     "metadata": {},
     "output_type": "display_data"
    }
   ],
   "source": [
    "def convert_to_dms(val, orientation):\n",
    "    d = float(val.split('°')[0]) + float(val.split('°')[1].split(\"\\'\")[0])/60\n",
    "    o = val[-1]\n",
    "    if orientation == \"lat\":\n",
    "        if o == 'S':\n",
    "            d *= -1\n",
    "        elif o == 'N':\n",
    "            pass\n",
    "        else:\n",
    "            raise ValueError\n",
    "    elif orientation == \"lon\":\n",
    "        if o == 'W':\n",
    "            d *= -1\n",
    "        elif o == 'E':\n",
    "            pass\n",
    "        else:\n",
    "            raise ValueError\n",
    "    return d\n",
    "\n",
    "df_nat_skip = df_ranks[\"Skipper\"].reset_index(1).reset_index(drop=True).drop_duplicates(keep=\"first\")\n",
    "name = lambda x: df_nat_skip.loc[df[\"Nat. / Voile\"] == x,\"Skipper\"].values[0]\n",
    "\n",
    "\n",
    "lat = lambda x: df_ranks.loc[(slice(None), x),\"Latitude\"].apply(lambda x: convert_to_dms(x, \"lat\"))\n",
    "lon = lambda y: df_ranks.loc[(slice(None), y),\"Longitude\"].apply(lambda x: convert_to_dms(x, \"lon\"))\n",
    "\n",
    "fig = go.Figure()\n",
    "fig.update_layout(\n",
    "    title_text = 'routes',\n",
    "    showlegend = True,\n",
    "    geo = go.layout.Geo(\n",
    "        projection_type = 'orthographic',\n",
    "        showland = True,\n",
    "        landcolor = 'rgb(243, 243, 243)',\n",
    "        countrycolor = 'rgb(204, 204, 204)',\n",
    "    ),\n",
    "    height=700,\n",
    ")\n",
    "\n",
    "fig.add_trace ( go.Scattergeo(text=name(\"FRA 01\"),\n",
    "        lon = lon(\"FRA 01\"),\n",
    "        lat = lat(\"FRA 01\"),\n",
    "        mode = 'lines',\n",
    "        line = dict(width = 1.5,color = 'green'),\n",
    "        opacity = 1, name=name(\"FRA 01\")\n",
    "    ))\n",
    "\n",
    "fig.add_trace ( go.Scattergeo(text=name(\"FRA 85\"),\n",
    "        lon = lon(\"FRA 85\"),\n",
    "        lat = lat(\"FRA 85\"),\n",
    "        mode = 'lines',\n",
    "        line = dict(width = 2.5,color = 'red'),\n",
    "        opacity = 1, name=name(\"FRA 85\")\n",
    "    ))\n",
    "\n",
    "fig.add_trace( go.Scattergeo(lon = lon(\"FRA 17\"), lat = lat(\"FRA 17\"), mode = 'lines',\n",
    "        line = dict(width = 1,color = 'blue'),\n",
    "        opacity = 1 , name=name(\"FRA 17\")), )\n",
    "\n",
    "fig.show()\n",
    "\n"
   ]
  },
  {
   "cell_type": "markdown",
   "metadata": {},
   "source": [
    "###### Sur la carte ci-dessus, nous pouvons voir la route emprutée par 3 skippers. La route de kevin Escoffier a été subitement interrompue car il a fait naufrage et  heureusement, il a été secouru par Jean Le Cam. "
   ]
  }
 ],
 "metadata": {
  "interpreter": {
   "hash": "919c4bc876608df30e21ad47d5f763044b950fa94cbe80d7ddc60daea1db8bcf"
  },
  "kernelspec": {
   "display_name": "Python 3",
   "language": "python",
   "name": "python3"
  },
  "language_info": {
   "codemirror_mode": {
    "name": "ipython",
    "version": 3
   },
   "file_extension": ".py",
   "mimetype": "text/x-python",
   "name": "python",
   "nbconvert_exporter": "python",
   "pygments_lexer": "ipython3",
   "version": "3.8.12"
  }
 },
 "nbformat": 4,
 "nbformat_minor": 4
}
